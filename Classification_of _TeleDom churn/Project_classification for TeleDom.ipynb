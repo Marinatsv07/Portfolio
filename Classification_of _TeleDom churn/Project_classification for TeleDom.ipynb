{
  "cells": [
    {
      "cell_type": "markdown",
      "metadata": {
        "id": "Ei_4xr3s15uE"
      },
      "source": [
        "<h1>Прогнозирование оттока клиентов телеком-оператора ТелеДом</h1>"
      ]
    },
    {
      "cell_type": "markdown",
      "metadata": {
        "id": "7okix1VMUVFn"
      },
      "source": [
        "Оператор связи «ТелеДом» хочет бороться с оттоком клиентов. Для этого его сотрудники начнут предлагать промокоды и специальные условия всем, кто планирует отказаться от услуг связи. Чтобы заранее находить таких пользователей, «ТелеДому» нужна модель, которая будет предсказывать, разорвёт ли абонент договор. Команда оператора собрала персональные данные о некоторых клиентах, информацию об их тарифах и услугах. Задача — обучить на этих данных модель для прогноза оттока клиентов."
      ]
    },
    {
      "cell_type": "markdown",
      "metadata": {
        "id": "wQKaUQ-315uF"
      },
      "source": [
        "\n",
        "<b>Цели и задачи проекта</b>\n",
        "\n",
        "Основная цель проекта – разработать модель машинного обучения, которая сможет предсказывать вероятность оттока клиентов телеком-оператора TeleDom на основе анализа их поведения и использования услуг.\n",
        "\n",
        "\n",
        "Задачи проекта включают:\n",
        "\n",
        "\n",
        "- Анализ предоставленных данных о клиентах и их использовании услуг.<br>\n",
        "- Предобработка данных для подготовки к обучению модели.<br>\n",
        "- Выбор и обучение модели машинного обучения для прогнозирования оттока. <br>\n",
        "- Оценка эффективности модели с использованием соответствующих метрик.<br>\n",
        "\n",
        "Критерии успеха:<br>\n",
        " Проект будет считаться успешным, если достигнуты следующие показатели:\n",
        "\n",
        "- AUC-ROC выше 0.85."
      ]
    },
    {
      "cell_type": "markdown",
      "metadata": {
        "id": "nBr7cSEjIt3U"
      },
      "source": [
        "# **Шаг 1. Загрузка данных**\n",
        "\n",
        "\n",
        "\n",
        "\n"
      ]
    },
    {
      "cell_type": "code",
      "execution_count": null,
      "metadata": {
        "colab": {
          "base_uri": "https://localhost:8080/"
        },
        "id": "D9KaJCzeN7KV",
        "outputId": "b760a9e8-a31d-4493-d4ad-98a9db5b42a4"
      },
      "outputs": [
        {
          "output_type": "stream",
          "name": "stdout",
          "text": [
            "Requirement already satisfied: pyspark in /usr/local/lib/python3.10/dist-packages (3.5.1)\n",
            "Requirement already satisfied: py4j==0.10.9.7 in /usr/local/lib/python3.10/dist-packages (from pyspark) (0.10.9.7)\n"
          ]
        }
      ],
      "source": [
        "!pip install pyspark\n",
        "!pip install phik\n",
        "!pip install catboost\n",
        "!pip install --upgrade scikit-learn\n",
        "\n",
        "import pandas as pd\n",
        "import numpy as np\n",
        "import matplotlib.pyplot as plt\n",
        "import seaborn as sns\n",
        "import phik\n",
        "import sklearn\n",
        "import pickle\n",
        "from sklearn.preprocessing import OneHotEncoder\n",
        "from pyspark.sql import SparkSession\n",
        "from phik import resources, report\n",
        "from sklearn.model_selection import train_test_split, RandomizedSearchCV, cross_val_score\n",
        "from sklearn.compose import ColumnTransformer\n",
        "from sklearn.preprocessing import StandardScaler, OneHotEncoder\n",
        "from sklearn.pipeline import Pipeline\n",
        "from sklearn.impute import SimpleImputer\n",
        "from catboost import CatBoostClassifier, Pool\n",
        "from sklearn.metrics import roc_auc_score\n",
        "from sklearn.metrics import accuracy_score\n",
        "from sklearn.linear_model import LogisticRegression\n",
        "from scipy.stats import uniform\n",
        "from sklearn.metrics import roc_curve, auc\n",
        "from sklearn.metrics import confusion_matrix\n"
      ]
    },
    {
      "cell_type": "code",
      "execution_count": null,
      "metadata": {
        "id": "WAjXZVFeXJhs"
      },
      "outputs": [],
      "source": [
        "RANDOM_STATE=190224"
      ]
    },
    {
      "cell_type": "code",
      "execution_count": null,
      "metadata": {
        "id": "JqJ5uMrYNo4l"
      },
      "outputs": [],
      "source": [
        "from google.colab import drive\n",
        "drive.mount('/content/drive/')"
      ]
    },
    {
      "cell_type": "code",
      "execution_count": null,
      "metadata": {
        "id": "isWjG33VN4Gv"
      },
      "outputs": [],
      "source": [
        "#load datasets\n",
        "contract = pd.read_csv('/content/drive/MyDrive/datasets/contract_new.csv')\n",
        "\n",
        "display(contract.head())"
      ]
    },
    {
      "cell_type": "code",
      "execution_count": null,
      "metadata": {
        "id": "wW-T13rMPnUO"
      },
      "outputs": [],
      "source": [
        "#size of dataset contract\n",
        "contract.shape"
      ]
    },
    {
      "cell_type": "code",
      "execution_count": null,
      "metadata": {
        "id": "Qyu0E0dLQkYo"
      },
      "outputs": [],
      "source": [
        "contract.info()"
      ]
    },
    {
      "cell_type": "code",
      "execution_count": null,
      "metadata": {
        "id": "XQZa0GjVQw4o"
      },
      "outputs": [],
      "source": [
        "print(contract.isnull().sum())"
      ]
    },
    {
      "cell_type": "code",
      "execution_count": null,
      "metadata": {
        "id": "mFYjqpjze082"
      },
      "outputs": [],
      "source": [
        "duplicate_count = contract.duplicated(subset='customerID', keep=False).sum()\n",
        "print(duplicate_count)"
      ]
    },
    {
      "cell_type": "markdown",
      "metadata": {
        "id": "vUZhtbyoUfut"
      },
      "source": [
        "\n",
        "Первичный анализ данных был проведен в наборе данных «контракт». 7043 строки, 8 столбцов. Некоторые типы данных следует изменить, чтобы они лучше соответствовали содержащейся в них информации. Данные следует проверить на наличие явных и скрытых дубликатов."
      ]
    },
    {
      "cell_type": "code",
      "execution_count": null,
      "metadata": {
        "id": "RG1DSBWlO0zC"
      },
      "outputs": [],
      "source": [
        "#load dataset\n",
        "internet = pd.read_csv('/content/drive/MyDrive/datasets/internet_new.csv')\n",
        "display(internet.head())"
      ]
    },
    {
      "cell_type": "code",
      "execution_count": null,
      "metadata": {
        "id": "tCZibHImVJpR"
      },
      "outputs": [],
      "source": [
        "#size of dataset internet\n",
        "internet.shape"
      ]
    },
    {
      "cell_type": "code",
      "execution_count": null,
      "metadata": {
        "id": "zF8CtLOOVJpS"
      },
      "outputs": [],
      "source": [
        "internet.info()"
      ]
    },
    {
      "cell_type": "code",
      "execution_count": null,
      "metadata": {
        "id": "ZfiuhaZDVJpT"
      },
      "outputs": [],
      "source": [
        "print(internet.isnull().sum())"
      ]
    },
    {
      "cell_type": "code",
      "execution_count": null,
      "metadata": {
        "id": "Z38nTtirfdCS"
      },
      "outputs": [],
      "source": [
        "duplicate_count = internet.duplicated(subset='customerID', keep=False).sum()\n",
        "print(duplicate_count)"
      ]
    },
    {
      "cell_type": "markdown",
      "metadata": {
        "id": "z75hgivj15uI"
      },
      "source": [
        "Первичный анализ данных был проведен в наборе данных «Интернет». 5517 строк, 8 столбцов. Некоторые типы данных следует изменить, чтобы они лучше соответствовали содержащейся в них информации."
      ]
    },
    {
      "cell_type": "code",
      "execution_count": null,
      "metadata": {
        "id": "naRJfeyCPPOH"
      },
      "outputs": [],
      "source": [
        "personal = pd.read_csv('/content/drive/MyDrive/datasets/personal_new.csv')\n",
        "display(personal.head())"
      ]
    },
    {
      "cell_type": "code",
      "execution_count": null,
      "metadata": {
        "id": "u0OSY-EVXhah"
      },
      "outputs": [],
      "source": [
        "#size of dataset personal\n",
        "personal.shape"
      ]
    },
    {
      "cell_type": "code",
      "execution_count": null,
      "metadata": {
        "id": "t57No3oYXhah"
      },
      "outputs": [],
      "source": [
        "personal.info()"
      ]
    },
    {
      "cell_type": "code",
      "execution_count": null,
      "metadata": {
        "id": "A9INm_4UXhai"
      },
      "outputs": [],
      "source": [
        "print(personal.isnull().sum())"
      ]
    },
    {
      "cell_type": "code",
      "execution_count": null,
      "metadata": {
        "id": "R-YJQuy6f2Pu"
      },
      "outputs": [],
      "source": [
        "duplicate_count = personal.duplicated(subset='customerID', keep=False).sum()\n",
        "print(duplicate_count)"
      ]
    },
    {
      "cell_type": "code",
      "execution_count": null,
      "metadata": {
        "id": "NB6CO1SFYDk9"
      },
      "outputs": [],
      "source": []
    },
    {
      "cell_type": "markdown",
      "metadata": {
        "id": "N_WPHcHx15uM"
      },
      "source": [
        "Первичный анализ данных был проведен в «personal» наборе данных. 7043 строки, 5 столбцов. Некоторые типы данных следует изменить, чтобы они лучше соответствовали содержащейся в них информации. Данные следует проверить на наличие явных и скрытых дубликатов."
      ]
    },
    {
      "cell_type": "code",
      "execution_count": null,
      "metadata": {
        "id": "UzaWmmtpYVVd"
      },
      "outputs": [],
      "source": []
    },
    {
      "cell_type": "code",
      "execution_count": null,
      "metadata": {
        "id": "qGYogl1IPb9B"
      },
      "outputs": [],
      "source": [
        "phone = pd.read_csv('/content/drive/MyDrive/datasets/phone_new.csv')\n",
        "display(phone.head())"
      ]
    },
    {
      "cell_type": "code",
      "execution_count": null,
      "metadata": {
        "id": "MOX4O6w5Yspq"
      },
      "outputs": [],
      "source": [
        "#size of dataset phone\n",
        "phone.shape"
      ]
    },
    {
      "cell_type": "code",
      "execution_count": null,
      "metadata": {
        "id": "CZ3CO6JdYspr"
      },
      "outputs": [],
      "source": [
        "phone.info()"
      ]
    },
    {
      "cell_type": "code",
      "execution_count": null,
      "metadata": {
        "id": "arK74af7Ysps"
      },
      "outputs": [],
      "source": [
        "print(phone.isnull().sum())"
      ]
    },
    {
      "cell_type": "code",
      "execution_count": null,
      "metadata": {
        "id": "bj28Rfoxf-IC"
      },
      "outputs": [],
      "source": [
        "duplicate_count = phone.duplicated(subset='customerID', keep=False).sum()\n",
        "print(duplicate_count)"
      ]
    },
    {
      "cell_type": "markdown",
      "metadata": {
        "id": "h3mlHFfGZDj0"
      },
      "source": [
        "Первоначальный анализ данных был проведен в наборе данных «Phone». 6361 строка, 2 столбца.Пропущенные данные отсутствуют. Дубликаты по customerID отсуствуют"
      ]
    },
    {
      "cell_type": "markdown",
      "metadata": {
        "id": "SdBtUKyoWGMm"
      },
      "source": [
        "Данные из 4 наборов данных были успешно загружены. Данные необходимо предварительно обработать. Это будет сделано в следующем разделе."
      ]
    },
    {
      "cell_type": "markdown",
      "metadata": {
        "id": "8q47pyhwI5yW"
      },
      "source": [
        "# **Шаг 2. Исследовательский анализ данных и предобработка**"
      ]
    },
    {
      "cell_type": "markdown",
      "metadata": {
        "id": "4pKpfbsmot4o"
      },
      "source": [
        "## Датасет Contract\n",
        "\n",
        "\n",
        "\n",
        "\n",
        "\n",
        "\n",
        "\n",
        "\n",
        "\n",
        "\n",
        "\n",
        "\n",
        "\n"
      ]
    },
    {
      "cell_type": "markdown",
      "metadata": {
        "id": "0dh5PBFy15uN"
      },
      "source": [
        "В данном датасете необходимо выполнить следующие шаги для исследовательского анализа данных и предобработки:<br>\n",
        "-Перевод названия колонок в нижний регистр, так как это является общепринятой практикой.  \n",
        "-Поиск явных дубликатов  \n",
        "-Поиск пропущенных данных  \n",
        "-Удаление явных дубликатов, если они есть  \n",
        "-Перевод формата столбцов с датами в формат datetime64  \n",
        "-Перевод totalcharges в числовой формат  \n",
        "-Если в этой колонке будут найдены  пропуски - это будет означать, что существуют клиенты, которые еще не успели внести ни одну плату, и следовательно эти данные можно будет заменить 0  \n",
        "-Необходимо завести целевую переменную - отток клиентов - если они разорвали контракт в колонке enddate будет стоять дата окончания контракта   \n",
        "-Если дата окончания контракта не стоит, следовательно клиент продолжает пользоваться услугами, и можно заменить пропущенные данные на дату 2020-02-01 - контракты актуальны до этой даты.\n",
        "-Для числовых данных провести анализ на разброс данных и выбросы с помощью графика Boxplot  \n",
        "-Провести анализ распределения целевой переменной Churn.\n",
        "\n",
        "\n",
        "\n"
      ]
    },
    {
      "cell_type": "code",
      "execution_count": null,
      "metadata": {
        "id": "hfbLo9wSd8em"
      },
      "outputs": [],
      "source": [
        "#converting column names to lowercase\n",
        "contract.columns = contract.columns.str.lower()"
      ]
    },
    {
      "cell_type": "code",
      "execution_count": null,
      "metadata": {
        "id": "C0II3TCybVKt"
      },
      "outputs": [],
      "source": [
        "#looking for obvious duplicates\n",
        "duplicates = contract.duplicated()\n",
        "print(duplicates.sum())"
      ]
    },
    {
      "cell_type": "code",
      "execution_count": null,
      "metadata": {
        "id": "00RmHZQBcgev"
      },
      "outputs": [],
      "source": [
        "#delete dublicates\n",
        "contract = contract.drop_duplicates()\n",
        "contract.info()"
      ]
    },
    {
      "cell_type": "code",
      "execution_count": null,
      "metadata": {
        "id": "5_FoX_TOczKZ"
      },
      "outputs": [],
      "source": [
        "# Convert 'begindate' and 'enddate' to datetime\n",
        "contract['begindate'] = pd.to_datetime(contract['begindate'])\n",
        "contract['enddate'] = pd.to_datetime(contract['enddate'], errors='coerce')\n",
        "\n",
        "# Convert 'totalcharges' to numeric, errors='coerce' will replace non-numeric values with NaN\n",
        "contract['totalcharges'] = pd.to_numeric(contract['totalcharges'], errors='coerce')\n",
        "\n",
        "# Check the new data types\n",
        "print(contract.info())"
      ]
    },
    {
      "cell_type": "code",
      "execution_count": null,
      "metadata": {
        "id": "J8ptFOZ1gXvf"
      },
      "outputs": [],
      "source": [
        "# Replacing all types of missing values with 0\n",
        "contract['totalcharges'].fillna(0, inplace=True)"
      ]
    },
    {
      "cell_type": "markdown",
      "metadata": {
        "id": "Fl637Rc815uO"
      },
      "source": [
        "Найденные пропуски totalcharges  предположительно означают,что существуют клиенты, которые еще не успели внести ни одну плату, и следовательно эти данные можно будет заменить 0"
      ]
    },
    {
      "cell_type": "code",
      "execution_count": null,
      "metadata": {
        "id": "1zJdRUI3kYNW"
      },
      "outputs": [],
      "source": [
        "# Creating a target column 'churn' indicating whether a customer has churned\n",
        "# 1 if 'end_date' has a date (the contract was terminated), 0 otherwise\n",
        "contract['churn'] = contract['enddate'].notna().astype(int)\n",
        "\n",
        "# Checking the distribution of the target variable\n",
        "print(contract['churn'].value_counts())"
      ]
    },
    {
      "cell_type": "code",
      "execution_count": null,
      "metadata": {
        "id": "jqY7nBdHeZmS"
      },
      "outputs": [],
      "source": [
        "contract.info()"
      ]
    },
    {
      "cell_type": "code",
      "execution_count": null,
      "metadata": {
        "id": "omHurjRLd2mT"
      },
      "outputs": [],
      "source": [
        "#replace missing end_date because the information in contracts is actual  to 2020-02-01\n",
        "replacement_date = pd.Timestamp('2020-02-01')\n",
        "contract['enddate'] = contract['enddate'].fillna(replacement_date)"
      ]
    },
    {
      "cell_type": "code",
      "execution_count": null,
      "metadata": {
        "id": "cZTVzzzmeAUy"
      },
      "outputs": [],
      "source": [
        "contract.head(3)"
      ]
    },
    {
      "cell_type": "code",
      "execution_count": null,
      "metadata": {
        "id": "knW9CXL8lOYI"
      },
      "outputs": [],
      "source": [
        "# Set the aesthetic style of the plots\n",
        "sns.set_style(\"whitegrid\")\n",
        "\n",
        "# Creating boxplots for 'monthlycharges' and 'totalcharges'\n",
        "plt.figure(figsize=(12, 5))\n",
        "\n",
        "plt.subplot(1, 2, 1)\n",
        "sns.boxplot(x=contract['monthlycharges'])\n",
        "plt.title('Boxplot of Monthly Charges')\n",
        "\n",
        "plt.subplot(1, 2, 2)\n",
        "sns.boxplot(x=contract['totalcharges'])\n",
        "plt.title('Boxplot of Total Charges')\n",
        "\n",
        "plt.show()"
      ]
    },
    {
      "cell_type": "markdown",
      "metadata": {
        "id": "BlqYB1MuWiOh"
      },
      "source": [
        "Был проведен анализ аномалий и выбросов, при этом особое внимание было уделено столбцу TotalCharges. В результате анализа стало ясно, что в данных наблюдаются значительные разбросы, что может указывать на наличие долгосрочных клиентов с высокими общими затратами."
      ]
    },
    {
      "cell_type": "code",
      "execution_count": null,
      "metadata": {
        "id": "xHEPg-Ta15uO"
      },
      "outputs": [],
      "source": [
        "columns = ['type', 'paperlessbilling', 'paymentmethod', 'churn']\n",
        "\n",
        "fig, axes = plt.subplots(nrows=len(columns), ncols=1, figsize=(10, 20))\n",
        "\n",
        "for i, col in enumerate(columns):\n",
        "\n",
        "    value_counts = contract[col].value_counts(normalize=True) * 100\n",
        "    value_counts.plot(kind='bar', ax=axes[i], title=col, color='skyblue')\n",
        "    axes[i].set_ylabel('Percentage (%)')\n",
        "    axes[i].set_xlabel('')\n",
        "\n",
        "plt.tight_layout()\n",
        "plt.show()"
      ]
    },
    {
      "cell_type": "markdown",
      "metadata": {
        "id": "ovrQtaoT15uP"
      },
      "source": [
        "Среди типов оплаты контракта преобладает  -ежемесячный"
      ]
    },
    {
      "cell_type": "markdown",
      "metadata": {
        "id": "iARMr1CM15uP"
      },
      "source": [
        "Электронный тип оплаты преобадает,остальные 3 типа оплаты занимают примерно одинаковые пропорции"
      ]
    },
    {
      "cell_type": "markdown",
      "metadata": {
        "id": "AVNY90Yk15uP"
      },
      "source": [
        "Электронный расчётный лист запрашивает больше половины клиентов."
      ]
    },
    {
      "cell_type": "code",
      "execution_count": null,
      "metadata": {
        "id": "gilrcL7Xl-qm"
      },
      "outputs": [],
      "source": [
        "contract['churn'].describe()"
      ]
    },
    {
      "cell_type": "markdown",
      "metadata": {
        "id": "OCs0FB6OXWjM"
      },
      "source": [
        "В рамках раздела «Исследовательский анализ и предварительная обработка данных» для набора данных «Contract» были выполнены следующие действия и сделаны соответствующие выводы:\n",
        "\n",
        "Предварительная проверка данных. Набор данных был тщательно проверен на предмет типов данных, пропущенных значений и общего содержания. Было обнаружено, что данные содержат как числовые, так и категориальные характеристики, а также отсутствующие значения в столбце EndDate.\n",
        "\n",
        "Обработка пропущенных значений. Отсутствующие значения в EndDate интерпретировались как индикаторы текущих контрактов (клиенты продолжают пользоваться услугами). Эти значения заменены на дату 01.02.2020 - данные в договорах актуальны до этой даты.\n",
        "\n",
        "Анализ и обработка аномалий. Был проведен анализ аномалий и выбросов, при этом особое внимание было уделено столбцу TotalCharges. В результате анализа стало ясно, что в данных наблюдаются значительные разбросы, что может указывать на наличие долгосрочных клиентов с высокими общими затратами.\n",
        "\n",
        "Среди типов оплаты контракта преобладает -ежемесячный.Электронный расчётный лист запрашивает больше половины клиентов. Электронный тип оплаты преобадает.\n",
        "\n",
        "Анализ целевой переменной: был проведен анализ распределения целевой переменной (отток клиентов), который показал, что около 15,63% клиентов расторгли договор. Это обеспечивает основу для дальнейшего построения модели прогнозирования оттока клиентов."
      ]
    },
    {
      "cell_type": "markdown",
      "metadata": {
        "id": "CWpgcjb_rSga"
      },
      "source": [
        "## Датасет **Internet**"
      ]
    },
    {
      "cell_type": "markdown",
      "metadata": {
        "id": "2AUTHaR815uP"
      },
      "source": [
        "В данном датасете необходимо выполнить следующие шаги для исследовательского анализа данных и предобработки:<br> -Перевод названия колонок в нижний регистр, так как это является общепринятой практикой.   \n",
        "-Поиск пропущенных данных  \n",
        "-Дубликаты в данном датасете не требуют удаления,так как данные в колонках не носят персонафицированный характер и могут быть одинакомыми для нескольких клиентов   \n",
        "-Проанализировать  распределение категориальных данных"
      ]
    },
    {
      "cell_type": "code",
      "execution_count": null,
      "metadata": {
        "id": "3Ypn7wlts3Qe"
      },
      "outputs": [],
      "source": [
        "internet.head()"
      ]
    },
    {
      "cell_type": "code",
      "execution_count": null,
      "metadata": {
        "id": "4t6YGCO7rfqc"
      },
      "outputs": [],
      "source": [
        "#converting column names to lowercase\n",
        "internet.columns = internet.columns.str.lower()"
      ]
    },
    {
      "cell_type": "code",
      "execution_count": null,
      "metadata": {
        "id": "YMD3cgNOrfqd"
      },
      "outputs": [],
      "source": [
        "internet.info()"
      ]
    },
    {
      "cell_type": "code",
      "execution_count": null,
      "metadata": {
        "id": "1z1YNck3rfqd"
      },
      "outputs": [],
      "source": [
        "columns = ['internetservice', 'onlinesecurity', 'onlinebackup', 'deviceprotection',\n",
        "           'techsupport', 'streamingtv', 'streamingmovies']\n",
        "\n",
        "fig, axes = plt.subplots(nrows=len(columns), ncols=1, figsize=(10, 20))\n",
        "\n",
        "for i, col in enumerate(columns):\n",
        "\n",
        "    value_counts = internet[col].value_counts(normalize=True) * 100\n",
        "    value_counts.plot(kind='bar', ax=axes[i], title=col, color='skyblue')\n",
        "    axes[i].set_ylabel('Percentage (%)')\n",
        "    axes[i].set_xlabel('')\n",
        "\n",
        "plt.tight_layout()\n",
        "plt.show()"
      ]
    },
    {
      "cell_type": "markdown",
      "metadata": {
        "id": "lAGF3p_FX0WV"
      },
      "source": [
        "Использование оптоволокна: примерно 56,12% пользователей используют оптоволоконное подключение к Интернету. Это свидетельствует о высокой популярности оптоволокна среди рассматриваемой выборки пользователей.\n",
        "\n",
        "Интернет-безопасность: около 36,60% пользователей подписываются на службу онлайн-безопасности. Это показывает, что услуга не так популярна, как могла бы быть, возможно, из-за дополнительной стоимости или недостаточной осведомленности пользователей о преимуществах.\n",
        "\n",
        "Онлайн-резервное копирование. Службой онлайн-резервного копирования пользуются примерно 44,03% пользователей. Это говорит об умеренной популярности сервиса.\n",
        "\n",
        "Защита устройства. Примерно 43,90% пользователей воспользовались услугой защиты устройств, что практически идентично популярности онлайн-резервного копирования.\n",
        "\n",
        "Техподдержка: услугами технической поддержки пользуются около 37,05% пользователей, что делает ее сравнительно менее популярной среди предлагаемых услуг.\n",
        "\n",
        "Интернет-телевидение (потоковое телевидение): почти половина пользователей (49,07%) используют сервис потокового телевидения, что делает его одним из наиболее популярных сервисов среди рассмотренных.\n",
        "\n",
        "Фильмы через Интернет (Streaming Movies): Чуть более популярным, чем потоковое телевидение, является сервис потокового кино, которым пользуются 49,52% пользователей.\n",
        "\n",
        "Вывод: в целом данные показывают, что услуги, связанные с развлечениями (такие как потоковое телевидение и фильмы), более популярны, чем услуги безопасности и поддержки (такие как онлайн-безопасность и техническая поддержка). Оптоволоконные подключения к Интернету также очень популярны, что может указывать на желание пользователей иметь высокоскоростное соединение для более требовательных услуг, таких как потоковое видео."
      ]
    },
    {
      "cell_type": "markdown",
      "metadata": {
        "id": "_28VfVPWrfqd"
      },
      "source": [
        "**Summary of Step 2: Exploratory Data Analysis and Preprocessing (Dataset \"Internet\")**\n",
        "\n"
      ]
    },
    {
      "cell_type": "markdown",
      "metadata": {
        "id": "BQTuNIavYPjn"
      },
      "source": [
        "Анализ показал, что, хотя большинство клиентов предпочитают оптоволоконное соединение, другие услуги, такие как онлайн-резервное копирование и потоковая передача, также пользуются значительной популярностью.\n",
        "Отсутствие спроса на некоторые дополнительные услуги, такие как онлайн-безопасность и защита устройств, может иметь решающее значение при принятии решений относительно стратегии предоставления услуг и маркетинговой политики.\n",
        "Предлагаемые услуги могут быть оптимизированы на основе предпочтений клиентов, выявленных в результате анализа данных, с целью повышения удовлетворенности клиентов и сокращения их оттока."
      ]
    },
    {
      "cell_type": "markdown",
      "metadata": {
        "id": "eYpX6mWFrref"
      },
      "source": [
        "## Датасет **Personal**\n",
        "\n",
        "\n",
        "\n",
        "\n",
        "\n",
        "\n",
        "\n",
        "\n",
        "\n",
        "\n",
        "\n",
        "\n",
        "\n"
      ]
    },
    {
      "cell_type": "markdown",
      "metadata": {
        "id": "tUVwTy-H15uQ"
      },
      "source": [
        "В данном датасете необходимо выполнить следующие шаги для исследовательского анализа данных и предобработки:<br> -Перевод названия колонок в нижний регистр, так как это является общепринятой практикой.  \n",
        "-Поиск пропущенных данных  \n",
        "-Дубликаты в данном датасете не требуют удаления,так как данные в колонках не носят персонафицированный характер и могут быть одинакомыми для нескольких клиентов  \n",
        "-Проанализировать распределение категориальных данных  "
      ]
    },
    {
      "cell_type": "code",
      "execution_count": null,
      "metadata": {
        "id": "e6htXc9zrrev"
      },
      "outputs": [],
      "source": [
        "#converting column names to lowercase\n",
        "personal.columns = personal.columns.str.lower()"
      ]
    },
    {
      "cell_type": "code",
      "execution_count": null,
      "metadata": {
        "id": "zRZC-O7mrrev"
      },
      "outputs": [],
      "source": [
        "#looking for obvious duplicates\n",
        "personal.info()"
      ]
    },
    {
      "cell_type": "code",
      "execution_count": null,
      "metadata": {
        "id": "b4rPUFtwSecF"
      },
      "outputs": [],
      "source": [
        "personal.head()"
      ]
    },
    {
      "cell_type": "code",
      "execution_count": null,
      "metadata": {
        "id": "FsXXxf0_XGW8"
      },
      "outputs": [],
      "source": [
        "# Viewing unique values for each column\n",
        "for column in personal.columns:\n",
        "    print(f\"Unique values in column {column}: {personal[column].unique()}\")"
      ]
    },
    {
      "cell_type": "code",
      "execution_count": null,
      "metadata": {
        "id": "2rrxXmciauUB"
      },
      "outputs": [],
      "source": [
        "personal.info()"
      ]
    },
    {
      "cell_type": "code",
      "execution_count": null,
      "metadata": {
        "id": "KK-4WPz7iWh8"
      },
      "outputs": [],
      "source": [
        "columns = ['gender', 'seniorcitizen', 'partner', 'dependents']\n",
        "\n",
        "fig, axes = plt.subplots(nrows=len(columns), ncols=1, figsize=(10, 20))\n",
        "\n",
        "for i, col in enumerate(columns):\n",
        "\n",
        "    value_counts = personal[col].value_counts(normalize=True) * 100\n",
        "    value_counts.plot(kind='bar', ax=axes[i], title=col, color='skyblue')\n",
        "    axes[i].set_ylabel('Percentage (%)')\n",
        "    axes[i].set_xlabel('')\n",
        "\n",
        "plt.tight_layout()\n",
        "plt.show()"
      ]
    },
    {
      "cell_type": "markdown",
      "metadata": {
        "id": "bjIrSliuYs2V"
      },
      "source": [
        "Пожилые люди: примерно 16,2% подписчиков — пожилые люди. Это свидетельствует о том, что большая часть абонентов (около 83,8%) не попадает в категорию старшего поколения.\n",
        "\n",
        "Пол: Распределение по полу показывает, что примерно 50,5% подписчиков составляют мужчины, что означает почти равное распределение мужчин и женщин среди подписчиков. Это свидетельствует о хорошем гендерном балансе в выборке.\n",
        "\n",
        "Партнер: Примерно 48,3% подписчиков указали, что у них есть партнер. Это говорит о том, что распределение между подписчиками с партнерами и без партнеров вполне равномерное, с небольшим уклоном в сторону отсутствия партнера.\n",
        "\n",
        "Иждивенцы: только около 30% подписчиков имеют иждивенцев. Это показывает, что у большинства подписчиков нет иждивенцев, что может указывать на молодую аудиторию или аудиторию, состоящую из людей среднего возраста, не имеющих детей или других иждивенцев."
      ]
    },
    {
      "cell_type": "markdown",
      "metadata": {
        "id": "pQq2jiJ3cK7v"
      },
      "source": [
        "На основе исследовательского анализа данных и предварительной обработки «Personal» набора данных:\n",
        "\n",
        "Набор данных состоит из 7043 записей с четырьмя столбцами: «пол», «пожилой гражданин», «партнер» и «иждивенцы».\n",
        "\n",
        "Информация о визуализации: Благодаря визуализации мы получили ценную информацию о составе демографической группы набора данных. Например, доля пожилых людей в наборе данных составляет примерно 16,2%, что указывает на меньшинство населения с потенциально разными потребностями и предпочтениями. Распределение по гендерному признаку почти сбалансировано: незначительное большинство клиентов-мужчин. Данные о статусе партнерства и зависимости показывают разнообразную клиентскую базу: менее половины клиентов имеют партнеров или иждивенцев. Эти идеи могут сыграть важную роль в адаптации услуг и маркетинговых стратегий для удовлетворения различных потребностей клиентской базы."
      ]
    },
    {
      "cell_type": "markdown",
      "metadata": {
        "id": "RJhCAxOWrrew"
      },
      "source": [
        "## Датасет **Phone**"
      ]
    },
    {
      "cell_type": "markdown",
      "metadata": {
        "id": "KITDVJfS15uR"
      },
      "source": [
        "В данном датасете необходимо выполнить следующие шаги для исследовательского анализа данных и предобработки: -Перевод названия колонок в нижний регистр, так как это является общепринятой практикой.  \n",
        "-Поиск пропущенных данных  \n",
        "-Дубликаты в данном датасете не требуют удаления,так как данные в колонках не носят персонафицированный характер и могут быть одинакомыми для нескольких клиентов  \n",
        "-Проанализировать распределение категориальных данных  "
      ]
    },
    {
      "cell_type": "code",
      "execution_count": null,
      "metadata": {
        "id": "bJLV7XP3rrew"
      },
      "outputs": [],
      "source": [
        "#converting column names to lowercase\n",
        "phone.columns = phone.columns.str.lower()"
      ]
    },
    {
      "cell_type": "code",
      "execution_count": null,
      "metadata": {
        "id": "I0jhKpIdmNb4"
      },
      "outputs": [],
      "source": [
        "phone.info()"
      ]
    },
    {
      "cell_type": "code",
      "execution_count": null,
      "metadata": {
        "id": "JCnrAOqCm698"
      },
      "outputs": [],
      "source": [
        "phone.head()"
      ]
    },
    {
      "cell_type": "code",
      "execution_count": null,
      "metadata": {
        "id": "qhwV8so6rrex"
      },
      "outputs": [],
      "source": [
        "value_counts = phone['multiplelines'].value_counts(normalize=True) * 100\n",
        "\n",
        "# Visualisation\n",
        "plt.figure(figsize=(8, 6))\n",
        "value_counts.plot(kind='bar', color='skyblue')\n",
        "plt.title('Multiple Lines Option Distribution')\n",
        "plt.ylabel('Percentage (%)')\n",
        "plt.xlabel('Multiple Lines Option')\n",
        "plt.xticks(rotation=45)\n",
        "plt.show()"
      ]
    },
    {
      "cell_type": "markdown",
      "metadata": {
        "id": "HsotuWjZcoew"
      },
      "source": [
        "Данные о функции нескольких линий в наборе телефонных данных иллюстрируют сбалансированное распределение предпочтений клиентов в отношении услуг нескольких линий с небольшим уклоном в сторону отсутствия нескольких линий. Эта информация может быть полезна для понимания потребностей клиентов и соответствующей адаптации услуг или маркетинговых стратегий."
      ]
    },
    {
      "cell_type": "markdown",
      "metadata": {
        "id": "kBSRcYmT15uR"
      },
      "source": [
        "**Вывод по исследовальскому анализу данных (Датасет \"Phone\")**"
      ]
    },
    {
      "cell_type": "markdown",
      "metadata": {
        "id": "c1-r5fNOcnMO"
      },
      "source": [
        "Набор данных состоит из 6361 записи с столбцами: «multiplelines».\n",
        "\n",
        "Столбец «multiplelines» указывает, есть ли у клиента несколько строк (Да) или нет (Нет). Набор данных показывает, что примерно 53,29% клиентов не имеют нескольких линий, а около 46,71% имеют несколько линий. Эта информация дает представление о распределении функций телефонных услуг среди клиентов, что может быть полезно для понимания предпочтений клиентов и оптимизации предложений услуг."
      ]
    },
    {
      "cell_type": "markdown",
      "metadata": {
        "id": "phVdrBF9JD1a"
      },
      "source": [
        "\n",
        "# **Шаг 3 Объединение данных**"
      ]
    },
    {
      "cell_type": "code",
      "execution_count": null,
      "metadata": {
        "id": "Li2vckdU3b95"
      },
      "outputs": [],
      "source": [
        "# Merge contract с personal\n",
        "merged_df = contract.merge(personal, on='customerid', how='outer')\n",
        "\n",
        "# Add data from  internet\n",
        "merged_df = merged_df.merge(internet, on='customerid', how='outer')\n",
        "\n",
        "# Add data from phone\n",
        "final_df = merged_df.merge(phone, on='customerid', how='outer')"
      ]
    },
    {
      "cell_type": "markdown",
      "metadata": {
        "id": "or598HB715uR"
      },
      "source": [
        "Для объединения данных в данном случае лучше всего выбрать  объединение outer  так как этот тип объединения позволяет сохранить полную информацию по всем клиентам, включая тех, кто может быть только в одном из датасетов. Это важно для комплексного анализа клиентской базы, где некоторые клиенты могут пользоваться только определенными услугами."
      ]
    },
    {
      "cell_type": "code",
      "execution_count": null,
      "metadata": {
        "id": "_ioBaDUGv3pt"
      },
      "outputs": [],
      "source": [
        "\n",
        "\n",
        "# Display the first few rows of the DataFrame\n",
        "display(final_df .head())"
      ]
    },
    {
      "cell_type": "code",
      "execution_count": null,
      "metadata": {
        "id": "KsHZHAgUrg2B"
      },
      "outputs": [],
      "source": [
        "final_df .info()"
      ]
    },
    {
      "cell_type": "markdown",
      "metadata": {
        "id": "SBh9mxr_15uS"
      },
      "source": [
        "Всего 7043 записи, что соответствует исходному количеству клиентов в датасете contract. Это указывает на то, что каждая запись в датасете contract нашла соответствие хотя бы в одном из других датасетов, или же все записи из contract были сохранены в результате объединения типом outer.  \n",
        "Присутствие пропусков в данных: Пропуски в столбцах, связанных с интернет-услугами (internetservice, onlinesecurity, onlinebackup, deviceprotection, techsupport, streamingtv, streamingmovies) и телефонными услугами (multiplelines), говорят о том, что не все клиенты пользуются этими услугами. Так, интернет-услугами пользуются 5517 клиентов, а услугами телефонии — 6361 клиент. <br>Для дальнейшего анализа необходимо ввести новую переменную -'Длительность контракта' - это позволит понять насколько долго клиенты остаются с компанией.А для дальнейшей работы с данными предполагается создать новый датафрейм и добавить в него только необходимые для анализа колонки."
      ]
    },
    {
      "cell_type": "code",
      "execution_count": null,
      "metadata": {
        "id": "83Oruo7D9-3s"
      },
      "outputs": [],
      "source": [
        "duplicate_count = final_df.duplicated(subset='customerid', keep=False).sum()\n",
        "print(duplicate_count)"
      ]
    },
    {
      "cell_type": "code",
      "execution_count": null,
      "metadata": {
        "id": "2LHV1woG8-oO"
      },
      "outputs": [],
      "source": [
        "# #assigning a column index\n",
        "# final_df.set_index('customerid', inplace=True)"
      ]
    },
    {
      "cell_type": "code",
      "execution_count": null,
      "metadata": {
        "id": "cFnhujfu96_I"
      },
      "outputs": [],
      "source": [
        "final_df.info()"
      ]
    },
    {
      "cell_type": "code",
      "execution_count": null,
      "metadata": {
        "id": "xO35qFJQuemT"
      },
      "outputs": [],
      "source": [
        "# Calculate the duration of the contract and adding new column\n",
        "final_df['contract_duration'] = (final_df['enddate'] - final_df['begindate']).dt.days"
      ]
    },
    {
      "cell_type": "markdown",
      "metadata": {
        "id": "_2fshAwy15uS"
      },
      "source": [
        "Была вычислена длительность контракта каждого клиента в днях, вычитая дату начала контракта (begindate) из даты его окончания (enddate). Результат был сохранен в новом столбце contract_duration. Это позволяет анализировать, насколько долго клиенты остаются с компанией, что является важным показателем для понимания лояльности клиентов и оттока"
      ]
    },
    {
      "cell_type": "code",
      "execution_count": null,
      "metadata": {
        "id": "hOjGKohtupjX"
      },
      "outputs": [],
      "source": [
        "final_df.head()"
      ]
    },
    {
      "cell_type": "code",
      "execution_count": null,
      "metadata": {
        "id": "s8PUCBkgu4Ft"
      },
      "outputs": [],
      "source": [
        "final_df.info()"
      ]
    },
    {
      "cell_type": "code",
      "execution_count": null,
      "metadata": {
        "id": "GfrBqslgAMqM"
      },
      "outputs": [],
      "source": [
        "cols = final_df.select_dtypes(include=['object','float']).columns.tolist()\n",
        "# add manually identified columns\n",
        "additional_cols = ['churn','contract_duration', 'seniorcitizen']\n",
        "\n",
        "# Combine lists while ensuring uniqueness\n",
        "cols = list(set(cols + additional_cols))\n",
        "df = final_df[cols].copy()"
      ]
    },
    {
      "cell_type": "markdown",
      "metadata": {
        "id": "9xSvXLx915uT"
      },
      "source": [
        "В данной ячейке был сформирован список столбцов для дальнейшего  анализа, включая категориальные и вещественные переменные, а также важные идентифицированные нами столбцы churn, contract_duration. Это позволяет сфокусироваться на ключевых данных, подготовить их к анализу и моделированию, обеспечивая при этом уникальность и актуальность выборки столбцов"
      ]
    },
    {
      "cell_type": "code",
      "execution_count": null,
      "metadata": {
        "id": "dmkZtnVnHGPW"
      },
      "outputs": [],
      "source": [
        "df.info()"
      ]
    },
    {
      "cell_type": "markdown",
      "metadata": {
        "id": "_BuXSmUgANL6"
      },
      "source": [
        "## **Вывод**\n"
      ]
    },
    {
      "cell_type": "markdown",
      "metadata": {
        "id": "ehtlhNmadVWB"
      },
      "source": [
        "Наборы данных успешно объединены. После получения комбинации данных необходимо провести предварительную обработку данных. Для этого будут найдены и при необходимости удалены дубликаты. Поскольку большой процент клиентов не подключены к сети, данные о них отключены в Интернете. Все недостающие данные из-за этого будут иметь значение новое введенное значенин Not Applicable. Что касается мультилиний, предположение то же - из-за отсутствия в таблице того, что у клиентов нет мультистрок - пропущенные значения будут заполнены также Not Applicable."
      ]
    },
    {
      "cell_type": "markdown",
      "metadata": {
        "id": "jy0pi681JWVc"
      },
      "source": [
        "# **Шаг  4. Исследовательский анализ данных и предобработка объединенного датафрейма**"
      ]
    },
    {
      "cell_type": "markdown",
      "metadata": {
        "id": "v1Tj9ZRa1qJ0"
      },
      "source": []
    },
    {
      "cell_type": "code",
      "execution_count": null,
      "metadata": {
        "id": "50zvbBjn3CEz"
      },
      "outputs": [],
      "source": [
        "#looking for obvious duplicates\n",
        "duplicates = df.duplicated(keep=False)\n",
        "\n",
        "\n",
        "display(df[duplicates])\n",
        "print(duplicates.sum())"
      ]
    },
    {
      "cell_type": "code",
      "execution_count": null,
      "metadata": {
        "id": "pKMArFIP3CFM"
      },
      "outputs": [],
      "source": [
        "# counting persent of dublicates\n",
        "duplicates = df.duplicated(keep=False).sum()\n",
        "percentage_duplicates = (duplicates / len(df)) * 100\n",
        "\n",
        "print(f\"persent of dublicates: {percentage_duplicates}%\")"
      ]
    },
    {
      "cell_type": "code",
      "execution_count": null,
      "metadata": {
        "id": "ucLtjnuVALCV"
      },
      "outputs": [],
      "source": [
        "# fillimg missing values to multiplelines\n",
        "df['multiplelines'].fillna('Not Applicable', inplace=True)\n",
        "\n",
        "# check results\n",
        "print(df[[ 'multiplelines']].info())"
      ]
    },
    {
      "cell_type": "code",
      "execution_count": null,
      "metadata": {
        "id": "4Tacwn9OJI5B"
      },
      "outputs": [],
      "source": [
        "# Assume missing values indicate no internet service\n",
        "\n",
        "internet_service_columns = ['internetservice',\n",
        "    'onlinesecurity', 'onlinebackup', 'deviceprotection',\n",
        "    'techsupport', 'streamingtv', 'streamingmovies'\n",
        "]\n",
        "# Fill missing values\n",
        "\n",
        "# For columns indicating presence of a service, fill missing values with Not Applicable (service is not provided)\n",
        "df[internet_service_columns] = df[internet_service_columns].fillna('Not Applicable')\n",
        "\n",
        "\n",
        "df.info()"
      ]
    },
    {
      "cell_type": "code",
      "execution_count": null,
      "metadata": {
        "id": "mWz4jP0LKhth"
      },
      "outputs": [],
      "source": [
        "# Visualisation of numeric features\n",
        "num_features = ['monthlycharges', 'totalcharges', 'contract_duration']\n",
        "for feature in num_features:\n",
        "    plt.figure(figsize=(10, 6))\n",
        "    sns.histplot(df[feature], kde=True, bins=30)\n",
        "    plt.title(f'distribution {feature}')\n",
        "    plt.xlabel(feature)\n",
        "    plt.ylabel('amount')\n",
        "    plt.show()"
      ]
    },
    {
      "cell_type": "code",
      "execution_count": null,
      "metadata": {
        "id": "CWN-oLer_4yK"
      },
      "outputs": [],
      "source": []
    },
    {
      "cell_type": "markdown",
      "metadata": {
        "id": "yWEFDcGAd2Ew"
      },
      "source": [
        "Глядя на график, можно сказать, что для обоих столбцов в начале графика наблюдается рост. для ежемесячных начислений это значение около 20, а для общих начислений близко к 0. для ежемесячных начислений происходит плавное увеличение суммы до 80, а затем плавное уменьшение\n",
        "Для столбца длительность контракта - характерно большое количество краткосрочных контрактов - затем постепенное уменьшение и небольшой пик на значениях около 2500"
      ]
    },
    {
      "cell_type": "code",
      "execution_count": null,
      "metadata": {
        "id": "5e9H2h4OA1hk"
      },
      "outputs": [],
      "source": [
        "df.info()"
      ]
    },
    {
      "cell_type": "code",
      "execution_count": null,
      "metadata": {
        "id": "z338ffa2BAKr"
      },
      "outputs": [],
      "source": [
        "# Visualisation of numeric features\n",
        "num_features = ['monthlycharges', 'totalcharges','contract_duration' ]\n",
        "for feature in num_features:\n",
        "    plt.figure(figsize=(10, 6))\n",
        "    sns.histplot(df[feature], kde=True, bins=30)\n",
        "    plt.title(f'distribution {feature}')\n",
        "    plt.xlabel(feature)\n",
        "    plt.ylabel('amount')\n",
        "    plt.show()"
      ]
    },
    {
      "cell_type": "code",
      "execution_count": null,
      "metadata": {
        "id": "1S0RMigsLClF"
      },
      "outputs": [],
      "source": [
        "#Distribution of Churn\n",
        "plt.figure(figsize=(8, 5))\n",
        "sns.countplot(x='churn', data=df)\n",
        "plt.title('Distribution of Churn')\n",
        "plt.show()"
      ]
    },
    {
      "cell_type": "markdown",
      "metadata": {
        "id": "8-dlWIqle1_f"
      },
      "source": [
        "Для целевой переменной существует большой дисбаланс классов. Однако выбранная метрика оценки — площадь под ROC-кривой — является устойчивой к дисбалансу классов.  Это делает ROC-AUC подходящей метрикой  позволяя сосредоточиться на улучшении способности модели различать классы, а не только на точности предсказаний."
      ]
    },
    {
      "cell_type": "code",
      "execution_count": null,
      "metadata": {
        "id": "7_3ahz26LJWh"
      },
      "outputs": [],
      "source": [
        "df_for_phik = df.drop(columns=['customerid'])\n",
        "\n",
        "# Specify your interval columns. For example, 'monthlycharges' and 'totalcharges' are numerical.\n",
        "interval_columns = ['monthlycharges', 'totalcharges', 'contract_duration']\n",
        "\n",
        "# Calculate the phik correlation matrix\n",
        "phik_matrix = df_for_phik.phik_matrix(interval_cols=interval_columns)\n",
        "\n",
        "# Extract the 'churn' column to get correlations with 'churn' only\n",
        "churn_correlation = phik_matrix['churn'].sort_values(ascending=False)\n",
        "\n",
        "\n",
        "churn_correlation = churn_correlation.drop('customerid', errors='ignore')\n",
        "\n",
        "# Print the correlation of 'churn' with all other variables\n",
        "print(churn_correlation)\n",
        "\n",
        "# # Visualize the phik correlation matrix\n",
        "# plt.figure(figsize=(12, 10))\n",
        "# sns.heatmap(phik_matrix.drop(index=['customerid'], columns=['customerid'], errors='ignore'), annot=True, fmt=\".2f\", cmap='coolwarm', square=True)\n",
        "# plt.title(\"Phik Correlation Matrix\")\n",
        "# plt.show()"
      ]
    },
    {
      "cell_type": "code",
      "execution_count": null,
      "metadata": {
        "id": "Hwpc07i8K99v",
        "scrolled": true
      },
      "outputs": [],
      "source": [
        "# display(phik_matrix)"
      ]
    },
    {
      "cell_type": "markdown",
      "metadata": {
        "id": "-8aTGW_oe9-H"
      },
      "source": [
        "<!-- Totalcharges имеет заметную положительную корреляцию с онлайн защитой,онлайн бэкап,стриминговые сервисами,и стримингТВ что указывает на то, что клиенты с этими услугами, как правило, имеют более высокие общие расходы.\n",
        "\n",
        "Статус пенсионера коррелирует заметно с иждивенцами, что логично и также с ежемесячными тратами.\n",
        "\n",
        "Подключенные мул\n",
        "\n",
        "онлайн-безопасность заметно коррелирует с технической поддержкой (0,527941), что позволяет предположить, что клиенты, выбирающие услуги онлайн-безопасности, также склонны пользоваться технической поддержкой.\n",
        "\n",
        "Способ оплаты «Электронный чек» имеет заметную корреляцию с безбумажным выставлением счетов (0,321028), что может означать, что клиенты, которые платят с помощью электронных чеков, с большей вероятностью выберут безбумажный счет.\n",
        "\n",
        "Contract_duration показывает очень сильную корреляцию с общими расходами (0,848304), указывая на то, что более длительные контракты связаны с более высокими общими расходами.\n",
        "\n",
        "Internet_service имеет высокую корреляцию с несколькими функциями, такими как защита устройства (0,562002), техническая поддержка (0,502876) и онлайн-резервное копирование (0,563092), что позволяет предположить, что тип интернет-услуги влияет на внедрение этих дополнительных услуг.\n",
        "\n",
        "\n",
        "Ежемесячные расходы и потоковое телевидение (0,835016) демонстрируют очень сильную корреляцию, указывающую на то, что клиенты, пользующиеся услугами потокового телевидения, как правило, имеют более высокие ежемесячные расходы.\n",
        "\n",
        "В строке и столбце оттока показаны корреляции с различными признаками, но ни один из них не является чрезвычайно высоким, что указывает на то, что ни один признак сам по себе не является окончательным предиктором оттока. Эта матрица полезна для выявления взаимосвязей между различными атрибутами и поведением клиентов, которые могут служить основой для бизнес-стратегий, маркетинга, обслуживания клиентов и усилий по их удержанию.\n",
        "\n",
        "Продолжительность контракта (0,375). Значительная положительная корреляция предполагает, что более длительный срок контракта связан с более высоким уровнем оттока клиентов. Это может указывать на проблемы с обязательствами клиентов или неудовлетворенность ими с течением времени.\n",
        "\n",
        "Общие расходы (0,303): демонстрирует умеренную положительную корреляцию с оттоком. Более высокие общие расходы могут привести к увеличению оттока клиентов, возможно, из-за воспринимаемой ценности или финансовых ограничений с точки зрения клиента.\n",
        "\n",
        "Партнер (0,227) и Ежемесячные платежи (0,226): оба демонстрируют одинаковый уровень положительной корреляции с оттоком. Наличие партнера и более высокие ежемесячные платежи умеренно способствуют оттоку клиентов. Это может отразиться на финансовом бремени и динамике принятия решений в домохозяйствах.\n",
        "\n",
        "Способ оплаты (0,215): умеренная корреляция указывает на то, что выбор способа оплаты влияет на отток клиентов. Определенные методы могут быть менее удобными или менее предпочтительными, что влияет на удовлетворенность и удержание клиентов.\n",
        "\n",
        "Несколько линий (0,105): более низкая положительная корреляция предполагает, что наличие нескольких линий незначительно влияет на отток клиентов. Это может указывать на сложности или уровень удовлетворенности масштабируемостью услуги.\n",
        "\n",
        "Тип (0,094), онлайн-резервное копирование (0,090) и потоковая передача фильмов (0,087): эти функции демонстрируют меньшую корреляцию с оттоком, что указывает на умеренное влияние типа услуги, вариантов резервного копирования данных и развлекательных функций на удержание клиентов. «Пожилой гражданин» (0,086), «Защита устройств» (0,086) и «Безбумажный биллинг» (0,083): указывают на очень слабую положительную корреляцию с оттоком, что позволяет предположить, что демографические факторы и дополнительные услуги играют незначительную роль во влиянии на решения об оттоке.\n",
        "\n",
        "Потоковое телевидение (0,079), Онлайн-безопасность (0,059), Интернет-услуги (0,057) и Техподдержка (0,052): эти функции демонстрируют наименьшую положительную корреляцию, что позволяет предположить, что они оказывают наименьшее влияние на отток среди перечисленных факторов. Их влияние на решение клиентов отказаться от услуги минимально, но немаловажно.\n",
        "\n",
        "Иждивенцы (0,047): указывает на низкую корреляцию.\n",
        "\n",
        "Пол (0,009): показывает почти незначительную корреляцию с оттоком, указывая на то, что пол не оказывает существенного влияния на вероятность оттока.\n",
        "\n",
        "Это резюме дает ценную информацию о факторах, влияющих на отток клиентов. Более высокие затраты (как ежемесячные, так и общие), менее гибкие способы оплаты и более длительный срок действия контрактов, как правило, увеличивают риск оттока клиентов. -->"
      ]
    },
    {
      "cell_type": "code",
      "execution_count": null,
      "metadata": {
        "id": "lK1NXOmj15uU"
      },
      "outputs": [],
      "source": [
        "churn_correlation_df = phik_matrix[['churn']].drop(index=['customerid'], errors='ignore')\n",
        "\n",
        "# Визуализация тепловой карты для корреляций churn\n",
        "plt.figure(figsize=(4, 8)) # Размер фигуры адаптирован под один столбец\n",
        "sns.heatmap(churn_correlation_df, annot=True, fmt=\".2f\", cmap='coolwarm', cbar=True)\n",
        "plt.title(\"Phik Correlation with Churn\")\n",
        "plt.show()"
      ]
    },
    {
      "cell_type": "markdown",
      "metadata": {
        "id": "BWvs7KvL15uU"
      },
      "source": [
        "Анализируя корреляцию  между переменной \"churn\" и другими признаками, можно сделать следующие выводы относительно влияния различных факторов на отток клиентов:\n",
        "\n",
        "- **Продолжительность контракта** (\\(0.374569\\)) имеет умеренную корреляцию с оттоком, что подчеркивает, что клиенты с более короткими контрактами склонны к увеличению оттока. Это может указывать на то, что более длительные контракты связаны с лояльностью клиентов.\n",
        "\n",
        "- **Общие расходы** (\\(0.302890\\)) также показывают умеренную корреляцию с оттоком. Это может свидетельствовать о том, что высокие общие расходы могут способствовать решению клиентов об уходе, возможно, из-за восприятия недостаточной ценности услуг.\n",
        "\n",
        "- **Наличие партнера** (\\(0.226688\\)) и **ежемесячные расходы** (\\(0.225925\\)) имеют схожие  слабые уровни корреляции с оттоком, что указывает на то, что эти факторы могут немного влиять на решения клиентов об уходе, хотя и в меньшей степени по сравнению с продолжительностью контракта и общими расходами.\n",
        "\n",
        "- **Способ оплаты** (\\(0.214832\\)) слабо  влияет на отток\n",
        "\n",
        "- Признаки, такие как **многоканальная связь (multiplelines)** (\\(0.105101\\)), **тип контракта (type)** (\\(0.094015\\)), и **онлайн-резервное копирование (onlinebackup)** (\\(0.089704\\)), показывают более слабую корреляцию с оттоком, что указывает на их менее выраженное влияние на решение об уходе.\n",
        "\n",
        "- **Демографические признаки**, такие как **возраст (seniorcitizen)** (\\(0.086159\\)), и **пол (gender)** (\\(0.008581\\)), имеют минимальное влияние на отток, что подчеркивает, что решения об уходе определяются скорее условиями предоставления услуг, чем демографическими факторами.\n",
        "\n",
        "Эти выводы подчеркивают значимость определенных услуг и условий контракта для удержания клиентов и могут служить основой для разработки стратегий по снижению оттока, например, путем предложения более привлекательных условий для долгосрочных контрактов, оптимизации ценообразования и улучшения условий оплаты."
      ]
    },
    {
      "cell_type": "code",
      "execution_count": null,
      "metadata": {
        "scrolled": false,
        "id": "Wcz51-a-15uV"
      },
      "outputs": [],
      "source": [
        "# Разделение датасета на две части: ушли (churn = 1) и остались (churn = 0)\n",
        "df_churned = df[df['churn'] == 1]\n",
        "df_stayed = df[df['churn'] == 0]\n",
        "\n",
        "# Вычисление матрицы корреляции phi_k для клиентов, которые ушли\n",
        "phik_matrix_churned = df_churned.phik_matrix(interval_cols=interval_columns)\n",
        "\n",
        "# Вычисление матрицы корреляции phi_k для клиентов, которые остались\n",
        "phik_matrix_stayed = df_stayed.phik_matrix(interval_cols=interval_columns)"
      ]
    },
    {
      "cell_type": "code",
      "execution_count": null,
      "metadata": {
        "id": "hDLdw0mb15uV"
      },
      "outputs": [],
      "source": [
        "display(phik_matrix_churned )"
      ]
    },
    {
      "cell_type": "code",
      "execution_count": null,
      "metadata": {
        "id": "r1QzL-2V15uV"
      },
      "outputs": [],
      "source": [
        "# Визуализация матрицы корреляции phi_k для клиентов, которые ушли\n",
        "plt.figure(figsize=(12, 10))\n",
        "sns.heatmap(phik_matrix_churned, annot=True, fmt=\".2f\", cmap='coolwarm', square=True)\n",
        "plt.title(\"Phik Correlation Matrix for Churned Customers\")\n",
        "plt.show()\n"
      ]
    },
    {
      "cell_type": "markdown",
      "metadata": {
        "id": "bpM3q7BZ15uV"
      },
      "source": [
        "Из  таблицы корреляции между различными признаками и оттоком клиентов (churn) можно сделать следующие выводы:\n",
        "\n",
        "1. **Продолжительность контракта** (\\(0.837747\\)) имеет высокую корреляцию с общими расходами (totalcharges), что указывает на то, что клиенты с более длительными контрактами склонны иметь более высокие общие расходы. Это может свидетельствовать о более высокой лояльности и удовлетворенности услугами.\n",
        "\n",
        "2. **Интернет-услуга** (\\(0.926400\\)) и **ежемесячные платежи** (\\(1.000000\\)) показывают весьма высокую корреляцию, подчеркивая, что выбор интернет-услуги значительно влияет на размер ежемесячных платежей клиентов.\n",
        "\n",
        "3. **Онлайн-безопасность** (\\(0.818126\\)), **техподдержка** (\\(0.824158\\)), и **защита устройства** (\\(0.821914\\)) также демонстрируют высокую корреляцию с ежемесячными платежами, что может указывать на то, что клиенты, использующие эти услуги, склонны платить больше каждый месяц.\n",
        "\n",
        "4. Важно отметить, что **пол** (gender) и **наличие партнера** (partner) показывают нулевую или очень слабую корреляцию с большинством других признаков, что говорит о том, что эти демографические признаки имеют ограниченное влияние на использование и оплату услуг.\n",
        "\n",
        "5. **Стриминговые сервисы** (streamingtv и streamingmovies) имеют  весьма высокую корреляцию между собой (\\(0.960473\\)) и с ежемесячными платежами, подчеркивая популярность и влияние этих услуг на общую стоимость услуг для клиентов.\n",
        "\n"
      ]
    },
    {
      "cell_type": "code",
      "execution_count": null,
      "metadata": {
        "id": "V2raebr-15uV"
      },
      "outputs": [],
      "source": [
        "display(phik_matrix_stayed)"
      ]
    },
    {
      "cell_type": "code",
      "execution_count": null,
      "metadata": {
        "id": "0hi--LjE15uV"
      },
      "outputs": [],
      "source": [
        "# Визуализация матрицы корреляции phi_k для клиентов, которые остались\n",
        "plt.figure(figsize=(12, 10))\n",
        "sns.heatmap(phik_matrix_stayed, annot=True, fmt=\".2f\", cmap='coolwarm', square=True)\n",
        "plt.title(\"Phik Correlation Matrix for Stayed Customers\")\n",
        "plt.show()"
      ]
    },
    {
      "cell_type": "markdown",
      "metadata": {
        "id": "xhs00QT615uV"
      },
      "source": [
        "Из таблицы корреляции для группы клиентов, которые остались, можно сделать следующие ключевые выводы:\n",
        "\n",
        "1. **Продолжительность контракта** (\\(0.844546\\)) продолжает демонстрировать высокую корреляцию с общими расходами (totalcharges), что подтверждает, что клиенты с более длительными контрактами, как правило, накапливают больше расходов за время использования услуг. Это указывает на долгосрочную вовлеченность и возможно большую лояльность среди оставшихся клиентов.\n",
        "\n",
        "2. **Ежемесячные платежи** (\\(0.743925\\)) имеют высокую  корреляцию с общими расходами, что свидетельствует о том, что регулярные ежемесячные платежи значительно способствуют общему объему расходов клиентов. Это подчеркивает важность управления ежемесячными платежами для поддержания удовлетворенности клиентов.\n",
        "\n",
        "3. **Интернет-услуги** (\\(0.484988\\)) и **многоканальная связь** (multiplelines) (\\(0.478160\\)) показывают умеренную корреляцию с общими расходами, что может отражать популярность и ценность этих услуг среди оставшихся клиентов.\n",
        "\n",
        "4. **Онлайн-безопасность** (\\(0.522232\\)), **техподдержка** (\\(0.534114\\)), и **защита устройства** (\\(0.568247\\))  показывают заметную корреляцию с общими расходами, подчеркивая, что дополнительные услуги в области безопасности и поддержки важны для клиентов, что может способствовать их решению остаться.\n",
        "\n",
        "5. **Партнер** (\\(0.411492\\)) показывает умеренную корреляцию с общими расходами, что может указывать на то, что наличие партнера влияет на решение остаться с компанией, возможно, из-за совместного использования услуг или лучших условий для семейных планов.\n",
        "\n",
        "6. **Стриминговые услуги** (streamingtv и streamingmovies) демонстрируют весьма высокую корреляцию друг с другом и с ежемесячными платежами, что подтверждает их популярность и вклад в общую стоимость услуг среди оставшихся клиентов.\n"
      ]
    },
    {
      "cell_type": "markdown",
      "metadata": {
        "id": "wR3FSV2p15uW"
      },
      "source": [
        "Сравнительный вывод корреляций между ушедшими и оставшимися клиентами:\n",
        "    \n",
        "Сравнивая корреляции между ушедшими и оставшимися клиентами, можно выявить несколько ключевых различий и сходств, которые помогают лучше понять факторы, влияющие на отток клиентов:\n",
        "\n",
        "Сходства:\n",
        "- **Продолжительность контракта** и **общие расходы** показывают высокую корреляцию в обеих группах, что подчеркивает их важность в контексте общей вовлеченности клиентов и накопления расходов во времени. Это указывает на то, что независимо от решения оставаться или уйти, эти два фактора имеют значительное влияние на финансовые взаимоотношения клиентов с компанией.\n",
        "\n",
        "Различия:\n",
        "- **Стриминговые услуги** (streamingtv и streamingmovies) и **дополнительные услуги** (онлайн-безопасность, техподдержка, защита устройства) имеют более высокие корреляции с общими расходами и ежемесячными платежами среди оставшихся клиентов по сравнению с ушедшими. Это может свидетельствовать о том, что удовлетворенность этими услугами и восприятие их ценности влияют на решение клиентов остаться.\n",
        "- **Партнер** имеет более выраженную корреляцию с общими расходами среди оставшихся клиентов, что может указывать на то, что наличие партнера и совместное использование услуг способствует удержанию клиентов.\n",
        "- **Интернет-услуги** и **многоканальная связь** (multiplelines) также показывают более высокую корреляцию с общими расходами и ежемесячными платежами среди оставшихся клиентов, подчеркивая их роль в создании добавленной стоимости для клиентов, решивших остаться.\n",
        " Заключение:\n",
        "- **Долгосрочные отношения и дополнительные услуги** играют ключевую роль в удержании клиентов. Оставшиеся клиенты, как правило, более вовлечены и ценят широкий спектр услуг, что отражается в их более высоких общих и ежемесячных расходах.\n",
        "- **Предпочтения в услугах** (например, стриминговые сервисы и интернет-услуги) и **способы оплаты** могут влиять на решение клиентов остаться, что подчеркивается различиями в корреляциях этих признаков между двумя группами.\n"
      ]
    },
    {
      "cell_type": "markdown",
      "metadata": {
        "id": "AJKfoonJJdWs"
      },
      "source": [
        "# **Шаг 5 Подготовка данных**"
      ]
    },
    {
      "cell_type": "code",
      "execution_count": null,
      "metadata": {
        "id": "rEKNH0QCX8LP"
      },
      "outputs": [],
      "source": [
        "df.info()"
      ]
    },
    {
      "cell_type": "code",
      "execution_count": null,
      "metadata": {
        "id": "JaOWTcA23u87"
      },
      "outputs": [],
      "source": [
        "print(df['seniorcitizen'].value_counts())"
      ]
    },
    {
      "cell_type": "code",
      "execution_count": null,
      "metadata": {
        "id": "LZGq9vJ94E3J"
      },
      "outputs": [],
      "source": [
        "print(df['seniorcitizen'].dtype)"
      ]
    },
    {
      "cell_type": "code",
      "execution_count": null,
      "metadata": {
        "id": "7s4K28ify33o"
      },
      "outputs": [],
      "source": [
        "df['seniorcitizen'] = df['seniorcitizen'].astype(str)"
      ]
    },
    {
      "cell_type": "markdown",
      "metadata": {
        "id": "jTvFoQ1q15uW"
      },
      "source": [
        "Преобразование seniorcitizen в строку: Это шаг необходим для унификации типов данных перед их обработкой. Поскольку seniorcitizen изначально является числовым признаком, представляющим бинарную категорию (0 или 1), его преобразование в строковый формат позволяет более эффективно применять к нему методы кодирования категориальных признаков, такие как One-Hot Encoding."
      ]
    },
    {
      "cell_type": "markdown",
      "metadata": {
        "id": "5aRlL4Bo15uW"
      },
      "source": [
        "Установка customerid в качестве индекса"
      ]
    },
    {
      "cell_type": "code",
      "execution_count": null,
      "metadata": {
        "id": "QrSul8abrWPB"
      },
      "outputs": [],
      "source": [
        "df.set_index('customerid', inplace=True)"
      ]
    },
    {
      "cell_type": "code",
      "execution_count": null,
      "metadata": {
        "id": "msPG4BH5Ieoj"
      },
      "outputs": [],
      "source": [
        "# Assuming df_final DataFrame and 'churn' is the target variable\n",
        "X = df.drop(['churn'], axis=1)  # Drop target variable\n",
        "y = df['churn']"
      ]
    },
    {
      "cell_type": "code",
      "execution_count": null,
      "metadata": {
        "id": "gRvb7zIquWgj"
      },
      "outputs": [],
      "source": [
        "# Splitting the dataset into the Training set and Test set\n",
        "X_train, X_test, y_train, y_test = train_test_split(X, y, test_size=0.25, random_state=RANDOM_STATE)\n",
        "\n",
        "# Identifying numeric and categorical features\n",
        "numeric_features = X_train.select_dtypes(include=['int64', 'float64']).columns\n",
        "categorical_features = X_train.select_dtypes(include=['object']).columns\n",
        "\n",
        "# Creating transformers for the preprocessing pipeline\n",
        "numeric_transformer = Pipeline(steps=[\n",
        "    ('scaler', StandardScaler())  # Scaling numeric features\n",
        "])\n",
        "\n",
        "categorical_transformer = Pipeline(steps=[\n",
        "    ('onehot', OneHotEncoder(drop='first'))  # One-hot encoding categorical features, dropping the first column\n",
        "])\n",
        "\n",
        "# Combining transformers into a ColumnTransformer\n",
        "preprocessor = ColumnTransformer(\n",
        "    transformers=[\n",
        "        ('num', numeric_transformer, numeric_features),\n",
        "        ('cat', categorical_transformer, categorical_features)\n",
        "    ])\n",
        "\n",
        "# Applying the transformations to the training and test sets\n",
        "X_train_transformed = preprocessor.fit_transform(X_train)\n",
        "X_test_transformed = preprocessor.transform(X_test)\n",
        "\n",
        "# Extracting new column names for the transformed features\n",
        "new_numeric_features = numeric_features.tolist()\n",
        "# new_categorical_features = preprocessor.named_transformers_['cat'].get_feature_names_out(categorical_features)\n",
        "new_categorical_features = preprocessor.named_transformers_['cat'].named_steps['onehot'].get_feature_names_out()\n",
        "\n",
        "# Combining all new feature names\n",
        "all_new_features = new_numeric_features + new_categorical_features.tolist()\n",
        "\n",
        "# Convert the transformed features back to DataFrame for readability (optional)\n",
        "X_train_transformed_df = pd.DataFrame(X_train_transformed, columns=all_new_features, index=X_train.index)\n",
        "X_test_transformed_df = pd.DataFrame(X_test_transformed, columns=all_new_features, index=X_test.index)\n",
        "\n"
      ]
    },
    {
      "cell_type": "code",
      "execution_count": null,
      "metadata": {
        "id": "kbg09SX36b-y"
      },
      "outputs": [],
      "source": [
        "display(X_train_transformed_df.head())"
      ]
    },
    {
      "cell_type": "code",
      "execution_count": null,
      "metadata": {
        "id": "jG52vACH6hg1"
      },
      "outputs": [],
      "source": [
        "X_train_transformed_df.info()"
      ]
    },
    {
      "cell_type": "markdown",
      "metadata": {
        "id": "TmYSOEDmfeiZ"
      },
      "source": [
        "Данные для обучения модели подготовлены. Данные были разделены на две выборки, проведено масштабирование числовых признаков и кодирование категориальных с учетом особенностей данных и моделей."
      ]
    },
    {
      "cell_type": "markdown",
      "metadata": {
        "id": "Brd0xzgW15uX"
      },
      "source": [
        "В процессе подготовки данных для моделирования были выполнены следующие ключевые шаги:\n",
        "\n",
        "1. **Преобразование переменной seniorcitizen в строковый тип**: Это позволяет обрабатывать бинарный признак как категориальный, упрощая последующее кодирование и анализ.\n",
        "\n",
        "2. **Разделение на обучающую и тестовую выборки**: Использование 75% данных для обучения и 25% для тестирования обеспечивает баланс между тренировкой модели и оценкой ее производительности на новых данных.\n",
        "\n",
        "3. **Идентификация и обработка признаков**:\n",
        "   - **Числовые признаки** масштабируются с помощью StandardScaler для улучшения производительности модели, нормализуя распределение данных.\n",
        "   - **Категориальные признаки** преобразуются через OneHotEncoder, что позволяет модели корректно интерпретировать категории без предположений о их порядке или величине.\n",
        "\n",
        "4. **Применение предобработки**: Обучение преобразований на обучающей выборке и их применение к тестовой выборке гарантирует, что данные обрабатываются правильно, что критически важно для точности модели.\n",
        "\n",
        "Эти шаги необходимы для эффективной подготовки данных, что обеспечивает адекватность и точность последующего моделирования."
      ]
    },
    {
      "cell_type": "markdown",
      "metadata": {
        "id": "6bcqbmY6Jph5"
      },
      "source": [
        "# **Шаг 6: Машинное обучение моделей**"
      ]
    },
    {
      "cell_type": "markdown",
      "metadata": {
        "id": "uo_e9DFQBPg4"
      },
      "source": [
        "Training model CatBoost"
      ]
    },
    {
      "cell_type": "code",
      "execution_count": null,
      "metadata": {
        "id": "WnHu6lUh-FzI"
      },
      "outputs": [],
      "source": [
        "param_dist = {\n",
        "     'iterations': [100, 500, 1000],\n",
        "    'learning_rate': uniform(0.01, 0.3),\n",
        "    'depth': [4, 6, 8, 10]}\n",
        "\n",
        "\n",
        "# Inisialization model CatBoostClassifier\n",
        "catboost_model = CatBoostClassifier(verbose=False, eval_metric='AUC', loss_function='Logloss', random_seed=RANDOM_STATE)\n",
        "\n",
        "#  RandomizedSearchCV\n",
        "random_search = RandomizedSearchCV(catboost_model, param_distributions=param_dist, n_iter=10, scoring='roc_auc', cv=3, random_state=RANDOM_STATE, verbose=2)\n",
        "\n",
        "# fit model with RandomizedSearchCV\n",
        "random_search.fit(X_train_transformed_df, y_train)"
      ]
    },
    {
      "cell_type": "code",
      "execution_count": null,
      "metadata": {
        "id": "3qhYnKmbCgjj",
        "scrolled": true
      },
      "outputs": [],
      "source": [
        "print(f\"best params: {random_search.best_params_}\")\n",
        "print(f\"best ROC AUC: {random_search.best_score_}\")\n",
        "\n",
        "\n",
        "best_model = random_search.best_estimator_"
      ]
    },
    {
      "cell_type": "markdown",
      "metadata": {
        "id": "USIAhXLRFpKg"
      },
      "source": [
        "best params: {'depth': 4, 'iterations': 1000, 'learning_rate': 0.11187815841373282}\n",
        "best ROC AUC: 0.9056035506322976"
      ]
    },
    {
      "cell_type": "code",
      "execution_count": null,
      "metadata": {
        "id": "PHxmDbLPE8i1"
      },
      "outputs": [],
      "source": [
        "# Creating a logistic regression model\n",
        "lr = LogisticRegression(random_state=RANDOM_STATE, max_iter=1000)\n",
        "\n",
        "# Setting up the parameter grid for randomized search\n",
        "param_dist = {\n",
        "    'C': [0.001, 0.01, 0.1, 1, 10, 100],\n",
        "    'solver': ['newton-cg', 'lbfgs', 'liblinear', 'sag', 'saga']\n",
        "}\n",
        "\n",
        "# Setting up the randomized search with cross-validation\n",
        "random_search_lr = RandomizedSearchCV(lr, param_distributions=param_dist, n_iter=10, scoring='roc_auc', cv=3, random_state=RANDOM_STATE)\n",
        "\n",
        "# Fitting the model\n",
        "random_search_lr.fit(X_train_transformed, y_train)\n",
        "\n",
        "\n"
      ]
    },
    {
      "cell_type": "code",
      "execution_count": null,
      "metadata": {
        "id": "AUB3f7WJFrPT",
        "scrolled": true
      },
      "outputs": [],
      "source": [
        "# Best parameters and best ROC AUC score\n",
        "print(f\"best params_lr: {random_search_lr.best_params_}\")\n",
        "print(f\"best ROC AUC_lr: {random_search_lr.best_score_}\")\n",
        "\n",
        "\n",
        "best_model_lr = random_search_lr.best_estimator_\n",
        "\n"
      ]
    },
    {
      "cell_type": "markdown",
      "metadata": {
        "id": "cD8kSqAqTFSN"
      },
      "source": [
        "best params_lr: {'solver': 'sag', 'C': 100}\n",
        "best ROC AUC_lr: 0.7704748384435064"
      ]
    },
    {
      "cell_type": "markdown",
      "metadata": {
        "id": "ejAQ7GESf5cv"
      },
      "source": [
        "\n",
        "\n",
        "Были обучены модели CatBoost и логистическая регрессия. CatBoost показал лучшие результаты на обучающем наборе по метрике ROC_AUC -лучшие параметры:  {'depth': 4, 'iterations': 1000, 'learning_rate': 0.11187815841373282} лучший ROC AUC: 0.9056035506322976. Поэтому лучше использовать эти параметры для тестирования на тестовом образце."
      ]
    },
    {
      "cell_type": "markdown",
      "metadata": {
        "id": "xZnYxmiZKiig"
      },
      "source": [
        "# **Шаг 7. Выбор лучшей модели**"
      ]
    },
    {
      "cell_type": "code",
      "execution_count": null,
      "metadata": {
        "id": "Wgwsx6TLEbtz"
      },
      "outputs": [],
      "source": [
        "#testing on test set\n",
        "y_pred = best_model.predict(X_test_transformed_df)\n",
        "y_pred_proba = best_model.predict_proba(X_test_transformed_df)[:, 1]\n",
        "\n",
        "#  ROC AUC and Accuracy\n",
        "roc_auc_test = roc_auc_score(y_test, y_pred_proba)\n",
        "accuracy_test = accuracy_score(y_test, y_pred)\n",
        "\n",
        "roc_auc_test, accuracy_test"
      ]
    },
    {
      "cell_type": "markdown",
      "metadata": {
        "id": "ycZhSTeeKp6j"
      },
      "source": [
        "roc_auc - 0.92936553813648, accuracy_test - 0.9346961953435547"
      ]
    },
    {
      "cell_type": "markdown",
      "metadata": {
        "id": "j5aR_5xfgBWJ"
      },
      "source": [
        "В результате использования модели CatBoost для классификации и последующей оптимизации ее параметров с помощью рандомизированного поиска на тестовом наборе данных были достигнуты следующие результаты:\n",
        "\n",
        "ROC AUC: 0.928. Accuracy: 0.935. Эти результаты указывают на высокую эффективность модели CatBoost в прогнозировании целевой переменной. Значение ROC AUC указывает на высокую способность модели различать классы. Уровень точности, близкий к 93.5%, также подчеркивает, что модель правильно классифицирует большинство примеров.\n",
        "\n",
        "Эти показатели могут свидетельствовать о том, что модель CatBoost успешно справилась с задачей, обеспечив высокую точность и возможность обобщения на незнакомых данных. Это делает CatBoost отличным выбором для задач классификации в этом контексте."
      ]
    },
    {
      "cell_type": "code",
      "execution_count": null,
      "metadata": {
        "id": "YkrMQb9w15uY"
      },
      "outputs": [],
      "source": [
        "#визуализация ROC-кривой\n",
        "\n",
        "fpr, tpr, thresholds = roc_curve(y_test, y_pred_proba)\n",
        "roc_auc = auc(fpr, tpr)\n",
        "\n",
        "plt.figure()\n",
        "plt.plot(fpr, tpr, color='darkorange', lw=2, label='ROC curve (area = %0.2f)' % roc_auc)\n",
        "plt.plot([0, 1], [0, 1], color='navy', lw=2, linestyle='--')\n",
        "plt.xlim([0.0, 1.0])\n",
        "plt.ylim([0.0, 1.05])\n",
        "plt.xlabel('False Positive Rate')\n",
        "plt.ylabel('True Positive Rate')\n",
        "plt.title('Receiver Operating Characteristic')\n",
        "plt.legend(loc=\"lower right\")\n",
        "plt.show()"
      ]
    },
    {
      "cell_type": "markdown",
      "metadata": {
        "id": "Grkzuv4q15uY"
      },
      "source": [
        "Значения AUC около 0.93 указывает на способность модели превосходить случайное угадывание .\n",
        "ROC-кривая модели находится выше диагональной линии, это означает, что модель имеет лучшую производительность, чем случайное угадывание.\n"
      ]
    },
    {
      "cell_type": "code",
      "execution_count": null,
      "metadata": {
        "scrolled": true,
        "id": "Xo_NUI8915uY"
      },
      "outputs": [],
      "source": [
        "#матрица ошибок\n",
        "\n",
        "cm = confusion_matrix(y_test, y_pred)\n",
        "sns.heatmap(cm, annot=True, fmt=\"d\", cmap=\"Blues\")\n",
        "plt.xlabel('Predicted labels')\n",
        "plt.ylabel('True labels')\n",
        "plt.title('Confusion Matrix')\n",
        "plt.show()"
      ]
    },
    {
      "cell_type": "code",
      "execution_count": null,
      "metadata": {
        "id": "xztB9st715uY"
      },
      "outputs": [],
      "source": [
        "cm_df = pd.DataFrame(cm, index=[\"Actual Negative\", \"Actual Positive\"],\n",
        "                     columns=[\"Predicted Negative\", \"Predicted Positive\"])\n",
        "print(\"\\nМатрица ошибок в формате DataFrame:\")\n",
        "print(cm_df)"
      ]
    },
    {
      "cell_type": "markdown",
      "metadata": {
        "id": "LHkqAVJt15uY"
      },
      "source": [
        "Из матрицы ошибок можно сделать следующие выводы относительно производительности модели классификации:\n",
        "\n",
        "Истинно отрицательные (TN): Модель правильно предсказала 1476 случаев, когда клиенты не ушли (Actual Negative), что указывает на хорошую способность модели идентифицировать клиентов, склонных оставаться.  \n",
        "Ложно положительные (FP): В 16 случаях модель неверно предсказала, что клиенты уйдут (Predicted Positive), когда на самом деле они остались (Actual Negative). Это может указывать на излишнюю чувствительность модели к некоторым признакам, ведущую к ошибочному определению оттока.  \n",
        "Ложно отрицательные (FN): Модель пропустила 98 случаев, когда клиенты ушли (Actual Positive), предсказав, что они останутся (Predicted Negative). Это один из наиболее критичных типов ошибок, так как пропущенные случаи оттока могут привести к потере дохода и клиентской базы.  \n",
        "Истинно положительные (TP): Модель корректно идентифицировала 171 случай, когда клиенты ушли (Actual Positive). Это говорит о том, что модель эффективно выявляет клиентов, склонных к оттоку.  \n",
        "<b>Общий анализ:</b>  \n",
        "Модель демонстрирует высокую способность правильно классифицировать отрицательные случаи (клиенты остаются), что подтверждается большим количеством истинно отрицательных результатов по сравнению с ложно положительными.\n",
        "Количество ложно отрицательных результатов является зоной для улучшения. Снижение этого числа позволит модели более эффективно выявлять реальные случаи оттока.  "
      ]
    },
    {
      "cell_type": "code",
      "execution_count": null,
      "metadata": {
        "id": "gIshJ4b115uY"
      },
      "outputs": [],
      "source": [
        "#Анализ важности признаков\n",
        "\n",
        "feature_importances = best_model.get_feature_importance()\n",
        "plt.figure(figsize=(10, 8))\n",
        "sns.barplot(y=X_train_transformed_df.columns, x=feature_importances)\n",
        "plt.title('Feature Importances')\n",
        "plt.show()"
      ]
    },
    {
      "cell_type": "markdown",
      "metadata": {
        "id": "DLk48gY-15uY"
      },
      "source": [
        "Наиболее важными признаками являются - длительность контракта , следом идут общие и помесячные траты. Эти Признаки являются ключевыми для принятия решений моделью."
      ]
    },
    {
      "cell_type": "markdown",
      "source": [
        "##Сохранение модели"
      ],
      "metadata": {
        "id": "FB3wfNWQq8TB"
      }
    },
    {
      "cell_type": "code",
      "source": [
        "#saving model\n",
        "# naming model file\n",
        "filename = 'finalized_model.sav'\n",
        "\n",
        "with open(filename, 'wb') as file:\n",
        "    # saving model to file\n",
        "    pickle.dump(best_model, file)"
      ],
      "metadata": {
        "id": "o7_w21DMzGnp"
      },
      "execution_count": null,
      "outputs": []
    },
    {
      "cell_type": "markdown",
      "metadata": {
        "id": "-g-YDMoZKqzy"
      },
      "source": [
        "# **Шаг 8. Заключение и рекомендации для заказчика**"
      ]
    },
    {
      "cell_type": "markdown",
      "metadata": {
        "id": "Zod5cl6-gicM"
      },
      "source": [
        "Основной целью этого проекта была разработка прогнозной модели для «ТелеДом», телекоммуникационного оператора, стремящегося сократить отток клиентов, предлагая акции и специальные условия тем, кто планирует прекратить свои услуги. Цель и задачи проекта выполнены.\n",
        "\n",
        "Проект начался с загрузки предоставленных наборов данных и проведения первоначальной проверки для понимания структуры, качества и типов доступной информации. Для каждого кадра данных был проведен углубленный исследовательский анализ с последующей необходимой предварительной обработкой данных. Этот этап включал выявление и обработку пропущенных значений, выбросов (менее 3 %) и обеспечение того, чтобы общее качество данных было подходящим для моделирования. Анализ позволил получить представление о доступных функциях и их потенциальной полезности для прогнозирования оттока клиентов.\n",
        "\n",
        "Выбранные функции были объединены в единый фрейм данных с использованием ключа для унификации данных, что позволило более упростить процесс анализа и моделирования.\n",
        "\n",
        "Был выполнен дальнейший исследовательский анализ объединенного кадра данных, визуализация распределения признаков и выполнение корреляционного анализа для понимания взаимосвязей между переменными. Все корреляции с оттоком не были сильными. Наиболее значимыми результатами являются продолжительность контракта (0,375). Такая положительная корреляция предполагает, что более длительный срок контракта связан с более высоким уровнем оттока клиентов. Это может указывать на проблемы с обязательствами клиентов или неудовлетворенность ими с течением времени.\n",
        "\n",
        "Общие расходы (0,303): демонстрирует умеренную положительную корреляцию с оттоком. Более высокие общие расходы могут привести к более высокому оттоку, возможно, из-за воспринимаемой ценности или финансовых ограничений с точки зрения клиента. Партнер (0,227) и «Ежемесячные сборы» (0,226): оба демонстрируют одинаковый уровень положительной корреляции с оттоком. Наличие партнера и более высокие ежемесячные платежи умеренно способствуют оттоку клиентов. Это может отразиться на финансовом бремени и динамике принятия решений в домохозяйствах.\n",
        "\n",
        "Данные были подготовлены для обучения модели, которое включало разделение на обучающий и тестовый наборы, масштабирование числовых характеристик и кодирование категориальных переменных. Эта подготовка была адаптирована с учетом требований прогнозных моделей и конкретных характеристик данных.\n",
        "\n",
        "Было обучено несколько моделей (CatBoost и логистическа регрессия, причем обе модели подверглись настройке гиперпараметров для оптимизации их производительности. Этот процесс включал оценку различных алгоритмов и их конфигураций, чтобы найти наиболее эффективное решение для прогнозирования оттока клиентов.\n",
        "\n",
        "После обучения была выбрана наиболее эффективная модель на основе ее показателей производительности, включая  (ROC AUC). Затем выбранная модель была протестирована на отдельном наборе тестовых данных, чтобы подтвердить ее прогностическую способность и обобщаемость.\n",
        "\n",
        "В рамках проекта была успешно разработана прогнозирующая модель, способная с высокой точностью идентифицировать клиентов, которые могут уйти. Самая эффективная модель CatBoost достигла значения ROC AUC 0,928  на тестовом наборе, что указывает на ее хорошую способность точно классифицировать клиентов.\n",
        "\n",
        "**Рекомендации Заказчику**\n",
        "\n",
        "По результатам проекта «ТелеДом» рекомендуется внедрить прогнозную модель для превентивного выявления клиентов из группы риска. Поступая таким образом, компания может ориентировать этих людей на специальные предложения, рекламные акции или персонализированные коммуникационные стратегии, направленные на сохранение их бизнеса. Учитывая результаты корреляции, вот краткие рекомендации для «ТелеДома» по снижению оттока клиентов:\n",
        "\n",
        "- Приоритизируйте продолжительность контракта. Более длительные контракты с меньшей вероятностью будут отброшены. Предложение стимулов для более длительных обязательств может снизить уровень оттока сотрудников.\n",
        "\n",
        "- Пересмотрите цены и сборы. Высокие общие и ежемесячные расходы связаны с более высоким оттоком клиентов. Рассмотрите возможность пересмотра стратегий ценообразования, особенно для дорогостоящих планов, чтобы убедиться, что они предлагают оптимальное соотношение цены и качества.\n",
        "\n",
        "- Сосредоточив внимание на этих направлениях, «ТелеДом» может реализовать целевые стратегии, позволяющие эффективно снизить отток клиентов и повысить общую удовлетворенность и лояльность клиентов."
      ]
    },
    {
      "cell_type": "markdown",
      "source": [
        "# Загрузка модели и предсказание для случайного пользователя"
      ],
      "metadata": {
        "id": "18PV-WQ4rUlZ"
      }
    },
    {
      "cell_type": "markdown",
      "source": [
        "##Подготовка данных для предсказания"
      ],
      "metadata": {
        "id": "A_4Xjyl9rrnv"
      }
    },
    {
      "cell_type": "markdown",
      "source": [
        "В этом разделе будут произведены следующие шаги\n",
        "*   Создание исходных таблиц и заполнение случайными данными одного абонента\n",
        "*   Предобработка для всех датасетов, такие же как на исходных данных\n",
        "*   Соединение датафреймов в общий датафрейм\n",
        "*   Выполнения предобработки и трансформации точно также как и на исходном общем датафрейме\n",
        "*   Загрузка модели\n",
        "*   Предсказание для этих данных\n",
        "\n",
        "\n",
        "\n",
        "\n",
        "\n",
        "\n"
      ],
      "metadata": {
        "id": "z6lghqrXsND0"
      }
    },
    {
      "cell_type": "code",
      "source": [
        "#creating new datasets from the data\n",
        "contract_test = pd.read_csv('/content/drive/MyDrive/datasets/contract_new.csv')\n",
        "internet_test = pd.read_csv('/content/drive/MyDrive/datasets/internet_new.csv')\n",
        "phone_test=pd.read_csv('/content/drive/MyDrive/datasets/phone_new.csv')\n",
        "personal_test=pd.read_csv('/content/drive/MyDrive/datasets/personal_new.csv')"
      ],
      "metadata": {
        "id": "gTcZKLRP3_IF"
      },
      "execution_count": null,
      "outputs": []
    },
    {
      "cell_type": "code",
      "source": [
        "# # Seed for reproducibility\n",
        "# np.random.seed(42)  # Setting the random seed\n",
        "rng = np.random.default_rng(RANDOM_STATE)"
      ],
      "metadata": {
        "id": "CkVs46gRdoKt"
      },
      "execution_count": null,
      "outputs": []
    },
    {
      "cell_type": "code",
      "source": [
        "#Finding the intersection of unique customerIDs across all dataframes to ensure the selected customerID is present in each dataframe\n",
        "common_ids = set(contract_test['customerID'].unique()) & set(internet_test['customerID'].unique()) & \\\n",
        "             set(phone_test['customerID'].unique()) & set(personal_test['customerID'].unique())"
      ],
      "metadata": {
        "id": "Oai1Qa2QbADK"
      },
      "execution_count": null,
      "outputs": []
    },
    {
      "cell_type": "code",
      "source": [
        "# Selecting a random customerID from the intersection\n",
        "# random_id = np.random.choice(list(common_ids))\n",
        "random_id = rng.choice(list(common_ids))"
      ],
      "metadata": {
        "id": "VPaxqRN0dp2k"
      },
      "execution_count": null,
      "outputs": []
    },
    {
      "cell_type": "code",
      "source": [
        "# Filtering each dataframe for the selected customerID\n",
        "contract_test = contract_test[contract_test['customerID'] == random_id]\n",
        "internet_test = internet_test[internet_test['customerID'] == random_id]\n",
        "phone_test = phone_test[phone_test['customerID'] == random_id]\n",
        "personal_test = personal_test[personal_test['customerID'] == random_id]"
      ],
      "metadata": {
        "id": "Ccl03TAZduSf"
      },
      "execution_count": null,
      "outputs": []
    },
    {
      "cell_type": "code",
      "source": [
        "contract_test.head()"
      ],
      "metadata": {
        "id": "v1kapUKLd9se"
      },
      "execution_count": null,
      "outputs": []
    },
    {
      "cell_type": "code",
      "source": [
        "internet_test.head()"
      ],
      "metadata": {
        "id": "JlWWdiU_eJdf"
      },
      "execution_count": null,
      "outputs": []
    },
    {
      "cell_type": "code",
      "source": [
        "phone_test.head()"
      ],
      "metadata": {
        "id": "AEY8SPKceNfs"
      },
      "execution_count": null,
      "outputs": []
    },
    {
      "cell_type": "code",
      "source": [
        "personal_test.head()"
      ],
      "metadata": {
        "id": "eQ9HbXEIeRXQ"
      },
      "execution_count": null,
      "outputs": []
    },
    {
      "cell_type": "code",
      "source": [
        "#function for preprosessing contract datatset\n",
        "\n",
        "def preprocess_data(df):\n",
        "    \"\"\"\n",
        "    Preprocess the data with the following steps:\n",
        "    - Convert column names to lowercase\n",
        "    - Remove duplicates\n",
        "    - Convert 'begindate' and 'enddate' to datetime\n",
        "    - Convert 'totalcharges' to numeric, replace non-numeric with NaN, then missing values with 0\n",
        "    - Create a 'churn' column based on 'enddate'\n",
        "    - Replace missing 'enddate' with a specific date\n",
        "\n",
        "    Args:\n",
        "    df (pd.DataFrame): Input dataframe with contract information\n",
        "\n",
        "    Returns:\n",
        "    pd.DataFrame: Preprocessed dataframe\n",
        "    \"\"\"\n",
        "    # Convert column names to lowercase\n",
        "    df.columns = df.columns.str.lower()\n",
        "\n",
        "    # Remove duplicates\n",
        "    df.drop_duplicates(inplace=True)\n",
        "\n",
        "    # Convert 'begindate' and 'enddate' to datetime\n",
        "    df['begindate'] = pd.to_datetime(df['begindate'])\n",
        "    df['enddate'] = pd.to_datetime(df['enddate'], errors='coerce')\n",
        "\n",
        "    # Convert 'totalcharges' to numeric, replace non-numeric with NaN, then fill NaN with 0\n",
        "    df['totalcharges'] = pd.to_numeric(df['totalcharges'], errors='coerce').fillna(0)\n",
        "\n",
        "    # Create a 'churn' column based on 'enddate'\n",
        "    df['churn'] = df['enddate'].notna().astype(int)\n",
        "\n",
        "    # Replace missing 'enddate' for non-churned customers with a specific date\n",
        "    replacement_date = pd.Timestamp('2020-02-01')\n",
        "    df['enddate'] = df['enddate'].fillna(replacement_date)\n",
        "\n",
        "    return df\n"
      ],
      "metadata": {
        "id": "QZRew4NkeZU7"
      },
      "execution_count": null,
      "outputs": []
    },
    {
      "cell_type": "code",
      "source": [
        "#preprosessing contract datatset\n",
        "contract_test = preprocess_data(contract_test)\n",
        "contract_test.head()"
      ],
      "metadata": {
        "id": "4hM2TZ6Fk3Cp"
      },
      "execution_count": null,
      "outputs": []
    },
    {
      "cell_type": "code",
      "source": [
        "def preprocess_others(df):\n",
        "    \"\"\"\n",
        "    Preprocess the data by converting column names to lowercase.\n",
        "\n",
        "    Args:\n",
        "    df (pd.DataFrame): Input dataframe to preprocess.\n",
        "\n",
        "    Returns:\n",
        "    pd.DataFrame: Preprocessed dataframe with lowercase column names.\n",
        "    \"\"\"\n",
        "    df.columns = df.columns.str.lower()\n",
        "    return df"
      ],
      "metadata": {
        "id": "BmE1TCONlK1u"
      },
      "execution_count": null,
      "outputs": []
    },
    {
      "cell_type": "code",
      "source": [
        "#preprosessing other datasets\n",
        "internet_test = preprocess_others(internet_test)\n",
        "personal_test = preprocess_others(personal_test)\n",
        "phone_test = preprocess_others(phone_test)"
      ],
      "metadata": {
        "id": "Zxxz3pIGmbd6"
      },
      "execution_count": null,
      "outputs": []
    },
    {
      "cell_type": "code",
      "source": [
        "internet_test.head()"
      ],
      "metadata": {
        "id": "NYjEP3Xlm6-J"
      },
      "execution_count": null,
      "outputs": []
    },
    {
      "cell_type": "code",
      "source": [
        "personal_test.head()"
      ],
      "metadata": {
        "id": "SlLKeocQm_35"
      },
      "execution_count": null,
      "outputs": []
    },
    {
      "cell_type": "code",
      "source": [
        "phone_test.head()"
      ],
      "metadata": {
        "id": "vT2Itjz4nEEb"
      },
      "execution_count": null,
      "outputs": []
    },
    {
      "cell_type": "code",
      "source": [
        "def merge_dataframes(contract, personal, internet, phone):\n",
        "    \"\"\"\n",
        "    Merge dataframes on 'customerid' with an outer join to include all records.\n",
        "\n",
        "    Args:\n",
        "    contract (pd.DataFrame): Contract information dataframe.\n",
        "    personal (pd.DataFrame): Personal information dataframe.\n",
        "    internet (pd.DataFrame): Internet service information dataframe.\n",
        "    phone (pd.DataFrame): Phone service information dataframe.\n",
        "\n",
        "    Returns:\n",
        "    pd.DataFrame: Merged dataframe containing all information.\n",
        "    \"\"\"\n",
        "    # Merge contract with personal\n",
        "    merged_df = contract.merge(personal, on='customerid', how='outer')\n",
        "\n",
        "    # Add data from internet\n",
        "    merged_df = merged_df.merge(internet, on='customerid', how='outer')\n",
        "\n",
        "    # Add data from phone\n",
        "    final_df = merged_df.merge(phone, on='customerid', how='outer')\n",
        "\n",
        "    return final_df\n"
      ],
      "metadata": {
        "id": "CpT-0Iktp0Rb"
      },
      "execution_count": null,
      "outputs": []
    },
    {
      "cell_type": "code",
      "source": [
        "def preprocess_merged_data(df):\n",
        "    \"\"\"\n",
        "    Preprocess the merged dataframe by filling missing values, converting data types,\n",
        "    removing duplicates, and calculating new columns.\n",
        "\n",
        "    Args:\n",
        "    df (pd.DataFrame): Merged dataframe to preprocess.\n",
        "\n",
        "    Returns:\n",
        "    pd.DataFrame: Preprocessed dataframe ready for analysis or modeling.\n",
        "    \"\"\"\n",
        "    # Calculate the duration of the contract and add a new column\n",
        "    df['contract_duration'] = (df['enddate'] - df['begindate']).dt.days\n",
        "\n",
        "    # Select columns of type object or float for further processing\n",
        "    cols = df.select_dtypes(include=['object', 'float']).columns.tolist()\n",
        "\n",
        "    # Manually identified columns to include\n",
        "    additional_cols = ['churn', 'contract_duration', 'seniorcitizen']\n",
        "\n",
        "    # Combine lists while ensuring uniqueness\n",
        "    cols = list(set(cols + additional_cols))\n",
        "\n",
        "    # Create a copy of the dataframe with selected columns\n",
        "    df = df[cols].copy()\n",
        "\n",
        "    # Remove duplicates\n",
        "    df.drop_duplicates(keep=False, inplace=True)\n",
        "\n",
        "    # Filling missing values for 'multiplelines'\n",
        "    df['multiplelines'].fillna('Not Applicable', inplace=True)\n",
        "\n",
        "    # Assume missing values indicate no internet service for specific columns\n",
        "    internet_service_columns = [\n",
        "        'internetservice', 'onlinesecurity', 'onlinebackup', 'deviceprotection',\n",
        "        'techsupport', 'streamingtv', 'streamingmovies'\n",
        "    ]\n",
        "\n",
        "    # Fill missing values with 'Not Applicable' for internet service columns\n",
        "    df[internet_service_columns] = df[internet_service_columns].fillna('Not Applicable')\n",
        "\n",
        "    # Convert 'seniorcitizen' to string for consistency\n",
        "    df['seniorcitizen'] = df['seniorcitizen'].astype(str)\n",
        "\n",
        "    # Set 'customerid' as the index of the dataframe\n",
        "    df.set_index('customerid', inplace=True)\n",
        "\n",
        "    return df\n"
      ],
      "metadata": {
        "id": "aAPcSSwcqFvX"
      },
      "execution_count": null,
      "outputs": []
    },
    {
      "cell_type": "code",
      "source": [
        "merged_df = merge_dataframes(contract_test, personal_test, internet_test, phone_test)\n",
        "preprocessed_df = preprocess_merged_data(merged_df)"
      ],
      "metadata": {
        "id": "_f9s6inurKPz"
      },
      "execution_count": null,
      "outputs": []
    },
    {
      "cell_type": "code",
      "source": [
        "merged_df.info()"
      ],
      "metadata": {
        "id": "nvZ733DUrvjV"
      },
      "execution_count": null,
      "outputs": []
    },
    {
      "cell_type": "code",
      "source": [
        "preprocessed_df.head()"
      ],
      "metadata": {
        "id": "f-lChyBn4WQY"
      },
      "execution_count": null,
      "outputs": []
    },
    {
      "cell_type": "code",
      "source": [
        "print(preprocessed_df.info())\n"
      ],
      "metadata": {
        "id": "piJ_I24gaa9G"
      },
      "execution_count": null,
      "outputs": []
    },
    {
      "cell_type": "code",
      "source": [
        "preprocessed_df.info()"
      ],
      "metadata": {
        "id": "57uJtlttr3v9"
      },
      "execution_count": null,
      "outputs": []
    },
    {
      "cell_type": "code",
      "source": [
        "# Assuming df_final DataFrame and 'churn' is the target variable\n",
        "X = preprocessed_df.drop(['churn'], axis=1)  # Drop target variable\n",
        "y = preprocessed_df['churn']"
      ],
      "metadata": {
        "id": "_uiSvpoZQlHH"
      },
      "execution_count": null,
      "outputs": []
    },
    {
      "cell_type": "code",
      "source": [
        "# preprosessing\n",
        "X_new_transformed = preprocessor.transform(X)\n",
        "\n",
        "\n",
        "new_features = new_numeric_features + new_categorical_features.tolist()\n",
        "\n",
        "\n",
        "X_new_transformed_df = pd.DataFrame(X_new_transformed, columns=new_features)"
      ],
      "metadata": {
        "id": "kO_mmm8AdH-f"
      },
      "execution_count": null,
      "outputs": []
    },
    {
      "cell_type": "code",
      "source": [
        "X_new_transformed_df.index = preprocessed_df.index"
      ],
      "metadata": {
        "id": "oOrf-_cLg0Ji"
      },
      "execution_count": null,
      "outputs": []
    },
    {
      "cell_type": "code",
      "source": [
        "X_new_transformed_df.head()"
      ],
      "metadata": {
        "id": "E7sf0kbmdcE3"
      },
      "execution_count": null,
      "outputs": []
    },
    {
      "cell_type": "code",
      "source": [
        "X_new_transformed_df.info()"
      ],
      "metadata": {
        "id": "mAF06bt4bLPu"
      },
      "execution_count": null,
      "outputs": []
    },
    {
      "cell_type": "code",
      "source": [
        "# loading model from file\n",
        "with open(filename, 'rb') as file:\n",
        "    loaded_model = pickle.load(file)"
      ],
      "metadata": {
        "id": "48ZrnSi7w77r"
      },
      "execution_count": null,
      "outputs": []
    },
    {
      "cell_type": "code",
      "source": [
        "y_pred = loaded_model.predict(X_new_transformed)\n"
      ],
      "metadata": {
        "id": "RiG42VoHkeyN"
      },
      "execution_count": null,
      "outputs": []
    },
    {
      "cell_type": "code",
      "source": [
        "\n",
        "# Printing model predictions for the new data\n",
        "print(\"Model predictions for new data:\")\n",
        "print(y_pred)"
      ],
      "metadata": {
        "id": "fGd0vxui0VaA"
      },
      "execution_count": null,
      "outputs": []
    },
    {
      "cell_type": "code",
      "source": [
        "# finging real value for this user\n",
        "real_value = df.loc[random_id, 'churn']\n",
        "\n",
        "# print real value\n",
        "print(f\"Real value in original df {random_id}: {real_value}\")"
      ],
      "metadata": {
        "id": "mPe0XafvlUSE"
      },
      "execution_count": null,
      "outputs": []
    },
    {
      "cell_type": "markdown",
      "source": [
        "Загрузка модели и предсказание для случайного абонента успешно выполнены."
      ],
      "metadata": {
        "id": "qCgtEfvotZgG"
      }
    }
  ],
  "metadata": {
    "ExecuteTimeLog": [
      {
        "duration": 10852,
        "start_time": "2024-02-26T22:58:44.754Z"
      },
      {
        "duration": 3,
        "start_time": "2024-02-26T22:58:55.607Z"
      },
      {
        "duration": 147,
        "start_time": "2024-02-26T22:58:55.611Z"
      },
      {
        "duration": 0,
        "start_time": "2024-02-26T22:58:55.763Z"
      },
      {
        "duration": 0,
        "start_time": "2024-02-26T22:58:55.764Z"
      },
      {
        "duration": 0,
        "start_time": "2024-02-26T22:58:55.766Z"
      },
      {
        "duration": 0,
        "start_time": "2024-02-26T22:58:55.767Z"
      },
      {
        "duration": 0,
        "start_time": "2024-02-26T22:58:55.768Z"
      },
      {
        "duration": 0,
        "start_time": "2024-02-26T22:58:55.769Z"
      },
      {
        "duration": 0,
        "start_time": "2024-02-26T22:58:55.770Z"
      },
      {
        "duration": 0,
        "start_time": "2024-02-26T22:58:55.771Z"
      },
      {
        "duration": 0,
        "start_time": "2024-02-26T22:58:55.773Z"
      },
      {
        "duration": 0,
        "start_time": "2024-02-26T22:58:55.774Z"
      },
      {
        "duration": 0,
        "start_time": "2024-02-26T22:58:55.775Z"
      },
      {
        "duration": 0,
        "start_time": "2024-02-26T22:58:55.776Z"
      },
      {
        "duration": 0,
        "start_time": "2024-02-26T22:58:55.777Z"
      },
      {
        "duration": 0,
        "start_time": "2024-02-26T22:58:55.778Z"
      },
      {
        "duration": 0,
        "start_time": "2024-02-26T22:58:55.779Z"
      },
      {
        "duration": 0,
        "start_time": "2024-02-26T22:58:55.780Z"
      },
      {
        "duration": 0,
        "start_time": "2024-02-26T22:58:55.781Z"
      },
      {
        "duration": 0,
        "start_time": "2024-02-26T22:58:55.782Z"
      },
      {
        "duration": 0,
        "start_time": "2024-02-26T22:58:55.783Z"
      },
      {
        "duration": 0,
        "start_time": "2024-02-26T22:58:55.784Z"
      },
      {
        "duration": 0,
        "start_time": "2024-02-26T22:58:55.824Z"
      },
      {
        "duration": 0,
        "start_time": "2024-02-26T22:58:55.825Z"
      },
      {
        "duration": 0,
        "start_time": "2024-02-26T22:58:55.826Z"
      },
      {
        "duration": 0,
        "start_time": "2024-02-26T22:58:55.827Z"
      },
      {
        "duration": 0,
        "start_time": "2024-02-26T22:58:55.829Z"
      },
      {
        "duration": 0,
        "start_time": "2024-02-26T22:58:55.830Z"
      },
      {
        "duration": 0,
        "start_time": "2024-02-26T22:58:55.831Z"
      },
      {
        "duration": 0,
        "start_time": "2024-02-26T22:58:55.832Z"
      },
      {
        "duration": 0,
        "start_time": "2024-02-26T22:58:55.834Z"
      },
      {
        "duration": 0,
        "start_time": "2024-02-26T22:58:55.835Z"
      },
      {
        "duration": 0,
        "start_time": "2024-02-26T22:58:55.836Z"
      },
      {
        "duration": 0,
        "start_time": "2024-02-26T22:58:55.837Z"
      },
      {
        "duration": 0,
        "start_time": "2024-02-26T22:58:55.839Z"
      },
      {
        "duration": 0,
        "start_time": "2024-02-26T22:58:55.840Z"
      },
      {
        "duration": 0,
        "start_time": "2024-02-26T22:58:55.841Z"
      },
      {
        "duration": 0,
        "start_time": "2024-02-26T22:58:55.842Z"
      },
      {
        "duration": 0,
        "start_time": "2024-02-26T22:58:55.844Z"
      },
      {
        "duration": 0,
        "start_time": "2024-02-26T22:58:55.845Z"
      },
      {
        "duration": 0,
        "start_time": "2024-02-26T22:58:55.845Z"
      },
      {
        "duration": 0,
        "start_time": "2024-02-26T22:58:55.846Z"
      },
      {
        "duration": 0,
        "start_time": "2024-02-26T22:58:55.848Z"
      },
      {
        "duration": 0,
        "start_time": "2024-02-26T22:58:55.849Z"
      },
      {
        "duration": 0,
        "start_time": "2024-02-26T22:58:55.850Z"
      },
      {
        "duration": 0,
        "start_time": "2024-02-26T22:58:55.851Z"
      },
      {
        "duration": 0,
        "start_time": "2024-02-26T22:58:55.852Z"
      },
      {
        "duration": 0,
        "start_time": "2024-02-26T22:58:55.854Z"
      },
      {
        "duration": 0,
        "start_time": "2024-02-26T22:58:55.855Z"
      },
      {
        "duration": 1,
        "start_time": "2024-02-26T22:58:55.855Z"
      },
      {
        "duration": 0,
        "start_time": "2024-02-26T22:58:55.857Z"
      },
      {
        "duration": 0,
        "start_time": "2024-02-26T22:58:55.858Z"
      },
      {
        "duration": 0,
        "start_time": "2024-02-26T22:58:55.923Z"
      },
      {
        "duration": 0,
        "start_time": "2024-02-26T22:58:55.924Z"
      },
      {
        "duration": 1,
        "start_time": "2024-02-26T22:58:55.925Z"
      },
      {
        "duration": 0,
        "start_time": "2024-02-26T22:58:55.927Z"
      },
      {
        "duration": 0,
        "start_time": "2024-02-26T22:58:55.928Z"
      },
      {
        "duration": 0,
        "start_time": "2024-02-26T22:58:55.929Z"
      },
      {
        "duration": 0,
        "start_time": "2024-02-26T22:58:55.930Z"
      },
      {
        "duration": 0,
        "start_time": "2024-02-26T22:58:55.931Z"
      },
      {
        "duration": 0,
        "start_time": "2024-02-26T22:58:55.932Z"
      },
      {
        "duration": 0,
        "start_time": "2024-02-26T22:58:55.933Z"
      },
      {
        "duration": 0,
        "start_time": "2024-02-26T22:58:55.934Z"
      },
      {
        "duration": 0,
        "start_time": "2024-02-26T22:58:55.935Z"
      },
      {
        "duration": 0,
        "start_time": "2024-02-26T22:58:55.936Z"
      },
      {
        "duration": 0,
        "start_time": "2024-02-26T22:58:55.937Z"
      },
      {
        "duration": 0,
        "start_time": "2024-02-26T22:58:55.938Z"
      },
      {
        "duration": 0,
        "start_time": "2024-02-26T22:58:55.940Z"
      },
      {
        "duration": 0,
        "start_time": "2024-02-26T22:58:55.941Z"
      },
      {
        "duration": 0,
        "start_time": "2024-02-26T22:58:55.942Z"
      },
      {
        "duration": 0,
        "start_time": "2024-02-26T22:58:55.943Z"
      },
      {
        "duration": 0,
        "start_time": "2024-02-26T22:58:55.944Z"
      },
      {
        "duration": 0,
        "start_time": "2024-02-26T22:58:55.945Z"
      },
      {
        "duration": 0,
        "start_time": "2024-02-26T22:58:55.945Z"
      },
      {
        "duration": 0,
        "start_time": "2024-02-26T22:58:55.946Z"
      },
      {
        "duration": 0,
        "start_time": "2024-02-26T22:58:55.947Z"
      },
      {
        "duration": 0,
        "start_time": "2024-02-26T22:58:55.948Z"
      },
      {
        "duration": 0,
        "start_time": "2024-02-26T22:58:55.949Z"
      },
      {
        "duration": 0,
        "start_time": "2024-02-26T22:58:55.950Z"
      },
      {
        "duration": 0,
        "start_time": "2024-02-26T22:58:55.952Z"
      },
      {
        "duration": 0,
        "start_time": "2024-02-26T22:58:55.952Z"
      },
      {
        "duration": 0,
        "start_time": "2024-02-26T22:58:55.954Z"
      },
      {
        "duration": 0,
        "start_time": "2024-02-26T22:58:55.955Z"
      },
      {
        "duration": 0,
        "start_time": "2024-02-26T22:58:55.956Z"
      },
      {
        "duration": 0,
        "start_time": "2024-02-26T22:58:55.957Z"
      },
      {
        "duration": 0,
        "start_time": "2024-02-26T22:58:55.958Z"
      },
      {
        "duration": 0,
        "start_time": "2024-02-26T22:58:55.959Z"
      },
      {
        "duration": 0,
        "start_time": "2024-02-26T22:58:55.960Z"
      },
      {
        "duration": 0,
        "start_time": "2024-02-26T22:58:56.023Z"
      },
      {
        "duration": 0,
        "start_time": "2024-02-26T22:58:56.025Z"
      },
      {
        "duration": 0,
        "start_time": "2024-02-26T22:58:56.026Z"
      },
      {
        "duration": 0,
        "start_time": "2024-02-26T22:58:56.027Z"
      },
      {
        "duration": 17,
        "start_time": "2024-02-26T22:59:21.501Z"
      },
      {
        "duration": 106,
        "start_time": "2024-02-26T23:16:17.624Z"
      },
      {
        "duration": 100,
        "start_time": "2024-02-26T23:17:26.408Z"
      },
      {
        "duration": 94,
        "start_time": "2024-02-26T23:17:42.937Z"
      },
      {
        "duration": 102,
        "start_time": "2024-02-26T23:18:46.732Z"
      },
      {
        "duration": 46,
        "start_time": "2024-02-26T23:25:33.416Z"
      },
      {
        "duration": 11064,
        "start_time": "2024-02-26T23:25:45.621Z"
      },
      {
        "duration": 2,
        "start_time": "2024-02-26T23:25:56.687Z"
      },
      {
        "duration": 9,
        "start_time": "2024-02-26T23:25:56.691Z"
      },
      {
        "duration": 168,
        "start_time": "2024-02-26T23:25:56.702Z"
      },
      {
        "duration": 9035,
        "start_time": "2024-02-26T23:26:31.816Z"
      },
      {
        "duration": 3,
        "start_time": "2024-02-26T23:26:40.853Z"
      },
      {
        "duration": 22,
        "start_time": "2024-02-26T23:26:40.858Z"
      },
      {
        "duration": 63,
        "start_time": "2024-02-26T23:26:40.882Z"
      },
      {
        "duration": 3,
        "start_time": "2024-02-26T23:26:40.947Z"
      },
      {
        "duration": 14,
        "start_time": "2024-02-26T23:26:40.952Z"
      },
      {
        "duration": 7,
        "start_time": "2024-02-26T23:26:40.967Z"
      },
      {
        "duration": 6,
        "start_time": "2024-02-26T23:26:40.975Z"
      },
      {
        "duration": 2,
        "start_time": "2024-02-26T23:26:40.982Z"
      },
      {
        "duration": 104,
        "start_time": "2024-02-26T23:26:40.985Z"
      },
      {
        "duration": 3,
        "start_time": "2024-02-26T23:26:41.090Z"
      },
      {
        "duration": 13,
        "start_time": "2024-02-26T23:26:41.094Z"
      },
      {
        "duration": 7,
        "start_time": "2024-02-26T23:26:41.109Z"
      },
      {
        "duration": 10,
        "start_time": "2024-02-26T23:26:41.119Z"
      },
      {
        "duration": 3,
        "start_time": "2024-02-26T23:26:41.131Z"
      },
      {
        "duration": 68,
        "start_time": "2024-02-26T23:26:41.136Z"
      },
      {
        "duration": 4,
        "start_time": "2024-02-26T23:26:41.205Z"
      },
      {
        "duration": 16,
        "start_time": "2024-02-26T23:26:41.210Z"
      },
      {
        "duration": 14,
        "start_time": "2024-02-26T23:26:41.228Z"
      },
      {
        "duration": 5,
        "start_time": "2024-02-26T23:26:41.244Z"
      },
      {
        "duration": 2,
        "start_time": "2024-02-26T23:26:41.251Z"
      },
      {
        "duration": 69,
        "start_time": "2024-02-26T23:26:41.254Z"
      },
      {
        "duration": 4,
        "start_time": "2024-02-26T23:26:41.325Z"
      },
      {
        "duration": 37,
        "start_time": "2024-02-26T23:26:41.330Z"
      },
      {
        "duration": 5,
        "start_time": "2024-02-26T23:26:41.368Z"
      },
      {
        "duration": 5,
        "start_time": "2024-02-26T23:26:41.375Z"
      },
      {
        "duration": 1,
        "start_time": "2024-02-26T23:26:41.382Z"
      },
      {
        "duration": 4,
        "start_time": "2024-02-26T23:26:41.385Z"
      },
      {
        "duration": 14,
        "start_time": "2024-02-26T23:26:41.390Z"
      },
      {
        "duration": 20,
        "start_time": "2024-02-26T23:26:41.405Z"
      },
      {
        "duration": 43,
        "start_time": "2024-02-26T23:26:41.427Z"
      },
      {
        "duration": 3,
        "start_time": "2024-02-26T23:26:41.472Z"
      },
      {
        "duration": 21,
        "start_time": "2024-02-26T23:26:41.476Z"
      },
      {
        "duration": 12,
        "start_time": "2024-02-26T23:26:41.499Z"
      },
      {
        "duration": 3,
        "start_time": "2024-02-26T23:26:41.513Z"
      },
      {
        "duration": 17,
        "start_time": "2024-02-26T23:26:41.518Z"
      },
      {
        "duration": 257,
        "start_time": "2024-02-26T23:26:41.536Z"
      },
      {
        "duration": 18,
        "start_time": "2024-02-26T23:26:41.794Z"
      },
      {
        "duration": 9,
        "start_time": "2024-02-26T23:26:41.813Z"
      },
      {
        "duration": 5,
        "start_time": "2024-02-26T23:26:41.823Z"
      },
      {
        "duration": 17,
        "start_time": "2024-02-26T23:26:41.833Z"
      },
      {
        "duration": 11,
        "start_time": "2024-02-26T23:26:41.869Z"
      },
      {
        "duration": 984,
        "start_time": "2024-02-26T23:26:41.881Z"
      },
      {
        "duration": 4,
        "start_time": "2024-02-26T23:26:42.866Z"
      },
      {
        "duration": 16,
        "start_time": "2024-02-26T23:26:42.871Z"
      },
      {
        "duration": 44,
        "start_time": "2024-02-26T23:26:42.889Z"
      },
      {
        "duration": 12,
        "start_time": "2024-02-26T23:26:42.935Z"
      },
      {
        "duration": 3,
        "start_time": "2024-02-26T23:26:42.949Z"
      },
      {
        "duration": 12,
        "start_time": "2024-02-26T23:26:42.953Z"
      },
      {
        "duration": 606,
        "start_time": "2024-02-26T23:26:42.966Z"
      },
      {
        "duration": 4,
        "start_time": "2024-02-26T23:26:43.573Z"
      },
      {
        "duration": 25,
        "start_time": "2024-02-26T23:26:43.578Z"
      },
      {
        "duration": 19,
        "start_time": "2024-02-26T23:26:43.605Z"
      },
      {
        "duration": 10,
        "start_time": "2024-02-26T23:26:43.625Z"
      },
      {
        "duration": 139,
        "start_time": "2024-02-26T23:26:43.637Z"
      },
      {
        "duration": 16,
        "start_time": "2024-02-26T23:26:43.778Z"
      },
      {
        "duration": 24,
        "start_time": "2024-02-26T23:26:43.796Z"
      },
      {
        "duration": 23,
        "start_time": "2024-02-26T23:26:43.822Z"
      },
      {
        "duration": 18,
        "start_time": "2024-02-26T23:26:43.870Z"
      },
      {
        "duration": 5,
        "start_time": "2024-02-26T23:26:43.890Z"
      },
      {
        "duration": 7,
        "start_time": "2024-02-26T23:26:43.897Z"
      },
      {
        "duration": 17,
        "start_time": "2024-02-26T23:26:43.906Z"
      },
      {
        "duration": 3,
        "start_time": "2024-02-26T23:26:43.925Z"
      },
      {
        "duration": 74,
        "start_time": "2024-02-26T23:26:43.930Z"
      },
      {
        "duration": 21,
        "start_time": "2024-02-26T23:26:44.005Z"
      },
      {
        "duration": 8,
        "start_time": "2024-02-26T23:26:44.029Z"
      },
      {
        "duration": 18,
        "start_time": "2024-02-26T23:26:44.039Z"
      },
      {
        "duration": 27,
        "start_time": "2024-02-26T23:26:44.059Z"
      },
      {
        "duration": 14,
        "start_time": "2024-02-26T23:26:44.088Z"
      },
      {
        "duration": 11,
        "start_time": "2024-02-26T23:26:44.104Z"
      },
      {
        "duration": 48,
        "start_time": "2024-02-26T23:26:44.117Z"
      },
      {
        "duration": 705,
        "start_time": "2024-02-26T23:26:44.166Z"
      },
      {
        "duration": 14,
        "start_time": "2024-02-26T23:26:44.873Z"
      },
      {
        "duration": 21,
        "start_time": "2024-02-26T23:26:44.889Z"
      },
      {
        "duration": 813,
        "start_time": "2024-02-26T23:26:44.912Z"
      },
      {
        "duration": 116,
        "start_time": "2024-02-26T23:26:45.727Z"
      },
      {
        "duration": 3158,
        "start_time": "2024-02-26T23:26:45.845Z"
      },
      {
        "duration": 26,
        "start_time": "2024-02-26T23:26:49.005Z"
      },
      {
        "duration": 16,
        "start_time": "2024-02-26T23:26:49.033Z"
      },
      {
        "duration": 5,
        "start_time": "2024-02-26T23:26:49.070Z"
      },
      {
        "duration": 8,
        "start_time": "2024-02-26T23:26:49.076Z"
      },
      {
        "duration": 10,
        "start_time": "2024-02-26T23:26:49.085Z"
      },
      {
        "duration": 9,
        "start_time": "2024-02-26T23:26:49.096Z"
      },
      {
        "duration": 7,
        "start_time": "2024-02-26T23:26:49.106Z"
      },
      {
        "duration": 175,
        "start_time": "2024-02-26T23:26:49.115Z"
      },
      {
        "duration": 0,
        "start_time": "2024-02-26T23:26:49.291Z"
      },
      {
        "duration": 0,
        "start_time": "2024-02-26T23:26:49.292Z"
      },
      {
        "duration": 0,
        "start_time": "2024-02-26T23:26:49.293Z"
      },
      {
        "duration": 0,
        "start_time": "2024-02-26T23:26:49.294Z"
      },
      {
        "duration": 0,
        "start_time": "2024-02-26T23:26:49.295Z"
      },
      {
        "duration": 0,
        "start_time": "2024-02-26T23:26:49.297Z"
      },
      {
        "duration": 0,
        "start_time": "2024-02-26T23:26:49.298Z"
      },
      {
        "duration": 0,
        "start_time": "2024-02-26T23:26:49.299Z"
      },
      {
        "duration": 69,
        "start_time": "2024-02-26T23:33:03.075Z"
      },
      {
        "duration": 13785,
        "start_time": "2024-02-26T23:34:24.413Z"
      },
      {
        "duration": 10330,
        "start_time": "2024-02-26T23:35:28.879Z"
      },
      {
        "duration": 82,
        "start_time": "2024-02-26T23:36:52.559Z"
      },
      {
        "duration": 3,
        "start_time": "2024-02-26T23:37:37.540Z"
      },
      {
        "duration": 64,
        "start_time": "2024-02-26T23:37:53.924Z"
      },
      {
        "duration": 64,
        "start_time": "2024-02-26T23:38:31.629Z"
      },
      {
        "duration": 11783,
        "start_time": "2024-02-26T23:38:51.593Z"
      },
      {
        "duration": 2,
        "start_time": "2024-02-26T23:39:03.378Z"
      },
      {
        "duration": 24,
        "start_time": "2024-02-26T23:39:03.382Z"
      },
      {
        "duration": 57,
        "start_time": "2024-02-26T23:39:03.408Z"
      },
      {
        "duration": 4,
        "start_time": "2024-02-26T23:39:03.467Z"
      },
      {
        "duration": 31,
        "start_time": "2024-02-26T23:39:03.472Z"
      },
      {
        "duration": 11,
        "start_time": "2024-02-26T23:39:03.505Z"
      },
      {
        "duration": 6,
        "start_time": "2024-02-26T23:39:03.517Z"
      },
      {
        "duration": 11,
        "start_time": "2024-02-26T23:39:03.525Z"
      },
      {
        "duration": 33,
        "start_time": "2024-02-26T23:39:03.538Z"
      },
      {
        "duration": 4,
        "start_time": "2024-02-26T23:39:03.573Z"
      },
      {
        "duration": 14,
        "start_time": "2024-02-26T23:39:03.579Z"
      },
      {
        "duration": 17,
        "start_time": "2024-02-26T23:39:03.595Z"
      },
      {
        "duration": 6,
        "start_time": "2024-02-26T23:39:03.615Z"
      },
      {
        "duration": 16,
        "start_time": "2024-02-26T23:39:03.622Z"
      },
      {
        "duration": 30,
        "start_time": "2024-02-26T23:39:03.639Z"
      },
      {
        "duration": 4,
        "start_time": "2024-02-26T23:39:03.671Z"
      },
      {
        "duration": 18,
        "start_time": "2024-02-26T23:39:03.677Z"
      },
      {
        "duration": 6,
        "start_time": "2024-02-26T23:39:03.696Z"
      },
      {
        "duration": 21,
        "start_time": "2024-02-26T23:39:03.703Z"
      },
      {
        "duration": 3,
        "start_time": "2024-02-26T23:39:03.725Z"
      },
      {
        "duration": 31,
        "start_time": "2024-02-26T23:39:03.729Z"
      },
      {
        "duration": 3,
        "start_time": "2024-02-26T23:39:03.762Z"
      },
      {
        "duration": 43,
        "start_time": "2024-02-26T23:39:03.766Z"
      },
      {
        "duration": 16,
        "start_time": "2024-02-26T23:39:03.811Z"
      },
      {
        "duration": 8,
        "start_time": "2024-02-26T23:39:03.828Z"
      },
      {
        "duration": 5,
        "start_time": "2024-02-26T23:39:03.838Z"
      },
      {
        "duration": 4,
        "start_time": "2024-02-26T23:39:03.845Z"
      },
      {
        "duration": 22,
        "start_time": "2024-02-26T23:39:03.850Z"
      },
      {
        "duration": 24,
        "start_time": "2024-02-26T23:39:03.873Z"
      },
      {
        "duration": 20,
        "start_time": "2024-02-26T23:39:03.899Z"
      },
      {
        "duration": 2,
        "start_time": "2024-02-26T23:39:03.921Z"
      },
      {
        "duration": 10,
        "start_time": "2024-02-26T23:39:03.925Z"
      },
      {
        "duration": 11,
        "start_time": "2024-02-26T23:39:03.937Z"
      },
      {
        "duration": 3,
        "start_time": "2024-02-26T23:39:03.950Z"
      },
      {
        "duration": 41,
        "start_time": "2024-02-26T23:39:03.954Z"
      },
      {
        "duration": 248,
        "start_time": "2024-02-26T23:39:03.996Z"
      },
      {
        "duration": 26,
        "start_time": "2024-02-26T23:39:04.245Z"
      },
      {
        "duration": 11,
        "start_time": "2024-02-26T23:39:04.272Z"
      },
      {
        "duration": 12,
        "start_time": "2024-02-26T23:39:04.284Z"
      },
      {
        "duration": 14,
        "start_time": "2024-02-26T23:39:04.300Z"
      },
      {
        "duration": 17,
        "start_time": "2024-02-26T23:39:04.315Z"
      },
      {
        "duration": 952,
        "start_time": "2024-02-26T23:39:04.333Z"
      },
      {
        "duration": 3,
        "start_time": "2024-02-26T23:39:05.287Z"
      },
      {
        "duration": 16,
        "start_time": "2024-02-26T23:39:05.291Z"
      },
      {
        "duration": 8,
        "start_time": "2024-02-26T23:39:05.309Z"
      },
      {
        "duration": 8,
        "start_time": "2024-02-26T23:39:05.318Z"
      },
      {
        "duration": 26,
        "start_time": "2024-02-26T23:39:05.327Z"
      },
      {
        "duration": 614,
        "start_time": "2024-02-26T23:39:05.355Z"
      },
      {
        "duration": 3,
        "start_time": "2024-02-26T23:39:05.971Z"
      },
      {
        "duration": 12,
        "start_time": "2024-02-26T23:39:05.976Z"
      },
      {
        "duration": 35,
        "start_time": "2024-02-26T23:39:05.990Z"
      },
      {
        "duration": 13,
        "start_time": "2024-02-26T23:39:06.027Z"
      },
      {
        "duration": 144,
        "start_time": "2024-02-26T23:39:06.042Z"
      },
      {
        "duration": 15,
        "start_time": "2024-02-26T23:39:06.188Z"
      },
      {
        "duration": 24,
        "start_time": "2024-02-26T23:39:06.205Z"
      },
      {
        "duration": 45,
        "start_time": "2024-02-26T23:39:06.230Z"
      },
      {
        "duration": 17,
        "start_time": "2024-02-26T23:39:06.277Z"
      },
      {
        "duration": 14,
        "start_time": "2024-02-26T23:39:06.296Z"
      },
      {
        "duration": 28,
        "start_time": "2024-02-26T23:39:06.312Z"
      },
      {
        "duration": 28,
        "start_time": "2024-02-26T23:39:06.341Z"
      },
      {
        "duration": 21,
        "start_time": "2024-02-26T23:39:06.370Z"
      },
      {
        "duration": 35,
        "start_time": "2024-02-26T23:39:06.392Z"
      },
      {
        "duration": 21,
        "start_time": "2024-02-26T23:39:06.429Z"
      },
      {
        "duration": 25,
        "start_time": "2024-02-26T23:39:06.452Z"
      },
      {
        "duration": 32,
        "start_time": "2024-02-26T23:39:06.479Z"
      },
      {
        "duration": 39,
        "start_time": "2024-02-26T23:39:06.512Z"
      },
      {
        "duration": 15,
        "start_time": "2024-02-26T23:39:06.553Z"
      },
      {
        "duration": 13,
        "start_time": "2024-02-26T23:39:06.569Z"
      },
      {
        "duration": 30,
        "start_time": "2024-02-26T23:39:06.583Z"
      },
      {
        "duration": 713,
        "start_time": "2024-02-26T23:39:06.615Z"
      },
      {
        "duration": 14,
        "start_time": "2024-02-26T23:39:07.330Z"
      },
      {
        "duration": 26,
        "start_time": "2024-02-26T23:39:07.346Z"
      },
      {
        "duration": 813,
        "start_time": "2024-02-26T23:39:07.374Z"
      },
      {
        "duration": 116,
        "start_time": "2024-02-26T23:39:08.188Z"
      },
      {
        "duration": 3225,
        "start_time": "2024-02-26T23:39:08.306Z"
      },
      {
        "duration": 36,
        "start_time": "2024-02-26T23:39:11.533Z"
      },
      {
        "duration": 14,
        "start_time": "2024-02-26T23:39:11.572Z"
      },
      {
        "duration": 4,
        "start_time": "2024-02-26T23:39:11.588Z"
      },
      {
        "duration": 12,
        "start_time": "2024-02-26T23:39:11.593Z"
      },
      {
        "duration": 9,
        "start_time": "2024-02-26T23:39:11.606Z"
      },
      {
        "duration": 7,
        "start_time": "2024-02-26T23:39:11.616Z"
      },
      {
        "duration": 8,
        "start_time": "2024-02-26T23:39:11.624Z"
      },
      {
        "duration": 102,
        "start_time": "2024-02-26T23:39:11.633Z"
      },
      {
        "duration": 24,
        "start_time": "2024-02-26T23:39:11.737Z"
      },
      {
        "duration": 3,
        "start_time": "2024-02-26T23:39:11.770Z"
      },
      {
        "duration": 14,
        "start_time": "2024-02-26T23:39:11.775Z"
      },
      {
        "duration": 161743,
        "start_time": "2024-02-26T23:39:11.790Z"
      },
      {
        "duration": 3,
        "start_time": "2024-02-26T23:41:53.535Z"
      },
      {
        "duration": 5773,
        "start_time": "2024-02-26T23:41:53.539Z"
      },
      {
        "duration": 3,
        "start_time": "2024-02-26T23:41:59.313Z"
      },
      {
        "duration": 61,
        "start_time": "2024-02-26T23:41:59.318Z"
      },
      {
        "duration": 109,
        "start_time": "2024-02-26T23:41:59.471Z"
      },
      {
        "duration": 11606,
        "start_time": "2024-02-26T23:48:45.062Z"
      },
      {
        "duration": 2,
        "start_time": "2024-02-26T23:48:56.671Z"
      },
      {
        "duration": 28,
        "start_time": "2024-02-26T23:48:56.675Z"
      },
      {
        "duration": 72,
        "start_time": "2024-02-26T23:48:56.704Z"
      },
      {
        "duration": 4,
        "start_time": "2024-02-26T23:48:56.778Z"
      },
      {
        "duration": 26,
        "start_time": "2024-02-26T23:48:56.783Z"
      },
      {
        "duration": 8,
        "start_time": "2024-02-26T23:48:56.810Z"
      },
      {
        "duration": 16,
        "start_time": "2024-02-26T23:48:56.819Z"
      },
      {
        "duration": 16,
        "start_time": "2024-02-26T23:48:56.836Z"
      },
      {
        "duration": 41,
        "start_time": "2024-02-26T23:48:56.854Z"
      },
      {
        "duration": 4,
        "start_time": "2024-02-26T23:48:56.896Z"
      },
      {
        "duration": 17,
        "start_time": "2024-02-26T23:48:56.901Z"
      },
      {
        "duration": 21,
        "start_time": "2024-02-26T23:48:56.919Z"
      },
      {
        "duration": 16,
        "start_time": "2024-02-26T23:48:56.943Z"
      },
      {
        "duration": 2,
        "start_time": "2024-02-26T23:48:56.961Z"
      },
      {
        "duration": 52,
        "start_time": "2024-02-26T23:48:56.965Z"
      },
      {
        "duration": 3,
        "start_time": "2024-02-26T23:48:57.018Z"
      },
      {
        "duration": 19,
        "start_time": "2024-02-26T23:48:57.023Z"
      },
      {
        "duration": 23,
        "start_time": "2024-02-26T23:48:57.044Z"
      },
      {
        "duration": 7,
        "start_time": "2024-02-26T23:48:57.069Z"
      },
      {
        "duration": 11,
        "start_time": "2024-02-26T23:48:57.078Z"
      },
      {
        "duration": 35,
        "start_time": "2024-02-26T23:48:57.090Z"
      },
      {
        "duration": 3,
        "start_time": "2024-02-26T23:48:57.127Z"
      },
      {
        "duration": 23,
        "start_time": "2024-02-26T23:48:57.132Z"
      },
      {
        "duration": 13,
        "start_time": "2024-02-26T23:48:57.157Z"
      },
      {
        "duration": 6,
        "start_time": "2024-02-26T23:48:57.172Z"
      },
      {
        "duration": 20,
        "start_time": "2024-02-26T23:48:57.179Z"
      },
      {
        "duration": 12,
        "start_time": "2024-02-26T23:48:57.200Z"
      },
      {
        "duration": 21,
        "start_time": "2024-02-26T23:48:57.213Z"
      },
      {
        "duration": 17,
        "start_time": "2024-02-26T23:48:57.236Z"
      },
      {
        "duration": 20,
        "start_time": "2024-02-26T23:48:57.255Z"
      },
      {
        "duration": 6,
        "start_time": "2024-02-26T23:48:57.277Z"
      },
      {
        "duration": 25,
        "start_time": "2024-02-26T23:48:57.285Z"
      },
      {
        "duration": 14,
        "start_time": "2024-02-26T23:48:57.312Z"
      },
      {
        "duration": 3,
        "start_time": "2024-02-26T23:48:57.328Z"
      },
      {
        "duration": 26,
        "start_time": "2024-02-26T23:48:57.333Z"
      },
      {
        "duration": 264,
        "start_time": "2024-02-26T23:48:57.360Z"
      },
      {
        "duration": 18,
        "start_time": "2024-02-26T23:48:57.625Z"
      },
      {
        "duration": 11,
        "start_time": "2024-02-26T23:48:57.644Z"
      },
      {
        "duration": 3,
        "start_time": "2024-02-26T23:48:57.670Z"
      },
      {
        "duration": 12,
        "start_time": "2024-02-26T23:48:57.678Z"
      },
      {
        "duration": 14,
        "start_time": "2024-02-26T23:48:57.691Z"
      },
      {
        "duration": 935,
        "start_time": "2024-02-26T23:48:57.706Z"
      },
      {
        "duration": 3,
        "start_time": "2024-02-26T23:48:58.642Z"
      },
      {
        "duration": 14,
        "start_time": "2024-02-26T23:48:58.647Z"
      },
      {
        "duration": 8,
        "start_time": "2024-02-26T23:48:58.662Z"
      },
      {
        "duration": 13,
        "start_time": "2024-02-26T23:48:58.672Z"
      },
      {
        "duration": 11,
        "start_time": "2024-02-26T23:48:58.686Z"
      },
      {
        "duration": 596,
        "start_time": "2024-02-26T23:48:58.699Z"
      },
      {
        "duration": 3,
        "start_time": "2024-02-26T23:48:59.297Z"
      },
      {
        "duration": 14,
        "start_time": "2024-02-26T23:48:59.302Z"
      },
      {
        "duration": 7,
        "start_time": "2024-02-26T23:48:59.317Z"
      },
      {
        "duration": 10,
        "start_time": "2024-02-26T23:48:59.326Z"
      },
      {
        "duration": 149,
        "start_time": "2024-02-26T23:48:59.337Z"
      },
      {
        "duration": 15,
        "start_time": "2024-02-26T23:48:59.488Z"
      },
      {
        "duration": 26,
        "start_time": "2024-02-26T23:48:59.505Z"
      },
      {
        "duration": 39,
        "start_time": "2024-02-26T23:48:59.532Z"
      },
      {
        "duration": 18,
        "start_time": "2024-02-26T23:48:59.572Z"
      },
      {
        "duration": 5,
        "start_time": "2024-02-26T23:48:59.592Z"
      },
      {
        "duration": 6,
        "start_time": "2024-02-26T23:48:59.598Z"
      },
      {
        "duration": 19,
        "start_time": "2024-02-26T23:48:59.605Z"
      },
      {
        "duration": 5,
        "start_time": "2024-02-26T23:48:59.625Z"
      },
      {
        "duration": 51,
        "start_time": "2024-02-26T23:48:59.631Z"
      },
      {
        "duration": 15,
        "start_time": "2024-02-26T23:48:59.684Z"
      },
      {
        "duration": 9,
        "start_time": "2024-02-26T23:48:59.700Z"
      },
      {
        "duration": 16,
        "start_time": "2024-02-26T23:48:59.710Z"
      },
      {
        "duration": 46,
        "start_time": "2024-02-26T23:48:59.728Z"
      },
      {
        "duration": 16,
        "start_time": "2024-02-26T23:48:59.776Z"
      },
      {
        "duration": 13,
        "start_time": "2024-02-26T23:48:59.793Z"
      },
      {
        "duration": 38,
        "start_time": "2024-02-26T23:48:59.807Z"
      },
      {
        "duration": 746,
        "start_time": "2024-02-26T23:48:59.846Z"
      },
      {
        "duration": 14,
        "start_time": "2024-02-26T23:49:00.594Z"
      },
      {
        "duration": 30,
        "start_time": "2024-02-26T23:49:00.610Z"
      },
      {
        "duration": 829,
        "start_time": "2024-02-26T23:49:00.641Z"
      },
      {
        "duration": 125,
        "start_time": "2024-02-26T23:49:01.471Z"
      },
      {
        "duration": 3196,
        "start_time": "2024-02-26T23:49:01.597Z"
      },
      {
        "duration": 25,
        "start_time": "2024-02-26T23:49:04.795Z"
      },
      {
        "duration": 45,
        "start_time": "2024-02-26T23:49:04.821Z"
      },
      {
        "duration": 20,
        "start_time": "2024-02-26T23:49:04.868Z"
      },
      {
        "duration": 19,
        "start_time": "2024-02-26T23:49:04.889Z"
      },
      {
        "duration": 8,
        "start_time": "2024-02-26T23:49:04.909Z"
      },
      {
        "duration": 21,
        "start_time": "2024-02-26T23:49:04.919Z"
      },
      {
        "duration": 23,
        "start_time": "2024-02-26T23:49:04.941Z"
      },
      {
        "duration": 62,
        "start_time": "2024-02-26T23:49:04.966Z"
      },
      {
        "duration": 26,
        "start_time": "2024-02-26T23:49:05.030Z"
      },
      {
        "duration": 19,
        "start_time": "2024-02-26T23:49:05.057Z"
      },
      {
        "duration": 161255,
        "start_time": "2024-02-26T23:49:05.077Z"
      },
      {
        "duration": 4,
        "start_time": "2024-02-26T23:51:46.333Z"
      },
      {
        "duration": 5782,
        "start_time": "2024-02-26T23:51:46.338Z"
      },
      {
        "duration": 4,
        "start_time": "2024-02-26T23:51:52.121Z"
      },
      {
        "duration": 53,
        "start_time": "2024-02-26T23:51:52.126Z"
      },
      {
        "duration": 100,
        "start_time": "2024-02-26T23:51:52.270Z"
      },
      {
        "duration": 13296,
        "start_time": "2024-02-27T21:31:09.638Z"
      },
      {
        "duration": 3,
        "start_time": "2024-02-27T21:31:22.936Z"
      },
      {
        "duration": 4,
        "start_time": "2024-02-27T21:31:22.940Z"
      },
      {
        "duration": 59,
        "start_time": "2024-02-27T21:31:22.945Z"
      },
      {
        "duration": 3,
        "start_time": "2024-02-27T21:31:23.006Z"
      },
      {
        "duration": 17,
        "start_time": "2024-02-27T21:31:23.011Z"
      },
      {
        "duration": 7,
        "start_time": "2024-02-27T21:31:23.029Z"
      },
      {
        "duration": 7,
        "start_time": "2024-02-27T21:31:23.038Z"
      },
      {
        "duration": 4,
        "start_time": "2024-02-27T21:31:23.046Z"
      },
      {
        "duration": 32,
        "start_time": "2024-02-27T21:31:23.052Z"
      },
      {
        "duration": 3,
        "start_time": "2024-02-27T21:31:23.086Z"
      },
      {
        "duration": 14,
        "start_time": "2024-02-27T21:31:23.091Z"
      },
      {
        "duration": 11,
        "start_time": "2024-02-27T21:31:23.106Z"
      },
      {
        "duration": 11,
        "start_time": "2024-02-27T21:31:23.119Z"
      },
      {
        "duration": 3,
        "start_time": "2024-02-27T21:31:23.131Z"
      },
      {
        "duration": 30,
        "start_time": "2024-02-27T21:31:23.136Z"
      },
      {
        "duration": 3,
        "start_time": "2024-02-27T21:31:23.167Z"
      },
      {
        "duration": 15,
        "start_time": "2024-02-27T21:31:23.172Z"
      },
      {
        "duration": 11,
        "start_time": "2024-02-27T21:31:23.188Z"
      },
      {
        "duration": 5,
        "start_time": "2024-02-27T21:31:23.200Z"
      },
      {
        "duration": 2,
        "start_time": "2024-02-27T21:31:23.207Z"
      },
      {
        "duration": 27,
        "start_time": "2024-02-27T21:31:23.210Z"
      },
      {
        "duration": 3,
        "start_time": "2024-02-27T21:31:23.239Z"
      },
      {
        "duration": 10,
        "start_time": "2024-02-27T21:31:23.243Z"
      },
      {
        "duration": 8,
        "start_time": "2024-02-27T21:31:23.254Z"
      },
      {
        "duration": 7,
        "start_time": "2024-02-27T21:31:23.263Z"
      },
      {
        "duration": 8,
        "start_time": "2024-02-27T21:31:23.271Z"
      },
      {
        "duration": 8,
        "start_time": "2024-02-27T21:31:23.280Z"
      },
      {
        "duration": 17,
        "start_time": "2024-02-27T21:31:23.290Z"
      },
      {
        "duration": 26,
        "start_time": "2024-02-27T21:31:23.309Z"
      },
      {
        "duration": 22,
        "start_time": "2024-02-27T21:31:23.337Z"
      },
      {
        "duration": 4,
        "start_time": "2024-02-27T21:31:23.360Z"
      },
      {
        "duration": 20,
        "start_time": "2024-02-27T21:31:23.365Z"
      },
      {
        "duration": 22,
        "start_time": "2024-02-27T21:31:23.387Z"
      },
      {
        "duration": 4,
        "start_time": "2024-02-27T21:31:23.411Z"
      },
      {
        "duration": 15,
        "start_time": "2024-02-27T21:31:23.417Z"
      },
      {
        "duration": 398,
        "start_time": "2024-02-27T21:31:23.434Z"
      },
      {
        "duration": 52,
        "start_time": "2024-02-27T21:31:23.833Z"
      },
      {
        "duration": 10,
        "start_time": "2024-02-27T21:31:23.887Z"
      },
      {
        "duration": 7,
        "start_time": "2024-02-27T21:31:23.898Z"
      },
      {
        "duration": 20,
        "start_time": "2024-02-27T21:31:23.910Z"
      },
      {
        "duration": 12,
        "start_time": "2024-02-27T21:31:23.972Z"
      },
      {
        "duration": 1148,
        "start_time": "2024-02-27T21:31:23.985Z"
      },
      {
        "duration": 3,
        "start_time": "2024-02-27T21:31:25.135Z"
      },
      {
        "duration": 25,
        "start_time": "2024-02-27T21:31:25.139Z"
      },
      {
        "duration": 10,
        "start_time": "2024-02-27T21:31:25.166Z"
      },
      {
        "duration": 12,
        "start_time": "2024-02-27T21:31:25.177Z"
      },
      {
        "duration": 19,
        "start_time": "2024-02-27T21:31:25.191Z"
      },
      {
        "duration": 628,
        "start_time": "2024-02-27T21:31:25.212Z"
      },
      {
        "duration": 4,
        "start_time": "2024-02-27T21:31:25.842Z"
      },
      {
        "duration": 26,
        "start_time": "2024-02-27T21:31:25.847Z"
      },
      {
        "duration": 43,
        "start_time": "2024-02-27T21:31:25.874Z"
      },
      {
        "duration": 11,
        "start_time": "2024-02-27T21:31:25.919Z"
      },
      {
        "duration": 140,
        "start_time": "2024-02-27T21:31:25.931Z"
      },
      {
        "duration": 21,
        "start_time": "2024-02-27T21:31:26.077Z"
      },
      {
        "duration": 25,
        "start_time": "2024-02-27T21:31:26.100Z"
      },
      {
        "duration": 34,
        "start_time": "2024-02-27T21:31:26.127Z"
      },
      {
        "duration": 27,
        "start_time": "2024-02-27T21:31:26.163Z"
      },
      {
        "duration": 7,
        "start_time": "2024-02-27T21:31:26.192Z"
      },
      {
        "duration": 23,
        "start_time": "2024-02-27T21:31:26.201Z"
      },
      {
        "duration": 27,
        "start_time": "2024-02-27T21:31:26.225Z"
      },
      {
        "duration": 4,
        "start_time": "2024-02-27T21:31:26.254Z"
      },
      {
        "duration": 29,
        "start_time": "2024-02-27T21:31:26.259Z"
      },
      {
        "duration": 15,
        "start_time": "2024-02-27T21:31:26.290Z"
      },
      {
        "duration": 15,
        "start_time": "2024-02-27T21:31:26.307Z"
      },
      {
        "duration": 21,
        "start_time": "2024-02-27T21:31:26.324Z"
      },
      {
        "duration": 29,
        "start_time": "2024-02-27T21:31:26.346Z"
      },
      {
        "duration": 16,
        "start_time": "2024-02-27T21:31:26.376Z"
      },
      {
        "duration": 15,
        "start_time": "2024-02-27T21:31:26.394Z"
      },
      {
        "duration": 45,
        "start_time": "2024-02-27T21:31:26.410Z"
      },
      {
        "duration": 731,
        "start_time": "2024-02-27T21:31:26.457Z"
      },
      {
        "duration": 16,
        "start_time": "2024-02-27T21:31:27.190Z"
      },
      {
        "duration": 24,
        "start_time": "2024-02-27T21:31:27.207Z"
      },
      {
        "duration": 956,
        "start_time": "2024-02-27T21:31:27.233Z"
      },
      {
        "duration": 133,
        "start_time": "2024-02-27T21:31:28.190Z"
      },
      {
        "duration": 3617,
        "start_time": "2024-02-27T21:31:28.325Z"
      },
      {
        "duration": 51,
        "start_time": "2024-02-27T21:31:31.943Z"
      },
      {
        "duration": 89,
        "start_time": "2024-02-27T21:31:31.996Z"
      },
      {
        "duration": 18,
        "start_time": "2024-02-27T21:31:32.087Z"
      },
      {
        "duration": 23,
        "start_time": "2024-02-27T21:31:32.107Z"
      },
      {
        "duration": 50,
        "start_time": "2024-02-27T21:31:32.132Z"
      },
      {
        "duration": 41,
        "start_time": "2024-02-27T21:31:32.184Z"
      },
      {
        "duration": 46,
        "start_time": "2024-02-27T21:31:32.228Z"
      },
      {
        "duration": 136,
        "start_time": "2024-02-27T21:31:32.277Z"
      },
      {
        "duration": 80,
        "start_time": "2024-02-27T21:31:32.415Z"
      },
      {
        "duration": 12,
        "start_time": "2024-02-27T21:31:32.497Z"
      },
      {
        "duration": 166154,
        "start_time": "2024-02-27T21:31:32.510Z"
      },
      {
        "duration": 3,
        "start_time": "2024-02-27T21:34:18.666Z"
      },
      {
        "duration": 5743,
        "start_time": "2024-02-27T21:34:18.671Z"
      },
      {
        "duration": 3,
        "start_time": "2024-02-27T21:34:24.416Z"
      },
      {
        "duration": 60,
        "start_time": "2024-02-27T21:34:24.420Z"
      },
      {
        "duration": 101,
        "start_time": "2024-02-27T21:34:24.482Z"
      },
      {
        "duration": 102,
        "start_time": "2024-02-27T23:14:50.218Z"
      },
      {
        "duration": 129,
        "start_time": "2024-02-28T16:23:16.265Z"
      },
      {
        "duration": 138,
        "start_time": "2024-02-28T16:32:18.527Z"
      },
      {
        "duration": 16096,
        "start_time": "2024-02-28T17:44:15.115Z"
      },
      {
        "duration": 2,
        "start_time": "2024-02-28T17:44:31.213Z"
      },
      {
        "duration": 99,
        "start_time": "2024-02-28T17:44:31.217Z"
      },
      {
        "duration": 201,
        "start_time": "2024-02-28T17:44:31.318Z"
      },
      {
        "duration": 3,
        "start_time": "2024-02-28T17:44:31.521Z"
      },
      {
        "duration": 27,
        "start_time": "2024-02-28T17:44:31.526Z"
      },
      {
        "duration": 31,
        "start_time": "2024-02-28T17:44:31.554Z"
      },
      {
        "duration": 25,
        "start_time": "2024-02-28T17:44:31.586Z"
      },
      {
        "duration": 73,
        "start_time": "2024-02-28T17:44:31.613Z"
      },
      {
        "duration": 141,
        "start_time": "2024-02-28T17:44:31.688Z"
      },
      {
        "duration": 3,
        "start_time": "2024-02-28T17:44:31.830Z"
      },
      {
        "duration": 23,
        "start_time": "2024-02-28T17:44:31.835Z"
      },
      {
        "duration": 31,
        "start_time": "2024-02-28T17:44:31.860Z"
      },
      {
        "duration": 14,
        "start_time": "2024-02-28T17:44:31.895Z"
      },
      {
        "duration": 10,
        "start_time": "2024-02-28T17:44:31.911Z"
      },
      {
        "duration": 112,
        "start_time": "2024-02-28T17:44:31.922Z"
      },
      {
        "duration": 3,
        "start_time": "2024-02-28T17:44:32.035Z"
      },
      {
        "duration": 33,
        "start_time": "2024-02-28T17:44:32.039Z"
      },
      {
        "duration": 15,
        "start_time": "2024-02-28T17:44:32.073Z"
      },
      {
        "duration": 14,
        "start_time": "2024-02-28T17:44:32.089Z"
      },
      {
        "duration": 20,
        "start_time": "2024-02-28T17:44:32.105Z"
      },
      {
        "duration": 72,
        "start_time": "2024-02-28T17:44:32.127Z"
      },
      {
        "duration": 3,
        "start_time": "2024-02-28T17:44:32.201Z"
      },
      {
        "duration": 31,
        "start_time": "2024-02-28T17:44:32.206Z"
      },
      {
        "duration": 81,
        "start_time": "2024-02-28T17:44:32.239Z"
      },
      {
        "duration": 167,
        "start_time": "2024-02-28T17:44:32.321Z"
      },
      {
        "duration": 106,
        "start_time": "2024-02-28T17:44:32.489Z"
      },
      {
        "duration": 160,
        "start_time": "2024-02-28T17:44:32.596Z"
      },
      {
        "duration": 85,
        "start_time": "2024-02-28T17:44:32.757Z"
      },
      {
        "duration": 102,
        "start_time": "2024-02-28T17:44:32.843Z"
      },
      {
        "duration": 92,
        "start_time": "2024-02-28T17:44:32.947Z"
      },
      {
        "duration": 29,
        "start_time": "2024-02-28T17:44:33.040Z"
      },
      {
        "duration": 24,
        "start_time": "2024-02-28T17:44:33.070Z"
      },
      {
        "duration": 24,
        "start_time": "2024-02-28T17:44:33.095Z"
      },
      {
        "duration": 11,
        "start_time": "2024-02-28T17:44:33.120Z"
      },
      {
        "duration": 15,
        "start_time": "2024-02-28T17:44:33.132Z"
      },
      {
        "duration": 233,
        "start_time": "2024-02-28T17:44:33.148Z"
      },
      {
        "duration": 116,
        "start_time": "2024-02-28T17:44:33.382Z"
      },
      {
        "duration": 0,
        "start_time": "2024-02-28T17:44:33.561Z"
      },
      {
        "duration": 0,
        "start_time": "2024-02-28T17:44:33.562Z"
      },
      {
        "duration": 0,
        "start_time": "2024-02-28T17:44:33.563Z"
      },
      {
        "duration": 0,
        "start_time": "2024-02-28T17:44:33.565Z"
      },
      {
        "duration": 0,
        "start_time": "2024-02-28T17:44:33.566Z"
      },
      {
        "duration": 0,
        "start_time": "2024-02-28T17:44:33.568Z"
      },
      {
        "duration": 0,
        "start_time": "2024-02-28T17:44:33.569Z"
      },
      {
        "duration": 0,
        "start_time": "2024-02-28T17:44:33.570Z"
      },
      {
        "duration": 0,
        "start_time": "2024-02-28T17:44:33.571Z"
      },
      {
        "duration": 0,
        "start_time": "2024-02-28T17:44:33.594Z"
      },
      {
        "duration": 0,
        "start_time": "2024-02-28T17:44:33.596Z"
      },
      {
        "duration": 0,
        "start_time": "2024-02-28T17:44:33.597Z"
      },
      {
        "duration": 0,
        "start_time": "2024-02-28T17:44:33.598Z"
      },
      {
        "duration": 0,
        "start_time": "2024-02-28T17:44:33.600Z"
      },
      {
        "duration": 0,
        "start_time": "2024-02-28T17:44:33.601Z"
      },
      {
        "duration": 0,
        "start_time": "2024-02-28T17:44:33.602Z"
      },
      {
        "duration": 0,
        "start_time": "2024-02-28T17:44:33.603Z"
      },
      {
        "duration": 0,
        "start_time": "2024-02-28T17:44:33.605Z"
      },
      {
        "duration": 0,
        "start_time": "2024-02-28T17:44:33.605Z"
      },
      {
        "duration": 0,
        "start_time": "2024-02-28T17:44:33.607Z"
      },
      {
        "duration": 0,
        "start_time": "2024-02-28T17:44:33.608Z"
      },
      {
        "duration": 0,
        "start_time": "2024-02-28T17:44:33.609Z"
      },
      {
        "duration": 0,
        "start_time": "2024-02-28T17:44:33.610Z"
      },
      {
        "duration": 0,
        "start_time": "2024-02-28T17:44:33.612Z"
      },
      {
        "duration": 0,
        "start_time": "2024-02-28T17:44:33.613Z"
      },
      {
        "duration": 0,
        "start_time": "2024-02-28T17:44:33.614Z"
      },
      {
        "duration": 0,
        "start_time": "2024-02-28T17:44:33.615Z"
      },
      {
        "duration": 0,
        "start_time": "2024-02-28T17:44:33.616Z"
      },
      {
        "duration": 0,
        "start_time": "2024-02-28T17:44:33.617Z"
      },
      {
        "duration": 0,
        "start_time": "2024-02-28T17:44:33.618Z"
      },
      {
        "duration": 0,
        "start_time": "2024-02-28T17:44:33.619Z"
      },
      {
        "duration": 0,
        "start_time": "2024-02-28T17:44:33.620Z"
      },
      {
        "duration": 0,
        "start_time": "2024-02-28T17:44:33.621Z"
      },
      {
        "duration": 0,
        "start_time": "2024-02-28T17:44:33.622Z"
      },
      {
        "duration": 0,
        "start_time": "2024-02-28T17:44:33.623Z"
      },
      {
        "duration": 0,
        "start_time": "2024-02-28T17:44:33.624Z"
      },
      {
        "duration": 0,
        "start_time": "2024-02-28T17:44:33.625Z"
      },
      {
        "duration": 0,
        "start_time": "2024-02-28T17:44:33.626Z"
      },
      {
        "duration": 0,
        "start_time": "2024-02-28T17:44:33.627Z"
      },
      {
        "duration": 0,
        "start_time": "2024-02-28T17:44:33.628Z"
      },
      {
        "duration": 0,
        "start_time": "2024-02-28T17:44:33.629Z"
      },
      {
        "duration": 0,
        "start_time": "2024-02-28T17:44:33.630Z"
      },
      {
        "duration": 0,
        "start_time": "2024-02-28T17:44:33.631Z"
      },
      {
        "duration": 0,
        "start_time": "2024-02-28T17:44:33.632Z"
      },
      {
        "duration": 0,
        "start_time": "2024-02-28T17:44:33.632Z"
      },
      {
        "duration": 0,
        "start_time": "2024-02-28T17:44:33.694Z"
      },
      {
        "duration": 0,
        "start_time": "2024-02-28T17:44:33.695Z"
      },
      {
        "duration": 0,
        "start_time": "2024-02-28T17:44:33.697Z"
      },
      {
        "duration": 0,
        "start_time": "2024-02-28T17:44:33.698Z"
      },
      {
        "duration": 0,
        "start_time": "2024-02-28T17:44:33.698Z"
      },
      {
        "duration": 0,
        "start_time": "2024-02-28T17:44:33.700Z"
      },
      {
        "duration": 0,
        "start_time": "2024-02-28T17:44:33.700Z"
      },
      {
        "duration": 0,
        "start_time": "2024-02-28T17:44:33.701Z"
      },
      {
        "duration": 0,
        "start_time": "2024-02-28T17:44:33.702Z"
      },
      {
        "duration": 0,
        "start_time": "2024-02-28T17:44:33.703Z"
      },
      {
        "duration": 131,
        "start_time": "2024-02-28T17:44:51.289Z"
      },
      {
        "duration": 12,
        "start_time": "2024-02-28T17:46:29.152Z"
      },
      {
        "duration": 158,
        "start_time": "2024-02-28T17:46:34.419Z"
      },
      {
        "duration": 17,
        "start_time": "2024-02-28T17:47:24.735Z"
      },
      {
        "duration": 150,
        "start_time": "2024-02-28T17:48:35.650Z"
      },
      {
        "duration": 7,
        "start_time": "2024-02-28T17:51:33.430Z"
      },
      {
        "duration": 9866,
        "start_time": "2024-02-28T17:53:27.823Z"
      },
      {
        "duration": 3,
        "start_time": "2024-02-28T17:53:37.691Z"
      },
      {
        "duration": 24,
        "start_time": "2024-02-28T17:53:37.695Z"
      },
      {
        "duration": 63,
        "start_time": "2024-02-28T17:53:37.721Z"
      },
      {
        "duration": 4,
        "start_time": "2024-02-28T17:53:37.787Z"
      },
      {
        "duration": 51,
        "start_time": "2024-02-28T17:53:37.792Z"
      },
      {
        "duration": 32,
        "start_time": "2024-02-28T17:53:37.845Z"
      },
      {
        "duration": 16,
        "start_time": "2024-02-28T17:53:37.879Z"
      },
      {
        "duration": 13,
        "start_time": "2024-02-28T17:53:37.897Z"
      },
      {
        "duration": 34,
        "start_time": "2024-02-28T17:53:37.913Z"
      },
      {
        "duration": 5,
        "start_time": "2024-02-28T17:53:37.949Z"
      },
      {
        "duration": 23,
        "start_time": "2024-02-28T17:53:37.956Z"
      },
      {
        "duration": 9,
        "start_time": "2024-02-28T17:53:37.981Z"
      },
      {
        "duration": 30,
        "start_time": "2024-02-28T17:53:37.994Z"
      },
      {
        "duration": 20,
        "start_time": "2024-02-28T17:53:38.026Z"
      },
      {
        "duration": 39,
        "start_time": "2024-02-28T17:53:38.047Z"
      },
      {
        "duration": 4,
        "start_time": "2024-02-28T17:53:38.087Z"
      },
      {
        "duration": 49,
        "start_time": "2024-02-28T17:53:38.093Z"
      },
      {
        "duration": 8,
        "start_time": "2024-02-28T17:53:38.144Z"
      },
      {
        "duration": 42,
        "start_time": "2024-02-28T17:53:38.154Z"
      },
      {
        "duration": 108,
        "start_time": "2024-02-28T17:53:38.197Z"
      },
      {
        "duration": 118,
        "start_time": "2024-02-28T17:53:38.307Z"
      },
      {
        "duration": 16,
        "start_time": "2024-02-28T17:53:38.427Z"
      },
      {
        "duration": 22,
        "start_time": "2024-02-28T17:53:38.444Z"
      },
      {
        "duration": 24,
        "start_time": "2024-02-28T17:53:38.467Z"
      },
      {
        "duration": 17,
        "start_time": "2024-02-28T17:53:38.492Z"
      },
      {
        "duration": 5,
        "start_time": "2024-02-28T17:53:38.511Z"
      },
      {
        "duration": 18,
        "start_time": "2024-02-28T17:53:38.517Z"
      },
      {
        "duration": 18,
        "start_time": "2024-02-28T17:53:38.536Z"
      },
      {
        "duration": 45,
        "start_time": "2024-02-28T17:53:38.555Z"
      },
      {
        "duration": 20,
        "start_time": "2024-02-28T17:53:38.602Z"
      },
      {
        "duration": 12,
        "start_time": "2024-02-28T17:53:38.624Z"
      },
      {
        "duration": 9,
        "start_time": "2024-02-28T17:53:38.638Z"
      },
      {
        "duration": 36,
        "start_time": "2024-02-28T17:53:38.648Z"
      },
      {
        "duration": 21,
        "start_time": "2024-02-28T17:53:38.686Z"
      },
      {
        "duration": 47,
        "start_time": "2024-02-28T17:53:38.708Z"
      },
      {
        "duration": 315,
        "start_time": "2024-02-28T17:53:38.757Z"
      },
      {
        "duration": 147,
        "start_time": "2024-02-28T17:53:39.073Z"
      },
      {
        "duration": 186,
        "start_time": "2024-02-28T17:53:39.222Z"
      },
      {
        "duration": 176,
        "start_time": "2024-02-28T17:53:39.410Z"
      },
      {
        "duration": 8,
        "start_time": "2024-02-28T17:53:39.593Z"
      },
      {
        "duration": 35,
        "start_time": "2024-02-28T17:53:39.602Z"
      },
      {
        "duration": 17,
        "start_time": "2024-02-28T17:53:39.638Z"
      },
      {
        "duration": 31,
        "start_time": "2024-02-28T17:53:39.656Z"
      },
      {
        "duration": 49,
        "start_time": "2024-02-28T17:53:39.688Z"
      },
      {
        "duration": 1147,
        "start_time": "2024-02-28T17:53:39.739Z"
      },
      {
        "duration": 3,
        "start_time": "2024-02-28T17:53:40.888Z"
      },
      {
        "duration": 33,
        "start_time": "2024-02-28T17:53:40.893Z"
      },
      {
        "duration": 9,
        "start_time": "2024-02-28T17:53:40.928Z"
      },
      {
        "duration": 54,
        "start_time": "2024-02-28T17:53:40.938Z"
      },
      {
        "duration": 33,
        "start_time": "2024-02-28T17:53:40.994Z"
      },
      {
        "duration": 628,
        "start_time": "2024-02-28T17:53:41.029Z"
      },
      {
        "duration": 3,
        "start_time": "2024-02-28T17:53:41.659Z"
      },
      {
        "duration": 30,
        "start_time": "2024-02-28T17:53:41.663Z"
      },
      {
        "duration": 13,
        "start_time": "2024-02-28T17:53:41.694Z"
      },
      {
        "duration": 14,
        "start_time": "2024-02-28T17:53:41.709Z"
      },
      {
        "duration": 137,
        "start_time": "2024-02-28T17:53:41.725Z"
      },
      {
        "duration": 16,
        "start_time": "2024-02-28T17:53:41.864Z"
      },
      {
        "duration": 67,
        "start_time": "2024-02-28T17:53:41.881Z"
      },
      {
        "duration": 24,
        "start_time": "2024-02-28T17:53:41.951Z"
      },
      {
        "duration": 39,
        "start_time": "2024-02-28T17:53:41.977Z"
      },
      {
        "duration": 62,
        "start_time": "2024-02-28T17:53:42.017Z"
      },
      {
        "duration": 38,
        "start_time": "2024-02-28T17:53:42.081Z"
      },
      {
        "duration": 53,
        "start_time": "2024-02-28T17:53:42.121Z"
      },
      {
        "duration": 8,
        "start_time": "2024-02-28T17:53:42.176Z"
      },
      {
        "duration": 32,
        "start_time": "2024-02-28T17:53:42.185Z"
      },
      {
        "duration": 16,
        "start_time": "2024-02-28T17:53:42.219Z"
      },
      {
        "duration": 8,
        "start_time": "2024-02-28T17:53:42.236Z"
      },
      {
        "duration": 30,
        "start_time": "2024-02-28T17:53:42.246Z"
      },
      {
        "duration": 32,
        "start_time": "2024-02-28T17:53:42.278Z"
      },
      {
        "duration": 20,
        "start_time": "2024-02-28T17:53:42.312Z"
      },
      {
        "duration": 18,
        "start_time": "2024-02-28T17:53:42.333Z"
      },
      {
        "duration": 41,
        "start_time": "2024-02-28T17:53:42.353Z"
      },
      {
        "duration": 777,
        "start_time": "2024-02-28T17:53:42.396Z"
      },
      {
        "duration": 24,
        "start_time": "2024-02-28T17:53:43.175Z"
      },
      {
        "duration": 22,
        "start_time": "2024-02-28T17:53:43.201Z"
      },
      {
        "duration": 731,
        "start_time": "2024-02-28T17:53:43.225Z"
      },
      {
        "duration": 125,
        "start_time": "2024-02-28T17:53:43.958Z"
      },
      {
        "duration": 3205,
        "start_time": "2024-02-28T17:53:44.084Z"
      },
      {
        "duration": 23,
        "start_time": "2024-02-28T17:53:47.293Z"
      },
      {
        "duration": 189,
        "start_time": "2024-02-28T17:53:47.318Z"
      },
      {
        "duration": 67,
        "start_time": "2024-02-28T17:53:47.508Z"
      },
      {
        "duration": 43,
        "start_time": "2024-02-28T17:53:47.576Z"
      },
      {
        "duration": 41,
        "start_time": "2024-02-28T17:53:47.620Z"
      },
      {
        "duration": 56,
        "start_time": "2024-02-28T17:53:47.662Z"
      },
      {
        "duration": 36,
        "start_time": "2024-02-28T17:53:47.720Z"
      },
      {
        "duration": 87,
        "start_time": "2024-02-28T17:53:47.758Z"
      },
      {
        "duration": 22,
        "start_time": "2024-02-28T17:53:47.847Z"
      },
      {
        "duration": 63,
        "start_time": "2024-02-28T17:53:47.870Z"
      },
      {
        "duration": 155494,
        "start_time": "2024-02-28T17:53:47.934Z"
      },
      {
        "duration": 4,
        "start_time": "2024-02-28T17:56:23.429Z"
      },
      {
        "duration": 5103,
        "start_time": "2024-02-28T17:56:23.434Z"
      },
      {
        "duration": 4,
        "start_time": "2024-02-28T17:56:28.539Z"
      },
      {
        "duration": 55,
        "start_time": "2024-02-28T17:56:28.544Z"
      },
      {
        "duration": 106,
        "start_time": "2024-02-28T17:56:28.601Z"
      },
      {
        "duration": 101,
        "start_time": "2024-02-28T18:00:44.735Z"
      },
      {
        "duration": 15,
        "start_time": "2024-02-28T18:18:44.741Z"
      },
      {
        "duration": 14,
        "start_time": "2024-02-28T18:18:54.830Z"
      },
      {
        "duration": 15,
        "start_time": "2024-02-28T18:19:01.251Z"
      },
      {
        "duration": 9835,
        "start_time": "2024-02-28T18:24:16.836Z"
      },
      {
        "duration": 2,
        "start_time": "2024-02-28T18:24:26.674Z"
      },
      {
        "duration": 18,
        "start_time": "2024-02-28T18:24:26.677Z"
      },
      {
        "duration": 68,
        "start_time": "2024-02-28T18:24:26.696Z"
      },
      {
        "duration": 4,
        "start_time": "2024-02-28T18:24:26.767Z"
      },
      {
        "duration": 40,
        "start_time": "2024-02-28T18:24:26.772Z"
      },
      {
        "duration": 25,
        "start_time": "2024-02-28T18:24:26.814Z"
      },
      {
        "duration": 6,
        "start_time": "2024-02-28T18:24:26.840Z"
      },
      {
        "duration": 11,
        "start_time": "2024-02-28T18:24:26.847Z"
      },
      {
        "duration": 63,
        "start_time": "2024-02-28T18:24:26.859Z"
      },
      {
        "duration": 3,
        "start_time": "2024-02-28T18:24:26.924Z"
      },
      {
        "duration": 42,
        "start_time": "2024-02-28T18:24:26.929Z"
      },
      {
        "duration": 17,
        "start_time": "2024-02-28T18:24:26.973Z"
      },
      {
        "duration": 4,
        "start_time": "2024-02-28T18:24:26.993Z"
      },
      {
        "duration": 9,
        "start_time": "2024-02-28T18:24:26.998Z"
      },
      {
        "duration": 30,
        "start_time": "2024-02-28T18:24:27.008Z"
      },
      {
        "duration": 3,
        "start_time": "2024-02-28T18:24:27.040Z"
      },
      {
        "duration": 15,
        "start_time": "2024-02-28T18:24:27.045Z"
      },
      {
        "duration": 65,
        "start_time": "2024-02-28T18:24:27.062Z"
      },
      {
        "duration": 12,
        "start_time": "2024-02-28T18:24:27.129Z"
      },
      {
        "duration": 8,
        "start_time": "2024-02-28T18:24:27.142Z"
      },
      {
        "duration": 39,
        "start_time": "2024-02-28T18:24:27.152Z"
      },
      {
        "duration": 9,
        "start_time": "2024-02-28T18:24:27.193Z"
      },
      {
        "duration": 29,
        "start_time": "2024-02-28T18:24:27.203Z"
      },
      {
        "duration": 10,
        "start_time": "2024-02-28T18:24:27.234Z"
      },
      {
        "duration": 11,
        "start_time": "2024-02-28T18:24:27.245Z"
      },
      {
        "duration": 47,
        "start_time": "2024-02-28T18:24:27.257Z"
      },
      {
        "duration": 24,
        "start_time": "2024-02-28T18:24:27.305Z"
      },
      {
        "duration": 18,
        "start_time": "2024-02-28T18:24:27.330Z"
      },
      {
        "duration": 18,
        "start_time": "2024-02-28T18:24:27.349Z"
      },
      {
        "duration": 29,
        "start_time": "2024-02-28T18:24:27.368Z"
      },
      {
        "duration": 3,
        "start_time": "2024-02-28T18:24:27.398Z"
      },
      {
        "duration": 13,
        "start_time": "2024-02-28T18:24:27.403Z"
      },
      {
        "duration": 30,
        "start_time": "2024-02-28T18:24:27.417Z"
      },
      {
        "duration": 5,
        "start_time": "2024-02-28T18:24:27.449Z"
      },
      {
        "duration": 14,
        "start_time": "2024-02-28T18:24:27.456Z"
      },
      {
        "duration": 220,
        "start_time": "2024-02-28T18:24:27.471Z"
      },
      {
        "duration": 156,
        "start_time": "2024-02-28T18:24:27.692Z"
      },
      {
        "duration": 165,
        "start_time": "2024-02-28T18:24:27.849Z"
      },
      {
        "duration": 153,
        "start_time": "2024-02-28T18:24:28.016Z"
      },
      {
        "duration": 7,
        "start_time": "2024-02-28T18:24:28.173Z"
      },
      {
        "duration": 25,
        "start_time": "2024-02-28T18:24:28.181Z"
      },
      {
        "duration": 29,
        "start_time": "2024-02-28T18:24:28.207Z"
      },
      {
        "duration": 53,
        "start_time": "2024-02-28T18:24:28.237Z"
      },
      {
        "duration": 1005,
        "start_time": "2024-02-28T18:24:28.292Z"
      },
      {
        "duration": 3,
        "start_time": "2024-02-28T18:24:29.298Z"
      },
      {
        "duration": 18,
        "start_time": "2024-02-28T18:24:29.302Z"
      },
      {
        "duration": 20,
        "start_time": "2024-02-28T18:24:29.321Z"
      },
      {
        "duration": 19,
        "start_time": "2024-02-28T18:24:29.342Z"
      },
      {
        "duration": 10,
        "start_time": "2024-02-28T18:24:29.363Z"
      },
      {
        "duration": 601,
        "start_time": "2024-02-28T18:24:29.375Z"
      },
      {
        "duration": 16,
        "start_time": "2024-02-28T18:24:29.978Z"
      },
      {
        "duration": 36,
        "start_time": "2024-02-28T18:24:29.996Z"
      },
      {
        "duration": 57,
        "start_time": "2024-02-28T18:24:30.034Z"
      },
      {
        "duration": 149,
        "start_time": "2024-02-28T18:24:30.093Z"
      },
      {
        "duration": 27,
        "start_time": "2024-02-28T18:24:30.243Z"
      },
      {
        "duration": 44,
        "start_time": "2024-02-28T18:24:30.272Z"
      },
      {
        "duration": 61,
        "start_time": "2024-02-28T18:24:30.318Z"
      },
      {
        "duration": 110,
        "start_time": "2024-02-28T18:24:30.380Z"
      },
      {
        "duration": 155,
        "start_time": "2024-02-28T18:24:30.492Z"
      },
      {
        "duration": 130,
        "start_time": "2024-02-28T18:24:30.649Z"
      },
      {
        "duration": 130,
        "start_time": "2024-02-28T18:24:30.781Z"
      },
      {
        "duration": 110,
        "start_time": "2024-02-28T18:24:30.912Z"
      },
      {
        "duration": 65,
        "start_time": "2024-02-28T18:24:31.023Z"
      },
      {
        "duration": 100,
        "start_time": "2024-02-28T18:24:31.090Z"
      },
      {
        "duration": 126,
        "start_time": "2024-02-28T18:24:31.192Z"
      },
      {
        "duration": 20,
        "start_time": "2024-02-28T18:25:19.126Z"
      },
      {
        "duration": 14,
        "start_time": "2024-02-28T18:25:21.970Z"
      },
      {
        "duration": 11,
        "start_time": "2024-02-28T18:25:43.187Z"
      },
      {
        "duration": 22,
        "start_time": "2024-02-28T18:26:18.174Z"
      },
      {
        "duration": 642,
        "start_time": "2024-02-28T18:26:53.603Z"
      },
      {
        "duration": 2,
        "start_time": "2024-02-28T18:27:30.755Z"
      },
      {
        "duration": 16,
        "start_time": "2024-02-28T18:27:48.175Z"
      },
      {
        "duration": 11181,
        "start_time": "2024-02-28T18:28:20.007Z"
      },
      {
        "duration": 3,
        "start_time": "2024-02-28T18:28:31.189Z"
      },
      {
        "duration": 75,
        "start_time": "2024-02-28T18:28:31.193Z"
      },
      {
        "duration": 87,
        "start_time": "2024-02-28T18:28:31.269Z"
      },
      {
        "duration": 12,
        "start_time": "2024-02-28T18:28:31.358Z"
      },
      {
        "duration": 64,
        "start_time": "2024-02-28T18:28:31.372Z"
      },
      {
        "duration": 35,
        "start_time": "2024-02-28T18:28:31.438Z"
      },
      {
        "duration": 52,
        "start_time": "2024-02-28T18:28:31.474Z"
      },
      {
        "duration": 56,
        "start_time": "2024-02-28T18:28:31.528Z"
      },
      {
        "duration": 87,
        "start_time": "2024-02-28T18:28:31.586Z"
      },
      {
        "duration": 64,
        "start_time": "2024-02-28T18:28:31.675Z"
      },
      {
        "duration": 47,
        "start_time": "2024-02-28T18:28:31.741Z"
      },
      {
        "duration": 84,
        "start_time": "2024-02-28T18:28:31.789Z"
      },
      {
        "duration": 36,
        "start_time": "2024-02-28T18:28:31.877Z"
      },
      {
        "duration": 87,
        "start_time": "2024-02-28T18:28:31.915Z"
      },
      {
        "duration": 248,
        "start_time": "2024-02-28T18:28:32.003Z"
      },
      {
        "duration": 40,
        "start_time": "2024-02-28T18:28:32.253Z"
      },
      {
        "duration": 63,
        "start_time": "2024-02-28T18:28:32.294Z"
      },
      {
        "duration": 80,
        "start_time": "2024-02-28T18:28:32.359Z"
      },
      {
        "duration": 73,
        "start_time": "2024-02-28T18:28:32.441Z"
      },
      {
        "duration": 109,
        "start_time": "2024-02-28T18:28:32.516Z"
      },
      {
        "duration": 222,
        "start_time": "2024-02-28T18:28:32.627Z"
      },
      {
        "duration": 80,
        "start_time": "2024-02-28T18:28:32.851Z"
      },
      {
        "duration": 133,
        "start_time": "2024-02-28T18:28:32.933Z"
      },
      {
        "duration": 241,
        "start_time": "2024-02-28T18:28:33.068Z"
      },
      {
        "duration": 29,
        "start_time": "2024-02-28T18:28:33.310Z"
      },
      {
        "duration": 3,
        "start_time": "2024-02-28T18:28:33.341Z"
      },
      {
        "duration": 5,
        "start_time": "2024-02-28T18:28:33.346Z"
      },
      {
        "duration": 15,
        "start_time": "2024-02-28T18:28:33.353Z"
      },
      {
        "duration": 29,
        "start_time": "2024-02-28T18:28:33.370Z"
      },
      {
        "duration": 26,
        "start_time": "2024-02-28T18:28:33.401Z"
      },
      {
        "duration": 3,
        "start_time": "2024-02-28T18:28:33.428Z"
      },
      {
        "duration": 9,
        "start_time": "2024-02-28T18:28:33.433Z"
      },
      {
        "duration": 30,
        "start_time": "2024-02-28T18:28:33.444Z"
      },
      {
        "duration": 4,
        "start_time": "2024-02-28T18:28:33.476Z"
      },
      {
        "duration": 25,
        "start_time": "2024-02-28T18:28:33.481Z"
      },
      {
        "duration": 234,
        "start_time": "2024-02-28T18:28:33.507Z"
      },
      {
        "duration": 159,
        "start_time": "2024-02-28T18:28:33.743Z"
      },
      {
        "duration": 227,
        "start_time": "2024-02-28T18:28:33.904Z"
      },
      {
        "duration": 162,
        "start_time": "2024-02-28T18:28:34.132Z"
      },
      {
        "duration": 7,
        "start_time": "2024-02-28T18:28:34.298Z"
      },
      {
        "duration": 16,
        "start_time": "2024-02-28T18:28:34.306Z"
      },
      {
        "duration": 8,
        "start_time": "2024-02-28T18:28:34.323Z"
      },
      {
        "duration": 12,
        "start_time": "2024-02-28T18:28:34.332Z"
      },
      {
        "duration": 908,
        "start_time": "2024-02-28T18:28:34.346Z"
      },
      {
        "duration": 3,
        "start_time": "2024-02-28T18:28:35.256Z"
      },
      {
        "duration": 39,
        "start_time": "2024-02-28T18:28:35.260Z"
      },
      {
        "duration": 20,
        "start_time": "2024-02-28T18:28:35.300Z"
      },
      {
        "duration": 21,
        "start_time": "2024-02-28T18:28:35.321Z"
      },
      {
        "duration": 19,
        "start_time": "2024-02-28T18:28:35.343Z"
      },
      {
        "duration": 645,
        "start_time": "2024-02-28T18:28:35.364Z"
      },
      {
        "duration": 3,
        "start_time": "2024-02-28T18:28:36.011Z"
      },
      {
        "duration": 33,
        "start_time": "2024-02-28T18:28:36.016Z"
      },
      {
        "duration": 25,
        "start_time": "2024-02-28T18:28:36.050Z"
      },
      {
        "duration": 134,
        "start_time": "2024-02-28T18:28:36.076Z"
      },
      {
        "duration": 24,
        "start_time": "2024-02-28T18:28:36.212Z"
      },
      {
        "duration": 27,
        "start_time": "2024-02-28T18:28:36.238Z"
      },
      {
        "duration": 31,
        "start_time": "2024-02-28T18:28:36.266Z"
      },
      {
        "duration": 23,
        "start_time": "2024-02-28T18:28:36.299Z"
      },
      {
        "duration": 14,
        "start_time": "2024-02-28T18:28:36.324Z"
      },
      {
        "duration": 51,
        "start_time": "2024-02-28T18:28:36.339Z"
      },
      {
        "duration": 21,
        "start_time": "2024-02-28T18:28:36.392Z"
      },
      {
        "duration": 46,
        "start_time": "2024-02-28T18:28:36.414Z"
      },
      {
        "duration": 18,
        "start_time": "2024-02-28T18:28:36.461Z"
      },
      {
        "duration": 25,
        "start_time": "2024-02-28T18:28:36.480Z"
      },
      {
        "duration": 45,
        "start_time": "2024-02-28T18:28:36.506Z"
      },
      {
        "duration": 37,
        "start_time": "2024-02-28T18:28:36.553Z"
      },
      {
        "duration": 85,
        "start_time": "2024-02-28T18:28:36.591Z"
      },
      {
        "duration": 30,
        "start_time": "2024-02-28T18:28:36.678Z"
      },
      {
        "duration": 52,
        "start_time": "2024-02-28T18:28:36.710Z"
      },
      {
        "duration": 769,
        "start_time": "2024-02-28T18:28:36.764Z"
      },
      {
        "duration": 3,
        "start_time": "2024-02-28T18:28:37.535Z"
      },
      {
        "duration": 112,
        "start_time": "2024-02-28T18:28:45.247Z"
      },
      {
        "duration": 15,
        "start_time": "2024-02-28T18:29:18.710Z"
      },
      {
        "duration": 699,
        "start_time": "2024-02-28T18:29:31.191Z"
      },
      {
        "duration": 3,
        "start_time": "2024-02-28T18:29:49.279Z"
      },
      {
        "duration": 111,
        "start_time": "2024-02-28T18:29:57.353Z"
      },
      {
        "duration": 3035,
        "start_time": "2024-02-28T18:36:14.460Z"
      },
      {
        "duration": 22,
        "start_time": "2024-02-28T18:36:29.526Z"
      },
      {
        "duration": 24,
        "start_time": "2024-02-28T18:47:30.321Z"
      },
      {
        "duration": 36,
        "start_time": "2024-02-28T18:51:14.618Z"
      },
      {
        "duration": 900,
        "start_time": "2024-02-28T19:17:14.011Z"
      },
      {
        "duration": 472,
        "start_time": "2024-02-28T19:17:30.228Z"
      },
      {
        "duration": 5691,
        "start_time": "2024-02-28T19:18:25.727Z"
      },
      {
        "duration": 2097,
        "start_time": "2024-02-28T19:18:44.147Z"
      },
      {
        "duration": 2097,
        "start_time": "2024-02-28T19:19:00.143Z"
      },
      {
        "duration": 2,
        "start_time": "2024-02-28T19:19:14.749Z"
      },
      {
        "duration": 13,
        "start_time": "2024-02-28T19:25:31.682Z"
      },
      {
        "duration": 23,
        "start_time": "2024-02-28T19:25:44.336Z"
      },
      {
        "duration": 24,
        "start_time": "2024-02-28T19:26:08.573Z"
      },
      {
        "duration": 861,
        "start_time": "2024-02-28T19:27:29.268Z"
      },
      {
        "duration": 397,
        "start_time": "2024-02-28T19:27:41.372Z"
      },
      {
        "duration": 5756,
        "start_time": "2024-02-28T19:27:50.278Z"
      },
      {
        "duration": 11,
        "start_time": "2024-02-28T19:36:13.389Z"
      },
      {
        "duration": 11,
        "start_time": "2024-02-28T19:40:36.339Z"
      },
      {
        "duration": 25,
        "start_time": "2024-02-28T19:50:47.805Z"
      },
      {
        "duration": 28,
        "start_time": "2024-02-28T19:51:03.420Z"
      },
      {
        "duration": 13,
        "start_time": "2024-02-28T19:56:40.734Z"
      },
      {
        "duration": 14,
        "start_time": "2024-02-28T19:56:45.809Z"
      },
      {
        "duration": 5,
        "start_time": "2024-02-28T19:56:53.933Z"
      },
      {
        "duration": 3,
        "start_time": "2024-02-28T19:56:59.996Z"
      },
      {
        "duration": 7,
        "start_time": "2024-02-28T19:57:18.657Z"
      },
      {
        "duration": 4,
        "start_time": "2024-02-28T19:57:24.425Z"
      },
      {
        "duration": 6,
        "start_time": "2024-02-28T19:59:16.140Z"
      },
      {
        "duration": 60,
        "start_time": "2024-02-28T19:59:19.854Z"
      },
      {
        "duration": 24,
        "start_time": "2024-02-28T19:59:24.091Z"
      },
      {
        "duration": 11,
        "start_time": "2024-02-28T19:59:51.059Z"
      },
      {
        "duration": 11008,
        "start_time": "2024-02-28T20:11:39.882Z"
      },
      {
        "duration": 3,
        "start_time": "2024-02-28T20:11:50.892Z"
      },
      {
        "duration": 63,
        "start_time": "2024-02-28T20:11:50.896Z"
      },
      {
        "duration": 82,
        "start_time": "2024-02-28T20:11:50.961Z"
      },
      {
        "duration": 3,
        "start_time": "2024-02-28T20:11:51.044Z"
      },
      {
        "duration": 28,
        "start_time": "2024-02-28T20:11:51.049Z"
      },
      {
        "duration": 29,
        "start_time": "2024-02-28T20:11:51.078Z"
      },
      {
        "duration": 21,
        "start_time": "2024-02-28T20:11:51.108Z"
      },
      {
        "duration": 47,
        "start_time": "2024-02-28T20:11:51.130Z"
      },
      {
        "duration": 79,
        "start_time": "2024-02-28T20:11:51.179Z"
      },
      {
        "duration": 12,
        "start_time": "2024-02-28T20:11:51.259Z"
      },
      {
        "duration": 26,
        "start_time": "2024-02-28T20:11:51.273Z"
      },
      {
        "duration": 17,
        "start_time": "2024-02-28T20:11:51.300Z"
      },
      {
        "duration": 16,
        "start_time": "2024-02-28T20:11:51.318Z"
      },
      {
        "duration": 13,
        "start_time": "2024-02-28T20:11:51.335Z"
      },
      {
        "duration": 39,
        "start_time": "2024-02-28T20:11:51.349Z"
      },
      {
        "duration": 3,
        "start_time": "2024-02-28T20:11:51.389Z"
      },
      {
        "duration": 35,
        "start_time": "2024-02-28T20:11:51.394Z"
      },
      {
        "duration": 51,
        "start_time": "2024-02-28T20:11:51.430Z"
      },
      {
        "duration": 30,
        "start_time": "2024-02-28T20:11:51.483Z"
      },
      {
        "duration": 24,
        "start_time": "2024-02-28T20:11:51.515Z"
      },
      {
        "duration": 49,
        "start_time": "2024-02-28T20:11:51.541Z"
      },
      {
        "duration": 10,
        "start_time": "2024-02-28T20:11:51.592Z"
      },
      {
        "duration": 47,
        "start_time": "2024-02-28T20:11:51.603Z"
      },
      {
        "duration": 26,
        "start_time": "2024-02-28T20:11:51.652Z"
      },
      {
        "duration": 24,
        "start_time": "2024-02-28T20:11:51.679Z"
      },
      {
        "duration": 29,
        "start_time": "2024-02-28T20:11:51.704Z"
      },
      {
        "duration": 28,
        "start_time": "2024-02-28T20:11:51.737Z"
      },
      {
        "duration": 29,
        "start_time": "2024-02-28T20:11:51.767Z"
      },
      {
        "duration": 25,
        "start_time": "2024-02-28T20:11:51.797Z"
      },
      {
        "duration": 31,
        "start_time": "2024-02-28T20:11:51.823Z"
      },
      {
        "duration": 19,
        "start_time": "2024-02-28T20:11:51.855Z"
      },
      {
        "duration": 28,
        "start_time": "2024-02-28T20:11:51.875Z"
      },
      {
        "duration": 27,
        "start_time": "2024-02-28T20:11:51.904Z"
      },
      {
        "duration": 36,
        "start_time": "2024-02-28T20:11:51.932Z"
      },
      {
        "duration": 20,
        "start_time": "2024-02-28T20:11:51.970Z"
      },
      {
        "duration": 234,
        "start_time": "2024-02-28T20:11:51.992Z"
      },
      {
        "duration": 139,
        "start_time": "2024-02-28T20:11:52.228Z"
      },
      {
        "duration": 220,
        "start_time": "2024-02-28T20:11:52.369Z"
      },
      {
        "duration": 143,
        "start_time": "2024-02-28T20:11:52.594Z"
      },
      {
        "duration": 7,
        "start_time": "2024-02-28T20:11:52.738Z"
      },
      {
        "duration": 29,
        "start_time": "2024-02-28T20:11:52.747Z"
      },
      {
        "duration": 22,
        "start_time": "2024-02-28T20:11:52.777Z"
      },
      {
        "duration": 49,
        "start_time": "2024-02-28T20:11:52.800Z"
      },
      {
        "duration": 820,
        "start_time": "2024-02-28T20:11:52.850Z"
      },
      {
        "duration": 3,
        "start_time": "2024-02-28T20:11:53.672Z"
      },
      {
        "duration": 27,
        "start_time": "2024-02-28T20:11:53.677Z"
      },
      {
        "duration": 7,
        "start_time": "2024-02-28T20:11:53.705Z"
      },
      {
        "duration": 42,
        "start_time": "2024-02-28T20:11:53.713Z"
      },
      {
        "duration": 10,
        "start_time": "2024-02-28T20:11:53.757Z"
      },
      {
        "duration": 587,
        "start_time": "2024-02-28T20:11:53.769Z"
      },
      {
        "duration": 2,
        "start_time": "2024-02-28T20:11:54.358Z"
      },
      {
        "duration": 23,
        "start_time": "2024-02-28T20:11:54.361Z"
      },
      {
        "duration": 15,
        "start_time": "2024-02-28T20:11:54.385Z"
      },
      {
        "duration": 111,
        "start_time": "2024-02-28T20:11:54.401Z"
      },
      {
        "duration": 23,
        "start_time": "2024-02-28T20:11:54.513Z"
      },
      {
        "duration": 18,
        "start_time": "2024-02-28T20:11:54.537Z"
      },
      {
        "duration": 14,
        "start_time": "2024-02-28T20:11:54.557Z"
      },
      {
        "duration": 24,
        "start_time": "2024-02-28T20:11:54.572Z"
      },
      {
        "duration": 2,
        "start_time": "2024-02-28T20:11:54.597Z"
      },
      {
        "duration": 25,
        "start_time": "2024-02-28T20:11:54.600Z"
      },
      {
        "duration": 4,
        "start_time": "2024-02-28T20:11:54.626Z"
      },
      {
        "duration": 28,
        "start_time": "2024-02-28T20:11:54.632Z"
      },
      {
        "duration": 19,
        "start_time": "2024-02-28T20:11:54.661Z"
      },
      {
        "duration": 13,
        "start_time": "2024-02-28T20:11:54.681Z"
      },
      {
        "duration": 30,
        "start_time": "2024-02-28T20:11:54.695Z"
      },
      {
        "duration": 55,
        "start_time": "2024-02-28T20:11:54.726Z"
      },
      {
        "duration": 13,
        "start_time": "2024-02-28T20:11:54.782Z"
      },
      {
        "duration": 11,
        "start_time": "2024-02-28T20:11:54.796Z"
      },
      {
        "duration": 33,
        "start_time": "2024-02-28T20:11:54.808Z"
      },
      {
        "duration": 743,
        "start_time": "2024-02-28T20:11:54.842Z"
      },
      {
        "duration": 7,
        "start_time": "2024-02-28T20:11:55.587Z"
      },
      {
        "duration": 47,
        "start_time": "2024-02-28T20:11:55.596Z"
      },
      {
        "duration": 4,
        "start_time": "2024-02-28T20:11:55.645Z"
      },
      {
        "duration": 108,
        "start_time": "2024-02-28T20:11:55.651Z"
      },
      {
        "duration": 898,
        "start_time": "2024-02-28T20:11:55.761Z"
      },
      {
        "duration": 2,
        "start_time": "2024-02-28T20:11:56.661Z"
      },
      {
        "duration": 411,
        "start_time": "2024-02-28T20:11:56.664Z"
      },
      {
        "duration": 5518,
        "start_time": "2024-02-28T20:11:57.076Z"
      },
      {
        "duration": 23,
        "start_time": "2024-02-28T20:12:02.595Z"
      },
      {
        "duration": 2109,
        "start_time": "2024-02-28T20:12:02.619Z"
      },
      {
        "duration": 23,
        "start_time": "2024-02-28T20:12:04.734Z"
      },
      {
        "duration": 2035,
        "start_time": "2024-02-28T20:12:04.759Z"
      },
      {
        "duration": 13,
        "start_time": "2024-02-28T20:12:06.795Z"
      },
      {
        "duration": 3,
        "start_time": "2024-02-28T20:12:06.810Z"
      },
      {
        "duration": 8,
        "start_time": "2024-02-28T20:12:06.814Z"
      },
      {
        "duration": 16,
        "start_time": "2024-02-28T20:12:06.823Z"
      },
      {
        "duration": 19,
        "start_time": "2024-02-28T20:12:06.840Z"
      },
      {
        "duration": 24,
        "start_time": "2024-02-28T20:12:06.860Z"
      },
      {
        "duration": 63,
        "start_time": "2024-02-28T20:12:06.886Z"
      },
      {
        "duration": 23,
        "start_time": "2024-02-28T20:12:06.951Z"
      },
      {
        "duration": 25,
        "start_time": "2024-02-28T20:12:06.976Z"
      },
      {
        "duration": 179514,
        "start_time": "2024-02-28T20:13:34.528Z"
      },
      {
        "duration": 3,
        "start_time": "2024-02-28T20:16:34.044Z"
      },
      {
        "duration": 8328,
        "start_time": "2024-02-28T20:16:34.048Z"
      },
      {
        "duration": 3,
        "start_time": "2024-02-28T20:16:42.378Z"
      },
      {
        "duration": 14,
        "start_time": "2024-02-28T20:16:42.383Z"
      },
      {
        "duration": 56,
        "start_time": "2024-02-28T20:16:42.398Z"
      },
      {
        "duration": 9746,
        "start_time": "2024-02-28T20:26:10.700Z"
      },
      {
        "duration": 161,
        "start_time": "2024-02-28T20:27:40.901Z"
      },
      {
        "duration": 9972,
        "start_time": "2024-02-28T20:28:22.900Z"
      },
      {
        "duration": 471,
        "start_time": "2024-02-28T20:29:02.739Z"
      },
      {
        "duration": 326,
        "start_time": "2024-02-28T20:29:49.089Z"
      },
      {
        "duration": 6,
        "start_time": "2024-02-28T20:36:10.629Z"
      },
      {
        "duration": 11059,
        "start_time": "2024-02-28T20:49:00.705Z"
      },
      {
        "duration": 3,
        "start_time": "2024-02-28T20:49:11.766Z"
      },
      {
        "duration": 25,
        "start_time": "2024-02-28T20:49:11.771Z"
      },
      {
        "duration": 57,
        "start_time": "2024-02-28T20:49:11.797Z"
      },
      {
        "duration": 4,
        "start_time": "2024-02-28T20:49:11.856Z"
      },
      {
        "duration": 29,
        "start_time": "2024-02-28T20:49:11.861Z"
      },
      {
        "duration": 21,
        "start_time": "2024-02-28T20:49:11.891Z"
      },
      {
        "duration": 19,
        "start_time": "2024-02-28T20:49:11.914Z"
      },
      {
        "duration": 18,
        "start_time": "2024-02-28T20:49:11.935Z"
      },
      {
        "duration": 38,
        "start_time": "2024-02-28T20:49:11.954Z"
      },
      {
        "duration": 3,
        "start_time": "2024-02-28T20:49:11.993Z"
      },
      {
        "duration": 28,
        "start_time": "2024-02-28T20:49:11.997Z"
      },
      {
        "duration": 18,
        "start_time": "2024-02-28T20:49:12.026Z"
      },
      {
        "duration": 17,
        "start_time": "2024-02-28T20:49:12.047Z"
      },
      {
        "duration": 13,
        "start_time": "2024-02-28T20:49:12.066Z"
      },
      {
        "duration": 49,
        "start_time": "2024-02-28T20:49:12.081Z"
      },
      {
        "duration": 6,
        "start_time": "2024-02-28T20:49:12.131Z"
      },
      {
        "duration": 38,
        "start_time": "2024-02-28T20:49:12.138Z"
      },
      {
        "duration": 21,
        "start_time": "2024-02-28T20:49:12.178Z"
      },
      {
        "duration": 34,
        "start_time": "2024-02-28T20:49:12.201Z"
      },
      {
        "duration": 28,
        "start_time": "2024-02-28T20:49:12.236Z"
      },
      {
        "duration": 64,
        "start_time": "2024-02-28T20:49:12.266Z"
      },
      {
        "duration": 3,
        "start_time": "2024-02-28T20:49:12.331Z"
      },
      {
        "duration": 23,
        "start_time": "2024-02-28T20:49:12.336Z"
      },
      {
        "duration": 22,
        "start_time": "2024-02-28T20:49:12.361Z"
      },
      {
        "duration": 16,
        "start_time": "2024-02-28T20:49:12.384Z"
      },
      {
        "duration": 4,
        "start_time": "2024-02-28T20:49:12.401Z"
      },
      {
        "duration": 8,
        "start_time": "2024-02-28T20:49:12.407Z"
      },
      {
        "duration": 19,
        "start_time": "2024-02-28T20:49:12.417Z"
      },
      {
        "duration": 40,
        "start_time": "2024-02-28T20:49:12.437Z"
      },
      {
        "duration": 22,
        "start_time": "2024-02-28T20:49:12.479Z"
      },
      {
        "duration": 7,
        "start_time": "2024-02-28T20:49:12.503Z"
      },
      {
        "duration": 15,
        "start_time": "2024-02-28T20:49:12.512Z"
      },
      {
        "duration": 18,
        "start_time": "2024-02-28T20:49:12.529Z"
      },
      {
        "duration": 24,
        "start_time": "2024-02-28T20:49:12.549Z"
      },
      {
        "duration": 15,
        "start_time": "2024-02-28T20:49:12.574Z"
      },
      {
        "duration": 261,
        "start_time": "2024-02-28T20:49:12.591Z"
      },
      {
        "duration": 144,
        "start_time": "2024-02-28T20:49:12.854Z"
      },
      {
        "duration": 206,
        "start_time": "2024-02-28T20:49:13.000Z"
      },
      {
        "duration": 146,
        "start_time": "2024-02-28T20:49:13.207Z"
      },
      {
        "duration": 7,
        "start_time": "2024-02-28T20:49:13.357Z"
      },
      {
        "duration": 25,
        "start_time": "2024-02-28T20:49:13.365Z"
      },
      {
        "duration": 32,
        "start_time": "2024-02-28T20:49:13.392Z"
      },
      {
        "duration": 25,
        "start_time": "2024-02-28T20:49:13.425Z"
      },
      {
        "duration": 822,
        "start_time": "2024-02-28T20:49:13.452Z"
      },
      {
        "duration": 4,
        "start_time": "2024-02-28T20:49:14.275Z"
      },
      {
        "duration": 21,
        "start_time": "2024-02-28T20:49:14.280Z"
      },
      {
        "duration": 11,
        "start_time": "2024-02-28T20:49:14.302Z"
      },
      {
        "duration": 9,
        "start_time": "2024-02-28T20:49:14.314Z"
      },
      {
        "duration": 24,
        "start_time": "2024-02-28T20:49:14.324Z"
      },
      {
        "duration": 572,
        "start_time": "2024-02-28T20:49:14.350Z"
      },
      {
        "duration": 3,
        "start_time": "2024-02-28T20:49:14.924Z"
      },
      {
        "duration": 32,
        "start_time": "2024-02-28T20:49:14.929Z"
      },
      {
        "duration": 17,
        "start_time": "2024-02-28T20:49:14.963Z"
      },
      {
        "duration": 151,
        "start_time": "2024-02-28T20:49:14.982Z"
      },
      {
        "duration": 22,
        "start_time": "2024-02-28T20:49:15.135Z"
      },
      {
        "duration": 81,
        "start_time": "2024-02-28T20:49:15.158Z"
      },
      {
        "duration": 83,
        "start_time": "2024-02-28T20:49:15.241Z"
      },
      {
        "duration": 19,
        "start_time": "2024-02-28T20:49:15.325Z"
      },
      {
        "duration": 45,
        "start_time": "2024-02-28T20:49:15.345Z"
      },
      {
        "duration": 41,
        "start_time": "2024-02-28T20:49:15.392Z"
      },
      {
        "duration": 34,
        "start_time": "2024-02-28T20:49:15.434Z"
      },
      {
        "duration": 60,
        "start_time": "2024-02-28T20:49:15.469Z"
      },
      {
        "duration": 22,
        "start_time": "2024-02-28T20:49:15.531Z"
      },
      {
        "duration": 26,
        "start_time": "2024-02-28T20:49:15.554Z"
      },
      {
        "duration": 49,
        "start_time": "2024-02-28T20:49:15.581Z"
      },
      {
        "duration": 27,
        "start_time": "2024-02-28T20:49:15.631Z"
      },
      {
        "duration": 21,
        "start_time": "2024-02-28T20:49:15.660Z"
      },
      {
        "duration": 25,
        "start_time": "2024-02-28T20:49:15.682Z"
      },
      {
        "duration": 38,
        "start_time": "2024-02-28T20:49:15.709Z"
      },
      {
        "duration": 746,
        "start_time": "2024-02-28T20:49:15.748Z"
      },
      {
        "duration": 3,
        "start_time": "2024-02-28T20:49:16.496Z"
      },
      {
        "duration": 39,
        "start_time": "2024-02-28T20:49:16.501Z"
      },
      {
        "duration": 14,
        "start_time": "2024-02-28T20:49:16.541Z"
      },
      {
        "duration": 136,
        "start_time": "2024-02-28T20:49:16.556Z"
      },
      {
        "duration": 909,
        "start_time": "2024-02-28T20:49:16.694Z"
      },
      {
        "duration": 3,
        "start_time": "2024-02-28T20:49:17.604Z"
      },
      {
        "duration": 403,
        "start_time": "2024-02-28T20:49:17.608Z"
      },
      {
        "duration": 5898,
        "start_time": "2024-02-28T20:49:18.013Z"
      },
      {
        "duration": 23,
        "start_time": "2024-02-28T20:49:23.912Z"
      },
      {
        "duration": 2114,
        "start_time": "2024-02-28T20:49:23.937Z"
      },
      {
        "duration": 29,
        "start_time": "2024-02-28T20:49:26.052Z"
      },
      {
        "duration": 2038,
        "start_time": "2024-02-28T20:49:26.094Z"
      },
      {
        "duration": 15,
        "start_time": "2024-02-28T20:49:28.133Z"
      },
      {
        "duration": 22,
        "start_time": "2024-02-28T20:49:28.149Z"
      },
      {
        "duration": 11,
        "start_time": "2024-02-28T20:49:28.173Z"
      },
      {
        "duration": 24,
        "start_time": "2024-02-28T20:49:28.186Z"
      },
      {
        "duration": 26,
        "start_time": "2024-02-28T20:49:28.211Z"
      },
      {
        "duration": 17,
        "start_time": "2024-02-28T20:49:28.238Z"
      },
      {
        "duration": 67,
        "start_time": "2024-02-28T20:49:28.257Z"
      },
      {
        "duration": 21,
        "start_time": "2024-02-28T20:49:28.326Z"
      },
      {
        "duration": 21,
        "start_time": "2024-02-28T20:49:28.348Z"
      },
      {
        "duration": 179468,
        "start_time": "2024-02-28T20:49:28.371Z"
      },
      {
        "duration": 3,
        "start_time": "2024-02-28T20:52:27.840Z"
      },
      {
        "duration": 8033,
        "start_time": "2024-02-28T20:52:27.845Z"
      },
      {
        "duration": 3,
        "start_time": "2024-02-28T20:52:35.880Z"
      },
      {
        "duration": 6,
        "start_time": "2024-02-28T20:52:35.884Z"
      },
      {
        "duration": 16,
        "start_time": "2024-02-28T20:52:35.892Z"
      },
      {
        "duration": 166,
        "start_time": "2024-02-28T20:52:35.909Z"
      },
      {
        "duration": 293,
        "start_time": "2024-02-28T20:52:36.076Z"
      },
      {
        "duration": 5,
        "start_time": "2024-02-28T20:52:36.370Z"
      },
      {
        "duration": 346,
        "start_time": "2024-02-28T20:52:36.377Z"
      },
      {
        "duration": 607,
        "start_time": "2024-02-28T20:58:26.461Z"
      },
      {
        "duration": 613,
        "start_time": "2024-02-28T20:59:53.064Z"
      },
      {
        "duration": 11570,
        "start_time": "2024-02-28T21:00:19.370Z"
      },
      {
        "duration": 3,
        "start_time": "2024-02-28T21:00:30.994Z"
      },
      {
        "duration": 39,
        "start_time": "2024-02-28T21:00:30.998Z"
      },
      {
        "duration": 99,
        "start_time": "2024-02-28T21:00:31.038Z"
      },
      {
        "duration": 31,
        "start_time": "2024-02-28T21:00:31.139Z"
      },
      {
        "duration": 52,
        "start_time": "2024-02-28T21:00:31.172Z"
      },
      {
        "duration": 61,
        "start_time": "2024-02-28T21:00:31.225Z"
      },
      {
        "duration": 90,
        "start_time": "2024-02-28T21:00:31.287Z"
      },
      {
        "duration": 50,
        "start_time": "2024-02-28T21:00:31.378Z"
      },
      {
        "duration": 40,
        "start_time": "2024-02-28T21:00:31.429Z"
      },
      {
        "duration": 20,
        "start_time": "2024-02-28T21:00:31.470Z"
      },
      {
        "duration": 17,
        "start_time": "2024-02-28T21:00:31.492Z"
      },
      {
        "duration": 36,
        "start_time": "2024-02-28T21:00:31.511Z"
      },
      {
        "duration": 39,
        "start_time": "2024-02-28T21:00:31.550Z"
      },
      {
        "duration": 31,
        "start_time": "2024-02-28T21:00:31.591Z"
      },
      {
        "duration": 48,
        "start_time": "2024-02-28T21:00:31.624Z"
      },
      {
        "duration": 5,
        "start_time": "2024-02-28T21:00:31.674Z"
      },
      {
        "duration": 71,
        "start_time": "2024-02-28T21:00:31.680Z"
      },
      {
        "duration": 62,
        "start_time": "2024-02-28T21:00:31.753Z"
      },
      {
        "duration": 32,
        "start_time": "2024-02-28T21:00:31.816Z"
      },
      {
        "duration": 14,
        "start_time": "2024-02-28T21:00:31.850Z"
      },
      {
        "duration": 41,
        "start_time": "2024-02-28T21:00:31.865Z"
      },
      {
        "duration": 7,
        "start_time": "2024-02-28T21:00:31.907Z"
      },
      {
        "duration": 25,
        "start_time": "2024-02-28T21:00:31.915Z"
      },
      {
        "duration": 48,
        "start_time": "2024-02-28T21:00:31.941Z"
      },
      {
        "duration": 33,
        "start_time": "2024-02-28T21:00:31.991Z"
      },
      {
        "duration": 45,
        "start_time": "2024-02-28T21:00:32.026Z"
      },
      {
        "duration": 29,
        "start_time": "2024-02-28T21:00:32.073Z"
      },
      {
        "duration": 25,
        "start_time": "2024-02-28T21:00:32.103Z"
      },
      {
        "duration": 53,
        "start_time": "2024-02-28T21:00:32.129Z"
      },
      {
        "duration": 163,
        "start_time": "2024-02-28T21:00:32.184Z"
      },
      {
        "duration": 180,
        "start_time": "2024-02-28T21:00:32.349Z"
      },
      {
        "duration": 11,
        "start_time": "2024-02-28T21:00:32.531Z"
      },
      {
        "duration": 24,
        "start_time": "2024-02-28T21:00:32.544Z"
      },
      {
        "duration": 13,
        "start_time": "2024-02-28T21:00:32.570Z"
      },
      {
        "duration": 47,
        "start_time": "2024-02-28T21:00:32.584Z"
      },
      {
        "duration": 242,
        "start_time": "2024-02-28T21:00:32.633Z"
      },
      {
        "duration": 690,
        "start_time": "2024-02-28T21:00:32.876Z"
      },
      {
        "duration": 7,
        "start_time": "2024-02-28T21:00:33.568Z"
      },
      {
        "duration": 23,
        "start_time": "2024-02-28T21:00:33.577Z"
      },
      {
        "duration": 6,
        "start_time": "2024-02-28T21:00:33.605Z"
      },
      {
        "duration": 15,
        "start_time": "2024-02-28T21:00:33.612Z"
      },
      {
        "duration": 829,
        "start_time": "2024-02-28T21:00:33.629Z"
      },
      {
        "duration": 3,
        "start_time": "2024-02-28T21:00:34.460Z"
      },
      {
        "duration": 73,
        "start_time": "2024-02-28T21:00:34.464Z"
      },
      {
        "duration": 22,
        "start_time": "2024-02-28T21:00:34.538Z"
      },
      {
        "duration": 10,
        "start_time": "2024-02-28T21:00:34.561Z"
      },
      {
        "duration": 10,
        "start_time": "2024-02-28T21:00:34.572Z"
      },
      {
        "duration": 607,
        "start_time": "2024-02-28T21:00:34.583Z"
      },
      {
        "duration": 3,
        "start_time": "2024-02-28T21:00:35.192Z"
      },
      {
        "duration": 14,
        "start_time": "2024-02-28T21:00:35.196Z"
      },
      {
        "duration": 23,
        "start_time": "2024-02-28T21:00:35.211Z"
      },
      {
        "duration": 147,
        "start_time": "2024-02-28T21:00:35.235Z"
      },
      {
        "duration": 23,
        "start_time": "2024-02-28T21:00:35.384Z"
      },
      {
        "duration": 22,
        "start_time": "2024-02-28T21:00:35.409Z"
      },
      {
        "duration": 31,
        "start_time": "2024-02-28T21:00:35.433Z"
      },
      {
        "duration": 36,
        "start_time": "2024-02-28T21:00:35.466Z"
      },
      {
        "duration": 38,
        "start_time": "2024-02-28T21:00:35.503Z"
      },
      {
        "duration": 37,
        "start_time": "2024-02-28T21:00:35.543Z"
      },
      {
        "duration": 9,
        "start_time": "2024-02-28T21:00:35.582Z"
      },
      {
        "duration": 42,
        "start_time": "2024-02-28T21:00:35.592Z"
      },
      {
        "duration": 15,
        "start_time": "2024-02-28T21:00:35.636Z"
      },
      {
        "duration": 32,
        "start_time": "2024-02-28T21:00:35.653Z"
      },
      {
        "duration": 67,
        "start_time": "2024-02-28T21:00:35.687Z"
      },
      {
        "duration": 65,
        "start_time": "2024-02-28T21:00:35.756Z"
      },
      {
        "duration": 52,
        "start_time": "2024-02-28T21:00:35.823Z"
      },
      {
        "duration": 138,
        "start_time": "2024-02-28T21:00:35.877Z"
      },
      {
        "duration": 112,
        "start_time": "2024-02-28T21:00:36.017Z"
      },
      {
        "duration": 647,
        "start_time": "2024-02-28T21:00:36.130Z"
      },
      {
        "duration": 3,
        "start_time": "2024-02-28T21:00:36.779Z"
      },
      {
        "duration": 39,
        "start_time": "2024-02-28T21:00:36.793Z"
      },
      {
        "duration": 10,
        "start_time": "2024-02-28T21:00:36.833Z"
      },
      {
        "duration": 125,
        "start_time": "2024-02-28T21:00:36.844Z"
      },
      {
        "duration": 1008,
        "start_time": "2024-02-28T21:00:36.971Z"
      },
      {
        "duration": 2,
        "start_time": "2024-02-28T21:00:37.980Z"
      },
      {
        "duration": 406,
        "start_time": "2024-02-28T21:00:37.983Z"
      },
      {
        "duration": 5750,
        "start_time": "2024-02-28T21:00:38.390Z"
      },
      {
        "duration": 24,
        "start_time": "2024-02-28T21:00:44.142Z"
      },
      {
        "duration": 2123,
        "start_time": "2024-02-28T21:00:44.167Z"
      },
      {
        "duration": 24,
        "start_time": "2024-02-28T21:00:46.292Z"
      },
      {
        "duration": 2278,
        "start_time": "2024-02-28T21:00:46.317Z"
      },
      {
        "duration": 13,
        "start_time": "2024-02-28T21:00:48.596Z"
      },
      {
        "duration": 20,
        "start_time": "2024-02-28T21:00:48.610Z"
      },
      {
        "duration": 21,
        "start_time": "2024-02-28T21:00:48.631Z"
      },
      {
        "duration": 11,
        "start_time": "2024-02-28T21:00:48.654Z"
      },
      {
        "duration": 7,
        "start_time": "2024-02-28T21:00:48.667Z"
      },
      {
        "duration": 7,
        "start_time": "2024-02-28T21:00:48.676Z"
      },
      {
        "duration": 74,
        "start_time": "2024-02-28T21:00:48.685Z"
      },
      {
        "duration": 23,
        "start_time": "2024-02-28T21:00:48.760Z"
      },
      {
        "duration": 25,
        "start_time": "2024-02-28T21:00:48.785Z"
      },
      {
        "duration": 185283,
        "start_time": "2024-02-28T21:00:48.812Z"
      },
      {
        "duration": 4,
        "start_time": "2024-02-28T21:03:54.097Z"
      },
      {
        "duration": 8175,
        "start_time": "2024-02-28T21:03:54.103Z"
      },
      {
        "duration": 4,
        "start_time": "2024-02-28T21:04:02.279Z"
      },
      {
        "duration": 32,
        "start_time": "2024-02-28T21:04:02.293Z"
      },
      {
        "duration": 25,
        "start_time": "2024-02-28T21:04:02.326Z"
      },
      {
        "duration": 229,
        "start_time": "2024-02-28T21:04:02.353Z"
      },
      {
        "duration": 278,
        "start_time": "2024-02-28T21:04:02.583Z"
      },
      {
        "duration": 6,
        "start_time": "2024-02-28T21:04:02.864Z"
      },
      {
        "duration": 419,
        "start_time": "2024-02-28T21:04:02.871Z"
      },
      {
        "duration": 6,
        "start_time": "2024-02-28T21:06:01.440Z"
      },
      {
        "duration": 6,
        "start_time": "2024-02-28T21:06:11.661Z"
      },
      {
        "duration": 797,
        "start_time": "2024-02-28T21:28:52.140Z"
      },
      {
        "duration": 12335,
        "start_time": "2024-02-28T21:55:44.126Z"
      },
      {
        "duration": 2,
        "start_time": "2024-02-28T21:55:56.463Z"
      },
      {
        "duration": 23,
        "start_time": "2024-02-28T21:55:56.467Z"
      },
      {
        "duration": 64,
        "start_time": "2024-02-28T21:55:56.491Z"
      },
      {
        "duration": 4,
        "start_time": "2024-02-28T21:55:56.557Z"
      },
      {
        "duration": 16,
        "start_time": "2024-02-28T21:55:56.562Z"
      },
      {
        "duration": 8,
        "start_time": "2024-02-28T21:55:56.579Z"
      },
      {
        "duration": 21,
        "start_time": "2024-02-28T21:55:56.588Z"
      },
      {
        "duration": 3,
        "start_time": "2024-02-28T21:55:56.611Z"
      },
      {
        "duration": 39,
        "start_time": "2024-02-28T21:55:56.615Z"
      },
      {
        "duration": 23,
        "start_time": "2024-02-28T21:55:56.655Z"
      },
      {
        "duration": 34,
        "start_time": "2024-02-28T21:55:56.679Z"
      },
      {
        "duration": 18,
        "start_time": "2024-02-28T21:55:56.715Z"
      },
      {
        "duration": 11,
        "start_time": "2024-02-28T21:55:56.737Z"
      },
      {
        "duration": 7,
        "start_time": "2024-02-28T21:55:56.749Z"
      },
      {
        "duration": 55,
        "start_time": "2024-02-28T21:55:56.757Z"
      },
      {
        "duration": 3,
        "start_time": "2024-02-28T21:55:56.814Z"
      },
      {
        "duration": 19,
        "start_time": "2024-02-28T21:55:56.818Z"
      },
      {
        "duration": 14,
        "start_time": "2024-02-28T21:55:56.838Z"
      },
      {
        "duration": 15,
        "start_time": "2024-02-28T21:55:56.854Z"
      },
      {
        "duration": 7,
        "start_time": "2024-02-28T21:55:56.871Z"
      },
      {
        "duration": 34,
        "start_time": "2024-02-28T21:55:56.880Z"
      },
      {
        "duration": 4,
        "start_time": "2024-02-28T21:55:56.916Z"
      },
      {
        "duration": 10,
        "start_time": "2024-02-28T21:55:56.922Z"
      },
      {
        "duration": 9,
        "start_time": "2024-02-28T21:55:56.934Z"
      },
      {
        "duration": 21,
        "start_time": "2024-02-28T21:55:56.945Z"
      },
      {
        "duration": 10,
        "start_time": "2024-02-28T21:55:56.968Z"
      },
      {
        "duration": 8,
        "start_time": "2024-02-28T21:55:56.979Z"
      },
      {
        "duration": 26,
        "start_time": "2024-02-28T21:55:56.988Z"
      },
      {
        "duration": 20,
        "start_time": "2024-02-28T21:55:57.015Z"
      },
      {
        "duration": 26,
        "start_time": "2024-02-28T21:55:57.036Z"
      },
      {
        "duration": 59,
        "start_time": "2024-02-28T21:55:57.064Z"
      },
      {
        "duration": 37,
        "start_time": "2024-02-28T21:55:57.125Z"
      },
      {
        "duration": 36,
        "start_time": "2024-02-28T21:55:57.164Z"
      },
      {
        "duration": 11,
        "start_time": "2024-02-28T21:55:57.202Z"
      },
      {
        "duration": 14,
        "start_time": "2024-02-28T21:55:57.215Z"
      },
      {
        "duration": 310,
        "start_time": "2024-02-28T21:55:57.230Z"
      },
      {
        "duration": 722,
        "start_time": "2024-02-28T21:55:57.542Z"
      },
      {
        "duration": 7,
        "start_time": "2024-02-28T21:55:58.266Z"
      },
      {
        "duration": 23,
        "start_time": "2024-02-28T21:55:58.274Z"
      },
      {
        "duration": 4,
        "start_time": "2024-02-28T21:55:58.307Z"
      },
      {
        "duration": 24,
        "start_time": "2024-02-28T21:55:58.312Z"
      },
      {
        "duration": 893,
        "start_time": "2024-02-28T21:55:58.337Z"
      },
      {
        "duration": 3,
        "start_time": "2024-02-28T21:55:59.232Z"
      },
      {
        "duration": 23,
        "start_time": "2024-02-28T21:55:59.236Z"
      },
      {
        "duration": 11,
        "start_time": "2024-02-28T21:55:59.260Z"
      },
      {
        "duration": 9,
        "start_time": "2024-02-28T21:55:59.272Z"
      },
      {
        "duration": 9,
        "start_time": "2024-02-28T21:55:59.282Z"
      },
      {
        "duration": 615,
        "start_time": "2024-02-28T21:55:59.292Z"
      },
      {
        "duration": 3,
        "start_time": "2024-02-28T21:55:59.909Z"
      },
      {
        "duration": 40,
        "start_time": "2024-02-28T21:55:59.913Z"
      },
      {
        "duration": 31,
        "start_time": "2024-02-28T21:55:59.954Z"
      },
      {
        "duration": 143,
        "start_time": "2024-02-28T21:55:59.987Z"
      },
      {
        "duration": 24,
        "start_time": "2024-02-28T21:56:00.131Z"
      },
      {
        "duration": 91,
        "start_time": "2024-02-28T21:56:00.157Z"
      },
      {
        "duration": 72,
        "start_time": "2024-02-28T21:56:00.249Z"
      },
      {
        "duration": 9,
        "start_time": "2024-02-28T21:56:00.323Z"
      },
      {
        "duration": 31,
        "start_time": "2024-02-28T21:56:00.333Z"
      },
      {
        "duration": 52,
        "start_time": "2024-02-28T21:56:00.366Z"
      },
      {
        "duration": 18,
        "start_time": "2024-02-28T21:56:00.419Z"
      },
      {
        "duration": 53,
        "start_time": "2024-02-28T21:56:00.438Z"
      },
      {
        "duration": 51,
        "start_time": "2024-02-28T21:56:00.493Z"
      },
      {
        "duration": 65,
        "start_time": "2024-02-28T21:56:00.546Z"
      },
      {
        "duration": 61,
        "start_time": "2024-02-28T21:56:00.612Z"
      },
      {
        "duration": 50,
        "start_time": "2024-02-28T21:56:00.675Z"
      },
      {
        "duration": 33,
        "start_time": "2024-02-28T21:56:00.727Z"
      },
      {
        "duration": 23,
        "start_time": "2024-02-28T21:56:00.762Z"
      },
      {
        "duration": 46,
        "start_time": "2024-02-28T21:56:00.786Z"
      },
      {
        "duration": 751,
        "start_time": "2024-02-28T21:56:00.834Z"
      },
      {
        "duration": 2,
        "start_time": "2024-02-28T21:56:01.587Z"
      },
      {
        "duration": 70,
        "start_time": "2024-02-28T21:56:01.591Z"
      },
      {
        "duration": 66,
        "start_time": "2024-02-28T21:56:01.663Z"
      },
      {
        "duration": 225,
        "start_time": "2024-02-28T21:56:01.730Z"
      },
      {
        "duration": 1133,
        "start_time": "2024-02-28T21:56:01.957Z"
      },
      {
        "duration": 4,
        "start_time": "2024-02-28T21:56:03.093Z"
      },
      {
        "duration": 687,
        "start_time": "2024-02-28T21:56:03.099Z"
      },
      {
        "duration": 6370,
        "start_time": "2024-02-28T21:56:03.788Z"
      },
      {
        "duration": 25,
        "start_time": "2024-02-28T21:56:10.160Z"
      },
      {
        "duration": 2326,
        "start_time": "2024-02-28T21:56:10.193Z"
      },
      {
        "duration": 24,
        "start_time": "2024-02-28T21:56:12.520Z"
      },
      {
        "duration": 2234,
        "start_time": "2024-02-28T21:56:12.545Z"
      },
      {
        "duration": 26,
        "start_time": "2024-02-28T21:56:14.780Z"
      },
      {
        "duration": 5,
        "start_time": "2024-02-28T21:56:14.809Z"
      },
      {
        "duration": 5,
        "start_time": "2024-02-28T21:56:14.815Z"
      },
      {
        "duration": 11,
        "start_time": "2024-02-28T21:56:14.822Z"
      },
      {
        "duration": 6,
        "start_time": "2024-02-28T21:56:14.834Z"
      },
      {
        "duration": 5,
        "start_time": "2024-02-28T21:56:14.842Z"
      },
      {
        "duration": 105,
        "start_time": "2024-02-28T21:56:14.849Z"
      },
      {
        "duration": 23,
        "start_time": "2024-02-28T21:56:14.956Z"
      },
      {
        "duration": 31,
        "start_time": "2024-02-28T21:56:14.981Z"
      },
      {
        "duration": 200272,
        "start_time": "2024-02-28T21:56:15.016Z"
      },
      {
        "duration": 3,
        "start_time": "2024-02-28T21:59:35.290Z"
      },
      {
        "duration": 7723,
        "start_time": "2024-02-28T21:59:35.294Z"
      },
      {
        "duration": 3,
        "start_time": "2024-02-28T21:59:43.018Z"
      },
      {
        "duration": 19,
        "start_time": "2024-02-28T21:59:43.023Z"
      },
      {
        "duration": 36,
        "start_time": "2024-02-28T21:59:43.043Z"
      },
      {
        "duration": 181,
        "start_time": "2024-02-28T21:59:43.080Z"
      },
      {
        "duration": 302,
        "start_time": "2024-02-28T21:59:43.262Z"
      },
      {
        "duration": 5,
        "start_time": "2024-02-28T21:59:43.566Z"
      },
      {
        "duration": 394,
        "start_time": "2024-02-28T21:59:43.573Z"
      },
      {
        "duration": 13885,
        "start_time": "2024-02-29T20:09:07.156Z"
      },
      {
        "duration": 4,
        "start_time": "2024-02-29T20:09:21.043Z"
      },
      {
        "duration": 14,
        "start_time": "2024-02-29T20:09:21.048Z"
      },
      {
        "duration": 160,
        "start_time": "2024-02-29T20:09:21.064Z"
      },
      {
        "duration": 3,
        "start_time": "2024-02-29T20:09:21.226Z"
      },
      {
        "duration": 25,
        "start_time": "2024-02-29T20:09:21.231Z"
      },
      {
        "duration": 25,
        "start_time": "2024-02-29T20:09:21.257Z"
      },
      {
        "duration": 22,
        "start_time": "2024-02-29T20:09:21.283Z"
      },
      {
        "duration": 28,
        "start_time": "2024-02-29T20:09:21.307Z"
      },
      {
        "duration": 113,
        "start_time": "2024-02-29T20:09:21.337Z"
      },
      {
        "duration": 4,
        "start_time": "2024-02-29T20:09:21.451Z"
      },
      {
        "duration": 20,
        "start_time": "2024-02-29T20:09:21.457Z"
      },
      {
        "duration": 17,
        "start_time": "2024-02-29T20:09:21.479Z"
      },
      {
        "duration": 24,
        "start_time": "2024-02-29T20:09:21.498Z"
      },
      {
        "duration": 16,
        "start_time": "2024-02-29T20:09:21.524Z"
      },
      {
        "duration": 84,
        "start_time": "2024-02-29T20:09:21.542Z"
      },
      {
        "duration": 4,
        "start_time": "2024-02-29T20:09:21.627Z"
      },
      {
        "duration": 21,
        "start_time": "2024-02-29T20:09:21.632Z"
      },
      {
        "duration": 6,
        "start_time": "2024-02-29T20:09:21.654Z"
      },
      {
        "duration": 5,
        "start_time": "2024-02-29T20:09:21.661Z"
      },
      {
        "duration": 6,
        "start_time": "2024-02-29T20:09:21.668Z"
      },
      {
        "duration": 67,
        "start_time": "2024-02-29T20:09:21.675Z"
      },
      {
        "duration": 3,
        "start_time": "2024-02-29T20:09:21.744Z"
      },
      {
        "duration": 11,
        "start_time": "2024-02-29T20:09:21.749Z"
      },
      {
        "duration": 6,
        "start_time": "2024-02-29T20:09:21.762Z"
      },
      {
        "duration": 18,
        "start_time": "2024-02-29T20:09:21.770Z"
      },
      {
        "duration": 1,
        "start_time": "2024-02-29T20:09:21.790Z"
      },
      {
        "duration": 21,
        "start_time": "2024-02-29T20:09:21.796Z"
      },
      {
        "duration": 17,
        "start_time": "2024-02-29T20:09:21.819Z"
      },
      {
        "duration": 18,
        "start_time": "2024-02-29T20:09:21.838Z"
      },
      {
        "duration": 22,
        "start_time": "2024-02-29T20:09:21.857Z"
      },
      {
        "duration": 3,
        "start_time": "2024-02-29T20:09:21.881Z"
      },
      {
        "duration": 18,
        "start_time": "2024-02-29T20:09:21.885Z"
      },
      {
        "duration": 12,
        "start_time": "2024-02-29T20:09:21.905Z"
      },
      {
        "duration": 4,
        "start_time": "2024-02-29T20:09:21.919Z"
      },
      {
        "duration": 13,
        "start_time": "2024-02-29T20:09:21.925Z"
      },
      {
        "duration": 285,
        "start_time": "2024-02-29T20:09:21.940Z"
      },
      {
        "duration": 766,
        "start_time": "2024-02-29T20:09:22.227Z"
      },
      {
        "duration": 8,
        "start_time": "2024-02-29T20:09:22.994Z"
      },
      {
        "duration": 11,
        "start_time": "2024-02-29T20:09:23.004Z"
      },
      {
        "duration": 5,
        "start_time": "2024-02-29T20:09:23.017Z"
      },
      {
        "duration": 11,
        "start_time": "2024-02-29T20:09:23.023Z"
      },
      {
        "duration": 939,
        "start_time": "2024-02-29T20:09:23.036Z"
      },
      {
        "duration": 2,
        "start_time": "2024-02-29T20:09:23.977Z"
      },
      {
        "duration": 16,
        "start_time": "2024-02-29T20:09:23.981Z"
      },
      {
        "duration": 9,
        "start_time": "2024-02-29T20:09:23.999Z"
      },
      {
        "duration": 6,
        "start_time": "2024-02-29T20:09:24.009Z"
      },
      {
        "duration": 15,
        "start_time": "2024-02-29T20:09:24.017Z"
      },
      {
        "duration": 678,
        "start_time": "2024-02-29T20:09:24.033Z"
      },
      {
        "duration": 3,
        "start_time": "2024-02-29T20:09:24.712Z"
      },
      {
        "duration": 10,
        "start_time": "2024-02-29T20:09:24.717Z"
      },
      {
        "duration": 18,
        "start_time": "2024-02-29T20:09:24.729Z"
      },
      {
        "duration": 155,
        "start_time": "2024-02-29T20:09:24.749Z"
      },
      {
        "duration": 26,
        "start_time": "2024-02-29T20:09:24.905Z"
      },
      {
        "duration": 41,
        "start_time": "2024-02-29T20:09:24.933Z"
      },
      {
        "duration": 18,
        "start_time": "2024-02-29T20:09:24.975Z"
      },
      {
        "duration": 8,
        "start_time": "2024-02-29T20:09:24.995Z"
      },
      {
        "duration": 7,
        "start_time": "2024-02-29T20:09:25.005Z"
      },
      {
        "duration": 19,
        "start_time": "2024-02-29T20:09:25.013Z"
      },
      {
        "duration": 5,
        "start_time": "2024-02-29T20:09:25.034Z"
      },
      {
        "duration": 50,
        "start_time": "2024-02-29T20:09:25.041Z"
      },
      {
        "duration": 16,
        "start_time": "2024-02-29T20:09:25.093Z"
      },
      {
        "duration": 8,
        "start_time": "2024-02-29T20:09:25.111Z"
      },
      {
        "duration": 23,
        "start_time": "2024-02-29T20:09:25.121Z"
      },
      {
        "duration": 37,
        "start_time": "2024-02-29T20:09:25.145Z"
      },
      {
        "duration": 15,
        "start_time": "2024-02-29T20:09:25.184Z"
      },
      {
        "duration": 11,
        "start_time": "2024-02-29T20:09:25.201Z"
      },
      {
        "duration": 28,
        "start_time": "2024-02-29T20:09:25.213Z"
      },
      {
        "duration": 759,
        "start_time": "2024-02-29T20:09:25.242Z"
      },
      {
        "duration": 3,
        "start_time": "2024-02-29T20:09:26.003Z"
      },
      {
        "duration": 18,
        "start_time": "2024-02-29T20:09:26.008Z"
      },
      {
        "duration": 3,
        "start_time": "2024-02-29T20:09:26.039Z"
      },
      {
        "duration": 137,
        "start_time": "2024-02-29T20:09:26.044Z"
      },
      {
        "duration": 1138,
        "start_time": "2024-02-29T20:09:26.183Z"
      },
      {
        "duration": 2,
        "start_time": "2024-02-29T20:09:27.323Z"
      },
      {
        "duration": 469,
        "start_time": "2024-02-29T20:09:27.327Z"
      },
      {
        "duration": 6417,
        "start_time": "2024-02-29T20:09:27.798Z"
      },
      {
        "duration": 28,
        "start_time": "2024-02-29T20:09:34.216Z"
      },
      {
        "duration": 2328,
        "start_time": "2024-02-29T20:09:34.246Z"
      },
      {
        "duration": 29,
        "start_time": "2024-02-29T20:09:36.576Z"
      },
      {
        "duration": 2497,
        "start_time": "2024-02-29T20:09:36.607Z"
      },
      {
        "duration": 14,
        "start_time": "2024-02-29T20:09:39.110Z"
      },
      {
        "duration": 9,
        "start_time": "2024-02-29T20:09:39.126Z"
      },
      {
        "duration": 25,
        "start_time": "2024-02-29T20:09:39.136Z"
      },
      {
        "duration": 13,
        "start_time": "2024-02-29T20:09:39.163Z"
      },
      {
        "duration": 19,
        "start_time": "2024-02-29T20:09:39.177Z"
      },
      {
        "duration": 7,
        "start_time": "2024-02-29T20:09:39.197Z"
      },
      {
        "duration": 72,
        "start_time": "2024-02-29T20:09:39.206Z"
      },
      {
        "duration": 26,
        "start_time": "2024-02-29T20:09:39.280Z"
      },
      {
        "duration": 21,
        "start_time": "2024-02-29T20:09:39.307Z"
      },
      {
        "duration": 203497,
        "start_time": "2024-02-29T20:09:39.329Z"
      },
      {
        "duration": 3,
        "start_time": "2024-02-29T20:13:02.827Z"
      },
      {
        "duration": 8753,
        "start_time": "2024-02-29T20:13:02.832Z"
      },
      {
        "duration": 3,
        "start_time": "2024-02-29T20:13:11.587Z"
      },
      {
        "duration": 6,
        "start_time": "2024-02-29T20:13:11.591Z"
      },
      {
        "duration": 22,
        "start_time": "2024-02-29T20:13:11.599Z"
      },
      {
        "duration": 179,
        "start_time": "2024-02-29T20:13:11.623Z"
      },
      {
        "duration": 260,
        "start_time": "2024-02-29T20:13:11.803Z"
      },
      {
        "duration": 11,
        "start_time": "2024-02-29T20:13:12.064Z"
      },
      {
        "duration": 417,
        "start_time": "2024-02-29T20:13:12.076Z"
      }
    ],
    "colab": {
      "provenance": [],
      "toc_visible": true
    },
    "kernelspec": {
      "display_name": "Python 3 (ipykernel)",
      "language": "python",
      "name": "python3"
    },
    "language_info": {
      "codemirror_mode": {
        "name": "ipython",
        "version": 3
      },
      "file_extension": ".py",
      "mimetype": "text/x-python",
      "name": "python",
      "nbconvert_exporter": "python",
      "pygments_lexer": "ipython3",
      "version": "3.9.5"
    },
    "toc": {
      "base_numbering": 1,
      "nav_menu": {},
      "number_sections": true,
      "sideBar": true,
      "skip_h1_title": true,
      "title_cell": "Table of Contents",
      "title_sidebar": "Contents",
      "toc_cell": false,
      "toc_position": {},
      "toc_section_display": true,
      "toc_window_display": false
    }
  },
  "nbformat": 4,
  "nbformat_minor": 0
}