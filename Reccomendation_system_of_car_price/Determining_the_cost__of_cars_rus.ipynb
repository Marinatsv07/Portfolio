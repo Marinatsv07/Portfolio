{
  "cells": [
    {
      "cell_type": "markdown",
      "metadata": {
        "id": "8k2uzmj29vTL"
      },
      "source": [
        "# Определение стоимости автомобилей"
      ]
    },
    {
      "cell_type": "markdown",
      "metadata": {
        "id": "Bx7jOjws9vTL"
      },
      "source": [
        "Сервис по продаже автомобилей с пробегом  разрабатывает приложение для привлечения новых клиентов. В нём можно быстро узнать рыночную стоимость своего автомобиля. На основе исторические данные необходимо построить модель для определения стоимости автомобиля.\n",
        "\n",
        "Заказчику важны:\n",
        "\n",
        "- качество предсказания;\n",
        "- скорость предсказания;\n",
        "- время обучения.\n",
        "\n",
        "Цель:\n",
        "Разработка системы рекомендации стоимости автомобиля на основе его описания"
      ]
    },
    {
      "cell_type": "markdown",
      "metadata": {
        "id": "HsoxYqjT9vTL"
      },
      "source": [
        "## Подготовка данных"
      ]
    },
    {
      "cell_type": "code",
      "execution_count": null,
      "metadata": {
        "id": "gscU8igp9vTL"
      },
      "outputs": [],
      "source": [
        "import pandas as pd\n",
        "import numpy as np\n",
        "import matplotlib.pyplot as plt\n",
        "import seaborn as sns\n",
        "from sklearn.model_selection import train_test_split\n",
        "from sklearn.preprocessing import OneHotEncoder, StandardScaler\n",
        "from sklearn.compose import ColumnTransformer\n",
        "import lightgbm as lgb\n",
        "from sklearn.ensemble import RandomForestRegressor\n",
        "from sklearn.metrics import mean_squared_error\n",
        "from sklearn.model_selection import GridSearchCV\n",
        "from lightgbm import LGBMRegressor\n",
        "import time"
      ]
    },
    {
      "cell_type": "code",
      "execution_count": null,
      "metadata": {
        "id": "DrUKKoWe9vTL"
      },
      "outputs": [],
      "source": [
        "data=pd.read_csv('/datasets/autos.csv')"
      ]
    },
    {
      "cell_type": "code",
      "execution_count": null,
      "metadata": {
        "scrolled": true,
        "id": "i8YbgX9_9vTM",
        "outputId": "a83bd539-8b11-450e-ebb3-ecfab6fa4669"
      },
      "outputs": [
        {
          "data": {
            "text/html": [
              "<div>\n",
              "<style scoped>\n",
              "    .dataframe tbody tr th:only-of-type {\n",
              "        vertical-align: middle;\n",
              "    }\n",
              "\n",
              "    .dataframe tbody tr th {\n",
              "        vertical-align: top;\n",
              "    }\n",
              "\n",
              "    .dataframe thead th {\n",
              "        text-align: right;\n",
              "    }\n",
              "</style>\n",
              "<table border=\"1\" class=\"dataframe\">\n",
              "  <thead>\n",
              "    <tr style=\"text-align: right;\">\n",
              "      <th></th>\n",
              "      <th>DateCrawled</th>\n",
              "      <th>Price</th>\n",
              "      <th>VehicleType</th>\n",
              "      <th>RegistrationYear</th>\n",
              "      <th>Gearbox</th>\n",
              "      <th>Power</th>\n",
              "      <th>Model</th>\n",
              "      <th>Kilometer</th>\n",
              "      <th>RegistrationMonth</th>\n",
              "      <th>FuelType</th>\n",
              "      <th>Brand</th>\n",
              "      <th>Repaired</th>\n",
              "      <th>DateCreated</th>\n",
              "      <th>NumberOfPictures</th>\n",
              "      <th>PostalCode</th>\n",
              "      <th>LastSeen</th>\n",
              "    </tr>\n",
              "  </thead>\n",
              "  <tbody>\n",
              "    <tr>\n",
              "      <th>0</th>\n",
              "      <td>2016-03-24 11:52:17</td>\n",
              "      <td>480</td>\n",
              "      <td>NaN</td>\n",
              "      <td>1993</td>\n",
              "      <td>manual</td>\n",
              "      <td>0</td>\n",
              "      <td>golf</td>\n",
              "      <td>150000</td>\n",
              "      <td>0</td>\n",
              "      <td>petrol</td>\n",
              "      <td>volkswagen</td>\n",
              "      <td>NaN</td>\n",
              "      <td>2016-03-24 00:00:00</td>\n",
              "      <td>0</td>\n",
              "      <td>70435</td>\n",
              "      <td>2016-04-07 03:16:57</td>\n",
              "    </tr>\n",
              "    <tr>\n",
              "      <th>1</th>\n",
              "      <td>2016-03-24 10:58:45</td>\n",
              "      <td>18300</td>\n",
              "      <td>coupe</td>\n",
              "      <td>2011</td>\n",
              "      <td>manual</td>\n",
              "      <td>190</td>\n",
              "      <td>NaN</td>\n",
              "      <td>125000</td>\n",
              "      <td>5</td>\n",
              "      <td>gasoline</td>\n",
              "      <td>audi</td>\n",
              "      <td>yes</td>\n",
              "      <td>2016-03-24 00:00:00</td>\n",
              "      <td>0</td>\n",
              "      <td>66954</td>\n",
              "      <td>2016-04-07 01:46:50</td>\n",
              "    </tr>\n",
              "    <tr>\n",
              "      <th>2</th>\n",
              "      <td>2016-03-14 12:52:21</td>\n",
              "      <td>9800</td>\n",
              "      <td>suv</td>\n",
              "      <td>2004</td>\n",
              "      <td>auto</td>\n",
              "      <td>163</td>\n",
              "      <td>grand</td>\n",
              "      <td>125000</td>\n",
              "      <td>8</td>\n",
              "      <td>gasoline</td>\n",
              "      <td>jeep</td>\n",
              "      <td>NaN</td>\n",
              "      <td>2016-03-14 00:00:00</td>\n",
              "      <td>0</td>\n",
              "      <td>90480</td>\n",
              "      <td>2016-04-05 12:47:46</td>\n",
              "    </tr>\n",
              "    <tr>\n",
              "      <th>3</th>\n",
              "      <td>2016-03-17 16:54:04</td>\n",
              "      <td>1500</td>\n",
              "      <td>small</td>\n",
              "      <td>2001</td>\n",
              "      <td>manual</td>\n",
              "      <td>75</td>\n",
              "      <td>golf</td>\n",
              "      <td>150000</td>\n",
              "      <td>6</td>\n",
              "      <td>petrol</td>\n",
              "      <td>volkswagen</td>\n",
              "      <td>no</td>\n",
              "      <td>2016-03-17 00:00:00</td>\n",
              "      <td>0</td>\n",
              "      <td>91074</td>\n",
              "      <td>2016-03-17 17:40:17</td>\n",
              "    </tr>\n",
              "    <tr>\n",
              "      <th>4</th>\n",
              "      <td>2016-03-31 17:25:20</td>\n",
              "      <td>3600</td>\n",
              "      <td>small</td>\n",
              "      <td>2008</td>\n",
              "      <td>manual</td>\n",
              "      <td>69</td>\n",
              "      <td>fabia</td>\n",
              "      <td>90000</td>\n",
              "      <td>7</td>\n",
              "      <td>gasoline</td>\n",
              "      <td>skoda</td>\n",
              "      <td>no</td>\n",
              "      <td>2016-03-31 00:00:00</td>\n",
              "      <td>0</td>\n",
              "      <td>60437</td>\n",
              "      <td>2016-04-06 10:17:21</td>\n",
              "    </tr>\n",
              "  </tbody>\n",
              "</table>\n",
              "</div>"
            ],
            "text/plain": [
              "           DateCrawled  Price VehicleType  RegistrationYear Gearbox  Power  \\\n",
              "0  2016-03-24 11:52:17    480         NaN              1993  manual      0   \n",
              "1  2016-03-24 10:58:45  18300       coupe              2011  manual    190   \n",
              "2  2016-03-14 12:52:21   9800         suv              2004    auto    163   \n",
              "3  2016-03-17 16:54:04   1500       small              2001  manual     75   \n",
              "4  2016-03-31 17:25:20   3600       small              2008  manual     69   \n",
              "\n",
              "   Model  Kilometer  RegistrationMonth  FuelType       Brand Repaired  \\\n",
              "0   golf     150000                  0    petrol  volkswagen      NaN   \n",
              "1    NaN     125000                  5  gasoline        audi      yes   \n",
              "2  grand     125000                  8  gasoline        jeep      NaN   \n",
              "3   golf     150000                  6    petrol  volkswagen       no   \n",
              "4  fabia      90000                  7  gasoline       skoda       no   \n",
              "\n",
              "           DateCreated  NumberOfPictures  PostalCode             LastSeen  \n",
              "0  2016-03-24 00:00:00                 0       70435  2016-04-07 03:16:57  \n",
              "1  2016-03-24 00:00:00                 0       66954  2016-04-07 01:46:50  \n",
              "2  2016-03-14 00:00:00                 0       90480  2016-04-05 12:47:46  \n",
              "3  2016-03-17 00:00:00                 0       91074  2016-03-17 17:40:17  \n",
              "4  2016-03-31 00:00:00                 0       60437  2016-04-06 10:17:21  "
            ]
          },
          "execution_count": 62,
          "metadata": {},
          "output_type": "execute_result"
        }
      ],
      "source": [
        "data.head()"
      ]
    },
    {
      "cell_type": "code",
      "execution_count": null,
      "metadata": {
        "scrolled": true,
        "id": "AE79_IWF9vTM",
        "outputId": "d827a9de-2a74-4c44-b67a-80f3efab4d60"
      },
      "outputs": [
        {
          "name": "stdout",
          "output_type": "stream",
          "text": [
            "<class 'pandas.core.frame.DataFrame'>\n",
            "RangeIndex: 354369 entries, 0 to 354368\n",
            "Data columns (total 16 columns):\n",
            " #   Column             Non-Null Count   Dtype \n",
            "---  ------             --------------   ----- \n",
            " 0   DateCrawled        354369 non-null  object\n",
            " 1   Price              354369 non-null  int64 \n",
            " 2   VehicleType        316879 non-null  object\n",
            " 3   RegistrationYear   354369 non-null  int64 \n",
            " 4   Gearbox            334536 non-null  object\n",
            " 5   Power              354369 non-null  int64 \n",
            " 6   Model              334664 non-null  object\n",
            " 7   Kilometer          354369 non-null  int64 \n",
            " 8   RegistrationMonth  354369 non-null  int64 \n",
            " 9   FuelType           321474 non-null  object\n",
            " 10  Brand              354369 non-null  object\n",
            " 11  Repaired           283215 non-null  object\n",
            " 12  DateCreated        354369 non-null  object\n",
            " 13  NumberOfPictures   354369 non-null  int64 \n",
            " 14  PostalCode         354369 non-null  int64 \n",
            " 15  LastSeen           354369 non-null  object\n",
            "dtypes: int64(7), object(9)\n",
            "memory usage: 43.3+ MB\n"
          ]
        }
      ],
      "source": [
        "data.info()"
      ]
    },
    {
      "cell_type": "code",
      "execution_count": null,
      "metadata": {
        "id": "T0nwpFty9vTM"
      },
      "outputs": [],
      "source": [
        "data['DateCrawled'] = pd.to_datetime(data['DateCrawled'])\n",
        "data['DateCreated'] = pd.to_datetime(data['DateCreated'])\n",
        "data['LastSeen'] = pd.to_datetime(data['LastSeen'])"
      ]
    },
    {
      "cell_type": "code",
      "execution_count": null,
      "metadata": {
        "id": "YXNiyD6l9vTN"
      },
      "outputs": [],
      "source": [
        "# data['RegistrationYear'] = pd.Categorical(data['RegistrationYear'])\n",
        "# data['RegistrationMonth'] = pd.Categorical(data['RegistrationMonth'])"
      ]
    },
    {
      "cell_type": "code",
      "execution_count": null,
      "metadata": {
        "scrolled": true,
        "id": "2lTv4LNH9vTQ",
        "outputId": "6859b465-df9f-41b8-8872-f283f545eb7b"
      },
      "outputs": [
        {
          "name": "stdout",
          "output_type": "stream",
          "text": [
            "Index(['datecrawled', 'price', 'vehicletype', 'registrationyear', 'gearbox',\n",
            "       'power', 'model', 'kilometer', 'registrationmonth', 'fueltype', 'brand',\n",
            "       'repaired', 'datecreated', 'numberofpictures', 'postalcode',\n",
            "       'lastseen'],\n",
            "      dtype='object')\n"
          ]
        }
      ],
      "source": [
        "# Преобразование названий всех столбцов в нижний регистр\n",
        "data.columns = data.columns.str.lower()\n",
        "\n",
        "# Проверка результатов\n",
        "print(data.columns)"
      ]
    },
    {
      "cell_type": "code",
      "execution_count": null,
      "metadata": {
        "scrolled": true,
        "id": "xtN6Hrjd9vTR",
        "outputId": "f6898412-5dff-4952-97b7-d3064b5ef679"
      },
      "outputs": [
        {
          "name": "stdout",
          "output_type": "stream",
          "text": [
            "<class 'pandas.core.frame.DataFrame'>\n",
            "RangeIndex: 354369 entries, 0 to 354368\n",
            "Data columns (total 16 columns):\n",
            " #   Column             Non-Null Count   Dtype         \n",
            "---  ------             --------------   -----         \n",
            " 0   datecrawled        354369 non-null  datetime64[ns]\n",
            " 1   price              354369 non-null  int64         \n",
            " 2   vehicletype        316879 non-null  object        \n",
            " 3   registrationyear   354369 non-null  int64         \n",
            " 4   gearbox            334536 non-null  object        \n",
            " 5   power              354369 non-null  int64         \n",
            " 6   model              334664 non-null  object        \n",
            " 7   kilometer          354369 non-null  int64         \n",
            " 8   registrationmonth  354369 non-null  int64         \n",
            " 9   fueltype           321474 non-null  object        \n",
            " 10  brand              354369 non-null  object        \n",
            " 11  repaired           283215 non-null  object        \n",
            " 12  datecreated        354369 non-null  datetime64[ns]\n",
            " 13  numberofpictures   354369 non-null  int64         \n",
            " 14  postalcode         354369 non-null  int64         \n",
            " 15  lastseen           354369 non-null  datetime64[ns]\n",
            "dtypes: datetime64[ns](3), int64(7), object(6)\n",
            "memory usage: 43.3+ MB\n"
          ]
        }
      ],
      "source": [
        "data.info()"
      ]
    },
    {
      "cell_type": "code",
      "execution_count": null,
      "metadata": {
        "scrolled": true,
        "id": "-e2-ZRmN9vTR",
        "outputId": "1d8e14dc-d7d2-477f-d10b-acc3eeeef1be"
      },
      "outputs": [
        {
          "data": {
            "text/html": [
              "<div>\n",
              "<style scoped>\n",
              "    .dataframe tbody tr th:only-of-type {\n",
              "        vertical-align: middle;\n",
              "    }\n",
              "\n",
              "    .dataframe tbody tr th {\n",
              "        vertical-align: top;\n",
              "    }\n",
              "\n",
              "    .dataframe thead th {\n",
              "        text-align: right;\n",
              "    }\n",
              "</style>\n",
              "<table border=\"1\" class=\"dataframe\">\n",
              "  <thead>\n",
              "    <tr style=\"text-align: right;\">\n",
              "      <th></th>\n",
              "      <th>price</th>\n",
              "      <th>registrationyear</th>\n",
              "      <th>power</th>\n",
              "      <th>kilometer</th>\n",
              "      <th>registrationmonth</th>\n",
              "      <th>numberofpictures</th>\n",
              "      <th>postalcode</th>\n",
              "    </tr>\n",
              "  </thead>\n",
              "  <tbody>\n",
              "    <tr>\n",
              "      <th>count</th>\n",
              "      <td>354369.000000</td>\n",
              "      <td>354369.000000</td>\n",
              "      <td>354369.000000</td>\n",
              "      <td>354369.000000</td>\n",
              "      <td>354369.000000</td>\n",
              "      <td>354369.0</td>\n",
              "      <td>354369.000000</td>\n",
              "    </tr>\n",
              "    <tr>\n",
              "      <th>mean</th>\n",
              "      <td>4416.656776</td>\n",
              "      <td>2004.234448</td>\n",
              "      <td>110.094337</td>\n",
              "      <td>128211.172535</td>\n",
              "      <td>5.714645</td>\n",
              "      <td>0.0</td>\n",
              "      <td>50508.689087</td>\n",
              "    </tr>\n",
              "    <tr>\n",
              "      <th>std</th>\n",
              "      <td>4514.158514</td>\n",
              "      <td>90.227958</td>\n",
              "      <td>189.850405</td>\n",
              "      <td>37905.341530</td>\n",
              "      <td>3.726421</td>\n",
              "      <td>0.0</td>\n",
              "      <td>25783.096248</td>\n",
              "    </tr>\n",
              "    <tr>\n",
              "      <th>min</th>\n",
              "      <td>0.000000</td>\n",
              "      <td>1000.000000</td>\n",
              "      <td>0.000000</td>\n",
              "      <td>5000.000000</td>\n",
              "      <td>0.000000</td>\n",
              "      <td>0.0</td>\n",
              "      <td>1067.000000</td>\n",
              "    </tr>\n",
              "    <tr>\n",
              "      <th>25%</th>\n",
              "      <td>1050.000000</td>\n",
              "      <td>1999.000000</td>\n",
              "      <td>69.000000</td>\n",
              "      <td>125000.000000</td>\n",
              "      <td>3.000000</td>\n",
              "      <td>0.0</td>\n",
              "      <td>30165.000000</td>\n",
              "    </tr>\n",
              "    <tr>\n",
              "      <th>50%</th>\n",
              "      <td>2700.000000</td>\n",
              "      <td>2003.000000</td>\n",
              "      <td>105.000000</td>\n",
              "      <td>150000.000000</td>\n",
              "      <td>6.000000</td>\n",
              "      <td>0.0</td>\n",
              "      <td>49413.000000</td>\n",
              "    </tr>\n",
              "    <tr>\n",
              "      <th>75%</th>\n",
              "      <td>6400.000000</td>\n",
              "      <td>2008.000000</td>\n",
              "      <td>143.000000</td>\n",
              "      <td>150000.000000</td>\n",
              "      <td>9.000000</td>\n",
              "      <td>0.0</td>\n",
              "      <td>71083.000000</td>\n",
              "    </tr>\n",
              "    <tr>\n",
              "      <th>max</th>\n",
              "      <td>20000.000000</td>\n",
              "      <td>9999.000000</td>\n",
              "      <td>20000.000000</td>\n",
              "      <td>150000.000000</td>\n",
              "      <td>12.000000</td>\n",
              "      <td>0.0</td>\n",
              "      <td>99998.000000</td>\n",
              "    </tr>\n",
              "  </tbody>\n",
              "</table>\n",
              "</div>"
            ],
            "text/plain": [
              "               price  registrationyear          power      kilometer  \\\n",
              "count  354369.000000     354369.000000  354369.000000  354369.000000   \n",
              "mean     4416.656776       2004.234448     110.094337  128211.172535   \n",
              "std      4514.158514         90.227958     189.850405   37905.341530   \n",
              "min         0.000000       1000.000000       0.000000    5000.000000   \n",
              "25%      1050.000000       1999.000000      69.000000  125000.000000   \n",
              "50%      2700.000000       2003.000000     105.000000  150000.000000   \n",
              "75%      6400.000000       2008.000000     143.000000  150000.000000   \n",
              "max     20000.000000       9999.000000   20000.000000  150000.000000   \n",
              "\n",
              "       registrationmonth  numberofpictures     postalcode  \n",
              "count      354369.000000          354369.0  354369.000000  \n",
              "mean            5.714645               0.0   50508.689087  \n",
              "std             3.726421               0.0   25783.096248  \n",
              "min             0.000000               0.0    1067.000000  \n",
              "25%             3.000000               0.0   30165.000000  \n",
              "50%             6.000000               0.0   49413.000000  \n",
              "75%             9.000000               0.0   71083.000000  \n",
              "max            12.000000               0.0   99998.000000  "
            ]
          },
          "execution_count": 68,
          "metadata": {},
          "output_type": "execute_result"
        }
      ],
      "source": [
        "data.describe()"
      ]
    },
    {
      "cell_type": "markdown",
      "metadata": {
        "id": "Dq4ur0249vTS"
      },
      "source": []
    },
    {
      "cell_type": "code",
      "execution_count": null,
      "metadata": {
        "scrolled": false,
        "id": "-6KsMjB29vTS",
        "outputId": "7258fd00-93d3-4b93-8721-c81bea6a8257"
      },
      "outputs": [
        {
          "name": "stdout",
          "output_type": "stream",
          "text": [
            "Количество явных дубликатов в данных: 4\n"
          ]
        }
      ],
      "source": [
        "# Определение явных дубликатов\n",
        "duplicates = data.duplicated()\n",
        "\n",
        "# Подсчет количества явных дубликатов\n",
        "num_duplicates = duplicates.sum()\n",
        "print(f\"Количество явных дубликатов в данных: {num_duplicates}\")\n"
      ]
    },
    {
      "cell_type": "code",
      "execution_count": null,
      "metadata": {
        "id": "MtRgotnZ9vTS",
        "outputId": "ead261e0-281b-43b9-ef80-529c8e63cbc2"
      },
      "outputs": [
        {
          "name": "stdout",
          "output_type": "stream",
          "text": [
            "Дубликаты были удалены.\n"
          ]
        }
      ],
      "source": [
        "\n",
        "# Удаление дубликатов, если они есть\n",
        "if num_duplicates > 0:\n",
        "    data.drop_duplicates(inplace=True)\n",
        "    print(\"Дубликаты были удалены.\")\n",
        "else:\n",
        "    print(\"Дубликатов не обнаружено.\")"
      ]
    },
    {
      "cell_type": "code",
      "execution_count": null,
      "metadata": {
        "scrolled": true,
        "id": "pLCPDmSZ9vTS",
        "outputId": "4ae71023-93d2-47f9-fc1b-659c72b797a1"
      },
      "outputs": [
        {
          "name": "stdout",
          "output_type": "stream",
          "text": [
            "<class 'pandas.core.frame.DataFrame'>\n",
            "Int64Index: 354365 entries, 0 to 354368\n",
            "Data columns (total 16 columns):\n",
            " #   Column             Non-Null Count   Dtype         \n",
            "---  ------             --------------   -----         \n",
            " 0   datecrawled        354365 non-null  datetime64[ns]\n",
            " 1   price              354365 non-null  int64         \n",
            " 2   vehicletype        316875 non-null  object        \n",
            " 3   registrationyear   354365 non-null  int64         \n",
            " 4   gearbox            334532 non-null  object        \n",
            " 5   power              354365 non-null  int64         \n",
            " 6   model              334660 non-null  object        \n",
            " 7   kilometer          354365 non-null  int64         \n",
            " 8   registrationmonth  354365 non-null  int64         \n",
            " 9   fueltype           321470 non-null  object        \n",
            " 10  brand              354365 non-null  object        \n",
            " 11  repaired           283211 non-null  object        \n",
            " 12  datecreated        354365 non-null  datetime64[ns]\n",
            " 13  numberofpictures   354365 non-null  int64         \n",
            " 14  postalcode         354365 non-null  int64         \n",
            " 15  lastseen           354365 non-null  datetime64[ns]\n",
            "dtypes: datetime64[ns](3), int64(7), object(6)\n",
            "memory usage: 46.0+ MB\n"
          ]
        }
      ],
      "source": [
        "data.info()"
      ]
    },
    {
      "cell_type": "code",
      "execution_count": null,
      "metadata": {
        "id": "ZA3xURRT9vTS"
      },
      "outputs": [],
      "source": [
        "# Удаление столбцов 'DateCrawled', 'DateCreated' и 'LastSeen'\n",
        "data.drop(columns=['datecreated', 'lastseen','numberofpictures'], inplace=True)"
      ]
    },
    {
      "cell_type": "code",
      "execution_count": null,
      "metadata": {
        "id": "AzC4liCf9vTS"
      },
      "outputs": [],
      "source": [
        "data['fueltype'].fillna('other', inplace=True)\n",
        "data['vehicletype'].fillna('other', inplace=True)"
      ]
    },
    {
      "cell_type": "code",
      "execution_count": null,
      "metadata": {
        "scrolled": true,
        "id": "op_HF5u29vTT",
        "outputId": "7c9970fd-38dc-4419-fbc9-d6aac8bfd33e"
      },
      "outputs": [
        {
          "name": "stdout",
          "output_type": "stream",
          "text": [
            "<class 'pandas.core.frame.DataFrame'>\n",
            "Int64Index: 354365 entries, 0 to 354368\n",
            "Data columns (total 13 columns):\n",
            " #   Column             Non-Null Count   Dtype         \n",
            "---  ------             --------------   -----         \n",
            " 0   datecrawled        354365 non-null  datetime64[ns]\n",
            " 1   price              354365 non-null  int64         \n",
            " 2   vehicletype        354365 non-null  object        \n",
            " 3   registrationyear   354365 non-null  int64         \n",
            " 4   gearbox            334532 non-null  object        \n",
            " 5   power              354365 non-null  int64         \n",
            " 6   model              334660 non-null  object        \n",
            " 7   kilometer          354365 non-null  int64         \n",
            " 8   registrationmonth  354365 non-null  int64         \n",
            " 9   fueltype           354365 non-null  object        \n",
            " 10  brand              354365 non-null  object        \n",
            " 11  repaired           283211 non-null  object        \n",
            " 12  postalcode         354365 non-null  int64         \n",
            "dtypes: datetime64[ns](1), int64(6), object(6)\n",
            "memory usage: 37.9+ MB\n"
          ]
        }
      ],
      "source": [
        "data.info()"
      ]
    },
    {
      "cell_type": "code",
      "execution_count": null,
      "metadata": {
        "scrolled": true,
        "id": "eFz9ooAF9vTT",
        "outputId": "36be95eb-6d0c-416b-fca9-e203ab061eaa"
      },
      "outputs": [
        {
          "data": {
            "text/html": [
              "<div>\n",
              "<style scoped>\n",
              "    .dataframe tbody tr th:only-of-type {\n",
              "        vertical-align: middle;\n",
              "    }\n",
              "\n",
              "    .dataframe tbody tr th {\n",
              "        vertical-align: top;\n",
              "    }\n",
              "\n",
              "    .dataframe thead th {\n",
              "        text-align: right;\n",
              "    }\n",
              "</style>\n",
              "<table border=\"1\" class=\"dataframe\">\n",
              "  <thead>\n",
              "    <tr style=\"text-align: right;\">\n",
              "      <th></th>\n",
              "      <th>price</th>\n",
              "      <th>registrationyear</th>\n",
              "      <th>power</th>\n",
              "      <th>kilometer</th>\n",
              "      <th>registrationmonth</th>\n",
              "      <th>postalcode</th>\n",
              "    </tr>\n",
              "  </thead>\n",
              "  <tbody>\n",
              "    <tr>\n",
              "      <th>count</th>\n",
              "      <td>354365.000000</td>\n",
              "      <td>354365.000000</td>\n",
              "      <td>354365.000000</td>\n",
              "      <td>354365.000000</td>\n",
              "      <td>354365.000000</td>\n",
              "      <td>354365.000000</td>\n",
              "    </tr>\n",
              "    <tr>\n",
              "      <th>mean</th>\n",
              "      <td>4416.679830</td>\n",
              "      <td>2004.234481</td>\n",
              "      <td>110.093816</td>\n",
              "      <td>128211.363989</td>\n",
              "      <td>5.714650</td>\n",
              "      <td>50508.503800</td>\n",
              "    </tr>\n",
              "    <tr>\n",
              "      <th>std</th>\n",
              "      <td>4514.176349</td>\n",
              "      <td>90.228466</td>\n",
              "      <td>189.851330</td>\n",
              "      <td>37905.083858</td>\n",
              "      <td>3.726432</td>\n",
              "      <td>25783.100078</td>\n",
              "    </tr>\n",
              "    <tr>\n",
              "      <th>min</th>\n",
              "      <td>0.000000</td>\n",
              "      <td>1000.000000</td>\n",
              "      <td>0.000000</td>\n",
              "      <td>5000.000000</td>\n",
              "      <td>0.000000</td>\n",
              "      <td>1067.000000</td>\n",
              "    </tr>\n",
              "    <tr>\n",
              "      <th>25%</th>\n",
              "      <td>1050.000000</td>\n",
              "      <td>1999.000000</td>\n",
              "      <td>69.000000</td>\n",
              "      <td>125000.000000</td>\n",
              "      <td>3.000000</td>\n",
              "      <td>30165.000000</td>\n",
              "    </tr>\n",
              "    <tr>\n",
              "      <th>50%</th>\n",
              "      <td>2700.000000</td>\n",
              "      <td>2003.000000</td>\n",
              "      <td>105.000000</td>\n",
              "      <td>150000.000000</td>\n",
              "      <td>6.000000</td>\n",
              "      <td>49413.000000</td>\n",
              "    </tr>\n",
              "    <tr>\n",
              "      <th>75%</th>\n",
              "      <td>6400.000000</td>\n",
              "      <td>2008.000000</td>\n",
              "      <td>143.000000</td>\n",
              "      <td>150000.000000</td>\n",
              "      <td>9.000000</td>\n",
              "      <td>71083.000000</td>\n",
              "    </tr>\n",
              "    <tr>\n",
              "      <th>max</th>\n",
              "      <td>20000.000000</td>\n",
              "      <td>9999.000000</td>\n",
              "      <td>20000.000000</td>\n",
              "      <td>150000.000000</td>\n",
              "      <td>12.000000</td>\n",
              "      <td>99998.000000</td>\n",
              "    </tr>\n",
              "  </tbody>\n",
              "</table>\n",
              "</div>"
            ],
            "text/plain": [
              "               price  registrationyear          power      kilometer  \\\n",
              "count  354365.000000     354365.000000  354365.000000  354365.000000   \n",
              "mean     4416.679830       2004.234481     110.093816  128211.363989   \n",
              "std      4514.176349         90.228466     189.851330   37905.083858   \n",
              "min         0.000000       1000.000000       0.000000    5000.000000   \n",
              "25%      1050.000000       1999.000000      69.000000  125000.000000   \n",
              "50%      2700.000000       2003.000000     105.000000  150000.000000   \n",
              "75%      6400.000000       2008.000000     143.000000  150000.000000   \n",
              "max     20000.000000       9999.000000   20000.000000  150000.000000   \n",
              "\n",
              "       registrationmonth     postalcode  \n",
              "count      354365.000000  354365.000000  \n",
              "mean            5.714650   50508.503800  \n",
              "std             3.726432   25783.100078  \n",
              "min             0.000000    1067.000000  \n",
              "25%             3.000000   30165.000000  \n",
              "50%             6.000000   49413.000000  \n",
              "75%             9.000000   71083.000000  \n",
              "max            12.000000   99998.000000  "
            ]
          },
          "execution_count": 75,
          "metadata": {},
          "output_type": "execute_result"
        }
      ],
      "source": [
        "data.describe()"
      ]
    },
    {
      "cell_type": "code",
      "execution_count": null,
      "metadata": {
        "id": "idgBfzeo9vTT"
      },
      "outputs": [],
      "source": [
        "data['gearbox'].fillna('unknown', inplace=True)"
      ]
    },
    {
      "cell_type": "code",
      "execution_count": null,
      "metadata": {
        "id": "HhS6rcBU9vTT"
      },
      "outputs": [],
      "source": [
        "data['model'].fillna('unknown', inplace=True)"
      ]
    },
    {
      "cell_type": "code",
      "execution_count": null,
      "metadata": {
        "id": "Z2u0hodw9vTT"
      },
      "outputs": [],
      "source": [
        "data['repaired'].fillna('unknown', inplace=True)"
      ]
    },
    {
      "cell_type": "code",
      "execution_count": null,
      "metadata": {
        "scrolled": false,
        "id": "njKVYMZx9vTT",
        "outputId": "24ac705c-82ee-4b77-e444-f4616912d723"
      },
      "outputs": [
        {
          "data": {
            "text/html": [
              "<div>\n",
              "<style scoped>\n",
              "    .dataframe tbody tr th:only-of-type {\n",
              "        vertical-align: middle;\n",
              "    }\n",
              "\n",
              "    .dataframe tbody tr th {\n",
              "        vertical-align: top;\n",
              "    }\n",
              "\n",
              "    .dataframe thead th {\n",
              "        text-align: right;\n",
              "    }\n",
              "</style>\n",
              "<table border=\"1\" class=\"dataframe\">\n",
              "  <thead>\n",
              "    <tr style=\"text-align: right;\">\n",
              "      <th></th>\n",
              "      <th>datecrawled</th>\n",
              "      <th>price</th>\n",
              "      <th>vehicletype</th>\n",
              "      <th>registrationyear</th>\n",
              "      <th>gearbox</th>\n",
              "      <th>power</th>\n",
              "      <th>model</th>\n",
              "      <th>kilometer</th>\n",
              "      <th>registrationmonth</th>\n",
              "      <th>fueltype</th>\n",
              "      <th>brand</th>\n",
              "      <th>repaired</th>\n",
              "      <th>postalcode</th>\n",
              "    </tr>\n",
              "  </thead>\n",
              "  <tbody>\n",
              "    <tr>\n",
              "      <th>0</th>\n",
              "      <td>2016-03-24 11:52:17</td>\n",
              "      <td>480</td>\n",
              "      <td>other</td>\n",
              "      <td>1993</td>\n",
              "      <td>manual</td>\n",
              "      <td>0</td>\n",
              "      <td>golf</td>\n",
              "      <td>150000</td>\n",
              "      <td>0</td>\n",
              "      <td>petrol</td>\n",
              "      <td>volkswagen</td>\n",
              "      <td>unknown</td>\n",
              "      <td>70435</td>\n",
              "    </tr>\n",
              "    <tr>\n",
              "      <th>1</th>\n",
              "      <td>2016-03-24 10:58:45</td>\n",
              "      <td>18300</td>\n",
              "      <td>coupe</td>\n",
              "      <td>2011</td>\n",
              "      <td>manual</td>\n",
              "      <td>190</td>\n",
              "      <td>unknown</td>\n",
              "      <td>125000</td>\n",
              "      <td>5</td>\n",
              "      <td>gasoline</td>\n",
              "      <td>audi</td>\n",
              "      <td>yes</td>\n",
              "      <td>66954</td>\n",
              "    </tr>\n",
              "    <tr>\n",
              "      <th>2</th>\n",
              "      <td>2016-03-14 12:52:21</td>\n",
              "      <td>9800</td>\n",
              "      <td>suv</td>\n",
              "      <td>2004</td>\n",
              "      <td>auto</td>\n",
              "      <td>163</td>\n",
              "      <td>grand</td>\n",
              "      <td>125000</td>\n",
              "      <td>8</td>\n",
              "      <td>gasoline</td>\n",
              "      <td>jeep</td>\n",
              "      <td>unknown</td>\n",
              "      <td>90480</td>\n",
              "    </tr>\n",
              "    <tr>\n",
              "      <th>3</th>\n",
              "      <td>2016-03-17 16:54:04</td>\n",
              "      <td>1500</td>\n",
              "      <td>small</td>\n",
              "      <td>2001</td>\n",
              "      <td>manual</td>\n",
              "      <td>75</td>\n",
              "      <td>golf</td>\n",
              "      <td>150000</td>\n",
              "      <td>6</td>\n",
              "      <td>petrol</td>\n",
              "      <td>volkswagen</td>\n",
              "      <td>no</td>\n",
              "      <td>91074</td>\n",
              "    </tr>\n",
              "    <tr>\n",
              "      <th>4</th>\n",
              "      <td>2016-03-31 17:25:20</td>\n",
              "      <td>3600</td>\n",
              "      <td>small</td>\n",
              "      <td>2008</td>\n",
              "      <td>manual</td>\n",
              "      <td>69</td>\n",
              "      <td>fabia</td>\n",
              "      <td>90000</td>\n",
              "      <td>7</td>\n",
              "      <td>gasoline</td>\n",
              "      <td>skoda</td>\n",
              "      <td>no</td>\n",
              "      <td>60437</td>\n",
              "    </tr>\n",
              "  </tbody>\n",
              "</table>\n",
              "</div>"
            ],
            "text/plain": [
              "          datecrawled  price vehicletype  registrationyear gearbox  power  \\\n",
              "0 2016-03-24 11:52:17    480       other              1993  manual      0   \n",
              "1 2016-03-24 10:58:45  18300       coupe              2011  manual    190   \n",
              "2 2016-03-14 12:52:21   9800         suv              2004    auto    163   \n",
              "3 2016-03-17 16:54:04   1500       small              2001  manual     75   \n",
              "4 2016-03-31 17:25:20   3600       small              2008  manual     69   \n",
              "\n",
              "     model  kilometer  registrationmonth  fueltype       brand repaired  \\\n",
              "0     golf     150000                  0    petrol  volkswagen  unknown   \n",
              "1  unknown     125000                  5  gasoline        audi      yes   \n",
              "2    grand     125000                  8  gasoline        jeep  unknown   \n",
              "3     golf     150000                  6    petrol  volkswagen       no   \n",
              "4    fabia      90000                  7  gasoline       skoda       no   \n",
              "\n",
              "   postalcode  \n",
              "0       70435  \n",
              "1       66954  \n",
              "2       90480  \n",
              "3       91074  \n",
              "4       60437  "
            ]
          },
          "execution_count": 79,
          "metadata": {},
          "output_type": "execute_result"
        }
      ],
      "source": [
        "data.head()"
      ]
    },
    {
      "cell_type": "code",
      "execution_count": null,
      "metadata": {
        "scrolled": true,
        "id": "wc5QHf329vTT",
        "outputId": "7687bcd3-20f5-42bb-f443-18d195eed224"
      },
      "outputs": [
        {
          "data": {
            "text/html": [
              "<div>\n",
              "<style scoped>\n",
              "    .dataframe tbody tr th:only-of-type {\n",
              "        vertical-align: middle;\n",
              "    }\n",
              "\n",
              "    .dataframe tbody tr th {\n",
              "        vertical-align: top;\n",
              "    }\n",
              "\n",
              "    .dataframe thead th {\n",
              "        text-align: right;\n",
              "    }\n",
              "</style>\n",
              "<table border=\"1\" class=\"dataframe\">\n",
              "  <thead>\n",
              "    <tr style=\"text-align: right;\">\n",
              "      <th></th>\n",
              "      <th>price</th>\n",
              "      <th>registrationyear</th>\n",
              "      <th>power</th>\n",
              "      <th>kilometer</th>\n",
              "      <th>registrationmonth</th>\n",
              "      <th>postalcode</th>\n",
              "    </tr>\n",
              "  </thead>\n",
              "  <tbody>\n",
              "    <tr>\n",
              "      <th>count</th>\n",
              "      <td>294457.000000</td>\n",
              "      <td>294457.00000</td>\n",
              "      <td>294457.000000</td>\n",
              "      <td>294457.000000</td>\n",
              "      <td>294457.000000</td>\n",
              "      <td>294457.000000</td>\n",
              "    </tr>\n",
              "    <tr>\n",
              "      <th>mean</th>\n",
              "      <td>4882.296858</td>\n",
              "      <td>2002.85097</td>\n",
              "      <td>120.744462</td>\n",
              "      <td>128302.689357</td>\n",
              "      <td>6.002992</td>\n",
              "      <td>51246.025508</td>\n",
              "    </tr>\n",
              "    <tr>\n",
              "      <th>std</th>\n",
              "      <td>4608.957595</td>\n",
              "      <td>6.48418</td>\n",
              "      <td>53.447029</td>\n",
              "      <td>36695.275368</td>\n",
              "      <td>3.579086</td>\n",
              "      <td>25766.295744</td>\n",
              "    </tr>\n",
              "    <tr>\n",
              "      <th>min</th>\n",
              "      <td>101.000000</td>\n",
              "      <td>1950.00000</td>\n",
              "      <td>11.000000</td>\n",
              "      <td>5000.000000</td>\n",
              "      <td>0.000000</td>\n",
              "      <td>1067.000000</td>\n",
              "    </tr>\n",
              "    <tr>\n",
              "      <th>25%</th>\n",
              "      <td>1350.000000</td>\n",
              "      <td>1999.00000</td>\n",
              "      <td>77.000000</td>\n",
              "      <td>125000.000000</td>\n",
              "      <td>3.000000</td>\n",
              "      <td>30938.000000</td>\n",
              "    </tr>\n",
              "    <tr>\n",
              "      <th>50%</th>\n",
              "      <td>3200.000000</td>\n",
              "      <td>2003.00000</td>\n",
              "      <td>111.000000</td>\n",
              "      <td>150000.000000</td>\n",
              "      <td>6.000000</td>\n",
              "      <td>50259.000000</td>\n",
              "    </tr>\n",
              "    <tr>\n",
              "      <th>75%</th>\n",
              "      <td>6999.000000</td>\n",
              "      <td>2007.00000</td>\n",
              "      <td>150.000000</td>\n",
              "      <td>150000.000000</td>\n",
              "      <td>9.000000</td>\n",
              "      <td>72108.000000</td>\n",
              "    </tr>\n",
              "    <tr>\n",
              "      <th>max</th>\n",
              "      <td>20000.000000</td>\n",
              "      <td>2016.00000</td>\n",
              "      <td>500.000000</td>\n",
              "      <td>150000.000000</td>\n",
              "      <td>12.000000</td>\n",
              "      <td>99998.000000</td>\n",
              "    </tr>\n",
              "  </tbody>\n",
              "</table>\n",
              "</div>"
            ],
            "text/plain": [
              "               price  registrationyear          power      kilometer  \\\n",
              "count  294457.000000      294457.00000  294457.000000  294457.000000   \n",
              "mean     4882.296858        2002.85097     120.744462  128302.689357   \n",
              "std      4608.957595           6.48418      53.447029   36695.275368   \n",
              "min       101.000000        1950.00000      11.000000    5000.000000   \n",
              "25%      1350.000000        1999.00000      77.000000  125000.000000   \n",
              "50%      3200.000000        2003.00000     111.000000  150000.000000   \n",
              "75%      6999.000000        2007.00000     150.000000  150000.000000   \n",
              "max     20000.000000        2016.00000     500.000000  150000.000000   \n",
              "\n",
              "       registrationmonth     postalcode  \n",
              "count      294457.000000  294457.000000  \n",
              "mean            6.002992   51246.025508  \n",
              "std             3.579086   25766.295744  \n",
              "min             0.000000    1067.000000  \n",
              "25%             3.000000   30938.000000  \n",
              "50%             6.000000   50259.000000  \n",
              "75%             9.000000   72108.000000  \n",
              "max            12.000000   99998.000000  "
            ]
          },
          "execution_count": 80,
          "metadata": {},
          "output_type": "execute_result"
        }
      ],
      "source": [
        "# Конвертация 'datecrawled' в формат datetime\n",
        "data['datecrawled'] = pd.to_datetime(data['datecrawled'])\n",
        "\n",
        "# Определение максимального и минимального года в 'datecrawled'\n",
        "max_year_crawled = data['datecrawled'].dt.year.max()\n",
        "\n",
        "\n",
        "# Фильтрация данных для исключения нереалистичных значений года регистрации\n",
        "data = data[(data['registrationyear'] >= 1950) & (data['registrationyear'] <= max_year_crawled)]\n",
        "\n",
        "\n",
        "# Удаление автомобилей с нереалистичными ценами\n",
        "data = data[(data['price'] > 100) & (data['price'] <= 20000)]\n",
        "\n",
        "# Удаление записей с нереалистичной мощностью\n",
        "data = data[(data['power'] > 10) & (data['power'] <= 500)]\n",
        "\n",
        "\n",
        "# Проверка результатов\n",
        "data.describe()"
      ]
    },
    {
      "cell_type": "code",
      "execution_count": null,
      "metadata": {
        "id": "03oHWFjS9vTT",
        "outputId": "ab6f4a31-94dd-49a3-c924-abbde6776d7a"
      },
      "outputs": [
        {
          "name": "stdout",
          "output_type": "stream",
          "text": [
            "<class 'pandas.core.frame.DataFrame'>\n",
            "Int64Index: 294457 entries, 1 to 354368\n",
            "Data columns (total 13 columns):\n",
            " #   Column             Non-Null Count   Dtype         \n",
            "---  ------             --------------   -----         \n",
            " 0   datecrawled        294457 non-null  datetime64[ns]\n",
            " 1   price              294457 non-null  int64         \n",
            " 2   vehicletype        294457 non-null  object        \n",
            " 3   registrationyear   294457 non-null  int64         \n",
            " 4   gearbox            294457 non-null  object        \n",
            " 5   power              294457 non-null  int64         \n",
            " 6   model              294457 non-null  object        \n",
            " 7   kilometer          294457 non-null  int64         \n",
            " 8   registrationmonth  294457 non-null  int64         \n",
            " 9   fueltype           294457 non-null  object        \n",
            " 10  brand              294457 non-null  object        \n",
            " 11  repaired           294457 non-null  object        \n",
            " 12  postalcode         294457 non-null  int64         \n",
            "dtypes: datetime64[ns](1), int64(6), object(6)\n",
            "memory usage: 31.5+ MB\n"
          ]
        }
      ],
      "source": [
        "data.info()"
      ]
    },
    {
      "cell_type": "code",
      "execution_count": null,
      "metadata": {
        "scrolled": false,
        "id": "BU7oeCeU9vTT",
        "outputId": "a1656d22-1527-41a3-f305-c749e2f9a175"
      },
      "outputs": [
        {
          "data": {
            "image/png": "[encoded data removed]",
            "text/plain": [
              "<Figure size 720x288 with 1 Axes>"
            ]
          },
          "metadata": {
            "needs_background": "light"
          },
          "output_type": "display_data"
        },
        {
          "data": {
            "image/png": "[encoded data removed]",
            "text/plain": [
              "<Figure size 720x288 with 1 Axes>"
            ]
          },
          "metadata": {
            "needs_background": "light"
          },
          "output_type": "display_data"
        },
        {
          "data": {
            "image/png": "[encoded data removed]",
            "text/plain": [
              "<Figure size 720x288 with 1 Axes>"
            ]
          },
          "metadata": {
            "needs_background": "light"
          },
          "output_type": "display_data"
        },
        {
          "data": {
            "image/png": "[encoded data removed]",
            "text/plain": [
              "<Figure size 720x288 with 1 Axes>"
            ]
          },
          "metadata": {
            "needs_background": "light"
          },
          "output_type": "display_data"
        },
        {
          "data": {
            "image/png": "[encoded data removed]",
            "text/plain": [
              "<Figure size 720x288 with 1 Axes>"
            ]
          },
          "metadata": {
            "needs_background": "light"
          },
          "output_type": "display_data"
        },
        {
          "data": {
            "image/png": "[encoded data removed]",
            "text/plain": [
              "<Figure size 720x288 with 1 Axes>"
            ]
          },
          "metadata": {
            "needs_background": "light"
          },
          "output_type": "display_data"
        },
        {
          "data": {
            "image/png": "[encoded data removed]",
            "text/plain": [
              "<Figure size 720x288 with 1 Axes>"
            ]
          },
          "metadata": {
            "needs_background": "light"
          },
          "output_type": "display_data"
        },
        {
          "data": {
            "image/png": "[encoded data removed]",
            "text/plain": [
              "<Figure size 720x288 with 1 Axes>"
            ]
          },
          "metadata": {
            "needs_background": "light"
          },
          "output_type": "display_data"
        },
        {
          "data": {
            "image/png": "[encoded data removed]",
            "text/plain": [
              "<Figure size 720x288 with 1 Axes>"
            ]
          },
          "metadata": {
            "needs_background": "light"
          },
          "output_type": "display_data"
        },
        {
          "data": {
            "image/png": "[encoded data removed]",
            "text/plain": [
              "<Figure size 720x288 with 1 Axes>"
            ]
          },
          "metadata": {
            "needs_background": "light"
          },
          "output_type": "display_data"
        },
        {
          "data": {
            "image/png": "[encoded data removed]",
            "text/plain": [
              "<Figure size 720x288 with 1 Axes>"
            ]
          },
          "metadata": {
            "needs_background": "light"
          },
          "output_type": "display_data"
        },
        {
          "data": {
            "image/png": "[encoded data removed]",
            "text/plain": [
              "<Figure size 720x288 with 1 Axes>"
            ]
          },
          "metadata": {
            "needs_background": "light"
          },
          "output_type": "display_data"
        }
      ],
      "source": [
        "\n",
        "# Определение числовых и категориальных столбцов\n",
        "numerical_cols = data.select_dtypes(include=['int64']).columns\n",
        "categorical_cols = data.select_dtypes(include=['object']).columns\n",
        "\n",
        "# Построение графиков для числовых столбцов\n",
        "for col in numerical_cols:\n",
        "    plt.figure(figsize=(10, 4))\n",
        "    sns.histplot(data[col], kde=True)\n",
        "    plt.title(f'Распределение {col}')\n",
        "    plt.show()\n",
        "\n",
        "# Построение графиков для категориальных столбцов\n",
        "for col in categorical_cols:\n",
        "    plt.figure(figsize=(10, 4))\n",
        "    sns.countplot(y=data[col])\n",
        "    plt.title(f'Распределение {col}')\n",
        "    plt.show()\n"
      ]
    },
    {
      "cell_type": "markdown",
      "metadata": {
        "id": "tr6m5Ym49vTT"
      },
      "source": [
        "**Вывод по разделу обзор и анализ данных:**\n",
        "Был проведен обзор данных. Было обнаружено 4 явных дубликата.Они были удалены. Были удалены столбцы'datecrawled', 'datecreated', 'lastseen','numberofpictures', так как они не информативны для целей исследования. В данных было много пропущенных данных, они были заменены на 'other' и 'unknown'.  Удалены аномальные значения  в 'registrationyear', 'price','power'."
      ]
    },
    {
      "cell_type": "markdown",
      "metadata": {
        "id": "4YmnLVJw9vTT"
      },
      "source": [
        "## Обучение моделей"
      ]
    },
    {
      "cell_type": "code",
      "execution_count": null,
      "metadata": {
        "id": "-vjHY-BI9vTT"
      },
      "outputs": [],
      "source": [
        "RANDOM_STATE=123"
      ]
    },
    {
      "cell_type": "code",
      "execution_count": null,
      "metadata": {
        "id": "zP-Te7D69vTT"
      },
      "outputs": [],
      "source": [
        "# Разделение данных на признаки (X) и цель (y), исключая 'datecrawled'\n",
        "X = data.drop(['price', 'datecrawled'], axis=1)\n",
        "y = data['price']\n",
        "\n",
        "# Определение категориальных и числовых столбцов\n",
        "categorical_cols = X.select_dtypes(include=['object']).columns\n",
        "numerical_cols = X.select_dtypes(exclude=['object', 'datetime']).columns\n",
        "\n",
        "# Разделение данных на обучающую и тестовую выборки\n",
        "X_train, X_test, y_train, y_test = train_test_split(X, y, test_size=0.2, random_state=RANDOM_STATE)\n",
        "\n",
        "# Создание трансформера с OneHotEncoder для категориальных и StandardScaler для числовых признаков\n",
        "column_transformer = ColumnTransformer([\n",
        "    ('onehot', OneHotEncoder(handle_unknown='ignore'), categorical_cols),\n",
        "    ('scaler', StandardScaler(), numerical_cols)\n",
        "])\n",
        "\n",
        "# Применение трансформации к обучающей выборке\n",
        "X_train= column_transformer.fit_transform(X_train)\n",
        "\n",
        "# Применение трансформации к тестовой выборке\n",
        "X_test= column_transformer.transform(X_test)\n"
      ]
    },
    {
      "cell_type": "code",
      "execution_count": null,
      "metadata": {
        "scrolled": true,
        "id": "Q9wN58bE9vTU",
        "outputId": "0aa50447-cfcd-411d-f0ba-18299474e79e"
      },
      "outputs": [
        {
          "name": "stdout",
          "output_type": "stream",
          "text": [
            "Fitting 3 folds for each of 1 candidates, totalling 3 fits\n",
            "CPU times: user 52min 12s, sys: 3.23 s, total: 52min 15s\n",
            "Wall time: 52min 16s\n",
            "Лучшие параметры: {'max_depth': 15, 'n_estimators': 100}\n"
          ]
        }
      ],
      "source": [
        "\n",
        "\n",
        "# Определение параметров для GridSearchCV\n",
        "param_grid = {\n",
        "    'n_estimators': [100],  #было проверено 50, из-за длительной скорости было оставлено наилучшее значение\n",
        "    'max_depth': [15] #5,10\n",
        "}\n",
        "\n",
        "# Модель для подбора\n",
        "rf_model = RandomForestRegressor(random_state=RANDOM_STATE)\n",
        "\n",
        "# GridSearchCV\n",
        "grid_search = GridSearchCV(estimator=rf_model, param_grid=param_grid, cv=3,\n",
        "                           scoring='neg_mean_squared_error', verbose=1, n_jobs=-1)\n",
        "\n",
        "# Запуск GridSearchCV\n",
        "%time grid_search.fit(X_train, y_train)\n",
        "\n",
        "# Лучшие параметры\n",
        "best_params = grid_search.best_params_\n",
        "print(f'Лучшие параметры: {best_params}')\n"
      ]
    },
    {
      "cell_type": "code",
      "execution_count": null,
      "metadata": {
        "id": "TkrecM7l9vTU"
      },
      "outputs": [],
      "source": []
    },
    {
      "cell_type": "code",
      "execution_count": null,
      "metadata": {
        "id": "FTYNJxYF9vTU",
        "outputId": "be187f05-48a0-42dc-d6d8-882d54bf9998"
      },
      "outputs": [
        {
          "name": "stdout",
          "output_type": "stream",
          "text": [
            "CPU times: user 18min 49s, sys: 1.27 s, total: 18min 51s\n",
            "Wall time: 18min 51s\n"
          ]
        },
        {
          "data": {
            "text/plain": [
              "RandomForestRegressor(max_depth=15, random_state=123)"
            ]
          },
          "execution_count": 87,
          "metadata": {},
          "output_type": "execute_result"
        }
      ],
      "source": [
        "# Создание модели с лучшими параметрами\n",
        "best_rf_model = RandomForestRegressor(random_state=RANDOM_STATE, **best_params)\n",
        "\n",
        "# Обучение модели\n",
        "%time best_rf_model.fit(X_train, y_train)\n",
        "\n",
        "# # Предсказание и оценка модели\n",
        "# rf_predictions = best_rf_model.predict(X_test)\n",
        "# rf_rmse = np.sqrt(mean_squared_error(y_test, rf_predictions))\n",
        "# print(f'RMSE случайного леса с лучшими параметрами: {rf_rmse}')"
      ]
    },
    {
      "cell_type": "code",
      "execution_count": null,
      "metadata": {
        "id": "jNZwK_an9vTU",
        "outputId": "562909df-b78a-472c-950e-4c19b464a26f"
      },
      "outputs": [
        {
          "name": "stdout",
          "output_type": "stream",
          "text": [
            "Время, затраченное на предсказания: 0.8582799434661865 секунд\n",
            "RMSE случайного леса с лучшими параметрами: 1629.7099946145954\n"
          ]
        }
      ],
      "source": [
        "# Начало измерения времени для предсказания\n",
        "start_time = time.time()\n",
        "\n",
        "# Предсказание модели\n",
        "rf_predictions = best_rf_model.predict(X_test)\n",
        "\n",
        "# Конец измерения времени для предсказания\n",
        "end_time = time.time()\n",
        "\n",
        "# Вывод времени, затраченного на предсказание\n",
        "print(f\"Время, затраченное на предсказания: {end_time - start_time} секунд\")\n",
        "\n",
        "# Оценка модели\n",
        "rf_rmse = np.sqrt(mean_squared_error(y_test, rf_predictions))\n",
        "print(f'RMSE случайного леса с лучшими параметрами: {rf_rmse}')"
      ]
    },
    {
      "cell_type": "code",
      "execution_count": null,
      "metadata": {
        "id": "xXNFkA3j9vTU",
        "outputId": "dd138410-d300-46c6-8338-d666179796d9"
      },
      "outputs": [
        {
          "name": "stdout",
          "output_type": "stream",
          "text": [
            "Fitting 3 folds for each of 1 candidates, totalling 3 fits\n",
            "Лучшие параметры: {'learning_rate': 0.1, 'max_depth': 10, 'n_estimators': 100}\n",
            "Лучшие параметры: {'learning_rate': 0.1, 'max_depth': 10, 'n_estimators': 100}\n",
            "Лучший RMSE: 1662.5722295504397\n"
          ]
        }
      ],
      "source": [
        "# Параметры для поиска\n",
        "param_grid = {\n",
        "    'n_estimators': [100],\n",
        "    'max_depth': [10],#5\n",
        "    'learning_rate': [0.1],#0.01\n",
        "}\n",
        "\n",
        "# Модель для подбора\n",
        "model = LGBMRegressor(random_state=RANDOM_STATE)\n",
        "\n",
        "# Grid search\n",
        "grid_search = GridSearchCV(estimator=model, param_grid=param_grid,\n",
        "                           cv=3, scoring='neg_mean_squared_error', verbose=1, n_jobs=-1)\n",
        "\n",
        "grid_search.fit(X_train, y_train)\n",
        "# Получение лучших параметров\n",
        "best_params = grid_search.best_params_\n",
        "print(f'Лучшие параметры: {best_params}')\n",
        "best_rmse = np.sqrt(-grid_search.best_score_)\n",
        "print(f'Лучшие параметры: {best_params}')\n",
        "print(f'Лучший RMSE: {best_rmse}')"
      ]
    },
    {
      "cell_type": "code",
      "execution_count": null,
      "metadata": {
        "id": "9JQUYsCN9vTU",
        "outputId": "7c4284a1-08c7-441d-f5cf-41cb2114ae3c"
      },
      "outputs": [
        {
          "name": "stdout",
          "output_type": "stream",
          "text": [
            "CPU times: user 27.1 s, sys: 249 ms, total: 27.4 s\n",
            "Wall time: 27.6 s\n"
          ]
        },
        {
          "data": {
            "text/plain": [
              "LGBMRegressor(max_depth=10, random_state=123)"
            ]
          },
          "execution_count": 90,
          "metadata": {},
          "output_type": "execute_result"
        }
      ],
      "source": [
        "# Создание модели с лучшими параметрами\n",
        "best_lgb_model = LGBMRegressor(random_state=123, **best_params)\n",
        "\n",
        "# Измерение времени обучения модели\n",
        "%time best_lgb_model.fit(X_train, y_train)\n"
      ]
    },
    {
      "cell_type": "code",
      "execution_count": null,
      "metadata": {
        "scrolled": true,
        "id": "ur8PAqyK9vTU",
        "outputId": "c750f193-edcc-4368-c836-d5601a81f25f"
      },
      "outputs": [
        {
          "name": "stdout",
          "output_type": "stream",
          "text": [
            "Время, затраченное на предсказания: 0.4907066822052002 секунд\n",
            "RMSE с лучшими параметрами: 1654.87992516413\n"
          ]
        }
      ],
      "source": [
        "# Начало измерения времени для предсказания\n",
        "start_time = time.time()\n",
        "\n",
        "# Предсказание модели\n",
        "predictions = best_lgb_model.predict(X_test)\n",
        "\n",
        "# Конец измерения времени для предсказания\n",
        "end_time = time.time()\n",
        "\n",
        "# Вывод времени, затраченного на предсказания\n",
        "print(f\"Время, затраченное на предсказания: {end_time - start_time} секунд\")\n",
        "\n",
        "# Оценка модели\n",
        "rmse = np.sqrt(mean_squared_error(y_test, predictions))\n",
        "print(f'RMSE с лучшими параметрами: {rmse}')"
      ]
    },
    {
      "cell_type": "markdown",
      "metadata": {
        "id": "dbvVeM6g9vTV"
      },
      "source": [
        "## Анализ моделей"
      ]
    },
    {
      "cell_type": "markdown",
      "metadata": {
        "id": "8GR1w63y9vTV"
      },
      "source": [
        "На основе представленных результатов, можно сделать следующие выводы по моделям RandomForestRegressor и LightGBM, обученным с оптимизированными параметрами:    \n",
        "\n",
        "Модель RandomForestRegressor:  \n",
        "Время Обучения: Обучение заняло 18 минут 51 секунду, что является довольно продолжительным временем. Это указывает на высокую вычислительную нагрузку, связанную с обучением RandomForestRegressor с указанными параметрами.  \n",
        "Время Предсказания: Время, затраченное на предсказания, составило 0.858 секунды, что является относительно быстрым для такого объема данных.  \n",
        "RMSE: RMSE модели составила 1629.71, что указывает на довольно высокую точность предсказаний модели.\n",
        "Модель LightGBM:   \n",
        "Время Обучения: Обучение модели заняло 27.6 секунд, что значительно быстрее, чем у RandomForestRegressor. Это делает LightGBM предпочтительным выбором в ситуациях, где важна скорость обучения.  \n",
        "Время Предсказания: Время предсказания составило 0.491 секунды, что еще быстрее, чем у RandomForestRegressor.\n",
        "RMSE: RMSE модели составила 1654.88, что немного выше, чем у RandomForestRegressor, но все же показывает хорошую точность предсказаний.  \n",
        "Общий Вывод:  \n",
        "RandomForestRegressor обеспечивает более высокую точность предсказаний (низкий RMSE), но при этом требует значительно больше времени на обучение и имеет немного более высокое время предсказания.  \n",
        "LightGBM показывает немного меньшую точность (выше RMSE), но значительно выигрывает в скорости обучения и предсказания. Это делает ее предпочтительным выбором в условиях, где время обработки данных критично и где допустима небольшая потеря в точности.  \n",
        "LightGBM - при данных требованиях заказчика предпочтительнее"
      ]
    },
    {
      "cell_type": "code",
      "execution_count": null,
      "metadata": {
        "id": "Fd82cpeV9vTV"
      },
      "outputs": [],
      "source": []
    }
  ],
  "metadata": {
    "ExecuteTimeLog": [
      {
        "duration": 48,
        "start_time": "2023-11-25T19:08:13.538Z"
      },
      {
        "duration": 359,
        "start_time": "2023-11-25T19:08:17.196Z"
      },
      {
        "duration": 58,
        "start_time": "2023-11-25T19:08:17.640Z"
      },
      {
        "duration": 2921,
        "start_time": "2023-11-25T19:10:27.062Z"
      },
      {
        "duration": 17,
        "start_time": "2023-11-25T19:10:43.721Z"
      },
      {
        "duration": 14,
        "start_time": "2023-11-25T19:10:52.025Z"
      },
      {
        "duration": 133,
        "start_time": "2023-11-25T19:16:03.947Z"
      },
      {
        "duration": 7824,
        "start_time": "2023-11-25T19:17:07.065Z"
      },
      {
        "duration": 205,
        "start_time": "2023-11-25T19:25:26.818Z"
      },
      {
        "duration": 20,
        "start_time": "2023-11-25T19:29:20.383Z"
      },
      {
        "duration": 97,
        "start_time": "2023-11-25T19:29:32.361Z"
      },
      {
        "duration": 67,
        "start_time": "2023-11-25T19:32:07.640Z"
      },
      {
        "duration": 64,
        "start_time": "2023-11-25T19:32:33.099Z"
      },
      {
        "duration": 3,
        "start_time": "2023-11-25T19:33:17.878Z"
      },
      {
        "duration": 789,
        "start_time": "2023-11-25T19:33:18.256Z"
      },
      {
        "duration": 13,
        "start_time": "2023-11-25T19:33:19.047Z"
      },
      {
        "duration": 141,
        "start_time": "2023-11-25T19:33:19.061Z"
      },
      {
        "duration": 214,
        "start_time": "2023-11-25T19:33:19.483Z"
      },
      {
        "duration": 2,
        "start_time": "2023-11-25T19:33:20.141Z"
      },
      {
        "duration": 93,
        "start_time": "2023-11-25T19:33:20.723Z"
      },
      {
        "duration": 83,
        "start_time": "2023-11-25T19:33:23.417Z"
      },
      {
        "duration": 176,
        "start_time": "2023-11-25T19:38:45.084Z"
      },
      {
        "duration": 102,
        "start_time": "2023-11-25T19:38:54.896Z"
      },
      {
        "duration": 21,
        "start_time": "2023-11-25T19:47:51.023Z"
      },
      {
        "duration": 106,
        "start_time": "2023-11-25T19:47:54.441Z"
      },
      {
        "duration": 2,
        "start_time": "2023-11-25T19:52:09.456Z"
      },
      {
        "duration": 769,
        "start_time": "2023-11-25T19:52:09.875Z"
      },
      {
        "duration": 13,
        "start_time": "2023-11-25T19:52:10.645Z"
      },
      {
        "duration": 132,
        "start_time": "2023-11-25T19:52:12.837Z"
      },
      {
        "duration": 195,
        "start_time": "2023-11-25T19:52:19.636Z"
      },
      {
        "duration": 92,
        "start_time": "2023-11-25T19:52:24.425Z"
      },
      {
        "duration": 79,
        "start_time": "2023-11-25T19:52:33.024Z"
      },
      {
        "duration": 269,
        "start_time": "2023-11-25T19:52:50.437Z"
      },
      {
        "duration": 264,
        "start_time": "2023-11-25T19:53:09.725Z"
      },
      {
        "duration": 3,
        "start_time": "2023-11-25T19:53:22.759Z"
      },
      {
        "duration": 90,
        "start_time": "2023-11-25T19:53:23.189Z"
      },
      {
        "duration": 18,
        "start_time": "2023-11-25T19:53:46.835Z"
      },
      {
        "duration": 89,
        "start_time": "2023-11-25T19:53:49.776Z"
      },
      {
        "duration": 549,
        "start_time": "2023-11-25T19:55:05.100Z"
      },
      {
        "duration": 61067,
        "start_time": "2023-11-25T19:55:23.880Z"
      },
      {
        "duration": 0,
        "start_time": "2023-11-25T19:56:24.949Z"
      },
      {
        "duration": 3,
        "start_time": "2023-11-25T19:56:34.391Z"
      },
      {
        "duration": 747,
        "start_time": "2023-11-25T19:56:34.839Z"
      },
      {
        "duration": 13,
        "start_time": "2023-11-25T19:56:35.588Z"
      },
      {
        "duration": 140,
        "start_time": "2023-11-25T19:56:35.695Z"
      },
      {
        "duration": 249,
        "start_time": "2023-11-25T19:56:36.161Z"
      },
      {
        "duration": 17,
        "start_time": "2023-11-25T19:56:36.665Z"
      },
      {
        "duration": 100,
        "start_time": "2023-11-25T19:56:37.179Z"
      },
      {
        "duration": 64,
        "start_time": "2023-11-25T19:56:38.228Z"
      },
      {
        "duration": 247,
        "start_time": "2023-11-25T19:56:40.078Z"
      },
      {
        "duration": 284,
        "start_time": "2023-11-25T19:56:40.942Z"
      },
      {
        "duration": 2,
        "start_time": "2023-11-25T19:56:43.534Z"
      },
      {
        "duration": 92,
        "start_time": "2023-11-25T19:56:44.122Z"
      },
      {
        "duration": 18,
        "start_time": "2023-11-25T19:56:49.816Z"
      },
      {
        "duration": 28715,
        "start_time": "2023-11-25T19:56:50.525Z"
      },
      {
        "duration": 28788,
        "start_time": "2023-11-25T19:57:35.456Z"
      },
      {
        "duration": 2035,
        "start_time": "2023-11-25T20:02:12.141Z"
      },
      {
        "duration": 2244,
        "start_time": "2023-11-25T20:02:44.547Z"
      },
      {
        "duration": 2363,
        "start_time": "2023-11-25T20:02:57.852Z"
      },
      {
        "duration": 34,
        "start_time": "2023-11-25T20:04:30.701Z"
      },
      {
        "duration": 92,
        "start_time": "2023-11-25T20:04:39.015Z"
      },
      {
        "duration": 65,
        "start_time": "2023-11-25T20:11:43.236Z"
      },
      {
        "duration": 18,
        "start_time": "2023-11-25T20:14:29.402Z"
      },
      {
        "duration": 100,
        "start_time": "2023-11-25T20:14:36.195Z"
      },
      {
        "duration": 4,
        "start_time": "2023-11-25T20:14:59.905Z"
      },
      {
        "duration": 12,
        "start_time": "2023-11-25T20:15:14.941Z"
      },
      {
        "duration": 972,
        "start_time": "2023-11-25T20:19:56.043Z"
      },
      {
        "duration": 16,
        "start_time": "2023-11-25T20:20:07.552Z"
      },
      {
        "duration": 3,
        "start_time": "2023-11-25T20:20:27.015Z"
      },
      {
        "duration": 2,
        "start_time": "2023-11-25T20:20:31.304Z"
      },
      {
        "duration": 757,
        "start_time": "2023-11-25T20:20:31.517Z"
      },
      {
        "duration": 18,
        "start_time": "2023-11-25T20:20:32.277Z"
      },
      {
        "duration": 177,
        "start_time": "2023-11-25T20:20:32.296Z"
      },
      {
        "duration": 247,
        "start_time": "2023-11-25T20:20:32.476Z"
      },
      {
        "duration": 6,
        "start_time": "2023-11-25T20:20:32.725Z"
      },
      {
        "duration": 102,
        "start_time": "2023-11-25T20:20:32.733Z"
      },
      {
        "duration": 85,
        "start_time": "2023-11-25T20:20:32.961Z"
      },
      {
        "duration": 257,
        "start_time": "2023-11-25T20:20:33.096Z"
      },
      {
        "duration": 286,
        "start_time": "2023-11-25T20:20:33.355Z"
      },
      {
        "duration": 3,
        "start_time": "2023-11-25T20:20:33.642Z"
      },
      {
        "duration": 93,
        "start_time": "2023-11-25T20:20:33.701Z"
      },
      {
        "duration": 23,
        "start_time": "2023-11-25T20:20:33.901Z"
      },
      {
        "duration": 88175,
        "start_time": "2023-11-25T20:20:34.079Z"
      },
      {
        "duration": 2209,
        "start_time": "2023-11-25T20:22:02.256Z"
      },
      {
        "duration": 33,
        "start_time": "2023-11-25T20:22:04.466Z"
      },
      {
        "duration": 102,
        "start_time": "2023-11-25T20:22:04.501Z"
      },
      {
        "duration": 95,
        "start_time": "2023-11-25T20:22:04.604Z"
      },
      {
        "duration": 5,
        "start_time": "2023-11-25T20:22:04.703Z"
      },
      {
        "duration": 25,
        "start_time": "2023-11-25T20:22:04.709Z"
      },
      {
        "duration": 19,
        "start_time": "2023-11-25T20:22:04.736Z"
      },
      {
        "duration": 12,
        "start_time": "2023-11-25T20:22:04.757Z"
      },
      {
        "duration": 9,
        "start_time": "2023-11-25T20:22:04.772Z"
      },
      {
        "duration": 21,
        "start_time": "2023-11-25T20:24:05.566Z"
      },
      {
        "duration": 938,
        "start_time": "2023-11-25T20:24:10.604Z"
      },
      {
        "duration": 907,
        "start_time": "2023-11-25T20:24:23.927Z"
      },
      {
        "duration": 31,
        "start_time": "2023-11-25T20:24:37.451Z"
      },
      {
        "duration": 94,
        "start_time": "2023-11-25T20:25:29.227Z"
      },
      {
        "duration": 78868,
        "start_time": "2023-11-25T20:29:05.305Z"
      },
      {
        "duration": 952,
        "start_time": "2023-11-25T20:36:51.324Z"
      },
      {
        "duration": 169,
        "start_time": "2023-11-25T20:37:28.805Z"
      },
      {
        "duration": 69,
        "start_time": "2023-11-25T20:37:41.348Z"
      },
      {
        "duration": 3,
        "start_time": "2023-11-25T20:40:32.686Z"
      },
      {
        "duration": 791,
        "start_time": "2023-11-25T20:40:33.185Z"
      },
      {
        "duration": 13,
        "start_time": "2023-11-25T20:40:33.977Z"
      },
      {
        "duration": 136,
        "start_time": "2023-11-25T20:40:36.513Z"
      },
      {
        "duration": 212,
        "start_time": "2023-11-25T20:40:45.471Z"
      },
      {
        "duration": 2,
        "start_time": "2023-11-25T20:40:46.307Z"
      },
      {
        "duration": 4,
        "start_time": "2023-11-25T20:40:48.493Z"
      },
      {
        "duration": 92,
        "start_time": "2023-11-25T20:40:49.205Z"
      },
      {
        "duration": 89,
        "start_time": "2023-11-25T20:40:51.243Z"
      },
      {
        "duration": 303,
        "start_time": "2023-11-25T20:40:53.814Z"
      },
      {
        "duration": 301,
        "start_time": "2023-11-25T20:40:56.500Z"
      },
      {
        "duration": 110,
        "start_time": "2023-11-25T20:41:00.041Z"
      },
      {
        "duration": 19,
        "start_time": "2023-11-25T20:41:32.015Z"
      },
      {
        "duration": 1080,
        "start_time": "2023-11-25T20:44:19.555Z"
      },
      {
        "duration": 879,
        "start_time": "2023-11-25T20:44:20.637Z"
      },
      {
        "duration": 20,
        "start_time": "2023-11-25T20:44:21.518Z"
      },
      {
        "duration": 151,
        "start_time": "2023-11-25T20:44:21.540Z"
      },
      {
        "duration": 285,
        "start_time": "2023-11-25T20:44:21.693Z"
      },
      {
        "duration": 2,
        "start_time": "2023-11-25T20:44:21.980Z"
      },
      {
        "duration": 6,
        "start_time": "2023-11-25T20:44:21.983Z"
      },
      {
        "duration": 108,
        "start_time": "2023-11-25T20:44:21.991Z"
      },
      {
        "duration": 100,
        "start_time": "2023-11-25T20:44:22.101Z"
      },
      {
        "duration": 287,
        "start_time": "2023-11-25T20:44:22.202Z"
      },
      {
        "duration": 322,
        "start_time": "2023-11-25T20:44:22.491Z"
      },
      {
        "duration": 3,
        "start_time": "2023-11-25T20:44:22.814Z"
      },
      {
        "duration": 106,
        "start_time": "2023-11-25T20:44:22.818Z"
      },
      {
        "duration": 26,
        "start_time": "2023-11-25T20:44:22.930Z"
      },
      {
        "duration": 1002,
        "start_time": "2023-11-25T20:44:22.957Z"
      },
      {
        "duration": 0,
        "start_time": "2023-11-25T20:44:23.961Z"
      },
      {
        "duration": 0,
        "start_time": "2023-11-25T20:44:23.961Z"
      },
      {
        "duration": 0,
        "start_time": "2023-11-25T20:44:23.963Z"
      },
      {
        "duration": 0,
        "start_time": "2023-11-25T20:44:23.963Z"
      },
      {
        "duration": 0,
        "start_time": "2023-11-25T20:44:23.964Z"
      },
      {
        "duration": 0,
        "start_time": "2023-11-25T20:44:23.965Z"
      },
      {
        "duration": 0,
        "start_time": "2023-11-25T20:44:23.967Z"
      },
      {
        "duration": 0,
        "start_time": "2023-11-25T20:44:23.968Z"
      },
      {
        "duration": 0,
        "start_time": "2023-11-25T20:44:23.969Z"
      },
      {
        "duration": 38,
        "start_time": "2023-11-25T20:44:53.781Z"
      },
      {
        "duration": 115,
        "start_time": "2023-11-25T20:44:54.949Z"
      },
      {
        "duration": 73,
        "start_time": "2023-11-25T20:44:58.117Z"
      },
      {
        "duration": 19,
        "start_time": "2023-11-25T20:45:02.271Z"
      },
      {
        "duration": 18,
        "start_time": "2023-11-25T20:45:02.827Z"
      },
      {
        "duration": 19,
        "start_time": "2023-11-25T20:45:03.381Z"
      },
      {
        "duration": 10,
        "start_time": "2023-11-25T20:45:04.063Z"
      },
      {
        "duration": 153,
        "start_time": "2023-11-25T20:45:10.182Z"
      },
      {
        "duration": 80,
        "start_time": "2023-11-25T20:45:43.871Z"
      },
      {
        "duration": 14030,
        "start_time": "2023-11-25T20:48:34.641Z"
      },
      {
        "duration": 124,
        "start_time": "2023-11-25T20:50:59.645Z"
      },
      {
        "duration": 117,
        "start_time": "2023-11-25T20:51:10.071Z"
      },
      {
        "duration": 1112,
        "start_time": "2023-11-25T20:51:37.028Z"
      },
      {
        "duration": 855,
        "start_time": "2023-11-25T20:51:38.142Z"
      },
      {
        "duration": 17,
        "start_time": "2023-11-25T20:51:38.998Z"
      },
      {
        "duration": 150,
        "start_time": "2023-11-25T20:51:39.016Z"
      },
      {
        "duration": 292,
        "start_time": "2023-11-25T20:51:39.169Z"
      },
      {
        "duration": 2,
        "start_time": "2023-11-25T20:51:39.462Z"
      },
      {
        "duration": 7,
        "start_time": "2023-11-25T20:51:39.466Z"
      },
      {
        "duration": 115,
        "start_time": "2023-11-25T20:51:39.475Z"
      },
      {
        "duration": 110,
        "start_time": "2023-11-25T20:51:39.592Z"
      },
      {
        "duration": 282,
        "start_time": "2023-11-25T20:51:39.704Z"
      },
      {
        "duration": 327,
        "start_time": "2023-11-25T20:51:39.988Z"
      },
      {
        "duration": 2,
        "start_time": "2023-11-25T20:51:40.317Z"
      },
      {
        "duration": 103,
        "start_time": "2023-11-25T20:51:40.321Z"
      },
      {
        "duration": 27,
        "start_time": "2023-11-25T20:51:40.430Z"
      },
      {
        "duration": 36,
        "start_time": "2023-11-25T20:51:40.458Z"
      },
      {
        "duration": 106,
        "start_time": "2023-11-25T20:51:40.495Z"
      },
      {
        "duration": 87,
        "start_time": "2023-11-25T20:51:40.603Z"
      },
      {
        "duration": 19,
        "start_time": "2023-11-25T20:51:40.691Z"
      },
      {
        "duration": 28,
        "start_time": "2023-11-25T20:51:40.711Z"
      },
      {
        "duration": 22,
        "start_time": "2023-11-25T20:51:40.740Z"
      },
      {
        "duration": 13,
        "start_time": "2023-11-25T20:51:40.764Z"
      },
      {
        "duration": 152,
        "start_time": "2023-11-25T20:51:40.779Z"
      },
      {
        "duration": 83,
        "start_time": "2023-11-25T20:51:40.933Z"
      },
      {
        "duration": 14288,
        "start_time": "2023-11-25T20:51:41.018Z"
      },
      {
        "duration": 99,
        "start_time": "2023-11-25T20:51:55.308Z"
      },
      {
        "duration": 1062,
        "start_time": "2023-11-25T20:52:23.368Z"
      },
      {
        "duration": 864,
        "start_time": "2023-11-25T20:52:24.432Z"
      },
      {
        "duration": 16,
        "start_time": "2023-11-25T20:52:25.298Z"
      },
      {
        "duration": 141,
        "start_time": "2023-11-25T20:52:25.315Z"
      },
      {
        "duration": 283,
        "start_time": "2023-11-25T20:52:25.458Z"
      },
      {
        "duration": 3,
        "start_time": "2023-11-25T20:52:25.742Z"
      },
      {
        "duration": 7,
        "start_time": "2023-11-25T20:52:25.746Z"
      },
      {
        "duration": 100,
        "start_time": "2023-11-25T20:52:25.755Z"
      },
      {
        "duration": 97,
        "start_time": "2023-11-25T20:52:25.857Z"
      },
      {
        "duration": 293,
        "start_time": "2023-11-25T20:52:25.955Z"
      },
      {
        "duration": 322,
        "start_time": "2023-11-25T20:52:26.249Z"
      },
      {
        "duration": 2,
        "start_time": "2023-11-25T20:52:26.573Z"
      },
      {
        "duration": 103,
        "start_time": "2023-11-25T20:52:26.576Z"
      },
      {
        "duration": 26,
        "start_time": "2023-11-25T20:52:26.682Z"
      },
      {
        "duration": 48,
        "start_time": "2023-11-25T20:52:26.709Z"
      },
      {
        "duration": 93,
        "start_time": "2023-11-25T20:52:26.758Z"
      },
      {
        "duration": 82,
        "start_time": "2023-11-25T20:52:26.852Z"
      },
      {
        "duration": 17,
        "start_time": "2023-11-25T20:52:26.936Z"
      },
      {
        "duration": 27,
        "start_time": "2023-11-25T20:52:26.955Z"
      },
      {
        "duration": 24,
        "start_time": "2023-11-25T20:52:26.984Z"
      },
      {
        "duration": 23,
        "start_time": "2023-11-25T20:52:27.010Z"
      },
      {
        "duration": 167,
        "start_time": "2023-11-25T20:52:27.035Z"
      },
      {
        "duration": 88,
        "start_time": "2023-11-25T20:52:27.203Z"
      },
      {
        "duration": 13678,
        "start_time": "2023-11-25T20:52:27.292Z"
      },
      {
        "duration": 104,
        "start_time": "2023-11-25T20:52:40.972Z"
      },
      {
        "duration": 1059,
        "start_time": "2023-11-25T20:53:24.571Z"
      },
      {
        "duration": 844,
        "start_time": "2023-11-25T20:53:25.632Z"
      },
      {
        "duration": 16,
        "start_time": "2023-11-25T20:53:26.477Z"
      },
      {
        "duration": 189,
        "start_time": "2023-11-25T20:53:26.494Z"
      },
      {
        "duration": 291,
        "start_time": "2023-11-25T20:53:26.685Z"
      },
      {
        "duration": 3,
        "start_time": "2023-11-25T20:53:26.977Z"
      },
      {
        "duration": 7,
        "start_time": "2023-11-25T20:53:26.981Z"
      },
      {
        "duration": 107,
        "start_time": "2023-11-25T20:53:26.989Z"
      },
      {
        "duration": 99,
        "start_time": "2023-11-25T20:53:27.098Z"
      },
      {
        "duration": 290,
        "start_time": "2023-11-25T20:53:27.199Z"
      },
      {
        "duration": 330,
        "start_time": "2023-11-25T20:53:27.491Z"
      },
      {
        "duration": 3,
        "start_time": "2023-11-25T20:53:27.823Z"
      },
      {
        "duration": 107,
        "start_time": "2023-11-25T20:53:27.827Z"
      },
      {
        "duration": 27,
        "start_time": "2023-11-25T20:53:27.938Z"
      },
      {
        "duration": 34,
        "start_time": "2023-11-25T20:53:27.967Z"
      },
      {
        "duration": 108,
        "start_time": "2023-11-25T20:53:28.002Z"
      },
      {
        "duration": 81,
        "start_time": "2023-11-25T20:53:28.112Z"
      },
      {
        "duration": 18,
        "start_time": "2023-11-25T20:53:28.195Z"
      },
      {
        "duration": 32,
        "start_time": "2023-11-25T20:53:28.215Z"
      },
      {
        "duration": 20,
        "start_time": "2023-11-25T20:53:28.249Z"
      },
      {
        "duration": 20,
        "start_time": "2023-11-25T20:53:28.271Z"
      },
      {
        "duration": 149,
        "start_time": "2023-11-25T20:53:28.292Z"
      },
      {
        "duration": 74,
        "start_time": "2023-11-25T20:53:28.442Z"
      },
      {
        "duration": 12732,
        "start_time": "2023-11-25T20:53:28.518Z"
      },
      {
        "duration": 107,
        "start_time": "2023-11-25T20:53:41.252Z"
      },
      {
        "duration": 1167,
        "start_time": "2023-11-25T20:54:30.756Z"
      },
      {
        "duration": 849,
        "start_time": "2023-11-25T20:54:31.924Z"
      },
      {
        "duration": 16,
        "start_time": "2023-11-25T20:54:32.774Z"
      },
      {
        "duration": 148,
        "start_time": "2023-11-25T20:54:32.791Z"
      },
      {
        "duration": 282,
        "start_time": "2023-11-25T20:54:32.940Z"
      },
      {
        "duration": 2,
        "start_time": "2023-11-25T20:54:33.224Z"
      },
      {
        "duration": 7,
        "start_time": "2023-11-25T20:54:33.227Z"
      },
      {
        "duration": 101,
        "start_time": "2023-11-25T20:54:33.236Z"
      },
      {
        "duration": 96,
        "start_time": "2023-11-25T20:54:33.339Z"
      },
      {
        "duration": 285,
        "start_time": "2023-11-25T20:54:33.437Z"
      },
      {
        "duration": 325,
        "start_time": "2023-11-25T20:54:33.724Z"
      },
      {
        "duration": 2,
        "start_time": "2023-11-25T20:54:34.051Z"
      },
      {
        "duration": 124,
        "start_time": "2023-11-25T20:54:34.054Z"
      },
      {
        "duration": 26,
        "start_time": "2023-11-25T20:54:34.180Z"
      },
      {
        "duration": 48,
        "start_time": "2023-11-25T20:54:34.208Z"
      },
      {
        "duration": 91,
        "start_time": "2023-11-25T20:54:34.258Z"
      },
      {
        "duration": 87,
        "start_time": "2023-11-25T20:54:34.351Z"
      },
      {
        "duration": 19,
        "start_time": "2023-11-25T20:54:34.439Z"
      },
      {
        "duration": 18,
        "start_time": "2023-11-25T20:54:34.459Z"
      },
      {
        "duration": 19,
        "start_time": "2023-11-25T20:54:34.478Z"
      },
      {
        "duration": 16,
        "start_time": "2023-11-25T20:54:34.498Z"
      },
      {
        "duration": 149,
        "start_time": "2023-11-25T20:54:34.530Z"
      },
      {
        "duration": 83,
        "start_time": "2023-11-25T20:54:34.681Z"
      },
      {
        "duration": 13692,
        "start_time": "2023-11-25T20:54:34.765Z"
      },
      {
        "duration": 105,
        "start_time": "2023-11-25T20:54:48.459Z"
      },
      {
        "duration": 1250,
        "start_time": "2023-11-26T12:00:53.783Z"
      },
      {
        "duration": 1056,
        "start_time": "2023-11-26T12:00:55.036Z"
      },
      {
        "duration": 16,
        "start_time": "2023-11-26T12:00:56.093Z"
      },
      {
        "duration": 145,
        "start_time": "2023-11-26T12:00:56.110Z"
      },
      {
        "duration": 308,
        "start_time": "2023-11-26T12:00:56.257Z"
      },
      {
        "duration": 2,
        "start_time": "2023-11-26T12:00:56.566Z"
      },
      {
        "duration": 8,
        "start_time": "2023-11-26T12:00:56.570Z"
      },
      {
        "duration": 103,
        "start_time": "2023-11-26T12:00:56.579Z"
      },
      {
        "duration": 89,
        "start_time": "2023-11-26T12:00:56.684Z"
      },
      {
        "duration": 267,
        "start_time": "2023-11-26T12:00:56.774Z"
      },
      {
        "duration": 302,
        "start_time": "2023-11-26T12:00:57.043Z"
      },
      {
        "duration": 6,
        "start_time": "2023-11-26T12:00:57.347Z"
      },
      {
        "duration": 110,
        "start_time": "2023-11-26T12:00:57.354Z"
      },
      {
        "duration": 23,
        "start_time": "2023-11-26T12:00:57.468Z"
      },
      {
        "duration": 33,
        "start_time": "2023-11-26T12:00:57.492Z"
      },
      {
        "duration": 107,
        "start_time": "2023-11-26T12:00:57.526Z"
      },
      {
        "duration": 80,
        "start_time": "2023-11-26T12:00:57.635Z"
      },
      {
        "duration": 19,
        "start_time": "2023-11-26T12:00:57.717Z"
      },
      {
        "duration": 20,
        "start_time": "2023-11-26T12:00:57.751Z"
      },
      {
        "duration": 22,
        "start_time": "2023-11-26T12:00:57.772Z"
      },
      {
        "duration": 10,
        "start_time": "2023-11-26T12:00:57.795Z"
      },
      {
        "duration": 146,
        "start_time": "2023-11-26T12:00:57.807Z"
      },
      {
        "duration": 97,
        "start_time": "2023-11-26T12:00:57.955Z"
      },
      {
        "duration": 13610,
        "start_time": "2023-11-26T12:00:58.053Z"
      },
      {
        "duration": 307,
        "start_time": "2023-11-26T12:45:46.663Z"
      },
      {
        "duration": 105,
        "start_time": "2023-11-26T12:46:17.839Z"
      },
      {
        "duration": 77,
        "start_time": "2023-11-26T12:46:32.476Z"
      },
      {
        "duration": 2,
        "start_time": "2023-11-26T12:47:09.921Z"
      },
      {
        "duration": 78,
        "start_time": "2023-11-26T12:47:11.701Z"
      },
      {
        "duration": 60,
        "start_time": "2023-11-26T12:49:37.846Z"
      },
      {
        "duration": 2,
        "start_time": "2023-11-26T12:49:57.589Z"
      },
      {
        "duration": 75,
        "start_time": "2023-11-26T12:49:57.986Z"
      },
      {
        "duration": 70,
        "start_time": "2023-11-26T12:50:36.094Z"
      },
      {
        "duration": 834,
        "start_time": "2023-11-26T12:55:07.406Z"
      },
      {
        "duration": 495974,
        "start_time": "2023-11-26T12:55:35.805Z"
      },
      {
        "duration": 10323,
        "start_time": "2023-11-26T13:04:49.137Z"
      },
      {
        "duration": 10,
        "start_time": "2023-11-26T13:04:59.462Z"
      },
      {
        "duration": 0,
        "start_time": "2023-11-26T13:04:59.473Z"
      },
      {
        "duration": 3,
        "start_time": "2023-11-26T13:07:18.695Z"
      },
      {
        "duration": 1363,
        "start_time": "2023-11-26T13:13:29.457Z"
      },
      {
        "duration": 839,
        "start_time": "2023-11-26T13:13:30.822Z"
      },
      {
        "duration": 15,
        "start_time": "2023-11-26T13:13:31.663Z"
      },
      {
        "duration": 153,
        "start_time": "2023-11-26T13:13:31.679Z"
      },
      {
        "duration": 273,
        "start_time": "2023-11-26T13:13:31.834Z"
      },
      {
        "duration": 3,
        "start_time": "2023-11-26T13:13:32.108Z"
      },
      {
        "duration": 25,
        "start_time": "2023-11-26T13:13:32.112Z"
      },
      {
        "duration": 128,
        "start_time": "2023-11-26T13:13:32.139Z"
      },
      {
        "duration": 90,
        "start_time": "2023-11-26T13:13:32.268Z"
      },
      {
        "duration": 273,
        "start_time": "2023-11-26T13:13:32.359Z"
      },
      {
        "duration": 296,
        "start_time": "2023-11-26T13:13:32.633Z"
      },
      {
        "duration": 2,
        "start_time": "2023-11-26T13:13:32.930Z"
      },
      {
        "duration": 101,
        "start_time": "2023-11-26T13:13:32.934Z"
      },
      {
        "duration": 32,
        "start_time": "2023-11-26T13:13:33.037Z"
      },
      {
        "duration": 42,
        "start_time": "2023-11-26T13:13:33.071Z"
      },
      {
        "duration": 100,
        "start_time": "2023-11-26T13:13:33.115Z"
      },
      {
        "duration": 82,
        "start_time": "2023-11-26T13:13:33.216Z"
      },
      {
        "duration": 17,
        "start_time": "2023-11-26T13:13:33.299Z"
      },
      {
        "duration": 21,
        "start_time": "2023-11-26T13:13:33.318Z"
      },
      {
        "duration": 28,
        "start_time": "2023-11-26T13:13:33.341Z"
      },
      {
        "duration": 20,
        "start_time": "2023-11-26T13:13:33.370Z"
      },
      {
        "duration": 152,
        "start_time": "2023-11-26T13:13:33.392Z"
      },
      {
        "duration": 91,
        "start_time": "2023-11-26T13:13:33.545Z"
      },
      {
        "duration": 13798,
        "start_time": "2023-11-26T13:13:33.637Z"
      },
      {
        "duration": 2,
        "start_time": "2023-11-26T13:13:47.437Z"
      },
      {
        "duration": 906,
        "start_time": "2023-11-26T13:13:47.441Z"
      },
      {
        "duration": 138553,
        "start_time": "2023-11-26T13:13:48.348Z"
      },
      {
        "duration": 0,
        "start_time": "2023-11-26T13:16:06.902Z"
      },
      {
        "duration": 0,
        "start_time": "2023-11-26T13:16:06.903Z"
      },
      {
        "duration": 0,
        "start_time": "2023-11-26T13:16:06.904Z"
      },
      {
        "duration": 76406,
        "start_time": "2023-11-26T13:16:41.128Z"
      },
      {
        "duration": 1354,
        "start_time": "2023-11-26T13:19:22.877Z"
      },
      {
        "duration": 825,
        "start_time": "2023-11-26T13:19:24.233Z"
      },
      {
        "duration": 23,
        "start_time": "2023-11-26T13:19:25.059Z"
      },
      {
        "duration": 199,
        "start_time": "2023-11-26T13:19:25.084Z"
      },
      {
        "duration": 261,
        "start_time": "2023-11-26T13:19:25.285Z"
      },
      {
        "duration": 5,
        "start_time": "2023-11-26T13:19:25.548Z"
      },
      {
        "duration": 5,
        "start_time": "2023-11-26T13:19:25.554Z"
      },
      {
        "duration": 113,
        "start_time": "2023-11-26T13:19:25.561Z"
      },
      {
        "duration": 95,
        "start_time": "2023-11-26T13:19:25.676Z"
      },
      {
        "duration": 277,
        "start_time": "2023-11-26T13:19:25.772Z"
      },
      {
        "duration": 305,
        "start_time": "2023-11-26T13:19:26.052Z"
      },
      {
        "duration": 3,
        "start_time": "2023-11-26T13:19:26.358Z"
      },
      {
        "duration": 105,
        "start_time": "2023-11-26T13:19:26.362Z"
      },
      {
        "duration": 25,
        "start_time": "2023-11-26T13:19:26.469Z"
      },
      {
        "duration": 64,
        "start_time": "2023-11-26T13:19:26.495Z"
      },
      {
        "duration": 99,
        "start_time": "2023-11-26T13:19:26.560Z"
      },
      {
        "duration": 73,
        "start_time": "2023-11-26T13:19:26.660Z"
      },
      {
        "duration": 36,
        "start_time": "2023-11-26T13:19:26.735Z"
      },
      {
        "duration": 19,
        "start_time": "2023-11-26T13:19:26.773Z"
      },
      {
        "duration": 27,
        "start_time": "2023-11-26T13:19:26.793Z"
      },
      {
        "duration": 20,
        "start_time": "2023-11-26T13:19:26.822Z"
      },
      {
        "duration": 128,
        "start_time": "2023-11-26T13:19:26.852Z"
      },
      {
        "duration": 86,
        "start_time": "2023-11-26T13:19:26.982Z"
      },
      {
        "duration": 14293,
        "start_time": "2023-11-26T13:19:27.070Z"
      },
      {
        "duration": 3,
        "start_time": "2023-11-26T13:19:41.364Z"
      },
      {
        "duration": 999,
        "start_time": "2023-11-26T13:19:41.368Z"
      },
      {
        "duration": 3195504,
        "start_time": "2023-11-26T13:19:42.369Z"
      },
      {
        "duration": 0,
        "start_time": "2023-11-26T14:12:57.875Z"
      },
      {
        "duration": 0,
        "start_time": "2023-11-26T14:12:57.876Z"
      },
      {
        "duration": 0,
        "start_time": "2023-11-26T14:12:57.877Z"
      },
      {
        "duration": 0,
        "start_time": "2023-11-26T14:12:57.878Z"
      },
      {
        "duration": 1374,
        "start_time": "2023-11-26T14:14:06.065Z"
      },
      {
        "duration": 789,
        "start_time": "2023-11-26T14:14:07.441Z"
      },
      {
        "duration": 21,
        "start_time": "2023-11-26T14:14:08.231Z"
      },
      {
        "duration": 154,
        "start_time": "2023-11-26T14:14:08.253Z"
      },
      {
        "duration": 294,
        "start_time": "2023-11-26T14:14:08.409Z"
      },
      {
        "duration": 2,
        "start_time": "2023-11-26T14:14:08.705Z"
      },
      {
        "duration": 7,
        "start_time": "2023-11-26T14:14:08.709Z"
      },
      {
        "duration": 108,
        "start_time": "2023-11-26T14:14:08.717Z"
      },
      {
        "duration": 104,
        "start_time": "2023-11-26T14:14:08.827Z"
      },
      {
        "duration": 286,
        "start_time": "2023-11-26T14:14:08.933Z"
      },
      {
        "duration": 304,
        "start_time": "2023-11-26T14:14:09.221Z"
      },
      {
        "duration": 3,
        "start_time": "2023-11-26T14:14:09.526Z"
      },
      {
        "duration": 110,
        "start_time": "2023-11-26T14:14:09.530Z"
      },
      {
        "duration": 29,
        "start_time": "2023-11-26T14:14:09.643Z"
      },
      {
        "duration": 35,
        "start_time": "2023-11-26T14:14:09.673Z"
      },
      {
        "duration": 106,
        "start_time": "2023-11-26T14:14:09.709Z"
      },
      {
        "duration": 87,
        "start_time": "2023-11-26T14:14:09.816Z"
      },
      {
        "duration": 20,
        "start_time": "2023-11-26T14:14:09.904Z"
      },
      {
        "duration": 27,
        "start_time": "2023-11-26T14:14:09.925Z"
      },
      {
        "duration": 19,
        "start_time": "2023-11-26T14:14:09.953Z"
      },
      {
        "duration": 10,
        "start_time": "2023-11-26T14:14:09.973Z"
      },
      {
        "duration": 141,
        "start_time": "2023-11-26T14:14:09.985Z"
      },
      {
        "duration": 89,
        "start_time": "2023-11-26T14:14:10.128Z"
      },
      {
        "duration": 13736,
        "start_time": "2023-11-26T14:14:10.219Z"
      },
      {
        "duration": 3,
        "start_time": "2023-11-26T14:14:23.956Z"
      },
      {
        "duration": 925,
        "start_time": "2023-11-26T14:14:23.960Z"
      },
      {
        "duration": 2613539,
        "start_time": "2023-11-26T14:14:24.887Z"
      },
      {
        "duration": 360849,
        "start_time": "2023-11-26T14:57:58.428Z"
      },
      {
        "duration": 151089,
        "start_time": "2023-11-26T15:03:59.278Z"
      },
      {
        "duration": 7995,
        "start_time": "2023-11-26T15:06:30.368Z"
      },
      {
        "duration": 707,
        "start_time": "2023-11-26T15:06:38.364Z"
      },
      {
        "duration": 106,
        "start_time": "2023-11-26T16:00:47.496Z"
      },
      {
        "duration": 1381,
        "start_time": "2023-11-26T16:02:12.531Z"
      },
      {
        "duration": 812,
        "start_time": "2023-11-26T16:02:13.914Z"
      },
      {
        "duration": 14,
        "start_time": "2023-11-26T16:02:14.728Z"
      },
      {
        "duration": 147,
        "start_time": "2023-11-26T16:02:14.743Z"
      },
      {
        "duration": 270,
        "start_time": "2023-11-26T16:02:14.893Z"
      },
      {
        "duration": 2,
        "start_time": "2023-11-26T16:02:15.165Z"
      },
      {
        "duration": 10,
        "start_time": "2023-11-26T16:02:15.169Z"
      },
      {
        "duration": 103,
        "start_time": "2023-11-26T16:02:15.180Z"
      },
      {
        "duration": 92,
        "start_time": "2023-11-26T16:02:15.285Z"
      },
      {
        "duration": 292,
        "start_time": "2023-11-26T16:02:15.379Z"
      },
      {
        "duration": 302,
        "start_time": "2023-11-26T16:02:15.672Z"
      },
      {
        "duration": 2,
        "start_time": "2023-11-26T16:02:15.976Z"
      },
      {
        "duration": 108,
        "start_time": "2023-11-26T16:02:15.979Z"
      },
      {
        "duration": 25,
        "start_time": "2023-11-26T16:02:16.090Z"
      },
      {
        "duration": 48,
        "start_time": "2023-11-26T16:02:16.117Z"
      },
      {
        "duration": 100,
        "start_time": "2023-11-26T16:02:16.166Z"
      },
      {
        "duration": 72,
        "start_time": "2023-11-26T16:02:16.267Z"
      },
      {
        "duration": 17,
        "start_time": "2023-11-26T16:02:16.352Z"
      },
      {
        "duration": 22,
        "start_time": "2023-11-26T16:02:16.370Z"
      },
      {
        "duration": 26,
        "start_time": "2023-11-26T16:02:16.393Z"
      },
      {
        "duration": 9,
        "start_time": "2023-11-26T16:02:16.420Z"
      },
      {
        "duration": 150,
        "start_time": "2023-11-26T16:02:16.430Z"
      },
      {
        "duration": 86,
        "start_time": "2023-11-26T16:02:16.582Z"
      },
      {
        "duration": 13639,
        "start_time": "2023-11-26T16:02:16.669Z"
      },
      {
        "duration": 3,
        "start_time": "2023-11-26T16:02:30.309Z"
      },
      {
        "duration": 939,
        "start_time": "2023-11-26T16:02:30.313Z"
      },
      {
        "duration": 1073767,
        "start_time": "2023-11-26T16:02:31.253Z"
      },
      {
        "duration": 374734,
        "start_time": "2023-11-26T16:20:25.021Z"
      },
      {
        "duration": 130,
        "start_time": "2023-11-26T16:26:39.757Z"
      },
      {
        "duration": 0,
        "start_time": "2023-11-26T16:26:39.888Z"
      },
      {
        "duration": 0,
        "start_time": "2023-11-26T16:26:39.889Z"
      },
      {
        "duration": 0,
        "start_time": "2023-11-26T16:26:39.890Z"
      },
      {
        "duration": 7,
        "start_time": "2023-11-26T16:28:27.863Z"
      },
      {
        "duration": 1186,
        "start_time": "2023-11-26T16:28:37.594Z"
      },
      {
        "duration": 281574,
        "start_time": "2023-11-26T16:28:42.392Z"
      },
      {
        "duration": 48592,
        "start_time": "2023-11-26T16:33:23.968Z"
      },
      {
        "duration": 705,
        "start_time": "2023-11-26T16:34:12.564Z"
      },
      {
        "duration": 120,
        "start_time": "2023-11-27T15:37:47.156Z"
      },
      {
        "duration": 1733,
        "start_time": "2023-11-27T17:35:59.579Z"
      },
      {
        "duration": 1176,
        "start_time": "2023-11-27T17:36:01.314Z"
      },
      {
        "duration": 18,
        "start_time": "2023-11-27T17:36:02.492Z"
      },
      {
        "duration": 162,
        "start_time": "2023-11-27T17:36:02.513Z"
      },
      {
        "duration": 296,
        "start_time": "2023-11-27T17:36:02.774Z"
      },
      {
        "duration": 2,
        "start_time": "2023-11-27T17:36:03.575Z"
      },
      {
        "duration": 4,
        "start_time": "2023-11-27T17:36:03.975Z"
      },
      {
        "duration": 135,
        "start_time": "2023-11-27T17:36:04.774Z"
      },
      {
        "duration": 97,
        "start_time": "2023-11-27T17:36:05.260Z"
      },
      {
        "duration": 308,
        "start_time": "2023-11-27T17:36:07.019Z"
      },
      {
        "duration": 332,
        "start_time": "2023-11-27T17:36:07.651Z"
      },
      {
        "duration": 106,
        "start_time": "2023-11-27T17:36:08.908Z"
      },
      {
        "duration": 4,
        "start_time": "2023-11-27T17:37:25.345Z"
      },
      {
        "duration": 865,
        "start_time": "2023-11-27T17:37:25.773Z"
      },
      {
        "duration": 14,
        "start_time": "2023-11-27T17:37:26.640Z"
      },
      {
        "duration": 158,
        "start_time": "2023-11-27T17:37:26.656Z"
      },
      {
        "duration": 214,
        "start_time": "2023-11-27T17:37:28.197Z"
      },
      {
        "duration": 2,
        "start_time": "2023-11-27T17:37:28.617Z"
      },
      {
        "duration": 4,
        "start_time": "2023-11-27T17:37:29.069Z"
      },
      {
        "duration": 104,
        "start_time": "2023-11-27T17:37:29.659Z"
      },
      {
        "duration": 97,
        "start_time": "2023-11-27T17:37:30.174Z"
      },
      {
        "duration": 290,
        "start_time": "2023-11-27T17:37:31.465Z"
      },
      {
        "duration": 296,
        "start_time": "2023-11-27T17:37:32.024Z"
      },
      {
        "duration": 104,
        "start_time": "2023-11-27T17:37:32.701Z"
      },
      {
        "duration": 19,
        "start_time": "2023-11-27T17:37:33.970Z"
      },
      {
        "duration": 38,
        "start_time": "2023-11-27T17:37:39.718Z"
      },
      {
        "duration": 9,
        "start_time": "2023-11-27T17:40:03.723Z"
      },
      {
        "duration": 833,
        "start_time": "2023-11-27T17:40:04.121Z"
      },
      {
        "duration": 13,
        "start_time": "2023-11-27T17:40:04.955Z"
      },
      {
        "duration": 162,
        "start_time": "2023-11-27T17:40:05.073Z"
      },
      {
        "duration": 226,
        "start_time": "2023-11-27T17:40:06.582Z"
      },
      {
        "duration": 2,
        "start_time": "2023-11-27T17:40:07.042Z"
      },
      {
        "duration": 4,
        "start_time": "2023-11-27T17:40:07.446Z"
      },
      {
        "duration": 109,
        "start_time": "2023-11-27T17:40:07.848Z"
      },
      {
        "duration": 92,
        "start_time": "2023-11-27T17:40:08.344Z"
      },
      {
        "duration": 270,
        "start_time": "2023-11-27T17:40:09.242Z"
      },
      {
        "duration": 282,
        "start_time": "2023-11-27T17:40:09.734Z"
      },
      {
        "duration": 106,
        "start_time": "2023-11-27T17:40:10.099Z"
      },
      {
        "duration": 23,
        "start_time": "2023-11-27T17:40:10.609Z"
      },
      {
        "duration": 37,
        "start_time": "2023-11-27T17:40:11.574Z"
      },
      {
        "duration": 107,
        "start_time": "2023-11-27T17:40:13.109Z"
      },
      {
        "duration": 81,
        "start_time": "2023-11-27T17:40:14.742Z"
      },
      {
        "duration": 21,
        "start_time": "2023-11-27T17:40:15.579Z"
      },
      {
        "duration": 20,
        "start_time": "2023-11-27T17:40:16.987Z"
      },
      {
        "duration": 23,
        "start_time": "2023-11-27T17:40:17.471Z"
      },
      {
        "duration": 13,
        "start_time": "2023-11-27T17:40:18.280Z"
      },
      {
        "duration": 4,
        "start_time": "2023-11-27T17:40:39.410Z"
      },
      {
        "duration": 181,
        "start_time": "2023-11-27T17:42:50.476Z"
      },
      {
        "duration": 84,
        "start_time": "2023-11-27T17:42:56.276Z"
      },
      {
        "duration": 14495,
        "start_time": "2023-11-27T17:43:36.805Z"
      },
      {
        "duration": 5,
        "start_time": "2023-11-27T17:45:55.954Z"
      },
      {
        "duration": 136,
        "start_time": "2023-11-27T17:48:12.501Z"
      },
      {
        "duration": 3,
        "start_time": "2023-11-27T17:48:15.764Z"
      },
      {
        "duration": 1304,
        "start_time": "2023-11-27T17:48:16.389Z"
      },
      {
        "duration": 114,
        "start_time": "2023-11-27T17:49:14.246Z"
      },
      {
        "duration": 119,
        "start_time": "2023-11-27T17:50:28.151Z"
      },
      {
        "duration": 4,
        "start_time": "2023-11-27T17:51:04.546Z"
      },
      {
        "duration": 1398,
        "start_time": "2023-11-27T17:51:14.397Z"
      },
      {
        "duration": 3,
        "start_time": "2023-11-27T17:52:42.579Z"
      },
      {
        "duration": 4,
        "start_time": "2023-11-27T17:53:49.837Z"
      },
      {
        "duration": 823,
        "start_time": "2023-11-27T17:53:50.297Z"
      },
      {
        "duration": 13,
        "start_time": "2023-11-27T17:53:51.121Z"
      },
      {
        "duration": 159,
        "start_time": "2023-11-27T17:53:51.135Z"
      },
      {
        "duration": 216,
        "start_time": "2023-11-27T17:53:51.521Z"
      },
      {
        "duration": 2,
        "start_time": "2023-11-27T17:53:51.747Z"
      },
      {
        "duration": 4,
        "start_time": "2023-11-27T17:53:51.972Z"
      },
      {
        "duration": 101,
        "start_time": "2023-11-27T17:53:52.260Z"
      },
      {
        "duration": 84,
        "start_time": "2023-11-27T17:53:52.455Z"
      },
      {
        "duration": 255,
        "start_time": "2023-11-27T17:53:52.980Z"
      },
      {
        "duration": 286,
        "start_time": "2023-11-27T17:53:53.381Z"
      },
      {
        "duration": 104,
        "start_time": "2023-11-27T17:53:53.822Z"
      },
      {
        "duration": 24,
        "start_time": "2023-11-27T17:53:54.693Z"
      },
      {
        "duration": 37,
        "start_time": "2023-11-27T17:53:56.099Z"
      },
      {
        "duration": 97,
        "start_time": "2023-11-27T17:53:58.243Z"
      },
      {
        "duration": 71,
        "start_time": "2023-11-27T17:53:58.858Z"
      },
      {
        "duration": 21,
        "start_time": "2023-11-27T17:54:00.609Z"
      },
      {
        "duration": 18,
        "start_time": "2023-11-27T17:54:01.375Z"
      },
      {
        "duration": 20,
        "start_time": "2023-11-27T17:54:02.074Z"
      },
      {
        "duration": 11,
        "start_time": "2023-11-27T17:54:02.827Z"
      },
      {
        "duration": 181,
        "start_time": "2023-11-27T17:54:05.882Z"
      },
      {
        "duration": 89,
        "start_time": "2023-11-27T17:54:07.161Z"
      },
      {
        "duration": 14430,
        "start_time": "2023-11-27T17:54:07.953Z"
      },
      {
        "duration": 2,
        "start_time": "2023-11-27T17:54:22.384Z"
      },
      {
        "duration": 562,
        "start_time": "2023-11-27T17:55:15.992Z"
      },
      {
        "duration": 678,
        "start_time": "2023-11-27T17:58:20.251Z"
      },
      {
        "duration": 3136328,
        "start_time": "2023-11-27T17:58:36.702Z"
      },
      {
        "duration": 1131232,
        "start_time": "2023-11-27T18:50:53.032Z"
      },
      {
        "duration": 865,
        "start_time": "2023-11-27T19:09:44.265Z"
      },
      {
        "duration": 112089,
        "start_time": "2023-11-27T19:09:45.133Z"
      },
      {
        "duration": 27607,
        "start_time": "2023-11-27T19:11:37.224Z"
      },
      {
        "duration": 502,
        "start_time": "2023-11-27T19:12:04.833Z"
      }
    ],
    "kernelspec": {
      "display_name": "Python 3 (ipykernel)",
      "language": "python",
      "name": "python3"
    },
    "language_info": {
      "codemirror_mode": {
        "name": "ipython",
        "version": 3
      },
      "file_extension": ".py",
      "mimetype": "text/x-python",
      "name": "python",
      "nbconvert_exporter": "python",
      "pygments_lexer": "ipython3",
      "version": "3.9.5"
    },
    "toc": {
      "base_numbering": 1,
      "nav_menu": {},
      "number_sections": true,
      "sideBar": true,
      "skip_h1_title": true,
      "title_cell": "Table of Contents",
      "title_sidebar": "Contents",
      "toc_cell": false,
      "toc_position": {},
      "toc_section_display": true,
      "toc_window_display": true
    },
    "colab": {
      "provenance": []
    }
  },
  "nbformat": 4,
  "nbformat_minor": 0
}
