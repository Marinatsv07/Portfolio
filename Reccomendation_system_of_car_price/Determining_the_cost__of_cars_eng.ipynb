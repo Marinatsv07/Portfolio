{
  "cells": [
    {
      "cell_type": "markdown",
      "metadata": {
        "id": "8k2uzmj29vTL"
      },
      "source": [
        "# Determining the cost of cars"
      ]
    },
    {
      "cell_type": "markdown",
      "metadata": {
        "id": "Bx7jOjws9vTL"
      },
      "source": [
        "A service for selling used cars is developing an application to attract new customers. Here you can quickly find out the market value of your car. Based on historical data, it is necessary to build a model to determine the cost of the car.\n",
        "\n",
        "The following are important to the customer:\n",
        "\n",
        "- quality of prediction;\n",
        "- prediction speed;\n",
        "- studying time.\n",
        "\n",
        "Target:\n",
        "Development of a system for recommending the cost of a car based on its description"
      ]
    },
    {
      "cell_type": "markdown",
      "metadata": {
        "id": "HsoxYqjT9vTL"
      },
      "source": [
        "\n",
        "## Data preparation"
      ]
    },
    {
      "cell_type": "code",
      "execution_count": 3,
      "metadata": {
        "id": "gscU8igp9vTL"
      },
      "outputs": [],
      "source": [
        "import pandas as pd\n",
        "import numpy as np\n",
        "import matplotlib.pyplot as plt\n",
        "import seaborn as sns\n",
        "from sklearn.model_selection import train_test_split\n",
        "from sklearn.preprocessing import OneHotEncoder, StandardScaler\n",
        "from sklearn.compose import ColumnTransformer\n",
        "import lightgbm as lgb\n",
        "from sklearn.ensemble import RandomForestRegressor\n",
        "from sklearn.metrics import mean_squared_error\n",
        "from sklearn.model_selection import GridSearchCV\n",
        "from lightgbm import LGBMRegressor\n",
        "import time"
      ]
    },
    {
      "cell_type": "code",
      "source": [
        "from google.colab import drive\n",
        "drive.mount('/content/drive/')"
      ],
      "metadata": {
        "colab": {
          "base_uri": "https://localhost:8080/"
        },
        "id": "W_dLRS4lT_wY",
        "outputId": "efade829-386c-45f3-f620-ed6b2d7d8a9d"
      },
      "execution_count": 1,
      "outputs": [
        {
          "output_type": "stream",
          "name": "stdout",
          "text": [
            "Mounted at /content/drive/\n"
          ]
        }
      ]
    },
    {
      "cell_type": "code",
      "execution_count": null,
      "metadata": {
        "id": "DrUKKoWe9vTL"
      },
      "outputs": [],
      "source": [
        "# data=pd.read_csv('/datasets/autos.csv')"
      ]
    },
    {
      "cell_type": "code",
      "source": [
        "data=pd.read_csv('/content/drive/MyDrive/datasets/autos.csv')"
      ],
      "metadata": {
        "id": "kXr1nfXOUFH-"
      },
      "execution_count": 5,
      "outputs": []
    },
    {
      "cell_type": "code",
      "execution_count": 6,
      "metadata": {
        "scrolled": true,
        "id": "i8YbgX9_9vTM",
        "outputId": "c6a98081-6074-4cc6-bd66-919f2c13835c",
        "colab": {
          "base_uri": "https://localhost:8080/",
          "height": 400
        }
      },
      "outputs": [
        {
          "output_type": "execute_result",
          "data": {
            "text/plain": [
              "           DateCrawled  Price VehicleType  RegistrationYear Gearbox  Power  \\\n",
              "0  2016-03-24 11:52:17    480         NaN              1993  manual      0   \n",
              "1  2016-03-24 10:58:45  18300       coupe              2011  manual    190   \n",
              "2  2016-03-14 12:52:21   9800         suv              2004    auto    163   \n",
              "3  2016-03-17 16:54:04   1500       small              2001  manual     75   \n",
              "4  2016-03-31 17:25:20   3600       small              2008  manual     69   \n",
              "\n",
              "   Model  Kilometer  RegistrationMonth  FuelType       Brand Repaired  \\\n",
              "0   golf     150000                  0    petrol  volkswagen      NaN   \n",
              "1    NaN     125000                  5  gasoline        audi      yes   \n",
              "2  grand     125000                  8  gasoline        jeep      NaN   \n",
              "3   golf     150000                  6    petrol  volkswagen       no   \n",
              "4  fabia      90000                  7  gasoline       skoda       no   \n",
              "\n",
              "           DateCreated  NumberOfPictures  PostalCode             LastSeen  \n",
              "0  2016-03-24 00:00:00                 0       70435  2016-04-07 03:16:57  \n",
              "1  2016-03-24 00:00:00                 0       66954  2016-04-07 01:46:50  \n",
              "2  2016-03-14 00:00:00                 0       90480  2016-04-05 12:47:46  \n",
              "3  2016-03-17 00:00:00                 0       91074  2016-03-17 17:40:17  \n",
              "4  2016-03-31 00:00:00                 0       60437  2016-04-06 10:17:21  "
            ],
            "text/html": [
              "\n",
              "  <div id=\"df-b5adfc12-5a52-4bdf-9ea1-5c30b2767276\" class=\"colab-df-container\">\n",
              "    <div>\n",
              "<style scoped>\n",
              "    .dataframe tbody tr th:only-of-type {\n",
              "        vertical-align: middle;\n",
              "    }\n",
              "\n",
              "    .dataframe tbody tr th {\n",
              "        vertical-align: top;\n",
              "    }\n",
              "\n",
              "    .dataframe thead th {\n",
              "        text-align: right;\n",
              "    }\n",
              "</style>\n",
              "<table border=\"1\" class=\"dataframe\">\n",
              "  <thead>\n",
              "    <tr style=\"text-align: right;\">\n",
              "      <th></th>\n",
              "      <th>DateCrawled</th>\n",
              "      <th>Price</th>\n",
              "      <th>VehicleType</th>\n",
              "      <th>RegistrationYear</th>\n",
              "      <th>Gearbox</th>\n",
              "      <th>Power</th>\n",
              "      <th>Model</th>\n",
              "      <th>Kilometer</th>\n",
              "      <th>RegistrationMonth</th>\n",
              "      <th>FuelType</th>\n",
              "      <th>Brand</th>\n",
              "      <th>Repaired</th>\n",
              "      <th>DateCreated</th>\n",
              "      <th>NumberOfPictures</th>\n",
              "      <th>PostalCode</th>\n",
              "      <th>LastSeen</th>\n",
              "    </tr>\n",
              "  </thead>\n",
              "  <tbody>\n",
              "    <tr>\n",
              "      <th>0</th>\n",
              "      <td>2016-03-24 11:52:17</td>\n",
              "      <td>480</td>\n",
              "      <td>NaN</td>\n",
              "      <td>1993</td>\n",
              "      <td>manual</td>\n",
              "      <td>0</td>\n",
              "      <td>golf</td>\n",
              "      <td>150000</td>\n",
              "      <td>0</td>\n",
              "      <td>petrol</td>\n",
              "      <td>volkswagen</td>\n",
              "      <td>NaN</td>\n",
              "      <td>2016-03-24 00:00:00</td>\n",
              "      <td>0</td>\n",
              "      <td>70435</td>\n",
              "      <td>2016-04-07 03:16:57</td>\n",
              "    </tr>\n",
              "    <tr>\n",
              "      <th>1</th>\n",
              "      <td>2016-03-24 10:58:45</td>\n",
              "      <td>18300</td>\n",
              "      <td>coupe</td>\n",
              "      <td>2011</td>\n",
              "      <td>manual</td>\n",
              "      <td>190</td>\n",
              "      <td>NaN</td>\n",
              "      <td>125000</td>\n",
              "      <td>5</td>\n",
              "      <td>gasoline</td>\n",
              "      <td>audi</td>\n",
              "      <td>yes</td>\n",
              "      <td>2016-03-24 00:00:00</td>\n",
              "      <td>0</td>\n",
              "      <td>66954</td>\n",
              "      <td>2016-04-07 01:46:50</td>\n",
              "    </tr>\n",
              "    <tr>\n",
              "      <th>2</th>\n",
              "      <td>2016-03-14 12:52:21</td>\n",
              "      <td>9800</td>\n",
              "      <td>suv</td>\n",
              "      <td>2004</td>\n",
              "      <td>auto</td>\n",
              "      <td>163</td>\n",
              "      <td>grand</td>\n",
              "      <td>125000</td>\n",
              "      <td>8</td>\n",
              "      <td>gasoline</td>\n",
              "      <td>jeep</td>\n",
              "      <td>NaN</td>\n",
              "      <td>2016-03-14 00:00:00</td>\n",
              "      <td>0</td>\n",
              "      <td>90480</td>\n",
              "      <td>2016-04-05 12:47:46</td>\n",
              "    </tr>\n",
              "    <tr>\n",
              "      <th>3</th>\n",
              "      <td>2016-03-17 16:54:04</td>\n",
              "      <td>1500</td>\n",
              "      <td>small</td>\n",
              "      <td>2001</td>\n",
              "      <td>manual</td>\n",
              "      <td>75</td>\n",
              "      <td>golf</td>\n",
              "      <td>150000</td>\n",
              "      <td>6</td>\n",
              "      <td>petrol</td>\n",
              "      <td>volkswagen</td>\n",
              "      <td>no</td>\n",
              "      <td>2016-03-17 00:00:00</td>\n",
              "      <td>0</td>\n",
              "      <td>91074</td>\n",
              "      <td>2016-03-17 17:40:17</td>\n",
              "    </tr>\n",
              "    <tr>\n",
              "      <th>4</th>\n",
              "      <td>2016-03-31 17:25:20</td>\n",
              "      <td>3600</td>\n",
              "      <td>small</td>\n",
              "      <td>2008</td>\n",
              "      <td>manual</td>\n",
              "      <td>69</td>\n",
              "      <td>fabia</td>\n",
              "      <td>90000</td>\n",
              "      <td>7</td>\n",
              "      <td>gasoline</td>\n",
              "      <td>skoda</td>\n",
              "      <td>no</td>\n",
              "      <td>2016-03-31 00:00:00</td>\n",
              "      <td>0</td>\n",
              "      <td>60437</td>\n",
              "      <td>2016-04-06 10:17:21</td>\n",
              "    </tr>\n",
              "  </tbody>\n",
              "</table>\n",
              "</div>\n",
              "    <div class=\"colab-df-buttons\">\n",
              "\n",
              "  <div class=\"colab-df-container\">\n",
              "    <button class=\"colab-df-convert\" onclick=\"convertToInteractive('df-b5adfc12-5a52-4bdf-9ea1-5c30b2767276')\"\n",
              "            title=\"Convert this dataframe to an interactive table.\"\n",
              "            style=\"display:none;\">\n",
              "\n",
              "  <svg xmlns=\"http://www.w3.org/2000/svg\" height=\"24px\" viewBox=\"0 -960 960 960\">\n",
              "    <path d=\"M120-120v-720h720v720H120Zm60-500h600v-160H180v160Zm220 220h160v-160H400v160Zm0 220h160v-160H400v160ZM180-400h160v-160H180v160Zm440 0h160v-160H620v160ZM180-180h160v-160H180v160Zm440 0h160v-160H620v160Z\"/>\n",
              "  </svg>\n",
              "    </button>\n",
              "\n",
              "  <style>\n",
              "    .colab-df-container {\n",
              "      display:flex;\n",
              "      gap: 12px;\n",
              "    }\n",
              "\n",
              "    .colab-df-convert {\n",
              "      background-color: #E8F0FE;\n",
              "      border: none;\n",
              "      border-radius: 50%;\n",
              "      cursor: pointer;\n",
              "      display: none;\n",
              "      fill: #1967D2;\n",
              "      height: 32px;\n",
              "      padding: 0 0 0 0;\n",
              "      width: 32px;\n",
              "    }\n",
              "\n",
              "    .colab-df-convert:hover {\n",
              "      background-color: #E2EBFA;\n",
              "      box-shadow: 0px 1px 2px rgba(60, 64, 67, 0.3), 0px 1px 3px 1px rgba(60, 64, 67, 0.15);\n",
              "      fill: #174EA6;\n",
              "    }\n",
              "\n",
              "    .colab-df-buttons div {\n",
              "      margin-bottom: 4px;\n",
              "    }\n",
              "\n",
              "    [theme=dark] .colab-df-convert {\n",
              "      background-color: #3B4455;\n",
              "      fill: #D2E3FC;\n",
              "    }\n",
              "\n",
              "    [theme=dark] .colab-df-convert:hover {\n",
              "      background-color: #434B5C;\n",
              "      box-shadow: 0px 1px 3px 1px rgba(0, 0, 0, 0.15);\n",
              "      filter: drop-shadow(0px 1px 2px rgba(0, 0, 0, 0.3));\n",
              "      fill: #FFFFFF;\n",
              "    }\n",
              "  </style>\n",
              "\n",
              "    <script>\n",
              "      const buttonEl =\n",
              "        document.querySelector('#df-b5adfc12-5a52-4bdf-9ea1-5c30b2767276 button.colab-df-convert');\n",
              "      buttonEl.style.display =\n",
              "        google.colab.kernel.accessAllowed ? 'block' : 'none';\n",
              "\n",
              "      async function convertToInteractive(key) {\n",
              "        const element = document.querySelector('#df-b5adfc12-5a52-4bdf-9ea1-5c30b2767276');\n",
              "        const dataTable =\n",
              "          await google.colab.kernel.invokeFunction('convertToInteractive',\n",
              "                                                    [key], {});\n",
              "        if (!dataTable) return;\n",
              "\n",
              "        const docLinkHtml = 'Like what you see? Visit the ' +\n",
              "          '<a target=\"_blank\" href=https://colab.research.google.com/notebooks/data_table.ipynb>data table notebook</a>'\n",
              "          + ' to learn more about interactive tables.';\n",
              "        element.innerHTML = '';\n",
              "        dataTable['output_type'] = 'display_data';\n",
              "        await google.colab.output.renderOutput(dataTable, element);\n",
              "        const docLink = document.createElement('div');\n",
              "        docLink.innerHTML = docLinkHtml;\n",
              "        element.appendChild(docLink);\n",
              "      }\n",
              "    </script>\n",
              "  </div>\n",
              "\n",
              "\n",
              "<div id=\"df-96ab79d2-c957-4916-8a2f-11e4f6e6d47b\">\n",
              "  <button class=\"colab-df-quickchart\" onclick=\"quickchart('df-96ab79d2-c957-4916-8a2f-11e4f6e6d47b')\"\n",
              "            title=\"Suggest charts\"\n",
              "            style=\"display:none;\">\n",
              "\n",
              "<svg xmlns=\"http://www.w3.org/2000/svg\" height=\"24px\"viewBox=\"0 0 24 24\"\n",
              "     width=\"24px\">\n",
              "    <g>\n",
              "        <path d=\"M19 3H5c-1.1 0-2 .9-2 2v14c0 1.1.9 2 2 2h14c1.1 0 2-.9 2-2V5c0-1.1-.9-2-2-2zM9 17H7v-7h2v7zm4 0h-2V7h2v10zm4 0h-2v-4h2v4z\"/>\n",
              "    </g>\n",
              "</svg>\n",
              "  </button>\n",
              "\n",
              "<style>\n",
              "  .colab-df-quickchart {\n",
              "      --bg-color: #E8F0FE;\n",
              "      --fill-color: #1967D2;\n",
              "      --hover-bg-color: #E2EBFA;\n",
              "      --hover-fill-color: #174EA6;\n",
              "      --disabled-fill-color: #AAA;\n",
              "      --disabled-bg-color: #DDD;\n",
              "  }\n",
              "\n",
              "  [theme=dark] .colab-df-quickchart {\n",
              "      --bg-color: #3B4455;\n",
              "      --fill-color: #D2E3FC;\n",
              "      --hover-bg-color: #434B5C;\n",
              "      --hover-fill-color: #FFFFFF;\n",
              "      --disabled-bg-color: #3B4455;\n",
              "      --disabled-fill-color: #666;\n",
              "  }\n",
              "\n",
              "  .colab-df-quickchart {\n",
              "    background-color: var(--bg-color);\n",
              "    border: none;\n",
              "    border-radius: 50%;\n",
              "    cursor: pointer;\n",
              "    display: none;\n",
              "    fill: var(--fill-color);\n",
              "    height: 32px;\n",
              "    padding: 0;\n",
              "    width: 32px;\n",
              "  }\n",
              "\n",
              "  .colab-df-quickchart:hover {\n",
              "    background-color: var(--hover-bg-color);\n",
              "    box-shadow: 0 1px 2px rgba(60, 64, 67, 0.3), 0 1px 3px 1px rgba(60, 64, 67, 0.15);\n",
              "    fill: var(--button-hover-fill-color);\n",
              "  }\n",
              "\n",
              "  .colab-df-quickchart-complete:disabled,\n",
              "  .colab-df-quickchart-complete:disabled:hover {\n",
              "    background-color: var(--disabled-bg-color);\n",
              "    fill: var(--disabled-fill-color);\n",
              "    box-shadow: none;\n",
              "  }\n",
              "\n",
              "  .colab-df-spinner {\n",
              "    border: 2px solid var(--fill-color);\n",
              "    border-color: transparent;\n",
              "    border-bottom-color: var(--fill-color);\n",
              "    animation:\n",
              "      spin 1s steps(1) infinite;\n",
              "  }\n",
              "\n",
              "  @keyframes spin {\n",
              "    0% {\n",
              "      border-color: transparent;\n",
              "      border-bottom-color: var(--fill-color);\n",
              "      border-left-color: var(--fill-color);\n",
              "    }\n",
              "    20% {\n",
              "      border-color: transparent;\n",
              "      border-left-color: var(--fill-color);\n",
              "      border-top-color: var(--fill-color);\n",
              "    }\n",
              "    30% {\n",
              "      border-color: transparent;\n",
              "      border-left-color: var(--fill-color);\n",
              "      border-top-color: var(--fill-color);\n",
              "      border-right-color: var(--fill-color);\n",
              "    }\n",
              "    40% {\n",
              "      border-color: transparent;\n",
              "      border-right-color: var(--fill-color);\n",
              "      border-top-color: var(--fill-color);\n",
              "    }\n",
              "    60% {\n",
              "      border-color: transparent;\n",
              "      border-right-color: var(--fill-color);\n",
              "    }\n",
              "    80% {\n",
              "      border-color: transparent;\n",
              "      border-right-color: var(--fill-color);\n",
              "      border-bottom-color: var(--fill-color);\n",
              "    }\n",
              "    90% {\n",
              "      border-color: transparent;\n",
              "      border-bottom-color: var(--fill-color);\n",
              "    }\n",
              "  }\n",
              "</style>\n",
              "\n",
              "  <script>\n",
              "    async function quickchart(key) {\n",
              "      const quickchartButtonEl =\n",
              "        document.querySelector('#' + key + ' button');\n",
              "      quickchartButtonEl.disabled = true;  // To prevent multiple clicks.\n",
              "      quickchartButtonEl.classList.add('colab-df-spinner');\n",
              "      try {\n",
              "        const charts = await google.colab.kernel.invokeFunction(\n",
              "            'suggestCharts', [key], {});\n",
              "      } catch (error) {\n",
              "        console.error('Error during call to suggestCharts:', error);\n",
              "      }\n",
              "      quickchartButtonEl.classList.remove('colab-df-spinner');\n",
              "      quickchartButtonEl.classList.add('colab-df-quickchart-complete');\n",
              "    }\n",
              "    (() => {\n",
              "      let quickchartButtonEl =\n",
              "        document.querySelector('#df-96ab79d2-c957-4916-8a2f-11e4f6e6d47b button');\n",
              "      quickchartButtonEl.style.display =\n",
              "        google.colab.kernel.accessAllowed ? 'block' : 'none';\n",
              "    })();\n",
              "  </script>\n",
              "</div>\n",
              "    </div>\n",
              "  </div>\n"
            ],
            "application/vnd.google.colaboratory.intrinsic+json": {
              "type": "dataframe",
              "variable_name": "data"
            }
          },
          "metadata": {},
          "execution_count": 6
        }
      ],
      "source": [
        "data.head()"
      ]
    },
    {
      "cell_type": "code",
      "execution_count": 7,
      "metadata": {
        "scrolled": true,
        "id": "AE79_IWF9vTM",
        "outputId": "082e8d32-e212-4bc8-ffb0-009173fabb79",
        "colab": {
          "base_uri": "https://localhost:8080/"
        }
      },
      "outputs": [
        {
          "output_type": "stream",
          "name": "stdout",
          "text": [
            "<class 'pandas.core.frame.DataFrame'>\n",
            "RangeIndex: 354369 entries, 0 to 354368\n",
            "Data columns (total 16 columns):\n",
            " #   Column             Non-Null Count   Dtype \n",
            "---  ------             --------------   ----- \n",
            " 0   DateCrawled        354369 non-null  object\n",
            " 1   Price              354369 non-null  int64 \n",
            " 2   VehicleType        316879 non-null  object\n",
            " 3   RegistrationYear   354369 non-null  int64 \n",
            " 4   Gearbox            334536 non-null  object\n",
            " 5   Power              354369 non-null  int64 \n",
            " 6   Model              334664 non-null  object\n",
            " 7   Kilometer          354369 non-null  int64 \n",
            " 8   RegistrationMonth  354369 non-null  int64 \n",
            " 9   FuelType           321474 non-null  object\n",
            " 10  Brand              354369 non-null  object\n",
            " 11  Repaired           283215 non-null  object\n",
            " 12  DateCreated        354369 non-null  object\n",
            " 13  NumberOfPictures   354369 non-null  int64 \n",
            " 14  PostalCode         354369 non-null  int64 \n",
            " 15  LastSeen           354369 non-null  object\n",
            "dtypes: int64(7), object(9)\n",
            "memory usage: 43.3+ MB\n"
          ]
        }
      ],
      "source": [
        "data.info()"
      ]
    },
    {
      "cell_type": "code",
      "execution_count": 8,
      "metadata": {
        "id": "T0nwpFty9vTM"
      },
      "outputs": [],
      "source": [
        "data['DateCrawled'] = pd.to_datetime(data['DateCrawled'])\n",
        "data['DateCreated'] = pd.to_datetime(data['DateCreated'])\n",
        "data['LastSeen'] = pd.to_datetime(data['LastSeen'])"
      ]
    },
    {
      "cell_type": "code",
      "execution_count": 9,
      "metadata": {
        "id": "YXNiyD6l9vTN"
      },
      "outputs": [],
      "source": [
        "# data['RegistrationYear'] = pd.Categorical(data['RegistrationYear'])\n",
        "# data['RegistrationMonth'] = pd.Categorical(data['RegistrationMonth'])"
      ]
    },
    {
      "cell_type": "code",
      "execution_count": 10,
      "metadata": {
        "scrolled": true,
        "id": "2lTv4LNH9vTQ",
        "outputId": "e8bf0200-5cf7-4c0b-b432-68326874b822",
        "colab": {
          "base_uri": "https://localhost:8080/"
        }
      },
      "outputs": [
        {
          "output_type": "stream",
          "name": "stdout",
          "text": [
            "Index(['datecrawled', 'price', 'vehicletype', 'registrationyear', 'gearbox',\n",
            "       'power', 'model', 'kilometer', 'registrationmonth', 'fueltype', 'brand',\n",
            "       'repaired', 'datecreated', 'numberofpictures', 'postalcode',\n",
            "       'lastseen'],\n",
            "      dtype='object')\n"
          ]
        }
      ],
      "source": [
        "# Convert all column names to lowercase\n",
        "data.columns = data.columns.str.lower()\n",
        "\n",
        "# Checking results\n",
        "print(data.columns)"
      ]
    },
    {
      "cell_type": "code",
      "execution_count": 11,
      "metadata": {
        "scrolled": true,
        "id": "xtN6Hrjd9vTR",
        "outputId": "af71443f-ceec-4789-d080-07c250a07912",
        "colab": {
          "base_uri": "https://localhost:8080/"
        }
      },
      "outputs": [
        {
          "output_type": "stream",
          "name": "stdout",
          "text": [
            "<class 'pandas.core.frame.DataFrame'>\n",
            "RangeIndex: 354369 entries, 0 to 354368\n",
            "Data columns (total 16 columns):\n",
            " #   Column             Non-Null Count   Dtype         \n",
            "---  ------             --------------   -----         \n",
            " 0   datecrawled        354369 non-null  datetime64[ns]\n",
            " 1   price              354369 non-null  int64         \n",
            " 2   vehicletype        316879 non-null  object        \n",
            " 3   registrationyear   354369 non-null  int64         \n",
            " 4   gearbox            334536 non-null  object        \n",
            " 5   power              354369 non-null  int64         \n",
            " 6   model              334664 non-null  object        \n",
            " 7   kilometer          354369 non-null  int64         \n",
            " 8   registrationmonth  354369 non-null  int64         \n",
            " 9   fueltype           321474 non-null  object        \n",
            " 10  brand              354369 non-null  object        \n",
            " 11  repaired           283215 non-null  object        \n",
            " 12  datecreated        354369 non-null  datetime64[ns]\n",
            " 13  numberofpictures   354369 non-null  int64         \n",
            " 14  postalcode         354369 non-null  int64         \n",
            " 15  lastseen           354369 non-null  datetime64[ns]\n",
            "dtypes: datetime64[ns](3), int64(7), object(6)\n",
            "memory usage: 43.3+ MB\n"
          ]
        }
      ],
      "source": [
        "data.info()"
      ]
    },
    {
      "cell_type": "code",
      "execution_count": 12,
      "metadata": {
        "scrolled": true,
        "id": "-e2-ZRmN9vTR",
        "outputId": "930fbb74-8522-4770-b67f-6d08b5f6e480",
        "colab": {
          "base_uri": "https://localhost:8080/",
          "height": 300
        }
      },
      "outputs": [
        {
          "output_type": "execute_result",
          "data": {
            "text/plain": [
              "               price  registrationyear          power      kilometer  \\\n",
              "count  354369.000000     354369.000000  354369.000000  354369.000000   \n",
              "mean     4416.656776       2004.234448     110.094337  128211.172535   \n",
              "std      4514.158514         90.227958     189.850405   37905.341530   \n",
              "min         0.000000       1000.000000       0.000000    5000.000000   \n",
              "25%      1050.000000       1999.000000      69.000000  125000.000000   \n",
              "50%      2700.000000       2003.000000     105.000000  150000.000000   \n",
              "75%      6400.000000       2008.000000     143.000000  150000.000000   \n",
              "max     20000.000000       9999.000000   20000.000000  150000.000000   \n",
              "\n",
              "       registrationmonth  numberofpictures     postalcode  \n",
              "count      354369.000000          354369.0  354369.000000  \n",
              "mean            5.714645               0.0   50508.689087  \n",
              "std             3.726421               0.0   25783.096248  \n",
              "min             0.000000               0.0    1067.000000  \n",
              "25%             3.000000               0.0   30165.000000  \n",
              "50%             6.000000               0.0   49413.000000  \n",
              "75%             9.000000               0.0   71083.000000  \n",
              "max            12.000000               0.0   99998.000000  "
            ],
            "text/html": [
              "\n",
              "  <div id=\"df-2796784b-98f3-479f-b9d7-28a6be0ba5d9\" class=\"colab-df-container\">\n",
              "    <div>\n",
              "<style scoped>\n",
              "    .dataframe tbody tr th:only-of-type {\n",
              "        vertical-align: middle;\n",
              "    }\n",
              "\n",
              "    .dataframe tbody tr th {\n",
              "        vertical-align: top;\n",
              "    }\n",
              "\n",
              "    .dataframe thead th {\n",
              "        text-align: right;\n",
              "    }\n",
              "</style>\n",
              "<table border=\"1\" class=\"dataframe\">\n",
              "  <thead>\n",
              "    <tr style=\"text-align: right;\">\n",
              "      <th></th>\n",
              "      <th>price</th>\n",
              "      <th>registrationyear</th>\n",
              "      <th>power</th>\n",
              "      <th>kilometer</th>\n",
              "      <th>registrationmonth</th>\n",
              "      <th>numberofpictures</th>\n",
              "      <th>postalcode</th>\n",
              "    </tr>\n",
              "  </thead>\n",
              "  <tbody>\n",
              "    <tr>\n",
              "      <th>count</th>\n",
              "      <td>354369.000000</td>\n",
              "      <td>354369.000000</td>\n",
              "      <td>354369.000000</td>\n",
              "      <td>354369.000000</td>\n",
              "      <td>354369.000000</td>\n",
              "      <td>354369.0</td>\n",
              "      <td>354369.000000</td>\n",
              "    </tr>\n",
              "    <tr>\n",
              "      <th>mean</th>\n",
              "      <td>4416.656776</td>\n",
              "      <td>2004.234448</td>\n",
              "      <td>110.094337</td>\n",
              "      <td>128211.172535</td>\n",
              "      <td>5.714645</td>\n",
              "      <td>0.0</td>\n",
              "      <td>50508.689087</td>\n",
              "    </tr>\n",
              "    <tr>\n",
              "      <th>std</th>\n",
              "      <td>4514.158514</td>\n",
              "      <td>90.227958</td>\n",
              "      <td>189.850405</td>\n",
              "      <td>37905.341530</td>\n",
              "      <td>3.726421</td>\n",
              "      <td>0.0</td>\n",
              "      <td>25783.096248</td>\n",
              "    </tr>\n",
              "    <tr>\n",
              "      <th>min</th>\n",
              "      <td>0.000000</td>\n",
              "      <td>1000.000000</td>\n",
              "      <td>0.000000</td>\n",
              "      <td>5000.000000</td>\n",
              "      <td>0.000000</td>\n",
              "      <td>0.0</td>\n",
              "      <td>1067.000000</td>\n",
              "    </tr>\n",
              "    <tr>\n",
              "      <th>25%</th>\n",
              "      <td>1050.000000</td>\n",
              "      <td>1999.000000</td>\n",
              "      <td>69.000000</td>\n",
              "      <td>125000.000000</td>\n",
              "      <td>3.000000</td>\n",
              "      <td>0.0</td>\n",
              "      <td>30165.000000</td>\n",
              "    </tr>\n",
              "    <tr>\n",
              "      <th>50%</th>\n",
              "      <td>2700.000000</td>\n",
              "      <td>2003.000000</td>\n",
              "      <td>105.000000</td>\n",
              "      <td>150000.000000</td>\n",
              "      <td>6.000000</td>\n",
              "      <td>0.0</td>\n",
              "      <td>49413.000000</td>\n",
              "    </tr>\n",
              "    <tr>\n",
              "      <th>75%</th>\n",
              "      <td>6400.000000</td>\n",
              "      <td>2008.000000</td>\n",
              "      <td>143.000000</td>\n",
              "      <td>150000.000000</td>\n",
              "      <td>9.000000</td>\n",
              "      <td>0.0</td>\n",
              "      <td>71083.000000</td>\n",
              "    </tr>\n",
              "    <tr>\n",
              "      <th>max</th>\n",
              "      <td>20000.000000</td>\n",
              "      <td>9999.000000</td>\n",
              "      <td>20000.000000</td>\n",
              "      <td>150000.000000</td>\n",
              "      <td>12.000000</td>\n",
              "      <td>0.0</td>\n",
              "      <td>99998.000000</td>\n",
              "    </tr>\n",
              "  </tbody>\n",
              "</table>\n",
              "</div>\n",
              "    <div class=\"colab-df-buttons\">\n",
              "\n",
              "  <div class=\"colab-df-container\">\n",
              "    <button class=\"colab-df-convert\" onclick=\"convertToInteractive('df-2796784b-98f3-479f-b9d7-28a6be0ba5d9')\"\n",
              "            title=\"Convert this dataframe to an interactive table.\"\n",
              "            style=\"display:none;\">\n",
              "\n",
              "  <svg xmlns=\"http://www.w3.org/2000/svg\" height=\"24px\" viewBox=\"0 -960 960 960\">\n",
              "    <path d=\"M120-120v-720h720v720H120Zm60-500h600v-160H180v160Zm220 220h160v-160H400v160Zm0 220h160v-160H400v160ZM180-400h160v-160H180v160Zm440 0h160v-160H620v160ZM180-180h160v-160H180v160Zm440 0h160v-160H620v160Z\"/>\n",
              "  </svg>\n",
              "    </button>\n",
              "\n",
              "  <style>\n",
              "    .colab-df-container {\n",
              "      display:flex;\n",
              "      gap: 12px;\n",
              "    }\n",
              "\n",
              "    .colab-df-convert {\n",
              "      background-color: #E8F0FE;\n",
              "      border: none;\n",
              "      border-radius: 50%;\n",
              "      cursor: pointer;\n",
              "      display: none;\n",
              "      fill: #1967D2;\n",
              "      height: 32px;\n",
              "      padding: 0 0 0 0;\n",
              "      width: 32px;\n",
              "    }\n",
              "\n",
              "    .colab-df-convert:hover {\n",
              "      background-color: #E2EBFA;\n",
              "      box-shadow: 0px 1px 2px rgba(60, 64, 67, 0.3), 0px 1px 3px 1px rgba(60, 64, 67, 0.15);\n",
              "      fill: #174EA6;\n",
              "    }\n",
              "\n",
              "    .colab-df-buttons div {\n",
              "      margin-bottom: 4px;\n",
              "    }\n",
              "\n",
              "    [theme=dark] .colab-df-convert {\n",
              "      background-color: #3B4455;\n",
              "      fill: #D2E3FC;\n",
              "    }\n",
              "\n",
              "    [theme=dark] .colab-df-convert:hover {\n",
              "      background-color: #434B5C;\n",
              "      box-shadow: 0px 1px 3px 1px rgba(0, 0, 0, 0.15);\n",
              "      filter: drop-shadow(0px 1px 2px rgba(0, 0, 0, 0.3));\n",
              "      fill: #FFFFFF;\n",
              "    }\n",
              "  </style>\n",
              "\n",
              "    <script>\n",
              "      const buttonEl =\n",
              "        document.querySelector('#df-2796784b-98f3-479f-b9d7-28a6be0ba5d9 button.colab-df-convert');\n",
              "      buttonEl.style.display =\n",
              "        google.colab.kernel.accessAllowed ? 'block' : 'none';\n",
              "\n",
              "      async function convertToInteractive(key) {\n",
              "        const element = document.querySelector('#df-2796784b-98f3-479f-b9d7-28a6be0ba5d9');\n",
              "        const dataTable =\n",
              "          await google.colab.kernel.invokeFunction('convertToInteractive',\n",
              "                                                    [key], {});\n",
              "        if (!dataTable) return;\n",
              "\n",
              "        const docLinkHtml = 'Like what you see? Visit the ' +\n",
              "          '<a target=\"_blank\" href=https://colab.research.google.com/notebooks/data_table.ipynb>data table notebook</a>'\n",
              "          + ' to learn more about interactive tables.';\n",
              "        element.innerHTML = '';\n",
              "        dataTable['output_type'] = 'display_data';\n",
              "        await google.colab.output.renderOutput(dataTable, element);\n",
              "        const docLink = document.createElement('div');\n",
              "        docLink.innerHTML = docLinkHtml;\n",
              "        element.appendChild(docLink);\n",
              "      }\n",
              "    </script>\n",
              "  </div>\n",
              "\n",
              "\n",
              "<div id=\"df-5522a29e-2380-4e13-b49e-0310d9c0cfe0\">\n",
              "  <button class=\"colab-df-quickchart\" onclick=\"quickchart('df-5522a29e-2380-4e13-b49e-0310d9c0cfe0')\"\n",
              "            title=\"Suggest charts\"\n",
              "            style=\"display:none;\">\n",
              "\n",
              "<svg xmlns=\"http://www.w3.org/2000/svg\" height=\"24px\"viewBox=\"0 0 24 24\"\n",
              "     width=\"24px\">\n",
              "    <g>\n",
              "        <path d=\"M19 3H5c-1.1 0-2 .9-2 2v14c0 1.1.9 2 2 2h14c1.1 0 2-.9 2-2V5c0-1.1-.9-2-2-2zM9 17H7v-7h2v7zm4 0h-2V7h2v10zm4 0h-2v-4h2v4z\"/>\n",
              "    </g>\n",
              "</svg>\n",
              "  </button>\n",
              "\n",
              "<style>\n",
              "  .colab-df-quickchart {\n",
              "      --bg-color: #E8F0FE;\n",
              "      --fill-color: #1967D2;\n",
              "      --hover-bg-color: #E2EBFA;\n",
              "      --hover-fill-color: #174EA6;\n",
              "      --disabled-fill-color: #AAA;\n",
              "      --disabled-bg-color: #DDD;\n",
              "  }\n",
              "\n",
              "  [theme=dark] .colab-df-quickchart {\n",
              "      --bg-color: #3B4455;\n",
              "      --fill-color: #D2E3FC;\n",
              "      --hover-bg-color: #434B5C;\n",
              "      --hover-fill-color: #FFFFFF;\n",
              "      --disabled-bg-color: #3B4455;\n",
              "      --disabled-fill-color: #666;\n",
              "  }\n",
              "\n",
              "  .colab-df-quickchart {\n",
              "    background-color: var(--bg-color);\n",
              "    border: none;\n",
              "    border-radius: 50%;\n",
              "    cursor: pointer;\n",
              "    display: none;\n",
              "    fill: var(--fill-color);\n",
              "    height: 32px;\n",
              "    padding: 0;\n",
              "    width: 32px;\n",
              "  }\n",
              "\n",
              "  .colab-df-quickchart:hover {\n",
              "    background-color: var(--hover-bg-color);\n",
              "    box-shadow: 0 1px 2px rgba(60, 64, 67, 0.3), 0 1px 3px 1px rgba(60, 64, 67, 0.15);\n",
              "    fill: var(--button-hover-fill-color);\n",
              "  }\n",
              "\n",
              "  .colab-df-quickchart-complete:disabled,\n",
              "  .colab-df-quickchart-complete:disabled:hover {\n",
              "    background-color: var(--disabled-bg-color);\n",
              "    fill: var(--disabled-fill-color);\n",
              "    box-shadow: none;\n",
              "  }\n",
              "\n",
              "  .colab-df-spinner {\n",
              "    border: 2px solid var(--fill-color);\n",
              "    border-color: transparent;\n",
              "    border-bottom-color: var(--fill-color);\n",
              "    animation:\n",
              "      spin 1s steps(1) infinite;\n",
              "  }\n",
              "\n",
              "  @keyframes spin {\n",
              "    0% {\n",
              "      border-color: transparent;\n",
              "      border-bottom-color: var(--fill-color);\n",
              "      border-left-color: var(--fill-color);\n",
              "    }\n",
              "    20% {\n",
              "      border-color: transparent;\n",
              "      border-left-color: var(--fill-color);\n",
              "      border-top-color: var(--fill-color);\n",
              "    }\n",
              "    30% {\n",
              "      border-color: transparent;\n",
              "      border-left-color: var(--fill-color);\n",
              "      border-top-color: var(--fill-color);\n",
              "      border-right-color: var(--fill-color);\n",
              "    }\n",
              "    40% {\n",
              "      border-color: transparent;\n",
              "      border-right-color: var(--fill-color);\n",
              "      border-top-color: var(--fill-color);\n",
              "    }\n",
              "    60% {\n",
              "      border-color: transparent;\n",
              "      border-right-color: var(--fill-color);\n",
              "    }\n",
              "    80% {\n",
              "      border-color: transparent;\n",
              "      border-right-color: var(--fill-color);\n",
              "      border-bottom-color: var(--fill-color);\n",
              "    }\n",
              "    90% {\n",
              "      border-color: transparent;\n",
              "      border-bottom-color: var(--fill-color);\n",
              "    }\n",
              "  }\n",
              "</style>\n",
              "\n",
              "  <script>\n",
              "    async function quickchart(key) {\n",
              "      const quickchartButtonEl =\n",
              "        document.querySelector('#' + key + ' button');\n",
              "      quickchartButtonEl.disabled = true;  // To prevent multiple clicks.\n",
              "      quickchartButtonEl.classList.add('colab-df-spinner');\n",
              "      try {\n",
              "        const charts = await google.colab.kernel.invokeFunction(\n",
              "            'suggestCharts', [key], {});\n",
              "      } catch (error) {\n",
              "        console.error('Error during call to suggestCharts:', error);\n",
              "      }\n",
              "      quickchartButtonEl.classList.remove('colab-df-spinner');\n",
              "      quickchartButtonEl.classList.add('colab-df-quickchart-complete');\n",
              "    }\n",
              "    (() => {\n",
              "      let quickchartButtonEl =\n",
              "        document.querySelector('#df-5522a29e-2380-4e13-b49e-0310d9c0cfe0 button');\n",
              "      quickchartButtonEl.style.display =\n",
              "        google.colab.kernel.accessAllowed ? 'block' : 'none';\n",
              "    })();\n",
              "  </script>\n",
              "</div>\n",
              "    </div>\n",
              "  </div>\n"
            ],
            "application/vnd.google.colaboratory.intrinsic+json": {
              "type": "dataframe",
              "summary": "{\n  \"name\": \"data\",\n  \"rows\": 8,\n  \"fields\": [\n    {\n      \"column\": \"price\",\n      \"properties\": {\n        \"dtype\": \"number\",\n        \"std\": 123471.38506045072,\n        \"min\": 0.0,\n        \"max\": 354369.0,\n        \"num_unique_values\": 8,\n        \"samples\": [\n          4416.656775846645,\n          2700.0,\n          354369.0\n        ],\n        \"semantic_type\": \"\",\n        \"description\": \"\"\n      }\n    },\n    {\n      \"column\": \"registrationyear\",\n      \"properties\": {\n        \"dtype\": \"number\",\n        \"std\": 124360.7789060848,\n        \"min\": 90.22795785100556,\n        \"max\": 354369.0,\n        \"num_unique_values\": 8,\n        \"samples\": [\n          2004.234447708462,\n          2003.0,\n          354369.0\n        ],\n        \"semantic_type\": \"\",\n        \"description\": \"\"\n      }\n    },\n    {\n      \"column\": \"power\",\n      \"properties\": {\n        \"dtype\": \"number\",\n        \"std\": 124441.99177338961,\n        \"min\": 0.0,\n        \"max\": 354369.0,\n        \"num_unique_values\": 8,\n        \"samples\": [\n          110.0943366942368,\n          105.0,\n          354369.0\n        ],\n        \"semantic_type\": \"\",\n        \"description\": \"\"\n      }\n    },\n    {\n      \"column\": \"kilometer\",\n      \"properties\": {\n        \"dtype\": \"number\",\n        \"std\": 103660.68410719009,\n        \"min\": 5000.0,\n        \"max\": 354369.0,\n        \"num_unique_values\": 6,\n        \"samples\": [\n          354369.0,\n          128211.17253484363,\n          150000.0\n        ],\n        \"semantic_type\": \"\",\n        \"description\": \"\"\n      }\n    },\n    {\n      \"column\": \"registrationmonth\",\n      \"properties\": {\n        \"dtype\": \"number\",\n        \"std\": 125286.36945026652,\n        \"min\": 0.0,\n        \"max\": 354369.0,\n        \"num_unique_values\": 8,\n        \"samples\": [\n          5.7146449040407035,\n          6.0,\n          354369.0\n        ],\n        \"semantic_type\": \"\",\n        \"description\": \"\"\n      }\n    },\n    {\n      \"column\": \"numberofpictures\",\n      \"properties\": {\n        \"dtype\": \"number\",\n        \"std\": 125288.36147114783,\n        \"min\": 0.0,\n        \"max\": 354369.0,\n        \"num_unique_values\": 2,\n        \"samples\": [\n          0.0,\n          354369.0\n        ],\n        \"semantic_type\": \"\",\n        \"description\": \"\"\n      }\n    },\n    {\n      \"column\": \"postalcode\",\n      \"properties\": {\n        \"dtype\": \"number\",\n        \"std\": 112752.52386306011,\n        \"min\": 1067.0,\n        \"max\": 354369.0,\n        \"num_unique_values\": 8,\n        \"samples\": [\n          50508.68908679935,\n          49413.0\n        ],\n        \"semantic_type\": \"\",\n        \"description\": \"\"\n      }\n    }\n  ]\n}"
            }
          },
          "metadata": {},
          "execution_count": 12
        }
      ],
      "source": [
        "data.describe()"
      ]
    },
    {
      "cell_type": "code",
      "execution_count": 13,
      "metadata": {
        "scrolled": false,
        "id": "-6KsMjB29vTS",
        "outputId": "524bdee7-4191-439b-d6b0-48919a89fceb",
        "colab": {
          "base_uri": "https://localhost:8080/"
        }
      },
      "outputs": [
        {
          "output_type": "stream",
          "name": "stdout",
          "text": [
            "Number of obvious duplicates in the data: 4\n"
          ]
        }
      ],
      "source": [
        "# Identifying obvious duplicates\n",
        "duplicates = data.duplicated()\n",
        "\n",
        "# Counting the number of obvious duplicates\n",
        "num_duplicates = duplicates.sum()\n",
        "print(f\"Number of obvious duplicates in the data: {num_duplicates}\")\n"
      ]
    },
    {
      "cell_type": "code",
      "execution_count": 14,
      "metadata": {
        "id": "MtRgotnZ9vTS",
        "outputId": "6a7e1e08-bdb4-4c2b-970e-341f2ccced33",
        "colab": {
          "base_uri": "https://localhost:8080/"
        }
      },
      "outputs": [
        {
          "output_type": "stream",
          "name": "stdout",
          "text": [
            "Duplicates have been removed.\n"
          ]
        }
      ],
      "source": [
        "# Remove duplicates if there are any\n",
        "if num_duplicates > 0:\n",
        "     data.drop_duplicates(inplace=True)\n",
        "     print(\"Duplicates have been removed.\")\n",
        "else:\n",
        "     print(\"No duplicates found.\")"
      ]
    },
    {
      "cell_type": "code",
      "execution_count": 15,
      "metadata": {
        "scrolled": true,
        "id": "pLCPDmSZ9vTS",
        "outputId": "b31052ef-ec86-4821-906d-f892b924032d",
        "colab": {
          "base_uri": "https://localhost:8080/"
        }
      },
      "outputs": [
        {
          "output_type": "stream",
          "name": "stdout",
          "text": [
            "<class 'pandas.core.frame.DataFrame'>\n",
            "Int64Index: 354365 entries, 0 to 354368\n",
            "Data columns (total 16 columns):\n",
            " #   Column             Non-Null Count   Dtype         \n",
            "---  ------             --------------   -----         \n",
            " 0   datecrawled        354365 non-null  datetime64[ns]\n",
            " 1   price              354365 non-null  int64         \n",
            " 2   vehicletype        316875 non-null  object        \n",
            " 3   registrationyear   354365 non-null  int64         \n",
            " 4   gearbox            334532 non-null  object        \n",
            " 5   power              354365 non-null  int64         \n",
            " 6   model              334660 non-null  object        \n",
            " 7   kilometer          354365 non-null  int64         \n",
            " 8   registrationmonth  354365 non-null  int64         \n",
            " 9   fueltype           321470 non-null  object        \n",
            " 10  brand              354365 non-null  object        \n",
            " 11  repaired           283211 non-null  object        \n",
            " 12  datecreated        354365 non-null  datetime64[ns]\n",
            " 13  numberofpictures   354365 non-null  int64         \n",
            " 14  postalcode         354365 non-null  int64         \n",
            " 15  lastseen           354365 non-null  datetime64[ns]\n",
            "dtypes: datetime64[ns](3), int64(7), object(6)\n",
            "memory usage: 46.0+ MB\n"
          ]
        }
      ],
      "source": [
        "data.info()"
      ]
    },
    {
      "cell_type": "code",
      "execution_count": 16,
      "metadata": {
        "id": "ZA3xURRT9vTS"
      },
      "outputs": [],
      "source": [
        "# Removing 'DateCrawled', 'DateCreated' and 'LastSeen' columns\n",
        "data.drop(columns=['datecreated', 'lastseen','numberofpictures'], inplace=True)"
      ]
    },
    {
      "cell_type": "code",
      "execution_count": 17,
      "metadata": {
        "id": "AzC4liCf9vTS"
      },
      "outputs": [],
      "source": [
        "data['fueltype'].fillna('other', inplace=True)\n",
        "data['vehicletype'].fillna('other', inplace=True)"
      ]
    },
    {
      "cell_type": "code",
      "execution_count": 18,
      "metadata": {
        "scrolled": true,
        "id": "op_HF5u29vTT",
        "outputId": "b29d2993-785c-46aa-934e-888711fd2fbd",
        "colab": {
          "base_uri": "https://localhost:8080/"
        }
      },
      "outputs": [
        {
          "output_type": "stream",
          "name": "stdout",
          "text": [
            "<class 'pandas.core.frame.DataFrame'>\n",
            "Int64Index: 354365 entries, 0 to 354368\n",
            "Data columns (total 13 columns):\n",
            " #   Column             Non-Null Count   Dtype         \n",
            "---  ------             --------------   -----         \n",
            " 0   datecrawled        354365 non-null  datetime64[ns]\n",
            " 1   price              354365 non-null  int64         \n",
            " 2   vehicletype        354365 non-null  object        \n",
            " 3   registrationyear   354365 non-null  int64         \n",
            " 4   gearbox            334532 non-null  object        \n",
            " 5   power              354365 non-null  int64         \n",
            " 6   model              334660 non-null  object        \n",
            " 7   kilometer          354365 non-null  int64         \n",
            " 8   registrationmonth  354365 non-null  int64         \n",
            " 9   fueltype           354365 non-null  object        \n",
            " 10  brand              354365 non-null  object        \n",
            " 11  repaired           283211 non-null  object        \n",
            " 12  postalcode         354365 non-null  int64         \n",
            "dtypes: datetime64[ns](1), int64(6), object(6)\n",
            "memory usage: 37.9+ MB\n"
          ]
        }
      ],
      "source": [
        "data.info()"
      ]
    },
    {
      "cell_type": "code",
      "execution_count": 19,
      "metadata": {
        "scrolled": true,
        "id": "eFz9ooAF9vTT",
        "outputId": "cadfd650-cbe3-4390-b58c-1c8cb9caabe3",
        "colab": {
          "base_uri": "https://localhost:8080/",
          "height": 300
        }
      },
      "outputs": [
        {
          "output_type": "execute_result",
          "data": {
            "text/plain": [
              "               price  registrationyear          power      kilometer  \\\n",
              "count  354365.000000     354365.000000  354365.000000  354365.000000   \n",
              "mean     4416.679830       2004.234481     110.093816  128211.363989   \n",
              "std      4514.176349         90.228466     189.851330   37905.083858   \n",
              "min         0.000000       1000.000000       0.000000    5000.000000   \n",
              "25%      1050.000000       1999.000000      69.000000  125000.000000   \n",
              "50%      2700.000000       2003.000000     105.000000  150000.000000   \n",
              "75%      6400.000000       2008.000000     143.000000  150000.000000   \n",
              "max     20000.000000       9999.000000   20000.000000  150000.000000   \n",
              "\n",
              "       registrationmonth     postalcode  \n",
              "count      354365.000000  354365.000000  \n",
              "mean            5.714650   50508.503800  \n",
              "std             3.726432   25783.100078  \n",
              "min             0.000000    1067.000000  \n",
              "25%             3.000000   30165.000000  \n",
              "50%             6.000000   49413.000000  \n",
              "75%             9.000000   71083.000000  \n",
              "max            12.000000   99998.000000  "
            ],
            "text/html": [
              "\n",
              "  <div id=\"df-334cd2ab-5488-46d4-815b-de8bd32a1740\" class=\"colab-df-container\">\n",
              "    <div>\n",
              "<style scoped>\n",
              "    .dataframe tbody tr th:only-of-type {\n",
              "        vertical-align: middle;\n",
              "    }\n",
              "\n",
              "    .dataframe tbody tr th {\n",
              "        vertical-align: top;\n",
              "    }\n",
              "\n",
              "    .dataframe thead th {\n",
              "        text-align: right;\n",
              "    }\n",
              "</style>\n",
              "<table border=\"1\" class=\"dataframe\">\n",
              "  <thead>\n",
              "    <tr style=\"text-align: right;\">\n",
              "      <th></th>\n",
              "      <th>price</th>\n",
              "      <th>registrationyear</th>\n",
              "      <th>power</th>\n",
              "      <th>kilometer</th>\n",
              "      <th>registrationmonth</th>\n",
              "      <th>postalcode</th>\n",
              "    </tr>\n",
              "  </thead>\n",
              "  <tbody>\n",
              "    <tr>\n",
              "      <th>count</th>\n",
              "      <td>354365.000000</td>\n",
              "      <td>354365.000000</td>\n",
              "      <td>354365.000000</td>\n",
              "      <td>354365.000000</td>\n",
              "      <td>354365.000000</td>\n",
              "      <td>354365.000000</td>\n",
              "    </tr>\n",
              "    <tr>\n",
              "      <th>mean</th>\n",
              "      <td>4416.679830</td>\n",
              "      <td>2004.234481</td>\n",
              "      <td>110.093816</td>\n",
              "      <td>128211.363989</td>\n",
              "      <td>5.714650</td>\n",
              "      <td>50508.503800</td>\n",
              "    </tr>\n",
              "    <tr>\n",
              "      <th>std</th>\n",
              "      <td>4514.176349</td>\n",
              "      <td>90.228466</td>\n",
              "      <td>189.851330</td>\n",
              "      <td>37905.083858</td>\n",
              "      <td>3.726432</td>\n",
              "      <td>25783.100078</td>\n",
              "    </tr>\n",
              "    <tr>\n",
              "      <th>min</th>\n",
              "      <td>0.000000</td>\n",
              "      <td>1000.000000</td>\n",
              "      <td>0.000000</td>\n",
              "      <td>5000.000000</td>\n",
              "      <td>0.000000</td>\n",
              "      <td>1067.000000</td>\n",
              "    </tr>\n",
              "    <tr>\n",
              "      <th>25%</th>\n",
              "      <td>1050.000000</td>\n",
              "      <td>1999.000000</td>\n",
              "      <td>69.000000</td>\n",
              "      <td>125000.000000</td>\n",
              "      <td>3.000000</td>\n",
              "      <td>30165.000000</td>\n",
              "    </tr>\n",
              "    <tr>\n",
              "      <th>50%</th>\n",
              "      <td>2700.000000</td>\n",
              "      <td>2003.000000</td>\n",
              "      <td>105.000000</td>\n",
              "      <td>150000.000000</td>\n",
              "      <td>6.000000</td>\n",
              "      <td>49413.000000</td>\n",
              "    </tr>\n",
              "    <tr>\n",
              "      <th>75%</th>\n",
              "      <td>6400.000000</td>\n",
              "      <td>2008.000000</td>\n",
              "      <td>143.000000</td>\n",
              "      <td>150000.000000</td>\n",
              "      <td>9.000000</td>\n",
              "      <td>71083.000000</td>\n",
              "    </tr>\n",
              "    <tr>\n",
              "      <th>max</th>\n",
              "      <td>20000.000000</td>\n",
              "      <td>9999.000000</td>\n",
              "      <td>20000.000000</td>\n",
              "      <td>150000.000000</td>\n",
              "      <td>12.000000</td>\n",
              "      <td>99998.000000</td>\n",
              "    </tr>\n",
              "  </tbody>\n",
              "</table>\n",
              "</div>\n",
              "    <div class=\"colab-df-buttons\">\n",
              "\n",
              "  <div class=\"colab-df-container\">\n",
              "    <button class=\"colab-df-convert\" onclick=\"convertToInteractive('df-334cd2ab-5488-46d4-815b-de8bd32a1740')\"\n",
              "            title=\"Convert this dataframe to an interactive table.\"\n",
              "            style=\"display:none;\">\n",
              "\n",
              "  <svg xmlns=\"http://www.w3.org/2000/svg\" height=\"24px\" viewBox=\"0 -960 960 960\">\n",
              "    <path d=\"M120-120v-720h720v720H120Zm60-500h600v-160H180v160Zm220 220h160v-160H400v160Zm0 220h160v-160H400v160ZM180-400h160v-160H180v160Zm440 0h160v-160H620v160ZM180-180h160v-160H180v160Zm440 0h160v-160H620v160Z\"/>\n",
              "  </svg>\n",
              "    </button>\n",
              "\n",
              "  <style>\n",
              "    .colab-df-container {\n",
              "      display:flex;\n",
              "      gap: 12px;\n",
              "    }\n",
              "\n",
              "    .colab-df-convert {\n",
              "      background-color: #E8F0FE;\n",
              "      border: none;\n",
              "      border-radius: 50%;\n",
              "      cursor: pointer;\n",
              "      display: none;\n",
              "      fill: #1967D2;\n",
              "      height: 32px;\n",
              "      padding: 0 0 0 0;\n",
              "      width: 32px;\n",
              "    }\n",
              "\n",
              "    .colab-df-convert:hover {\n",
              "      background-color: #E2EBFA;\n",
              "      box-shadow: 0px 1px 2px rgba(60, 64, 67, 0.3), 0px 1px 3px 1px rgba(60, 64, 67, 0.15);\n",
              "      fill: #174EA6;\n",
              "    }\n",
              "\n",
              "    .colab-df-buttons div {\n",
              "      margin-bottom: 4px;\n",
              "    }\n",
              "\n",
              "    [theme=dark] .colab-df-convert {\n",
              "      background-color: #3B4455;\n",
              "      fill: #D2E3FC;\n",
              "    }\n",
              "\n",
              "    [theme=dark] .colab-df-convert:hover {\n",
              "      background-color: #434B5C;\n",
              "      box-shadow: 0px 1px 3px 1px rgba(0, 0, 0, 0.15);\n",
              "      filter: drop-shadow(0px 1px 2px rgba(0, 0, 0, 0.3));\n",
              "      fill: #FFFFFF;\n",
              "    }\n",
              "  </style>\n",
              "\n",
              "    <script>\n",
              "      const buttonEl =\n",
              "        document.querySelector('#df-334cd2ab-5488-46d4-815b-de8bd32a1740 button.colab-df-convert');\n",
              "      buttonEl.style.display =\n",
              "        google.colab.kernel.accessAllowed ? 'block' : 'none';\n",
              "\n",
              "      async function convertToInteractive(key) {\n",
              "        const element = document.querySelector('#df-334cd2ab-5488-46d4-815b-de8bd32a1740');\n",
              "        const dataTable =\n",
              "          await google.colab.kernel.invokeFunction('convertToInteractive',\n",
              "                                                    [key], {});\n",
              "        if (!dataTable) return;\n",
              "\n",
              "        const docLinkHtml = 'Like what you see? Visit the ' +\n",
              "          '<a target=\"_blank\" href=https://colab.research.google.com/notebooks/data_table.ipynb>data table notebook</a>'\n",
              "          + ' to learn more about interactive tables.';\n",
              "        element.innerHTML = '';\n",
              "        dataTable['output_type'] = 'display_data';\n",
              "        await google.colab.output.renderOutput(dataTable, element);\n",
              "        const docLink = document.createElement('div');\n",
              "        docLink.innerHTML = docLinkHtml;\n",
              "        element.appendChild(docLink);\n",
              "      }\n",
              "    </script>\n",
              "  </div>\n",
              "\n",
              "\n",
              "<div id=\"df-08905001-b16b-4250-a755-c197d3c132c5\">\n",
              "  <button class=\"colab-df-quickchart\" onclick=\"quickchart('df-08905001-b16b-4250-a755-c197d3c132c5')\"\n",
              "            title=\"Suggest charts\"\n",
              "            style=\"display:none;\">\n",
              "\n",
              "<svg xmlns=\"http://www.w3.org/2000/svg\" height=\"24px\"viewBox=\"0 0 24 24\"\n",
              "     width=\"24px\">\n",
              "    <g>\n",
              "        <path d=\"M19 3H5c-1.1 0-2 .9-2 2v14c0 1.1.9 2 2 2h14c1.1 0 2-.9 2-2V5c0-1.1-.9-2-2-2zM9 17H7v-7h2v7zm4 0h-2V7h2v10zm4 0h-2v-4h2v4z\"/>\n",
              "    </g>\n",
              "</svg>\n",
              "  </button>\n",
              "\n",
              "<style>\n",
              "  .colab-df-quickchart {\n",
              "      --bg-color: #E8F0FE;\n",
              "      --fill-color: #1967D2;\n",
              "      --hover-bg-color: #E2EBFA;\n",
              "      --hover-fill-color: #174EA6;\n",
              "      --disabled-fill-color: #AAA;\n",
              "      --disabled-bg-color: #DDD;\n",
              "  }\n",
              "\n",
              "  [theme=dark] .colab-df-quickchart {\n",
              "      --bg-color: #3B4455;\n",
              "      --fill-color: #D2E3FC;\n",
              "      --hover-bg-color: #434B5C;\n",
              "      --hover-fill-color: #FFFFFF;\n",
              "      --disabled-bg-color: #3B4455;\n",
              "      --disabled-fill-color: #666;\n",
              "  }\n",
              "\n",
              "  .colab-df-quickchart {\n",
              "    background-color: var(--bg-color);\n",
              "    border: none;\n",
              "    border-radius: 50%;\n",
              "    cursor: pointer;\n",
              "    display: none;\n",
              "    fill: var(--fill-color);\n",
              "    height: 32px;\n",
              "    padding: 0;\n",
              "    width: 32px;\n",
              "  }\n",
              "\n",
              "  .colab-df-quickchart:hover {\n",
              "    background-color: var(--hover-bg-color);\n",
              "    box-shadow: 0 1px 2px rgba(60, 64, 67, 0.3), 0 1px 3px 1px rgba(60, 64, 67, 0.15);\n",
              "    fill: var(--button-hover-fill-color);\n",
              "  }\n",
              "\n",
              "  .colab-df-quickchart-complete:disabled,\n",
              "  .colab-df-quickchart-complete:disabled:hover {\n",
              "    background-color: var(--disabled-bg-color);\n",
              "    fill: var(--disabled-fill-color);\n",
              "    box-shadow: none;\n",
              "  }\n",
              "\n",
              "  .colab-df-spinner {\n",
              "    border: 2px solid var(--fill-color);\n",
              "    border-color: transparent;\n",
              "    border-bottom-color: var(--fill-color);\n",
              "    animation:\n",
              "      spin 1s steps(1) infinite;\n",
              "  }\n",
              "\n",
              "  @keyframes spin {\n",
              "    0% {\n",
              "      border-color: transparent;\n",
              "      border-bottom-color: var(--fill-color);\n",
              "      border-left-color: var(--fill-color);\n",
              "    }\n",
              "    20% {\n",
              "      border-color: transparent;\n",
              "      border-left-color: var(--fill-color);\n",
              "      border-top-color: var(--fill-color);\n",
              "    }\n",
              "    30% {\n",
              "      border-color: transparent;\n",
              "      border-left-color: var(--fill-color);\n",
              "      border-top-color: var(--fill-color);\n",
              "      border-right-color: var(--fill-color);\n",
              "    }\n",
              "    40% {\n",
              "      border-color: transparent;\n",
              "      border-right-color: var(--fill-color);\n",
              "      border-top-color: var(--fill-color);\n",
              "    }\n",
              "    60% {\n",
              "      border-color: transparent;\n",
              "      border-right-color: var(--fill-color);\n",
              "    }\n",
              "    80% {\n",
              "      border-color: transparent;\n",
              "      border-right-color: var(--fill-color);\n",
              "      border-bottom-color: var(--fill-color);\n",
              "    }\n",
              "    90% {\n",
              "      border-color: transparent;\n",
              "      border-bottom-color: var(--fill-color);\n",
              "    }\n",
              "  }\n",
              "</style>\n",
              "\n",
              "  <script>\n",
              "    async function quickchart(key) {\n",
              "      const quickchartButtonEl =\n",
              "        document.querySelector('#' + key + ' button');\n",
              "      quickchartButtonEl.disabled = true;  // To prevent multiple clicks.\n",
              "      quickchartButtonEl.classList.add('colab-df-spinner');\n",
              "      try {\n",
              "        const charts = await google.colab.kernel.invokeFunction(\n",
              "            'suggestCharts', [key], {});\n",
              "      } catch (error) {\n",
              "        console.error('Error during call to suggestCharts:', error);\n",
              "      }\n",
              "      quickchartButtonEl.classList.remove('colab-df-spinner');\n",
              "      quickchartButtonEl.classList.add('colab-df-quickchart-complete');\n",
              "    }\n",
              "    (() => {\n",
              "      let quickchartButtonEl =\n",
              "        document.querySelector('#df-08905001-b16b-4250-a755-c197d3c132c5 button');\n",
              "      quickchartButtonEl.style.display =\n",
              "        google.colab.kernel.accessAllowed ? 'block' : 'none';\n",
              "    })();\n",
              "  </script>\n",
              "</div>\n",
              "    </div>\n",
              "  </div>\n"
            ],
            "application/vnd.google.colaboratory.intrinsic+json": {
              "type": "dataframe",
              "summary": "{\n  \"name\": \"data\",\n  \"rows\": 8,\n  \"fields\": [\n    {\n      \"column\": \"price\",\n      \"properties\": {\n        \"dtype\": \"number\",\n        \"std\": 123469.97052827668,\n        \"min\": 0.0,\n        \"max\": 354365.0,\n        \"num_unique_values\": 8,\n        \"samples\": [\n          4416.679830118663,\n          2700.0,\n          354365.0\n        ],\n        \"semantic_type\": \"\",\n        \"description\": \"\"\n      }\n    },\n    {\n      \"column\": \"registrationyear\",\n      \"properties\": {\n        \"dtype\": \"number\",\n        \"std\": 124359.36508761292,\n        \"min\": 90.22846639444015,\n        \"max\": 354365.0,\n        \"num_unique_values\": 8,\n        \"samples\": [\n          2004.2344813963005,\n          2003.0,\n          354365.0\n        ],\n        \"semantic_type\": \"\",\n        \"description\": \"\"\n      }\n    },\n    {\n      \"column\": \"power\",\n      \"properties\": {\n        \"dtype\": \"number\",\n        \"std\": 124440.57975366055,\n        \"min\": 0.0,\n        \"max\": 354365.0,\n        \"num_unique_values\": 8,\n        \"samples\": [\n          110.09381569850295,\n          105.0,\n          354365.0\n        ],\n        \"semantic_type\": \"\",\n        \"description\": \"\"\n      }\n    },\n    {\n      \"column\": \"kilometer\",\n      \"properties\": {\n        \"dtype\": \"number\",\n        \"std\": 103659.52187766561,\n        \"min\": 5000.0,\n        \"max\": 354365.0,\n        \"num_unique_values\": 6,\n        \"samples\": [\n          354365.0,\n          128211.36398910728,\n          150000.0\n        ],\n        \"semantic_type\": \"\",\n        \"description\": \"\"\n      }\n    },\n    {\n      \"column\": \"registrationmonth\",\n      \"properties\": {\n        \"dtype\": \"number\",\n        \"std\": 125284.95523586743,\n        \"min\": 0.0,\n        \"max\": 354365.0,\n        \"num_unique_values\": 8,\n        \"samples\": [\n          5.7146501488578165,\n          6.0,\n          354365.0\n        ],\n        \"semantic_type\": \"\",\n        \"description\": \"\"\n      }\n    },\n    {\n      \"column\": \"postalcode\",\n      \"properties\": {\n        \"dtype\": \"number\",\n        \"std\": 112751.16809488877,\n        \"min\": 1067.0,\n        \"max\": 354365.0,\n        \"num_unique_values\": 8,\n        \"samples\": [\n          50508.50379975449,\n          49413.0,\n          354365.0\n        ],\n        \"semantic_type\": \"\",\n        \"description\": \"\"\n      }\n    }\n  ]\n}"
            }
          },
          "metadata": {},
          "execution_count": 19
        }
      ],
      "source": [
        "data.describe()"
      ]
    },
    {
      "cell_type": "code",
      "execution_count": 20,
      "metadata": {
        "id": "idgBfzeo9vTT"
      },
      "outputs": [],
      "source": [
        "data['gearbox'].fillna('unknown', inplace=True)"
      ]
    },
    {
      "cell_type": "code",
      "execution_count": 21,
      "metadata": {
        "id": "HhS6rcBU9vTT"
      },
      "outputs": [],
      "source": [
        "data['model'].fillna('unknown', inplace=True)"
      ]
    },
    {
      "cell_type": "code",
      "execution_count": 22,
      "metadata": {
        "id": "Z2u0hodw9vTT"
      },
      "outputs": [],
      "source": [
        "data['repaired'].fillna('unknown', inplace=True)"
      ]
    },
    {
      "cell_type": "code",
      "execution_count": 23,
      "metadata": {
        "scrolled": false,
        "id": "njKVYMZx9vTT",
        "outputId": "7949ec4c-5ec1-474a-fde3-2499f5d49b56",
        "colab": {
          "base_uri": "https://localhost:8080/",
          "height": 206
        }
      },
      "outputs": [
        {
          "output_type": "execute_result",
          "data": {
            "text/plain": [
              "          datecrawled  price vehicletype  registrationyear gearbox  power  \\\n",
              "0 2016-03-24 11:52:17    480       other              1993  manual      0   \n",
              "1 2016-03-24 10:58:45  18300       coupe              2011  manual    190   \n",
              "2 2016-03-14 12:52:21   9800         suv              2004    auto    163   \n",
              "3 2016-03-17 16:54:04   1500       small              2001  manual     75   \n",
              "4 2016-03-31 17:25:20   3600       small              2008  manual     69   \n",
              "\n",
              "     model  kilometer  registrationmonth  fueltype       brand repaired  \\\n",
              "0     golf     150000                  0    petrol  volkswagen  unknown   \n",
              "1  unknown     125000                  5  gasoline        audi      yes   \n",
              "2    grand     125000                  8  gasoline        jeep  unknown   \n",
              "3     golf     150000                  6    petrol  volkswagen       no   \n",
              "4    fabia      90000                  7  gasoline       skoda       no   \n",
              "\n",
              "   postalcode  \n",
              "0       70435  \n",
              "1       66954  \n",
              "2       90480  \n",
              "3       91074  \n",
              "4       60437  "
            ],
            "text/html": [
              "\n",
              "  <div id=\"df-edf4462d-a1af-411c-91ca-e3bcb98498fc\" class=\"colab-df-container\">\n",
              "    <div>\n",
              "<style scoped>\n",
              "    .dataframe tbody tr th:only-of-type {\n",
              "        vertical-align: middle;\n",
              "    }\n",
              "\n",
              "    .dataframe tbody tr th {\n",
              "        vertical-align: top;\n",
              "    }\n",
              "\n",
              "    .dataframe thead th {\n",
              "        text-align: right;\n",
              "    }\n",
              "</style>\n",
              "<table border=\"1\" class=\"dataframe\">\n",
              "  <thead>\n",
              "    <tr style=\"text-align: right;\">\n",
              "      <th></th>\n",
              "      <th>datecrawled</th>\n",
              "      <th>price</th>\n",
              "      <th>vehicletype</th>\n",
              "      <th>registrationyear</th>\n",
              "      <th>gearbox</th>\n",
              "      <th>power</th>\n",
              "      <th>model</th>\n",
              "      <th>kilometer</th>\n",
              "      <th>registrationmonth</th>\n",
              "      <th>fueltype</th>\n",
              "      <th>brand</th>\n",
              "      <th>repaired</th>\n",
              "      <th>postalcode</th>\n",
              "    </tr>\n",
              "  </thead>\n",
              "  <tbody>\n",
              "    <tr>\n",
              "      <th>0</th>\n",
              "      <td>2016-03-24 11:52:17</td>\n",
              "      <td>480</td>\n",
              "      <td>other</td>\n",
              "      <td>1993</td>\n",
              "      <td>manual</td>\n",
              "      <td>0</td>\n",
              "      <td>golf</td>\n",
              "      <td>150000</td>\n",
              "      <td>0</td>\n",
              "      <td>petrol</td>\n",
              "      <td>volkswagen</td>\n",
              "      <td>unknown</td>\n",
              "      <td>70435</td>\n",
              "    </tr>\n",
              "    <tr>\n",
              "      <th>1</th>\n",
              "      <td>2016-03-24 10:58:45</td>\n",
              "      <td>18300</td>\n",
              "      <td>coupe</td>\n",
              "      <td>2011</td>\n",
              "      <td>manual</td>\n",
              "      <td>190</td>\n",
              "      <td>unknown</td>\n",
              "      <td>125000</td>\n",
              "      <td>5</td>\n",
              "      <td>gasoline</td>\n",
              "      <td>audi</td>\n",
              "      <td>yes</td>\n",
              "      <td>66954</td>\n",
              "    </tr>\n",
              "    <tr>\n",
              "      <th>2</th>\n",
              "      <td>2016-03-14 12:52:21</td>\n",
              "      <td>9800</td>\n",
              "      <td>suv</td>\n",
              "      <td>2004</td>\n",
              "      <td>auto</td>\n",
              "      <td>163</td>\n",
              "      <td>grand</td>\n",
              "      <td>125000</td>\n",
              "      <td>8</td>\n",
              "      <td>gasoline</td>\n",
              "      <td>jeep</td>\n",
              "      <td>unknown</td>\n",
              "      <td>90480</td>\n",
              "    </tr>\n",
              "    <tr>\n",
              "      <th>3</th>\n",
              "      <td>2016-03-17 16:54:04</td>\n",
              "      <td>1500</td>\n",
              "      <td>small</td>\n",
              "      <td>2001</td>\n",
              "      <td>manual</td>\n",
              "      <td>75</td>\n",
              "      <td>golf</td>\n",
              "      <td>150000</td>\n",
              "      <td>6</td>\n",
              "      <td>petrol</td>\n",
              "      <td>volkswagen</td>\n",
              "      <td>no</td>\n",
              "      <td>91074</td>\n",
              "    </tr>\n",
              "    <tr>\n",
              "      <th>4</th>\n",
              "      <td>2016-03-31 17:25:20</td>\n",
              "      <td>3600</td>\n",
              "      <td>small</td>\n",
              "      <td>2008</td>\n",
              "      <td>manual</td>\n",
              "      <td>69</td>\n",
              "      <td>fabia</td>\n",
              "      <td>90000</td>\n",
              "      <td>7</td>\n",
              "      <td>gasoline</td>\n",
              "      <td>skoda</td>\n",
              "      <td>no</td>\n",
              "      <td>60437</td>\n",
              "    </tr>\n",
              "  </tbody>\n",
              "</table>\n",
              "</div>\n",
              "    <div class=\"colab-df-buttons\">\n",
              "\n",
              "  <div class=\"colab-df-container\">\n",
              "    <button class=\"colab-df-convert\" onclick=\"convertToInteractive('df-edf4462d-a1af-411c-91ca-e3bcb98498fc')\"\n",
              "            title=\"Convert this dataframe to an interactive table.\"\n",
              "            style=\"display:none;\">\n",
              "\n",
              "  <svg xmlns=\"http://www.w3.org/2000/svg\" height=\"24px\" viewBox=\"0 -960 960 960\">\n",
              "    <path d=\"M120-120v-720h720v720H120Zm60-500h600v-160H180v160Zm220 220h160v-160H400v160Zm0 220h160v-160H400v160ZM180-400h160v-160H180v160Zm440 0h160v-160H620v160ZM180-180h160v-160H180v160Zm440 0h160v-160H620v160Z\"/>\n",
              "  </svg>\n",
              "    </button>\n",
              "\n",
              "  <style>\n",
              "    .colab-df-container {\n",
              "      display:flex;\n",
              "      gap: 12px;\n",
              "    }\n",
              "\n",
              "    .colab-df-convert {\n",
              "      background-color: #E8F0FE;\n",
              "      border: none;\n",
              "      border-radius: 50%;\n",
              "      cursor: pointer;\n",
              "      display: none;\n",
              "      fill: #1967D2;\n",
              "      height: 32px;\n",
              "      padding: 0 0 0 0;\n",
              "      width: 32px;\n",
              "    }\n",
              "\n",
              "    .colab-df-convert:hover {\n",
              "      background-color: #E2EBFA;\n",
              "      box-shadow: 0px 1px 2px rgba(60, 64, 67, 0.3), 0px 1px 3px 1px rgba(60, 64, 67, 0.15);\n",
              "      fill: #174EA6;\n",
              "    }\n",
              "\n",
              "    .colab-df-buttons div {\n",
              "      margin-bottom: 4px;\n",
              "    }\n",
              "\n",
              "    [theme=dark] .colab-df-convert {\n",
              "      background-color: #3B4455;\n",
              "      fill: #D2E3FC;\n",
              "    }\n",
              "\n",
              "    [theme=dark] .colab-df-convert:hover {\n",
              "      background-color: #434B5C;\n",
              "      box-shadow: 0px 1px 3px 1px rgba(0, 0, 0, 0.15);\n",
              "      filter: drop-shadow(0px 1px 2px rgba(0, 0, 0, 0.3));\n",
              "      fill: #FFFFFF;\n",
              "    }\n",
              "  </style>\n",
              "\n",
              "    <script>\n",
              "      const buttonEl =\n",
              "        document.querySelector('#df-edf4462d-a1af-411c-91ca-e3bcb98498fc button.colab-df-convert');\n",
              "      buttonEl.style.display =\n",
              "        google.colab.kernel.accessAllowed ? 'block' : 'none';\n",
              "\n",
              "      async function convertToInteractive(key) {\n",
              "        const element = document.querySelector('#df-edf4462d-a1af-411c-91ca-e3bcb98498fc');\n",
              "        const dataTable =\n",
              "          await google.colab.kernel.invokeFunction('convertToInteractive',\n",
              "                                                    [key], {});\n",
              "        if (!dataTable) return;\n",
              "\n",
              "        const docLinkHtml = 'Like what you see? Visit the ' +\n",
              "          '<a target=\"_blank\" href=https://colab.research.google.com/notebooks/data_table.ipynb>data table notebook</a>'\n",
              "          + ' to learn more about interactive tables.';\n",
              "        element.innerHTML = '';\n",
              "        dataTable['output_type'] = 'display_data';\n",
              "        await google.colab.output.renderOutput(dataTable, element);\n",
              "        const docLink = document.createElement('div');\n",
              "        docLink.innerHTML = docLinkHtml;\n",
              "        element.appendChild(docLink);\n",
              "      }\n",
              "    </script>\n",
              "  </div>\n",
              "\n",
              "\n",
              "<div id=\"df-2b00425a-34e7-4c87-9b49-99d086d5018b\">\n",
              "  <button class=\"colab-df-quickchart\" onclick=\"quickchart('df-2b00425a-34e7-4c87-9b49-99d086d5018b')\"\n",
              "            title=\"Suggest charts\"\n",
              "            style=\"display:none;\">\n",
              "\n",
              "<svg xmlns=\"http://www.w3.org/2000/svg\" height=\"24px\"viewBox=\"0 0 24 24\"\n",
              "     width=\"24px\">\n",
              "    <g>\n",
              "        <path d=\"M19 3H5c-1.1 0-2 .9-2 2v14c0 1.1.9 2 2 2h14c1.1 0 2-.9 2-2V5c0-1.1-.9-2-2-2zM9 17H7v-7h2v7zm4 0h-2V7h2v10zm4 0h-2v-4h2v4z\"/>\n",
              "    </g>\n",
              "</svg>\n",
              "  </button>\n",
              "\n",
              "<style>\n",
              "  .colab-df-quickchart {\n",
              "      --bg-color: #E8F0FE;\n",
              "      --fill-color: #1967D2;\n",
              "      --hover-bg-color: #E2EBFA;\n",
              "      --hover-fill-color: #174EA6;\n",
              "      --disabled-fill-color: #AAA;\n",
              "      --disabled-bg-color: #DDD;\n",
              "  }\n",
              "\n",
              "  [theme=dark] .colab-df-quickchart {\n",
              "      --bg-color: #3B4455;\n",
              "      --fill-color: #D2E3FC;\n",
              "      --hover-bg-color: #434B5C;\n",
              "      --hover-fill-color: #FFFFFF;\n",
              "      --disabled-bg-color: #3B4455;\n",
              "      --disabled-fill-color: #666;\n",
              "  }\n",
              "\n",
              "  .colab-df-quickchart {\n",
              "    background-color: var(--bg-color);\n",
              "    border: none;\n",
              "    border-radius: 50%;\n",
              "    cursor: pointer;\n",
              "    display: none;\n",
              "    fill: var(--fill-color);\n",
              "    height: 32px;\n",
              "    padding: 0;\n",
              "    width: 32px;\n",
              "  }\n",
              "\n",
              "  .colab-df-quickchart:hover {\n",
              "    background-color: var(--hover-bg-color);\n",
              "    box-shadow: 0 1px 2px rgba(60, 64, 67, 0.3), 0 1px 3px 1px rgba(60, 64, 67, 0.15);\n",
              "    fill: var(--button-hover-fill-color);\n",
              "  }\n",
              "\n",
              "  .colab-df-quickchart-complete:disabled,\n",
              "  .colab-df-quickchart-complete:disabled:hover {\n",
              "    background-color: var(--disabled-bg-color);\n",
              "    fill: var(--disabled-fill-color);\n",
              "    box-shadow: none;\n",
              "  }\n",
              "\n",
              "  .colab-df-spinner {\n",
              "    border: 2px solid var(--fill-color);\n",
              "    border-color: transparent;\n",
              "    border-bottom-color: var(--fill-color);\n",
              "    animation:\n",
              "      spin 1s steps(1) infinite;\n",
              "  }\n",
              "\n",
              "  @keyframes spin {\n",
              "    0% {\n",
              "      border-color: transparent;\n",
              "      border-bottom-color: var(--fill-color);\n",
              "      border-left-color: var(--fill-color);\n",
              "    }\n",
              "    20% {\n",
              "      border-color: transparent;\n",
              "      border-left-color: var(--fill-color);\n",
              "      border-top-color: var(--fill-color);\n",
              "    }\n",
              "    30% {\n",
              "      border-color: transparent;\n",
              "      border-left-color: var(--fill-color);\n",
              "      border-top-color: var(--fill-color);\n",
              "      border-right-color: var(--fill-color);\n",
              "    }\n",
              "    40% {\n",
              "      border-color: transparent;\n",
              "      border-right-color: var(--fill-color);\n",
              "      border-top-color: var(--fill-color);\n",
              "    }\n",
              "    60% {\n",
              "      border-color: transparent;\n",
              "      border-right-color: var(--fill-color);\n",
              "    }\n",
              "    80% {\n",
              "      border-color: transparent;\n",
              "      border-right-color: var(--fill-color);\n",
              "      border-bottom-color: var(--fill-color);\n",
              "    }\n",
              "    90% {\n",
              "      border-color: transparent;\n",
              "      border-bottom-color: var(--fill-color);\n",
              "    }\n",
              "  }\n",
              "</style>\n",
              "\n",
              "  <script>\n",
              "    async function quickchart(key) {\n",
              "      const quickchartButtonEl =\n",
              "        document.querySelector('#' + key + ' button');\n",
              "      quickchartButtonEl.disabled = true;  // To prevent multiple clicks.\n",
              "      quickchartButtonEl.classList.add('colab-df-spinner');\n",
              "      try {\n",
              "        const charts = await google.colab.kernel.invokeFunction(\n",
              "            'suggestCharts', [key], {});\n",
              "      } catch (error) {\n",
              "        console.error('Error during call to suggestCharts:', error);\n",
              "      }\n",
              "      quickchartButtonEl.classList.remove('colab-df-spinner');\n",
              "      quickchartButtonEl.classList.add('colab-df-quickchart-complete');\n",
              "    }\n",
              "    (() => {\n",
              "      let quickchartButtonEl =\n",
              "        document.querySelector('#df-2b00425a-34e7-4c87-9b49-99d086d5018b button');\n",
              "      quickchartButtonEl.style.display =\n",
              "        google.colab.kernel.accessAllowed ? 'block' : 'none';\n",
              "    })();\n",
              "  </script>\n",
              "</div>\n",
              "    </div>\n",
              "  </div>\n"
            ],
            "application/vnd.google.colaboratory.intrinsic+json": {
              "type": "dataframe",
              "variable_name": "data"
            }
          },
          "metadata": {},
          "execution_count": 23
        }
      ],
      "source": [
        "data.head()"
      ]
    },
    {
      "cell_type": "code",
      "execution_count": 24,
      "metadata": {
        "scrolled": true,
        "id": "wc5QHf329vTT",
        "outputId": "ed90ca84-4b93-4ac9-b0eb-cb25a1560f58",
        "colab": {
          "base_uri": "https://localhost:8080/",
          "height": 300
        }
      },
      "outputs": [
        {
          "output_type": "execute_result",
          "data": {
            "text/plain": [
              "               price  registrationyear          power      kilometer  \\\n",
              "count  294457.000000      294457.00000  294457.000000  294457.000000   \n",
              "mean     4882.296858        2002.85097     120.744462  128302.689357   \n",
              "std      4608.957595           6.48418      53.447029   36695.275368   \n",
              "min       101.000000        1950.00000      11.000000    5000.000000   \n",
              "25%      1350.000000        1999.00000      77.000000  125000.000000   \n",
              "50%      3200.000000        2003.00000     111.000000  150000.000000   \n",
              "75%      6999.000000        2007.00000     150.000000  150000.000000   \n",
              "max     20000.000000        2016.00000     500.000000  150000.000000   \n",
              "\n",
              "       registrationmonth     postalcode  \n",
              "count      294457.000000  294457.000000  \n",
              "mean            6.002992   51246.025508  \n",
              "std             3.579086   25766.295744  \n",
              "min             0.000000    1067.000000  \n",
              "25%             3.000000   30938.000000  \n",
              "50%             6.000000   50259.000000  \n",
              "75%             9.000000   72108.000000  \n",
              "max            12.000000   99998.000000  "
            ],
            "text/html": [
              "\n",
              "  <div id=\"df-581179a6-0fd6-42e7-942b-a58387cca8d0\" class=\"colab-df-container\">\n",
              "    <div>\n",
              "<style scoped>\n",
              "    .dataframe tbody tr th:only-of-type {\n",
              "        vertical-align: middle;\n",
              "    }\n",
              "\n",
              "    .dataframe tbody tr th {\n",
              "        vertical-align: top;\n",
              "    }\n",
              "\n",
              "    .dataframe thead th {\n",
              "        text-align: right;\n",
              "    }\n",
              "</style>\n",
              "<table border=\"1\" class=\"dataframe\">\n",
              "  <thead>\n",
              "    <tr style=\"text-align: right;\">\n",
              "      <th></th>\n",
              "      <th>price</th>\n",
              "      <th>registrationyear</th>\n",
              "      <th>power</th>\n",
              "      <th>kilometer</th>\n",
              "      <th>registrationmonth</th>\n",
              "      <th>postalcode</th>\n",
              "    </tr>\n",
              "  </thead>\n",
              "  <tbody>\n",
              "    <tr>\n",
              "      <th>count</th>\n",
              "      <td>294457.000000</td>\n",
              "      <td>294457.00000</td>\n",
              "      <td>294457.000000</td>\n",
              "      <td>294457.000000</td>\n",
              "      <td>294457.000000</td>\n",
              "      <td>294457.000000</td>\n",
              "    </tr>\n",
              "    <tr>\n",
              "      <th>mean</th>\n",
              "      <td>4882.296858</td>\n",
              "      <td>2002.85097</td>\n",
              "      <td>120.744462</td>\n",
              "      <td>128302.689357</td>\n",
              "      <td>6.002992</td>\n",
              "      <td>51246.025508</td>\n",
              "    </tr>\n",
              "    <tr>\n",
              "      <th>std</th>\n",
              "      <td>4608.957595</td>\n",
              "      <td>6.48418</td>\n",
              "      <td>53.447029</td>\n",
              "      <td>36695.275368</td>\n",
              "      <td>3.579086</td>\n",
              "      <td>25766.295744</td>\n",
              "    </tr>\n",
              "    <tr>\n",
              "      <th>min</th>\n",
              "      <td>101.000000</td>\n",
              "      <td>1950.00000</td>\n",
              "      <td>11.000000</td>\n",
              "      <td>5000.000000</td>\n",
              "      <td>0.000000</td>\n",
              "      <td>1067.000000</td>\n",
              "    </tr>\n",
              "    <tr>\n",
              "      <th>25%</th>\n",
              "      <td>1350.000000</td>\n",
              "      <td>1999.00000</td>\n",
              "      <td>77.000000</td>\n",
              "      <td>125000.000000</td>\n",
              "      <td>3.000000</td>\n",
              "      <td>30938.000000</td>\n",
              "    </tr>\n",
              "    <tr>\n",
              "      <th>50%</th>\n",
              "      <td>3200.000000</td>\n",
              "      <td>2003.00000</td>\n",
              "      <td>111.000000</td>\n",
              "      <td>150000.000000</td>\n",
              "      <td>6.000000</td>\n",
              "      <td>50259.000000</td>\n",
              "    </tr>\n",
              "    <tr>\n",
              "      <th>75%</th>\n",
              "      <td>6999.000000</td>\n",
              "      <td>2007.00000</td>\n",
              "      <td>150.000000</td>\n",
              "      <td>150000.000000</td>\n",
              "      <td>9.000000</td>\n",
              "      <td>72108.000000</td>\n",
              "    </tr>\n",
              "    <tr>\n",
              "      <th>max</th>\n",
              "      <td>20000.000000</td>\n",
              "      <td>2016.00000</td>\n",
              "      <td>500.000000</td>\n",
              "      <td>150000.000000</td>\n",
              "      <td>12.000000</td>\n",
              "      <td>99998.000000</td>\n",
              "    </tr>\n",
              "  </tbody>\n",
              "</table>\n",
              "</div>\n",
              "    <div class=\"colab-df-buttons\">\n",
              "\n",
              "  <div class=\"colab-df-container\">\n",
              "    <button class=\"colab-df-convert\" onclick=\"convertToInteractive('df-581179a6-0fd6-42e7-942b-a58387cca8d0')\"\n",
              "            title=\"Convert this dataframe to an interactive table.\"\n",
              "            style=\"display:none;\">\n",
              "\n",
              "  <svg xmlns=\"http://www.w3.org/2000/svg\" height=\"24px\" viewBox=\"0 -960 960 960\">\n",
              "    <path d=\"M120-120v-720h720v720H120Zm60-500h600v-160H180v160Zm220 220h160v-160H400v160Zm0 220h160v-160H400v160ZM180-400h160v-160H180v160Zm440 0h160v-160H620v160ZM180-180h160v-160H180v160Zm440 0h160v-160H620v160Z\"/>\n",
              "  </svg>\n",
              "    </button>\n",
              "\n",
              "  <style>\n",
              "    .colab-df-container {\n",
              "      display:flex;\n",
              "      gap: 12px;\n",
              "    }\n",
              "\n",
              "    .colab-df-convert {\n",
              "      background-color: #E8F0FE;\n",
              "      border: none;\n",
              "      border-radius: 50%;\n",
              "      cursor: pointer;\n",
              "      display: none;\n",
              "      fill: #1967D2;\n",
              "      height: 32px;\n",
              "      padding: 0 0 0 0;\n",
              "      width: 32px;\n",
              "    }\n",
              "\n",
              "    .colab-df-convert:hover {\n",
              "      background-color: #E2EBFA;\n",
              "      box-shadow: 0px 1px 2px rgba(60, 64, 67, 0.3), 0px 1px 3px 1px rgba(60, 64, 67, 0.15);\n",
              "      fill: #174EA6;\n",
              "    }\n",
              "\n",
              "    .colab-df-buttons div {\n",
              "      margin-bottom: 4px;\n",
              "    }\n",
              "\n",
              "    [theme=dark] .colab-df-convert {\n",
              "      background-color: #3B4455;\n",
              "      fill: #D2E3FC;\n",
              "    }\n",
              "\n",
              "    [theme=dark] .colab-df-convert:hover {\n",
              "      background-color: #434B5C;\n",
              "      box-shadow: 0px 1px 3px 1px rgba(0, 0, 0, 0.15);\n",
              "      filter: drop-shadow(0px 1px 2px rgba(0, 0, 0, 0.3));\n",
              "      fill: #FFFFFF;\n",
              "    }\n",
              "  </style>\n",
              "\n",
              "    <script>\n",
              "      const buttonEl =\n",
              "        document.querySelector('#df-581179a6-0fd6-42e7-942b-a58387cca8d0 button.colab-df-convert');\n",
              "      buttonEl.style.display =\n",
              "        google.colab.kernel.accessAllowed ? 'block' : 'none';\n",
              "\n",
              "      async function convertToInteractive(key) {\n",
              "        const element = document.querySelector('#df-581179a6-0fd6-42e7-942b-a58387cca8d0');\n",
              "        const dataTable =\n",
              "          await google.colab.kernel.invokeFunction('convertToInteractive',\n",
              "                                                    [key], {});\n",
              "        if (!dataTable) return;\n",
              "\n",
              "        const docLinkHtml = 'Like what you see? Visit the ' +\n",
              "          '<a target=\"_blank\" href=https://colab.research.google.com/notebooks/data_table.ipynb>data table notebook</a>'\n",
              "          + ' to learn more about interactive tables.';\n",
              "        element.innerHTML = '';\n",
              "        dataTable['output_type'] = 'display_data';\n",
              "        await google.colab.output.renderOutput(dataTable, element);\n",
              "        const docLink = document.createElement('div');\n",
              "        docLink.innerHTML = docLinkHtml;\n",
              "        element.appendChild(docLink);\n",
              "      }\n",
              "    </script>\n",
              "  </div>\n",
              "\n",
              "\n",
              "<div id=\"df-b850de98-3828-4c88-b2e4-d7f159d89b15\">\n",
              "  <button class=\"colab-df-quickchart\" onclick=\"quickchart('df-b850de98-3828-4c88-b2e4-d7f159d89b15')\"\n",
              "            title=\"Suggest charts\"\n",
              "            style=\"display:none;\">\n",
              "\n",
              "<svg xmlns=\"http://www.w3.org/2000/svg\" height=\"24px\"viewBox=\"0 0 24 24\"\n",
              "     width=\"24px\">\n",
              "    <g>\n",
              "        <path d=\"M19 3H5c-1.1 0-2 .9-2 2v14c0 1.1.9 2 2 2h14c1.1 0 2-.9 2-2V5c0-1.1-.9-2-2-2zM9 17H7v-7h2v7zm4 0h-2V7h2v10zm4 0h-2v-4h2v4z\"/>\n",
              "    </g>\n",
              "</svg>\n",
              "  </button>\n",
              "\n",
              "<style>\n",
              "  .colab-df-quickchart {\n",
              "      --bg-color: #E8F0FE;\n",
              "      --fill-color: #1967D2;\n",
              "      --hover-bg-color: #E2EBFA;\n",
              "      --hover-fill-color: #174EA6;\n",
              "      --disabled-fill-color: #AAA;\n",
              "      --disabled-bg-color: #DDD;\n",
              "  }\n",
              "\n",
              "  [theme=dark] .colab-df-quickchart {\n",
              "      --bg-color: #3B4455;\n",
              "      --fill-color: #D2E3FC;\n",
              "      --hover-bg-color: #434B5C;\n",
              "      --hover-fill-color: #FFFFFF;\n",
              "      --disabled-bg-color: #3B4455;\n",
              "      --disabled-fill-color: #666;\n",
              "  }\n",
              "\n",
              "  .colab-df-quickchart {\n",
              "    background-color: var(--bg-color);\n",
              "    border: none;\n",
              "    border-radius: 50%;\n",
              "    cursor: pointer;\n",
              "    display: none;\n",
              "    fill: var(--fill-color);\n",
              "    height: 32px;\n",
              "    padding: 0;\n",
              "    width: 32px;\n",
              "  }\n",
              "\n",
              "  .colab-df-quickchart:hover {\n",
              "    background-color: var(--hover-bg-color);\n",
              "    box-shadow: 0 1px 2px rgba(60, 64, 67, 0.3), 0 1px 3px 1px rgba(60, 64, 67, 0.15);\n",
              "    fill: var(--button-hover-fill-color);\n",
              "  }\n",
              "\n",
              "  .colab-df-quickchart-complete:disabled,\n",
              "  .colab-df-quickchart-complete:disabled:hover {\n",
              "    background-color: var(--disabled-bg-color);\n",
              "    fill: var(--disabled-fill-color);\n",
              "    box-shadow: none;\n",
              "  }\n",
              "\n",
              "  .colab-df-spinner {\n",
              "    border: 2px solid var(--fill-color);\n",
              "    border-color: transparent;\n",
              "    border-bottom-color: var(--fill-color);\n",
              "    animation:\n",
              "      spin 1s steps(1) infinite;\n",
              "  }\n",
              "\n",
              "  @keyframes spin {\n",
              "    0% {\n",
              "      border-color: transparent;\n",
              "      border-bottom-color: var(--fill-color);\n",
              "      border-left-color: var(--fill-color);\n",
              "    }\n",
              "    20% {\n",
              "      border-color: transparent;\n",
              "      border-left-color: var(--fill-color);\n",
              "      border-top-color: var(--fill-color);\n",
              "    }\n",
              "    30% {\n",
              "      border-color: transparent;\n",
              "      border-left-color: var(--fill-color);\n",
              "      border-top-color: var(--fill-color);\n",
              "      border-right-color: var(--fill-color);\n",
              "    }\n",
              "    40% {\n",
              "      border-color: transparent;\n",
              "      border-right-color: var(--fill-color);\n",
              "      border-top-color: var(--fill-color);\n",
              "    }\n",
              "    60% {\n",
              "      border-color: transparent;\n",
              "      border-right-color: var(--fill-color);\n",
              "    }\n",
              "    80% {\n",
              "      border-color: transparent;\n",
              "      border-right-color: var(--fill-color);\n",
              "      border-bottom-color: var(--fill-color);\n",
              "    }\n",
              "    90% {\n",
              "      border-color: transparent;\n",
              "      border-bottom-color: var(--fill-color);\n",
              "    }\n",
              "  }\n",
              "</style>\n",
              "\n",
              "  <script>\n",
              "    async function quickchart(key) {\n",
              "      const quickchartButtonEl =\n",
              "        document.querySelector('#' + key + ' button');\n",
              "      quickchartButtonEl.disabled = true;  // To prevent multiple clicks.\n",
              "      quickchartButtonEl.classList.add('colab-df-spinner');\n",
              "      try {\n",
              "        const charts = await google.colab.kernel.invokeFunction(\n",
              "            'suggestCharts', [key], {});\n",
              "      } catch (error) {\n",
              "        console.error('Error during call to suggestCharts:', error);\n",
              "      }\n",
              "      quickchartButtonEl.classList.remove('colab-df-spinner');\n",
              "      quickchartButtonEl.classList.add('colab-df-quickchart-complete');\n",
              "    }\n",
              "    (() => {\n",
              "      let quickchartButtonEl =\n",
              "        document.querySelector('#df-b850de98-3828-4c88-b2e4-d7f159d89b15 button');\n",
              "      quickchartButtonEl.style.display =\n",
              "        google.colab.kernel.accessAllowed ? 'block' : 'none';\n",
              "    })();\n",
              "  </script>\n",
              "</div>\n",
              "    </div>\n",
              "  </div>\n"
            ],
            "application/vnd.google.colaboratory.intrinsic+json": {
              "type": "dataframe",
              "summary": "{\n  \"name\": \"data\",\n  \"rows\": 8,\n  \"fields\": [\n    {\n      \"column\": \"price\",\n      \"properties\": {\n        \"dtype\": \"number\",\n        \"std\": 102213.21504910976,\n        \"min\": 101.0,\n        \"max\": 294457.0,\n        \"num_unique_values\": 8,\n        \"samples\": [\n          4882.296858284911,\n          3200.0,\n          294457.0\n        ],\n        \"semantic_type\": \"\",\n        \"description\": \"\"\n      }\n    },\n    {\n      \"column\": \"registrationyear\",\n      \"properties\": {\n        \"dtype\": \"number\",\n        \"std\": 103503.31439277112,\n        \"min\": 6.484179798968219,\n        \"max\": 294457.0,\n        \"num_unique_values\": 8,\n        \"samples\": [\n          2002.8509697511013,\n          2003.0,\n          294457.0\n        ],\n        \"semantic_type\": \"\",\n        \"description\": \"\"\n      }\n    },\n    {\n      \"column\": \"power\",\n      \"properties\": {\n        \"dtype\": \"number\",\n        \"std\": 104054.70073157937,\n        \"min\": 11.0,\n        \"max\": 294457.0,\n        \"num_unique_values\": 8,\n        \"samples\": [\n          120.74446183992909,\n          111.0,\n          294457.0\n        ],\n        \"semantic_type\": \"\",\n        \"description\": \"\"\n      }\n    },\n    {\n      \"column\": \"kilometer\",\n      \"properties\": {\n        \"dtype\": \"number\",\n        \"std\": 86688.86913078009,\n        \"min\": 5000.0,\n        \"max\": 294457.0,\n        \"num_unique_values\": 6,\n        \"samples\": [\n          294457.0,\n          128302.68935701987,\n          150000.0\n        ],\n        \"semantic_type\": \"\",\n        \"description\": \"\"\n      }\n    },\n    {\n      \"column\": \"registrationmonth\",\n      \"properties\": {\n        \"dtype\": \"number\",\n        \"std\": 104104.27160230365,\n        \"min\": 0.0,\n        \"max\": 294457.0,\n        \"num_unique_values\": 8,\n        \"samples\": [\n          6.002991947890524,\n          6.0,\n          294457.0\n        ],\n        \"semantic_type\": \"\",\n        \"description\": \"\"\n      }\n    },\n    {\n      \"column\": \"postalcode\",\n      \"properties\": {\n        \"dtype\": \"number\",\n        \"std\": 92365.00114424486,\n        \"min\": 1067.0,\n        \"max\": 294457.0,\n        \"num_unique_values\": 8,\n        \"samples\": [\n          51246.02550796891,\n          50259.0,\n          294457.0\n        ],\n        \"semantic_type\": \"\",\n        \"description\": \"\"\n      }\n    }\n  ]\n}"
            }
          },
          "metadata": {},
          "execution_count": 24
        }
      ],
      "source": [
        "# Convert 'datecrawled' to datetime format\n",
        "data['datecrawled'] = pd.to_datetime(data['datecrawled'])\n",
        "\n",
        "# Determine the maximum and minimum year in 'datecrawled'\n",
        "max_year_crawled = data['datecrawled'].dt.year.max()\n",
        "\n",
        "\n",
        "# Data filtering to exclude unrealistic year of registration values\n",
        "data = data[(data['registrationyear'] >= 1950) & (data['registrationyear'] <= max_year_crawled)]\n",
        "\n",
        "\n",
        "# Removing cars with unrealistic prices\n",
        "data = data[(data['price'] > 100) & (data['price'] <= 20000)]\n",
        "\n",
        "# Removing entries with unrealistic cardinality\n",
        "data = data[(data['power'] > 10) & (data['power'] <= 500)]\n",
        "\n",
        "\n",
        "# Checking results\n",
        "data.describe()"
      ]
    },
    {
      "cell_type": "code",
      "execution_count": 25,
      "metadata": {
        "id": "03oHWFjS9vTT",
        "outputId": "c77c1bb6-872e-4d5c-edbc-9ab97ccf46bc",
        "colab": {
          "base_uri": "https://localhost:8080/"
        }
      },
      "outputs": [
        {
          "output_type": "stream",
          "name": "stdout",
          "text": [
            "<class 'pandas.core.frame.DataFrame'>\n",
            "Int64Index: 294457 entries, 1 to 354368\n",
            "Data columns (total 13 columns):\n",
            " #   Column             Non-Null Count   Dtype         \n",
            "---  ------             --------------   -----         \n",
            " 0   datecrawled        294457 non-null  datetime64[ns]\n",
            " 1   price              294457 non-null  int64         \n",
            " 2   vehicletype        294457 non-null  object        \n",
            " 3   registrationyear   294457 non-null  int64         \n",
            " 4   gearbox            294457 non-null  object        \n",
            " 5   power              294457 non-null  int64         \n",
            " 6   model              294457 non-null  object        \n",
            " 7   kilometer          294457 non-null  int64         \n",
            " 8   registrationmonth  294457 non-null  int64         \n",
            " 9   fueltype           294457 non-null  object        \n",
            " 10  brand              294457 non-null  object        \n",
            " 11  repaired           294457 non-null  object        \n",
            " 12  postalcode         294457 non-null  int64         \n",
            "dtypes: datetime64[ns](1), int64(6), object(6)\n",
            "memory usage: 31.5+ MB\n"
          ]
        }
      ],
      "source": [
        "data.info()"
      ]
    },
    {
      "cell_type": "code",
      "execution_count": 26,
      "metadata": {
        "scrolled": false,
        "id": "BU7oeCeU9vTT",
        "outputId": "c4a25925-4b85-40a7-8b5e-c706bd4b5ddc",
        "colab": {
          "base_uri": "https://localhost:8080/",
          "height": 1000
        }
      },
      "outputs": [
        {
          "output_type": "display_data",
          "data": {
            "text/plain": [
              "<Figure size 1000x400 with 1 Axes>"
            ],
            "image/png": "[encoded data removed]"
          },
          "metadata": {}
        },
        {
          "output_type": "display_data",
          "data": {
            "text/plain": [
              "<Figure size 1000x400 with 1 Axes>"
            ],
            "image/png": "[encoded data removed]"
          },
          "metadata": {}
        },
        {
          "output_type": "display_data",
          "data": {
            "text/plain": [
              "<Figure size 1000x400 with 1 Axes>"
            ],
            "image/png": "[encoded data removed]"
          },
          "metadata": {}
        },
        {
          "output_type": "display_data",
          "data": {
            "text/plain": [
              "<Figure size 1000x400 with 1 Axes>"
            ],
            "image/png": "[encoded data removed]"
          },
          "metadata": {}
        },
        {
          "output_type": "display_data",
          "data": {
            "text/plain": [
              "<Figure size 1000x400 with 1 Axes>"
            ],
            "image/png": "[encoded data removed]"
          },
          "metadata": {}
        },
        {
          "output_type": "display_data",
          "data": {
            "text/plain": [
              "<Figure size 1000x400 with 1 Axes>"
            ],
            "image/png": "[encoded data removed]"
          },
          "metadata": {}
        },
        {
          "output_type": "display_data",
          "data": {
            "text/plain": [
              "<Figure size 1000x400 with 1 Axes>"
            ],
            "image/png": "[encoded data removed]"
          },
          "metadata": {}
        },
        {
          "output_type": "display_data",
          "data": {
            "text/plain": [
              "<Figure size 1000x400 with 1 Axes>"
            ],
            "image/png": "[encoded data removed]"
          },
          "metadata": {}
        },
        {
          "output_type": "display_data",
          "data": {
            "text/plain": [
              "<Figure size 1000x400 with 1 Axes>"
            ],
            "image/png": "[encoded data removed]"
          },
          "metadata": {}
        },
        {
          "output_type": "display_data",
          "data": {
            "text/plain": [
              "<Figure size 1000x400 with 1 Axes>"
            ],
            "image/png": "[encoded data removed]"
          },
          "metadata": {}
        },
        {
          "output_type": "display_data",
          "data": {
            "text/plain": [
              "<Figure size 1000x400 with 1 Axes>"
            ],
            "image/png": "[encoded data removed]"
          },
          "metadata": {}
        },
        {
          "output_type": "display_data",
          "data": {
            "text/plain": [
              "<Figure size 1000x400 with 1 Axes>"
            ],
            "image/png": "[encoded data removed]"
          },
          "metadata": {}
        }
      ],
      "source": [
        "# Defining numeric and categorical columns\n",
        "numerical_cols = data.select_dtypes(include=['int64']).columns\n",
        "categorical_cols = data.select_dtypes(include=['object']).columns\n",
        "\n",
        "# Plotting graphs for numeric columns\n",
        "for col in numerical_cols:\n",
        "     plt.figure(figsize=(10, 4))\n",
        "     sns.histplot(data[col], kde=True)\n",
        "     plt.title(f'Distribution {col}')\n",
        "     plt.show()\n",
        "\n",
        "# Plotting categorical columns\n",
        "for col in categorical_cols:\n",
        "     plt.figure(figsize=(10, 4))\n",
        "     sns.countplot(y=data[col])\n",
        "     plt.title(f'Distribution {col}')\n",
        "     plt.show()\n"
      ]
    },
    {
      "cell_type": "markdown",
      "metadata": {
        "id": "tr6m5Ym49vTT"
      },
      "source": [
        "**Conclusion from the review and data analysis section:**\n",
        "A review of the data was conducted. 4 obvious duplicates were found and were removed. The columns 'datecrawled', 'datecreated', 'lastseen', 'numberofpictures' were removed as they were not informative for research purposes. There were a lot of missing data in the data, they were replaced with 'other' and 'unknown'. Removed anomalous values in 'registrationyear', 'price', 'power'."
      ]
    },
    {
      "cell_type": "markdown",
      "metadata": {
        "id": "4YmnLVJw9vTT"
      },
      "source": [
        "## Model training"
      ]
    },
    {
      "cell_type": "code",
      "execution_count": 27,
      "metadata": {
        "id": "-vjHY-BI9vTT"
      },
      "outputs": [],
      "source": [
        "RANDOM_STATE=123"
      ]
    },
    {
      "cell_type": "code",
      "execution_count": 28,
      "metadata": {
        "id": "zP-Te7D69vTT"
      },
      "outputs": [],
      "source": [
        "# Split data into features (X) and target (y), excluding 'datecrawled'\n",
        "X = data.drop(['price', 'datecrawled'], axis=1)\n",
        "y = data['price']\n",
        "\n",
        "# Define categorical and numeric columns\n",
        "categorical_cols = X.select_dtypes(include=['object']).columns\n",
        "numerical_cols = X.select_dtypes(exclude=['object', 'datetime']).columns\n",
        "\n",
        "# Dividing the data into training and testing samples\n",
        "X_train, X_test, y_train, y_test = train_test_split(X, y, test_size=0.2, random_state=RANDOM_STATE)\n",
        "\n",
        "# Creating a transformer with OneHotEncoder for categorical and StandardScaler for numeric features\n",
        "column_transformer = ColumnTransformer([\n",
        "     ('onehot', OneHotEncoder(handle_unknown='ignore'), categorical_cols),\n",
        "     ('scaler', StandardScaler(), numerical_cols)\n",
        "])\n",
        "\n",
        "# Applying transformation to the training set\n",
        "X_train= column_transformer.fit_transform(X_train)\n",
        "\n",
        "# Apply transformation to test sample\n",
        "X_test= column_transformer.transform(X_test)"
      ]
    },
    {
      "cell_type": "code",
      "execution_count": 29,
      "metadata": {
        "scrolled": true,
        "id": "Q9wN58bE9vTU",
        "outputId": "14257066-1705-45b6-e970-03845aeeb48f",
        "colab": {
          "base_uri": "https://localhost:8080/"
        }
      },
      "outputs": [
        {
          "output_type": "stream",
          "name": "stdout",
          "text": [
            "Fitting 3 folds for each of 1 candidates, totalling 3 fits\n",
            "CPU times: user 24min 11s, sys: 6.28 s, total: 24min 17s\n",
            "Wall time: 1h 1min 38s\n",
            "Best parameters: {'max_depth': 15, 'n_estimators': 100}\n"
          ]
        }
      ],
      "source": [
        "\n",
        "# Defining parameters for GridSearchCV\n",
        "param_grid = {\n",
        "     'n_estimators': [100], #50 was tested, due to long-term speed the best value was left\n",
        "     'max_depth': [15] #5,10\n",
        "}\n",
        "\n",
        "# Model for selection\n",
        "rf_model = RandomForestRegressor(random_state=RANDOM_STATE)\n",
        "\n",
        "#GridSearchCV\n",
        "grid_search = GridSearchCV(estimator=rf_model, param_grid=param_grid, cv=3,\n",
        "                            scoring='neg_mean_squared_error', verbose=1, n_jobs=-1)\n",
        "\n",
        "# Run GridSearchCV\n",
        "%time grid_search.fit(X_train, y_train)\n",
        "\n",
        "# Best options\n",
        "best_params = grid_search.best_params_\n",
        "print(f'Best parameters: {best_params}')"
      ]
    },
    {
      "cell_type": "code",
      "execution_count": 30,
      "metadata": {
        "id": "FTYNJxYF9vTU",
        "outputId": "cd6e04ac-1f5f-43bd-d40d-d4f37744b78b",
        "colab": {
          "base_uri": "https://localhost:8080/",
          "height": 110
        }
      },
      "outputs": [
        {
          "output_type": "stream",
          "name": "stdout",
          "text": [
            "CPU times: user 24min, sys: 1.62 s, total: 24min 2s\n",
            "Wall time: 24min 7s\n"
          ]
        },
        {
          "output_type": "execute_result",
          "data": {
            "text/plain": [
              "RandomForestRegressor(max_depth=15, random_state=123)"
            ],
            "text/html": [
              "<style>#sk-container-id-1 {color: black;background-color: white;}#sk-container-id-1 pre{padding: 0;}#sk-container-id-1 div.sk-toggleable {background-color: white;}#sk-container-id-1 label.sk-toggleable__label {cursor: pointer;display: block;width: 100%;margin-bottom: 0;padding: 0.3em;box-sizing: border-box;text-align: center;}#sk-container-id-1 label.sk-toggleable__label-arrow:before {content: \"▸\";float: left;margin-right: 0.25em;color: #696969;}#sk-container-id-1 label.sk-toggleable__label-arrow:hover:before {color: black;}#sk-container-id-1 div.sk-estimator:hover label.sk-toggleable__label-arrow:before {color: black;}#sk-container-id-1 div.sk-toggleable__content {max-height: 0;max-width: 0;overflow: hidden;text-align: left;background-color: #f0f8ff;}#sk-container-id-1 div.sk-toggleable__content pre {margin: 0.2em;color: black;border-radius: 0.25em;background-color: #f0f8ff;}#sk-container-id-1 input.sk-toggleable__control:checked~div.sk-toggleable__content {max-height: 200px;max-width: 100%;overflow: auto;}#sk-container-id-1 input.sk-toggleable__control:checked~label.sk-toggleable__label-arrow:before {content: \"▾\";}#sk-container-id-1 div.sk-estimator input.sk-toggleable__control:checked~label.sk-toggleable__label {background-color: #d4ebff;}#sk-container-id-1 div.sk-label input.sk-toggleable__control:checked~label.sk-toggleable__label {background-color: #d4ebff;}#sk-container-id-1 input.sk-hidden--visually {border: 0;clip: rect(1px 1px 1px 1px);clip: rect(1px, 1px, 1px, 1px);height: 1px;margin: -1px;overflow: hidden;padding: 0;position: absolute;width: 1px;}#sk-container-id-1 div.sk-estimator {font-family: monospace;background-color: #f0f8ff;border: 1px dotted black;border-radius: 0.25em;box-sizing: border-box;margin-bottom: 0.5em;}#sk-container-id-1 div.sk-estimator:hover {background-color: #d4ebff;}#sk-container-id-1 div.sk-parallel-item::after {content: \"\";width: 100%;border-bottom: 1px solid gray;flex-grow: 1;}#sk-container-id-1 div.sk-label:hover label.sk-toggleable__label {background-color: #d4ebff;}#sk-container-id-1 div.sk-serial::before {content: \"\";position: absolute;border-left: 1px solid gray;box-sizing: border-box;top: 0;bottom: 0;left: 50%;z-index: 0;}#sk-container-id-1 div.sk-serial {display: flex;flex-direction: column;align-items: center;background-color: white;padding-right: 0.2em;padding-left: 0.2em;position: relative;}#sk-container-id-1 div.sk-item {position: relative;z-index: 1;}#sk-container-id-1 div.sk-parallel {display: flex;align-items: stretch;justify-content: center;background-color: white;position: relative;}#sk-container-id-1 div.sk-item::before, #sk-container-id-1 div.sk-parallel-item::before {content: \"\";position: absolute;border-left: 1px solid gray;box-sizing: border-box;top: 0;bottom: 0;left: 50%;z-index: -1;}#sk-container-id-1 div.sk-parallel-item {display: flex;flex-direction: column;z-index: 1;position: relative;background-color: white;}#sk-container-id-1 div.sk-parallel-item:first-child::after {align-self: flex-end;width: 50%;}#sk-container-id-1 div.sk-parallel-item:last-child::after {align-self: flex-start;width: 50%;}#sk-container-id-1 div.sk-parallel-item:only-child::after {width: 0;}#sk-container-id-1 div.sk-dashed-wrapped {border: 1px dashed gray;margin: 0 0.4em 0.5em 0.4em;box-sizing: border-box;padding-bottom: 0.4em;background-color: white;}#sk-container-id-1 div.sk-label label {font-family: monospace;font-weight: bold;display: inline-block;line-height: 1.2em;}#sk-container-id-1 div.sk-label-container {text-align: center;}#sk-container-id-1 div.sk-container {/* jupyter's `normalize.less` sets `[hidden] { display: none; }` but bootstrap.min.css set `[hidden] { display: none !important; }` so we also need the `!important` here to be able to override the default hidden behavior on the sphinx rendered scikit-learn.org. See: https://github.com/scikit-learn/scikit-learn/issues/21755 */display: inline-block !important;position: relative;}#sk-container-id-1 div.sk-text-repr-fallback {display: none;}</style><div id=\"sk-container-id-1\" class=\"sk-top-container\"><div class=\"sk-text-repr-fallback\"><pre>RandomForestRegressor(max_depth=15, random_state=123)</pre><b>In a Jupyter environment, please rerun this cell to show the HTML representation or trust the notebook. <br />On GitHub, the HTML representation is unable to render, please try loading this page with nbviewer.org.</b></div><div class=\"sk-container\" hidden><div class=\"sk-item\"><div class=\"sk-estimator sk-toggleable\"><input class=\"sk-toggleable__control sk-hidden--visually\" id=\"sk-estimator-id-1\" type=\"checkbox\" checked><label for=\"sk-estimator-id-1\" class=\"sk-toggleable__label sk-toggleable__label-arrow\">RandomForestRegressor</label><div class=\"sk-toggleable__content\"><pre>RandomForestRegressor(max_depth=15, random_state=123)</pre></div></div></div></div></div>"
            ]
          },
          "metadata": {},
          "execution_count": 30
        }
      ],
      "source": [
        "# Creating a model with the best parameters\n",
        "best_rf_model = RandomForestRegressor(random_state=RANDOM_STATE, **best_params)\n",
        "\n",
        "# Model training\n",
        "%time best_rf_model.fit(X_train, y_train)\n",
        "\n"
      ]
    },
    {
      "cell_type": "code",
      "execution_count": 31,
      "metadata": {
        "id": "jNZwK_an9vTU",
        "outputId": "7d5aa3fa-de3b-4631-c53c-1de54fefe801",
        "colab": {
          "base_uri": "https://localhost:8080/"
        }
      },
      "outputs": [
        {
          "output_type": "stream",
          "name": "stdout",
          "text": [
            "Time spent making predictions: 1.199817180633545 seconds\n",
            "RMSE of random forest with best parameters: 1629.7099946145954\n"
          ]
        }
      ],
      "source": [
        "# Start measuring time for prediction\n",
        "start_time = time.time()\n",
        "\n",
        "# Model prediction\n",
        "rf_predictions = best_rf_model.predict(X_test)\n",
        "\n",
        "# End of time measurement for prediction\n",
        "end_time = time.time()\n",
        "\n",
        "# Output the time spent on prediction\n",
        "print(f\"Time spent making predictions: {end_time - start_time} seconds\")\n",
        "\n",
        "# Model evaluation\n",
        "rf_rmse = np.sqrt(mean_squared_error(y_test, rf_predictions))\n",
        "print(f'RMSE of random forest with best parameters: {rf_rmse}')"
      ]
    },
    {
      "cell_type": "code",
      "execution_count": 32,
      "metadata": {
        "id": "xXNFkA3j9vTU",
        "outputId": "10e19a88-a911-4639-f411-f850abe84ad0",
        "colab": {
          "base_uri": "https://localhost:8080/"
        }
      },
      "outputs": [
        {
          "output_type": "stream",
          "name": "stdout",
          "text": [
            "Fitting 3 folds for each of 1 candidates, totalling 3 fits\n",
            "[LightGBM] [Warning] Accuracy may be bad since you didn't explicitly set num_leaves OR 2^max_depth > num_leaves. (num_leaves=31).\n",
            "[LightGBM] [Warning] Accuracy may be bad since you didn't explicitly set num_leaves OR 2^max_depth > num_leaves. (num_leaves=31).\n",
            "[LightGBM] [Info] Auto-choosing row-wise multi-threading, the overhead of testing was 0.034134 seconds.\n",
            "You can set `force_row_wise=true` to remove the overhead.\n",
            "And if memory is not enough, you can set `force_col_wise=true`.\n",
            "[LightGBM] [Info] Total Bins 1181\n",
            "[LightGBM] [Info] Number of data points in the train set: 235565, number of used features: 301\n",
            "[LightGBM] [Info] Start training from score 4885.264097\n",
            "Best parameters: {'learning_rate': 0.1, 'max_depth': 10, 'n_estimators': 100}\n",
            "Best parameters: {'learning_rate': 0.1, 'max_depth': 10, 'n_estimators': 100}\n",
            "Best RMSE: 1662.5722295504397\n"
          ]
        }
      ],
      "source": [
        "# Search options\n",
        "param_grid = {\n",
        "     'n_estimators': [100],\n",
        "     'max_depth': [10],#5\n",
        "     'learning_rate': [0.1],#0.01\n",
        "}\n",
        "\n",
        "# Model for selection\n",
        "model = LGBMRegressor(random_state=RANDOM_STATE)\n",
        "\n",
        "# Grid search\n",
        "grid_search = GridSearchCV(estimator=model, param_grid=param_grid,\n",
        "                            cv=3, scoring='neg_mean_squared_error', verbose=1, n_jobs=-1)\n",
        "\n",
        "grid_search.fit(X_train, y_train)\n",
        "# Getting the best parameters\n",
        "best_params = grid_search.best_params_\n",
        "print(f'Best parameters: {best_params}')\n",
        "best_rmse = np.sqrt(-grid_search.best_score_)\n",
        "print(f'Best parameters: {best_params}')\n",
        "print(f'Best RMSE: {best_rmse}')"
      ]
    },
    {
      "cell_type": "code",
      "execution_count": 33,
      "metadata": {
        "id": "9JQUYsCN9vTU",
        "outputId": "5f4ab9fb-3273-41e1-b1d6-46b6e0377fd6",
        "colab": {
          "base_uri": "https://localhost:8080/",
          "height": 253
        }
      },
      "outputs": [
        {
          "output_type": "stream",
          "name": "stdout",
          "text": [
            "[LightGBM] [Warning] Accuracy may be bad since you didn't explicitly set num_leaves OR 2^max_depth > num_leaves. (num_leaves=31).\n",
            "[LightGBM] [Warning] Accuracy may be bad since you didn't explicitly set num_leaves OR 2^max_depth > num_leaves. (num_leaves=31).\n",
            "[LightGBM] [Info] Auto-choosing row-wise multi-threading, the overhead of testing was 0.023240 seconds.\n",
            "You can set `force_row_wise=true` to remove the overhead.\n",
            "And if memory is not enough, you can set `force_col_wise=true`.\n",
            "[LightGBM] [Info] Total Bins 1181\n",
            "[LightGBM] [Info] Number of data points in the train set: 235565, number of used features: 301\n",
            "[LightGBM] [Info] Start training from score 4885.264097\n",
            "CPU times: user 2.51 s, sys: 15 ms, total: 2.52 s\n",
            "Wall time: 2.52 s\n"
          ]
        },
        {
          "output_type": "execute_result",
          "data": {
            "text/plain": [
              "LGBMRegressor(max_depth=10, random_state=123)"
            ],
            "text/html": [
              "<style>#sk-container-id-2 {color: black;background-color: white;}#sk-container-id-2 pre{padding: 0;}#sk-container-id-2 div.sk-toggleable {background-color: white;}#sk-container-id-2 label.sk-toggleable__label {cursor: pointer;display: block;width: 100%;margin-bottom: 0;padding: 0.3em;box-sizing: border-box;text-align: center;}#sk-container-id-2 label.sk-toggleable__label-arrow:before {content: \"▸\";float: left;margin-right: 0.25em;color: #696969;}#sk-container-id-2 label.sk-toggleable__label-arrow:hover:before {color: black;}#sk-container-id-2 div.sk-estimator:hover label.sk-toggleable__label-arrow:before {color: black;}#sk-container-id-2 div.sk-toggleable__content {max-height: 0;max-width: 0;overflow: hidden;text-align: left;background-color: #f0f8ff;}#sk-container-id-2 div.sk-toggleable__content pre {margin: 0.2em;color: black;border-radius: 0.25em;background-color: #f0f8ff;}#sk-container-id-2 input.sk-toggleable__control:checked~div.sk-toggleable__content {max-height: 200px;max-width: 100%;overflow: auto;}#sk-container-id-2 input.sk-toggleable__control:checked~label.sk-toggleable__label-arrow:before {content: \"▾\";}#sk-container-id-2 div.sk-estimator input.sk-toggleable__control:checked~label.sk-toggleable__label {background-color: #d4ebff;}#sk-container-id-2 div.sk-label input.sk-toggleable__control:checked~label.sk-toggleable__label {background-color: #d4ebff;}#sk-container-id-2 input.sk-hidden--visually {border: 0;clip: rect(1px 1px 1px 1px);clip: rect(1px, 1px, 1px, 1px);height: 1px;margin: -1px;overflow: hidden;padding: 0;position: absolute;width: 1px;}#sk-container-id-2 div.sk-estimator {font-family: monospace;background-color: #f0f8ff;border: 1px dotted black;border-radius: 0.25em;box-sizing: border-box;margin-bottom: 0.5em;}#sk-container-id-2 div.sk-estimator:hover {background-color: #d4ebff;}#sk-container-id-2 div.sk-parallel-item::after {content: \"\";width: 100%;border-bottom: 1px solid gray;flex-grow: 1;}#sk-container-id-2 div.sk-label:hover label.sk-toggleable__label {background-color: #d4ebff;}#sk-container-id-2 div.sk-serial::before {content: \"\";position: absolute;border-left: 1px solid gray;box-sizing: border-box;top: 0;bottom: 0;left: 50%;z-index: 0;}#sk-container-id-2 div.sk-serial {display: flex;flex-direction: column;align-items: center;background-color: white;padding-right: 0.2em;padding-left: 0.2em;position: relative;}#sk-container-id-2 div.sk-item {position: relative;z-index: 1;}#sk-container-id-2 div.sk-parallel {display: flex;align-items: stretch;justify-content: center;background-color: white;position: relative;}#sk-container-id-2 div.sk-item::before, #sk-container-id-2 div.sk-parallel-item::before {content: \"\";position: absolute;border-left: 1px solid gray;box-sizing: border-box;top: 0;bottom: 0;left: 50%;z-index: -1;}#sk-container-id-2 div.sk-parallel-item {display: flex;flex-direction: column;z-index: 1;position: relative;background-color: white;}#sk-container-id-2 div.sk-parallel-item:first-child::after {align-self: flex-end;width: 50%;}#sk-container-id-2 div.sk-parallel-item:last-child::after {align-self: flex-start;width: 50%;}#sk-container-id-2 div.sk-parallel-item:only-child::after {width: 0;}#sk-container-id-2 div.sk-dashed-wrapped {border: 1px dashed gray;margin: 0 0.4em 0.5em 0.4em;box-sizing: border-box;padding-bottom: 0.4em;background-color: white;}#sk-container-id-2 div.sk-label label {font-family: monospace;font-weight: bold;display: inline-block;line-height: 1.2em;}#sk-container-id-2 div.sk-label-container {text-align: center;}#sk-container-id-2 div.sk-container {/* jupyter's `normalize.less` sets `[hidden] { display: none; }` but bootstrap.min.css set `[hidden] { display: none !important; }` so we also need the `!important` here to be able to override the default hidden behavior on the sphinx rendered scikit-learn.org. See: https://github.com/scikit-learn/scikit-learn/issues/21755 */display: inline-block !important;position: relative;}#sk-container-id-2 div.sk-text-repr-fallback {display: none;}</style><div id=\"sk-container-id-2\" class=\"sk-top-container\"><div class=\"sk-text-repr-fallback\"><pre>LGBMRegressor(max_depth=10, random_state=123)</pre><b>In a Jupyter environment, please rerun this cell to show the HTML representation or trust the notebook. <br />On GitHub, the HTML representation is unable to render, please try loading this page with nbviewer.org.</b></div><div class=\"sk-container\" hidden><div class=\"sk-item\"><div class=\"sk-estimator sk-toggleable\"><input class=\"sk-toggleable__control sk-hidden--visually\" id=\"sk-estimator-id-2\" type=\"checkbox\" checked><label for=\"sk-estimator-id-2\" class=\"sk-toggleable__label sk-toggleable__label-arrow\">LGBMRegressor</label><div class=\"sk-toggleable__content\"><pre>LGBMRegressor(max_depth=10, random_state=123)</pre></div></div></div></div></div>"
            ]
          },
          "metadata": {},
          "execution_count": 33
        }
      ],
      "source": [
        "# Creating a model with the best parameters\n",
        "best_lgb_model = LGBMRegressor(random_state=123, **best_params)\n",
        "\n",
        "# Measuring model training time\n",
        "%time best_lgb_model.fit(X_train, y_train)"
      ]
    },
    {
      "cell_type": "code",
      "execution_count": 34,
      "metadata": {
        "scrolled": true,
        "id": "ur8PAqyK9vTU",
        "outputId": "25124ecf-77e4-4372-bb12-66c69dcef688",
        "colab": {
          "base_uri": "https://localhost:8080/"
        }
      },
      "outputs": [
        {
          "output_type": "stream",
          "name": "stdout",
          "text": [
            "[LightGBM] [Warning] Accuracy may be bad since you didn't explicitly set num_leaves OR 2^max_depth > num_leaves. (num_leaves=31).\n",
            "Time spent making predictions: 0.43126988410949707 seconds\n",
            "RMSE with best parameters: 1654.87992516413\n"
          ]
        }
      ],
      "source": [
        "# Start measuring time for prediction\n",
        "start_time = time.time()\n",
        "\n",
        "# Model prediction\n",
        "predictions = best_lgb_model.predict(X_test)\n",
        "\n",
        "# End of time measurement for prediction\n",
        "end_time = time.time()\n",
        "\n",
        "# Output the time spent making predictions\n",
        "print(f\"Time spent making predictions: {end_time - start_time} seconds\")\n",
        "\n",
        "# Model evaluation\n",
        "rmse = np.sqrt(mean_squared_error(y_test, predictions))\n",
        "print(f'RMSE with best parameters: {rmse}')"
      ]
    },
    {
      "cell_type": "markdown",
      "metadata": {
        "id": "dbvVeM6g9vTV"
      },
      "source": [
        "## Model analysis"
      ]
    },
    {
      "cell_type": "markdown",
      "metadata": {
        "id": "8GR1w63y9vTV"
      },
      "source": [
        "Based on the presented results, the following conclusions can be drawn for the RandomForestRegressor and LightGBM models trained with optimized parameters:\n",
        "  \n",
        "\n",
        "**RandomForestRegressor model:**\n",
        "Training Time: The training took 18 minutes 51 seconds, which is quite a long time. This indicates the high computational burden associated with training the RandomForestRegressor with the specified parameters.\n",
        "Prediction Time: The time taken to make predictions was 0.858 seconds, which is relatively fast for the amount of data.\n",
        "RMSE: The model's RMSE was 1629.71, which indicates a fairly high accuracy of model predictions.\n",
        "**Model LightGBM:**\n",
        "Training Time: The model took 27.6 seconds to train, which is significantly faster than RandomForestRegressor. This makes LightGBM a preferred choice in situations where learning speed is important.\n",
        "Prediction Time: The prediction time was 0.491 seconds, which is even faster than RandomForestRegressor.\n",
        "\n",
        "\n",
        "RMSE: The model's RMSE was 1654.88, which is slightly higher than RandomForestRegressor, but still shows good prediction accuracy.\n",
        "# **General conclusion:**\n",
        "\n",
        "RandomForestRegressor provides higher prediction accuracy (low RMSE) but requires significantly more training time and has a slightly higher prediction time.\n",
        "\n",
        "LightGBM shows slightly lower accuracy (higher RMSE) but significant learning and prediction speed benefits. This makes it the preferred choice in environments where processing time is critical and where a small loss in accuracy is acceptable.\n",
        "\n",
        "LightGBM is preferable for these customer requirements"
      ]
    },
    {
      "cell_type": "code",
      "execution_count": 34,
      "metadata": {
        "id": "Fd82cpeV9vTV"
      },
      "outputs": [],
      "source": []
    }
  ],
  "metadata": {
    "ExecuteTimeLog": [
      {
        "duration": 48,
        "start_time": "2023-11-25T19:08:13.538Z"
      },
      {
        "duration": 359,
        "start_time": "2023-11-25T19:08:17.196Z"
      },
      {
        "duration": 58,
        "start_time": "2023-11-25T19:08:17.640Z"
      },
      {
        "duration": 2921,
        "start_time": "2023-11-25T19:10:27.062Z"
      },
      {
        "duration": 17,
        "start_time": "2023-11-25T19:10:43.721Z"
      },
      {
        "duration": 14,
        "start_time": "2023-11-25T19:10:52.025Z"
      },
      {
        "duration": 133,
        "start_time": "2023-11-25T19:16:03.947Z"
      },
      {
        "duration": 7824,
        "start_time": "2023-11-25T19:17:07.065Z"
      },
      {
        "duration": 205,
        "start_time": "2023-11-25T19:25:26.818Z"
      },
      {
        "duration": 20,
        "start_time": "2023-11-25T19:29:20.383Z"
      },
      {
        "duration": 97,
        "start_time": "2023-11-25T19:29:32.361Z"
      },
      {
        "duration": 67,
        "start_time": "2023-11-25T19:32:07.640Z"
      },
      {
        "duration": 64,
        "start_time": "2023-11-25T19:32:33.099Z"
      },
      {
        "duration": 3,
        "start_time": "2023-11-25T19:33:17.878Z"
      },
      {
        "duration": 789,
        "start_time": "2023-11-25T19:33:18.256Z"
      },
      {
        "duration": 13,
        "start_time": "2023-11-25T19:33:19.047Z"
      },
      {
        "duration": 141,
        "start_time": "2023-11-25T19:33:19.061Z"
      },
      {
        "duration": 214,
        "start_time": "2023-11-25T19:33:19.483Z"
      },
      {
        "duration": 2,
        "start_time": "2023-11-25T19:33:20.141Z"
      },
      {
        "duration": 93,
        "start_time": "2023-11-25T19:33:20.723Z"
      },
      {
        "duration": 83,
        "start_time": "2023-11-25T19:33:23.417Z"
      },
      {
        "duration": 176,
        "start_time": "2023-11-25T19:38:45.084Z"
      },
      {
        "duration": 102,
        "start_time": "2023-11-25T19:38:54.896Z"
      },
      {
        "duration": 21,
        "start_time": "2023-11-25T19:47:51.023Z"
      },
      {
        "duration": 106,
        "start_time": "2023-11-25T19:47:54.441Z"
      },
      {
        "duration": 2,
        "start_time": "2023-11-25T19:52:09.456Z"
      },
      {
        "duration": 769,
        "start_time": "2023-11-25T19:52:09.875Z"
      },
      {
        "duration": 13,
        "start_time": "2023-11-25T19:52:10.645Z"
      },
      {
        "duration": 132,
        "start_time": "2023-11-25T19:52:12.837Z"
      },
      {
        "duration": 195,
        "start_time": "2023-11-25T19:52:19.636Z"
      },
      {
        "duration": 92,
        "start_time": "2023-11-25T19:52:24.425Z"
      },
      {
        "duration": 79,
        "start_time": "2023-11-25T19:52:33.024Z"
      },
      {
        "duration": 269,
        "start_time": "2023-11-25T19:52:50.437Z"
      },
      {
        "duration": 264,
        "start_time": "2023-11-25T19:53:09.725Z"
      },
      {
        "duration": 3,
        "start_time": "2023-11-25T19:53:22.759Z"
      },
      {
        "duration": 90,
        "start_time": "2023-11-25T19:53:23.189Z"
      },
      {
        "duration": 18,
        "start_time": "2023-11-25T19:53:46.835Z"
      },
      {
        "duration": 89,
        "start_time": "2023-11-25T19:53:49.776Z"
      },
      {
        "duration": 549,
        "start_time": "2023-11-25T19:55:05.100Z"
      },
      {
        "duration": 61067,
        "start_time": "2023-11-25T19:55:23.880Z"
      },
      {
        "duration": 0,
        "start_time": "2023-11-25T19:56:24.949Z"
      },
      {
        "duration": 3,
        "start_time": "2023-11-25T19:56:34.391Z"
      },
      {
        "duration": 747,
        "start_time": "2023-11-25T19:56:34.839Z"
      },
      {
        "duration": 13,
        "start_time": "2023-11-25T19:56:35.588Z"
      },
      {
        "duration": 140,
        "start_time": "2023-11-25T19:56:35.695Z"
      },
      {
        "duration": 249,
        "start_time": "2023-11-25T19:56:36.161Z"
      },
      {
        "duration": 17,
        "start_time": "2023-11-25T19:56:36.665Z"
      },
      {
        "duration": 100,
        "start_time": "2023-11-25T19:56:37.179Z"
      },
      {
        "duration": 64,
        "start_time": "2023-11-25T19:56:38.228Z"
      },
      {
        "duration": 247,
        "start_time": "2023-11-25T19:56:40.078Z"
      },
      {
        "duration": 284,
        "start_time": "2023-11-25T19:56:40.942Z"
      },
      {
        "duration": 2,
        "start_time": "2023-11-25T19:56:43.534Z"
      },
      {
        "duration": 92,
        "start_time": "2023-11-25T19:56:44.122Z"
      },
      {
        "duration": 18,
        "start_time": "2023-11-25T19:56:49.816Z"
      },
      {
        "duration": 28715,
        "start_time": "2023-11-25T19:56:50.525Z"
      },
      {
        "duration": 28788,
        "start_time": "2023-11-25T19:57:35.456Z"
      },
      {
        "duration": 2035,
        "start_time": "2023-11-25T20:02:12.141Z"
      },
      {
        "duration": 2244,
        "start_time": "2023-11-25T20:02:44.547Z"
      },
      {
        "duration": 2363,
        "start_time": "2023-11-25T20:02:57.852Z"
      },
      {
        "duration": 34,
        "start_time": "2023-11-25T20:04:30.701Z"
      },
      {
        "duration": 92,
        "start_time": "2023-11-25T20:04:39.015Z"
      },
      {
        "duration": 65,
        "start_time": "2023-11-25T20:11:43.236Z"
      },
      {
        "duration": 18,
        "start_time": "2023-11-25T20:14:29.402Z"
      },
      {
        "duration": 100,
        "start_time": "2023-11-25T20:14:36.195Z"
      },
      {
        "duration": 4,
        "start_time": "2023-11-25T20:14:59.905Z"
      },
      {
        "duration": 12,
        "start_time": "2023-11-25T20:15:14.941Z"
      },
      {
        "duration": 972,
        "start_time": "2023-11-25T20:19:56.043Z"
      },
      {
        "duration": 16,
        "start_time": "2023-11-25T20:20:07.552Z"
      },
      {
        "duration": 3,
        "start_time": "2023-11-25T20:20:27.015Z"
      },
      {
        "duration": 2,
        "start_time": "2023-11-25T20:20:31.304Z"
      },
      {
        "duration": 757,
        "start_time": "2023-11-25T20:20:31.517Z"
      },
      {
        "duration": 18,
        "start_time": "2023-11-25T20:20:32.277Z"
      },
      {
        "duration": 177,
        "start_time": "2023-11-25T20:20:32.296Z"
      },
      {
        "duration": 247,
        "start_time": "2023-11-25T20:20:32.476Z"
      },
      {
        "duration": 6,
        "start_time": "2023-11-25T20:20:32.725Z"
      },
      {
        "duration": 102,
        "start_time": "2023-11-25T20:20:32.733Z"
      },
      {
        "duration": 85,
        "start_time": "2023-11-25T20:20:32.961Z"
      },
      {
        "duration": 257,
        "start_time": "2023-11-25T20:20:33.096Z"
      },
      {
        "duration": 286,
        "start_time": "2023-11-25T20:20:33.355Z"
      },
      {
        "duration": 3,
        "start_time": "2023-11-25T20:20:33.642Z"
      },
      {
        "duration": 93,
        "start_time": "2023-11-25T20:20:33.701Z"
      },
      {
        "duration": 23,
        "start_time": "2023-11-25T20:20:33.901Z"
      },
      {
        "duration": 88175,
        "start_time": "2023-11-25T20:20:34.079Z"
      },
      {
        "duration": 2209,
        "start_time": "2023-11-25T20:22:02.256Z"
      },
      {
        "duration": 33,
        "start_time": "2023-11-25T20:22:04.466Z"
      },
      {
        "duration": 102,
        "start_time": "2023-11-25T20:22:04.501Z"
      },
      {
        "duration": 95,
        "start_time": "2023-11-25T20:22:04.604Z"
      },
      {
        "duration": 5,
        "start_time": "2023-11-25T20:22:04.703Z"
      },
      {
        "duration": 25,
        "start_time": "2023-11-25T20:22:04.709Z"
      },
      {
        "duration": 19,
        "start_time": "2023-11-25T20:22:04.736Z"
      },
      {
        "duration": 12,
        "start_time": "2023-11-25T20:22:04.757Z"
      },
      {
        "duration": 9,
        "start_time": "2023-11-25T20:22:04.772Z"
      },
      {
        "duration": 21,
        "start_time": "2023-11-25T20:24:05.566Z"
      },
      {
        "duration": 938,
        "start_time": "2023-11-25T20:24:10.604Z"
      },
      {
        "duration": 907,
        "start_time": "2023-11-25T20:24:23.927Z"
      },
      {
        "duration": 31,
        "start_time": "2023-11-25T20:24:37.451Z"
      },
      {
        "duration": 94,
        "start_time": "2023-11-25T20:25:29.227Z"
      },
      {
        "duration": 78868,
        "start_time": "2023-11-25T20:29:05.305Z"
      },
      {
        "duration": 952,
        "start_time": "2023-11-25T20:36:51.324Z"
      },
      {
        "duration": 169,
        "start_time": "2023-11-25T20:37:28.805Z"
      },
      {
        "duration": 69,
        "start_time": "2023-11-25T20:37:41.348Z"
      },
      {
        "duration": 3,
        "start_time": "2023-11-25T20:40:32.686Z"
      },
      {
        "duration": 791,
        "start_time": "2023-11-25T20:40:33.185Z"
      },
      {
        "duration": 13,
        "start_time": "2023-11-25T20:40:33.977Z"
      },
      {
        "duration": 136,
        "start_time": "2023-11-25T20:40:36.513Z"
      },
      {
        "duration": 212,
        "start_time": "2023-11-25T20:40:45.471Z"
      },
      {
        "duration": 2,
        "start_time": "2023-11-25T20:40:46.307Z"
      },
      {
        "duration": 4,
        "start_time": "2023-11-25T20:40:48.493Z"
      },
      {
        "duration": 92,
        "start_time": "2023-11-25T20:40:49.205Z"
      },
      {
        "duration": 89,
        "start_time": "2023-11-25T20:40:51.243Z"
      },
      {
        "duration": 303,
        "start_time": "2023-11-25T20:40:53.814Z"
      },
      {
        "duration": 301,
        "start_time": "2023-11-25T20:40:56.500Z"
      },
      {
        "duration": 110,
        "start_time": "2023-11-25T20:41:00.041Z"
      },
      {
        "duration": 19,
        "start_time": "2023-11-25T20:41:32.015Z"
      },
      {
        "duration": 1080,
        "start_time": "2023-11-25T20:44:19.555Z"
      },
      {
        "duration": 879,
        "start_time": "2023-11-25T20:44:20.637Z"
      },
      {
        "duration": 20,
        "start_time": "2023-11-25T20:44:21.518Z"
      },
      {
        "duration": 151,
        "start_time": "2023-11-25T20:44:21.540Z"
      },
      {
        "duration": 285,
        "start_time": "2023-11-25T20:44:21.693Z"
      },
      {
        "duration": 2,
        "start_time": "2023-11-25T20:44:21.980Z"
      },
      {
        "duration": 6,
        "start_time": "2023-11-25T20:44:21.983Z"
      },
      {
        "duration": 108,
        "start_time": "2023-11-25T20:44:21.991Z"
      },
      {
        "duration": 100,
        "start_time": "2023-11-25T20:44:22.101Z"
      },
      {
        "duration": 287,
        "start_time": "2023-11-25T20:44:22.202Z"
      },
      {
        "duration": 322,
        "start_time": "2023-11-25T20:44:22.491Z"
      },
      {
        "duration": 3,
        "start_time": "2023-11-25T20:44:22.814Z"
      },
      {
        "duration": 106,
        "start_time": "2023-11-25T20:44:22.818Z"
      },
      {
        "duration": 26,
        "start_time": "2023-11-25T20:44:22.930Z"
      },
      {
        "duration": 1002,
        "start_time": "2023-11-25T20:44:22.957Z"
      },
      {
        "duration": 0,
        "start_time": "2023-11-25T20:44:23.961Z"
      },
      {
        "duration": 0,
        "start_time": "2023-11-25T20:44:23.961Z"
      },
      {
        "duration": 0,
        "start_time": "2023-11-25T20:44:23.963Z"
      },
      {
        "duration": 0,
        "start_time": "2023-11-25T20:44:23.963Z"
      },
      {
        "duration": 0,
        "start_time": "2023-11-25T20:44:23.964Z"
      },
      {
        "duration": 0,
        "start_time": "2023-11-25T20:44:23.965Z"
      },
      {
        "duration": 0,
        "start_time": "2023-11-25T20:44:23.967Z"
      },
      {
        "duration": 0,
        "start_time": "2023-11-25T20:44:23.968Z"
      },
      {
        "duration": 0,
        "start_time": "2023-11-25T20:44:23.969Z"
      },
      {
        "duration": 38,
        "start_time": "2023-11-25T20:44:53.781Z"
      },
      {
        "duration": 115,
        "start_time": "2023-11-25T20:44:54.949Z"
      },
      {
        "duration": 73,
        "start_time": "2023-11-25T20:44:58.117Z"
      },
      {
        "duration": 19,
        "start_time": "2023-11-25T20:45:02.271Z"
      },
      {
        "duration": 18,
        "start_time": "2023-11-25T20:45:02.827Z"
      },
      {
        "duration": 19,
        "start_time": "2023-11-25T20:45:03.381Z"
      },
      {
        "duration": 10,
        "start_time": "2023-11-25T20:45:04.063Z"
      },
      {
        "duration": 153,
        "start_time": "2023-11-25T20:45:10.182Z"
      },
      {
        "duration": 80,
        "start_time": "2023-11-25T20:45:43.871Z"
      },
      {
        "duration": 14030,
        "start_time": "2023-11-25T20:48:34.641Z"
      },
      {
        "duration": 124,
        "start_time": "2023-11-25T20:50:59.645Z"
      },
      {
        "duration": 117,
        "start_time": "2023-11-25T20:51:10.071Z"
      },
      {
        "duration": 1112,
        "start_time": "2023-11-25T20:51:37.028Z"
      },
      {
        "duration": 855,
        "start_time": "2023-11-25T20:51:38.142Z"
      },
      {
        "duration": 17,
        "start_time": "2023-11-25T20:51:38.998Z"
      },
      {
        "duration": 150,
        "start_time": "2023-11-25T20:51:39.016Z"
      },
      {
        "duration": 292,
        "start_time": "2023-11-25T20:51:39.169Z"
      },
      {
        "duration": 2,
        "start_time": "2023-11-25T20:51:39.462Z"
      },
      {
        "duration": 7,
        "start_time": "2023-11-25T20:51:39.466Z"
      },
      {
        "duration": 115,
        "start_time": "2023-11-25T20:51:39.475Z"
      },
      {
        "duration": 110,
        "start_time": "2023-11-25T20:51:39.592Z"
      },
      {
        "duration": 282,
        "start_time": "2023-11-25T20:51:39.704Z"
      },
      {
        "duration": 327,
        "start_time": "2023-11-25T20:51:39.988Z"
      },
      {
        "duration": 2,
        "start_time": "2023-11-25T20:51:40.317Z"
      },
      {
        "duration": 103,
        "start_time": "2023-11-25T20:51:40.321Z"
      },
      {
        "duration": 27,
        "start_time": "2023-11-25T20:51:40.430Z"
      },
      {
        "duration": 36,
        "start_time": "2023-11-25T20:51:40.458Z"
      },
      {
        "duration": 106,
        "start_time": "2023-11-25T20:51:40.495Z"
      },
      {
        "duration": 87,
        "start_time": "2023-11-25T20:51:40.603Z"
      },
      {
        "duration": 19,
        "start_time": "2023-11-25T20:51:40.691Z"
      },
      {
        "duration": 28,
        "start_time": "2023-11-25T20:51:40.711Z"
      },
      {
        "duration": 22,
        "start_time": "2023-11-25T20:51:40.740Z"
      },
      {
        "duration": 13,
        "start_time": "2023-11-25T20:51:40.764Z"
      },
      {
        "duration": 152,
        "start_time": "2023-11-25T20:51:40.779Z"
      },
      {
        "duration": 83,
        "start_time": "2023-11-25T20:51:40.933Z"
      },
      {
        "duration": 14288,
        "start_time": "2023-11-25T20:51:41.018Z"
      },
      {
        "duration": 99,
        "start_time": "2023-11-25T20:51:55.308Z"
      },
      {
        "duration": 1062,
        "start_time": "2023-11-25T20:52:23.368Z"
      },
      {
        "duration": 864,
        "start_time": "2023-11-25T20:52:24.432Z"
      },
      {
        "duration": 16,
        "start_time": "2023-11-25T20:52:25.298Z"
      },
      {
        "duration": 141,
        "start_time": "2023-11-25T20:52:25.315Z"
      },
      {
        "duration": 283,
        "start_time": "2023-11-25T20:52:25.458Z"
      },
      {
        "duration": 3,
        "start_time": "2023-11-25T20:52:25.742Z"
      },
      {
        "duration": 7,
        "start_time": "2023-11-25T20:52:25.746Z"
      },
      {
        "duration": 100,
        "start_time": "2023-11-25T20:52:25.755Z"
      },
      {
        "duration": 97,
        "start_time": "2023-11-25T20:52:25.857Z"
      },
      {
        "duration": 293,
        "start_time": "2023-11-25T20:52:25.955Z"
      },
      {
        "duration": 322,
        "start_time": "2023-11-25T20:52:26.249Z"
      },
      {
        "duration": 2,
        "start_time": "2023-11-25T20:52:26.573Z"
      },
      {
        "duration": 103,
        "start_time": "2023-11-25T20:52:26.576Z"
      },
      {
        "duration": 26,
        "start_time": "2023-11-25T20:52:26.682Z"
      },
      {
        "duration": 48,
        "start_time": "2023-11-25T20:52:26.709Z"
      },
      {
        "duration": 93,
        "start_time": "2023-11-25T20:52:26.758Z"
      },
      {
        "duration": 82,
        "start_time": "2023-11-25T20:52:26.852Z"
      },
      {
        "duration": 17,
        "start_time": "2023-11-25T20:52:26.936Z"
      },
      {
        "duration": 27,
        "start_time": "2023-11-25T20:52:26.955Z"
      },
      {
        "duration": 24,
        "start_time": "2023-11-25T20:52:26.984Z"
      },
      {
        "duration": 23,
        "start_time": "2023-11-25T20:52:27.010Z"
      },
      {
        "duration": 167,
        "start_time": "2023-11-25T20:52:27.035Z"
      },
      {
        "duration": 88,
        "start_time": "2023-11-25T20:52:27.203Z"
      },
      {
        "duration": 13678,
        "start_time": "2023-11-25T20:52:27.292Z"
      },
      {
        "duration": 104,
        "start_time": "2023-11-25T20:52:40.972Z"
      },
      {
        "duration": 1059,
        "start_time": "2023-11-25T20:53:24.571Z"
      },
      {
        "duration": 844,
        "start_time": "2023-11-25T20:53:25.632Z"
      },
      {
        "duration": 16,
        "start_time": "2023-11-25T20:53:26.477Z"
      },
      {
        "duration": 189,
        "start_time": "2023-11-25T20:53:26.494Z"
      },
      {
        "duration": 291,
        "start_time": "2023-11-25T20:53:26.685Z"
      },
      {
        "duration": 3,
        "start_time": "2023-11-25T20:53:26.977Z"
      },
      {
        "duration": 7,
        "start_time": "2023-11-25T20:53:26.981Z"
      },
      {
        "duration": 107,
        "start_time": "2023-11-25T20:53:26.989Z"
      },
      {
        "duration": 99,
        "start_time": "2023-11-25T20:53:27.098Z"
      },
      {
        "duration": 290,
        "start_time": "2023-11-25T20:53:27.199Z"
      },
      {
        "duration": 330,
        "start_time": "2023-11-25T20:53:27.491Z"
      },
      {
        "duration": 3,
        "start_time": "2023-11-25T20:53:27.823Z"
      },
      {
        "duration": 107,
        "start_time": "2023-11-25T20:53:27.827Z"
      },
      {
        "duration": 27,
        "start_time": "2023-11-25T20:53:27.938Z"
      },
      {
        "duration": 34,
        "start_time": "2023-11-25T20:53:27.967Z"
      },
      {
        "duration": 108,
        "start_time": "2023-11-25T20:53:28.002Z"
      },
      {
        "duration": 81,
        "start_time": "2023-11-25T20:53:28.112Z"
      },
      {
        "duration": 18,
        "start_time": "2023-11-25T20:53:28.195Z"
      },
      {
        "duration": 32,
        "start_time": "2023-11-25T20:53:28.215Z"
      },
      {
        "duration": 20,
        "start_time": "2023-11-25T20:53:28.249Z"
      },
      {
        "duration": 20,
        "start_time": "2023-11-25T20:53:28.271Z"
      },
      {
        "duration": 149,
        "start_time": "2023-11-25T20:53:28.292Z"
      },
      {
        "duration": 74,
        "start_time": "2023-11-25T20:53:28.442Z"
      },
      {
        "duration": 12732,
        "start_time": "2023-11-25T20:53:28.518Z"
      },
      {
        "duration": 107,
        "start_time": "2023-11-25T20:53:41.252Z"
      },
      {
        "duration": 1167,
        "start_time": "2023-11-25T20:54:30.756Z"
      },
      {
        "duration": 849,
        "start_time": "2023-11-25T20:54:31.924Z"
      },
      {
        "duration": 16,
        "start_time": "2023-11-25T20:54:32.774Z"
      },
      {
        "duration": 148,
        "start_time": "2023-11-25T20:54:32.791Z"
      },
      {
        "duration": 282,
        "start_time": "2023-11-25T20:54:32.940Z"
      },
      {
        "duration": 2,
        "start_time": "2023-11-25T20:54:33.224Z"
      },
      {
        "duration": 7,
        "start_time": "2023-11-25T20:54:33.227Z"
      },
      {
        "duration": 101,
        "start_time": "2023-11-25T20:54:33.236Z"
      },
      {
        "duration": 96,
        "start_time": "2023-11-25T20:54:33.339Z"
      },
      {
        "duration": 285,
        "start_time": "2023-11-25T20:54:33.437Z"
      },
      {
        "duration": 325,
        "start_time": "2023-11-25T20:54:33.724Z"
      },
      {
        "duration": 2,
        "start_time": "2023-11-25T20:54:34.051Z"
      },
      {
        "duration": 124,
        "start_time": "2023-11-25T20:54:34.054Z"
      },
      {
        "duration": 26,
        "start_time": "2023-11-25T20:54:34.180Z"
      },
      {
        "duration": 48,
        "start_time": "2023-11-25T20:54:34.208Z"
      },
      {
        "duration": 91,
        "start_time": "2023-11-25T20:54:34.258Z"
      },
      {
        "duration": 87,
        "start_time": "2023-11-25T20:54:34.351Z"
      },
      {
        "duration": 19,
        "start_time": "2023-11-25T20:54:34.439Z"
      },
      {
        "duration": 18,
        "start_time": "2023-11-25T20:54:34.459Z"
      },
      {
        "duration": 19,
        "start_time": "2023-11-25T20:54:34.478Z"
      },
      {
        "duration": 16,
        "start_time": "2023-11-25T20:54:34.498Z"
      },
      {
        "duration": 149,
        "start_time": "2023-11-25T20:54:34.530Z"
      },
      {
        "duration": 83,
        "start_time": "2023-11-25T20:54:34.681Z"
      },
      {
        "duration": 13692,
        "start_time": "2023-11-25T20:54:34.765Z"
      },
      {
        "duration": 105,
        "start_time": "2023-11-25T20:54:48.459Z"
      },
      {
        "duration": 1250,
        "start_time": "2023-11-26T12:00:53.783Z"
      },
      {
        "duration": 1056,
        "start_time": "2023-11-26T12:00:55.036Z"
      },
      {
        "duration": 16,
        "start_time": "2023-11-26T12:00:56.093Z"
      },
      {
        "duration": 145,
        "start_time": "2023-11-26T12:00:56.110Z"
      },
      {
        "duration": 308,
        "start_time": "2023-11-26T12:00:56.257Z"
      },
      {
        "duration": 2,
        "start_time": "2023-11-26T12:00:56.566Z"
      },
      {
        "duration": 8,
        "start_time": "2023-11-26T12:00:56.570Z"
      },
      {
        "duration": 103,
        "start_time": "2023-11-26T12:00:56.579Z"
      },
      {
        "duration": 89,
        "start_time": "2023-11-26T12:00:56.684Z"
      },
      {
        "duration": 267,
        "start_time": "2023-11-26T12:00:56.774Z"
      },
      {
        "duration": 302,
        "start_time": "2023-11-26T12:00:57.043Z"
      },
      {
        "duration": 6,
        "start_time": "2023-11-26T12:00:57.347Z"
      },
      {
        "duration": 110,
        "start_time": "2023-11-26T12:00:57.354Z"
      },
      {
        "duration": 23,
        "start_time": "2023-11-26T12:00:57.468Z"
      },
      {
        "duration": 33,
        "start_time": "2023-11-26T12:00:57.492Z"
      },
      {
        "duration": 107,
        "start_time": "2023-11-26T12:00:57.526Z"
      },
      {
        "duration": 80,
        "start_time": "2023-11-26T12:00:57.635Z"
      },
      {
        "duration": 19,
        "start_time": "2023-11-26T12:00:57.717Z"
      },
      {
        "duration": 20,
        "start_time": "2023-11-26T12:00:57.751Z"
      },
      {
        "duration": 22,
        "start_time": "2023-11-26T12:00:57.772Z"
      },
      {
        "duration": 10,
        "start_time": "2023-11-26T12:00:57.795Z"
      },
      {
        "duration": 146,
        "start_time": "2023-11-26T12:00:57.807Z"
      },
      {
        "duration": 97,
        "start_time": "2023-11-26T12:00:57.955Z"
      },
      {
        "duration": 13610,
        "start_time": "2023-11-26T12:00:58.053Z"
      },
      {
        "duration": 307,
        "start_time": "2023-11-26T12:45:46.663Z"
      },
      {
        "duration": 105,
        "start_time": "2023-11-26T12:46:17.839Z"
      },
      {
        "duration": 77,
        "start_time": "2023-11-26T12:46:32.476Z"
      },
      {
        "duration": 2,
        "start_time": "2023-11-26T12:47:09.921Z"
      },
      {
        "duration": 78,
        "start_time": "2023-11-26T12:47:11.701Z"
      },
      {
        "duration": 60,
        "start_time": "2023-11-26T12:49:37.846Z"
      },
      {
        "duration": 2,
        "start_time": "2023-11-26T12:49:57.589Z"
      },
      {
        "duration": 75,
        "start_time": "2023-11-26T12:49:57.986Z"
      },
      {
        "duration": 70,
        "start_time": "2023-11-26T12:50:36.094Z"
      },
      {
        "duration": 834,
        "start_time": "2023-11-26T12:55:07.406Z"
      },
      {
        "duration": 495974,
        "start_time": "2023-11-26T12:55:35.805Z"
      },
      {
        "duration": 10323,
        "start_time": "2023-11-26T13:04:49.137Z"
      },
      {
        "duration": 10,
        "start_time": "2023-11-26T13:04:59.462Z"
      },
      {
        "duration": 0,
        "start_time": "2023-11-26T13:04:59.473Z"
      },
      {
        "duration": 3,
        "start_time": "2023-11-26T13:07:18.695Z"
      },
      {
        "duration": 1363,
        "start_time": "2023-11-26T13:13:29.457Z"
      },
      {
        "duration": 839,
        "start_time": "2023-11-26T13:13:30.822Z"
      },
      {
        "duration": 15,
        "start_time": "2023-11-26T13:13:31.663Z"
      },
      {
        "duration": 153,
        "start_time": "2023-11-26T13:13:31.679Z"
      },
      {
        "duration": 273,
        "start_time": "2023-11-26T13:13:31.834Z"
      },
      {
        "duration": 3,
        "start_time": "2023-11-26T13:13:32.108Z"
      },
      {
        "duration": 25,
        "start_time": "2023-11-26T13:13:32.112Z"
      },
      {
        "duration": 128,
        "start_time": "2023-11-26T13:13:32.139Z"
      },
      {
        "duration": 90,
        "start_time": "2023-11-26T13:13:32.268Z"
      },
      {
        "duration": 273,
        "start_time": "2023-11-26T13:13:32.359Z"
      },
      {
        "duration": 296,
        "start_time": "2023-11-26T13:13:32.633Z"
      },
      {
        "duration": 2,
        "start_time": "2023-11-26T13:13:32.930Z"
      },
      {
        "duration": 101,
        "start_time": "2023-11-26T13:13:32.934Z"
      },
      {
        "duration": 32,
        "start_time": "2023-11-26T13:13:33.037Z"
      },
      {
        "duration": 42,
        "start_time": "2023-11-26T13:13:33.071Z"
      },
      {
        "duration": 100,
        "start_time": "2023-11-26T13:13:33.115Z"
      },
      {
        "duration": 82,
        "start_time": "2023-11-26T13:13:33.216Z"
      },
      {
        "duration": 17,
        "start_time": "2023-11-26T13:13:33.299Z"
      },
      {
        "duration": 21,
        "start_time": "2023-11-26T13:13:33.318Z"
      },
      {
        "duration": 28,
        "start_time": "2023-11-26T13:13:33.341Z"
      },
      {
        "duration": 20,
        "start_time": "2023-11-26T13:13:33.370Z"
      },
      {
        "duration": 152,
        "start_time": "2023-11-26T13:13:33.392Z"
      },
      {
        "duration": 91,
        "start_time": "2023-11-26T13:13:33.545Z"
      },
      {
        "duration": 13798,
        "start_time": "2023-11-26T13:13:33.637Z"
      },
      {
        "duration": 2,
        "start_time": "2023-11-26T13:13:47.437Z"
      },
      {
        "duration": 906,
        "start_time": "2023-11-26T13:13:47.441Z"
      },
      {
        "duration": 138553,
        "start_time": "2023-11-26T13:13:48.348Z"
      },
      {
        "duration": 0,
        "start_time": "2023-11-26T13:16:06.902Z"
      },
      {
        "duration": 0,
        "start_time": "2023-11-26T13:16:06.903Z"
      },
      {
        "duration": 0,
        "start_time": "2023-11-26T13:16:06.904Z"
      },
      {
        "duration": 76406,
        "start_time": "2023-11-26T13:16:41.128Z"
      },
      {
        "duration": 1354,
        "start_time": "2023-11-26T13:19:22.877Z"
      },
      {
        "duration": 825,
        "start_time": "2023-11-26T13:19:24.233Z"
      },
      {
        "duration": 23,
        "start_time": "2023-11-26T13:19:25.059Z"
      },
      {
        "duration": 199,
        "start_time": "2023-11-26T13:19:25.084Z"
      },
      {
        "duration": 261,
        "start_time": "2023-11-26T13:19:25.285Z"
      },
      {
        "duration": 5,
        "start_time": "2023-11-26T13:19:25.548Z"
      },
      {
        "duration": 5,
        "start_time": "2023-11-26T13:19:25.554Z"
      },
      {
        "duration": 113,
        "start_time": "2023-11-26T13:19:25.561Z"
      },
      {
        "duration": 95,
        "start_time": "2023-11-26T13:19:25.676Z"
      },
      {
        "duration": 277,
        "start_time": "2023-11-26T13:19:25.772Z"
      },
      {
        "duration": 305,
        "start_time": "2023-11-26T13:19:26.052Z"
      },
      {
        "duration": 3,
        "start_time": "2023-11-26T13:19:26.358Z"
      },
      {
        "duration": 105,
        "start_time": "2023-11-26T13:19:26.362Z"
      },
      {
        "duration": 25,
        "start_time": "2023-11-26T13:19:26.469Z"
      },
      {
        "duration": 64,
        "start_time": "2023-11-26T13:19:26.495Z"
      },
      {
        "duration": 99,
        "start_time": "2023-11-26T13:19:26.560Z"
      },
      {
        "duration": 73,
        "start_time": "2023-11-26T13:19:26.660Z"
      },
      {
        "duration": 36,
        "start_time": "2023-11-26T13:19:26.735Z"
      },
      {
        "duration": 19,
        "start_time": "2023-11-26T13:19:26.773Z"
      },
      {
        "duration": 27,
        "start_time": "2023-11-26T13:19:26.793Z"
      },
      {
        "duration": 20,
        "start_time": "2023-11-26T13:19:26.822Z"
      },
      {
        "duration": 128,
        "start_time": "2023-11-26T13:19:26.852Z"
      },
      {
        "duration": 86,
        "start_time": "2023-11-26T13:19:26.982Z"
      },
      {
        "duration": 14293,
        "start_time": "2023-11-26T13:19:27.070Z"
      },
      {
        "duration": 3,
        "start_time": "2023-11-26T13:19:41.364Z"
      },
      {
        "duration": 999,
        "start_time": "2023-11-26T13:19:41.368Z"
      },
      {
        "duration": 3195504,
        "start_time": "2023-11-26T13:19:42.369Z"
      },
      {
        "duration": 0,
        "start_time": "2023-11-26T14:12:57.875Z"
      },
      {
        "duration": 0,
        "start_time": "2023-11-26T14:12:57.876Z"
      },
      {
        "duration": 0,
        "start_time": "2023-11-26T14:12:57.877Z"
      },
      {
        "duration": 0,
        "start_time": "2023-11-26T14:12:57.878Z"
      },
      {
        "duration": 1374,
        "start_time": "2023-11-26T14:14:06.065Z"
      },
      {
        "duration": 789,
        "start_time": "2023-11-26T14:14:07.441Z"
      },
      {
        "duration": 21,
        "start_time": "2023-11-26T14:14:08.231Z"
      },
      {
        "duration": 154,
        "start_time": "2023-11-26T14:14:08.253Z"
      },
      {
        "duration": 294,
        "start_time": "2023-11-26T14:14:08.409Z"
      },
      {
        "duration": 2,
        "start_time": "2023-11-26T14:14:08.705Z"
      },
      {
        "duration": 7,
        "start_time": "2023-11-26T14:14:08.709Z"
      },
      {
        "duration": 108,
        "start_time": "2023-11-26T14:14:08.717Z"
      },
      {
        "duration": 104,
        "start_time": "2023-11-26T14:14:08.827Z"
      },
      {
        "duration": 286,
        "start_time": "2023-11-26T14:14:08.933Z"
      },
      {
        "duration": 304,
        "start_time": "2023-11-26T14:14:09.221Z"
      },
      {
        "duration": 3,
        "start_time": "2023-11-26T14:14:09.526Z"
      },
      {
        "duration": 110,
        "start_time": "2023-11-26T14:14:09.530Z"
      },
      {
        "duration": 29,
        "start_time": "2023-11-26T14:14:09.643Z"
      },
      {
        "duration": 35,
        "start_time": "2023-11-26T14:14:09.673Z"
      },
      {
        "duration": 106,
        "start_time": "2023-11-26T14:14:09.709Z"
      },
      {
        "duration": 87,
        "start_time": "2023-11-26T14:14:09.816Z"
      },
      {
        "duration": 20,
        "start_time": "2023-11-26T14:14:09.904Z"
      },
      {
        "duration": 27,
        "start_time": "2023-11-26T14:14:09.925Z"
      },
      {
        "duration": 19,
        "start_time": "2023-11-26T14:14:09.953Z"
      },
      {
        "duration": 10,
        "start_time": "2023-11-26T14:14:09.973Z"
      },
      {
        "duration": 141,
        "start_time": "2023-11-26T14:14:09.985Z"
      },
      {
        "duration": 89,
        "start_time": "2023-11-26T14:14:10.128Z"
      },
      {
        "duration": 13736,
        "start_time": "2023-11-26T14:14:10.219Z"
      },
      {
        "duration": 3,
        "start_time": "2023-11-26T14:14:23.956Z"
      },
      {
        "duration": 925,
        "start_time": "2023-11-26T14:14:23.960Z"
      },
      {
        "duration": 2613539,
        "start_time": "2023-11-26T14:14:24.887Z"
      },
      {
        "duration": 360849,
        "start_time": "2023-11-26T14:57:58.428Z"
      },
      {
        "duration": 151089,
        "start_time": "2023-11-26T15:03:59.278Z"
      },
      {
        "duration": 7995,
        "start_time": "2023-11-26T15:06:30.368Z"
      },
      {
        "duration": 707,
        "start_time": "2023-11-26T15:06:38.364Z"
      },
      {
        "duration": 106,
        "start_time": "2023-11-26T16:00:47.496Z"
      },
      {
        "duration": 1381,
        "start_time": "2023-11-26T16:02:12.531Z"
      },
      {
        "duration": 812,
        "start_time": "2023-11-26T16:02:13.914Z"
      },
      {
        "duration": 14,
        "start_time": "2023-11-26T16:02:14.728Z"
      },
      {
        "duration": 147,
        "start_time": "2023-11-26T16:02:14.743Z"
      },
      {
        "duration": 270,
        "start_time": "2023-11-26T16:02:14.893Z"
      },
      {
        "duration": 2,
        "start_time": "2023-11-26T16:02:15.165Z"
      },
      {
        "duration": 10,
        "start_time": "2023-11-26T16:02:15.169Z"
      },
      {
        "duration": 103,
        "start_time": "2023-11-26T16:02:15.180Z"
      },
      {
        "duration": 92,
        "start_time": "2023-11-26T16:02:15.285Z"
      },
      {
        "duration": 292,
        "start_time": "2023-11-26T16:02:15.379Z"
      },
      {
        "duration": 302,
        "start_time": "2023-11-26T16:02:15.672Z"
      },
      {
        "duration": 2,
        "start_time": "2023-11-26T16:02:15.976Z"
      },
      {
        "duration": 108,
        "start_time": "2023-11-26T16:02:15.979Z"
      },
      {
        "duration": 25,
        "start_time": "2023-11-26T16:02:16.090Z"
      },
      {
        "duration": 48,
        "start_time": "2023-11-26T16:02:16.117Z"
      },
      {
        "duration": 100,
        "start_time": "2023-11-26T16:02:16.166Z"
      },
      {
        "duration": 72,
        "start_time": "2023-11-26T16:02:16.267Z"
      },
      {
        "duration": 17,
        "start_time": "2023-11-26T16:02:16.352Z"
      },
      {
        "duration": 22,
        "start_time": "2023-11-26T16:02:16.370Z"
      },
      {
        "duration": 26,
        "start_time": "2023-11-26T16:02:16.393Z"
      },
      {
        "duration": 9,
        "start_time": "2023-11-26T16:02:16.420Z"
      },
      {
        "duration": 150,
        "start_time": "2023-11-26T16:02:16.430Z"
      },
      {
        "duration": 86,
        "start_time": "2023-11-26T16:02:16.582Z"
      },
      {
        "duration": 13639,
        "start_time": "2023-11-26T16:02:16.669Z"
      },
      {
        "duration": 3,
        "start_time": "2023-11-26T16:02:30.309Z"
      },
      {
        "duration": 939,
        "start_time": "2023-11-26T16:02:30.313Z"
      },
      {
        "duration": 1073767,
        "start_time": "2023-11-26T16:02:31.253Z"
      },
      {
        "duration": 374734,
        "start_time": "2023-11-26T16:20:25.021Z"
      },
      {
        "duration": 130,
        "start_time": "2023-11-26T16:26:39.757Z"
      },
      {
        "duration": 0,
        "start_time": "2023-11-26T16:26:39.888Z"
      },
      {
        "duration": 0,
        "start_time": "2023-11-26T16:26:39.889Z"
      },
      {
        "duration": 0,
        "start_time": "2023-11-26T16:26:39.890Z"
      },
      {
        "duration": 7,
        "start_time": "2023-11-26T16:28:27.863Z"
      },
      {
        "duration": 1186,
        "start_time": "2023-11-26T16:28:37.594Z"
      },
      {
        "duration": 281574,
        "start_time": "2023-11-26T16:28:42.392Z"
      },
      {
        "duration": 48592,
        "start_time": "2023-11-26T16:33:23.968Z"
      },
      {
        "duration": 705,
        "start_time": "2023-11-26T16:34:12.564Z"
      },
      {
        "duration": 120,
        "start_time": "2023-11-27T15:37:47.156Z"
      },
      {
        "duration": 1733,
        "start_time": "2023-11-27T17:35:59.579Z"
      },
      {
        "duration": 1176,
        "start_time": "2023-11-27T17:36:01.314Z"
      },
      {
        "duration": 18,
        "start_time": "2023-11-27T17:36:02.492Z"
      },
      {
        "duration": 162,
        "start_time": "2023-11-27T17:36:02.513Z"
      },
      {
        "duration": 296,
        "start_time": "2023-11-27T17:36:02.774Z"
      },
      {
        "duration": 2,
        "start_time": "2023-11-27T17:36:03.575Z"
      },
      {
        "duration": 4,
        "start_time": "2023-11-27T17:36:03.975Z"
      },
      {
        "duration": 135,
        "start_time": "2023-11-27T17:36:04.774Z"
      },
      {
        "duration": 97,
        "start_time": "2023-11-27T17:36:05.260Z"
      },
      {
        "duration": 308,
        "start_time": "2023-11-27T17:36:07.019Z"
      },
      {
        "duration": 332,
        "start_time": "2023-11-27T17:36:07.651Z"
      },
      {
        "duration": 106,
        "start_time": "2023-11-27T17:36:08.908Z"
      },
      {
        "duration": 4,
        "start_time": "2023-11-27T17:37:25.345Z"
      },
      {
        "duration": 865,
        "start_time": "2023-11-27T17:37:25.773Z"
      },
      {
        "duration": 14,
        "start_time": "2023-11-27T17:37:26.640Z"
      },
      {
        "duration": 158,
        "start_time": "2023-11-27T17:37:26.656Z"
      },
      {
        "duration": 214,
        "start_time": "2023-11-27T17:37:28.197Z"
      },
      {
        "duration": 2,
        "start_time": "2023-11-27T17:37:28.617Z"
      },
      {
        "duration": 4,
        "start_time": "2023-11-27T17:37:29.069Z"
      },
      {
        "duration": 104,
        "start_time": "2023-11-27T17:37:29.659Z"
      },
      {
        "duration": 97,
        "start_time": "2023-11-27T17:37:30.174Z"
      },
      {
        "duration": 290,
        "start_time": "2023-11-27T17:37:31.465Z"
      },
      {
        "duration": 296,
        "start_time": "2023-11-27T17:37:32.024Z"
      },
      {
        "duration": 104,
        "start_time": "2023-11-27T17:37:32.701Z"
      },
      {
        "duration": 19,
        "start_time": "2023-11-27T17:37:33.970Z"
      },
      {
        "duration": 38,
        "start_time": "2023-11-27T17:37:39.718Z"
      },
      {
        "duration": 9,
        "start_time": "2023-11-27T17:40:03.723Z"
      },
      {
        "duration": 833,
        "start_time": "2023-11-27T17:40:04.121Z"
      },
      {
        "duration": 13,
        "start_time": "2023-11-27T17:40:04.955Z"
      },
      {
        "duration": 162,
        "start_time": "2023-11-27T17:40:05.073Z"
      },
      {
        "duration": 226,
        "start_time": "2023-11-27T17:40:06.582Z"
      },
      {
        "duration": 2,
        "start_time": "2023-11-27T17:40:07.042Z"
      },
      {
        "duration": 4,
        "start_time": "2023-11-27T17:40:07.446Z"
      },
      {
        "duration": 109,
        "start_time": "2023-11-27T17:40:07.848Z"
      },
      {
        "duration": 92,
        "start_time": "2023-11-27T17:40:08.344Z"
      },
      {
        "duration": 270,
        "start_time": "2023-11-27T17:40:09.242Z"
      },
      {
        "duration": 282,
        "start_time": "2023-11-27T17:40:09.734Z"
      },
      {
        "duration": 106,
        "start_time": "2023-11-27T17:40:10.099Z"
      },
      {
        "duration": 23,
        "start_time": "2023-11-27T17:40:10.609Z"
      },
      {
        "duration": 37,
        "start_time": "2023-11-27T17:40:11.574Z"
      },
      {
        "duration": 107,
        "start_time": "2023-11-27T17:40:13.109Z"
      },
      {
        "duration": 81,
        "start_time": "2023-11-27T17:40:14.742Z"
      },
      {
        "duration": 21,
        "start_time": "2023-11-27T17:40:15.579Z"
      },
      {
        "duration": 20,
        "start_time": "2023-11-27T17:40:16.987Z"
      },
      {
        "duration": 23,
        "start_time": "2023-11-27T17:40:17.471Z"
      },
      {
        "duration": 13,
        "start_time": "2023-11-27T17:40:18.280Z"
      },
      {
        "duration": 4,
        "start_time": "2023-11-27T17:40:39.410Z"
      },
      {
        "duration": 181,
        "start_time": "2023-11-27T17:42:50.476Z"
      },
      {
        "duration": 84,
        "start_time": "2023-11-27T17:42:56.276Z"
      },
      {
        "duration": 14495,
        "start_time": "2023-11-27T17:43:36.805Z"
      },
      {
        "duration": 5,
        "start_time": "2023-11-27T17:45:55.954Z"
      },
      {
        "duration": 136,
        "start_time": "2023-11-27T17:48:12.501Z"
      },
      {
        "duration": 3,
        "start_time": "2023-11-27T17:48:15.764Z"
      },
      {
        "duration": 1304,
        "start_time": "2023-11-27T17:48:16.389Z"
      },
      {
        "duration": 114,
        "start_time": "2023-11-27T17:49:14.246Z"
      },
      {
        "duration": 119,
        "start_time": "2023-11-27T17:50:28.151Z"
      },
      {
        "duration": 4,
        "start_time": "2023-11-27T17:51:04.546Z"
      },
      {
        "duration": 1398,
        "start_time": "2023-11-27T17:51:14.397Z"
      },
      {
        "duration": 3,
        "start_time": "2023-11-27T17:52:42.579Z"
      },
      {
        "duration": 4,
        "start_time": "2023-11-27T17:53:49.837Z"
      },
      {
        "duration": 823,
        "start_time": "2023-11-27T17:53:50.297Z"
      },
      {
        "duration": 13,
        "start_time": "2023-11-27T17:53:51.121Z"
      },
      {
        "duration": 159,
        "start_time": "2023-11-27T17:53:51.135Z"
      },
      {
        "duration": 216,
        "start_time": "2023-11-27T17:53:51.521Z"
      },
      {
        "duration": 2,
        "start_time": "2023-11-27T17:53:51.747Z"
      },
      {
        "duration": 4,
        "start_time": "2023-11-27T17:53:51.972Z"
      },
      {
        "duration": 101,
        "start_time": "2023-11-27T17:53:52.260Z"
      },
      {
        "duration": 84,
        "start_time": "2023-11-27T17:53:52.455Z"
      },
      {
        "duration": 255,
        "start_time": "2023-11-27T17:53:52.980Z"
      },
      {
        "duration": 286,
        "start_time": "2023-11-27T17:53:53.381Z"
      },
      {
        "duration": 104,
        "start_time": "2023-11-27T17:53:53.822Z"
      },
      {
        "duration": 24,
        "start_time": "2023-11-27T17:53:54.693Z"
      },
      {
        "duration": 37,
        "start_time": "2023-11-27T17:53:56.099Z"
      },
      {
        "duration": 97,
        "start_time": "2023-11-27T17:53:58.243Z"
      },
      {
        "duration": 71,
        "start_time": "2023-11-27T17:53:58.858Z"
      },
      {
        "duration": 21,
        "start_time": "2023-11-27T17:54:00.609Z"
      },
      {
        "duration": 18,
        "start_time": "2023-11-27T17:54:01.375Z"
      },
      {
        "duration": 20,
        "start_time": "2023-11-27T17:54:02.074Z"
      },
      {
        "duration": 11,
        "start_time": "2023-11-27T17:54:02.827Z"
      },
      {
        "duration": 181,
        "start_time": "2023-11-27T17:54:05.882Z"
      },
      {
        "duration": 89,
        "start_time": "2023-11-27T17:54:07.161Z"
      },
      {
        "duration": 14430,
        "start_time": "2023-11-27T17:54:07.953Z"
      },
      {
        "duration": 2,
        "start_time": "2023-11-27T17:54:22.384Z"
      },
      {
        "duration": 562,
        "start_time": "2023-11-27T17:55:15.992Z"
      },
      {
        "duration": 678,
        "start_time": "2023-11-27T17:58:20.251Z"
      },
      {
        "duration": 3136328,
        "start_time": "2023-11-27T17:58:36.702Z"
      },
      {
        "duration": 1131232,
        "start_time": "2023-11-27T18:50:53.032Z"
      },
      {
        "duration": 865,
        "start_time": "2023-11-27T19:09:44.265Z"
      },
      {
        "duration": 112089,
        "start_time": "2023-11-27T19:09:45.133Z"
      },
      {
        "duration": 27607,
        "start_time": "2023-11-27T19:11:37.224Z"
      },
      {
        "duration": 502,
        "start_time": "2023-11-27T19:12:04.833Z"
      }
    ],
    "kernelspec": {
      "display_name": "Python 3 (ipykernel)",
      "language": "python",
      "name": "python3"
    },
    "language_info": {
      "codemirror_mode": {
        "name": "ipython",
        "version": 3
      },
      "file_extension": ".py",
      "mimetype": "text/x-python",
      "name": "python",
      "nbconvert_exporter": "python",
      "pygments_lexer": "ipython3",
      "version": "3.9.5"
    },
    "toc": {
      "base_numbering": 1,
      "nav_menu": {},
      "number_sections": true,
      "sideBar": true,
      "skip_h1_title": true,
      "title_cell": "Table of Contents",
      "title_sidebar": "Contents",
      "toc_cell": false,
      "toc_position": {},
      "toc_section_display": true,
      "toc_window_display": true
    },
    "colab": {
      "provenance": []
    }
  },
  "nbformat": 4,
  "nbformat_minor": 0
}