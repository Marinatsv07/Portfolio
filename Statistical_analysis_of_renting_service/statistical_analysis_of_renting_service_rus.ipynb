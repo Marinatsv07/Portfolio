{
  "cells": [
    {
      "cell_type": "markdown",
      "id": "c70dd011",
      "metadata": {
        "id": "c70dd011"
      },
      "source": [
        "**Исследование поездок пользователей разных городов аренды самокатов GoFast**\n",
        "Вам передали данные о некоторых пользователях из нескольких городов, а также об их поездках. Проанализируйте данные и проверьте некоторые гипотезы, которые могут помочь бизнесу вырасти.Чтобы совершать поездки по городу, пользователи сервиса GoFast пользуются мобильным приложением. Сервисом можно пользоваться:без подписки абонентская плата отсутствует;стоимость одной минуты поездки — 8 рублей;стоимость старта (начала поездки) — 50 рублей;с подпиской Ultra абонентская плата — 199 рублей в месяц;стоимость одной минуты поездки —6 рублей;стоимость старта — бесплатно  \n",
        "\n",
        "\n",
        "**Цель исследования**:\n",
        "-проверить гипотезы:\n",
        "Продакт-менеджеры сервиса хотят увеличить количество пользователей с подпиской. Для этого они будут проводить различные акции, но сначала нужно выяснить несколько важных моментов.\n",
        "6.1  тратят ли пользователи с подпиской больше времени на поездки?\n",
        "6.2 Можно ли сказать, что расстояние, которое проезжают пользователи с подпиской за одну поездку, не превышает 3130 метров?\n",
        "6.3. Проверьте гипотезу о том, будет ли помесячная выручка от пользователей с подпиской по месяцам выше, чем выручка от пользователей без подписки.\n",
        "6.4. Представьте такую ситуацию: техническая команда сервиса обновила сервера, с которыми взаимодействует мобильное приложение. Она надеется, что из-за этого количество обращений в техподдержку значимо снизилось. Некоторый файл содержит для каждого пользователя данные о количестве обращений до обновления и после него. Какой тест вам понадобился бы для проверки этой гипотезы?\n",
        "\n",
        "\n",
        "**Ход исследования**:\n",
        "Данные о пользователях и поездках я получу из 3 CSV-файлов.Пути к файлам:\n",
        "/datasets/users_go.csv\n",
        "/datasets/rides_go.csv\n",
        "/datasets/subscriptions_go.csv\n",
        "О качестве данных ничего не известно, поэтому понадобится обзор данных. Я проверю данные на ошибки и оценю их влияние на исследование. Затем на этапе предобработки я поищу способы исправить ошибки данных, которые не ведут к искажению конечного результата. Потом создам необходимые столбцы и перейду к исследовательскому анализу.  \n",
        "Таким образом мое исследование пройдет 7 этапов.  \n",
        "1.Загрузка данных  \n",
        "2.Предобработка данных  \n",
        "3.Исследовательский анализ данных  \n",
        "4.Объединение данных  \n",
        "5.Подсчет выручки  \n",
        "6.Проверка гипотез  \n",
        "7.Распределения\n",
        "\n"
      ]
    },
    {
      "cell_type": "code",
      "execution_count": null,
      "id": "72576667",
      "metadata": {
        "id": "72576667"
      },
      "outputs": [],
      "source": [
        "import pandas as pd\n",
        "import matplotlib.pyplot as plt\n",
        "import numpy as np\n",
        "from scipy.stats import ttest_ind\n",
        "from scipy.stats import ttest_1samp\n",
        "from scipy.stats import binom\n",
        "import scipy.stats as stats\n",
        "from scipy.stats import norm\n",
        "import seaborn as sns"
      ]
    },
    {
      "cell_type": "markdown",
      "id": "c42cbe00",
      "metadata": {
        "id": "c42cbe00"
      },
      "source": [
        "#### Шаг 1. Загрузка данных"
      ]
    },
    {
      "cell_type": "code",
      "execution_count": null,
      "id": "eff9f206",
      "metadata": {
        "id": "eff9f206"
      },
      "outputs": [],
      "source": [
        "#загрузка данных и сохранение в датафреймы\n",
        "users= pd.read_csv('/datasets/users_go.csv')"
      ]
    },
    {
      "cell_type": "code",
      "execution_count": null,
      "id": "ed7f5443",
      "metadata": {
        "scrolled": true,
        "id": "ed7f5443",
        "outputId": "ec7dddbd-7f23-4fdd-b2f0-cbd99fd3ce92"
      },
      "outputs": [
        {
          "data": {
            "text/html": [
              "<div>\n",
              "<style scoped>\n",
              "    .dataframe tbody tr th:only-of-type {\n",
              "        vertical-align: middle;\n",
              "    }\n",
              "\n",
              "    .dataframe tbody tr th {\n",
              "        vertical-align: top;\n",
              "    }\n",
              "\n",
              "    .dataframe thead th {\n",
              "        text-align: right;\n",
              "    }\n",
              "</style>\n",
              "<table border=\"1\" class=\"dataframe\">\n",
              "  <thead>\n",
              "    <tr style=\"text-align: right;\">\n",
              "      <th></th>\n",
              "      <th>user_id</th>\n",
              "      <th>name</th>\n",
              "      <th>age</th>\n",
              "      <th>city</th>\n",
              "      <th>subscription_type</th>\n",
              "    </tr>\n",
              "  </thead>\n",
              "  <tbody>\n",
              "    <tr>\n",
              "      <th>0</th>\n",
              "      <td>1</td>\n",
              "      <td>Кира</td>\n",
              "      <td>22</td>\n",
              "      <td>Тюмень</td>\n",
              "      <td>ultra</td>\n",
              "    </tr>\n",
              "    <tr>\n",
              "      <th>1</th>\n",
              "      <td>2</td>\n",
              "      <td>Станислав</td>\n",
              "      <td>31</td>\n",
              "      <td>Омск</td>\n",
              "      <td>ultra</td>\n",
              "    </tr>\n",
              "    <tr>\n",
              "      <th>2</th>\n",
              "      <td>3</td>\n",
              "      <td>Алексей</td>\n",
              "      <td>20</td>\n",
              "      <td>Москва</td>\n",
              "      <td>ultra</td>\n",
              "    </tr>\n",
              "    <tr>\n",
              "      <th>3</th>\n",
              "      <td>4</td>\n",
              "      <td>Константин</td>\n",
              "      <td>26</td>\n",
              "      <td>Ростов-на-Дону</td>\n",
              "      <td>ultra</td>\n",
              "    </tr>\n",
              "    <tr>\n",
              "      <th>4</th>\n",
              "      <td>5</td>\n",
              "      <td>Адель</td>\n",
              "      <td>28</td>\n",
              "      <td>Омск</td>\n",
              "      <td>ultra</td>\n",
              "    </tr>\n",
              "  </tbody>\n",
              "</table>\n",
              "</div>"
            ],
            "text/plain": [
              "   user_id        name  age            city subscription_type\n",
              "0        1        Кира   22          Тюмень             ultra\n",
              "1        2   Станислав   31            Омск             ultra\n",
              "2        3     Алексей   20          Москва             ultra\n",
              "3        4  Константин   26  Ростов-на-Дону             ultra\n",
              "4        5       Адель   28            Омск             ultra"
            ]
          },
          "execution_count": 3,
          "metadata": {},
          "output_type": "execute_result"
        }
      ],
      "source": [
        "#вывод первых пяти строк\n",
        "users.head()"
      ]
    },
    {
      "cell_type": "code",
      "execution_count": null,
      "id": "706b0e63",
      "metadata": {
        "scrolled": true,
        "id": "706b0e63",
        "outputId": "cdb7d725-dc1e-440e-caa2-3403a4920672"
      },
      "outputs": [
        {
          "name": "stdout",
          "output_type": "stream",
          "text": [
            "<class 'pandas.core.frame.DataFrame'>\n",
            "RangeIndex: 1565 entries, 0 to 1564\n",
            "Data columns (total 5 columns):\n",
            " #   Column             Non-Null Count  Dtype \n",
            "---  ------             --------------  ----- \n",
            " 0   user_id            1565 non-null   int64 \n",
            " 1   name               1565 non-null   object\n",
            " 2   age                1565 non-null   int64 \n",
            " 3   city               1565 non-null   object\n",
            " 4   subscription_type  1565 non-null   object\n",
            "dtypes: int64(2), object(3)\n",
            "memory usage: 61.3+ KB\n"
          ]
        }
      ],
      "source": [
        "#вывод общей информации о датафрейме users\n",
        "users.info()"
      ]
    },
    {
      "cell_type": "code",
      "execution_count": null,
      "id": "bb0846fa",
      "metadata": {
        "id": "bb0846fa"
      },
      "outputs": [],
      "source": [
        "#загрузка данных и сохранение в датафреймы\n",
        "rides= pd.read_csv('/datasets/rides_go.csv')"
      ]
    },
    {
      "cell_type": "code",
      "execution_count": null,
      "id": "a52961e1",
      "metadata": {
        "scrolled": false,
        "id": "a52961e1",
        "outputId": "82883b85-c6e6-428d-a2d6-045e0619587e"
      },
      "outputs": [
        {
          "data": {
            "text/html": [
              "<div>\n",
              "<style scoped>\n",
              "    .dataframe tbody tr th:only-of-type {\n",
              "        vertical-align: middle;\n",
              "    }\n",
              "\n",
              "    .dataframe tbody tr th {\n",
              "        vertical-align: top;\n",
              "    }\n",
              "\n",
              "    .dataframe thead th {\n",
              "        text-align: right;\n",
              "    }\n",
              "</style>\n",
              "<table border=\"1\" class=\"dataframe\">\n",
              "  <thead>\n",
              "    <tr style=\"text-align: right;\">\n",
              "      <th></th>\n",
              "      <th>user_id</th>\n",
              "      <th>distance</th>\n",
              "      <th>duration</th>\n",
              "      <th>date</th>\n",
              "    </tr>\n",
              "  </thead>\n",
              "  <tbody>\n",
              "    <tr>\n",
              "      <th>0</th>\n",
              "      <td>1</td>\n",
              "      <td>4409.919140</td>\n",
              "      <td>25.599769</td>\n",
              "      <td>2021-01-01</td>\n",
              "    </tr>\n",
              "    <tr>\n",
              "      <th>1</th>\n",
              "      <td>1</td>\n",
              "      <td>2617.592153</td>\n",
              "      <td>15.816871</td>\n",
              "      <td>2021-01-18</td>\n",
              "    </tr>\n",
              "    <tr>\n",
              "      <th>2</th>\n",
              "      <td>1</td>\n",
              "      <td>754.159807</td>\n",
              "      <td>6.232113</td>\n",
              "      <td>2021-04-20</td>\n",
              "    </tr>\n",
              "    <tr>\n",
              "      <th>3</th>\n",
              "      <td>1</td>\n",
              "      <td>2694.783254</td>\n",
              "      <td>18.511000</td>\n",
              "      <td>2021-08-11</td>\n",
              "    </tr>\n",
              "    <tr>\n",
              "      <th>4</th>\n",
              "      <td>1</td>\n",
              "      <td>4028.687306</td>\n",
              "      <td>26.265803</td>\n",
              "      <td>2021-08-28</td>\n",
              "    </tr>\n",
              "  </tbody>\n",
              "</table>\n",
              "</div>"
            ],
            "text/plain": [
              "   user_id     distance   duration        date\n",
              "0        1  4409.919140  25.599769  2021-01-01\n",
              "1        1  2617.592153  15.816871  2021-01-18\n",
              "2        1   754.159807   6.232113  2021-04-20\n",
              "3        1  2694.783254  18.511000  2021-08-11\n",
              "4        1  4028.687306  26.265803  2021-08-28"
            ]
          },
          "execution_count": 6,
          "metadata": {},
          "output_type": "execute_result"
        }
      ],
      "source": [
        "#вывод первых пяти строк\n",
        "rides.head()"
      ]
    },
    {
      "cell_type": "code",
      "execution_count": null,
      "id": "ff19a479",
      "metadata": {
        "id": "ff19a479",
        "outputId": "f4baa508-c79c-486a-8cc2-d2200650c9b8"
      },
      "outputs": [
        {
          "name": "stdout",
          "output_type": "stream",
          "text": [
            "<class 'pandas.core.frame.DataFrame'>\n",
            "RangeIndex: 18068 entries, 0 to 18067\n",
            "Data columns (total 4 columns):\n",
            " #   Column    Non-Null Count  Dtype  \n",
            "---  ------    --------------  -----  \n",
            " 0   user_id   18068 non-null  int64  \n",
            " 1   distance  18068 non-null  float64\n",
            " 2   duration  18068 non-null  float64\n",
            " 3   date      18068 non-null  object \n",
            "dtypes: float64(2), int64(1), object(1)\n",
            "memory usage: 564.8+ KB\n"
          ]
        }
      ],
      "source": [
        "#вывод общей информации о датафрейме riders\n",
        "rides.info()"
      ]
    },
    {
      "cell_type": "code",
      "execution_count": null,
      "id": "6b496eb1",
      "metadata": {
        "id": "6b496eb1"
      },
      "outputs": [],
      "source": [
        "#загрузка данных и сохранение в датафреймы\n",
        "subscriptions= pd.read_csv('/datasets/subscriptions_go.csv')\n",
        "\n"
      ]
    },
    {
      "cell_type": "code",
      "execution_count": null,
      "id": "1b4ff658",
      "metadata": {
        "scrolled": false,
        "id": "1b4ff658",
        "outputId": "4370fa5f-36f2-4eb2-8fd2-1325765786b7"
      },
      "outputs": [
        {
          "data": {
            "text/html": [
              "<div>\n",
              "<style scoped>\n",
              "    .dataframe tbody tr th:only-of-type {\n",
              "        vertical-align: middle;\n",
              "    }\n",
              "\n",
              "    .dataframe tbody tr th {\n",
              "        vertical-align: top;\n",
              "    }\n",
              "\n",
              "    .dataframe thead th {\n",
              "        text-align: right;\n",
              "    }\n",
              "</style>\n",
              "<table border=\"1\" class=\"dataframe\">\n",
              "  <thead>\n",
              "    <tr style=\"text-align: right;\">\n",
              "      <th></th>\n",
              "      <th>subscription_type</th>\n",
              "      <th>minute_price</th>\n",
              "      <th>start_ride_price</th>\n",
              "      <th>subscription_fee</th>\n",
              "    </tr>\n",
              "  </thead>\n",
              "  <tbody>\n",
              "    <tr>\n",
              "      <th>0</th>\n",
              "      <td>free</td>\n",
              "      <td>8</td>\n",
              "      <td>50</td>\n",
              "      <td>0</td>\n",
              "    </tr>\n",
              "    <tr>\n",
              "      <th>1</th>\n",
              "      <td>ultra</td>\n",
              "      <td>6</td>\n",
              "      <td>0</td>\n",
              "      <td>199</td>\n",
              "    </tr>\n",
              "  </tbody>\n",
              "</table>\n",
              "</div>"
            ],
            "text/plain": [
              "  subscription_type  minute_price  start_ride_price  subscription_fee\n",
              "0              free             8                50                 0\n",
              "1             ultra             6                 0               199"
            ]
          },
          "execution_count": 9,
          "metadata": {},
          "output_type": "execute_result"
        }
      ],
      "source": [
        "#вывод первых пяти строк\n",
        "subscriptions.head()"
      ]
    },
    {
      "cell_type": "code",
      "execution_count": null,
      "id": "c0960411",
      "metadata": {
        "scrolled": true,
        "id": "c0960411",
        "outputId": "7e9a115f-c340-449f-fb30-1068f2e4131b"
      },
      "outputs": [
        {
          "name": "stdout",
          "output_type": "stream",
          "text": [
            "<class 'pandas.core.frame.DataFrame'>\n",
            "RangeIndex: 2 entries, 0 to 1\n",
            "Data columns (total 4 columns):\n",
            " #   Column             Non-Null Count  Dtype \n",
            "---  ------             --------------  ----- \n",
            " 0   subscription_type  2 non-null      object\n",
            " 1   minute_price       2 non-null      int64 \n",
            " 2   start_ride_price   2 non-null      int64 \n",
            " 3   subscription_fee   2 non-null      int64 \n",
            "dtypes: int64(3), object(1)\n",
            "memory usage: 192.0+ bytes\n"
          ]
        }
      ],
      "source": [
        "#вывод общей информации о датафрейме riders\n",
        "subscriptions.info()"
      ]
    },
    {
      "cell_type": "markdown",
      "id": "b2e35a70",
      "metadata": {
        "id": "b2e35a70"
      },
      "source": [
        "Выводы по загруженным датафреймам:  \n",
        "Данные были успешно загружены из трех различных CSV-файлов в соответствующие датафреймы: users_go.csv, rides_go.csv, subscriptions_go.csv.  \n",
        "Эти файлы содержат информацию о пользователях сервиса, их поездках и подписках.  \n",
        "Анализ Первых Строк:  \n",
        "Первые строки каждого датафрейма были выведены для визуального осмотра.\n",
        "Данные о пользователях включают информацию, такую как идентификатор пользователя, город, возраст и другие характеристики.\n",
        "Данные о поездках включают идентификатор пользователя,длительность поездки, дистанцию и дату.\n",
        "Данные о подписках, содержат информацию о типе подписки, cтоимости подписки, стоимости начала поездки и стоимости минуты.\n",
        "Изучение Общей Информации:  \n",
        "Была проанализирована общая информация о каждом датафрейме, включая типы данных, количество строк и столбцов, наличие пропущенных значений и т.д.  -Пропущенные значения отсутсвуют. Колонку date, которая обозначает дату поездки следует изменить с типа данных object на datetime. Месяц из данной колонки следует выделить в отдельную колонку для того, чтобы можно было оценить сезонные колебания.\n",
        "Для удобства проведения анализа следует обьединить три датафрейма в один. Также следует выполнить поиск дубликатов.\n"
      ]
    },
    {
      "cell_type": "markdown",
      "id": "e95ebca7",
      "metadata": {
        "id": "e95ebca7"
      },
      "source": [
        "#### Шаг 2. Предобработка данных"
      ]
    },
    {
      "cell_type": "code",
      "execution_count": null,
      "id": "af6d202c",
      "metadata": {
        "id": "af6d202c"
      },
      "outputs": [],
      "source": [
        "#приведение date таблицы riders к типу даты pandas\n",
        "rides['date'] = pd.to_datetime(rides['date'])"
      ]
    },
    {
      "cell_type": "code",
      "execution_count": null,
      "id": "40117900",
      "metadata": {
        "id": "40117900"
      },
      "outputs": [],
      "source": [
        "#создание колонки  с номером месяца\n",
        "rides['month_of_ride'] = rides['date'].dt.month"
      ]
    },
    {
      "cell_type": "code",
      "execution_count": null,
      "id": "23050420",
      "metadata": {
        "scrolled": true,
        "id": "23050420",
        "outputId": "bf7be7fc-49c7-4c69-9d5d-d329dca9dd31"
      },
      "outputs": [
        {
          "data": {
            "text/plain": [
              "[2021]"
            ]
          },
          "metadata": {},
          "output_type": "display_data"
        }
      ],
      "source": [
        "#проверка периода данных\n",
        "years = rides['date'].dt.year.unique()\n",
        "display(sorted(years))\n"
      ]
    },
    {
      "cell_type": "markdown",
      "id": "b1f29f0d",
      "metadata": {
        "id": "b1f29f0d"
      },
      "source": [
        "Данные представлены только за один год"
      ]
    },
    {
      "cell_type": "code",
      "execution_count": null,
      "id": "b4afd3fe",
      "metadata": {
        "scrolled": true,
        "id": "b4afd3fe",
        "outputId": "2510d1c4-b27a-4f40-f880-e2cac45c9b1d"
      },
      "outputs": [
        {
          "data": {
            "text/html": [
              "<div>\n",
              "<style scoped>\n",
              "    .dataframe tbody tr th:only-of-type {\n",
              "        vertical-align: middle;\n",
              "    }\n",
              "\n",
              "    .dataframe tbody tr th {\n",
              "        vertical-align: top;\n",
              "    }\n",
              "\n",
              "    .dataframe thead th {\n",
              "        text-align: right;\n",
              "    }\n",
              "</style>\n",
              "<table border=\"1\" class=\"dataframe\">\n",
              "  <thead>\n",
              "    <tr style=\"text-align: right;\">\n",
              "      <th></th>\n",
              "      <th>user_id</th>\n",
              "      <th>distance</th>\n",
              "      <th>duration</th>\n",
              "      <th>date</th>\n",
              "      <th>month_of_ride</th>\n",
              "    </tr>\n",
              "  </thead>\n",
              "  <tbody>\n",
              "    <tr>\n",
              "      <th>0</th>\n",
              "      <td>1</td>\n",
              "      <td>4409.919140</td>\n",
              "      <td>25.599769</td>\n",
              "      <td>2021-01-01</td>\n",
              "      <td>1</td>\n",
              "    </tr>\n",
              "    <tr>\n",
              "      <th>1</th>\n",
              "      <td>1</td>\n",
              "      <td>2617.592153</td>\n",
              "      <td>15.816871</td>\n",
              "      <td>2021-01-18</td>\n",
              "      <td>1</td>\n",
              "    </tr>\n",
              "    <tr>\n",
              "      <th>2</th>\n",
              "      <td>1</td>\n",
              "      <td>754.159807</td>\n",
              "      <td>6.232113</td>\n",
              "      <td>2021-04-20</td>\n",
              "      <td>4</td>\n",
              "    </tr>\n",
              "    <tr>\n",
              "      <th>3</th>\n",
              "      <td>1</td>\n",
              "      <td>2694.783254</td>\n",
              "      <td>18.511000</td>\n",
              "      <td>2021-08-11</td>\n",
              "      <td>8</td>\n",
              "    </tr>\n",
              "    <tr>\n",
              "      <th>4</th>\n",
              "      <td>1</td>\n",
              "      <td>4028.687306</td>\n",
              "      <td>26.265803</td>\n",
              "      <td>2021-08-28</td>\n",
              "      <td>8</td>\n",
              "    </tr>\n",
              "  </tbody>\n",
              "</table>\n",
              "</div>"
            ],
            "text/plain": [
              "   user_id     distance   duration       date  month_of_ride\n",
              "0        1  4409.919140  25.599769 2021-01-01              1\n",
              "1        1  2617.592153  15.816871 2021-01-18              1\n",
              "2        1   754.159807   6.232113 2021-04-20              4\n",
              "3        1  2694.783254  18.511000 2021-08-11              8\n",
              "4        1  4028.687306  26.265803 2021-08-28              8"
            ]
          },
          "execution_count": 14,
          "metadata": {},
          "output_type": "execute_result"
        }
      ],
      "source": [
        "rides.head()"
      ]
    },
    {
      "cell_type": "code",
      "execution_count": null,
      "id": "99029981",
      "metadata": {
        "scrolled": false,
        "id": "99029981",
        "outputId": "b03c0df8-bfbf-48b7-eb82-d17f655933f7"
      },
      "outputs": [
        {
          "data": {
            "text/html": [
              "<div>\n",
              "<style scoped>\n",
              "    .dataframe tbody tr th:only-of-type {\n",
              "        vertical-align: middle;\n",
              "    }\n",
              "\n",
              "    .dataframe tbody tr th {\n",
              "        vertical-align: top;\n",
              "    }\n",
              "\n",
              "    .dataframe thead th {\n",
              "        text-align: right;\n",
              "    }\n",
              "</style>\n",
              "<table border=\"1\" class=\"dataframe\">\n",
              "  <thead>\n",
              "    <tr style=\"text-align: right;\">\n",
              "      <th></th>\n",
              "      <th>user_id</th>\n",
              "      <th>name</th>\n",
              "      <th>age</th>\n",
              "      <th>city</th>\n",
              "      <th>subscription_type</th>\n",
              "    </tr>\n",
              "  </thead>\n",
              "  <tbody>\n",
              "    <tr>\n",
              "      <th>15</th>\n",
              "      <td>16</td>\n",
              "      <td>Амалия</td>\n",
              "      <td>27</td>\n",
              "      <td>Краснодар</td>\n",
              "      <td>ultra</td>\n",
              "    </tr>\n",
              "    <tr>\n",
              "      <th>42</th>\n",
              "      <td>43</td>\n",
              "      <td>Стефания</td>\n",
              "      <td>22</td>\n",
              "      <td>Омск</td>\n",
              "      <td>ultra</td>\n",
              "    </tr>\n",
              "    <tr>\n",
              "      <th>46</th>\n",
              "      <td>47</td>\n",
              "      <td>Юрий</td>\n",
              "      <td>28</td>\n",
              "      <td>Тюмень</td>\n",
              "      <td>ultra</td>\n",
              "    </tr>\n",
              "    <tr>\n",
              "      <th>71</th>\n",
              "      <td>72</td>\n",
              "      <td>Никита</td>\n",
              "      <td>25</td>\n",
              "      <td>Москва</td>\n",
              "      <td>ultra</td>\n",
              "    </tr>\n",
              "    <tr>\n",
              "      <th>107</th>\n",
              "      <td>108</td>\n",
              "      <td>Влада</td>\n",
              "      <td>29</td>\n",
              "      <td>Тюмень</td>\n",
              "      <td>ultra</td>\n",
              "    </tr>\n",
              "    <tr>\n",
              "      <th>...</th>\n",
              "      <td>...</td>\n",
              "      <td>...</td>\n",
              "      <td>...</td>\n",
              "      <td>...</td>\n",
              "      <td>...</td>\n",
              "    </tr>\n",
              "    <tr>\n",
              "      <th>1560</th>\n",
              "      <td>829</td>\n",
              "      <td>Федор</td>\n",
              "      <td>29</td>\n",
              "      <td>Пятигорск</td>\n",
              "      <td>free</td>\n",
              "    </tr>\n",
              "    <tr>\n",
              "      <th>1561</th>\n",
              "      <td>809</td>\n",
              "      <td>Юрий</td>\n",
              "      <td>26</td>\n",
              "      <td>Сочи</td>\n",
              "      <td>free</td>\n",
              "    </tr>\n",
              "    <tr>\n",
              "      <th>1562</th>\n",
              "      <td>307</td>\n",
              "      <td>Ясмина</td>\n",
              "      <td>19</td>\n",
              "      <td>Краснодар</td>\n",
              "      <td>ultra</td>\n",
              "    </tr>\n",
              "    <tr>\n",
              "      <th>1563</th>\n",
              "      <td>47</td>\n",
              "      <td>Юрий</td>\n",
              "      <td>28</td>\n",
              "      <td>Тюмень</td>\n",
              "      <td>ultra</td>\n",
              "    </tr>\n",
              "    <tr>\n",
              "      <th>1564</th>\n",
              "      <td>1045</td>\n",
              "      <td>Артемий</td>\n",
              "      <td>28</td>\n",
              "      <td>Ростов-на-Дону</td>\n",
              "      <td>free</td>\n",
              "    </tr>\n",
              "  </tbody>\n",
              "</table>\n",
              "<p>62 rows × 5 columns</p>\n",
              "</div>"
            ],
            "text/plain": [
              "      user_id      name  age            city subscription_type\n",
              "15         16    Амалия   27       Краснодар             ultra\n",
              "42         43  Стефания   22            Омск             ultra\n",
              "46         47      Юрий   28          Тюмень             ultra\n",
              "71         72    Никита   25          Москва             ultra\n",
              "107       108     Влада   29          Тюмень             ultra\n",
              "...       ...       ...  ...             ...               ...\n",
              "1560      829     Федор   29       Пятигорск              free\n",
              "1561      809      Юрий   26            Сочи              free\n",
              "1562      307    Ясмина   19       Краснодар             ultra\n",
              "1563       47      Юрий   28          Тюмень             ultra\n",
              "1564     1045   Артемий   28  Ростов-на-Дону              free\n",
              "\n",
              "[62 rows x 5 columns]"
            ]
          },
          "metadata": {},
          "output_type": "display_data"
        }
      ],
      "source": [
        "# Поиск явных дубликатов в таблице users\n",
        "duplicate_rows = users.duplicated(keep=False)\n",
        "\n",
        "# Вывод всех полных дубликатов\n",
        "#print(users[duplicate_rows])\n",
        "\n",
        "display(users[duplicate_rows])"
      ]
    },
    {
      "cell_type": "code",
      "execution_count": null,
      "id": "5c1d3a0f",
      "metadata": {
        "id": "5c1d3a0f",
        "outputId": "281a5247-eacf-4f14-86c9-1938806599b4"
      },
      "outputs": [
        {
          "data": {
            "text/html": [
              "<div>\n",
              "<style scoped>\n",
              "    .dataframe tbody tr th:only-of-type {\n",
              "        vertical-align: middle;\n",
              "    }\n",
              "\n",
              "    .dataframe tbody tr th {\n",
              "        vertical-align: top;\n",
              "    }\n",
              "\n",
              "    .dataframe thead th {\n",
              "        text-align: right;\n",
              "    }\n",
              "</style>\n",
              "<table border=\"1\" class=\"dataframe\">\n",
              "  <thead>\n",
              "    <tr style=\"text-align: right;\">\n",
              "      <th></th>\n",
              "      <th>user_id</th>\n",
              "      <th>name</th>\n",
              "      <th>age</th>\n",
              "      <th>city</th>\n",
              "      <th>subscription_type</th>\n",
              "    </tr>\n",
              "  </thead>\n",
              "  <tbody>\n",
              "    <tr>\n",
              "      <th>0</th>\n",
              "      <td>1</td>\n",
              "      <td>Кира</td>\n",
              "      <td>22</td>\n",
              "      <td>Тюмень</td>\n",
              "      <td>ultra</td>\n",
              "    </tr>\n",
              "    <tr>\n",
              "      <th>1</th>\n",
              "      <td>2</td>\n",
              "      <td>Станислав</td>\n",
              "      <td>31</td>\n",
              "      <td>Омск</td>\n",
              "      <td>ultra</td>\n",
              "    </tr>\n",
              "    <tr>\n",
              "      <th>2</th>\n",
              "      <td>3</td>\n",
              "      <td>Алексей</td>\n",
              "      <td>20</td>\n",
              "      <td>Москва</td>\n",
              "      <td>ultra</td>\n",
              "    </tr>\n",
              "    <tr>\n",
              "      <th>3</th>\n",
              "      <td>4</td>\n",
              "      <td>Константин</td>\n",
              "      <td>26</td>\n",
              "      <td>Ростов-на-Дону</td>\n",
              "      <td>ultra</td>\n",
              "    </tr>\n",
              "    <tr>\n",
              "      <th>4</th>\n",
              "      <td>5</td>\n",
              "      <td>Адель</td>\n",
              "      <td>28</td>\n",
              "      <td>Омск</td>\n",
              "      <td>ultra</td>\n",
              "    </tr>\n",
              "    <tr>\n",
              "      <th>...</th>\n",
              "      <td>...</td>\n",
              "      <td>...</td>\n",
              "      <td>...</td>\n",
              "      <td>...</td>\n",
              "      <td>...</td>\n",
              "    </tr>\n",
              "    <tr>\n",
              "      <th>1529</th>\n",
              "      <td>1530</td>\n",
              "      <td>Ростислав</td>\n",
              "      <td>29</td>\n",
              "      <td>Сочи</td>\n",
              "      <td>free</td>\n",
              "    </tr>\n",
              "    <tr>\n",
              "      <th>1530</th>\n",
              "      <td>1531</td>\n",
              "      <td>Никита</td>\n",
              "      <td>25</td>\n",
              "      <td>Пятигорск</td>\n",
              "      <td>free</td>\n",
              "    </tr>\n",
              "    <tr>\n",
              "      <th>1531</th>\n",
              "      <td>1532</td>\n",
              "      <td>Алексей</td>\n",
              "      <td>26</td>\n",
              "      <td>Тюмень</td>\n",
              "      <td>free</td>\n",
              "    </tr>\n",
              "    <tr>\n",
              "      <th>1532</th>\n",
              "      <td>1533</td>\n",
              "      <td>Степан</td>\n",
              "      <td>22</td>\n",
              "      <td>Краснодар</td>\n",
              "      <td>free</td>\n",
              "    </tr>\n",
              "    <tr>\n",
              "      <th>1533</th>\n",
              "      <td>1534</td>\n",
              "      <td>Альберт</td>\n",
              "      <td>25</td>\n",
              "      <td>Краснодар</td>\n",
              "      <td>free</td>\n",
              "    </tr>\n",
              "  </tbody>\n",
              "</table>\n",
              "<p>1534 rows × 5 columns</p>\n",
              "</div>"
            ],
            "text/plain": [
              "      user_id        name  age            city subscription_type\n",
              "0           1        Кира   22          Тюмень             ultra\n",
              "1           2   Станислав   31            Омск             ultra\n",
              "2           3     Алексей   20          Москва             ultra\n",
              "3           4  Константин   26  Ростов-на-Дону             ultra\n",
              "4           5       Адель   28            Омск             ultra\n",
              "...       ...         ...  ...             ...               ...\n",
              "1529     1530   Ростислав   29            Сочи              free\n",
              "1530     1531      Никита   25       Пятигорск              free\n",
              "1531     1532     Алексей   26          Тюмень              free\n",
              "1532     1533      Степан   22       Краснодар              free\n",
              "1533     1534     Альберт   25       Краснодар              free\n",
              "\n",
              "[1534 rows x 5 columns]"
            ]
          },
          "metadata": {},
          "output_type": "display_data"
        }
      ],
      "source": [
        "# Удаление всех дубликатов\n",
        "users.drop_duplicates(inplace=True)\n",
        "# Вывод обновленной таблицы без дубликатов и с обновленным индексом\n",
        "display(users)"
      ]
    },
    {
      "cell_type": "code",
      "execution_count": null,
      "id": "35d8d1e8",
      "metadata": {
        "id": "35d8d1e8",
        "outputId": "b959b4ea-d8a8-4efc-c9dc-d0a1251a3a09"
      },
      "outputs": [
        {
          "data": {
            "text/html": [
              "<div>\n",
              "<style scoped>\n",
              "    .dataframe tbody tr th:only-of-type {\n",
              "        vertical-align: middle;\n",
              "    }\n",
              "\n",
              "    .dataframe tbody tr th {\n",
              "        vertical-align: top;\n",
              "    }\n",
              "\n",
              "    .dataframe thead th {\n",
              "        text-align: right;\n",
              "    }\n",
              "</style>\n",
              "<table border=\"1\" class=\"dataframe\">\n",
              "  <thead>\n",
              "    <tr style=\"text-align: right;\">\n",
              "      <th></th>\n",
              "      <th>user_id</th>\n",
              "      <th>name</th>\n",
              "      <th>age</th>\n",
              "      <th>city</th>\n",
              "      <th>subscription_type</th>\n",
              "    </tr>\n",
              "  </thead>\n",
              "  <tbody>\n",
              "    <tr>\n",
              "      <th>0</th>\n",
              "      <td>1</td>\n",
              "      <td>Кира</td>\n",
              "      <td>22</td>\n",
              "      <td>Тюмень</td>\n",
              "      <td>ultra</td>\n",
              "    </tr>\n",
              "    <tr>\n",
              "      <th>1</th>\n",
              "      <td>2</td>\n",
              "      <td>Станислав</td>\n",
              "      <td>31</td>\n",
              "      <td>Омск</td>\n",
              "      <td>ultra</td>\n",
              "    </tr>\n",
              "    <tr>\n",
              "      <th>2</th>\n",
              "      <td>3</td>\n",
              "      <td>Алексей</td>\n",
              "      <td>20</td>\n",
              "      <td>Москва</td>\n",
              "      <td>ultra</td>\n",
              "    </tr>\n",
              "    <tr>\n",
              "      <th>3</th>\n",
              "      <td>4</td>\n",
              "      <td>Константин</td>\n",
              "      <td>26</td>\n",
              "      <td>Ростов-на-Дону</td>\n",
              "      <td>ultra</td>\n",
              "    </tr>\n",
              "    <tr>\n",
              "      <th>4</th>\n",
              "      <td>5</td>\n",
              "      <td>Адель</td>\n",
              "      <td>28</td>\n",
              "      <td>Омск</td>\n",
              "      <td>ultra</td>\n",
              "    </tr>\n",
              "    <tr>\n",
              "      <th>...</th>\n",
              "      <td>...</td>\n",
              "      <td>...</td>\n",
              "      <td>...</td>\n",
              "      <td>...</td>\n",
              "      <td>...</td>\n",
              "    </tr>\n",
              "    <tr>\n",
              "      <th>1529</th>\n",
              "      <td>1530</td>\n",
              "      <td>Ростислав</td>\n",
              "      <td>29</td>\n",
              "      <td>Сочи</td>\n",
              "      <td>free</td>\n",
              "    </tr>\n",
              "    <tr>\n",
              "      <th>1530</th>\n",
              "      <td>1531</td>\n",
              "      <td>Никита</td>\n",
              "      <td>25</td>\n",
              "      <td>Пятигорск</td>\n",
              "      <td>free</td>\n",
              "    </tr>\n",
              "    <tr>\n",
              "      <th>1531</th>\n",
              "      <td>1532</td>\n",
              "      <td>Алексей</td>\n",
              "      <td>26</td>\n",
              "      <td>Тюмень</td>\n",
              "      <td>free</td>\n",
              "    </tr>\n",
              "    <tr>\n",
              "      <th>1532</th>\n",
              "      <td>1533</td>\n",
              "      <td>Степан</td>\n",
              "      <td>22</td>\n",
              "      <td>Краснодар</td>\n",
              "      <td>free</td>\n",
              "    </tr>\n",
              "    <tr>\n",
              "      <th>1533</th>\n",
              "      <td>1534</td>\n",
              "      <td>Альберт</td>\n",
              "      <td>25</td>\n",
              "      <td>Краснодар</td>\n",
              "      <td>free</td>\n",
              "    </tr>\n",
              "  </tbody>\n",
              "</table>\n",
              "<p>1534 rows × 5 columns</p>\n",
              "</div>"
            ],
            "text/plain": [
              "      user_id        name  age            city subscription_type\n",
              "0           1        Кира   22          Тюмень             ultra\n",
              "1           2   Станислав   31            Омск             ultra\n",
              "2           3     Алексей   20          Москва             ultra\n",
              "3           4  Константин   26  Ростов-на-Дону             ultra\n",
              "4           5       Адель   28            Омск             ultra\n",
              "...       ...         ...  ...             ...               ...\n",
              "1529     1530   Ростислав   29            Сочи              free\n",
              "1530     1531      Никита   25       Пятигорск              free\n",
              "1531     1532     Алексей   26          Тюмень              free\n",
              "1532     1533      Степан   22       Краснодар              free\n",
              "1533     1534     Альберт   25       Краснодар              free\n",
              "\n",
              "[1534 rows x 5 columns]"
            ]
          },
          "metadata": {},
          "output_type": "display_data"
        }
      ],
      "source": [
        "# Обновление нумерации (индекса) в DataFrame\n",
        "users.reset_index(drop=True, inplace=True)\n",
        "\n",
        "# Вывод обновленного DataFrame с новой нумерацией\n",
        "display(users)"
      ]
    },
    {
      "cell_type": "code",
      "execution_count": null,
      "id": "b4495143",
      "metadata": {
        "scrolled": false,
        "id": "b4495143",
        "outputId": "23634650-650b-42bf-fac9-e594f204f3bc"
      },
      "outputs": [
        {
          "data": {
            "text/html": [
              "<div>\n",
              "<style scoped>\n",
              "    .dataframe tbody tr th:only-of-type {\n",
              "        vertical-align: middle;\n",
              "    }\n",
              "\n",
              "    .dataframe tbody tr th {\n",
              "        vertical-align: top;\n",
              "    }\n",
              "\n",
              "    .dataframe thead th {\n",
              "        text-align: right;\n",
              "    }\n",
              "</style>\n",
              "<table border=\"1\" class=\"dataframe\">\n",
              "  <thead>\n",
              "    <tr style=\"text-align: right;\">\n",
              "      <th></th>\n",
              "      <th>user_id</th>\n",
              "      <th>distance</th>\n",
              "      <th>duration</th>\n",
              "      <th>date</th>\n",
              "      <th>month_of_ride</th>\n",
              "    </tr>\n",
              "  </thead>\n",
              "  <tbody>\n",
              "  </tbody>\n",
              "</table>\n",
              "</div>"
            ],
            "text/plain": [
              "Empty DataFrame\n",
              "Columns: [user_id, distance, duration, date, month_of_ride]\n",
              "Index: []"
            ]
          },
          "metadata": {},
          "output_type": "display_data"
        }
      ],
      "source": [
        "# Поиск явных дубликатов в таблице riders\n",
        "duplicate_rows = rides.duplicated(keep=False)\n",
        "\n",
        "# Вывод всех полных дубликатов\n",
        "display(rides[duplicate_rows])"
      ]
    },
    {
      "cell_type": "code",
      "execution_count": null,
      "id": "4a7278db",
      "metadata": {
        "id": "4a7278db",
        "outputId": "9546025e-f98f-45ae-edeb-5273a5be9972"
      },
      "outputs": [
        {
          "data": {
            "text/plain": [
              "0"
            ]
          },
          "execution_count": 19,
          "metadata": {},
          "output_type": "execute_result"
        }
      ],
      "source": [
        "users.isnull().sum().sum()"
      ]
    },
    {
      "cell_type": "code",
      "execution_count": null,
      "id": "cedb16cc",
      "metadata": {
        "scrolled": true,
        "id": "cedb16cc",
        "outputId": "00cd2dc6-1637-4daf-ecf8-04d2b49d5989"
      },
      "outputs": [
        {
          "data": {
            "text/plain": [
              "0"
            ]
          },
          "execution_count": 20,
          "metadata": {},
          "output_type": "execute_result"
        }
      ],
      "source": [
        "rides.isnull().sum().sum()"
      ]
    },
    {
      "cell_type": "markdown",
      "id": "93b3d3cb",
      "metadata": {
        "id": "93b3d3cb"
      },
      "source": [
        "Выводы по предобработке данных:\n",
        "\n",
        "Преобразование Типа Данных:\n",
        "Столбец date был успешно преобразован в тип даты pandas. Это упрощает работу с датами в последующем анализе, позволяя корректно сортировать записи по времени, а также выполнять временные вычисления.\n",
        "Добавление Столбца с Номером Месяца:\n",
        "На основе столбца date был создан новый столбец, отображающий номер месяца. Это позволит проводить анализ данных на месячной основе, группируя данные по месяцам и анализируя тренды или сезонные паттерны.\n",
        "Проверка Пропущенных Значений и Дубликатов:\n",
        "Все датафреймы были проверены на наличие пропущенных значений. Пропущенные значения отсутствуют.\n",
        "Дублирующие записи в датафреймах были выявлены и успешно удалены(62 строки в users), что устраняет возможное искажение результатов анализа из-за повторяющихся данных.\n",
        "В результате предобработки данных датафреймы стали готовы к дальнейшему анализу. Отсутствие пропущенных значений и дубликатов, а также корректное представление данных (например, дат в нужном формате) обеспечивает надежную основу для проведения статистического анализа и выводов на основе этих данных"
      ]
    },
    {
      "cell_type": "markdown",
      "id": "212593c7",
      "metadata": {
        "id": "212593c7"
      },
      "source": [
        "#### Шаг 3. Исследовательский анализ данных"
      ]
    },
    {
      "cell_type": "code",
      "execution_count": null,
      "id": "75e60de9",
      "metadata": {
        "id": "75e60de9",
        "outputId": "16041fa8-1647-4930-8f6d-738b8761b02a"
      },
      "outputs": [
        {
          "data": {
            "text/plain": [
              "Index(['user_id', 'name', 'age', 'city', 'subscription_type'], dtype='object')"
            ]
          },
          "execution_count": 21,
          "metadata": {},
          "output_type": "execute_result"
        }
      ],
      "source": [
        "users.columns"
      ]
    },
    {
      "cell_type": "code",
      "execution_count": null,
      "id": "e3a4274c",
      "metadata": {
        "id": "e3a4274c",
        "outputId": "4e79240c-69bd-434d-d0a6-c71c1f0e9331"
      },
      "outputs": [
        {
          "data": {
            "image/png": "[encoded data removed]",
            "text/plain": [
              "<Figure size 720x360 with 1 Axes>"
            ]
          },
          "metadata": {
            "needs_background": "light"
          },
          "output_type": "display_data"
        },
        {
          "data": {
            "image/png": "[encoded data removed]",
            "text/plain": [
              "<Figure size 720x360 with 1 Axes>"
            ]
          },
          "metadata": {
            "needs_background": "light"
          },
          "output_type": "display_data"
        }
      ],
      "source": [
        "# Построение гистограмм для каждой колонки users\n",
        "#заданные колонки\n",
        "columns_to_plot =['age', 'city']\n",
        "\n",
        "for column in columns_to_plot:\n",
        "    plt.figure(figsize=(10, 5))\n",
        "    plt.hist(users[column], bins=30)\n",
        "    plt.xlabel(column)\n",
        "    plt.ylabel('Частота')\n",
        "    plt.title(f'Гистограмма {column}')\n",
        "    plt.show()\n",
        "\n"
      ]
    },
    {
      "cell_type": "code",
      "execution_count": null,
      "id": "d62d6ae9",
      "metadata": {
        "id": "d62d6ae9"
      },
      "outputs": [],
      "source": []
    },
    {
      "cell_type": "code",
      "execution_count": null,
      "id": "342b9e3d",
      "metadata": {
        "id": "342b9e3d",
        "outputId": "9df7c39d-000a-46d3-f413-1d0062f84b19"
      },
      "outputs": [
        {
          "data": {
            "text/plain": [
              "free     54.432855\n",
              "ultra    45.567145\n",
              "Name: subscription_type, dtype: float64"
            ]
          },
          "metadata": {},
          "output_type": "display_data"
        }
      ],
      "source": [
        "percentages = users['subscription_type'].value_counts(normalize=True) * 100\n",
        "display(percentages)"
      ]
    },
    {
      "cell_type": "code",
      "execution_count": null,
      "id": "d74bdcdc",
      "metadata": {
        "id": "d74bdcdc",
        "outputId": "d1f9e739-88b5-4dd9-93e2-82ac5ddf6468"
      },
      "outputs": [
        {
          "data": {
            "image/png": "[encoded data removed]",
            "text/plain": [
              "<Figure size 432x288 with 1 Axes>"
            ]
          },
          "metadata": {},
          "output_type": "display_data"
        }
      ],
      "source": [
        "#отображение соотношения типа пользователей на круговой диаграмме\n",
        "percentages.plot(kind='pie', autopct='%1.1f%%', startangle=90)\n",
        "plt.title(\"Распределение типов подписок\")\n",
        "plt.ylabel(\"\")  # Удаляем название оси y для лучшего отображения\n",
        "plt.show()"
      ]
    },
    {
      "cell_type": "code",
      "execution_count": null,
      "id": "6bf288b5",
      "metadata": {
        "scrolled": true,
        "id": "6bf288b5",
        "outputId": "b9a6f307-0b3d-4fe3-ddca-16fe885c49ce"
      },
      "outputs": [
        {
          "data": {
            "text/plain": [
              "Пятигорск         219\n",
              "Екатеринбург      204\n",
              "Ростов-на-Дону    198\n",
              "Краснодар         193\n",
              "Сочи              189\n",
              "Омск              183\n",
              "Тюмень            180\n",
              "Москва            168\n",
              "Name: city, dtype: int64"
            ]
          },
          "metadata": {},
          "output_type": "display_data"
        }
      ],
      "source": [
        "# Подсчет частоты встречаемости городов\n",
        "city_counts = users['city'].value_counts()\n",
        "\n",
        "# Вывод результата\n",
        "display(city_counts)"
      ]
    },
    {
      "cell_type": "code",
      "execution_count": null,
      "id": "4bb451d2",
      "metadata": {
        "scrolled": false,
        "id": "4bb451d2",
        "outputId": "ae470afb-a912-4c18-c04f-d0d593e2ba7c"
      },
      "outputs": [
        {
          "data": {
            "text/plain": [
              "free     835\n",
              "ultra    699\n",
              "Name: subscription_type, dtype: int64"
            ]
          },
          "metadata": {},
          "output_type": "display_data"
        }
      ],
      "source": [
        "# Подсчет частоты типа подписки\n",
        "subscription_type_counts = users['subscription_type'].value_counts()\n",
        "\n",
        "# Вывод результата\n",
        "display(subscription_type_counts)"
      ]
    },
    {
      "cell_type": "code",
      "execution_count": null,
      "id": "c9af1423",
      "metadata": {
        "scrolled": true,
        "id": "c9af1423",
        "outputId": "a92c24b3-f77e-40a1-d0ae-e5e6364d9e76"
      },
      "outputs": [
        {
          "data": {
            "text/plain": [
              "count    1534.000000\n",
              "mean       24.903520\n",
              "std         4.572367\n",
              "min        12.000000\n",
              "25%        22.000000\n",
              "50%        25.000000\n",
              "75%        28.000000\n",
              "max        43.000000\n",
              "Name: age, dtype: float64"
            ]
          },
          "execution_count": 27,
          "metadata": {},
          "output_type": "execute_result"
        }
      ],
      "source": [
        "#описание столбца  age\n",
        "users['age'].describe()"
      ]
    },
    {
      "cell_type": "code",
      "execution_count": null,
      "id": "485e01bd",
      "metadata": {
        "id": "485e01bd",
        "outputId": "40599758-7245-4ef2-b4d6-8393326084ff"
      },
      "outputs": [
        {
          "data": {
            "text/plain": [
              "25.0"
            ]
          },
          "execution_count": 28,
          "metadata": {},
          "output_type": "execute_result"
        }
      ],
      "source": [
        "#медианный возраст\n",
        "users['age'].median()"
      ]
    },
    {
      "cell_type": "code",
      "execution_count": null,
      "id": "1f221885",
      "metadata": {
        "id": "1f221885",
        "outputId": "e808dfd0-6d70-46a8-de13-dcc881483191"
      },
      "outputs": [
        {
          "data": {
            "text/plain": [
              "Index(['user_id', 'distance', 'duration', 'date', 'month_of_ride'], dtype='object')"
            ]
          },
          "execution_count": 29,
          "metadata": {},
          "output_type": "execute_result"
        }
      ],
      "source": [
        "rides.columns\n"
      ]
    },
    {
      "cell_type": "code",
      "execution_count": null,
      "id": "0a9ff6df",
      "metadata": {
        "scrolled": false,
        "id": "0a9ff6df",
        "outputId": "170c1fd1-8616-4113-a9ef-844cdddb2374"
      },
      "outputs": [
        {
          "data": {
            "image/png": "[encoded data removed]",
            "text/plain": [
              "<Figure size 720x360 with 1 Axes>"
            ]
          },
          "metadata": {
            "needs_background": "light"
          },
          "output_type": "display_data"
        },
        {
          "data": {
            "image/png": "[encoded data removed]",
            "text/plain": [
              "<Figure size 720x360 with 1 Axes>"
            ]
          },
          "metadata": {
            "needs_background": "light"
          },
          "output_type": "display_data"
        },
        {
          "data": {
            "image/png": "[encoded data removed]",
            "text/plain": [
              "<Figure size 720x360 with 1 Axes>"
            ]
          },
          "metadata": {
            "needs_background": "light"
          },
          "output_type": "display_data"
        },
        {
          "data": {
            "image/png": "[encoded data removed]",
            "text/plain": [
              "<Figure size 720x360 with 1 Axes>"
            ]
          },
          "metadata": {
            "needs_background": "light"
          },
          "output_type": "display_data"
        },
        {
          "data": {
            "image/png": "[encoded data removed]",
            "text/plain": [
              "<Figure size 720x360 with 1 Axes>"
            ]
          },
          "metadata": {
            "needs_background": "light"
          },
          "output_type": "display_data"
        },
        {
          "data": {
            "image/png": "[encoded data removed]",
            "text/plain": [
              "<Figure size 720x360 with 1 Axes>"
            ]
          },
          "metadata": {
            "needs_background": "light"
          },
          "output_type": "display_data"
        }
      ],
      "source": [
        "# Построение гистограмм для каждой колонки rides\n",
        "#заданные колонки\n",
        "columns_to_plot =['distance', 'duration', 'month_of_ride']\n",
        "\n",
        "for column in columns_to_plot:\n",
        "    plt.figure(figsize=(10, 5))\n",
        "    plt.hist(rides[column], bins=30)\n",
        "    plt.xlabel(column)\n",
        "    plt.ylabel('Частота')\n",
        "    plt.title(f'Гистограмма {column}')\n",
        "    plt.show()\n",
        "\n",
        "     # Боксплот\n",
        "    plt.figure(figsize=(10, 5))\n",
        "    plt.boxplot(rides[column])\n",
        "    plt.xlabel(column)\n",
        "    plt.ylabel('Значение')\n",
        "    plt.title(f'Боксплот для {column}')\n",
        "    plt.show()"
      ]
    },
    {
      "cell_type": "code",
      "execution_count": null,
      "id": "fd834eb4",
      "metadata": {
        "scrolled": true,
        "id": "fd834eb4",
        "outputId": "a1e71465-ba49-45f4-d375-9945030466e8"
      },
      "outputs": [
        {
          "data": {
            "text/plain": [
              "count    18068.000000\n",
              "mean      3070.659976\n",
              "std       1116.831209\n",
              "min          0.855683\n",
              "25%       2543.226360\n",
              "50%       3133.609994\n",
              "75%       3776.222735\n",
              "max       7211.007745\n",
              "Name: distance, dtype: float64"
            ]
          },
          "execution_count": 31,
          "metadata": {},
          "output_type": "execute_result"
        }
      ],
      "source": [
        "#описание столбца distance\n",
        "rides['distance'].describe()"
      ]
    },
    {
      "cell_type": "code",
      "execution_count": null,
      "id": "0520f7c4",
      "metadata": {
        "id": "0520f7c4",
        "outputId": "4eeea15a-8153-431f-d34c-d93202fdcb7b"
      },
      "outputs": [
        {
          "data": {
            "text/plain": [
              "3133.6099936787664"
            ]
          },
          "execution_count": 32,
          "metadata": {},
          "output_type": "execute_result"
        }
      ],
      "source": [
        "#расстояние, которое пользователь преодолел за одну поездку\n",
        "rides['distance'].median()"
      ]
    },
    {
      "cell_type": "code",
      "execution_count": null,
      "id": "8ab702ef",
      "metadata": {
        "scrolled": true,
        "id": "8ab702ef",
        "outputId": "002222ca-3c92-4c1e-c8f5-b17c4516a924"
      },
      "outputs": [
        {
          "data": {
            "text/plain": [
              "count    18068.000000\n",
              "mean        17.805011\n",
              "std          6.091051\n",
              "min          0.500000\n",
              "25%         13.597563\n",
              "50%         17.678395\n",
              "75%         21.724800\n",
              "max         40.823963\n",
              "Name: duration, dtype: float64"
            ]
          },
          "execution_count": 33,
          "metadata": {},
          "output_type": "execute_result"
        }
      ],
      "source": [
        "#продолжительность поездок\n",
        "rides['duration'].describe()"
      ]
    },
    {
      "cell_type": "code",
      "execution_count": null,
      "id": "21a70f9c",
      "metadata": {
        "scrolled": true,
        "id": "21a70f9c",
        "outputId": "eda36997-2894-429b-a554-b47b9c99487f"
      },
      "outputs": [
        {
          "data": {
            "text/plain": [
              "17.678394530393803"
            ]
          },
          "execution_count": 34,
          "metadata": {},
          "output_type": "execute_result"
        }
      ],
      "source": [
        "#продолжитешльность поездки\n",
        "rides['duration'].median()"
      ]
    },
    {
      "cell_type": "markdown",
      "id": "23bee339",
      "metadata": {
        "id": "23bee339"
      },
      "source": [
        "Выводы: исследовательский анализ данных:\n",
        "        \n",
        "Частота встречаемости городов:  \n",
        "В данных присутствуют пользователи из нескольких городов. Некоторые города представлены активнее, возможно, из-за более активной рекламной кампании. Определены лидирующие города по активности пользователей, что может указывать на наиболее перспективные рынки для развития или усиления маркетинговых усилий.  Больше всего пользователей в Пятигорске(219), а меньше всего в Москве(168)\n",
        "Соотношение пользователей с подпиской и без подписки:  \n",
        "Было установлено, что  подписки нет у большего количества людей(835), а с подпиской ultra всего 699.  \n",
        "Возраст пользователей:    \n",
        "\n",
        "В данных выявлен диапазон возрастов пользователей.Они представляют собой широкий диапазон от подростков 12 лет до среднего возраста с максимумом в 43 года, чаще всего пользуются самокатами молодые люди 25 лет.\n",
        "Расстояние, которое пользователь преодолел за одну поездку:  \n",
        "Большинство поездок совершается на среднее расстояние чуть больше 3х км(3133.60м), но также на гистограмме можно увидеть и большое количество  коротких поездок. Вероятно самокаты часто используются для коротких поездок( например,от метро до дома)\n",
        "Продолжительность поездок:  \n",
        "Пользователи в среднем проводят 17.67 минут в пути на самокатах."
      ]
    },
    {
      "cell_type": "markdown",
      "id": "4ef51331",
      "metadata": {
        "id": "4ef51331"
      },
      "source": [
        "#### Шаг 4. Объединение данных"
      ]
    },
    {
      "cell_type": "code",
      "execution_count": null,
      "id": "4814c4cb",
      "metadata": {
        "id": "4814c4cb",
        "outputId": "dda8a5d8-d9d1-4397-9ab0-1d070975a1f4"
      },
      "outputs": [
        {
          "data": {
            "text/plain": [
              "'Размер датафрейма users:'"
            ]
          },
          "metadata": {},
          "output_type": "display_data"
        },
        {
          "data": {
            "text/plain": [
              "(1534, 5)"
            ]
          },
          "metadata": {},
          "output_type": "display_data"
        },
        {
          "data": {
            "text/plain": [
              "'Размер датафрейма rides:'"
            ]
          },
          "metadata": {},
          "output_type": "display_data"
        },
        {
          "data": {
            "text/plain": [
              "(18068, 5)"
            ]
          },
          "metadata": {},
          "output_type": "display_data"
        },
        {
          "data": {
            "text/plain": [
              "'Размер датафрейма subscriptions:'"
            ]
          },
          "metadata": {},
          "output_type": "display_data"
        },
        {
          "data": {
            "text/plain": [
              "(2, 4)"
            ]
          },
          "metadata": {},
          "output_type": "display_data"
        }
      ],
      "source": [
        "#вывод размеров датасетов до объединения\n",
        "display(\"Размер датафрейма users:\", users.shape)\n",
        "display(\"Размер датафрейма rides:\", rides.shape)\n",
        "display(\"Размер датафрейма subscriptions:\",subscriptions.shape)"
      ]
    },
    {
      "cell_type": "code",
      "execution_count": null,
      "id": "d261b851",
      "metadata": {
        "id": "d261b851",
        "outputId": "860c2023-0de2-4bdd-f411-3c313aaf340c"
      },
      "outputs": [
        {
          "data": {
            "text/plain": [
              "Index(['user_id', 'name', 'age', 'city', 'subscription_type'], dtype='object')"
            ]
          },
          "execution_count": 36,
          "metadata": {},
          "output_type": "execute_result"
        }
      ],
      "source": [
        "users.columns\n"
      ]
    },
    {
      "cell_type": "code",
      "execution_count": null,
      "id": "139a5323",
      "metadata": {
        "id": "139a5323",
        "outputId": "4171690f-4f12-467d-8413-e80506a21947"
      },
      "outputs": [
        {
          "data": {
            "text/plain": [
              "Index(['user_id', 'distance', 'duration', 'date', 'month_of_ride'], dtype='object')"
            ]
          },
          "execution_count": 37,
          "metadata": {},
          "output_type": "execute_result"
        }
      ],
      "source": [
        "rides.columns\n"
      ]
    },
    {
      "cell_type": "code",
      "execution_count": null,
      "id": "ad256bc5",
      "metadata": {
        "id": "ad256bc5",
        "outputId": "6b22bbe5-4a78-4266-f023-953a3c95fdf4"
      },
      "outputs": [
        {
          "data": {
            "text/plain": [
              "Index(['subscription_type', 'minute_price', 'start_ride_price',\n",
              "       'subscription_fee'],\n",
              "      dtype='object')"
            ]
          },
          "execution_count": 38,
          "metadata": {},
          "output_type": "execute_result"
        }
      ],
      "source": [
        "subscriptions.columns"
      ]
    },
    {
      "cell_type": "code",
      "execution_count": null,
      "id": "9a13db7b",
      "metadata": {
        "id": "9a13db7b"
      },
      "outputs": [],
      "source": [
        "# Объединение таблиц users и rides по столбцу 'user_id'\n",
        "merged_data = pd.merge(users, rides, on='user_id')\n",
        "\n"
      ]
    },
    {
      "cell_type": "code",
      "execution_count": null,
      "id": "1eae2401",
      "metadata": {
        "id": "1eae2401"
      },
      "outputs": [],
      "source": [
        "# Объединение таблиц merged_data и subscription по столбцу 'subscription_type'\n",
        "merged_data = pd.merge(merged_data, subscriptions, on='subscription_type')\n"
      ]
    },
    {
      "cell_type": "code",
      "execution_count": null,
      "id": "9623b337",
      "metadata": {
        "scrolled": false,
        "id": "9623b337",
        "outputId": "c4ddf852-e006-45db-fdef-998e2beedf7a"
      },
      "outputs": [
        {
          "data": {
            "text/html": [
              "<div>\n",
              "<style scoped>\n",
              "    .dataframe tbody tr th:only-of-type {\n",
              "        vertical-align: middle;\n",
              "    }\n",
              "\n",
              "    .dataframe tbody tr th {\n",
              "        vertical-align: top;\n",
              "    }\n",
              "\n",
              "    .dataframe thead th {\n",
              "        text-align: right;\n",
              "    }\n",
              "</style>\n",
              "<table border=\"1\" class=\"dataframe\">\n",
              "  <thead>\n",
              "    <tr style=\"text-align: right;\">\n",
              "      <th></th>\n",
              "      <th>user_id</th>\n",
              "      <th>name</th>\n",
              "      <th>age</th>\n",
              "      <th>city</th>\n",
              "      <th>subscription_type</th>\n",
              "      <th>distance</th>\n",
              "      <th>duration</th>\n",
              "      <th>date</th>\n",
              "      <th>month_of_ride</th>\n",
              "      <th>minute_price</th>\n",
              "      <th>start_ride_price</th>\n",
              "      <th>subscription_fee</th>\n",
              "    </tr>\n",
              "  </thead>\n",
              "  <tbody>\n",
              "    <tr>\n",
              "      <th>0</th>\n",
              "      <td>1</td>\n",
              "      <td>Кира</td>\n",
              "      <td>22</td>\n",
              "      <td>Тюмень</td>\n",
              "      <td>ultra</td>\n",
              "      <td>4409.919140</td>\n",
              "      <td>25.599769</td>\n",
              "      <td>2021-01-01</td>\n",
              "      <td>1</td>\n",
              "      <td>6</td>\n",
              "      <td>0</td>\n",
              "      <td>199</td>\n",
              "    </tr>\n",
              "    <tr>\n",
              "      <th>1</th>\n",
              "      <td>1</td>\n",
              "      <td>Кира</td>\n",
              "      <td>22</td>\n",
              "      <td>Тюмень</td>\n",
              "      <td>ultra</td>\n",
              "      <td>2617.592153</td>\n",
              "      <td>15.816871</td>\n",
              "      <td>2021-01-18</td>\n",
              "      <td>1</td>\n",
              "      <td>6</td>\n",
              "      <td>0</td>\n",
              "      <td>199</td>\n",
              "    </tr>\n",
              "    <tr>\n",
              "      <th>2</th>\n",
              "      <td>1</td>\n",
              "      <td>Кира</td>\n",
              "      <td>22</td>\n",
              "      <td>Тюмень</td>\n",
              "      <td>ultra</td>\n",
              "      <td>754.159807</td>\n",
              "      <td>6.232113</td>\n",
              "      <td>2021-04-20</td>\n",
              "      <td>4</td>\n",
              "      <td>6</td>\n",
              "      <td>0</td>\n",
              "      <td>199</td>\n",
              "    </tr>\n",
              "    <tr>\n",
              "      <th>3</th>\n",
              "      <td>1</td>\n",
              "      <td>Кира</td>\n",
              "      <td>22</td>\n",
              "      <td>Тюмень</td>\n",
              "      <td>ultra</td>\n",
              "      <td>2694.783254</td>\n",
              "      <td>18.511000</td>\n",
              "      <td>2021-08-11</td>\n",
              "      <td>8</td>\n",
              "      <td>6</td>\n",
              "      <td>0</td>\n",
              "      <td>199</td>\n",
              "    </tr>\n",
              "    <tr>\n",
              "      <th>4</th>\n",
              "      <td>1</td>\n",
              "      <td>Кира</td>\n",
              "      <td>22</td>\n",
              "      <td>Тюмень</td>\n",
              "      <td>ultra</td>\n",
              "      <td>4028.687306</td>\n",
              "      <td>26.265803</td>\n",
              "      <td>2021-08-28</td>\n",
              "      <td>8</td>\n",
              "      <td>6</td>\n",
              "      <td>0</td>\n",
              "      <td>199</td>\n",
              "    </tr>\n",
              "  </tbody>\n",
              "</table>\n",
              "</div>"
            ],
            "text/plain": [
              "   user_id  name  age    city subscription_type     distance   duration  \\\n",
              "0        1  Кира   22  Тюмень             ultra  4409.919140  25.599769   \n",
              "1        1  Кира   22  Тюмень             ultra  2617.592153  15.816871   \n",
              "2        1  Кира   22  Тюмень             ultra   754.159807   6.232113   \n",
              "3        1  Кира   22  Тюмень             ultra  2694.783254  18.511000   \n",
              "4        1  Кира   22  Тюмень             ultra  4028.687306  26.265803   \n",
              "\n",
              "        date  month_of_ride  minute_price  start_ride_price  subscription_fee  \n",
              "0 2021-01-01              1             6                 0               199  \n",
              "1 2021-01-18              1             6                 0               199  \n",
              "2 2021-04-20              4             6                 0               199  \n",
              "3 2021-08-11              8             6                 0               199  \n",
              "4 2021-08-28              8             6                 0               199  "
            ]
          },
          "metadata": {},
          "output_type": "display_data"
        }
      ],
      "source": [
        "\n",
        "# Вывод объединенного DataFrame\n",
        "display(merged_data.head())"
      ]
    },
    {
      "cell_type": "code",
      "execution_count": null,
      "id": "86464464",
      "metadata": {
        "scrolled": true,
        "id": "86464464",
        "outputId": "4de79003-7ae8-4013-98f6-0831c6d53576"
      },
      "outputs": [
        {
          "data": {
            "text/plain": [
              "'Размер датафрейма merged_data:'"
            ]
          },
          "metadata": {},
          "output_type": "display_data"
        },
        {
          "data": {
            "text/plain": [
              "(18068, 12)"
            ]
          },
          "metadata": {},
          "output_type": "display_data"
        }
      ],
      "source": [
        "#проверка размерности результирующего датасета\n",
        "display(\"Размер датафрейма merged_data:\", merged_data.shape)"
      ]
    },
    {
      "cell_type": "markdown",
      "id": "28cbea48",
      "metadata": {
        "id": "28cbea48"
      },
      "source": [
        "Размерность результирующего датасета совпадает с размерностью исходного. Следовательно объединение прошло корректно. Потеря данных и дубликаты отстутсвуют."
      ]
    },
    {
      "cell_type": "code",
      "execution_count": null,
      "id": "426d1817",
      "metadata": {
        "id": "426d1817"
      },
      "outputs": [],
      "source": [
        "# DataFrame с данными о пользователях без подписки (subscription_type == 'free') с помощью метода query():\n",
        "users_without_subscription = merged_data.query(\"subscription_type == 'free'\")\n",
        "\n",
        "\n",
        "\n"
      ]
    },
    {
      "cell_type": "code",
      "execution_count": null,
      "id": "67c750f5",
      "metadata": {
        "id": "67c750f5"
      },
      "outputs": [],
      "source": [
        "# DataFrame с данными о пользователях с подпиской типа 'ультра' (subscription_type == 'ультра') с помощью метода query():\n",
        "users_with_ultra_subscription = merged_data.query(\"subscription_type == 'ultra'\")\n"
      ]
    },
    {
      "cell_type": "code",
      "execution_count": null,
      "id": "247327c9",
      "metadata": {
        "scrolled": true,
        "id": "247327c9",
        "outputId": "cc6919f2-c7c1-4df2-afcd-1788395e1c2b"
      },
      "outputs": [
        {
          "data": {
            "text/plain": [
              "Index(['user_id', 'name', 'age', 'city', 'subscription_type', 'distance',\n",
              "       'duration', 'date', 'month_of_ride', 'minute_price', 'start_ride_price',\n",
              "       'subscription_fee'],\n",
              "      dtype='object')"
            ]
          },
          "execution_count": 45,
          "metadata": {},
          "output_type": "execute_result"
        }
      ],
      "source": [
        "users_without_subscription.columns"
      ]
    },
    {
      "cell_type": "code",
      "execution_count": null,
      "id": "9cbcfeaa",
      "metadata": {
        "id": "9cbcfeaa",
        "outputId": "9fe851b7-6a20-4f0a-deca-0b332247127f"
      },
      "outputs": [
        {
          "name": "stdout",
          "output_type": "stream",
          "text": [
            "<class 'pandas.core.frame.DataFrame'>\n",
            "Int64Index: 11568 entries, 6500 to 18067\n",
            "Data columns (total 12 columns):\n",
            " #   Column             Non-Null Count  Dtype         \n",
            "---  ------             --------------  -----         \n",
            " 0   user_id            11568 non-null  int64         \n",
            " 1   name               11568 non-null  object        \n",
            " 2   age                11568 non-null  int64         \n",
            " 3   city               11568 non-null  object        \n",
            " 4   subscription_type  11568 non-null  object        \n",
            " 5   distance           11568 non-null  float64       \n",
            " 6   duration           11568 non-null  float64       \n",
            " 7   date               11568 non-null  datetime64[ns]\n",
            " 8   month_of_ride      11568 non-null  int64         \n",
            " 9   minute_price       11568 non-null  int64         \n",
            " 10  start_ride_price   11568 non-null  int64         \n",
            " 11  subscription_fee   11568 non-null  int64         \n",
            "dtypes: datetime64[ns](1), float64(2), int64(6), object(3)\n",
            "memory usage: 1.1+ MB\n"
          ]
        }
      ],
      "source": [
        "users_without_subscription.info()"
      ]
    },
    {
      "cell_type": "code",
      "execution_count": null,
      "id": "653f41eb",
      "metadata": {
        "id": "653f41eb",
        "outputId": "7fafcf39-947c-4550-c665-239c5166cbf1"
      },
      "outputs": [
        {
          "name": "stdout",
          "output_type": "stream",
          "text": [
            "<class 'pandas.core.frame.DataFrame'>\n",
            "Int64Index: 6500 entries, 0 to 6499\n",
            "Data columns (total 12 columns):\n",
            " #   Column             Non-Null Count  Dtype         \n",
            "---  ------             --------------  -----         \n",
            " 0   user_id            6500 non-null   int64         \n",
            " 1   name               6500 non-null   object        \n",
            " 2   age                6500 non-null   int64         \n",
            " 3   city               6500 non-null   object        \n",
            " 4   subscription_type  6500 non-null   object        \n",
            " 5   distance           6500 non-null   float64       \n",
            " 6   duration           6500 non-null   float64       \n",
            " 7   date               6500 non-null   datetime64[ns]\n",
            " 8   month_of_ride      6500 non-null   int64         \n",
            " 9   minute_price       6500 non-null   int64         \n",
            " 10  start_ride_price   6500 non-null   int64         \n",
            " 11  subscription_fee   6500 non-null   int64         \n",
            "dtypes: datetime64[ns](1), float64(2), int64(6), object(3)\n",
            "memory usage: 660.2+ KB\n"
          ]
        }
      ],
      "source": [
        "users_with_ultra_subscription.info()"
      ]
    },
    {
      "cell_type": "code",
      "execution_count": null,
      "id": "88fe7f32",
      "metadata": {
        "scrolled": false,
        "id": "88fe7f32",
        "outputId": "6fb8f25e-c974-4d98-f138-beb53cbbe7ec"
      },
      "outputs": [
        {
          "data": {
            "image/png": "[encoded data removed]",
            "text/plain": [
              "<Figure size 720x360 with 1 Axes>"
            ]
          },
          "metadata": {
            "needs_background": "light"
          },
          "output_type": "display_data"
        },
        {
          "data": {
            "image/png": "[encoded data removed]",
            "text/plain": [
              "<Figure size 720x360 with 1 Axes>"
            ]
          },
          "metadata": {
            "needs_background": "light"
          },
          "output_type": "display_data"
        }
      ],
      "source": [
        "# Построение гистограмм для каждой колонки users_without_subscription\n",
        "#заданные колонки\n",
        "columns_to_plot =['distance',\n",
        "       'duration']\n",
        "\n",
        "for column in columns_to_plot:\n",
        "    plt.figure(figsize=(10, 5))\n",
        "    plt.hist(users_without_subscription[column], bins=30)\n",
        "    plt.xlabel(column)\n",
        "    plt.ylabel('Частота')\n",
        "    plt.title(f'Гистограмма {column}')\n",
        "    plt.show()"
      ]
    },
    {
      "cell_type": "code",
      "execution_count": null,
      "id": "3b1ac993",
      "metadata": {
        "id": "3b1ac993",
        "outputId": "5096b418-26f3-48af-c513-87562737c119"
      },
      "outputs": [
        {
          "data": {
            "text/plain": [
              "Index(['user_id', 'name', 'age', 'city', 'subscription_type', 'distance',\n",
              "       'duration', 'date', 'month_of_ride', 'minute_price', 'start_ride_price',\n",
              "       'subscription_fee'],\n",
              "      dtype='object')"
            ]
          },
          "execution_count": 49,
          "metadata": {},
          "output_type": "execute_result"
        }
      ],
      "source": [
        "users_without_subscription.columns"
      ]
    },
    {
      "cell_type": "code",
      "execution_count": null,
      "id": "13238b80",
      "metadata": {
        "scrolled": true,
        "id": "13238b80",
        "outputId": "b108a1b6-42ee-4f99-e591-9867c7e3fd08"
      },
      "outputs": [
        {
          "data": {
            "text/plain": [
              "count    11568.000000\n",
              "mean        17.390909\n",
              "std          6.326803\n",
              "min          0.500000\n",
              "25%         12.958437\n",
              "50%         17.326890\n",
              "75%         21.594071\n",
              "max         34.948498\n",
              "Name: duration, dtype: float64"
            ]
          },
          "execution_count": 50,
          "metadata": {},
          "output_type": "execute_result"
        }
      ],
      "source": [
        "users_without_subscription['duration'].describe()"
      ]
    },
    {
      "cell_type": "code",
      "execution_count": null,
      "id": "be79dc2d",
      "metadata": {
        "scrolled": true,
        "id": "be79dc2d",
        "outputId": "27770573-f08b-471f-dcfc-2b89c6e5ef84"
      },
      "outputs": [
        {
          "data": {
            "text/plain": [
              "count    11568.000000\n",
              "mean      3045.495282\n",
              "std       1246.173806\n",
              "min          0.855683\n",
              "25%       2366.562689\n",
              "50%       3114.648465\n",
              "75%       3905.697894\n",
              "max       7211.007745\n",
              "Name: distance, dtype: float64"
            ]
          },
          "execution_count": 51,
          "metadata": {},
          "output_type": "execute_result"
        }
      ],
      "source": [
        "users_without_subscription['distance'].describe()"
      ]
    },
    {
      "cell_type": "code",
      "execution_count": null,
      "id": "d21de835",
      "metadata": {
        "id": "d21de835",
        "outputId": "4791db57-144b-4a07-c88f-3e0dfe729e47"
      },
      "outputs": [
        {
          "data": {
            "text/plain": [
              "3114.648464847295"
            ]
          },
          "execution_count": 52,
          "metadata": {},
          "output_type": "execute_result"
        }
      ],
      "source": [
        "users_without_subscription['distance'].median()"
      ]
    },
    {
      "cell_type": "code",
      "execution_count": null,
      "id": "6471d76c",
      "metadata": {
        "id": "6471d76c",
        "outputId": "eba227ed-f1a8-45dc-ae7a-ce57336a5eaa"
      },
      "outputs": [
        {
          "data": {
            "text/plain": [
              "17.326890226082043"
            ]
          },
          "execution_count": 53,
          "metadata": {},
          "output_type": "execute_result"
        }
      ],
      "source": [
        "users_without_subscription['duration'].median()"
      ]
    },
    {
      "cell_type": "code",
      "execution_count": null,
      "id": "64137e25",
      "metadata": {
        "scrolled": false,
        "id": "64137e25",
        "outputId": "08558bf6-e843-4d75-e66e-c2090110b7bf"
      },
      "outputs": [
        {
          "data": {
            "image/png": "[encoded data removed]",
            "text/plain": [
              "<Figure size 720x360 with 1 Axes>"
            ]
          },
          "metadata": {
            "needs_background": "light"
          },
          "output_type": "display_data"
        },
        {
          "data": {
            "image/png": "[encoded data removed]",
            "text/plain": [
              "<Figure size 720x360 with 1 Axes>"
            ]
          },
          "metadata": {
            "needs_background": "light"
          },
          "output_type": "display_data"
        }
      ],
      "source": [
        "# Построение гистограмм для каждой колонки users_with_ultra_subscription\n",
        "#заданные колонки\n",
        "columns_to_plot =['distance',\n",
        "       'duration']\n",
        "\n",
        "for column in columns_to_plot:\n",
        "    plt.figure(figsize=(10, 5))\n",
        "    plt.hist(users_with_ultra_subscription[column], bins=30)\n",
        "    plt.xlabel(column)\n",
        "    plt.ylabel('Частота')\n",
        "    plt.title(f'Гистограмма {column}')\n",
        "    plt.show()"
      ]
    },
    {
      "cell_type": "code",
      "execution_count": null,
      "id": "81d77ef6",
      "metadata": {
        "scrolled": false,
        "id": "81d77ef6",
        "outputId": "8a9baddf-daaf-47a0-c330-d690f9962f13"
      },
      "outputs": [
        {
          "data": {
            "text/plain": [
              "count    6500.000000\n",
              "mean       18.541985\n",
              "std         5.572048\n",
              "min         3.760353\n",
              "25%        14.524654\n",
              "50%        18.178153\n",
              "75%        21.884129\n",
              "max        40.823963\n",
              "Name: duration, dtype: float64"
            ]
          },
          "execution_count": 55,
          "metadata": {},
          "output_type": "execute_result"
        }
      ],
      "source": [
        "users_with_ultra_subscription['duration'].describe()"
      ]
    },
    {
      "cell_type": "code",
      "execution_count": null,
      "id": "5a3f0180",
      "metadata": {
        "id": "5a3f0180",
        "outputId": "1e6fe293-69ac-4f2d-f9b4-7041a0a6328d"
      },
      "outputs": [
        {
          "data": {
            "text/plain": [
              "18.17815320055055"
            ]
          },
          "execution_count": 56,
          "metadata": {},
          "output_type": "execute_result"
        }
      ],
      "source": [
        "users_with_ultra_subscription['duration'].median()"
      ]
    },
    {
      "cell_type": "code",
      "execution_count": null,
      "id": "8b4a8807",
      "metadata": {
        "scrolled": true,
        "id": "8b4a8807",
        "outputId": "8f9208e0-3277-413c-a405-d37ac3728cde"
      },
      "outputs": [
        {
          "data": {
            "text/plain": [
              "count    6500.000000\n",
              "mean     3115.445388\n",
              "std       836.895330\n",
              "min       244.210438\n",
              "25%      2785.444017\n",
              "50%      3148.637229\n",
              "75%      3560.574425\n",
              "max      5699.769662\n",
              "Name: distance, dtype: float64"
            ]
          },
          "execution_count": 57,
          "metadata": {},
          "output_type": "execute_result"
        }
      ],
      "source": [
        "users_with_ultra_subscription['distance'].describe()"
      ]
    },
    {
      "cell_type": "code",
      "execution_count": null,
      "id": "bdb2bf1b",
      "metadata": {
        "id": "bdb2bf1b",
        "outputId": "d55f7402-9010-454b-e3db-fd5e6f7d7d21"
      },
      "outputs": [
        {
          "data": {
            "text/plain": [
              "3148.6372291760854"
            ]
          },
          "execution_count": 58,
          "metadata": {},
          "output_type": "execute_result"
        }
      ],
      "source": [
        "users_with_ultra_subscription['distance'].median()"
      ]
    },
    {
      "cell_type": "markdown",
      "id": "edc6a240",
      "metadata": {
        "id": "edc6a240"
      },
      "source": [
        "Вывод: Обьединение данных  \n",
        "\n",
        "Данные о пользователях, поездках и подписках были успешно объединены в одном датафрейме. Это позволит провести более детальный и комплексный анализ активности пользователей, учитывая все доступные аспекты их взаимодействия с сервисом.\n",
        "Разделение данных по типам подписок:  \n",
        "Для детального изучения поведения разных категорий пользователей данные были разделены на две группы: пользователи без подписки и пользователи с подпиской. Это позволит лучше понимать, какие особенности использования сервиса характерны для каждой из групп и как можно оптимизировать предложения для каждой из них.  \n",
        "Визуализация данных о расстоянии и времени поездок:  \n",
        "На основе графиков можно сделать вывод о том, что расстояние и продолжительность поездок различаются между пользователями с подпиской и без неё. Возможно, пользователи с подпиской чаще пользуются самокатами для длительных поездок или на большие расстояния, благодаря льготным условиям использования. Медианное время поездки с подпиской - 18.17 минуты,а медианное время поездки без подписки 17.32. Это значит, что пользователи с подпиской тратят в среднем примерно на минуту больше на поездку чем без подписки. Пользователи с подпиской реже совершают короткие поездки. Также медианная дистанция поездок у пользователей с подпиской выше (3148метров) чем у пользователей без подписки (3114.64 метра).\n"
      ]
    },
    {
      "cell_type": "markdown",
      "id": "501d30d9",
      "metadata": {
        "id": "501d30d9"
      },
      "source": [
        "\n",
        "\n",
        "У пользователей без подписки значительно больше коротких поездок - до 1 км и в целом максимальная дальность поездки выше, чем у платных пользователей."
      ]
    },
    {
      "cell_type": "markdown",
      "id": "402d620f",
      "metadata": {
        "id": "402d620f"
      },
      "source": [
        "#### Шаг 5. Подсчёт выручки"
      ]
    },
    {
      "cell_type": "code",
      "execution_count": null,
      "id": "33e79e50",
      "metadata": {
        "id": "33e79e50",
        "outputId": "b3513cb1-417e-499f-8c7d-32a404f63aad"
      },
      "outputs": [
        {
          "data": {
            "text/plain": [
              "0"
            ]
          },
          "metadata": {},
          "output_type": "display_data"
        }
      ],
      "source": [
        "#проверка на пропуски в сводной таблице\n",
        "total_missing = merged_data.isnull().sum().sum()\n",
        "display(total_missing)"
      ]
    },
    {
      "cell_type": "code",
      "execution_count": null,
      "id": "8edfd512",
      "metadata": {
        "id": "8edfd512"
      },
      "outputs": [],
      "source": [
        "# Функция для округления продолжительности поездки до следующего целого числа (метод \"потолок\")\n",
        "def round_up_duration(duration):\n",
        "    return np.ceil(duration)\n",
        "\n",
        "# Применение функции округления продолжительности\n",
        "merged_data['rounded_duration'] = merged_data['duration'].apply(round_up_duration)\n",
        "\n",
        "\n",
        "\n"
      ]
    },
    {
      "cell_type": "code",
      "execution_count": null,
      "id": "f0bb6c53",
      "metadata": {
        "id": "f0bb6c53"
      },
      "outputs": [],
      "source": [
        "\n",
        "# Расчет стоимости каждой поездки\n",
        "merged_data['ride_cost'] = merged_data['rounded_duration'] * merged_data['minute_price'] + merged_data['start_ride_price']\n",
        "\n"
      ]
    },
    {
      "cell_type": "code",
      "execution_count": null,
      "id": "727a117c",
      "metadata": {
        "id": "727a117c"
      },
      "outputs": [],
      "source": [
        "\n",
        "\n",
        "\n",
        "aggregated_data = merged_data.groupby(['user_id', 'month_of_ride', 'subscription_type']).agg({\n",
        "    'distance': 'sum',                    # Суммарное расстояние\n",
        "    'duration': 'count',                  # Количество поездок\n",
        "    'rounded_duration': 'sum',            # Суммарное время\n",
        "    'ride_cost': 'sum',                   # Суммарная стоимость поездок\n",
        "    'subscription_fee': 'mean',           # Стоимость подписки\n",
        "    'start_ride_price': 'first',          # Стоимость старта поездки\n",
        "    'minute_price': 'first'               # Стоимость одной минуты поездки\n",
        "}).reset_index()"
      ]
    },
    {
      "cell_type": "code",
      "execution_count": null,
      "id": "5b8c03b8",
      "metadata": {
        "id": "5b8c03b8"
      },
      "outputs": [],
      "source": [
        "# Переименование столбцов для ясности\n",
        "aggregated_data.rename(columns={\n",
        "    'distance': 'total_distance',\n",
        "    'duration': 'total_rides'\n",
        "}, inplace=True)\n"
      ]
    },
    {
      "cell_type": "code",
      "execution_count": null,
      "id": "b5c68c95",
      "metadata": {
        "scrolled": true,
        "id": "b5c68c95",
        "outputId": "2811d5a7-0568-4cee-c507-97a84b90678c"
      },
      "outputs": [
        {
          "data": {
            "text/html": [
              "<div>\n",
              "<style scoped>\n",
              "    .dataframe tbody tr th:only-of-type {\n",
              "        vertical-align: middle;\n",
              "    }\n",
              "\n",
              "    .dataframe tbody tr th {\n",
              "        vertical-align: top;\n",
              "    }\n",
              "\n",
              "    .dataframe thead th {\n",
              "        text-align: right;\n",
              "    }\n",
              "</style>\n",
              "<table border=\"1\" class=\"dataframe\">\n",
              "  <thead>\n",
              "    <tr style=\"text-align: right;\">\n",
              "      <th></th>\n",
              "      <th>user_id</th>\n",
              "      <th>month_of_ride</th>\n",
              "      <th>subscription_type</th>\n",
              "      <th>total_distance</th>\n",
              "      <th>total_rides</th>\n",
              "      <th>rounded_duration</th>\n",
              "      <th>ride_cost</th>\n",
              "      <th>subscription_fee</th>\n",
              "      <th>start_ride_price</th>\n",
              "      <th>minute_price</th>\n",
              "    </tr>\n",
              "  </thead>\n",
              "  <tbody>\n",
              "    <tr>\n",
              "      <th>0</th>\n",
              "      <td>1</td>\n",
              "      <td>1</td>\n",
              "      <td>ultra</td>\n",
              "      <td>7027.511294</td>\n",
              "      <td>2</td>\n",
              "      <td>42.0</td>\n",
              "      <td>252.0</td>\n",
              "      <td>199</td>\n",
              "      <td>0</td>\n",
              "      <td>6</td>\n",
              "    </tr>\n",
              "    <tr>\n",
              "      <th>1</th>\n",
              "      <td>1</td>\n",
              "      <td>4</td>\n",
              "      <td>ultra</td>\n",
              "      <td>754.159807</td>\n",
              "      <td>1</td>\n",
              "      <td>7.0</td>\n",
              "      <td>42.0</td>\n",
              "      <td>199</td>\n",
              "      <td>0</td>\n",
              "      <td>6</td>\n",
              "    </tr>\n",
              "    <tr>\n",
              "      <th>2</th>\n",
              "      <td>1</td>\n",
              "      <td>8</td>\n",
              "      <td>ultra</td>\n",
              "      <td>6723.470560</td>\n",
              "      <td>2</td>\n",
              "      <td>46.0</td>\n",
              "      <td>276.0</td>\n",
              "      <td>199</td>\n",
              "      <td>0</td>\n",
              "      <td>6</td>\n",
              "    </tr>\n",
              "    <tr>\n",
              "      <th>3</th>\n",
              "      <td>1</td>\n",
              "      <td>10</td>\n",
              "      <td>ultra</td>\n",
              "      <td>5809.911100</td>\n",
              "      <td>2</td>\n",
              "      <td>32.0</td>\n",
              "      <td>192.0</td>\n",
              "      <td>199</td>\n",
              "      <td>0</td>\n",
              "      <td>6</td>\n",
              "    </tr>\n",
              "    <tr>\n",
              "      <th>4</th>\n",
              "      <td>1</td>\n",
              "      <td>11</td>\n",
              "      <td>ultra</td>\n",
              "      <td>7003.499363</td>\n",
              "      <td>3</td>\n",
              "      <td>56.0</td>\n",
              "      <td>336.0</td>\n",
              "      <td>199</td>\n",
              "      <td>0</td>\n",
              "      <td>6</td>\n",
              "    </tr>\n",
              "  </tbody>\n",
              "</table>\n",
              "</div>"
            ],
            "text/plain": [
              "   user_id  month_of_ride subscription_type  total_distance  total_rides  \\\n",
              "0        1              1             ultra     7027.511294            2   \n",
              "1        1              4             ultra      754.159807            1   \n",
              "2        1              8             ultra     6723.470560            2   \n",
              "3        1             10             ultra     5809.911100            2   \n",
              "4        1             11             ultra     7003.499363            3   \n",
              "\n",
              "   rounded_duration  ride_cost  subscription_fee  start_ride_price  \\\n",
              "0              42.0      252.0               199                 0   \n",
              "1               7.0       42.0               199                 0   \n",
              "2              46.0      276.0               199                 0   \n",
              "3              32.0      192.0               199                 0   \n",
              "4              56.0      336.0               199                 0   \n",
              "\n",
              "   minute_price  \n",
              "0             6  \n",
              "1             6  \n",
              "2             6  \n",
              "3             6  \n",
              "4             6  "
            ]
          },
          "execution_count": 64,
          "metadata": {},
          "output_type": "execute_result"
        }
      ],
      "source": [
        "aggregated_data.head()"
      ]
    },
    {
      "cell_type": "code",
      "execution_count": null,
      "id": "e1c2bb1d",
      "metadata": {
        "id": "e1c2bb1d",
        "outputId": "9c374bef-ee33-4e9d-c990-8e2710409350"
      },
      "outputs": [
        {
          "data": {
            "text/plain": [
              "Index(['user_id', 'month_of_ride', 'subscription_type', 'total_distance',\n",
              "       'total_rides', 'rounded_duration', 'ride_cost', 'subscription_fee',\n",
              "       'start_ride_price', 'minute_price'],\n",
              "      dtype='object')"
            ]
          },
          "execution_count": 65,
          "metadata": {},
          "output_type": "execute_result"
        }
      ],
      "source": [
        "aggregated_data.columns"
      ]
    },
    {
      "cell_type": "code",
      "execution_count": null,
      "id": "fcdb2fb3",
      "metadata": {
        "scrolled": true,
        "id": "fcdb2fb3",
        "outputId": "9f51a6da-8216-43b5-8cc5-376d80c30133"
      },
      "outputs": [
        {
          "data": {
            "image/png": "[encoded data removed]",
            "text/plain": [
              "<Figure size 1008x576 with 1 Axes>"
            ]
          },
          "metadata": {
            "needs_background": "light"
          },
          "output_type": "display_data"
        }
      ],
      "source": [
        "#визуализация округленной длительности поездки в зависимости от месяца поездки\n",
        "# Настроим стиль графиков\n",
        "plt.figure(figsize=(14, 8))\n",
        "\n",
        "# Группировка данных по месяцам и подсчет средней длительности для каждого месяца\n",
        "monthly_duration = aggregated_data.groupby('month_of_ride')['rounded_duration'].mean()\n",
        "\n",
        "sns.lineplot(data=monthly_duration, marker='o', color='blue')\n",
        "\n",
        "plt.title('Округленная длительность поездок в зависимости от месяца')\n",
        "plt.xlabel('Месяц')\n",
        "plt.ylabel('Округленная длительность поездок')\n",
        "plt.grid(True, which='both', linestyle='--', linewidth=0.5)\n",
        "\n",
        "plt.tight_layout()\n",
        "plt.show()"
      ]
    },
    {
      "cell_type": "code",
      "execution_count": null,
      "id": "6324a2a7",
      "metadata": {
        "id": "6324a2a7",
        "outputId": "08a6cda9-d48e-47a9-bef9-89d784cdd4ec"
      },
      "outputs": [
        {
          "data": {
            "image/png": "[encoded data removed]",
            "text/plain": [
              "<Figure size 1008x576 with 1 Axes>"
            ]
          },
          "metadata": {
            "needs_background": "light"
          },
          "output_type": "display_data"
        }
      ],
      "source": [
        "#визуализация суммарного расстояния в зависимости от месяца поездки\n",
        "# Настроим стиль графиков\n",
        "plt.figure(figsize=(14, 8))\n",
        "\n",
        "# Группировка данных по месяцам и подсчет средней дистанции для каждого месяца\n",
        "monthly_distance = aggregated_data.groupby('month_of_ride')['total_distance'].mean()\n",
        "\n",
        "sns.lineplot(data=monthly_distance, marker='o', color='blue')\n",
        "\n",
        "plt.title('Расстояние поездок в зависимости от месяца')\n",
        "plt.xlabel('Месяц')\n",
        "plt.ylabel('Расстояние поездок')\n",
        "plt.grid(True, which='both', linestyle='--', linewidth=0.5)\n",
        "\n",
        "plt.tight_layout()\n",
        "plt.show()"
      ]
    },
    {
      "cell_type": "code",
      "execution_count": null,
      "id": "0df6b1cf",
      "metadata": {
        "id": "0df6b1cf",
        "outputId": "de263620-78d8-46ab-f29a-919c7bcc2cbc"
      },
      "outputs": [
        {
          "data": {
            "image/png": "[encoded data removed]",
            "text/plain": [
              "<Figure size 1008x576 with 1 Axes>"
            ]
          },
          "metadata": {
            "needs_background": "light"
          },
          "output_type": "display_data"
        }
      ],
      "source": [
        "#визуализация количества поездок в зависимости от месяца\n",
        "# Настроим стиль графиков\n",
        "plt.figure(figsize=(14, 8))\n",
        "\n",
        "# Группировка данных по месяцам и подсчет средней длительности для каждого месяца\n",
        "monthly_rides = aggregated_data.groupby('month_of_ride')['total_rides'].mean()\n",
        "\n",
        "sns.lineplot(data=monthly_rides, marker='o', color='blue')\n",
        "\n",
        "plt.title('Количество поездок в зависимости от месяца')\n",
        "plt.xlabel('Месяц')\n",
        "plt.ylabel('Количество поездок')\n",
        "plt.grid(True, which='both', linestyle='--', linewidth=0.5)\n",
        "\n",
        "plt.tight_layout()\n",
        "plt.show()"
      ]
    },
    {
      "cell_type": "code",
      "execution_count": null,
      "id": "483732df",
      "metadata": {
        "id": "483732df"
      },
      "outputs": [],
      "source": [
        "# Расчет помесячной выручки\n",
        "#Помесячная выручка считается по формуле: (стоимость старта поездки ×количество поездок) +стоимость одной минуты поездки × общая продолжительность всех поездок в минутах) + стоимость подписки.\n",
        "aggregated_data['monthly_revenue'] = (aggregated_data['start_ride_price'] * aggregated_data['total_rides']) + (aggregated_data['minute_price'] * aggregated_data['rounded_duration']) + aggregated_data['subscription_fee']"
      ]
    },
    {
      "cell_type": "code",
      "execution_count": null,
      "id": "d7cef5af",
      "metadata": {
        "scrolled": false,
        "id": "d7cef5af",
        "outputId": "e1e140fb-221c-4bdf-fe73-ff1b816f4dbe"
      },
      "outputs": [
        {
          "data": {
            "text/html": [
              "<div>\n",
              "<style scoped>\n",
              "    .dataframe tbody tr th:only-of-type {\n",
              "        vertical-align: middle;\n",
              "    }\n",
              "\n",
              "    .dataframe tbody tr th {\n",
              "        vertical-align: top;\n",
              "    }\n",
              "\n",
              "    .dataframe thead th {\n",
              "        text-align: right;\n",
              "    }\n",
              "</style>\n",
              "<table border=\"1\" class=\"dataframe\">\n",
              "  <thead>\n",
              "    <tr style=\"text-align: right;\">\n",
              "      <th></th>\n",
              "      <th>user_id</th>\n",
              "      <th>month_of_ride</th>\n",
              "      <th>subscription_type</th>\n",
              "      <th>total_distance</th>\n",
              "      <th>total_rides</th>\n",
              "      <th>rounded_duration</th>\n",
              "      <th>ride_cost</th>\n",
              "      <th>subscription_fee</th>\n",
              "      <th>start_ride_price</th>\n",
              "      <th>minute_price</th>\n",
              "      <th>monthly_revenue</th>\n",
              "    </tr>\n",
              "  </thead>\n",
              "  <tbody>\n",
              "    <tr>\n",
              "      <th>0</th>\n",
              "      <td>1</td>\n",
              "      <td>1</td>\n",
              "      <td>ultra</td>\n",
              "      <td>7027.511294</td>\n",
              "      <td>2</td>\n",
              "      <td>42.0</td>\n",
              "      <td>252.0</td>\n",
              "      <td>199</td>\n",
              "      <td>0</td>\n",
              "      <td>6</td>\n",
              "      <td>451.0</td>\n",
              "    </tr>\n",
              "    <tr>\n",
              "      <th>1</th>\n",
              "      <td>1</td>\n",
              "      <td>4</td>\n",
              "      <td>ultra</td>\n",
              "      <td>754.159807</td>\n",
              "      <td>1</td>\n",
              "      <td>7.0</td>\n",
              "      <td>42.0</td>\n",
              "      <td>199</td>\n",
              "      <td>0</td>\n",
              "      <td>6</td>\n",
              "      <td>241.0</td>\n",
              "    </tr>\n",
              "    <tr>\n",
              "      <th>2</th>\n",
              "      <td>1</td>\n",
              "      <td>8</td>\n",
              "      <td>ultra</td>\n",
              "      <td>6723.470560</td>\n",
              "      <td>2</td>\n",
              "      <td>46.0</td>\n",
              "      <td>276.0</td>\n",
              "      <td>199</td>\n",
              "      <td>0</td>\n",
              "      <td>6</td>\n",
              "      <td>475.0</td>\n",
              "    </tr>\n",
              "    <tr>\n",
              "      <th>3</th>\n",
              "      <td>1</td>\n",
              "      <td>10</td>\n",
              "      <td>ultra</td>\n",
              "      <td>5809.911100</td>\n",
              "      <td>2</td>\n",
              "      <td>32.0</td>\n",
              "      <td>192.0</td>\n",
              "      <td>199</td>\n",
              "      <td>0</td>\n",
              "      <td>6</td>\n",
              "      <td>391.0</td>\n",
              "    </tr>\n",
              "    <tr>\n",
              "      <th>4</th>\n",
              "      <td>1</td>\n",
              "      <td>11</td>\n",
              "      <td>ultra</td>\n",
              "      <td>7003.499363</td>\n",
              "      <td>3</td>\n",
              "      <td>56.0</td>\n",
              "      <td>336.0</td>\n",
              "      <td>199</td>\n",
              "      <td>0</td>\n",
              "      <td>6</td>\n",
              "      <td>535.0</td>\n",
              "    </tr>\n",
              "  </tbody>\n",
              "</table>\n",
              "</div>"
            ],
            "text/plain": [
              "   user_id  month_of_ride subscription_type  total_distance  total_rides  \\\n",
              "0        1              1             ultra     7027.511294            2   \n",
              "1        1              4             ultra      754.159807            1   \n",
              "2        1              8             ultra     6723.470560            2   \n",
              "3        1             10             ultra     5809.911100            2   \n",
              "4        1             11             ultra     7003.499363            3   \n",
              "\n",
              "   rounded_duration  ride_cost  subscription_fee  start_ride_price  \\\n",
              "0              42.0      252.0               199                 0   \n",
              "1               7.0       42.0               199                 0   \n",
              "2              46.0      276.0               199                 0   \n",
              "3              32.0      192.0               199                 0   \n",
              "4              56.0      336.0               199                 0   \n",
              "\n",
              "   minute_price  monthly_revenue  \n",
              "0             6            451.0  \n",
              "1             6            241.0  \n",
              "2             6            475.0  \n",
              "3             6            391.0  \n",
              "4             6            535.0  "
            ]
          },
          "execution_count": 70,
          "metadata": {},
          "output_type": "execute_result"
        }
      ],
      "source": [
        "aggregated_data.head()"
      ]
    },
    {
      "cell_type": "code",
      "execution_count": null,
      "id": "3e1266bb",
      "metadata": {
        "scrolled": true,
        "id": "3e1266bb",
        "outputId": "306e11b1-054d-4c19-ee41-5a2852fbb0b9"
      },
      "outputs": [
        {
          "data": {
            "image/png": "[encoded data removed]",
            "text/plain": [
              "<Figure size 864x432 with 1 Axes>"
            ]
          },
          "metadata": {
            "needs_background": "light"
          },
          "output_type": "display_data"
        }
      ],
      "source": [
        "# Выберем данные для пользователей с подпиской 'ultra'\n",
        "ultra_data= aggregated_data[aggregated_data['subscription_type'] == 'ultra']['monthly_revenue']\n",
        "\n",
        "# Выберем данные для пользователей без подписки 'free'\n",
        "free_data= aggregated_data[aggregated_data['subscription_type'] == 'free']['monthly_revenue']\n",
        "\n",
        "# Нарисуем гистограмму для пользователей с подпиской 'ultra'\n",
        "plt.figure(figsize=(12, 6))\n",
        "plt.hist(ultra_data, bins=30, alpha=0.7, label='Ultra подписка', color='blue')\n",
        "\n",
        "# Нарисуем гистограмму для пользователей без подписки 'free'\n",
        "plt.hist(free_data, bins=30, alpha=0.7, label='Без подписки', color='red')\n",
        "\n",
        "plt.title('Распределение помесячной выручки для разных типов подписки')\n",
        "plt.xlabel('Помесячная выручка')\n",
        "plt.ylabel('Количество пользователей')\n",
        "plt.legend()\n",
        "\n",
        "plt.tight_layout()\n",
        "plt.show()"
      ]
    },
    {
      "cell_type": "markdown",
      "id": "dda58a5b",
      "metadata": {
        "id": "dda58a5b"
      },
      "source": [
        "Вывод Подсчёт выручки:\n",
        "На данном этапе была проведена ключевая работа по подсчёту финансовой эффективности работы сервиса GoFast. В результате агрегации и расчетов были получены следующие основные результаты:\n",
        "\n",
        "Агрегированные данные:\n",
        "Подсчет суммарного расстояния, количества поездок и суммарного времени для каждого пользователя позволил выявить активность клиентов по месяцам. Февраль стал самым не активным месяцем (можно предположить, что погодные условия не располагали к поездкам на самокате).Самые длительные поездки пользователи совершали в апреле, а самые короткие в феврале. Самые длительные по растоянию поездки пользователи совершали в сентябре и декабре. А самые короткие по расстоянию в феврале.Наибольшее количество поездок пользователи совершили в апреле и сентябре, наименьшее - в феврале.   \n",
        "Подсчет помесячной выручки:  \n",
        "Вычисление выручки, которую приносит каждый пользователь, позволило оценить не только качественные, но и количественные показатели работы сервиса. Учет разных условий оплаты для пользователей с подпиской и без нее дал возможность понять, что категория пользователей с подпиской приносит больше дохода, но пользователей с подпиской меньше.  \n",
        "Округление времени поездки до следующего целого числа гарантирует, что расчеты выручки будут корректными, учитывая условия тарификации.\n",
        "В целом, на этапе подсчёта выручки была выполнена важная работа по оценке финансового вклада каждого пользователя в общий доход компании. Эта информация может быть использована для дальнейшей оптимизации маркетинговых кампаний, а также для корректировки тарифных планов в зависимости от потребностей и поведения пользователей.\n"
      ]
    },
    {
      "cell_type": "markdown",
      "id": "41545ac0",
      "metadata": {
        "id": "41545ac0"
      },
      "source": [
        "#### Шаг 6. Проверка гипотез"
      ]
    },
    {
      "cell_type": "markdown",
      "id": "bb3eb92b",
      "metadata": {
        "id": "bb3eb92b"
      },
      "source": [
        "Задача 6.1 Важно понять, тратят ли пользователи с подпиской больше времени на поездки? Если да, то пользователи с подпиской могут быть «выгоднее» для компании. Проверьте гипотезу. Используйте исходные данные о продолжительности каждой сессии — отдельно для подписчиков и тех, у кого нет подписки."
      ]
    },
    {
      "cell_type": "markdown",
      "id": "82a07461",
      "metadata": {
        "id": "82a07461"
      },
      "source": [
        "<!-- #Гипотеза: H0 - Среднее время поездок для пользователей с подпиской и без подписки статистически значимо различается\n",
        "\n",
        "\n",
        "#Гипотеза Н1 -Среднее время поездок для пользователей с подпиской и без подписки статистически значимо не различается -->\n",
        "\n",
        "\n",
        "Гипотеза: H0 - Среднее время поездок пользователей с подпиской равно среднему времени поездок пользователей без подписки\n",
        "\n",
        "\n",
        "Гипотеза Н1 -Среднее время поездок пользователей с подпиской  больше среднего времени поездок пользователей без подписки"
      ]
    },
    {
      "cell_type": "code",
      "execution_count": null,
      "id": "1cc5a2a4",
      "metadata": {
        "id": "1cc5a2a4",
        "outputId": "63784c5f-1d95-4f01-b882-1afc751bf236"
      },
      "outputs": [
        {
          "data": {
            "text/html": [
              "<div>\n",
              "<style scoped>\n",
              "    .dataframe tbody tr th:only-of-type {\n",
              "        vertical-align: middle;\n",
              "    }\n",
              "\n",
              "    .dataframe tbody tr th {\n",
              "        vertical-align: top;\n",
              "    }\n",
              "\n",
              "    .dataframe thead th {\n",
              "        text-align: right;\n",
              "    }\n",
              "</style>\n",
              "<table border=\"1\" class=\"dataframe\">\n",
              "  <thead>\n",
              "    <tr style=\"text-align: right;\">\n",
              "      <th></th>\n",
              "      <th>user_id</th>\n",
              "      <th>name</th>\n",
              "      <th>age</th>\n",
              "      <th>city</th>\n",
              "      <th>subscription_type</th>\n",
              "      <th>distance</th>\n",
              "      <th>duration</th>\n",
              "      <th>date</th>\n",
              "      <th>month_of_ride</th>\n",
              "      <th>minute_price</th>\n",
              "      <th>start_ride_price</th>\n",
              "      <th>subscription_fee</th>\n",
              "      <th>rounded_duration</th>\n",
              "      <th>ride_cost</th>\n",
              "    </tr>\n",
              "  </thead>\n",
              "  <tbody>\n",
              "    <tr>\n",
              "      <th>0</th>\n",
              "      <td>1</td>\n",
              "      <td>Кира</td>\n",
              "      <td>22</td>\n",
              "      <td>Тюмень</td>\n",
              "      <td>ultra</td>\n",
              "      <td>4409.919140</td>\n",
              "      <td>25.599769</td>\n",
              "      <td>2021-01-01</td>\n",
              "      <td>1</td>\n",
              "      <td>6</td>\n",
              "      <td>0</td>\n",
              "      <td>199</td>\n",
              "      <td>26.0</td>\n",
              "      <td>156.0</td>\n",
              "    </tr>\n",
              "    <tr>\n",
              "      <th>1</th>\n",
              "      <td>1</td>\n",
              "      <td>Кира</td>\n",
              "      <td>22</td>\n",
              "      <td>Тюмень</td>\n",
              "      <td>ultra</td>\n",
              "      <td>2617.592153</td>\n",
              "      <td>15.816871</td>\n",
              "      <td>2021-01-18</td>\n",
              "      <td>1</td>\n",
              "      <td>6</td>\n",
              "      <td>0</td>\n",
              "      <td>199</td>\n",
              "      <td>16.0</td>\n",
              "      <td>96.0</td>\n",
              "    </tr>\n",
              "    <tr>\n",
              "      <th>2</th>\n",
              "      <td>1</td>\n",
              "      <td>Кира</td>\n",
              "      <td>22</td>\n",
              "      <td>Тюмень</td>\n",
              "      <td>ultra</td>\n",
              "      <td>754.159807</td>\n",
              "      <td>6.232113</td>\n",
              "      <td>2021-04-20</td>\n",
              "      <td>4</td>\n",
              "      <td>6</td>\n",
              "      <td>0</td>\n",
              "      <td>199</td>\n",
              "      <td>7.0</td>\n",
              "      <td>42.0</td>\n",
              "    </tr>\n",
              "    <tr>\n",
              "      <th>3</th>\n",
              "      <td>1</td>\n",
              "      <td>Кира</td>\n",
              "      <td>22</td>\n",
              "      <td>Тюмень</td>\n",
              "      <td>ultra</td>\n",
              "      <td>2694.783254</td>\n",
              "      <td>18.511000</td>\n",
              "      <td>2021-08-11</td>\n",
              "      <td>8</td>\n",
              "      <td>6</td>\n",
              "      <td>0</td>\n",
              "      <td>199</td>\n",
              "      <td>19.0</td>\n",
              "      <td>114.0</td>\n",
              "    </tr>\n",
              "    <tr>\n",
              "      <th>4</th>\n",
              "      <td>1</td>\n",
              "      <td>Кира</td>\n",
              "      <td>22</td>\n",
              "      <td>Тюмень</td>\n",
              "      <td>ultra</td>\n",
              "      <td>4028.687306</td>\n",
              "      <td>26.265803</td>\n",
              "      <td>2021-08-28</td>\n",
              "      <td>8</td>\n",
              "      <td>6</td>\n",
              "      <td>0</td>\n",
              "      <td>199</td>\n",
              "      <td>27.0</td>\n",
              "      <td>162.0</td>\n",
              "    </tr>\n",
              "  </tbody>\n",
              "</table>\n",
              "</div>"
            ],
            "text/plain": [
              "   user_id  name  age    city subscription_type     distance   duration  \\\n",
              "0        1  Кира   22  Тюмень             ultra  4409.919140  25.599769   \n",
              "1        1  Кира   22  Тюмень             ultra  2617.592153  15.816871   \n",
              "2        1  Кира   22  Тюмень             ultra   754.159807   6.232113   \n",
              "3        1  Кира   22  Тюмень             ultra  2694.783254  18.511000   \n",
              "4        1  Кира   22  Тюмень             ultra  4028.687306  26.265803   \n",
              "\n",
              "        date  month_of_ride  minute_price  start_ride_price  subscription_fee  \\\n",
              "0 2021-01-01              1             6                 0               199   \n",
              "1 2021-01-18              1             6                 0               199   \n",
              "2 2021-04-20              4             6                 0               199   \n",
              "3 2021-08-11              8             6                 0               199   \n",
              "4 2021-08-28              8             6                 0               199   \n",
              "\n",
              "   rounded_duration  ride_cost  \n",
              "0              26.0      156.0  \n",
              "1              16.0       96.0  \n",
              "2               7.0       42.0  \n",
              "3              19.0      114.0  \n",
              "4              27.0      162.0  "
            ]
          },
          "execution_count": 72,
          "metadata": {},
          "output_type": "execute_result"
        }
      ],
      "source": [
        "merged_data.head()"
      ]
    },
    {
      "cell_type": "code",
      "execution_count": null,
      "id": "36dfa6bc",
      "metadata": {
        "scrolled": true,
        "id": "36dfa6bc"
      },
      "outputs": [],
      "source": [
        "#Разделение данных на пользователей с подпиской и без подписки\n",
        "users_with_ultra_subscription = merged_data[merged_data['subscription_type'] == 'ultra']\n",
        "users_without_subscription = merged_data[merged_data['subscription_type'] == 'free']"
      ]
    },
    {
      "cell_type": "code",
      "execution_count": null,
      "id": "43df58e9",
      "metadata": {
        "id": "43df58e9"
      },
      "outputs": [],
      "source": [
        "# # Проведение t-теста для сравнения средних\n",
        "# t_stat, p_value = ttest_ind(users_with_ultra_subscription['rounded_duration'], users_without_subscription['rounded_duration'], equal_var=False,alternative='two-sided')\n",
        "# print(p_value)\n",
        "# # Анализ результатов\n",
        "# if p_value < 0.05:\n",
        "#     print(\"Среднее время поездок для пользователей с подпиской и без подписки статистически значимо различается. Есть основания отклонить гипотезу H0 в пользу H1\")\n",
        "# else:\n",
        "#     print(\"Среднее время поездок для пользователей с подпиской и без подписки не различается статистически значимо. Нет оснований отклонить гипотезу H0\")"
      ]
    },
    {
      "cell_type": "code",
      "execution_count": null,
      "id": "b6abbd55",
      "metadata": {
        "id": "b6abbd55",
        "outputId": "d724200b-4789-41e2-aa8c-ee50fb151293"
      },
      "outputs": [
        {
          "name": "stdout",
          "output_type": "stream",
          "text": [
            "1.1814679253701353e-36\n",
            "Среднее время поездок для пользователей с подпиской и без подписки статистически значимо различается. Есть основания отклонить гипотезу H0 в пользу H1\n"
          ]
        }
      ],
      "source": [
        "# Проведение t-теста для сравнения средних\n",
        "t_stat, p_value = ttest_ind(users_with_ultra_subscription['rounded_duration'], users_without_subscription['rounded_duration'], equal_var=False,alternative='greater')\n",
        "print(p_value)\n",
        "# Анализ результатов\n",
        "if p_value < 0.05:\n",
        "    print(\"Среднее время поездок для пользователей с подпиской и без подписки статистически значимо различается. Есть основания отклонить гипотезу H0 в пользу H1\")\n",
        "else:\n",
        "    print(\"Среднее время поездок для пользователей с подпиской и без подписки не различается статистически значимо. Нет оснований отклонить гипотезу H0\")"
      ]
    },
    {
      "cell_type": "code",
      "execution_count": null,
      "id": "ad82a2c8",
      "metadata": {
        "scrolled": true,
        "id": "ad82a2c8",
        "outputId": "62b243c6-af3c-4d36-9e36-946918aa0278"
      },
      "outputs": [
        {
          "data": {
            "text/plain": [
              "'Среднее время поездок для пользователей с подпиской:'"
            ]
          },
          "metadata": {},
          "output_type": "display_data"
        },
        {
          "data": {
            "text/plain": [
              "19.037692307692307"
            ]
          },
          "metadata": {},
          "output_type": "display_data"
        },
        {
          "data": {
            "text/plain": [
              "'Среднее время поездок для пользователей без подписки:'"
            ]
          },
          "metadata": {},
          "output_type": "display_data"
        },
        {
          "data": {
            "text/plain": [
              "17.890992392807746"
            ]
          },
          "metadata": {},
          "output_type": "display_data"
        }
      ],
      "source": [
        "mean_duration_with__ultra_subscription = users_with_ultra_subscription['rounded_duration'].mean()\n",
        "mean_duration_without_subscription = users_without_subscription['rounded_duration'].mean()\n",
        "\n",
        "display(\"Среднее время поездок для пользователей с подпиской:\", mean_duration_with__ultra_subscription)\n",
        "display(\"Среднее время поездок для пользователей без подписки:\", mean_duration_without_subscription)"
      ]
    },
    {
      "cell_type": "markdown",
      "id": "f18bb3c1",
      "metadata": {
        "id": "f18bb3c1"
      },
      "source": [
        "6.2 Расстояние одной поездки в 3130 метров — оптимальное с точки зрения износа самоката. Можно ли сказать, что расстояние, которое проезжают пользователи с подпиской за одну поездку, не превышает 3130 метров? Проверьте гипотезу и сделайте выводы."
      ]
    },
    {
      "cell_type": "markdown",
      "id": "7b1f7624",
      "metadata": {
        "id": "7b1f7624"
      },
      "source": [
        "H0: Среднее расстояние поездки для пользователей с подпиской не превышает 3130 метров.  \n",
        "H1: Среднее расстояние поездки для пользователей с подпиской превышает 3130 метров.\n"
      ]
    },
    {
      "cell_type": "code",
      "execution_count": null,
      "id": "0e608e94",
      "metadata": {
        "id": "0e608e94",
        "outputId": "2b3da95f-b981-4bfd-9e97-8b4d42b1365e"
      },
      "outputs": [
        {
          "name": "stdout",
          "output_type": "stream",
          "text": [
            "0.9195368847849785\n",
            "3115.4453880370247\n",
            "Нет достаточно оснований для отклонения гипотезы H0. Среднее расстояние поездки для пользователей с подпиской не превышает 3130 метров.\n"
          ]
        }
      ],
      "source": [
        "# Проведение t-теста для сравнения среднего расстояния с заданным значением\n",
        "\n",
        "\n",
        "# # Заданное значение расстояния\n",
        "distance_threshold = 3130\n",
        "t_stat, p_value = ttest_1samp(users_with_ultra_subscription['distance'], distance_threshold, alternative='greater')\n",
        "print(p_value)\n",
        "print(users_with_ultra_subscription['distance'].mean())\n",
        "# Анализ результатов\n",
        "if p_value < 0.05:\n",
        "    print(\"Среднее расстояние поездки для пользователей с подпиской статистически значимо превышает заданное значение 3130 метров. Есть основания отклонить H0.\")\n",
        "else:\n",
        "    print(\"Нет достаточно оснований для отклонения гипотезы H0. Среднее расстояние поездки для пользователей с подпиской не превышает 3130 метров.\")\n",
        "\n",
        "\n",
        "\n",
        "# # Заданное значение расстояния\n",
        "# distance_threshold = 3130\n",
        "\n",
        "\n",
        "# # Проведение t-теста для сравнения среднего расстояния с заданным значением\n",
        "# t_stat, p_value = ttest_1samp(users_with_ultra_subscription['distance'], distance_threshold, alternative='greater')\n",
        "# print(p_value)\n",
        "# print(users_with_ultra_subscription['distance'].mean())\n",
        "# # Анализ результатов\n",
        "# if p_value < 0.05:\n",
        "#     print(\"Среднее расстояние поездки для пользователей с подпиской статистически значимо отличается от заданного значения.\")\n",
        "#     if users_with_ultra_subscription['total_distance'].mean() > distance_threshold:\n",
        "#         print(\"Среднее расстояние поездки для пользователей с подпиской превышает 3130 метров. Есть основания отклонить H0\")\n",
        "#     else:\n",
        "#         print(\"Среднее расстояние поездки для пользователей с подпиской не превышает 3130 метров. Нет достаточно оснований для отклонения гипотезы H0\")\n",
        "# else:\n",
        "#     print(\"Среднее расстояние поездки для пользователей с подпиской не отличается статистически от заданного значения.\")"
      ]
    },
    {
      "cell_type": "markdown",
      "id": "887f796e",
      "metadata": {
        "id": "887f796e"
      },
      "source": [
        "Задача 6.3. Проверьте гипотезу о том, будет ли помесячная выручка от пользователей с подпиской по месяцам выше, чем выручка от пользователей без подписки. Сделайте вывод."
      ]
    },
    {
      "cell_type": "markdown",
      "id": "232d030f",
      "metadata": {
        "id": "232d030f"
      },
      "source": [
        "H0: Средняя помесячная выручка от пользователей с подпиской не отличается от выручки от пользователей без подписки.  \n",
        "H1: Средняя помесячная выручка от пользователей с подпиской выше, чем выручка от пользователей без подписки."
      ]
    },
    {
      "cell_type": "code",
      "execution_count": null,
      "id": "481b88a2",
      "metadata": {
        "id": "481b88a2",
        "outputId": "e42c459d-b425-496a-8c85-b3232f9e8c38"
      },
      "outputs": [
        {
          "name": "stdout",
          "output_type": "stream",
          "text": [
            "8.874140893976874e-40\n",
            "362.7921906022502\n",
            "328.6413651073845\n",
            "Средняя помесячная выручка от пользователей с подпиской статистически значимо выше, чем выручка от пользователей без подписки. Есть основания отвергнуть H0\n"
          ]
        }
      ],
      "source": [
        "# Проведение t-теста для сравнения средних помесячных выручек двух выборок\n",
        "t_stat, p_value = ttest_ind(ultra_data, free_data, equal_var=False, alternative='greater')\n",
        "print (p_value)\n",
        "print(ultra_data.mean())\n",
        "print(free_data.mean())\n",
        "# Анализ результатов\n",
        "if p_value < 0.05:\n",
        "    print(\"Средняя помесячная выручка от пользователей с подпиской статистически значимо выше, чем выручка от пользователей без подписки. Есть основания отвергнуть H0\")\n",
        "else:\n",
        "    print(\"Нет статистически значимого различия в средней помесячной выручке от пользователей с подпиской и без подписки.\")"
      ]
    },
    {
      "cell_type": "markdown",
      "id": "9ba3c5a1",
      "metadata": {
        "id": "9ba3c5a1"
      },
      "source": [
        "Задача:\n",
        "  Представьте такую ситуацию: техническая команда сервиса обновила сервера, с которыми взаимодействует мобильное приложение. Она надеется, что из-за этого количество обращений в техподдержку значимо снизилось. Некоторый файл содержит для каждого пользователя данные о количестве обращений до обновления и после него. Какой тест вам понадобился бы для проверки этой гипотезы?  "
      ]
    },
    {
      "cell_type": "markdown",
      "id": "65c6f08e",
      "metadata": {
        "id": "65c6f08e"
      },
      "source": [
        "Для проверки гипотезы о том, что количество обращений в техподдержку значимо снизилось после обновления серверов, можно использовать парный t-тест (paired t-test) для зависимых выборок.\n",
        "\n",
        "Ситуация описывается следующим образом:\n",
        "\n",
        "У нас есть данные о количестве обращений в техподдержку для каждого пользователя до и после обновления серверов.\n",
        "Каждая пара данных для одного пользователя связана (значение до и после обновления относится к одному и тому же пользователю).\n",
        "Нам интересно узнать, есть ли статистически значимая разница в среднем количестве обращений до и после обновления.\n",
        "Следовательно, мы можем использовать парный t-тест для проверки гипотезы о равенстве средних количеств обращений до и после обновления. Если p-value будет меньше уровня значимости (обычно 0.05), то мы можем сделать вывод, что количество обращений в техподдержку значимо снизилось после обновления серверов. В противном случае, нет статистически значимой разницы в количестве обращений."
      ]
    },
    {
      "cell_type": "markdown",
      "id": "5f98230a",
      "metadata": {
        "id": "5f98230a"
      },
      "source": [
        "Вывод: проверка гипотез    \n",
        "\n",
        "\n",
        "Пользователи с подпиской в среднем проводят больше времени на поездках. Это может указывать на то, что для них услуга более ценна или что условия подписки позволяют им чаще или дольше пользоваться сервисом.  \n",
        "\n",
        "Пользователи с подпиской в среднем проезжают расстояние, близкое к оптимальному для износа самоката. Это может быть полезной информацией для планирования технического обслуживания или определения оптимального маршрута для пользователей.  \n",
        "\n",
        "Помесячная выручка от пользователей с подпиской выше. Это подтверждает идею о том, что такие пользователи могут быть более \"выгодными\" для компании. Это также может служить основанием для активного продвижения подписок среди текущих и потенциальных клиентов.  \n",
        "\n",
        "После проведения технического обновления желательно использовать статистический тест для определения влияния обновления на количество обращений в техподдержку. Если снижение статистически значимо, это может указывать на улучшение работы сервиса для пользователей.\n"
      ]
    },
    {
      "cell_type": "markdown",
      "id": "61213c5e",
      "metadata": {
        "id": "61213c5e"
      },
      "source": [
        "#### Шаг 7. Распределения"
      ]
    },
    {
      "cell_type": "markdown",
      "id": "1ff4cc65",
      "metadata": {
        "id": "1ff4cc65"
      },
      "source": [
        "Задача 7.1 Отделу маркетинга GoFast поставили задачу: нужно провести акцию с раздачей промокодов на один бесплатный месяц подписки, в рамках которой как минимум 100 существующих клиентов должны продлить эту подписку. То есть по завершении периода действия подписки пользователь может либо отказаться от неё, либо продлить, совершив соответствующий платёж. Эта акция уже проводилась ранее и по итогу выяснилось, что после бесплатного пробного периода подписку продлевают 10 %пользователей. Выясните, какое минимальное количество промокодов нужно разослать, чтобы вероятность не выполнить план была примерно 5 % Подберите параметры распределения, описывающего эту ситуацию, постройте график распределения и сформулируйте ответ на вопрос о количестве промокодов."
      ]
    },
    {
      "cell_type": "code",
      "execution_count": null,
      "id": "61696c04",
      "metadata": {
        "id": "61696c04",
        "outputId": "536d0f47-1a0d-4086-ae6f-974938bd26ba"
      },
      "outputs": [
        {
          "name": "stderr",
          "output_type": "stream",
          "text": [
            "/opt/conda/lib/python3.9/site-packages/scipy/stats/_discrete_distns.py:78: RuntimeWarning: divide by zero encountered in _binom_pdf\n",
            "  return _boost._binom_pdf(x, n, p)\n"
          ]
        },
        {
          "data": {
            "image/png": "[encoded data removed]",
            "text/plain": [
              "<Figure size 432x288 with 1 Axes>"
            ]
          },
          "metadata": {
            "needs_background": "light"
          },
          "output_type": "display_data"
        },
        {
          "name": "stdout",
          "output_type": "stream",
          "text": [
            "Минимальное количество промокодов, которое нужно разослать: 1161\n"
          ]
        }
      ],
      "source": [
        "# параметры\n",
        "p = 0.1\n",
        "target_successes = 100\n",
        "target_probability = 0.95\n",
        "\n",
        "# диапазон возможных значений N\n",
        "N_values = np.arange(1000, 2000)  # допустим, что максимальное значение N - 2000\n",
        "probs = [1 - binom(N, p).cdf(target_successes - 1) for N in N_values]\n",
        "\n",
        "# найдем первое значение N, для которого вероятность превышает 0.95\n",
        "N_required = N_values[np.argmax(np.array(probs) > target_probability)]\n",
        "\n",
        "# построим график распределения\n",
        "x = np.arange(0, N_required+1)\n",
        "plt.bar(x, binom.pmf(x, N_required, p))\n",
        "plt.axvline(x=target_successes, color='r', linestyle='dashed', label=\"Target successes (100)\")\n",
        "plt.xlabel(\"Number of Successes\")\n",
        "plt.ylabel(\"Probability\")\n",
        "plt.title(f\"Binomial Distribution for N={N_required} and p={p}\")\n",
        "plt.legend()\n",
        "plt.show()\n",
        "\n",
        "print(f\"Минимальное количество промокодов, которое нужно разослать: {N_required}\")"
      ]
    },
    {
      "cell_type": "code",
      "execution_count": null,
      "id": "ffdb6e48",
      "metadata": {
        "id": "ffdb6e48",
        "outputId": "2718cd02-a495-4101-9bec-9efc82474220"
      },
      "outputs": [
        {
          "data": {
            "image/png": "[encoded data removed]",
            "text/plain": [
              "<Figure size 432x288 with 1 Axes>"
            ]
          },
          "metadata": {
            "needs_background": "light"
          },
          "output_type": "display_data"
        },
        {
          "name": "stdout",
          "output_type": "stream",
          "text": [
            "Вероятность того, что уведомление откроют не более 399,500 пользователей: 0.1537\n"
          ]
        }
      ],
      "source": [
        "# Параметры\n",
        "N = 1000000\n",
        "p = 0.4\n",
        "mu = N * p\n",
        "sigma = np.sqrt(N * p * (1 - p))\n",
        "\n",
        "# Расчет вероятности\n",
        "probability = norm.cdf(399500, mu, sigma)\n",
        "\n",
        "# Построение графика\n",
        "x = np.linspace(mu - 4*sigma, mu + 4*sigma, 1000)\n",
        "plt.plot(x, norm.pdf(x, mu, sigma))\n",
        "plt.axvline(x=399500, color='r', linestyle='dashed', label=\"399,500 users\")\n",
        "plt.fill_between(x, norm.pdf(x, mu, sigma), where=(x <= 399500), color='gray', alpha=0.5)\n",
        "plt.xlabel(\"Number of Opened Notifications\")\n",
        "plt.ylabel(\"Probability Density\")\n",
        "plt.title(\"Normal Approximation of Binomial Distribution\")\n",
        "plt.legend()\n",
        "plt.show()\n",
        "\n",
        "print(f\"Вероятность того, что уведомление откроют не более 399,500 пользователей: {probability:.4f}\")"
      ]
    },
    {
      "cell_type": "markdown",
      "id": "6233c1ad",
      "metadata": {
        "id": "6233c1ad"
      },
      "source": [
        "Выводы:Распределения\n",
        "\n",
        "Акция с промокодами: Для достижения цели продления подписки минимум 100 пользователями, компании GoFast необходимо разослать 1161 промокод, предоставляющий один бесплатный месяц подписки. Это обеспечивает приемлемый уровень риска (5%), что акция может не дать ожидаемого результата.  \n",
        "Push-уведомления: При планировании рассылки 1 млн уведомлений и ожидаемой вероятности открытия в 40%, существует 15.37% вероятность того, что уведомление откроют не более 399,500 пользователей. Этот результат может помочь отделу маркетинга определить ожидаемую отдачу от масштабной рассылки и понять потенциальные риски."
      ]
    },
    {
      "cell_type": "markdown",
      "id": "5d3ed652",
      "metadata": {
        "id": "5d3ed652"
      },
      "source": [
        "**ОБЩИЕ ВЫВОДЫ**\n",
        "\n",
        "Были проанализированы данные и провены гипотезы, которые могут помочь бизнесу вырасти.  \n",
        "Пользователи с подпиской в среднем проводят больше времени на поездках. Это может указывать на то, что для них услуга более ценна или что условия подписки позволяют им чаще или дольше пользоваться сервисом.  \n",
        "Пользователи с подпиской в среднем проезжают расстояние, близкое к оптимальному для износа самоката. Это может быть полезной информацией для планирования технического обслуживания или определения оптимального маршрута для пользователей.  \n",
        "Помесячная выручка от пользователей с подпиской выше. Это подтверждает идею о том, что такие пользователи могут быть более \"выгодными\" для компании. Это также может служить основанием для активного продвижения подписок среди текущих и потенциальных клиентов.\n",
        "\n",
        "Шаг 1: Загрузка данных  \n",
        "Данные успешно загружены из трёх CSV-файлов: users_go.csv, rides_go.csv, и subscriptions_go.csv.\n",
        "Первичный анализ показал структуру и содержание каждого из датафреймов.\n",
        "\n",
        "Шаг 2: Предобработка данных  \n",
        "Столбец date был успешно приведен к формату даты.\n",
        "Добавлен новый столбец с номером месяца для анализа данных в разрезе месяцев.\n",
        "Пропущенные значения отсутствовали, дубликаты были идентифицированы(62 строки)и удалены.  \n",
        "\n",
        "Шаг 3: Исследовательский анализ данных\n",
        "Проанализированы и визуализированы основные характеристики пользователей и поездок: распределение пользователей по городам, соотношение пользователей с подпиской и без, возрастное распределение, а также распределения по расстоянию и продолжительности поездок.  \n",
        "Частота встречаемости городов:  В данных присутствуют пользователи из нескольких городов. Некоторые города представлены активнее, возможно, из-за более активной рекламной кампании. Определены лидирующие города по активности пользователей, что может указывать на наиболее перспективные рынки для развития или усиления маркетинговых усилий.  Больше всего пользователей в Пятигорске(219), а меньше всего в Москве(168)  \n",
        "Соотношение пользователей с подпиской и без подписки:Было установлено, что  подписки нет у большего количества людей(835), а с подпиской ultra всего 699.   \n",
        "Возраст пользователей:В данных выявлен диапазон возрастов пользователей.Они представляют собой широкий диапазон от подростков 12 лет до среднего возраста с максимумом в 43 года, чаще всего пользуются самокатами молодые люди 25 лет.   \n",
        "Расстояние, которое пользователь преодолел за одну поездку:  Большинство поездок совершается на среднее расстояние чуть больше 3х км(3133.60м), но также на гистограмме можно увидеть и большое количество  коротких поездок. Вероятно самокаты часто используются для коротких поездок( например,от метро до дома)  \n",
        "Продолжительность поездок:  Пользователи в среднем проводят 17.67 минут в пути на самокатах.\n",
        "\n",
        "Шаг 4: Объединение данных\n",
        "Данные о пользователях, поездках и подписках успешно объединены в один датафрейм.\n",
        "Созданы два отдельных датафрейма для пользователей с подпиской и без.\n",
        "Визуализирована информация о расстоянии и времени поездок для обеих категорий пользователей.\n",
        "На основе графиков можно сделать вывод о том, что расстояние и продолжительность поездок различаются между пользователями с подпиской и без неё. Возможно, пользователи с подпиской чаще пользуются самокатами для длительных поездок или на большие расстояния, благодаря льготным условиям использования. Медианное время поездки с подпиской - 18.17 минуты,а медианное время поездки без подписки 17.32. Это значит, что пользователи с подпиской тратят в среднем примерно на минуту больше на поездку чем без подписки. Пользователи с подпиской реже совершают короткие поездки. Также медианная дистанция поездок у пользователей с подпиской выше (3148метров) чем у пользователей без подписки (3114.64 метра).\n",
        "\n",
        "Шаг 5: Подсчёт выручки\n",
        "Создан датафрейм с агрегированными данными о поездках: суммарное расстояние, количество поездок, суммарное время для каждого пользователя за каждый месяц.\n",
        "Добавлен столбец с помесячной выручкой, учитывая условия оплаты и округление продолжительности поездок.\n",
        "Подсчет суммарного расстояния, количества поездок и суммарного времени для каждого пользователя позволил выявить активность клиентов по месяцам. Февраль стал самым не активным месяцем (можно предположить, что погодные условия не располагали к поездкам на самокате).Самые длительные поездки пользователи совершали в апреле, а самые короткие в феврале. Самые длительные по растоянию поездки пользователи совершали в сентябре и декабре. А самые короткие по расстоянию в феврале.Наибольшее количество поездок пользователи совершили в апреле и сентябре, наименьшее - в феврале.   \n",
        "Подсчет помесячной выручки:  \n",
        "Вычисление выручки, которую приносит каждый пользователь, позволило оценить не только качественные, но и количественные показатели работы сервиса. Учет разных условий оплаты для пользователей с подпиской и без нее дал возможность понять, что категория пользователей с подпиской приносит больше дохода, но пользователей с подпиской меньше.\n",
        "\n",
        "Шаг 6 Проверка гипотез:\n",
        "\n",
        "1.Пользователи с подпиской и их активность:  \n",
        "Пользователи с подпиской в среднем проводят больше времени на поездках по сравнению с пользователями без подписки. Этот факт высвечивает важность подписчиков для бизнеса: они, вероятно, считают услугу более ценной и интегрируют ее в свою повседневную жизнь. Кроме того, это может свидетельствовать о том, что условия подписки обеспечивают им большую гибкость или стимулируют к частому использованию сервиса.\n",
        "2 Оптимальное расстояние и техническое обслуживание:\n",
        "Отмечено, что пользователи с подпиской в среднем проезжают расстояние, которое является оптимальным с точки зрения износа самоката. Это дает ценные данные для отдела технического обслуживания. Понимание того, как часто самокаты нуждаются в обслуживании, позволит компании эффективнее распределять ресурсы и минимизировать простой самокатов.\n",
        "3 Экономическая эффективность подписчиков:  \n",
        "Подписчики приносят компании больше выручки помесячно. Это критически важная информация для отдела маркетинга. Продвигая подписочную модель, компания может увеличивать свои доходы, стимулируя пользователей переходить на подписные планы. Это также может подсказать компании о необходимости предоставления дополнительных инцентивов или бонусов для подписчиков, чтобы привлекать и удерживать их.\n",
        "4 Техническое обновление и обращения в службу поддержки:  \n",
        "После проведения технического обновления было бы стратегически правильным провести статистический тест на влияние обновления на количество обращений в службу поддержки. Уменьшение обращений, если оно статистически значимо, является показателем успешности обновления. Это также может служить индикатором удовлетворенности пользователей и качества сервиса.  \n",
        "\n",
        "Шаг 7 Распределения\n",
        "Проанализировано распределение акции с промокодами, определено минимальное количество промокодов (1161) для достижения целевого количества продлений подписки.\n",
        "Оценена вероятность успешного открытия push-уведомлений, которая составила 15.37%.\n",
        "\n",
        "\n",
        "Заключение: Исследование показало, что пользователи с подпиской имеют особую ценность для бизнеса как с точки зрения активности, так и экономического вклада. Чтобы максимизировать прибыль и удовлетворенность пользователей, компании следует уделять особое внимание условиям и преимуществам подписки, а также техническому обслуживанию и оптимизации своего продукта.\n",
        "\n",
        "\n"
      ]
    },
    {
      "cell_type": "markdown",
      "id": "ca7c2ed3",
      "metadata": {
        "id": "ca7c2ed3"
      },
      "source": [
        "**Итоговый вывод**:\n",
        "\n",
        "Благодаря анализу данных и проверке гипотез, ,можно сделать следующие ключевые выводы:  \n",
        "\n",
        "Пользователи с подпиской проводят больше времени на поездках. Это может говорить о том, что услуга для них имеет большую ценность, или что условия подписки позволяют им чаще или дольше пользоваться сервисом.  \n",
        "Пользователи с подпиской в среднем проезжают расстояние, близкое к оптимальному для износа самоката. Это важная информация для планирования технического обслуживания и определения оптимального маршрута.  \n",
        "Помесячная выручка от пользователей с подпиской выше, что делает их потенциально более \"выгодными\" для компании.\n",
        "На основе этих выводов, рекомендую:  \n",
        "\n",
        "1.Активно продвигать подписки среди текущих и потенциальных пользователей, поскольку они приносят больше выручки и демонстрируют большую лояльность к сервису.  \n",
        "2.Рассмотреть возможность оптимизации маршрутов или предоставления рекомендаций по маршрутам для пользователей на основе среднего расстояния поездки, чтобы минимизировать износ самокатов и оптимизировать процесс технического обслуживания.\n",
        "3.Уделить внимание улучшению условий подписки или введению новых типов подписок, чтобы привлечь больше пользователей к регулярному использованию сервиса.  "
      ]
    },
    {
      "cell_type": "code",
      "execution_count": null,
      "id": "6a9cd3c2",
      "metadata": {
        "id": "6a9cd3c2"
      },
      "outputs": [],
      "source": []
    }
  ],
  "metadata": {
    "ExecuteTimeLog": [
      {
        "duration": 70,
        "start_time": "2023-08-03T12:28:41.752Z"
      },
      {
        "duration": 401,
        "start_time": "2023-08-03T12:28:50.234Z"
      },
      {
        "duration": 122,
        "start_time": "2023-08-03T12:28:52.399Z"
      },
      {
        "duration": 18,
        "start_time": "2023-08-03T12:29:41.229Z"
      },
      {
        "duration": 266,
        "start_time": "2023-08-03T12:30:25.163Z"
      },
      {
        "duration": 14,
        "start_time": "2023-08-03T12:30:51.897Z"
      },
      {
        "duration": 43,
        "start_time": "2023-08-03T12:51:46.267Z"
      },
      {
        "duration": 118,
        "start_time": "2023-08-03T12:52:23.963Z"
      },
      {
        "duration": 11,
        "start_time": "2023-08-03T12:53:31.748Z"
      },
      {
        "duration": 16,
        "start_time": "2023-08-03T12:56:30.959Z"
      },
      {
        "duration": 20,
        "start_time": "2023-08-03T12:57:06.384Z"
      },
      {
        "duration": 27,
        "start_time": "2023-08-03T12:57:28.397Z"
      },
      {
        "duration": 12,
        "start_time": "2023-08-03T13:05:18.325Z"
      },
      {
        "duration": 16,
        "start_time": "2023-08-03T13:06:40.641Z"
      },
      {
        "duration": 17,
        "start_time": "2023-08-03T13:06:53.700Z"
      },
      {
        "duration": 20,
        "start_time": "2023-08-03T13:07:33.279Z"
      },
      {
        "duration": 14,
        "start_time": "2023-08-03T13:07:59.440Z"
      },
      {
        "duration": 15,
        "start_time": "2023-08-03T13:08:53.920Z"
      },
      {
        "duration": 16,
        "start_time": "2023-08-03T13:13:53.078Z"
      },
      {
        "duration": 88,
        "start_time": "2023-08-03T13:19:19.063Z"
      },
      {
        "duration": 6,
        "start_time": "2023-08-03T13:19:19.686Z"
      },
      {
        "duration": 14,
        "start_time": "2023-08-03T13:19:20.177Z"
      },
      {
        "duration": 887,
        "start_time": "2023-08-03T13:21:05.690Z"
      },
      {
        "duration": 4,
        "start_time": "2023-08-03T13:21:22.859Z"
      },
      {
        "duration": 542,
        "start_time": "2023-08-03T13:21:28.097Z"
      },
      {
        "duration": 270,
        "start_time": "2023-08-03T13:22:23.104Z"
      },
      {
        "duration": 148,
        "start_time": "2023-08-03T13:22:47.930Z"
      },
      {
        "duration": 112,
        "start_time": "2023-08-03T13:23:02.347Z"
      },
      {
        "duration": 170,
        "start_time": "2023-08-03T13:23:20.530Z"
      },
      {
        "duration": 165,
        "start_time": "2023-08-03T13:23:27.577Z"
      },
      {
        "duration": 232,
        "start_time": "2023-08-03T13:23:33.997Z"
      },
      {
        "duration": 142,
        "start_time": "2023-08-03T13:23:43.327Z"
      },
      {
        "duration": 356,
        "start_time": "2023-08-03T13:24:02.340Z"
      },
      {
        "duration": 10,
        "start_time": "2023-08-03T13:25:14.525Z"
      },
      {
        "duration": 20,
        "start_time": "2023-08-03T13:26:35.609Z"
      },
      {
        "duration": 14,
        "start_time": "2023-08-03T13:28:01.732Z"
      },
      {
        "duration": 11,
        "start_time": "2023-08-03T13:32:29.207Z"
      },
      {
        "duration": 5,
        "start_time": "2023-08-03T13:32:40.852Z"
      },
      {
        "duration": 7,
        "start_time": "2023-08-03T13:32:47.942Z"
      },
      {
        "duration": 16,
        "start_time": "2023-08-03T13:35:34.481Z"
      },
      {
        "duration": 11,
        "start_time": "2023-08-03T13:37:43.927Z"
      },
      {
        "duration": 12,
        "start_time": "2023-08-03T13:39:05.679Z"
      },
      {
        "duration": 17,
        "start_time": "2023-08-03T13:41:31.254Z"
      },
      {
        "duration": 15,
        "start_time": "2023-08-03T13:42:37.132Z"
      },
      {
        "duration": 58,
        "start_time": "2023-08-03T13:44:16.991Z"
      },
      {
        "duration": 12,
        "start_time": "2023-08-03T13:44:17.847Z"
      },
      {
        "duration": 63,
        "start_time": "2023-08-03T13:44:37.265Z"
      },
      {
        "duration": 10,
        "start_time": "2023-08-03T13:44:40.119Z"
      },
      {
        "duration": 17,
        "start_time": "2023-08-03T13:44:48.019Z"
      },
      {
        "duration": 104,
        "start_time": "2023-08-03T13:45:20.412Z"
      },
      {
        "duration": 13,
        "start_time": "2023-08-03T13:45:31.738Z"
      },
      {
        "duration": 54,
        "start_time": "2023-08-03T14:24:43.232Z"
      },
      {
        "duration": 16,
        "start_time": "2023-08-03T14:24:43.674Z"
      },
      {
        "duration": 16,
        "start_time": "2023-08-03T14:24:44.070Z"
      },
      {
        "duration": 75,
        "start_time": "2023-08-03T14:24:44.566Z"
      },
      {
        "duration": 13,
        "start_time": "2023-08-03T14:24:45.142Z"
      },
      {
        "duration": 15,
        "start_time": "2023-08-03T14:24:45.548Z"
      },
      {
        "duration": 55,
        "start_time": "2023-08-03T14:24:46.034Z"
      },
      {
        "duration": 9,
        "start_time": "2023-08-03T14:24:46.511Z"
      },
      {
        "duration": 25,
        "start_time": "2023-08-03T14:24:46.961Z"
      },
      {
        "duration": 12,
        "start_time": "2023-08-03T14:24:47.966Z"
      },
      {
        "duration": 8,
        "start_time": "2023-08-03T14:24:48.396Z"
      },
      {
        "duration": 10,
        "start_time": "2023-08-03T14:24:48.744Z"
      },
      {
        "duration": 14,
        "start_time": "2023-08-03T14:24:49.190Z"
      },
      {
        "duration": 71,
        "start_time": "2023-08-03T14:24:49.666Z"
      },
      {
        "duration": 12,
        "start_time": "2023-08-03T14:24:50.592Z"
      },
      {
        "duration": 51,
        "start_time": "2023-08-03T14:25:10.697Z"
      },
      {
        "duration": 15,
        "start_time": "2023-08-03T14:25:11.267Z"
      },
      {
        "duration": 16,
        "start_time": "2023-08-03T14:25:15.299Z"
      },
      {
        "duration": 18,
        "start_time": "2023-08-03T14:25:18.467Z"
      },
      {
        "duration": 45,
        "start_time": "2023-08-03T14:25:19.082Z"
      },
      {
        "duration": 8,
        "start_time": "2023-08-03T14:25:19.565Z"
      },
      {
        "duration": 17,
        "start_time": "2023-08-03T14:25:20.012Z"
      },
      {
        "duration": 11,
        "start_time": "2023-08-03T14:25:21.288Z"
      },
      {
        "duration": 8,
        "start_time": "2023-08-03T14:25:21.757Z"
      },
      {
        "duration": 17,
        "start_time": "2023-08-03T14:25:22.384Z"
      },
      {
        "duration": 9,
        "start_time": "2023-08-03T14:25:25.898Z"
      },
      {
        "duration": 57,
        "start_time": "2023-08-03T14:25:27.706Z"
      },
      {
        "duration": 5,
        "start_time": "2023-08-03T14:25:28.408Z"
      },
      {
        "duration": 11,
        "start_time": "2023-08-03T14:28:43.642Z"
      },
      {
        "duration": 78,
        "start_time": "2023-08-03T14:29:24.300Z"
      },
      {
        "duration": 9,
        "start_time": "2023-08-03T14:34:53.632Z"
      },
      {
        "duration": 79,
        "start_time": "2023-08-03T14:34:58.675Z"
      },
      {
        "duration": 8,
        "start_time": "2023-08-03T14:35:13.857Z"
      },
      {
        "duration": 4,
        "start_time": "2023-08-03T14:35:33.588Z"
      },
      {
        "duration": 10,
        "start_time": "2023-08-03T14:36:32.719Z"
      },
      {
        "duration": 42,
        "start_time": "2023-08-03T14:37:58.013Z"
      },
      {
        "duration": 10,
        "start_time": "2023-08-03T14:37:58.398Z"
      },
      {
        "duration": 25,
        "start_time": "2023-08-03T14:37:58.561Z"
      },
      {
        "duration": 44,
        "start_time": "2023-08-03T14:37:58.970Z"
      },
      {
        "duration": 10,
        "start_time": "2023-08-03T14:37:59.196Z"
      },
      {
        "duration": 14,
        "start_time": "2023-08-03T14:37:59.389Z"
      },
      {
        "duration": 41,
        "start_time": "2023-08-03T14:37:59.600Z"
      },
      {
        "duration": 8,
        "start_time": "2023-08-03T14:37:59.814Z"
      },
      {
        "duration": 13,
        "start_time": "2023-08-03T14:38:00.002Z"
      },
      {
        "duration": 15,
        "start_time": "2023-08-03T14:38:00.449Z"
      },
      {
        "duration": 7,
        "start_time": "2023-08-03T14:38:00.648Z"
      },
      {
        "duration": 15,
        "start_time": "2023-08-03T14:38:00.923Z"
      },
      {
        "duration": 21,
        "start_time": "2023-08-03T14:38:01.062Z"
      },
      {
        "duration": 64,
        "start_time": "2023-08-03T14:38:01.258Z"
      },
      {
        "duration": 49,
        "start_time": "2023-08-03T14:38:01.485Z"
      },
      {
        "duration": 10,
        "start_time": "2023-08-03T14:38:01.689Z"
      },
      {
        "duration": 16,
        "start_time": "2023-08-03T14:38:02.228Z"
      },
      {
        "duration": 11,
        "start_time": "2023-08-03T14:40:03.198Z"
      },
      {
        "duration": 3380,
        "start_time": "2023-08-03T14:40:10.640Z"
      },
      {
        "duration": 7,
        "start_time": "2023-08-03T14:41:58.303Z"
      },
      {
        "duration": 11,
        "start_time": "2023-08-03T14:42:17.857Z"
      },
      {
        "duration": 12,
        "start_time": "2023-08-03T14:42:30.851Z"
      },
      {
        "duration": 43,
        "start_time": "2023-08-03T14:42:43.492Z"
      },
      {
        "duration": 9,
        "start_time": "2023-08-03T14:42:43.646Z"
      },
      {
        "duration": 18,
        "start_time": "2023-08-03T14:42:44.001Z"
      },
      {
        "duration": 39,
        "start_time": "2023-08-03T14:42:44.170Z"
      },
      {
        "duration": 12,
        "start_time": "2023-08-03T14:42:44.350Z"
      },
      {
        "duration": 18,
        "start_time": "2023-08-03T14:42:44.534Z"
      },
      {
        "duration": 43,
        "start_time": "2023-08-03T14:42:44.694Z"
      },
      {
        "duration": 9,
        "start_time": "2023-08-03T14:42:44.876Z"
      },
      {
        "duration": 13,
        "start_time": "2023-08-03T14:42:45.062Z"
      },
      {
        "duration": 13,
        "start_time": "2023-08-03T14:42:45.466Z"
      },
      {
        "duration": 5,
        "start_time": "2023-08-03T14:42:45.701Z"
      },
      {
        "duration": 11,
        "start_time": "2023-08-03T14:42:45.960Z"
      },
      {
        "duration": 12,
        "start_time": "2023-08-03T14:42:46.159Z"
      },
      {
        "duration": 76,
        "start_time": "2023-08-03T14:42:46.681Z"
      },
      {
        "duration": 48,
        "start_time": "2023-08-03T14:42:47.081Z"
      },
      {
        "duration": 10,
        "start_time": "2023-08-03T14:42:51.266Z"
      },
      {
        "duration": 11,
        "start_time": "2023-08-03T14:42:57.277Z"
      },
      {
        "duration": 9,
        "start_time": "2023-08-03T14:43:42.509Z"
      },
      {
        "duration": 6,
        "start_time": "2023-08-03T14:43:53.238Z"
      },
      {
        "duration": 486,
        "start_time": "2023-08-03T14:44:08.771Z"
      },
      {
        "duration": 302,
        "start_time": "2023-08-03T14:44:25.053Z"
      },
      {
        "duration": 553,
        "start_time": "2023-08-03T14:44:32.649Z"
      },
      {
        "duration": 455,
        "start_time": "2023-08-03T14:44:39.436Z"
      },
      {
        "duration": 499,
        "start_time": "2023-08-03T14:44:48.863Z"
      },
      {
        "duration": 1059,
        "start_time": "2023-08-03T14:44:58.764Z"
      },
      {
        "duration": 1068,
        "start_time": "2023-08-03T14:47:24.097Z"
      },
      {
        "duration": 1070,
        "start_time": "2023-08-03T14:47:36.423Z"
      },
      {
        "duration": 939,
        "start_time": "2023-08-03T14:47:46.397Z"
      },
      {
        "duration": 810,
        "start_time": "2023-08-03T14:47:57.047Z"
      },
      {
        "duration": 934,
        "start_time": "2023-08-03T14:48:05.770Z"
      },
      {
        "duration": 784,
        "start_time": "2023-08-03T14:48:15.308Z"
      },
      {
        "duration": 544,
        "start_time": "2023-08-03T14:48:24.363Z"
      },
      {
        "duration": 6,
        "start_time": "2023-08-03T14:54:05.825Z"
      },
      {
        "duration": 5,
        "start_time": "2023-08-03T15:51:59.030Z"
      },
      {
        "duration": 10,
        "start_time": "2023-08-03T15:53:35.889Z"
      },
      {
        "duration": 5,
        "start_time": "2023-08-03T17:11:11.397Z"
      },
      {
        "duration": 1920,
        "start_time": "2023-08-03T17:11:29.526Z"
      },
      {
        "duration": 1141,
        "start_time": "2023-08-03T17:11:38.413Z"
      },
      {
        "duration": 1611,
        "start_time": "2023-08-03T17:12:14.516Z"
      },
      {
        "duration": 1059,
        "start_time": "2023-08-03T17:12:32.324Z"
      },
      {
        "duration": 796,
        "start_time": "2023-08-03T17:12:48.964Z"
      },
      {
        "duration": 863,
        "start_time": "2023-08-03T17:12:57.253Z"
      },
      {
        "duration": 12,
        "start_time": "2023-08-03T17:15:53.423Z"
      },
      {
        "duration": 6,
        "start_time": "2023-08-03T17:16:59.120Z"
      },
      {
        "duration": 7,
        "start_time": "2023-08-03T17:17:23.088Z"
      },
      {
        "duration": 21,
        "start_time": "2023-08-03T17:17:42.265Z"
      },
      {
        "duration": 7,
        "start_time": "2023-08-03T17:18:10.545Z"
      },
      {
        "duration": 8,
        "start_time": "2023-08-03T17:18:12.238Z"
      },
      {
        "duration": 24,
        "start_time": "2023-08-03T17:19:09.181Z"
      },
      {
        "duration": 11,
        "start_time": "2023-08-03T17:19:28.314Z"
      },
      {
        "duration": 8,
        "start_time": "2023-08-03T17:20:57.005Z"
      },
      {
        "duration": 12,
        "start_time": "2023-08-03T17:23:11.912Z"
      },
      {
        "duration": 6,
        "start_time": "2023-08-03T17:23:30.844Z"
      },
      {
        "duration": 12,
        "start_time": "2023-08-03T17:23:53.311Z"
      },
      {
        "duration": 6,
        "start_time": "2023-08-03T17:23:54.123Z"
      },
      {
        "duration": 5,
        "start_time": "2023-08-03T17:23:54.813Z"
      },
      {
        "duration": 18,
        "start_time": "2023-08-03T17:26:04.819Z"
      },
      {
        "duration": 1674,
        "start_time": "2023-08-03T17:26:15.563Z"
      },
      {
        "duration": 11,
        "start_time": "2023-08-03T17:26:50.238Z"
      },
      {
        "duration": 22,
        "start_time": "2023-08-03T17:26:58.560Z"
      },
      {
        "duration": 1663,
        "start_time": "2023-08-03T17:27:03.623Z"
      },
      {
        "duration": 12,
        "start_time": "2023-08-03T17:29:22.717Z"
      },
      {
        "duration": 1013,
        "start_time": "2023-08-03T17:37:27.542Z"
      },
      {
        "duration": 15,
        "start_time": "2023-08-03T17:37:47.026Z"
      },
      {
        "duration": 8,
        "start_time": "2023-08-03T17:38:06.719Z"
      },
      {
        "duration": 13,
        "start_time": "2023-08-03T17:38:14.083Z"
      },
      {
        "duration": 5,
        "start_time": "2023-08-03T17:39:17.758Z"
      },
      {
        "duration": 6375,
        "start_time": "2023-08-03T17:40:13.758Z"
      },
      {
        "duration": 2811,
        "start_time": "2023-08-03T17:40:30.912Z"
      },
      {
        "duration": 2468,
        "start_time": "2023-08-03T17:41:05.285Z"
      },
      {
        "duration": 2499,
        "start_time": "2023-08-03T17:42:22.852Z"
      },
      {
        "duration": 2428,
        "start_time": "2023-08-03T17:43:24.531Z"
      },
      {
        "duration": 2881,
        "start_time": "2023-08-03T17:43:53.653Z"
      },
      {
        "duration": 2359,
        "start_time": "2023-08-03T17:44:05.198Z"
      },
      {
        "duration": 3913,
        "start_time": "2023-08-03T17:44:10.747Z"
      },
      {
        "duration": 1823,
        "start_time": "2023-08-03T17:44:16.242Z"
      },
      {
        "duration": 2793,
        "start_time": "2023-08-03T17:44:24.511Z"
      },
      {
        "duration": 2113,
        "start_time": "2023-08-03T17:44:55.239Z"
      },
      {
        "duration": 15,
        "start_time": "2023-08-03T17:45:03.247Z"
      },
      {
        "duration": 2027,
        "start_time": "2023-08-03T17:45:09.009Z"
      },
      {
        "duration": 2035,
        "start_time": "2023-08-03T17:45:35.323Z"
      },
      {
        "duration": 578,
        "start_time": "2023-08-03T17:46:37.511Z"
      },
      {
        "duration": 556,
        "start_time": "2023-08-03T17:46:44.082Z"
      },
      {
        "duration": 35,
        "start_time": "2023-08-03T17:47:32.674Z"
      },
      {
        "duration": 20,
        "start_time": "2023-08-03T17:48:09.301Z"
      },
      {
        "duration": 37,
        "start_time": "2023-08-03T17:53:34.541Z"
      },
      {
        "duration": 31,
        "start_time": "2023-08-03T17:54:01.222Z"
      },
      {
        "duration": 412,
        "start_time": "2023-08-03T17:55:47.942Z"
      },
      {
        "duration": 161,
        "start_time": "2023-08-03T17:56:47.193Z"
      },
      {
        "duration": 24,
        "start_time": "2023-08-03T17:56:52.530Z"
      },
      {
        "duration": 806,
        "start_time": "2023-08-03T18:21:10.907Z"
      },
      {
        "duration": 10,
        "start_time": "2023-08-03T18:21:32.935Z"
      },
      {
        "duration": 62,
        "start_time": "2023-08-03T18:21:46.098Z"
      },
      {
        "duration": 49,
        "start_time": "2023-08-03T18:22:20.208Z"
      },
      {
        "duration": 54,
        "start_time": "2023-08-03T18:23:42.111Z"
      },
      {
        "duration": 2948,
        "start_time": "2023-08-03T18:23:52.056Z"
      },
      {
        "duration": 44,
        "start_time": "2023-08-04T16:29:22.966Z"
      },
      {
        "duration": 5,
        "start_time": "2023-08-04T16:29:23.466Z"
      },
      {
        "duration": 746,
        "start_time": "2023-08-04T16:29:26.531Z"
      },
      {
        "duration": 77,
        "start_time": "2023-08-04T16:29:28.099Z"
      },
      {
        "duration": 11,
        "start_time": "2023-08-04T16:29:28.542Z"
      },
      {
        "duration": 11,
        "start_time": "2023-08-04T16:29:29.056Z"
      },
      {
        "duration": 80,
        "start_time": "2023-08-04T16:29:29.578Z"
      },
      {
        "duration": 11,
        "start_time": "2023-08-04T16:29:30.052Z"
      },
      {
        "duration": 10,
        "start_time": "2023-08-04T16:29:30.322Z"
      },
      {
        "duration": 54,
        "start_time": "2023-08-04T16:29:30.499Z"
      },
      {
        "duration": 7,
        "start_time": "2023-08-04T16:29:30.699Z"
      },
      {
        "duration": 10,
        "start_time": "2023-08-04T16:29:30.899Z"
      },
      {
        "duration": 37,
        "start_time": "2023-08-04T16:29:31.466Z"
      },
      {
        "duration": 6,
        "start_time": "2023-08-04T16:29:31.658Z"
      },
      {
        "duration": 8,
        "start_time": "2023-08-04T16:29:31.835Z"
      },
      {
        "duration": 10,
        "start_time": "2023-08-04T16:29:32.027Z"
      },
      {
        "duration": 11,
        "start_time": "2023-08-04T16:29:32.242Z"
      },
      {
        "duration": 3,
        "start_time": "2023-08-04T16:29:46.032Z"
      },
      {
        "duration": 28,
        "start_time": "2023-08-04T16:29:46.834Z"
      },
      {
        "duration": 8,
        "start_time": "2023-08-04T16:29:47.248Z"
      },
      {
        "duration": 9,
        "start_time": "2023-08-04T16:29:48.195Z"
      },
      {
        "duration": 37,
        "start_time": "2023-08-04T16:29:48.779Z"
      },
      {
        "duration": 8,
        "start_time": "2023-08-04T16:29:49.452Z"
      },
      {
        "duration": 10,
        "start_time": "2023-08-04T16:29:50.262Z"
      },
      {
        "duration": 25,
        "start_time": "2023-08-04T16:29:51.559Z"
      },
      {
        "duration": 8,
        "start_time": "2023-08-04T16:29:52.028Z"
      },
      {
        "duration": 10,
        "start_time": "2023-08-04T16:29:52.498Z"
      },
      {
        "duration": 6,
        "start_time": "2023-08-04T16:29:53.757Z"
      },
      {
        "duration": 7,
        "start_time": "2023-08-04T16:29:54.490Z"
      },
      {
        "duration": 7,
        "start_time": "2023-08-04T16:33:41.434Z"
      },
      {
        "duration": 5,
        "start_time": "2023-08-04T16:33:41.934Z"
      },
      {
        "duration": 9,
        "start_time": "2023-08-04T16:33:45.038Z"
      },
      {
        "duration": 9,
        "start_time": "2023-08-04T16:33:45.456Z"
      },
      {
        "duration": 8,
        "start_time": "2023-08-04T16:33:45.906Z"
      },
      {
        "duration": 8,
        "start_time": "2023-08-04T16:33:46.334Z"
      },
      {
        "duration": 10,
        "start_time": "2023-08-04T16:33:47.266Z"
      },
      {
        "duration": 10,
        "start_time": "2023-08-04T16:33:47.870Z"
      },
      {
        "duration": 4,
        "start_time": "2023-08-04T16:33:49.534Z"
      },
      {
        "duration": 460,
        "start_time": "2023-08-04T16:33:50.096Z"
      },
      {
        "duration": 4,
        "start_time": "2023-08-04T16:33:50.619Z"
      },
      {
        "duration": 5,
        "start_time": "2023-08-04T16:33:51.201Z"
      },
      {
        "duration": 9,
        "start_time": "2023-08-04T16:33:51.800Z"
      },
      {
        "duration": 4,
        "start_time": "2023-08-04T16:33:52.319Z"
      },
      {
        "duration": 4,
        "start_time": "2023-08-04T16:33:53.354Z"
      },
      {
        "duration": 517,
        "start_time": "2023-08-04T16:33:53.814Z"
      },
      {
        "duration": 10,
        "start_time": "2023-08-04T16:33:54.333Z"
      },
      {
        "duration": 4,
        "start_time": "2023-08-04T16:33:54.347Z"
      },
      {
        "duration": 11,
        "start_time": "2023-08-04T16:33:54.571Z"
      },
      {
        "duration": 4,
        "start_time": "2023-08-04T16:33:54.806Z"
      },
      {
        "duration": 4,
        "start_time": "2023-08-04T16:33:55.226Z"
      },
      {
        "duration": 4,
        "start_time": "2023-08-04T16:33:55.438Z"
      },
      {
        "duration": 5,
        "start_time": "2023-08-04T16:33:55.672Z"
      },
      {
        "duration": 9,
        "start_time": "2023-08-04T16:33:55.903Z"
      },
      {
        "duration": 9,
        "start_time": "2023-08-04T16:33:56.104Z"
      },
      {
        "duration": 11,
        "start_time": "2023-08-04T16:33:56.562Z"
      },
      {
        "duration": 10,
        "start_time": "2023-08-04T16:33:57.131Z"
      },
      {
        "duration": 7,
        "start_time": "2023-08-04T16:33:57.506Z"
      },
      {
        "duration": 4,
        "start_time": "2023-08-04T16:33:57.804Z"
      },
      {
        "duration": 11,
        "start_time": "2023-08-04T16:33:57.997Z"
      },
      {
        "duration": 10,
        "start_time": "2023-08-04T16:33:58.397Z"
      },
      {
        "duration": 313,
        "start_time": "2023-08-04T16:33:58.701Z"
      },
      {
        "duration": 314,
        "start_time": "2023-08-04T16:33:59.024Z"
      },
      {
        "duration": 13,
        "start_time": "2023-08-04T16:33:59.705Z"
      },
      {
        "duration": 1038,
        "start_time": "2023-08-04T16:34:00.172Z"
      },
      {
        "duration": 12,
        "start_time": "2023-08-04T16:35:51.431Z"
      },
      {
        "duration": 40,
        "start_time": "2023-08-04T16:36:54.539Z"
      },
      {
        "duration": 14,
        "start_time": "2023-08-04T16:37:22.401Z"
      },
      {
        "duration": 2,
        "start_time": "2023-08-04T16:37:48.807Z"
      },
      {
        "duration": 28,
        "start_time": "2023-08-04T16:37:49.208Z"
      },
      {
        "duration": 7,
        "start_time": "2023-08-04T16:37:49.402Z"
      },
      {
        "duration": 13,
        "start_time": "2023-08-04T16:37:49.565Z"
      },
      {
        "duration": 27,
        "start_time": "2023-08-04T16:37:49.750Z"
      },
      {
        "duration": 8,
        "start_time": "2023-08-04T16:37:49.938Z"
      },
      {
        "duration": 9,
        "start_time": "2023-08-04T16:37:50.128Z"
      },
      {
        "duration": 27,
        "start_time": "2023-08-04T16:37:50.335Z"
      },
      {
        "duration": 7,
        "start_time": "2023-08-04T16:37:50.501Z"
      },
      {
        "duration": 9,
        "start_time": "2023-08-04T16:37:50.698Z"
      },
      {
        "duration": 7,
        "start_time": "2023-08-04T16:37:51.100Z"
      },
      {
        "duration": 4,
        "start_time": "2023-08-04T16:37:51.472Z"
      },
      {
        "duration": 10,
        "start_time": "2023-08-04T16:37:51.639Z"
      },
      {
        "duration": 10,
        "start_time": "2023-08-04T16:37:51.857Z"
      },
      {
        "duration": 69,
        "start_time": "2023-08-04T16:37:52.031Z"
      },
      {
        "duration": 41,
        "start_time": "2023-08-04T16:37:52.234Z"
      },
      {
        "duration": 7,
        "start_time": "2023-08-04T16:37:52.416Z"
      },
      {
        "duration": 11,
        "start_time": "2023-08-04T16:37:52.633Z"
      },
      {
        "duration": 4,
        "start_time": "2023-08-04T16:37:53.256Z"
      },
      {
        "duration": 463,
        "start_time": "2023-08-04T16:37:53.440Z"
      },
      {
        "duration": 5,
        "start_time": "2023-08-04T16:37:53.905Z"
      },
      {
        "duration": 5,
        "start_time": "2023-08-04T16:37:54.008Z"
      },
      {
        "duration": 8,
        "start_time": "2023-08-04T16:37:54.372Z"
      },
      {
        "duration": 4,
        "start_time": "2023-08-04T16:37:54.737Z"
      },
      {
        "duration": 3,
        "start_time": "2023-08-04T16:37:55.206Z"
      },
      {
        "duration": 561,
        "start_time": "2023-08-04T16:37:55.704Z"
      },
      {
        "duration": 8,
        "start_time": "2023-08-04T16:37:56.267Z"
      },
      {
        "duration": 5,
        "start_time": "2023-08-04T16:37:56.846Z"
      },
      {
        "duration": 9,
        "start_time": "2023-08-04T16:37:57.340Z"
      },
      {
        "duration": 5,
        "start_time": "2023-08-04T16:37:57.758Z"
      },
      {
        "duration": 4,
        "start_time": "2023-08-04T16:37:58.656Z"
      },
      {
        "duration": 3,
        "start_time": "2023-08-04T16:37:58.899Z"
      },
      {
        "duration": 5,
        "start_time": "2023-08-04T16:37:59.070Z"
      },
      {
        "duration": 11,
        "start_time": "2023-08-04T16:37:59.253Z"
      },
      {
        "duration": 10,
        "start_time": "2023-08-04T16:37:59.568Z"
      },
      {
        "duration": 11,
        "start_time": "2023-08-04T16:38:00.066Z"
      },
      {
        "duration": 11,
        "start_time": "2023-08-04T16:38:00.272Z"
      },
      {
        "duration": 8,
        "start_time": "2023-08-04T16:38:00.464Z"
      },
      {
        "duration": 5,
        "start_time": "2023-08-04T16:38:00.850Z"
      },
      {
        "duration": 13,
        "start_time": "2023-08-04T16:38:01.067Z"
      },
      {
        "duration": 12,
        "start_time": "2023-08-04T16:38:01.300Z"
      },
      {
        "duration": 339,
        "start_time": "2023-08-04T16:38:01.502Z"
      },
      {
        "duration": 344,
        "start_time": "2023-08-04T16:38:01.843Z"
      },
      {
        "duration": 13,
        "start_time": "2023-08-04T16:38:02.189Z"
      },
      {
        "duration": 12,
        "start_time": "2023-08-04T16:38:02.345Z"
      },
      {
        "duration": 32,
        "start_time": "2023-08-04T16:38:02.999Z"
      },
      {
        "duration": 12,
        "start_time": "2023-08-04T16:38:03.603Z"
      },
      {
        "duration": 961,
        "start_time": "2023-08-04T16:38:04.561Z"
      },
      {
        "duration": 26,
        "start_time": "2023-08-04T16:38:19.136Z"
      },
      {
        "duration": 13,
        "start_time": "2023-08-04T16:38:19.698Z"
      },
      {
        "duration": 3,
        "start_time": "2023-08-04T16:56:24.031Z"
      },
      {
        "duration": 26,
        "start_time": "2023-08-04T16:57:57.027Z"
      },
      {
        "duration": 894,
        "start_time": "2023-08-04T16:58:03.504Z"
      },
      {
        "duration": 2,
        "start_time": "2023-08-04T16:59:45.504Z"
      },
      {
        "duration": 28,
        "start_time": "2023-08-04T16:59:46.139Z"
      },
      {
        "duration": 7,
        "start_time": "2023-08-04T16:59:46.355Z"
      },
      {
        "duration": 9,
        "start_time": "2023-08-04T16:59:46.559Z"
      },
      {
        "duration": 26,
        "start_time": "2023-08-04T16:59:46.761Z"
      },
      {
        "duration": 7,
        "start_time": "2023-08-04T16:59:46.971Z"
      },
      {
        "duration": 9,
        "start_time": "2023-08-04T16:59:47.231Z"
      },
      {
        "duration": 27,
        "start_time": "2023-08-04T16:59:47.496Z"
      },
      {
        "duration": 6,
        "start_time": "2023-08-04T16:59:47.707Z"
      },
      {
        "duration": 9,
        "start_time": "2023-08-04T16:59:47.900Z"
      },
      {
        "duration": 6,
        "start_time": "2023-08-04T16:59:48.334Z"
      },
      {
        "duration": 4,
        "start_time": "2023-08-04T16:59:48.531Z"
      },
      {
        "duration": 7,
        "start_time": "2023-08-04T16:59:48.732Z"
      },
      {
        "duration": 8,
        "start_time": "2023-08-04T16:59:48.936Z"
      },
      {
        "duration": 38,
        "start_time": "2023-08-04T16:59:49.159Z"
      },
      {
        "duration": 35,
        "start_time": "2023-08-04T16:59:49.337Z"
      },
      {
        "duration": 6,
        "start_time": "2023-08-04T16:59:49.534Z"
      },
      {
        "duration": 8,
        "start_time": "2023-08-04T16:59:49.733Z"
      },
      {
        "duration": 3,
        "start_time": "2023-08-04T16:59:50.304Z"
      },
      {
        "duration": 393,
        "start_time": "2023-08-04T16:59:50.510Z"
      },
      {
        "duration": 4,
        "start_time": "2023-08-04T16:59:50.905Z"
      },
      {
        "duration": 4,
        "start_time": "2023-08-04T16:59:50.928Z"
      },
      {
        "duration": 7,
        "start_time": "2023-08-04T16:59:51.131Z"
      },
      {
        "duration": 4,
        "start_time": "2023-08-04T16:59:51.334Z"
      },
      {
        "duration": 4,
        "start_time": "2023-08-04T16:59:51.534Z"
      },
      {
        "duration": 473,
        "start_time": "2023-08-04T16:59:51.733Z"
      },
      {
        "duration": 7,
        "start_time": "2023-08-04T16:59:52.207Z"
      },
      {
        "duration": 4,
        "start_time": "2023-08-04T16:59:52.215Z"
      },
      {
        "duration": 8,
        "start_time": "2023-08-04T16:59:52.365Z"
      },
      {
        "duration": 4,
        "start_time": "2023-08-04T16:59:52.600Z"
      },
      {
        "duration": 3,
        "start_time": "2023-08-04T16:59:53.039Z"
      },
      {
        "duration": 4,
        "start_time": "2023-08-04T16:59:53.273Z"
      },
      {
        "duration": 3,
        "start_time": "2023-08-04T16:59:53.536Z"
      },
      {
        "duration": 10,
        "start_time": "2023-08-04T16:59:53.760Z"
      },
      {
        "duration": 8,
        "start_time": "2023-08-04T16:59:54.036Z"
      },
      {
        "duration": 6,
        "start_time": "2023-08-04T16:59:54.259Z"
      },
      {
        "duration": 10,
        "start_time": "2023-08-04T16:59:54.504Z"
      },
      {
        "duration": 6,
        "start_time": "2023-08-04T16:59:54.731Z"
      },
      {
        "duration": 3,
        "start_time": "2023-08-04T16:59:54.941Z"
      },
      {
        "duration": 11,
        "start_time": "2023-08-04T16:59:55.202Z"
      },
      {
        "duration": 11,
        "start_time": "2023-08-04T16:59:55.405Z"
      },
      {
        "duration": 336,
        "start_time": "2023-08-04T16:59:55.665Z"
      },
      {
        "duration": 284,
        "start_time": "2023-08-04T16:59:56.003Z"
      },
      {
        "duration": 13,
        "start_time": "2023-08-04T16:59:56.406Z"
      },
      {
        "duration": 11,
        "start_time": "2023-08-04T16:59:56.627Z"
      },
      {
        "duration": 23,
        "start_time": "2023-08-04T16:59:57.134Z"
      },
      {
        "duration": 13,
        "start_time": "2023-08-04T16:59:57.368Z"
      },
      {
        "duration": 4,
        "start_time": "2023-08-04T16:59:59.459Z"
      },
      {
        "duration": 1317,
        "start_time": "2023-08-04T17:00:07.171Z"
      },
      {
        "duration": 4,
        "start_time": "2023-08-04T17:01:32.213Z"
      },
      {
        "duration": 4,
        "start_time": "2023-08-04T17:01:36.994Z"
      },
      {
        "duration": 912,
        "start_time": "2023-08-04T17:02:49.802Z"
      },
      {
        "duration": 12,
        "start_time": "2023-08-04T17:03:19.042Z"
      },
      {
        "duration": 302,
        "start_time": "2023-08-04T17:07:42.276Z"
      },
      {
        "duration": 844,
        "start_time": "2023-08-05T16:10:21.671Z"
      },
      {
        "duration": 117,
        "start_time": "2023-08-05T16:10:22.518Z"
      },
      {
        "duration": 13,
        "start_time": "2023-08-05T16:10:22.637Z"
      },
      {
        "duration": 17,
        "start_time": "2023-08-05T16:10:22.652Z"
      },
      {
        "duration": 176,
        "start_time": "2023-08-05T16:10:22.672Z"
      },
      {
        "duration": 10,
        "start_time": "2023-08-05T16:10:22.850Z"
      },
      {
        "duration": 14,
        "start_time": "2023-08-05T16:10:22.861Z"
      },
      {
        "duration": 64,
        "start_time": "2023-08-05T16:10:22.877Z"
      },
      {
        "duration": 8,
        "start_time": "2023-08-05T16:10:22.942Z"
      },
      {
        "duration": 17,
        "start_time": "2023-08-05T16:10:22.952Z"
      },
      {
        "duration": 14,
        "start_time": "2023-08-05T16:10:22.971Z"
      },
      {
        "duration": 14,
        "start_time": "2023-08-05T16:10:22.987Z"
      },
      {
        "duration": 18,
        "start_time": "2023-08-05T16:10:23.003Z"
      },
      {
        "duration": 31,
        "start_time": "2023-08-05T16:10:23.025Z"
      },
      {
        "duration": 14,
        "start_time": "2023-08-05T16:10:23.058Z"
      },
      {
        "duration": 22,
        "start_time": "2023-08-05T16:10:23.073Z"
      },
      {
        "duration": 12,
        "start_time": "2023-08-05T16:10:23.097Z"
      },
      {
        "duration": 16,
        "start_time": "2023-08-05T16:10:23.111Z"
      },
      {
        "duration": 4,
        "start_time": "2023-08-05T16:10:23.129Z"
      },
      {
        "duration": 506,
        "start_time": "2023-08-05T16:10:23.134Z"
      },
      {
        "duration": 6,
        "start_time": "2023-08-05T16:10:23.642Z"
      },
      {
        "duration": 7,
        "start_time": "2023-08-05T16:10:23.649Z"
      },
      {
        "duration": 21,
        "start_time": "2023-08-05T16:10:23.658Z"
      },
      {
        "duration": 5,
        "start_time": "2023-08-05T16:10:23.681Z"
      },
      {
        "duration": 8,
        "start_time": "2023-08-05T16:10:23.688Z"
      },
      {
        "duration": 700,
        "start_time": "2023-08-05T16:10:23.698Z"
      },
      {
        "duration": 10,
        "start_time": "2023-08-05T16:10:24.400Z"
      },
      {
        "duration": 5,
        "start_time": "2023-08-05T16:10:24.412Z"
      },
      {
        "duration": 13,
        "start_time": "2023-08-05T16:10:24.419Z"
      },
      {
        "duration": 5,
        "start_time": "2023-08-05T16:10:24.434Z"
      },
      {
        "duration": 35,
        "start_time": "2023-08-05T16:10:24.441Z"
      },
      {
        "duration": 12,
        "start_time": "2023-08-05T16:10:24.477Z"
      },
      {
        "duration": 18,
        "start_time": "2023-08-05T16:10:24.490Z"
      },
      {
        "duration": 23,
        "start_time": "2023-08-05T16:10:24.509Z"
      },
      {
        "duration": 9,
        "start_time": "2023-08-05T16:10:24.534Z"
      },
      {
        "duration": 8,
        "start_time": "2023-08-05T16:10:24.544Z"
      },
      {
        "duration": 21,
        "start_time": "2023-08-05T16:10:24.553Z"
      },
      {
        "duration": 7,
        "start_time": "2023-08-05T16:10:24.576Z"
      },
      {
        "duration": 14,
        "start_time": "2023-08-05T16:10:24.585Z"
      },
      {
        "duration": 55,
        "start_time": "2023-08-05T16:10:24.601Z"
      },
      {
        "duration": 14,
        "start_time": "2023-08-05T16:10:24.661Z"
      },
      {
        "duration": 361,
        "start_time": "2023-08-05T16:10:24.676Z"
      },
      {
        "duration": 356,
        "start_time": "2023-08-05T16:10:25.039Z"
      },
      {
        "duration": 16,
        "start_time": "2023-08-05T16:10:25.397Z"
      },
      {
        "duration": 11,
        "start_time": "2023-08-05T16:10:25.415Z"
      },
      {
        "duration": 59,
        "start_time": "2023-08-05T16:10:25.427Z"
      },
      {
        "duration": 20,
        "start_time": "2023-08-05T16:10:25.488Z"
      },
      {
        "duration": 11,
        "start_time": "2023-08-05T16:10:25.510Z"
      },
      {
        "duration": 23,
        "start_time": "2023-08-05T16:10:25.522Z"
      },
      {
        "duration": 15,
        "start_time": "2023-08-05T16:10:25.547Z"
      },
      {
        "duration": 353,
        "start_time": "2023-08-05T16:10:25.564Z"
      },
      {
        "duration": 480,
        "start_time": "2023-08-05T16:37:18.020Z"
      },
      {
        "duration": 27,
        "start_time": "2023-08-05T16:37:35.319Z"
      },
      {
        "duration": 22,
        "start_time": "2023-08-05T16:40:18.889Z"
      },
      {
        "duration": 10,
        "start_time": "2023-08-05T16:40:42.335Z"
      },
      {
        "duration": 3,
        "start_time": "2023-08-05T16:43:27.265Z"
      },
      {
        "duration": 14,
        "start_time": "2023-08-05T16:43:36.842Z"
      },
      {
        "duration": 11,
        "start_time": "2023-08-05T16:44:06.263Z"
      },
      {
        "duration": 13,
        "start_time": "2023-08-05T16:44:46.143Z"
      },
      {
        "duration": 13,
        "start_time": "2023-08-05T16:44:55.092Z"
      },
      {
        "duration": 10,
        "start_time": "2023-08-05T16:45:11.185Z"
      },
      {
        "duration": 11,
        "start_time": "2023-08-05T16:45:34.338Z"
      },
      {
        "duration": 10,
        "start_time": "2023-08-05T16:49:13.158Z"
      },
      {
        "duration": 6,
        "start_time": "2023-08-05T16:49:17.713Z"
      },
      {
        "duration": 14,
        "start_time": "2023-08-05T16:49:26.632Z"
      },
      {
        "duration": 9,
        "start_time": "2023-08-05T16:51:50.625Z"
      },
      {
        "duration": 691,
        "start_time": "2023-08-05T16:52:14.874Z"
      },
      {
        "duration": 1600,
        "start_time": "2023-08-05T17:21:30.137Z"
      },
      {
        "duration": 5,
        "start_time": "2023-08-05T17:21:49.694Z"
      },
      {
        "duration": 1445,
        "start_time": "2023-08-05T17:22:03.427Z"
      },
      {
        "duration": 1423,
        "start_time": "2023-08-05T17:22:18.696Z"
      },
      {
        "duration": 895,
        "start_time": "2023-08-05T17:22:37.264Z"
      },
      {
        "duration": 995,
        "start_time": "2023-08-05T17:23:09.647Z"
      },
      {
        "duration": 23,
        "start_time": "2023-08-05T17:33:13.403Z"
      },
      {
        "duration": 9,
        "start_time": "2023-08-05T17:34:26.595Z"
      },
      {
        "duration": 462,
        "start_time": "2023-08-05T17:34:44.272Z"
      },
      {
        "duration": 6,
        "start_time": "2023-08-05T17:34:56.019Z"
      },
      {
        "duration": 5,
        "start_time": "2023-08-05T17:36:52.629Z"
      },
      {
        "duration": 92,
        "start_time": "2023-08-05T17:41:23.301Z"
      },
      {
        "duration": 7,
        "start_time": "2023-08-05T17:45:11.837Z"
      },
      {
        "duration": 1164,
        "start_time": "2023-08-05T17:45:20.783Z"
      },
      {
        "duration": 36,
        "start_time": "2023-08-05T17:45:21.949Z"
      },
      {
        "duration": 13,
        "start_time": "2023-08-05T17:45:21.988Z"
      },
      {
        "duration": 12,
        "start_time": "2023-08-05T17:45:22.004Z"
      },
      {
        "duration": 49,
        "start_time": "2023-08-05T17:45:22.018Z"
      },
      {
        "duration": 18,
        "start_time": "2023-08-05T17:45:22.069Z"
      },
      {
        "duration": 24,
        "start_time": "2023-08-05T17:45:22.088Z"
      },
      {
        "duration": 22,
        "start_time": "2023-08-05T17:45:22.114Z"
      },
      {
        "duration": 22,
        "start_time": "2023-08-05T17:45:22.138Z"
      },
      {
        "duration": 21,
        "start_time": "2023-08-05T17:45:22.163Z"
      },
      {
        "duration": 15,
        "start_time": "2023-08-05T17:45:22.185Z"
      },
      {
        "duration": 9,
        "start_time": "2023-08-05T17:45:22.201Z"
      },
      {
        "duration": 13,
        "start_time": "2023-08-05T17:45:22.211Z"
      },
      {
        "duration": 12,
        "start_time": "2023-08-05T17:45:22.225Z"
      },
      {
        "duration": 15,
        "start_time": "2023-08-05T17:45:22.238Z"
      },
      {
        "duration": 7,
        "start_time": "2023-08-05T17:45:22.254Z"
      },
      {
        "duration": 24,
        "start_time": "2023-08-05T17:45:22.263Z"
      },
      {
        "duration": 10,
        "start_time": "2023-08-05T17:45:22.288Z"
      },
      {
        "duration": 4,
        "start_time": "2023-08-05T17:45:22.300Z"
      },
      {
        "duration": 560,
        "start_time": "2023-08-05T17:45:22.305Z"
      },
      {
        "duration": 25,
        "start_time": "2023-08-05T17:45:22.867Z"
      },
      {
        "duration": 11,
        "start_time": "2023-08-05T17:45:22.894Z"
      },
      {
        "duration": 15,
        "start_time": "2023-08-05T17:45:22.907Z"
      },
      {
        "duration": 10,
        "start_time": "2023-08-05T17:45:22.924Z"
      },
      {
        "duration": 9,
        "start_time": "2023-08-05T17:45:22.936Z"
      },
      {
        "duration": 587,
        "start_time": "2023-08-05T17:45:22.946Z"
      },
      {
        "duration": 9,
        "start_time": "2023-08-05T17:45:23.535Z"
      },
      {
        "duration": 26,
        "start_time": "2023-08-05T17:45:23.549Z"
      },
      {
        "duration": 14,
        "start_time": "2023-08-05T17:45:23.581Z"
      },
      {
        "duration": 10,
        "start_time": "2023-08-05T17:45:23.597Z"
      },
      {
        "duration": 5,
        "start_time": "2023-08-05T17:45:23.609Z"
      },
      {
        "duration": 5,
        "start_time": "2023-08-05T17:45:23.616Z"
      },
      {
        "duration": 4,
        "start_time": "2023-08-05T17:45:23.623Z"
      },
      {
        "duration": 12,
        "start_time": "2023-08-05T17:45:23.629Z"
      },
      {
        "duration": 46,
        "start_time": "2023-08-05T17:45:23.643Z"
      },
      {
        "duration": 11,
        "start_time": "2023-08-05T17:45:23.691Z"
      },
      {
        "duration": 12,
        "start_time": "2023-08-05T17:45:23.704Z"
      },
      {
        "duration": 8,
        "start_time": "2023-08-05T17:45:23.717Z"
      },
      {
        "duration": 6,
        "start_time": "2023-08-05T17:45:23.726Z"
      },
      {
        "duration": 15,
        "start_time": "2023-08-05T17:45:23.734Z"
      },
      {
        "duration": 21,
        "start_time": "2023-08-05T17:45:23.774Z"
      },
      {
        "duration": 419,
        "start_time": "2023-08-05T17:45:23.797Z"
      },
      {
        "duration": 437,
        "start_time": "2023-08-05T17:45:24.218Z"
      },
      {
        "duration": 28,
        "start_time": "2023-08-05T17:45:24.656Z"
      },
      {
        "duration": 12,
        "start_time": "2023-08-05T17:45:24.685Z"
      },
      {
        "duration": 24,
        "start_time": "2023-08-05T17:45:24.699Z"
      },
      {
        "duration": 12,
        "start_time": "2023-08-05T17:45:24.725Z"
      },
      {
        "duration": 5,
        "start_time": "2023-08-05T17:45:24.738Z"
      },
      {
        "duration": 9,
        "start_time": "2023-08-05T17:45:24.744Z"
      },
      {
        "duration": 37,
        "start_time": "2023-08-05T17:45:24.754Z"
      },
      {
        "duration": 21,
        "start_time": "2023-08-05T17:45:24.793Z"
      },
      {
        "duration": 11,
        "start_time": "2023-08-05T17:45:24.816Z"
      },
      {
        "duration": 3,
        "start_time": "2023-08-05T17:45:24.829Z"
      },
      {
        "duration": 34,
        "start_time": "2023-08-05T17:45:24.833Z"
      },
      {
        "duration": 22,
        "start_time": "2023-08-05T17:45:24.868Z"
      },
      {
        "duration": 17,
        "start_time": "2023-08-05T17:45:24.892Z"
      },
      {
        "duration": 8,
        "start_time": "2023-08-05T17:45:24.911Z"
      },
      {
        "duration": 105,
        "start_time": "2023-08-05T17:45:24.921Z"
      },
      {
        "duration": 0,
        "start_time": "2023-08-05T17:45:25.027Z"
      },
      {
        "duration": 0,
        "start_time": "2023-08-05T17:45:25.029Z"
      },
      {
        "duration": 0,
        "start_time": "2023-08-05T17:45:25.030Z"
      },
      {
        "duration": 0,
        "start_time": "2023-08-05T17:45:25.032Z"
      },
      {
        "duration": 0,
        "start_time": "2023-08-05T17:45:25.034Z"
      },
      {
        "duration": 10,
        "start_time": "2023-08-05T17:45:39.478Z"
      },
      {
        "duration": 25,
        "start_time": "2023-08-05T17:46:42.075Z"
      },
      {
        "duration": 11,
        "start_time": "2023-08-05T17:46:53.988Z"
      },
      {
        "duration": 9,
        "start_time": "2023-08-05T17:47:02.638Z"
      },
      {
        "duration": 1425,
        "start_time": "2023-08-05T17:47:36.859Z"
      },
      {
        "duration": 9,
        "start_time": "2023-08-05T17:48:58.530Z"
      },
      {
        "duration": 1311,
        "start_time": "2023-08-05T17:49:14.215Z"
      },
      {
        "duration": 24,
        "start_time": "2023-08-05T17:50:00.966Z"
      },
      {
        "duration": 1636,
        "start_time": "2023-08-05T17:50:28.127Z"
      },
      {
        "duration": 4,
        "start_time": "2023-08-05T17:51:30.148Z"
      },
      {
        "duration": 11,
        "start_time": "2023-08-05T17:52:41.446Z"
      },
      {
        "duration": 6,
        "start_time": "2023-08-05T17:52:44.540Z"
      },
      {
        "duration": 1118,
        "start_time": "2023-08-05T17:53:17.312Z"
      },
      {
        "duration": 29,
        "start_time": "2023-08-05T17:53:18.432Z"
      },
      {
        "duration": 28,
        "start_time": "2023-08-05T17:53:18.463Z"
      },
      {
        "duration": 12,
        "start_time": "2023-08-05T17:53:18.493Z"
      },
      {
        "duration": 44,
        "start_time": "2023-08-05T17:53:18.508Z"
      },
      {
        "duration": 10,
        "start_time": "2023-08-05T17:53:18.554Z"
      },
      {
        "duration": 18,
        "start_time": "2023-08-05T17:53:18.566Z"
      },
      {
        "duration": 22,
        "start_time": "2023-08-05T17:53:18.585Z"
      },
      {
        "duration": 9,
        "start_time": "2023-08-05T17:53:18.609Z"
      },
      {
        "duration": 16,
        "start_time": "2023-08-05T17:53:18.620Z"
      },
      {
        "duration": 12,
        "start_time": "2023-08-05T17:53:18.637Z"
      },
      {
        "duration": 9,
        "start_time": "2023-08-05T17:53:18.650Z"
      },
      {
        "duration": 9,
        "start_time": "2023-08-05T17:53:18.661Z"
      },
      {
        "duration": 20,
        "start_time": "2023-08-05T17:53:18.674Z"
      },
      {
        "duration": 10,
        "start_time": "2023-08-05T17:53:18.696Z"
      },
      {
        "duration": 7,
        "start_time": "2023-08-05T17:53:18.708Z"
      },
      {
        "duration": 15,
        "start_time": "2023-08-05T17:53:18.717Z"
      },
      {
        "duration": 10,
        "start_time": "2023-08-05T17:53:18.734Z"
      },
      {
        "duration": 4,
        "start_time": "2023-08-05T17:53:18.747Z"
      },
      {
        "duration": 524,
        "start_time": "2023-08-05T17:53:18.773Z"
      },
      {
        "duration": 5,
        "start_time": "2023-08-05T17:53:19.299Z"
      },
      {
        "duration": 10,
        "start_time": "2023-08-05T17:53:19.307Z"
      },
      {
        "duration": 14,
        "start_time": "2023-08-05T17:53:19.319Z"
      },
      {
        "duration": 5,
        "start_time": "2023-08-05T17:53:19.335Z"
      },
      {
        "duration": 9,
        "start_time": "2023-08-05T17:53:19.342Z"
      },
      {
        "duration": 600,
        "start_time": "2023-08-05T17:53:19.352Z"
      },
      {
        "duration": 10,
        "start_time": "2023-08-05T17:53:19.954Z"
      },
      {
        "duration": 18,
        "start_time": "2023-08-05T17:53:19.980Z"
      },
      {
        "duration": 24,
        "start_time": "2023-08-05T17:53:20.003Z"
      },
      {
        "duration": 12,
        "start_time": "2023-08-05T17:53:20.030Z"
      },
      {
        "duration": 17,
        "start_time": "2023-08-05T17:53:20.044Z"
      },
      {
        "duration": 21,
        "start_time": "2023-08-05T17:53:20.063Z"
      },
      {
        "duration": 13,
        "start_time": "2023-08-05T17:53:20.086Z"
      },
      {
        "duration": 28,
        "start_time": "2023-08-05T17:53:20.102Z"
      },
      {
        "duration": 29,
        "start_time": "2023-08-05T17:53:20.133Z"
      },
      {
        "duration": 11,
        "start_time": "2023-08-05T17:53:20.164Z"
      },
      {
        "duration": 26,
        "start_time": "2023-08-05T17:53:20.178Z"
      },
      {
        "duration": 12,
        "start_time": "2023-08-05T17:53:20.209Z"
      },
      {
        "duration": 20,
        "start_time": "2023-08-05T17:53:20.229Z"
      },
      {
        "duration": 42,
        "start_time": "2023-08-05T17:53:20.251Z"
      },
      {
        "duration": 18,
        "start_time": "2023-08-05T17:53:20.301Z"
      },
      {
        "duration": 484,
        "start_time": "2023-08-05T17:53:20.321Z"
      },
      {
        "duration": 449,
        "start_time": "2023-08-05T17:53:20.806Z"
      },
      {
        "duration": 19,
        "start_time": "2023-08-05T17:53:21.257Z"
      },
      {
        "duration": 22,
        "start_time": "2023-08-05T17:53:21.277Z"
      },
      {
        "duration": 57,
        "start_time": "2023-08-05T17:53:21.301Z"
      },
      {
        "duration": 31,
        "start_time": "2023-08-05T17:53:21.360Z"
      },
      {
        "duration": 23,
        "start_time": "2023-08-05T17:53:21.393Z"
      },
      {
        "duration": 19,
        "start_time": "2023-08-05T17:53:21.417Z"
      },
      {
        "duration": 15,
        "start_time": "2023-08-05T17:53:21.438Z"
      },
      {
        "duration": 32,
        "start_time": "2023-08-05T17:53:21.455Z"
      },
      {
        "duration": 16,
        "start_time": "2023-08-05T17:53:21.488Z"
      },
      {
        "duration": 9,
        "start_time": "2023-08-05T17:53:21.506Z"
      },
      {
        "duration": 12,
        "start_time": "2023-08-05T17:53:21.517Z"
      },
      {
        "duration": 6,
        "start_time": "2023-08-05T17:53:21.531Z"
      },
      {
        "duration": 16,
        "start_time": "2023-08-05T17:53:21.538Z"
      },
      {
        "duration": 26,
        "start_time": "2023-08-05T17:53:21.555Z"
      },
      {
        "duration": 100,
        "start_time": "2023-08-05T17:53:21.585Z"
      },
      {
        "duration": 0,
        "start_time": "2023-08-05T17:53:21.687Z"
      },
      {
        "duration": 0,
        "start_time": "2023-08-05T17:53:21.688Z"
      },
      {
        "duration": 0,
        "start_time": "2023-08-05T17:53:21.692Z"
      },
      {
        "duration": 12,
        "start_time": "2023-08-05T17:53:31.563Z"
      },
      {
        "duration": 8,
        "start_time": "2023-08-05T17:53:32.996Z"
      },
      {
        "duration": 7,
        "start_time": "2023-08-05T17:53:39.469Z"
      },
      {
        "duration": 9,
        "start_time": "2023-08-05T17:53:43.743Z"
      },
      {
        "duration": 12,
        "start_time": "2023-08-05T17:53:54.551Z"
      },
      {
        "duration": 13,
        "start_time": "2023-08-05T17:54:07.071Z"
      },
      {
        "duration": 10,
        "start_time": "2023-08-05T18:04:43.554Z"
      },
      {
        "duration": 5,
        "start_time": "2023-08-05T18:04:56.811Z"
      },
      {
        "duration": 13,
        "start_time": "2023-08-05T18:08:09.724Z"
      },
      {
        "duration": 3,
        "start_time": "2023-08-05T18:08:29.497Z"
      },
      {
        "duration": 12,
        "start_time": "2023-08-05T18:08:36.443Z"
      },
      {
        "duration": 5,
        "start_time": "2023-08-05T18:09:03.096Z"
      },
      {
        "duration": 6,
        "start_time": "2023-08-05T18:09:32.159Z"
      },
      {
        "duration": 6,
        "start_time": "2023-08-05T18:09:52.865Z"
      },
      {
        "duration": 6,
        "start_time": "2023-08-05T18:12:40.163Z"
      },
      {
        "duration": 89,
        "start_time": "2023-08-05T18:21:47.000Z"
      },
      {
        "duration": 11,
        "start_time": "2023-08-05T18:25:25.928Z"
      },
      {
        "duration": 1487,
        "start_time": "2023-08-05T18:25:54.075Z"
      },
      {
        "duration": 7,
        "start_time": "2023-08-05T18:27:24.949Z"
      },
      {
        "duration": 6,
        "start_time": "2023-08-05T18:27:26.223Z"
      },
      {
        "duration": 5,
        "start_time": "2023-08-05T18:27:30.152Z"
      },
      {
        "duration": 1306,
        "start_time": "2023-08-05T18:27:38.302Z"
      },
      {
        "duration": 13,
        "start_time": "2023-08-05T18:28:18.571Z"
      },
      {
        "duration": 8,
        "start_time": "2023-08-05T18:28:54.015Z"
      },
      {
        "duration": 8,
        "start_time": "2023-08-05T18:29:08.614Z"
      },
      {
        "duration": 10,
        "start_time": "2023-08-05T18:29:15.269Z"
      },
      {
        "duration": 8,
        "start_time": "2023-08-05T18:30:25.765Z"
      },
      {
        "duration": 4,
        "start_time": "2023-08-05T18:45:44.634Z"
      },
      {
        "duration": 133,
        "start_time": "2023-08-05T18:46:44.456Z"
      },
      {
        "duration": 387,
        "start_time": "2023-08-05T18:47:40.099Z"
      },
      {
        "duration": 25,
        "start_time": "2023-08-05T18:50:06.968Z"
      },
      {
        "duration": 11,
        "start_time": "2023-08-05T18:50:29.929Z"
      },
      {
        "duration": 5,
        "start_time": "2023-08-05T18:50:47.559Z"
      },
      {
        "duration": 17,
        "start_time": "2023-08-05T18:52:09.791Z"
      },
      {
        "duration": 14,
        "start_time": "2023-08-05T18:52:28.599Z"
      },
      {
        "duration": 3,
        "start_time": "2023-08-05T18:53:01.551Z"
      },
      {
        "duration": 8,
        "start_time": "2023-08-05T18:53:12.594Z"
      },
      {
        "duration": 302,
        "start_time": "2023-08-05T18:53:14.593Z"
      },
      {
        "duration": 8,
        "start_time": "2023-08-05T18:53:18.685Z"
      },
      {
        "duration": 334,
        "start_time": "2023-08-05T18:55:18.872Z"
      },
      {
        "duration": 2533,
        "start_time": "2023-08-05T19:00:01.574Z"
      },
      {
        "duration": 2994,
        "start_time": "2023-08-05T19:03:03.693Z"
      },
      {
        "duration": 12,
        "start_time": "2023-08-05T19:06:51.659Z"
      },
      {
        "duration": 4,
        "start_time": "2023-08-05T19:07:08.590Z"
      },
      {
        "duration": 349,
        "start_time": "2023-08-05T19:07:16.058Z"
      },
      {
        "duration": 100,
        "start_time": "2023-08-06T15:02:44.572Z"
      },
      {
        "duration": 84,
        "start_time": "2023-08-06T15:07:23.163Z"
      },
      {
        "duration": 1468,
        "start_time": "2023-08-06T15:07:33.075Z"
      },
      {
        "duration": 112,
        "start_time": "2023-08-06T15:07:34.546Z"
      },
      {
        "duration": 31,
        "start_time": "2023-08-06T15:07:34.661Z"
      },
      {
        "duration": 19,
        "start_time": "2023-08-06T15:07:34.694Z"
      },
      {
        "duration": 631,
        "start_time": "2023-08-06T15:07:34.716Z"
      },
      {
        "duration": 11,
        "start_time": "2023-08-06T15:07:35.349Z"
      },
      {
        "duration": 19,
        "start_time": "2023-08-06T15:07:35.366Z"
      },
      {
        "duration": 60,
        "start_time": "2023-08-06T15:07:35.388Z"
      },
      {
        "duration": 10,
        "start_time": "2023-08-06T15:07:35.450Z"
      },
      {
        "duration": 31,
        "start_time": "2023-08-06T15:07:35.462Z"
      },
      {
        "duration": 8,
        "start_time": "2023-08-06T15:07:35.495Z"
      },
      {
        "duration": 23,
        "start_time": "2023-08-06T15:07:35.504Z"
      },
      {
        "duration": 10,
        "start_time": "2023-08-06T15:07:35.530Z"
      },
      {
        "duration": 11,
        "start_time": "2023-08-06T15:07:35.544Z"
      },
      {
        "duration": 13,
        "start_time": "2023-08-06T15:07:35.561Z"
      },
      {
        "duration": 10,
        "start_time": "2023-08-06T15:07:35.575Z"
      },
      {
        "duration": 22,
        "start_time": "2023-08-06T15:07:35.586Z"
      },
      {
        "duration": 10,
        "start_time": "2023-08-06T15:07:35.610Z"
      },
      {
        "duration": 18,
        "start_time": "2023-08-06T15:07:35.622Z"
      },
      {
        "duration": 33,
        "start_time": "2023-08-06T15:07:35.642Z"
      },
      {
        "duration": 565,
        "start_time": "2023-08-06T15:07:35.676Z"
      },
      {
        "duration": 6,
        "start_time": "2023-08-06T15:07:36.243Z"
      },
      {
        "duration": 8,
        "start_time": "2023-08-06T15:07:36.256Z"
      },
      {
        "duration": 15,
        "start_time": "2023-08-06T15:07:36.266Z"
      },
      {
        "duration": 20,
        "start_time": "2023-08-06T15:07:36.283Z"
      },
      {
        "duration": 24,
        "start_time": "2023-08-06T15:07:36.305Z"
      },
      {
        "duration": 650,
        "start_time": "2023-08-06T15:07:36.331Z"
      },
      {
        "duration": 10,
        "start_time": "2023-08-06T15:07:36.983Z"
      },
      {
        "duration": 9,
        "start_time": "2023-08-06T15:07:36.994Z"
      },
      {
        "duration": 9,
        "start_time": "2023-08-06T15:07:37.005Z"
      },
      {
        "duration": 5,
        "start_time": "2023-08-06T15:07:37.016Z"
      },
      {
        "duration": 41,
        "start_time": "2023-08-06T15:07:37.023Z"
      },
      {
        "duration": 19,
        "start_time": "2023-08-06T15:07:37.066Z"
      },
      {
        "duration": 9,
        "start_time": "2023-08-06T15:07:37.088Z"
      },
      {
        "duration": 11,
        "start_time": "2023-08-06T15:07:37.099Z"
      },
      {
        "duration": 13,
        "start_time": "2023-08-06T15:07:37.112Z"
      },
      {
        "duration": 8,
        "start_time": "2023-08-06T15:07:37.127Z"
      },
      {
        "duration": 28,
        "start_time": "2023-08-06T15:07:37.137Z"
      },
      {
        "duration": 8,
        "start_time": "2023-08-06T15:07:37.167Z"
      },
      {
        "duration": 16,
        "start_time": "2023-08-06T15:07:37.177Z"
      },
      {
        "duration": 25,
        "start_time": "2023-08-06T15:07:37.198Z"
      },
      {
        "duration": 14,
        "start_time": "2023-08-06T15:07:37.225Z"
      },
      {
        "duration": 454,
        "start_time": "2023-08-06T15:07:37.241Z"
      },
      {
        "duration": 537,
        "start_time": "2023-08-06T15:07:37.697Z"
      },
      {
        "duration": 28,
        "start_time": "2023-08-06T15:07:38.237Z"
      },
      {
        "duration": 16,
        "start_time": "2023-08-06T15:07:38.269Z"
      },
      {
        "duration": 46,
        "start_time": "2023-08-06T15:07:38.290Z"
      },
      {
        "duration": 37,
        "start_time": "2023-08-06T15:07:38.338Z"
      },
      {
        "duration": 25,
        "start_time": "2023-08-06T15:07:38.377Z"
      },
      {
        "duration": 7,
        "start_time": "2023-08-06T15:07:38.412Z"
      },
      {
        "duration": 22,
        "start_time": "2023-08-06T15:07:38.421Z"
      },
      {
        "duration": 73,
        "start_time": "2023-08-06T15:07:38.445Z"
      },
      {
        "duration": 16,
        "start_time": "2023-08-06T15:07:38.523Z"
      },
      {
        "duration": 5,
        "start_time": "2023-08-06T15:07:38.541Z"
      },
      {
        "duration": 16,
        "start_time": "2023-08-06T15:07:38.548Z"
      },
      {
        "duration": 10,
        "start_time": "2023-08-06T15:07:38.566Z"
      },
      {
        "duration": 16,
        "start_time": "2023-08-06T15:07:38.579Z"
      },
      {
        "duration": 20,
        "start_time": "2023-08-06T15:07:38.597Z"
      },
      {
        "duration": 7,
        "start_time": "2023-08-06T15:07:38.619Z"
      },
      {
        "duration": 7,
        "start_time": "2023-08-06T15:07:38.629Z"
      },
      {
        "duration": 11,
        "start_time": "2023-08-06T15:07:38.659Z"
      },
      {
        "duration": 27,
        "start_time": "2023-08-06T15:07:38.674Z"
      },
      {
        "duration": 3334,
        "start_time": "2023-08-06T15:07:38.703Z"
      },
      {
        "duration": 363,
        "start_time": "2023-08-06T15:07:42.039Z"
      },
      {
        "duration": 8,
        "start_time": "2023-08-06T15:08:13.076Z"
      },
      {
        "duration": 87,
        "start_time": "2023-08-06T17:00:10.155Z"
      },
      {
        "duration": 1578,
        "start_time": "2023-08-06T17:06:45.755Z"
      },
      {
        "duration": 1388,
        "start_time": "2023-08-06T17:07:55.746Z"
      },
      {
        "duration": 5,
        "start_time": "2023-08-06T17:08:24.702Z"
      },
      {
        "duration": 1232,
        "start_time": "2023-08-06T17:08:41.694Z"
      },
      {
        "duration": 1282,
        "start_time": "2023-08-06T17:09:04.118Z"
      },
      {
        "duration": 1147,
        "start_time": "2023-08-06T17:09:14.728Z"
      },
      {
        "duration": 30,
        "start_time": "2023-08-06T17:09:15.877Z"
      },
      {
        "duration": 14,
        "start_time": "2023-08-06T17:09:15.909Z"
      },
      {
        "duration": 11,
        "start_time": "2023-08-06T17:09:15.925Z"
      },
      {
        "duration": 32,
        "start_time": "2023-08-06T17:09:15.938Z"
      },
      {
        "duration": 8,
        "start_time": "2023-08-06T17:09:15.972Z"
      },
      {
        "duration": 11,
        "start_time": "2023-08-06T17:09:15.982Z"
      },
      {
        "duration": 15,
        "start_time": "2023-08-06T17:09:15.995Z"
      },
      {
        "duration": 7,
        "start_time": "2023-08-06T17:09:16.011Z"
      },
      {
        "duration": 12,
        "start_time": "2023-08-06T17:09:16.019Z"
      },
      {
        "duration": 27,
        "start_time": "2023-08-06T17:09:16.032Z"
      },
      {
        "duration": 21,
        "start_time": "2023-08-06T17:09:16.061Z"
      },
      {
        "duration": 12,
        "start_time": "2023-08-06T17:09:16.084Z"
      },
      {
        "duration": 10,
        "start_time": "2023-08-06T17:09:16.098Z"
      },
      {
        "duration": 9,
        "start_time": "2023-08-06T17:09:16.109Z"
      },
      {
        "duration": 7,
        "start_time": "2023-08-06T17:09:16.120Z"
      },
      {
        "duration": 32,
        "start_time": "2023-08-06T17:09:16.128Z"
      },
      {
        "duration": 5,
        "start_time": "2023-08-06T17:09:16.162Z"
      },
      {
        "duration": 12,
        "start_time": "2023-08-06T17:09:16.168Z"
      },
      {
        "duration": 5,
        "start_time": "2023-08-06T17:09:16.182Z"
      },
      {
        "duration": 506,
        "start_time": "2023-08-06T17:09:16.188Z"
      },
      {
        "duration": 5,
        "start_time": "2023-08-06T17:09:16.696Z"
      },
      {
        "duration": 10,
        "start_time": "2023-08-06T17:09:16.703Z"
      },
      {
        "duration": 12,
        "start_time": "2023-08-06T17:09:16.714Z"
      },
      {
        "duration": 4,
        "start_time": "2023-08-06T17:09:16.728Z"
      },
      {
        "duration": 24,
        "start_time": "2023-08-06T17:09:16.733Z"
      },
      {
        "duration": 521,
        "start_time": "2023-08-06T17:09:16.759Z"
      },
      {
        "duration": 8,
        "start_time": "2023-08-06T17:09:17.282Z"
      },
      {
        "duration": 10,
        "start_time": "2023-08-06T17:09:17.292Z"
      },
      {
        "duration": 12,
        "start_time": "2023-08-06T17:09:17.304Z"
      },
      {
        "duration": 5,
        "start_time": "2023-08-06T17:09:17.317Z"
      },
      {
        "duration": 11,
        "start_time": "2023-08-06T17:09:17.324Z"
      },
      {
        "duration": 24,
        "start_time": "2023-08-06T17:09:17.337Z"
      },
      {
        "duration": 5,
        "start_time": "2023-08-06T17:09:17.364Z"
      },
      {
        "duration": 10,
        "start_time": "2023-08-06T17:09:17.371Z"
      },
      {
        "duration": 12,
        "start_time": "2023-08-06T17:09:17.383Z"
      },
      {
        "duration": 15,
        "start_time": "2023-08-06T17:09:17.397Z"
      },
      {
        "duration": 9,
        "start_time": "2023-08-06T17:09:17.414Z"
      },
      {
        "duration": 36,
        "start_time": "2023-08-06T17:09:17.425Z"
      },
      {
        "duration": 5,
        "start_time": "2023-08-06T17:09:17.463Z"
      },
      {
        "duration": 13,
        "start_time": "2023-08-06T17:09:17.471Z"
      },
      {
        "duration": 11,
        "start_time": "2023-08-06T17:09:17.486Z"
      },
      {
        "duration": 1586,
        "start_time": "2023-08-06T17:09:17.498Z"
      },
      {
        "duration": 1,
        "start_time": "2023-08-06T17:09:19.086Z"
      },
      {
        "duration": 0,
        "start_time": "2023-08-06T17:09:19.089Z"
      },
      {
        "duration": 0,
        "start_time": "2023-08-06T17:09:19.090Z"
      },
      {
        "duration": 0,
        "start_time": "2023-08-06T17:09:19.092Z"
      },
      {
        "duration": 0,
        "start_time": "2023-08-06T17:09:19.094Z"
      },
      {
        "duration": 0,
        "start_time": "2023-08-06T17:09:19.095Z"
      },
      {
        "duration": 0,
        "start_time": "2023-08-06T17:09:19.097Z"
      },
      {
        "duration": 0,
        "start_time": "2023-08-06T17:09:19.099Z"
      },
      {
        "duration": 0,
        "start_time": "2023-08-06T17:09:19.101Z"
      },
      {
        "duration": 0,
        "start_time": "2023-08-06T17:09:19.103Z"
      },
      {
        "duration": 0,
        "start_time": "2023-08-06T17:09:19.104Z"
      },
      {
        "duration": 0,
        "start_time": "2023-08-06T17:09:19.106Z"
      },
      {
        "duration": 0,
        "start_time": "2023-08-06T17:09:19.108Z"
      },
      {
        "duration": 0,
        "start_time": "2023-08-06T17:09:19.109Z"
      },
      {
        "duration": 0,
        "start_time": "2023-08-06T17:09:19.111Z"
      },
      {
        "duration": 0,
        "start_time": "2023-08-06T17:09:19.113Z"
      },
      {
        "duration": 0,
        "start_time": "2023-08-06T17:09:19.114Z"
      },
      {
        "duration": 0,
        "start_time": "2023-08-06T17:09:19.115Z"
      },
      {
        "duration": 0,
        "start_time": "2023-08-06T17:09:19.117Z"
      },
      {
        "duration": 0,
        "start_time": "2023-08-06T17:09:19.118Z"
      },
      {
        "duration": 0,
        "start_time": "2023-08-06T17:09:19.120Z"
      },
      {
        "duration": 0,
        "start_time": "2023-08-06T17:09:19.157Z"
      },
      {
        "duration": 0,
        "start_time": "2023-08-06T17:09:19.159Z"
      },
      {
        "duration": 5,
        "start_time": "2023-08-06T17:10:32.040Z"
      },
      {
        "duration": 14,
        "start_time": "2023-08-06T17:10:37.140Z"
      },
      {
        "duration": 13,
        "start_time": "2023-08-06T17:10:41.518Z"
      },
      {
        "duration": 427,
        "start_time": "2023-08-06T17:11:56.063Z"
      },
      {
        "duration": 6,
        "start_time": "2023-08-06T17:12:02.445Z"
      },
      {
        "duration": 10,
        "start_time": "2023-08-06T17:12:09.823Z"
      },
      {
        "duration": 9,
        "start_time": "2023-08-06T17:12:31.302Z"
      },
      {
        "duration": 323,
        "start_time": "2023-08-06T17:12:50.635Z"
      },
      {
        "duration": 8,
        "start_time": "2023-08-06T17:13:26.381Z"
      },
      {
        "duration": 10,
        "start_time": "2023-08-06T17:14:01.009Z"
      },
      {
        "duration": 5,
        "start_time": "2023-08-06T17:16:24.443Z"
      },
      {
        "duration": 6,
        "start_time": "2023-08-06T17:16:52.223Z"
      },
      {
        "duration": 6,
        "start_time": "2023-08-06T17:18:30.042Z"
      },
      {
        "duration": 5,
        "start_time": "2023-08-06T17:18:33.775Z"
      },
      {
        "duration": 14,
        "start_time": "2023-08-06T17:26:03.646Z"
      },
      {
        "duration": 13,
        "start_time": "2023-08-06T17:26:06.470Z"
      },
      {
        "duration": 23,
        "start_time": "2023-08-06T17:26:06.946Z"
      },
      {
        "duration": 12,
        "start_time": "2023-08-06T17:26:07.313Z"
      },
      {
        "duration": 3,
        "start_time": "2023-08-06T17:26:07.513Z"
      },
      {
        "duration": 5,
        "start_time": "2023-08-06T17:26:07.719Z"
      },
      {
        "duration": 14,
        "start_time": "2023-08-06T17:26:07.934Z"
      },
      {
        "duration": 21,
        "start_time": "2023-08-06T17:26:08.156Z"
      },
      {
        "duration": 12,
        "start_time": "2023-08-06T17:26:08.422Z"
      },
      {
        "duration": 3,
        "start_time": "2023-08-06T17:26:08.964Z"
      },
      {
        "duration": 10,
        "start_time": "2023-08-06T17:26:09.441Z"
      },
      {
        "duration": 5,
        "start_time": "2023-08-06T17:26:09.917Z"
      },
      {
        "duration": 11,
        "start_time": "2023-08-06T17:26:10.933Z"
      },
      {
        "duration": 83,
        "start_time": "2023-08-06T17:29:17.487Z"
      },
      {
        "duration": 24,
        "start_time": "2023-08-06T17:36:53.438Z"
      },
      {
        "duration": 11,
        "start_time": "2023-08-06T17:36:53.893Z"
      },
      {
        "duration": 5,
        "start_time": "2023-08-06T17:37:06.561Z"
      },
      {
        "duration": 11,
        "start_time": "2023-08-06T17:37:07.681Z"
      },
      {
        "duration": 8,
        "start_time": "2023-08-06T17:37:12.788Z"
      },
      {
        "duration": 11,
        "start_time": "2023-08-06T17:37:15.168Z"
      },
      {
        "duration": 80,
        "start_time": "2023-08-06T17:43:14.638Z"
      },
      {
        "duration": 25,
        "start_time": "2023-08-06T17:44:32.362Z"
      },
      {
        "duration": 22,
        "start_time": "2023-08-06T17:45:09.783Z"
      },
      {
        "duration": 12,
        "start_time": "2023-08-06T17:45:10.447Z"
      },
      {
        "duration": 1145,
        "start_time": "2023-08-06T17:45:21.513Z"
      },
      {
        "duration": 30,
        "start_time": "2023-08-06T17:45:22.660Z"
      },
      {
        "duration": 12,
        "start_time": "2023-08-06T17:45:22.692Z"
      },
      {
        "duration": 12,
        "start_time": "2023-08-06T17:45:22.707Z"
      },
      {
        "duration": 29,
        "start_time": "2023-08-06T17:45:22.720Z"
      },
      {
        "duration": 9,
        "start_time": "2023-08-06T17:45:22.750Z"
      },
      {
        "duration": 17,
        "start_time": "2023-08-06T17:45:22.760Z"
      },
      {
        "duration": 17,
        "start_time": "2023-08-06T17:45:22.779Z"
      },
      {
        "duration": 7,
        "start_time": "2023-08-06T17:45:22.798Z"
      },
      {
        "duration": 11,
        "start_time": "2023-08-06T17:45:22.807Z"
      },
      {
        "duration": 9,
        "start_time": "2023-08-06T17:45:22.819Z"
      },
      {
        "duration": 5,
        "start_time": "2023-08-06T17:45:22.829Z"
      },
      {
        "duration": 30,
        "start_time": "2023-08-06T17:45:22.835Z"
      },
      {
        "duration": 14,
        "start_time": "2023-08-06T17:45:22.867Z"
      },
      {
        "duration": 8,
        "start_time": "2023-08-06T17:45:22.883Z"
      },
      {
        "duration": 8,
        "start_time": "2023-08-06T17:45:22.893Z"
      },
      {
        "duration": 27,
        "start_time": "2023-08-06T17:45:22.902Z"
      },
      {
        "duration": 13,
        "start_time": "2023-08-06T17:45:22.931Z"
      },
      {
        "duration": 5,
        "start_time": "2023-08-06T17:45:22.957Z"
      },
      {
        "duration": 5,
        "start_time": "2023-08-06T17:45:22.964Z"
      },
      {
        "duration": 507,
        "start_time": "2023-08-06T17:45:22.971Z"
      },
      {
        "duration": 5,
        "start_time": "2023-08-06T17:45:23.480Z"
      },
      {
        "duration": 6,
        "start_time": "2023-08-06T17:45:23.487Z"
      },
      {
        "duration": 8,
        "start_time": "2023-08-06T17:45:23.494Z"
      },
      {
        "duration": 5,
        "start_time": "2023-08-06T17:45:23.504Z"
      },
      {
        "duration": 6,
        "start_time": "2023-08-06T17:45:23.510Z"
      },
      {
        "duration": 610,
        "start_time": "2023-08-06T17:45:23.517Z"
      },
      {
        "duration": 9,
        "start_time": "2023-08-06T17:45:24.132Z"
      },
      {
        "duration": 16,
        "start_time": "2023-08-06T17:45:24.143Z"
      },
      {
        "duration": 28,
        "start_time": "2023-08-06T17:45:24.161Z"
      },
      {
        "duration": 9,
        "start_time": "2023-08-06T17:45:24.191Z"
      },
      {
        "duration": 9,
        "start_time": "2023-08-06T17:45:24.201Z"
      },
      {
        "duration": 5,
        "start_time": "2023-08-06T17:45:24.212Z"
      },
      {
        "duration": 7,
        "start_time": "2023-08-06T17:45:24.219Z"
      },
      {
        "duration": 29,
        "start_time": "2023-08-06T17:45:24.227Z"
      },
      {
        "duration": 14,
        "start_time": "2023-08-06T17:45:24.259Z"
      },
      {
        "duration": 8,
        "start_time": "2023-08-06T17:45:24.274Z"
      },
      {
        "duration": 15,
        "start_time": "2023-08-06T17:45:24.284Z"
      },
      {
        "duration": 8,
        "start_time": "2023-08-06T17:45:24.300Z"
      },
      {
        "duration": 9,
        "start_time": "2023-08-06T17:45:24.356Z"
      },
      {
        "duration": 17,
        "start_time": "2023-08-06T17:45:24.367Z"
      },
      {
        "duration": 16,
        "start_time": "2023-08-06T17:45:24.386Z"
      },
      {
        "duration": 416,
        "start_time": "2023-08-06T17:45:24.404Z"
      },
      {
        "duration": 4,
        "start_time": "2023-08-06T17:45:24.822Z"
      },
      {
        "duration": 32,
        "start_time": "2023-08-06T17:45:24.828Z"
      },
      {
        "duration": 9,
        "start_time": "2023-08-06T17:45:24.862Z"
      },
      {
        "duration": 6,
        "start_time": "2023-08-06T17:45:24.873Z"
      },
      {
        "duration": 6,
        "start_time": "2023-08-06T17:45:24.881Z"
      },
      {
        "duration": 489,
        "start_time": "2023-08-06T17:45:24.889Z"
      },
      {
        "duration": 9,
        "start_time": "2023-08-06T17:45:25.380Z"
      },
      {
        "duration": 9,
        "start_time": "2023-08-06T17:45:25.390Z"
      },
      {
        "duration": 13,
        "start_time": "2023-08-06T17:45:25.402Z"
      },
      {
        "duration": 5,
        "start_time": "2023-08-06T17:45:25.417Z"
      },
      {
        "duration": 51,
        "start_time": "2023-08-06T17:45:25.424Z"
      },
      {
        "duration": 23,
        "start_time": "2023-08-06T17:45:25.477Z"
      },
      {
        "duration": 12,
        "start_time": "2023-08-06T17:45:25.502Z"
      },
      {
        "duration": 11,
        "start_time": "2023-08-06T17:45:25.516Z"
      },
      {
        "duration": 1402,
        "start_time": "2023-08-06T17:45:25.529Z"
      },
      {
        "duration": 0,
        "start_time": "2023-08-06T17:45:26.933Z"
      },
      {
        "duration": 0,
        "start_time": "2023-08-06T17:45:26.934Z"
      },
      {
        "duration": 0,
        "start_time": "2023-08-06T17:45:26.936Z"
      },
      {
        "duration": 0,
        "start_time": "2023-08-06T17:45:26.937Z"
      },
      {
        "duration": 0,
        "start_time": "2023-08-06T17:45:26.938Z"
      },
      {
        "duration": 0,
        "start_time": "2023-08-06T17:45:26.939Z"
      },
      {
        "duration": 0,
        "start_time": "2023-08-06T17:45:26.940Z"
      },
      {
        "duration": 0,
        "start_time": "2023-08-06T17:45:26.941Z"
      },
      {
        "duration": 0,
        "start_time": "2023-08-06T17:45:26.942Z"
      },
      {
        "duration": 0,
        "start_time": "2023-08-06T17:45:26.943Z"
      },
      {
        "duration": 0,
        "start_time": "2023-08-06T17:45:26.944Z"
      },
      {
        "duration": 0,
        "start_time": "2023-08-06T17:45:26.945Z"
      },
      {
        "duration": 0,
        "start_time": "2023-08-06T17:45:26.946Z"
      },
      {
        "duration": 0,
        "start_time": "2023-08-06T17:45:26.947Z"
      },
      {
        "duration": 13,
        "start_time": "2023-08-06T17:53:56.055Z"
      },
      {
        "duration": 23,
        "start_time": "2023-08-06T17:54:00.463Z"
      },
      {
        "duration": 3,
        "start_time": "2023-08-06T17:54:15.874Z"
      },
      {
        "duration": 1318,
        "start_time": "2023-08-06T17:54:26.307Z"
      },
      {
        "duration": 3,
        "start_time": "2023-08-06T17:54:58.156Z"
      },
      {
        "duration": 29,
        "start_time": "2023-08-06T17:54:58.484Z"
      },
      {
        "duration": 9,
        "start_time": "2023-08-06T17:54:58.672Z"
      },
      {
        "duration": 14,
        "start_time": "2023-08-06T17:54:58.840Z"
      },
      {
        "duration": 34,
        "start_time": "2023-08-06T17:54:59.193Z"
      },
      {
        "duration": 12,
        "start_time": "2023-08-06T17:54:59.332Z"
      },
      {
        "duration": 16,
        "start_time": "2023-08-06T17:54:59.515Z"
      },
      {
        "duration": 29,
        "start_time": "2023-08-06T17:54:59.678Z"
      },
      {
        "duration": 12,
        "start_time": "2023-08-06T17:54:59.858Z"
      },
      {
        "duration": 12,
        "start_time": "2023-08-06T17:55:00.010Z"
      },
      {
        "duration": 8,
        "start_time": "2023-08-06T17:55:00.562Z"
      },
      {
        "duration": 7,
        "start_time": "2023-08-06T17:55:00.756Z"
      },
      {
        "duration": 12,
        "start_time": "2023-08-06T17:55:00.942Z"
      },
      {
        "duration": 13,
        "start_time": "2023-08-06T17:55:01.120Z"
      },
      {
        "duration": 11,
        "start_time": "2023-08-06T17:55:01.304Z"
      },
      {
        "duration": 9,
        "start_time": "2023-08-06T17:55:01.474Z"
      },
      {
        "duration": 10,
        "start_time": "2023-08-06T17:55:01.636Z"
      },
      {
        "duration": 6,
        "start_time": "2023-08-06T17:55:01.829Z"
      },
      {
        "duration": 6,
        "start_time": "2023-08-06T17:55:02.000Z"
      },
      {
        "duration": 4,
        "start_time": "2023-08-06T17:55:02.692Z"
      },
      {
        "duration": 503,
        "start_time": "2023-08-06T17:55:02.938Z"
      },
      {
        "duration": 14,
        "start_time": "2023-08-06T17:55:03.445Z"
      },
      {
        "duration": 10,
        "start_time": "2023-08-06T17:55:03.461Z"
      },
      {
        "duration": 9,
        "start_time": "2023-08-06T17:55:03.781Z"
      },
      {
        "duration": 5,
        "start_time": "2023-08-06T17:55:04.148Z"
      },
      {
        "duration": 4,
        "start_time": "2023-08-06T17:55:04.597Z"
      },
      {
        "duration": 555,
        "start_time": "2023-08-06T17:55:05.052Z"
      },
      {
        "duration": 9,
        "start_time": "2023-08-06T17:55:05.609Z"
      },
      {
        "duration": 5,
        "start_time": "2023-08-06T17:55:05.760Z"
      },
      {
        "duration": 8,
        "start_time": "2023-08-06T17:55:06.000Z"
      },
      {
        "duration": 6,
        "start_time": "2023-08-06T17:55:06.210Z"
      },
      {
        "duration": 5,
        "start_time": "2023-08-06T17:55:07.170Z"
      },
      {
        "duration": 7,
        "start_time": "2023-08-06T17:55:07.353Z"
      },
      {
        "duration": 4,
        "start_time": "2023-08-06T17:55:07.856Z"
      },
      {
        "duration": 11,
        "start_time": "2023-08-06T17:55:08.350Z"
      },
      {
        "duration": 14,
        "start_time": "2023-08-06T17:55:08.860Z"
      },
      {
        "duration": 9,
        "start_time": "2023-08-06T17:55:09.238Z"
      },
      {
        "duration": 10,
        "start_time": "2023-08-06T17:55:17.373Z"
      },
      {
        "duration": 8,
        "start_time": "2023-08-06T17:55:18.347Z"
      },
      {
        "duration": 4,
        "start_time": "2023-08-06T17:55:19.113Z"
      },
      {
        "duration": 15,
        "start_time": "2023-08-06T17:55:20.119Z"
      },
      {
        "duration": 13,
        "start_time": "2023-08-06T17:55:20.913Z"
      },
      {
        "duration": 349,
        "start_time": "2023-08-06T17:55:21.771Z"
      },
      {
        "duration": 4,
        "start_time": "2023-08-06T17:55:22.819Z"
      },
      {
        "duration": 11,
        "start_time": "2023-08-06T17:55:23.795Z"
      },
      {
        "duration": 9,
        "start_time": "2023-08-06T17:55:24.529Z"
      },
      {
        "duration": 6,
        "start_time": "2023-08-06T17:55:25.065Z"
      },
      {
        "duration": 6,
        "start_time": "2023-08-06T17:55:25.658Z"
      },
      {
        "duration": 434,
        "start_time": "2023-08-06T17:55:26.264Z"
      },
      {
        "duration": 8,
        "start_time": "2023-08-06T17:55:26.801Z"
      },
      {
        "duration": 6,
        "start_time": "2023-08-06T17:55:27.360Z"
      },
      {
        "duration": 9,
        "start_time": "2023-08-06T17:55:27.884Z"
      },
      {
        "duration": 5,
        "start_time": "2023-08-06T17:55:28.461Z"
      },
      {
        "duration": 15,
        "start_time": "2023-08-06T17:55:31.156Z"
      },
      {
        "duration": 25,
        "start_time": "2023-08-06T17:55:35.519Z"
      },
      {
        "duration": 11,
        "start_time": "2023-08-06T17:55:36.044Z"
      },
      {
        "duration": 4,
        "start_time": "2023-08-06T17:55:40.020Z"
      },
      {
        "duration": 1346,
        "start_time": "2023-08-06T17:55:42.468Z"
      },
      {
        "duration": 1288,
        "start_time": "2023-08-06T17:55:58.360Z"
      },
      {
        "duration": 7,
        "start_time": "2023-08-06T17:56:50.663Z"
      },
      {
        "duration": 11,
        "start_time": "2023-08-06T17:57:01.330Z"
      },
      {
        "duration": 19,
        "start_time": "2023-08-06T17:59:11.993Z"
      },
      {
        "duration": 13,
        "start_time": "2023-08-06T17:59:12.400Z"
      },
      {
        "duration": 3,
        "start_time": "2023-08-06T17:59:27.012Z"
      },
      {
        "duration": 3,
        "start_time": "2023-08-06T18:00:05.268Z"
      },
      {
        "duration": 29,
        "start_time": "2023-08-06T18:00:06.162Z"
      },
      {
        "duration": 9,
        "start_time": "2023-08-06T18:00:06.417Z"
      },
      {
        "duration": 13,
        "start_time": "2023-08-06T18:00:06.602Z"
      },
      {
        "duration": 35,
        "start_time": "2023-08-06T18:00:06.882Z"
      },
      {
        "duration": 9,
        "start_time": "2023-08-06T18:00:07.123Z"
      },
      {
        "duration": 18,
        "start_time": "2023-08-06T18:00:07.335Z"
      },
      {
        "duration": 30,
        "start_time": "2023-08-06T18:00:07.542Z"
      },
      {
        "duration": 10,
        "start_time": "2023-08-06T18:00:07.774Z"
      },
      {
        "duration": 17,
        "start_time": "2023-08-06T18:00:08.000Z"
      },
      {
        "duration": 8,
        "start_time": "2023-08-06T18:00:08.788Z"
      },
      {
        "duration": 6,
        "start_time": "2023-08-06T18:00:09.043Z"
      },
      {
        "duration": 9,
        "start_time": "2023-08-06T18:00:09.323Z"
      },
      {
        "duration": 12,
        "start_time": "2023-08-06T18:00:09.564Z"
      },
      {
        "duration": 12,
        "start_time": "2023-08-06T18:00:09.820Z"
      },
      {
        "duration": 9,
        "start_time": "2023-08-06T18:00:10.111Z"
      },
      {
        "duration": 12,
        "start_time": "2023-08-06T18:00:10.356Z"
      },
      {
        "duration": 7,
        "start_time": "2023-08-06T18:00:10.624Z"
      },
      {
        "duration": 8,
        "start_time": "2023-08-06T18:00:11.179Z"
      },
      {
        "duration": 5,
        "start_time": "2023-08-06T18:00:12.053Z"
      },
      {
        "duration": 478,
        "start_time": "2023-08-06T18:00:12.324Z"
      },
      {
        "duration": 6,
        "start_time": "2023-08-06T18:00:12.833Z"
      },
      {
        "duration": 5,
        "start_time": "2023-08-06T18:00:13.396Z"
      },
      {
        "duration": 9,
        "start_time": "2023-08-06T18:00:13.879Z"
      },
      {
        "duration": 6,
        "start_time": "2023-08-06T18:00:14.437Z"
      },
      {
        "duration": 4,
        "start_time": "2023-08-06T18:00:14.956Z"
      },
      {
        "duration": 578,
        "start_time": "2023-08-06T18:00:15.602Z"
      },
      {
        "duration": 12,
        "start_time": "2023-08-06T18:00:16.206Z"
      },
      {
        "duration": 7,
        "start_time": "2023-08-06T18:00:16.668Z"
      },
      {
        "duration": 11,
        "start_time": "2023-08-06T18:00:16.902Z"
      },
      {
        "duration": 6,
        "start_time": "2023-08-06T18:00:17.090Z"
      },
      {
        "duration": 5,
        "start_time": "2023-08-06T18:00:18.278Z"
      },
      {
        "duration": 5,
        "start_time": "2023-08-06T18:00:18.738Z"
      },
      {
        "duration": 6,
        "start_time": "2023-08-06T18:00:19.362Z"
      },
      {
        "duration": 14,
        "start_time": "2023-08-06T18:00:19.900Z"
      },
      {
        "duration": 12,
        "start_time": "2023-08-06T18:00:20.817Z"
      },
      {
        "duration": 12,
        "start_time": "2023-08-06T18:00:21.380Z"
      },
      {
        "duration": 15,
        "start_time": "2023-08-06T18:00:22.350Z"
      },
      {
        "duration": 9,
        "start_time": "2023-08-06T18:00:22.974Z"
      },
      {
        "duration": 5,
        "start_time": "2023-08-06T18:00:23.596Z"
      },
      {
        "duration": 37,
        "start_time": "2023-08-06T18:06:31.586Z"
      },
      {
        "duration": 9,
        "start_time": "2023-08-06T18:06:35.873Z"
      },
      {
        "duration": 14,
        "start_time": "2023-08-06T18:06:40.438Z"
      },
      {
        "duration": 5,
        "start_time": "2023-08-06T18:06:51.629Z"
      },
      {
        "duration": 32,
        "start_time": "2023-08-06T18:06:52.206Z"
      },
      {
        "duration": 13,
        "start_time": "2023-08-06T18:06:52.392Z"
      },
      {
        "duration": 12,
        "start_time": "2023-08-06T18:06:52.539Z"
      },
      {
        "duration": 28,
        "start_time": "2023-08-06T18:06:52.723Z"
      },
      {
        "duration": 13,
        "start_time": "2023-08-06T18:06:52.880Z"
      },
      {
        "duration": 13,
        "start_time": "2023-08-06T18:06:53.070Z"
      },
      {
        "duration": 29,
        "start_time": "2023-08-06T18:06:53.272Z"
      },
      {
        "duration": 12,
        "start_time": "2023-08-06T18:06:53.790Z"
      },
      {
        "duration": 14,
        "start_time": "2023-08-06T18:06:55.472Z"
      },
      {
        "duration": 9,
        "start_time": "2023-08-06T18:06:57.210Z"
      },
      {
        "duration": 7,
        "start_time": "2023-08-06T18:06:57.467Z"
      },
      {
        "duration": 14,
        "start_time": "2023-08-06T18:06:57.716Z"
      },
      {
        "duration": 16,
        "start_time": "2023-08-06T18:06:57.967Z"
      },
      {
        "duration": 11,
        "start_time": "2023-08-06T18:06:58.180Z"
      },
      {
        "duration": 11,
        "start_time": "2023-08-06T18:06:58.430Z"
      },
      {
        "duration": 12,
        "start_time": "2023-08-06T18:06:58.714Z"
      },
      {
        "duration": 9,
        "start_time": "2023-08-06T18:06:59.117Z"
      },
      {
        "duration": 12,
        "start_time": "2023-08-06T18:06:59.410Z"
      },
      {
        "duration": 6,
        "start_time": "2023-08-06T18:07:00.167Z"
      },
      {
        "duration": 497,
        "start_time": "2023-08-06T18:07:00.424Z"
      },
      {
        "duration": 7,
        "start_time": "2023-08-06T18:07:00.924Z"
      },
      {
        "duration": 6,
        "start_time": "2023-08-06T18:07:01.535Z"
      },
      {
        "duration": 11,
        "start_time": "2023-08-06T18:07:02.243Z"
      },
      {
        "duration": 7,
        "start_time": "2023-08-06T18:07:02.706Z"
      },
      {
        "duration": 6,
        "start_time": "2023-08-06T18:07:03.207Z"
      },
      {
        "duration": 718,
        "start_time": "2023-08-06T18:07:03.710Z"
      },
      {
        "duration": 26,
        "start_time": "2023-08-06T18:07:04.432Z"
      },
      {
        "duration": 7,
        "start_time": "2023-08-06T18:07:04.691Z"
      },
      {
        "duration": 13,
        "start_time": "2023-08-06T18:07:05.278Z"
      },
      {
        "duration": 6,
        "start_time": "2023-08-06T18:07:05.835Z"
      },
      {
        "duration": 6,
        "start_time": "2023-08-06T18:07:07.409Z"
      },
      {
        "duration": 5,
        "start_time": "2023-08-06T18:07:07.968Z"
      },
      {
        "duration": 6,
        "start_time": "2023-08-06T18:07:08.478Z"
      },
      {
        "duration": 13,
        "start_time": "2023-08-06T18:07:08.981Z"
      },
      {
        "duration": 11,
        "start_time": "2023-08-06T18:07:09.475Z"
      },
      {
        "duration": 11,
        "start_time": "2023-08-06T18:07:09.970Z"
      },
      {
        "duration": 10,
        "start_time": "2023-08-06T18:07:10.499Z"
      },
      {
        "duration": 8,
        "start_time": "2023-08-06T18:07:11.070Z"
      },
      {
        "duration": 6,
        "start_time": "2023-08-06T18:07:11.510Z"
      },
      {
        "duration": 20,
        "start_time": "2023-08-06T18:07:11.970Z"
      },
      {
        "duration": 17,
        "start_time": "2023-08-06T18:07:12.412Z"
      },
      {
        "duration": 433,
        "start_time": "2023-08-06T18:07:13.135Z"
      },
      {
        "duration": 7,
        "start_time": "2023-08-06T18:07:14.107Z"
      },
      {
        "duration": 10,
        "start_time": "2023-08-06T18:07:14.812Z"
      },
      {
        "duration": 12,
        "start_time": "2023-08-06T18:07:15.375Z"
      },
      {
        "duration": 8,
        "start_time": "2023-08-06T18:07:15.943Z"
      },
      {
        "duration": 5,
        "start_time": "2023-08-06T18:07:16.605Z"
      },
      {
        "duration": 369,
        "start_time": "2023-08-06T18:07:17.275Z"
      },
      {
        "duration": 12,
        "start_time": "2023-08-06T18:07:17.920Z"
      },
      {
        "duration": 7,
        "start_time": "2023-08-06T18:07:18.621Z"
      },
      {
        "duration": 13,
        "start_time": "2023-08-06T18:07:19.230Z"
      },
      {
        "duration": 7,
        "start_time": "2023-08-06T18:07:19.880Z"
      },
      {
        "duration": 38,
        "start_time": "2023-08-06T18:08:07.496Z"
      },
      {
        "duration": 7,
        "start_time": "2023-08-06T18:08:20.066Z"
      },
      {
        "duration": 25,
        "start_time": "2023-08-06T18:08:29.734Z"
      },
      {
        "duration": 14,
        "start_time": "2023-08-06T18:08:33.332Z"
      },
      {
        "duration": 4,
        "start_time": "2023-08-06T18:08:48.176Z"
      },
      {
        "duration": 16,
        "start_time": "2023-08-06T18:08:50.196Z"
      },
      {
        "duration": 27,
        "start_time": "2023-08-06T18:16:52.729Z"
      },
      {
        "duration": 22,
        "start_time": "2023-08-06T18:16:56.390Z"
      },
      {
        "duration": 5,
        "start_time": "2023-08-06T18:17:05.719Z"
      },
      {
        "duration": 19,
        "start_time": "2023-08-06T18:17:08.482Z"
      },
      {
        "duration": 7,
        "start_time": "2023-08-06T18:17:36.263Z"
      },
      {
        "duration": 16,
        "start_time": "2023-08-06T18:17:37.198Z"
      },
      {
        "duration": 229,
        "start_time": "2023-08-06T18:25:05.232Z"
      },
      {
        "duration": 502,
        "start_time": "2023-08-06T18:29:15.310Z"
      },
      {
        "duration": 505,
        "start_time": "2023-08-06T18:30:39.374Z"
      },
      {
        "duration": 6,
        "start_time": "2023-08-06T18:32:50.533Z"
      },
      {
        "duration": 25,
        "start_time": "2023-08-06T18:35:41.018Z"
      },
      {
        "duration": 857,
        "start_time": "2023-08-06T18:37:37.432Z"
      },
      {
        "duration": 395,
        "start_time": "2023-08-06T18:39:57.105Z"
      },
      {
        "duration": 361,
        "start_time": "2023-08-06T18:42:19.866Z"
      },
      {
        "duration": 16,
        "start_time": "2023-08-06T18:44:51.493Z"
      },
      {
        "duration": 15,
        "start_time": "2023-08-06T18:45:17.587Z"
      },
      {
        "duration": 12,
        "start_time": "2023-08-06T18:45:37.285Z"
      },
      {
        "duration": 5,
        "start_time": "2023-08-06T18:45:48.602Z"
      },
      {
        "duration": 22,
        "start_time": "2023-08-06T18:46:11.558Z"
      },
      {
        "duration": 6,
        "start_time": "2023-08-06T18:46:11.980Z"
      },
      {
        "duration": 25,
        "start_time": "2023-08-06T18:46:12.575Z"
      },
      {
        "duration": 4,
        "start_time": "2023-08-06T18:46:20.789Z"
      },
      {
        "duration": 11,
        "start_time": "2023-08-06T18:46:21.511Z"
      },
      {
        "duration": 5,
        "start_time": "2023-08-06T18:46:27.166Z"
      },
      {
        "duration": 390,
        "start_time": "2023-08-06T18:46:28.083Z"
      },
      {
        "duration": 15,
        "start_time": "2023-08-06T18:46:28.785Z"
      },
      {
        "duration": 350,
        "start_time": "2023-08-06T18:46:29.566Z"
      },
      {
        "duration": 6,
        "start_time": "2023-08-06T18:46:37.263Z"
      },
      {
        "duration": 13,
        "start_time": "2023-08-06T18:46:37.865Z"
      },
      {
        "duration": 505,
        "start_time": "2023-08-06T18:46:41.366Z"
      },
      {
        "duration": 355,
        "start_time": "2023-08-06T18:47:23.439Z"
      },
      {
        "duration": 7,
        "start_time": "2023-08-06T18:56:25.278Z"
      },
      {
        "duration": 6,
        "start_time": "2023-08-06T18:56:26.068Z"
      },
      {
        "duration": 5,
        "start_time": "2023-08-06T18:56:33.661Z"
      },
      {
        "duration": 8,
        "start_time": "2023-08-06T18:58:14.188Z"
      },
      {
        "duration": 14,
        "start_time": "2023-08-06T19:01:06.631Z"
      },
      {
        "duration": 2,
        "start_time": "2023-08-06T19:01:29.868Z"
      },
      {
        "duration": 589,
        "start_time": "2023-08-06T19:02:15.990Z"
      },
      {
        "duration": 1180,
        "start_time": "2023-08-06T19:02:35.961Z"
      },
      {
        "duration": 30,
        "start_time": "2023-08-06T19:02:37.143Z"
      },
      {
        "duration": 12,
        "start_time": "2023-08-06T19:02:37.175Z"
      },
      {
        "duration": 25,
        "start_time": "2023-08-06T19:02:37.189Z"
      },
      {
        "duration": 35,
        "start_time": "2023-08-06T19:02:37.215Z"
      },
      {
        "duration": 10,
        "start_time": "2023-08-06T19:02:37.252Z"
      },
      {
        "duration": 24,
        "start_time": "2023-08-06T19:02:37.264Z"
      },
      {
        "duration": 16,
        "start_time": "2023-08-06T19:02:37.290Z"
      },
      {
        "duration": 7,
        "start_time": "2023-08-06T19:02:37.307Z"
      },
      {
        "duration": 16,
        "start_time": "2023-08-06T19:02:37.317Z"
      },
      {
        "duration": 7,
        "start_time": "2023-08-06T19:02:37.335Z"
      },
      {
        "duration": 15,
        "start_time": "2023-08-06T19:02:37.344Z"
      },
      {
        "duration": 9,
        "start_time": "2023-08-06T19:02:37.360Z"
      },
      {
        "duration": 9,
        "start_time": "2023-08-06T19:02:37.371Z"
      },
      {
        "duration": 11,
        "start_time": "2023-08-06T19:02:37.382Z"
      },
      {
        "duration": 7,
        "start_time": "2023-08-06T19:02:37.395Z"
      },
      {
        "duration": 22,
        "start_time": "2023-08-06T19:02:37.405Z"
      },
      {
        "duration": 27,
        "start_time": "2023-08-06T19:02:37.429Z"
      },
      {
        "duration": 5,
        "start_time": "2023-08-06T19:02:37.458Z"
      },
      {
        "duration": 10,
        "start_time": "2023-08-06T19:02:37.464Z"
      },
      {
        "duration": 468,
        "start_time": "2023-08-06T19:02:37.476Z"
      },
      {
        "duration": 5,
        "start_time": "2023-08-06T19:02:37.946Z"
      },
      {
        "duration": 10,
        "start_time": "2023-08-06T19:02:37.957Z"
      },
      {
        "duration": 14,
        "start_time": "2023-08-06T19:02:37.969Z"
      },
      {
        "duration": 7,
        "start_time": "2023-08-06T19:02:37.985Z"
      },
      {
        "duration": 13,
        "start_time": "2023-08-06T19:02:37.993Z"
      },
      {
        "duration": 543,
        "start_time": "2023-08-06T19:02:38.008Z"
      },
      {
        "duration": 10,
        "start_time": "2023-08-06T19:02:38.558Z"
      },
      {
        "duration": 5,
        "start_time": "2023-08-06T19:02:38.569Z"
      },
      {
        "duration": 9,
        "start_time": "2023-08-06T19:02:38.575Z"
      },
      {
        "duration": 5,
        "start_time": "2023-08-06T19:02:38.585Z"
      },
      {
        "duration": 11,
        "start_time": "2023-08-06T19:02:38.591Z"
      },
      {
        "duration": 6,
        "start_time": "2023-08-06T19:02:38.603Z"
      },
      {
        "duration": 5,
        "start_time": "2023-08-06T19:02:38.610Z"
      },
      {
        "duration": 43,
        "start_time": "2023-08-06T19:02:38.617Z"
      },
      {
        "duration": 16,
        "start_time": "2023-08-06T19:02:38.662Z"
      },
      {
        "duration": 13,
        "start_time": "2023-08-06T19:02:38.679Z"
      },
      {
        "duration": 17,
        "start_time": "2023-08-06T19:02:38.694Z"
      },
      {
        "duration": 6,
        "start_time": "2023-08-06T19:02:38.712Z"
      },
      {
        "duration": 7,
        "start_time": "2023-08-06T19:02:38.719Z"
      },
      {
        "duration": 15,
        "start_time": "2023-08-06T19:02:38.727Z"
      },
      {
        "duration": 12,
        "start_time": "2023-08-06T19:02:38.756Z"
      },
      {
        "duration": 455,
        "start_time": "2023-08-06T19:02:38.770Z"
      },
      {
        "duration": 5,
        "start_time": "2023-08-06T19:02:39.227Z"
      },
      {
        "duration": 23,
        "start_time": "2023-08-06T19:02:39.235Z"
      },
      {
        "duration": 10,
        "start_time": "2023-08-06T19:02:39.260Z"
      },
      {
        "duration": 5,
        "start_time": "2023-08-06T19:02:39.272Z"
      },
      {
        "duration": 5,
        "start_time": "2023-08-06T19:02:39.278Z"
      },
      {
        "duration": 427,
        "start_time": "2023-08-06T19:02:39.284Z"
      },
      {
        "duration": 8,
        "start_time": "2023-08-06T19:02:39.713Z"
      },
      {
        "duration": 5,
        "start_time": "2023-08-06T19:02:39.722Z"
      },
      {
        "duration": 9,
        "start_time": "2023-08-06T19:02:39.728Z"
      },
      {
        "duration": 5,
        "start_time": "2023-08-06T19:02:39.757Z"
      },
      {
        "duration": 7,
        "start_time": "2023-08-06T19:02:39.763Z"
      },
      {
        "duration": 23,
        "start_time": "2023-08-06T19:02:39.772Z"
      },
      {
        "duration": 103,
        "start_time": "2023-08-06T19:02:39.797Z"
      },
      {
        "duration": 0,
        "start_time": "2023-08-06T19:02:39.902Z"
      },
      {
        "duration": 0,
        "start_time": "2023-08-06T19:02:39.903Z"
      },
      {
        "duration": 0,
        "start_time": "2023-08-06T19:02:39.905Z"
      },
      {
        "duration": 0,
        "start_time": "2023-08-06T19:02:39.906Z"
      },
      {
        "duration": 0,
        "start_time": "2023-08-06T19:02:39.907Z"
      },
      {
        "duration": 0,
        "start_time": "2023-08-06T19:02:39.912Z"
      },
      {
        "duration": 0,
        "start_time": "2023-08-06T19:02:39.913Z"
      },
      {
        "duration": 0,
        "start_time": "2023-08-06T19:02:39.914Z"
      },
      {
        "duration": 0,
        "start_time": "2023-08-06T19:02:39.915Z"
      },
      {
        "duration": 0,
        "start_time": "2023-08-06T19:02:39.917Z"
      },
      {
        "duration": 0,
        "start_time": "2023-08-06T19:02:39.918Z"
      },
      {
        "duration": 0,
        "start_time": "2023-08-06T19:02:39.918Z"
      },
      {
        "duration": 0,
        "start_time": "2023-08-06T19:02:39.919Z"
      },
      {
        "duration": 0,
        "start_time": "2023-08-06T19:02:39.920Z"
      },
      {
        "duration": 0,
        "start_time": "2023-08-06T19:02:39.922Z"
      },
      {
        "duration": 0,
        "start_time": "2023-08-06T19:02:39.922Z"
      },
      {
        "duration": 0,
        "start_time": "2023-08-06T19:02:39.923Z"
      },
      {
        "duration": 0,
        "start_time": "2023-08-06T19:02:39.956Z"
      },
      {
        "duration": 4,
        "start_time": "2023-08-06T19:03:19.232Z"
      },
      {
        "duration": 29,
        "start_time": "2023-08-06T19:03:19.597Z"
      },
      {
        "duration": 9,
        "start_time": "2023-08-06T19:03:19.774Z"
      },
      {
        "duration": 12,
        "start_time": "2023-08-06T19:03:20.000Z"
      },
      {
        "duration": 28,
        "start_time": "2023-08-06T19:03:20.212Z"
      },
      {
        "duration": 9,
        "start_time": "2023-08-06T19:03:20.405Z"
      },
      {
        "duration": 11,
        "start_time": "2023-08-06T19:03:20.595Z"
      },
      {
        "duration": 28,
        "start_time": "2023-08-06T19:03:20.802Z"
      },
      {
        "duration": 7,
        "start_time": "2023-08-06T19:03:20.997Z"
      },
      {
        "duration": 15,
        "start_time": "2023-08-06T19:03:21.179Z"
      },
      {
        "duration": 10,
        "start_time": "2023-08-06T19:03:21.861Z"
      },
      {
        "duration": 7,
        "start_time": "2023-08-06T19:03:22.072Z"
      },
      {
        "duration": 9,
        "start_time": "2023-08-06T19:03:22.305Z"
      },
      {
        "duration": 11,
        "start_time": "2023-08-06T19:03:22.495Z"
      },
      {
        "duration": 11,
        "start_time": "2023-08-06T19:03:22.740Z"
      },
      {
        "duration": 10,
        "start_time": "2023-08-06T19:03:22.974Z"
      },
      {
        "duration": 10,
        "start_time": "2023-08-06T19:03:23.216Z"
      },
      {
        "duration": 8,
        "start_time": "2023-08-06T19:03:23.457Z"
      },
      {
        "duration": 7,
        "start_time": "2023-08-06T19:03:23.671Z"
      },
      {
        "duration": 5,
        "start_time": "2023-08-06T19:03:24.741Z"
      },
      {
        "duration": 508,
        "start_time": "2023-08-06T19:03:25.317Z"
      },
      {
        "duration": 5,
        "start_time": "2023-08-06T19:03:25.827Z"
      },
      {
        "duration": 6,
        "start_time": "2023-08-06T19:03:26.386Z"
      },
      {
        "duration": 15,
        "start_time": "2023-08-06T19:03:26.956Z"
      },
      {
        "duration": 5,
        "start_time": "2023-08-06T19:03:27.482Z"
      },
      {
        "duration": 5,
        "start_time": "2023-08-06T19:03:28.016Z"
      },
      {
        "duration": 665,
        "start_time": "2023-08-06T19:03:28.567Z"
      },
      {
        "duration": 10,
        "start_time": "2023-08-06T19:03:29.235Z"
      },
      {
        "duration": 8,
        "start_time": "2023-08-06T19:03:29.653Z"
      },
      {
        "duration": 10,
        "start_time": "2023-08-06T19:03:30.221Z"
      },
      {
        "duration": 8,
        "start_time": "2023-08-06T19:03:30.753Z"
      },
      {
        "duration": 4,
        "start_time": "2023-08-06T19:03:32.291Z"
      },
      {
        "duration": 4,
        "start_time": "2023-08-06T19:03:32.791Z"
      },
      {
        "duration": 4,
        "start_time": "2023-08-06T19:03:33.322Z"
      },
      {
        "duration": 17,
        "start_time": "2023-08-06T19:03:33.857Z"
      },
      {
        "duration": 9,
        "start_time": "2023-08-06T19:03:34.417Z"
      },
      {
        "duration": 8,
        "start_time": "2023-08-06T19:03:34.907Z"
      },
      {
        "duration": 9,
        "start_time": "2023-08-06T19:03:35.460Z"
      },
      {
        "duration": 7,
        "start_time": "2023-08-06T19:03:36.017Z"
      },
      {
        "duration": 5,
        "start_time": "2023-08-06T19:03:36.532Z"
      },
      {
        "duration": 15,
        "start_time": "2023-08-06T19:03:37.161Z"
      },
      {
        "duration": 15,
        "start_time": "2023-08-06T19:03:37.763Z"
      },
      {
        "duration": 376,
        "start_time": "2023-08-06T19:03:38.417Z"
      },
      {
        "duration": 5,
        "start_time": "2023-08-06T19:03:38.957Z"
      },
      {
        "duration": 11,
        "start_time": "2023-08-06T19:03:39.556Z"
      },
      {
        "duration": 10,
        "start_time": "2023-08-06T19:03:40.077Z"
      },
      {
        "duration": 5,
        "start_time": "2023-08-06T19:03:40.629Z"
      },
      {
        "duration": 6,
        "start_time": "2023-08-06T19:03:41.181Z"
      },
      {
        "duration": 462,
        "start_time": "2023-08-06T19:03:41.719Z"
      },
      {
        "duration": 10,
        "start_time": "2023-08-06T19:03:42.280Z"
      },
      {
        "duration": 7,
        "start_time": "2023-08-06T19:03:42.854Z"
      },
      {
        "duration": 8,
        "start_time": "2023-08-06T19:03:43.385Z"
      },
      {
        "duration": 6,
        "start_time": "2023-08-06T19:03:43.979Z"
      },
      {
        "duration": 3,
        "start_time": "2023-08-06T19:03:45.922Z"
      },
      {
        "duration": 22,
        "start_time": "2023-08-06T19:03:57.866Z"
      },
      {
        "duration": 14,
        "start_time": "2023-08-06T19:03:58.390Z"
      },
      {
        "duration": 6,
        "start_time": "2023-08-06T19:04:24.709Z"
      },
      {
        "duration": 23,
        "start_time": "2023-08-06T19:04:27.922Z"
      },
      {
        "duration": 4,
        "start_time": "2023-08-06T19:04:28.867Z"
      },
      {
        "duration": 13,
        "start_time": "2023-08-06T19:04:29.717Z"
      },
      {
        "duration": 4,
        "start_time": "2023-08-06T19:04:34.393Z"
      },
      {
        "duration": 331,
        "start_time": "2023-08-06T19:04:35.436Z"
      },
      {
        "duration": 325,
        "start_time": "2023-08-06T19:04:36.262Z"
      },
      {
        "duration": 341,
        "start_time": "2023-08-06T19:04:40.635Z"
      },
      {
        "duration": 5,
        "start_time": "2023-08-06T19:04:41.143Z"
      },
      {
        "duration": 13,
        "start_time": "2023-08-06T19:04:41.794Z"
      },
      {
        "duration": 22,
        "start_time": "2023-08-06T19:04:42.464Z"
      },
      {
        "duration": 468,
        "start_time": "2023-08-06T19:05:44.702Z"
      },
      {
        "duration": 15,
        "start_time": "2023-08-06T19:05:55.379Z"
      },
      {
        "duration": 3,
        "start_time": "2023-08-06T19:05:58.075Z"
      },
      {
        "duration": 1328,
        "start_time": "2023-08-06T19:05:58.557Z"
      },
      {
        "duration": 9,
        "start_time": "2023-08-06T19:07:07.011Z"
      },
      {
        "duration": 5,
        "start_time": "2023-08-06T19:07:07.689Z"
      },
      {
        "duration": 5,
        "start_time": "2023-08-06T19:07:11.734Z"
      },
      {
        "duration": 1323,
        "start_time": "2023-08-06T19:07:15.176Z"
      },
      {
        "duration": 13,
        "start_time": "2023-08-06T19:07:55.154Z"
      },
      {
        "duration": 989,
        "start_time": "2023-08-06T19:09:01.021Z"
      },
      {
        "duration": 5,
        "start_time": "2023-08-06T19:09:47.604Z"
      },
      {
        "duration": 1371,
        "start_time": "2023-08-06T19:11:03.158Z"
      },
      {
        "duration": 7,
        "start_time": "2023-08-06T19:11:38.476Z"
      },
      {
        "duration": 2797,
        "start_time": "2023-08-06T19:12:19.806Z"
      },
      {
        "duration": 309,
        "start_time": "2023-08-06T19:12:31.540Z"
      },
      {
        "duration": 86,
        "start_time": "2023-08-06T19:12:59.903Z"
      },
      {
        "duration": 76,
        "start_time": "2023-08-06T19:19:09.710Z"
      },
      {
        "duration": 1151,
        "start_time": "2023-08-06T19:50:17.540Z"
      },
      {
        "duration": 30,
        "start_time": "2023-08-06T19:50:18.693Z"
      },
      {
        "duration": 13,
        "start_time": "2023-08-06T19:50:18.725Z"
      },
      {
        "duration": 13,
        "start_time": "2023-08-06T19:50:18.739Z"
      },
      {
        "duration": 27,
        "start_time": "2023-08-06T19:50:18.755Z"
      },
      {
        "duration": 10,
        "start_time": "2023-08-06T19:50:18.784Z"
      },
      {
        "duration": 20,
        "start_time": "2023-08-06T19:50:18.796Z"
      },
      {
        "duration": 19,
        "start_time": "2023-08-06T19:50:18.818Z"
      },
      {
        "duration": 9,
        "start_time": "2023-08-06T19:50:18.838Z"
      },
      {
        "duration": 17,
        "start_time": "2023-08-06T19:50:18.849Z"
      },
      {
        "duration": 8,
        "start_time": "2023-08-06T19:50:18.868Z"
      },
      {
        "duration": 11,
        "start_time": "2023-08-06T19:50:18.877Z"
      },
      {
        "duration": 11,
        "start_time": "2023-08-06T19:50:18.890Z"
      },
      {
        "duration": 11,
        "start_time": "2023-08-06T19:50:18.905Z"
      },
      {
        "duration": 39,
        "start_time": "2023-08-06T19:50:18.918Z"
      },
      {
        "duration": 10,
        "start_time": "2023-08-06T19:50:18.959Z"
      },
      {
        "duration": 12,
        "start_time": "2023-08-06T19:50:18.970Z"
      },
      {
        "duration": 7,
        "start_time": "2023-08-06T19:50:18.984Z"
      },
      {
        "duration": 7,
        "start_time": "2023-08-06T19:50:18.993Z"
      },
      {
        "duration": 5,
        "start_time": "2023-08-06T19:50:19.002Z"
      },
      {
        "duration": 555,
        "start_time": "2023-08-06T19:50:19.008Z"
      },
      {
        "duration": 5,
        "start_time": "2023-08-06T19:50:19.565Z"
      },
      {
        "duration": 9,
        "start_time": "2023-08-06T19:50:19.572Z"
      },
      {
        "duration": 16,
        "start_time": "2023-08-06T19:50:19.582Z"
      },
      {
        "duration": 4,
        "start_time": "2023-08-06T19:50:19.600Z"
      },
      {
        "duration": 5,
        "start_time": "2023-08-06T19:50:19.605Z"
      },
      {
        "duration": 522,
        "start_time": "2023-08-06T19:50:19.611Z"
      },
      {
        "duration": 9,
        "start_time": "2023-08-06T19:50:20.135Z"
      },
      {
        "duration": 17,
        "start_time": "2023-08-06T19:50:20.146Z"
      },
      {
        "duration": 12,
        "start_time": "2023-08-06T19:50:20.165Z"
      },
      {
        "duration": 15,
        "start_time": "2023-08-06T19:50:20.179Z"
      },
      {
        "duration": 6,
        "start_time": "2023-08-06T19:50:20.196Z"
      },
      {
        "duration": 5,
        "start_time": "2023-08-06T19:50:20.204Z"
      },
      {
        "duration": 4,
        "start_time": "2023-08-06T19:50:20.211Z"
      },
      {
        "duration": 12,
        "start_time": "2023-08-06T19:50:20.216Z"
      },
      {
        "duration": 26,
        "start_time": "2023-08-06T19:50:20.230Z"
      },
      {
        "duration": 8,
        "start_time": "2023-08-06T19:50:20.258Z"
      },
      {
        "duration": 10,
        "start_time": "2023-08-06T19:50:20.268Z"
      },
      {
        "duration": 6,
        "start_time": "2023-08-06T19:50:20.280Z"
      },
      {
        "duration": 7,
        "start_time": "2023-08-06T19:50:20.288Z"
      },
      {
        "duration": 14,
        "start_time": "2023-08-06T19:50:20.299Z"
      },
      {
        "duration": 45,
        "start_time": "2023-08-06T19:50:20.315Z"
      },
      {
        "duration": 357,
        "start_time": "2023-08-06T19:50:20.361Z"
      },
      {
        "duration": 5,
        "start_time": "2023-08-06T19:50:20.720Z"
      },
      {
        "duration": 15,
        "start_time": "2023-08-06T19:50:20.727Z"
      },
      {
        "duration": 14,
        "start_time": "2023-08-06T19:50:20.744Z"
      },
      {
        "duration": 14,
        "start_time": "2023-08-06T19:50:20.760Z"
      },
      {
        "duration": 32,
        "start_time": "2023-08-06T19:50:20.775Z"
      },
      {
        "duration": 409,
        "start_time": "2023-08-06T19:50:20.810Z"
      },
      {
        "duration": 9,
        "start_time": "2023-08-06T19:50:21.221Z"
      },
      {
        "duration": 9,
        "start_time": "2023-08-06T19:50:21.232Z"
      },
      {
        "duration": 21,
        "start_time": "2023-08-06T19:50:21.242Z"
      },
      {
        "duration": 17,
        "start_time": "2023-08-06T19:50:21.265Z"
      },
      {
        "duration": 49,
        "start_time": "2023-08-06T19:50:21.283Z"
      },
      {
        "duration": 5,
        "start_time": "2023-08-06T19:50:21.335Z"
      },
      {
        "duration": 28,
        "start_time": "2023-08-06T19:50:21.342Z"
      },
      {
        "duration": 3,
        "start_time": "2023-08-06T19:50:21.371Z"
      },
      {
        "duration": 13,
        "start_time": "2023-08-06T19:50:21.376Z"
      },
      {
        "duration": 8,
        "start_time": "2023-08-06T19:50:21.391Z"
      },
      {
        "duration": 361,
        "start_time": "2023-08-06T19:50:21.400Z"
      },
      {
        "duration": 336,
        "start_time": "2023-08-06T19:50:21.763Z"
      },
      {
        "duration": 359,
        "start_time": "2023-08-06T19:50:22.100Z"
      },
      {
        "duration": 6,
        "start_time": "2023-08-06T19:50:22.461Z"
      },
      {
        "duration": 17,
        "start_time": "2023-08-06T19:50:22.468Z"
      },
      {
        "duration": 456,
        "start_time": "2023-08-06T19:50:22.487Z"
      },
      {
        "duration": 19,
        "start_time": "2023-08-06T19:50:22.945Z"
      },
      {
        "duration": 38,
        "start_time": "2023-08-06T19:50:22.966Z"
      },
      {
        "duration": 28,
        "start_time": "2023-08-06T19:50:23.006Z"
      },
      {
        "duration": 16,
        "start_time": "2023-08-06T19:50:23.036Z"
      },
      {
        "duration": 38,
        "start_time": "2023-08-06T19:50:23.053Z"
      },
      {
        "duration": 36,
        "start_time": "2023-08-06T19:50:23.093Z"
      },
      {
        "duration": 2810,
        "start_time": "2023-08-06T19:50:23.131Z"
      },
      {
        "duration": 298,
        "start_time": "2023-08-06T19:50:25.943Z"
      },
      {
        "duration": 1035,
        "start_time": "2023-08-06T21:34:12.570Z"
      },
      {
        "duration": 77,
        "start_time": "2023-08-06T21:34:13.607Z"
      },
      {
        "duration": 10,
        "start_time": "2023-08-06T21:34:13.685Z"
      },
      {
        "duration": 9,
        "start_time": "2023-08-06T21:34:13.697Z"
      },
      {
        "duration": 68,
        "start_time": "2023-08-06T21:34:13.707Z"
      },
      {
        "duration": 7,
        "start_time": "2023-08-06T21:34:13.777Z"
      },
      {
        "duration": 26,
        "start_time": "2023-08-06T21:34:13.786Z"
      },
      {
        "duration": 54,
        "start_time": "2023-08-06T21:34:13.813Z"
      },
      {
        "duration": 7,
        "start_time": "2023-08-06T21:34:13.869Z"
      },
      {
        "duration": 13,
        "start_time": "2023-08-06T21:34:13.878Z"
      },
      {
        "duration": 6,
        "start_time": "2023-08-06T21:34:13.892Z"
      },
      {
        "duration": 5,
        "start_time": "2023-08-06T21:34:13.899Z"
      },
      {
        "duration": 11,
        "start_time": "2023-08-06T21:34:13.905Z"
      },
      {
        "duration": 9,
        "start_time": "2023-08-06T21:34:13.917Z"
      },
      {
        "duration": 9,
        "start_time": "2023-08-06T21:34:13.927Z"
      },
      {
        "duration": 7,
        "start_time": "2023-08-06T21:34:13.938Z"
      },
      {
        "duration": 8,
        "start_time": "2023-08-06T21:34:13.947Z"
      },
      {
        "duration": 4,
        "start_time": "2023-08-06T21:34:13.956Z"
      },
      {
        "duration": 5,
        "start_time": "2023-08-06T21:34:13.961Z"
      },
      {
        "duration": 4,
        "start_time": "2023-08-06T21:34:13.967Z"
      },
      {
        "duration": 422,
        "start_time": "2023-08-06T21:34:13.972Z"
      },
      {
        "duration": 5,
        "start_time": "2023-08-06T21:34:14.395Z"
      },
      {
        "duration": 6,
        "start_time": "2023-08-06T21:34:14.401Z"
      },
      {
        "duration": 7,
        "start_time": "2023-08-06T21:34:14.409Z"
      },
      {
        "duration": 4,
        "start_time": "2023-08-06T21:34:14.437Z"
      },
      {
        "duration": 5,
        "start_time": "2023-08-06T21:34:14.442Z"
      },
      {
        "duration": 483,
        "start_time": "2023-08-06T21:34:14.449Z"
      },
      {
        "duration": 7,
        "start_time": "2023-08-06T21:34:14.940Z"
      },
      {
        "duration": 5,
        "start_time": "2023-08-06T21:34:14.949Z"
      },
      {
        "duration": 8,
        "start_time": "2023-08-06T21:34:14.955Z"
      },
      {
        "duration": 4,
        "start_time": "2023-08-06T21:34:14.965Z"
      },
      {
        "duration": 5,
        "start_time": "2023-08-06T21:34:14.971Z"
      },
      {
        "duration": 5,
        "start_time": "2023-08-06T21:34:14.977Z"
      },
      {
        "duration": 5,
        "start_time": "2023-08-06T21:34:14.983Z"
      },
      {
        "duration": 51,
        "start_time": "2023-08-06T21:34:14.990Z"
      },
      {
        "duration": 10,
        "start_time": "2023-08-06T21:34:15.043Z"
      },
      {
        "duration": 21,
        "start_time": "2023-08-06T21:34:15.054Z"
      },
      {
        "duration": 14,
        "start_time": "2023-08-06T21:34:15.077Z"
      },
      {
        "duration": 14,
        "start_time": "2023-08-06T21:34:15.092Z"
      },
      {
        "duration": 4,
        "start_time": "2023-08-06T21:34:15.107Z"
      },
      {
        "duration": 14,
        "start_time": "2023-08-06T21:34:15.112Z"
      },
      {
        "duration": 17,
        "start_time": "2023-08-06T21:34:15.127Z"
      },
      {
        "duration": 293,
        "start_time": "2023-08-06T21:34:15.146Z"
      },
      {
        "duration": 3,
        "start_time": "2023-08-06T21:34:15.441Z"
      },
      {
        "duration": 9,
        "start_time": "2023-08-06T21:34:15.445Z"
      },
      {
        "duration": 6,
        "start_time": "2023-08-06T21:34:15.455Z"
      },
      {
        "duration": 3,
        "start_time": "2023-08-06T21:34:15.462Z"
      },
      {
        "duration": 4,
        "start_time": "2023-08-06T21:34:15.467Z"
      },
      {
        "duration": 349,
        "start_time": "2023-08-06T21:34:15.472Z"
      },
      {
        "duration": 15,
        "start_time": "2023-08-06T21:34:15.823Z"
      },
      {
        "duration": 4,
        "start_time": "2023-08-06T21:34:15.839Z"
      },
      {
        "duration": 9,
        "start_time": "2023-08-06T21:34:15.844Z"
      },
      {
        "duration": 3,
        "start_time": "2023-08-06T21:34:15.855Z"
      },
      {
        "duration": 21,
        "start_time": "2023-08-06T21:34:15.860Z"
      },
      {
        "duration": 4,
        "start_time": "2023-08-06T21:34:15.882Z"
      },
      {
        "duration": 23,
        "start_time": "2023-08-06T21:34:15.887Z"
      },
      {
        "duration": 3,
        "start_time": "2023-08-06T21:34:15.911Z"
      },
      {
        "duration": 37,
        "start_time": "2023-08-06T21:34:15.915Z"
      },
      {
        "duration": 5,
        "start_time": "2023-08-06T21:34:15.953Z"
      },
      {
        "duration": 300,
        "start_time": "2023-08-06T21:34:15.959Z"
      },
      {
        "duration": 308,
        "start_time": "2023-08-06T21:34:16.260Z"
      },
      {
        "duration": 300,
        "start_time": "2023-08-06T21:34:16.569Z"
      },
      {
        "duration": 5,
        "start_time": "2023-08-06T21:34:16.870Z"
      },
      {
        "duration": 21,
        "start_time": "2023-08-06T21:34:16.876Z"
      },
      {
        "duration": 387,
        "start_time": "2023-08-06T21:34:16.898Z"
      },
      {
        "duration": 11,
        "start_time": "2023-08-06T21:34:17.287Z"
      },
      {
        "duration": 12,
        "start_time": "2023-08-06T21:34:17.299Z"
      },
      {
        "duration": 11,
        "start_time": "2023-08-06T21:34:17.312Z"
      },
      {
        "duration": 13,
        "start_time": "2023-08-06T21:34:17.324Z"
      },
      {
        "duration": 19,
        "start_time": "2023-08-06T21:34:17.339Z"
      },
      {
        "duration": 9,
        "start_time": "2023-08-06T21:34:17.359Z"
      },
      {
        "duration": 2298,
        "start_time": "2023-08-06T21:34:17.369Z"
      },
      {
        "duration": 258,
        "start_time": "2023-08-06T21:34:19.668Z"
      },
      {
        "duration": 9,
        "start_time": "2023-08-06T21:38:58.576Z"
      },
      {
        "duration": 17,
        "start_time": "2023-08-06T21:41:53.324Z"
      },
      {
        "duration": 50,
        "start_time": "2023-08-07T12:57:42.905Z"
      },
      {
        "duration": 1326,
        "start_time": "2023-08-07T12:58:07.538Z"
      },
      {
        "duration": 89,
        "start_time": "2023-08-07T12:58:08.866Z"
      },
      {
        "duration": 13,
        "start_time": "2023-08-07T12:58:09.222Z"
      },
      {
        "duration": 12,
        "start_time": "2023-08-07T12:58:09.727Z"
      },
      {
        "duration": 81,
        "start_time": "2023-08-07T12:58:10.222Z"
      },
      {
        "duration": 9,
        "start_time": "2023-08-07T12:58:10.654Z"
      },
      {
        "duration": 13,
        "start_time": "2023-08-07T12:58:11.185Z"
      },
      {
        "duration": 67,
        "start_time": "2023-08-07T12:58:11.585Z"
      },
      {
        "duration": 8,
        "start_time": "2023-08-07T12:58:12.035Z"
      },
      {
        "duration": 10,
        "start_time": "2023-08-07T12:58:12.287Z"
      },
      {
        "duration": 8,
        "start_time": "2023-08-07T12:58:13.738Z"
      },
      {
        "duration": 5,
        "start_time": "2023-08-07T12:58:14.189Z"
      },
      {
        "duration": 1131,
        "start_time": "2023-08-07T12:58:15.486Z"
      },
      {
        "duration": 6,
        "start_time": "2023-08-07T12:58:31.169Z"
      },
      {
        "duration": 11,
        "start_time": "2023-08-07T12:58:31.466Z"
      },
      {
        "duration": 6,
        "start_time": "2023-08-07T12:59:14.181Z"
      },
      {
        "duration": 16,
        "start_time": "2023-08-07T13:01:26.227Z"
      },
      {
        "duration": 12,
        "start_time": "2023-08-07T13:07:17.092Z"
      },
      {
        "duration": 7,
        "start_time": "2023-08-07T13:07:21.908Z"
      },
      {
        "duration": 365,
        "start_time": "2023-08-07T13:07:54.709Z"
      },
      {
        "duration": 84,
        "start_time": "2023-08-07T13:09:38.534Z"
      },
      {
        "duration": 972,
        "start_time": "2023-08-07T13:11:42.495Z"
      },
      {
        "duration": 3505,
        "start_time": "2023-08-07T13:12:23.927Z"
      },
      {
        "duration": 798,
        "start_time": "2023-08-07T13:12:47.913Z"
      },
      {
        "duration": 376,
        "start_time": "2023-08-07T13:13:05.993Z"
      },
      {
        "duration": 4,
        "start_time": "2023-08-07T13:15:57.932Z"
      },
      {
        "duration": 9,
        "start_time": "2023-08-07T13:16:31.906Z"
      },
      {
        "duration": 3,
        "start_time": "2023-08-07T13:16:42.448Z"
      },
      {
        "duration": 5,
        "start_time": "2023-08-07T13:16:42.823Z"
      },
      {
        "duration": 4,
        "start_time": "2023-08-07T13:16:43.248Z"
      },
      {
        "duration": 5,
        "start_time": "2023-08-07T13:16:43.763Z"
      },
      {
        "duration": 12,
        "start_time": "2023-08-07T13:16:44.190Z"
      },
      {
        "duration": 11,
        "start_time": "2023-08-07T13:16:44.667Z"
      },
      {
        "duration": 13,
        "start_time": "2023-08-07T13:16:45.204Z"
      },
      {
        "duration": 4,
        "start_time": "2023-08-07T13:20:17.651Z"
      },
      {
        "duration": 4,
        "start_time": "2023-08-07T13:21:32.691Z"
      },
      {
        "duration": 6,
        "start_time": "2023-08-07T13:23:05.844Z"
      },
      {
        "duration": 5,
        "start_time": "2023-08-07T13:23:15.626Z"
      },
      {
        "duration": 6,
        "start_time": "2023-08-07T13:23:15.997Z"
      },
      {
        "duration": 14,
        "start_time": "2023-08-07T13:23:16.292Z"
      },
      {
        "duration": 12,
        "start_time": "2023-08-07T13:23:16.586Z"
      },
      {
        "duration": 13,
        "start_time": "2023-08-07T13:23:17.086Z"
      },
      {
        "duration": 4,
        "start_time": "2023-08-07T13:23:42.193Z"
      },
      {
        "duration": 10,
        "start_time": "2023-08-07T13:24:55.459Z"
      },
      {
        "duration": 9,
        "start_time": "2023-08-07T13:24:55.923Z"
      },
      {
        "duration": 5,
        "start_time": "2023-08-07T13:24:56.355Z"
      },
      {
        "duration": 13,
        "start_time": "2023-08-07T13:24:56.990Z"
      },
      {
        "duration": 12,
        "start_time": "2023-08-07T13:24:57.523Z"
      },
      {
        "duration": 341,
        "start_time": "2023-08-07T13:24:58.832Z"
      },
      {
        "duration": 9,
        "start_time": "2023-08-07T13:27:39.589Z"
      },
      {
        "duration": 25,
        "start_time": "2023-08-07T13:28:41.892Z"
      },
      {
        "duration": 5,
        "start_time": "2023-08-07T13:28:42.768Z"
      },
      {
        "duration": 29,
        "start_time": "2023-08-07T13:28:45.829Z"
      },
      {
        "duration": 4,
        "start_time": "2023-08-07T13:28:46.256Z"
      },
      {
        "duration": 12,
        "start_time": "2023-08-07T13:28:46.689Z"
      },
      {
        "duration": 5,
        "start_time": "2023-08-07T13:28:47.291Z"
      },
      {
        "duration": 486,
        "start_time": "2023-08-07T13:28:47.955Z"
      },
      {
        "duration": 369,
        "start_time": "2023-08-07T13:28:48.443Z"
      },
      {
        "duration": 326,
        "start_time": "2023-08-07T13:28:48.921Z"
      },
      {
        "duration": 6,
        "start_time": "2023-08-07T13:28:49.571Z"
      },
      {
        "duration": 14,
        "start_time": "2023-08-07T13:28:50.402Z"
      },
      {
        "duration": 485,
        "start_time": "2023-08-07T13:28:51.055Z"
      },
      {
        "duration": 4407,
        "start_time": "2023-08-07T13:34:44.304Z"
      },
      {
        "duration": 14,
        "start_time": "2023-08-07T13:34:54.600Z"
      },
      {
        "duration": 9,
        "start_time": "2023-08-07T13:34:55.367Z"
      },
      {
        "duration": 6,
        "start_time": "2023-08-07T13:34:56.342Z"
      },
      {
        "duration": 6,
        "start_time": "2023-08-07T13:36:22.995Z"
      },
      {
        "duration": 5,
        "start_time": "2023-08-07T13:37:19.371Z"
      },
      {
        "duration": 8,
        "start_time": "2023-08-07T13:41:12.209Z"
      },
      {
        "duration": 7,
        "start_time": "2023-08-07T13:42:32.988Z"
      },
      {
        "duration": 169,
        "start_time": "2023-08-07T13:45:23.403Z"
      },
      {
        "duration": 7,
        "start_time": "2023-08-07T13:45:36.485Z"
      },
      {
        "duration": 8,
        "start_time": "2023-08-07T13:54:21.410Z"
      },
      {
        "duration": 7,
        "start_time": "2023-08-07T13:55:47.254Z"
      },
      {
        "duration": 71,
        "start_time": "2023-08-07T13:59:51.602Z"
      },
      {
        "duration": 1255,
        "start_time": "2023-08-07T14:10:18.587Z"
      },
      {
        "duration": 31,
        "start_time": "2023-08-07T14:10:19.844Z"
      },
      {
        "duration": 18,
        "start_time": "2023-08-07T14:10:19.877Z"
      },
      {
        "duration": 33,
        "start_time": "2023-08-07T14:10:19.897Z"
      },
      {
        "duration": 32,
        "start_time": "2023-08-07T14:10:19.934Z"
      },
      {
        "duration": 10,
        "start_time": "2023-08-07T14:10:19.968Z"
      },
      {
        "duration": 23,
        "start_time": "2023-08-07T14:10:19.979Z"
      },
      {
        "duration": 23,
        "start_time": "2023-08-07T14:10:20.004Z"
      },
      {
        "duration": 8,
        "start_time": "2023-08-07T14:10:20.029Z"
      },
      {
        "duration": 25,
        "start_time": "2023-08-07T14:10:20.039Z"
      },
      {
        "duration": 18,
        "start_time": "2023-08-07T14:10:20.066Z"
      },
      {
        "duration": 9,
        "start_time": "2023-08-07T14:10:20.086Z"
      },
      {
        "duration": 30,
        "start_time": "2023-08-07T14:10:20.097Z"
      },
      {
        "duration": 18,
        "start_time": "2023-08-07T14:10:20.132Z"
      },
      {
        "duration": 38,
        "start_time": "2023-08-07T14:10:20.153Z"
      },
      {
        "duration": 20,
        "start_time": "2023-08-07T14:10:20.192Z"
      },
      {
        "duration": 14,
        "start_time": "2023-08-07T14:10:20.214Z"
      },
      {
        "duration": 20,
        "start_time": "2023-08-07T14:10:20.231Z"
      },
      {
        "duration": 6,
        "start_time": "2023-08-07T14:10:20.253Z"
      },
      {
        "duration": 22,
        "start_time": "2023-08-07T14:10:20.261Z"
      },
      {
        "duration": 31,
        "start_time": "2023-08-07T14:10:20.284Z"
      },
      {
        "duration": 381,
        "start_time": "2023-08-07T14:10:20.317Z"
      },
      {
        "duration": 9,
        "start_time": "2023-08-07T14:10:20.700Z"
      },
      {
        "duration": 109,
        "start_time": "2023-08-07T14:10:20.710Z"
      },
      {
        "duration": 6,
        "start_time": "2023-08-07T14:10:20.820Z"
      },
      {
        "duration": 28,
        "start_time": "2023-08-07T14:10:20.828Z"
      },
      {
        "duration": 19,
        "start_time": "2023-08-07T14:10:20.859Z"
      },
      {
        "duration": 6,
        "start_time": "2023-08-07T14:10:20.882Z"
      },
      {
        "duration": 13,
        "start_time": "2023-08-07T14:10:20.891Z"
      },
      {
        "duration": 1020,
        "start_time": "2023-08-07T14:10:20.906Z"
      },
      {
        "duration": 9,
        "start_time": "2023-08-07T14:10:21.928Z"
      },
      {
        "duration": 31,
        "start_time": "2023-08-07T14:10:21.939Z"
      },
      {
        "duration": 34,
        "start_time": "2023-08-07T14:10:21.972Z"
      },
      {
        "duration": 37,
        "start_time": "2023-08-07T14:10:22.008Z"
      },
      {
        "duration": 8,
        "start_time": "2023-08-07T14:10:22.047Z"
      },
      {
        "duration": 17,
        "start_time": "2023-08-07T14:10:22.057Z"
      },
      {
        "duration": 22,
        "start_time": "2023-08-07T14:10:22.076Z"
      },
      {
        "duration": 33,
        "start_time": "2023-08-07T14:10:22.100Z"
      },
      {
        "duration": 21,
        "start_time": "2023-08-07T14:10:22.135Z"
      },
      {
        "duration": 14,
        "start_time": "2023-08-07T14:10:22.159Z"
      },
      {
        "duration": 42,
        "start_time": "2023-08-07T14:10:22.180Z"
      },
      {
        "duration": 13,
        "start_time": "2023-08-07T14:10:22.225Z"
      },
      {
        "duration": 17,
        "start_time": "2023-08-07T14:10:22.240Z"
      },
      {
        "duration": 42,
        "start_time": "2023-08-07T14:10:22.258Z"
      },
      {
        "duration": 19,
        "start_time": "2023-08-07T14:10:22.302Z"
      },
      {
        "duration": 21,
        "start_time": "2023-08-07T14:10:22.323Z"
      },
      {
        "duration": 13,
        "start_time": "2023-08-07T14:10:22.346Z"
      },
      {
        "duration": 366,
        "start_time": "2023-08-07T14:10:22.361Z"
      },
      {
        "duration": 5,
        "start_time": "2023-08-07T14:10:22.728Z"
      },
      {
        "duration": 39,
        "start_time": "2023-08-07T14:10:22.734Z"
      },
      {
        "duration": 15,
        "start_time": "2023-08-07T14:10:22.774Z"
      },
      {
        "duration": 160,
        "start_time": "2023-08-07T14:10:22.791Z"
      },
      {
        "duration": 34,
        "start_time": "2023-08-07T14:10:22.953Z"
      },
      {
        "duration": 331,
        "start_time": "2023-08-07T14:10:22.988Z"
      },
      {
        "duration": 8,
        "start_time": "2023-08-07T14:10:23.321Z"
      },
      {
        "duration": 49,
        "start_time": "2023-08-07T14:10:23.331Z"
      },
      {
        "duration": 25,
        "start_time": "2023-08-07T14:10:23.382Z"
      },
      {
        "duration": 25,
        "start_time": "2023-08-07T14:10:23.409Z"
      },
      {
        "duration": 29,
        "start_time": "2023-08-07T14:10:23.435Z"
      },
      {
        "duration": 36,
        "start_time": "2023-08-07T14:10:23.466Z"
      },
      {
        "duration": 12,
        "start_time": "2023-08-07T14:10:23.504Z"
      },
      {
        "duration": 29,
        "start_time": "2023-08-07T14:10:23.518Z"
      },
      {
        "duration": 3,
        "start_time": "2023-08-07T14:10:23.549Z"
      },
      {
        "duration": 15,
        "start_time": "2023-08-07T14:10:23.554Z"
      },
      {
        "duration": 17,
        "start_time": "2023-08-07T14:10:23.571Z"
      },
      {
        "duration": 332,
        "start_time": "2023-08-07T14:10:23.589Z"
      },
      {
        "duration": 400,
        "start_time": "2023-08-07T14:10:23.923Z"
      },
      {
        "duration": 335,
        "start_time": "2023-08-07T14:10:24.325Z"
      },
      {
        "duration": 7,
        "start_time": "2023-08-07T14:10:24.662Z"
      },
      {
        "duration": 80,
        "start_time": "2023-08-07T14:10:24.671Z"
      },
      {
        "duration": 460,
        "start_time": "2023-08-07T14:10:24.754Z"
      },
      {
        "duration": 15,
        "start_time": "2023-08-07T14:10:25.216Z"
      },
      {
        "duration": 17,
        "start_time": "2023-08-07T14:10:25.233Z"
      },
      {
        "duration": 26,
        "start_time": "2023-08-07T14:10:25.252Z"
      },
      {
        "duration": 7,
        "start_time": "2023-08-07T14:10:25.279Z"
      },
      {
        "duration": 110,
        "start_time": "2023-08-07T14:10:25.288Z"
      },
      {
        "duration": 0,
        "start_time": "2023-08-07T14:10:25.400Z"
      },
      {
        "duration": 0,
        "start_time": "2023-08-07T14:10:25.408Z"
      },
      {
        "duration": 0,
        "start_time": "2023-08-07T14:10:25.409Z"
      },
      {
        "duration": 8,
        "start_time": "2023-08-07T14:11:10.611Z"
      },
      {
        "duration": 1264,
        "start_time": "2023-08-07T14:11:22.869Z"
      },
      {
        "duration": 32,
        "start_time": "2023-08-07T14:11:24.136Z"
      },
      {
        "duration": 16,
        "start_time": "2023-08-07T14:11:24.170Z"
      },
      {
        "duration": 35,
        "start_time": "2023-08-07T14:11:24.189Z"
      },
      {
        "duration": 54,
        "start_time": "2023-08-07T14:11:24.226Z"
      },
      {
        "duration": 18,
        "start_time": "2023-08-07T14:11:24.282Z"
      },
      {
        "duration": 56,
        "start_time": "2023-08-07T14:11:24.302Z"
      },
      {
        "duration": 49,
        "start_time": "2023-08-07T14:11:24.359Z"
      },
      {
        "duration": 37,
        "start_time": "2023-08-07T14:11:24.410Z"
      },
      {
        "duration": 40,
        "start_time": "2023-08-07T14:11:24.450Z"
      },
      {
        "duration": 67,
        "start_time": "2023-08-07T14:11:24.492Z"
      },
      {
        "duration": 55,
        "start_time": "2023-08-07T14:11:24.561Z"
      },
      {
        "duration": 29,
        "start_time": "2023-08-07T14:11:24.618Z"
      },
      {
        "duration": 23,
        "start_time": "2023-08-07T14:11:24.649Z"
      },
      {
        "duration": 53,
        "start_time": "2023-08-07T14:11:24.674Z"
      },
      {
        "duration": 11,
        "start_time": "2023-08-07T14:11:24.729Z"
      },
      {
        "duration": 16,
        "start_time": "2023-08-07T14:11:24.742Z"
      },
      {
        "duration": 20,
        "start_time": "2023-08-07T14:11:24.760Z"
      },
      {
        "duration": 6,
        "start_time": "2023-08-07T14:11:24.782Z"
      },
      {
        "duration": 42,
        "start_time": "2023-08-07T14:11:24.790Z"
      },
      {
        "duration": 27,
        "start_time": "2023-08-07T14:11:24.834Z"
      },
      {
        "duration": 371,
        "start_time": "2023-08-07T14:11:24.863Z"
      },
      {
        "duration": 7,
        "start_time": "2023-08-07T14:11:25.236Z"
      },
      {
        "duration": 103,
        "start_time": "2023-08-07T14:11:25.245Z"
      },
      {
        "duration": 5,
        "start_time": "2023-08-07T14:11:25.350Z"
      },
      {
        "duration": 30,
        "start_time": "2023-08-07T14:11:25.356Z"
      },
      {
        "duration": 27,
        "start_time": "2023-08-07T14:11:25.388Z"
      },
      {
        "duration": 21,
        "start_time": "2023-08-07T14:11:25.421Z"
      },
      {
        "duration": 7,
        "start_time": "2023-08-07T14:11:25.444Z"
      },
      {
        "duration": 1098,
        "start_time": "2023-08-07T14:11:25.453Z"
      },
      {
        "duration": 9,
        "start_time": "2023-08-07T14:11:26.553Z"
      },
      {
        "duration": 15,
        "start_time": "2023-08-07T14:11:26.563Z"
      },
      {
        "duration": 12,
        "start_time": "2023-08-07T14:11:26.579Z"
      },
      {
        "duration": 20,
        "start_time": "2023-08-07T14:11:26.592Z"
      },
      {
        "duration": 5,
        "start_time": "2023-08-07T14:11:26.614Z"
      },
      {
        "duration": 13,
        "start_time": "2023-08-07T14:11:26.620Z"
      },
      {
        "duration": 59,
        "start_time": "2023-08-07T14:11:26.635Z"
      },
      {
        "duration": 11,
        "start_time": "2023-08-07T14:11:26.696Z"
      },
      {
        "duration": 12,
        "start_time": "2023-08-07T14:11:26.709Z"
      },
      {
        "duration": 25,
        "start_time": "2023-08-07T14:11:26.723Z"
      },
      {
        "duration": 23,
        "start_time": "2023-08-07T14:11:26.750Z"
      },
      {
        "duration": 14,
        "start_time": "2023-08-07T14:11:26.776Z"
      },
      {
        "duration": 25,
        "start_time": "2023-08-07T14:11:26.792Z"
      },
      {
        "duration": 27,
        "start_time": "2023-08-07T14:11:26.818Z"
      },
      {
        "duration": 23,
        "start_time": "2023-08-07T14:11:26.847Z"
      },
      {
        "duration": 30,
        "start_time": "2023-08-07T14:11:26.871Z"
      },
      {
        "duration": 29,
        "start_time": "2023-08-07T14:11:26.903Z"
      },
      {
        "duration": 366,
        "start_time": "2023-08-07T14:11:26.933Z"
      },
      {
        "duration": 9,
        "start_time": "2023-08-07T14:11:27.301Z"
      },
      {
        "duration": 15,
        "start_time": "2023-08-07T14:11:27.312Z"
      },
      {
        "duration": 11,
        "start_time": "2023-08-07T14:11:27.329Z"
      },
      {
        "duration": 18,
        "start_time": "2023-08-07T14:11:27.342Z"
      },
      {
        "duration": 14,
        "start_time": "2023-08-07T14:11:27.362Z"
      },
      {
        "duration": 333,
        "start_time": "2023-08-07T14:11:27.378Z"
      },
      {
        "duration": 10,
        "start_time": "2023-08-07T14:11:27.713Z"
      },
      {
        "duration": 35,
        "start_time": "2023-08-07T14:11:27.725Z"
      },
      {
        "duration": 23,
        "start_time": "2023-08-07T14:11:27.762Z"
      },
      {
        "duration": 55,
        "start_time": "2023-08-07T14:11:27.787Z"
      },
      {
        "duration": 24,
        "start_time": "2023-08-07T14:11:27.843Z"
      },
      {
        "duration": 42,
        "start_time": "2023-08-07T14:11:27.868Z"
      },
      {
        "duration": 36,
        "start_time": "2023-08-07T14:11:27.912Z"
      },
      {
        "duration": 50,
        "start_time": "2023-08-07T14:11:27.950Z"
      },
      {
        "duration": 21,
        "start_time": "2023-08-07T14:11:28.002Z"
      },
      {
        "duration": 39,
        "start_time": "2023-08-07T14:11:28.024Z"
      },
      {
        "duration": 20,
        "start_time": "2023-08-07T14:11:28.064Z"
      },
      {
        "duration": 360,
        "start_time": "2023-08-07T14:11:28.086Z"
      },
      {
        "duration": 364,
        "start_time": "2023-08-07T14:11:28.447Z"
      },
      {
        "duration": 310,
        "start_time": "2023-08-07T14:11:28.813Z"
      },
      {
        "duration": 6,
        "start_time": "2023-08-07T14:11:29.124Z"
      },
      {
        "duration": 46,
        "start_time": "2023-08-07T14:11:29.132Z"
      },
      {
        "duration": 495,
        "start_time": "2023-08-07T14:11:29.179Z"
      },
      {
        "duration": 15,
        "start_time": "2023-08-07T14:11:29.676Z"
      },
      {
        "duration": 15,
        "start_time": "2023-08-07T14:11:29.708Z"
      },
      {
        "duration": 28,
        "start_time": "2023-08-07T14:11:29.725Z"
      },
      {
        "duration": 25,
        "start_time": "2023-08-07T14:11:29.755Z"
      },
      {
        "duration": 36,
        "start_time": "2023-08-07T14:11:29.782Z"
      },
      {
        "duration": 46,
        "start_time": "2023-08-07T14:11:29.820Z"
      },
      {
        "duration": 3074,
        "start_time": "2023-08-07T14:11:29.868Z"
      },
      {
        "duration": 295,
        "start_time": "2023-08-07T14:11:32.943Z"
      },
      {
        "duration": 1272,
        "start_time": "2023-08-07T16:59:02.773Z"
      },
      {
        "duration": 31,
        "start_time": "2023-08-07T16:59:04.047Z"
      },
      {
        "duration": 17,
        "start_time": "2023-08-07T16:59:04.080Z"
      },
      {
        "duration": 15,
        "start_time": "2023-08-07T16:59:04.099Z"
      },
      {
        "duration": 37,
        "start_time": "2023-08-07T16:59:04.116Z"
      },
      {
        "duration": 17,
        "start_time": "2023-08-07T16:59:04.155Z"
      },
      {
        "duration": 38,
        "start_time": "2023-08-07T16:59:04.174Z"
      },
      {
        "duration": 78,
        "start_time": "2023-08-07T16:59:04.213Z"
      },
      {
        "duration": 74,
        "start_time": "2023-08-07T16:59:04.293Z"
      },
      {
        "duration": 59,
        "start_time": "2023-08-07T16:59:04.370Z"
      },
      {
        "duration": 29,
        "start_time": "2023-08-07T16:59:04.431Z"
      },
      {
        "duration": 51,
        "start_time": "2023-08-07T16:59:04.461Z"
      },
      {
        "duration": 99,
        "start_time": "2023-08-07T16:59:04.514Z"
      },
      {
        "duration": 106,
        "start_time": "2023-08-07T16:59:04.615Z"
      },
      {
        "duration": 27,
        "start_time": "2023-08-07T16:59:04.722Z"
      },
      {
        "duration": 28,
        "start_time": "2023-08-07T16:59:04.751Z"
      },
      {
        "duration": 15,
        "start_time": "2023-08-07T16:59:04.780Z"
      },
      {
        "duration": 27,
        "start_time": "2023-08-07T16:59:04.797Z"
      },
      {
        "duration": 16,
        "start_time": "2023-08-07T16:59:04.826Z"
      },
      {
        "duration": 13,
        "start_time": "2023-08-07T16:59:04.843Z"
      },
      {
        "duration": 10,
        "start_time": "2023-08-07T16:59:04.857Z"
      },
      {
        "duration": 353,
        "start_time": "2023-08-07T16:59:04.869Z"
      },
      {
        "duration": 7,
        "start_time": "2023-08-07T16:59:05.224Z"
      },
      {
        "duration": 102,
        "start_time": "2023-08-07T16:59:05.233Z"
      },
      {
        "duration": 6,
        "start_time": "2023-08-07T16:59:05.337Z"
      },
      {
        "duration": 9,
        "start_time": "2023-08-07T16:59:05.345Z"
      },
      {
        "duration": 25,
        "start_time": "2023-08-07T16:59:05.356Z"
      },
      {
        "duration": 8,
        "start_time": "2023-08-07T16:59:05.386Z"
      },
      {
        "duration": 18,
        "start_time": "2023-08-07T16:59:05.396Z"
      },
      {
        "duration": 1085,
        "start_time": "2023-08-07T16:59:05.416Z"
      },
      {
        "duration": 10,
        "start_time": "2023-08-07T16:59:06.509Z"
      },
      {
        "duration": 93,
        "start_time": "2023-08-07T16:59:06.521Z"
      },
      {
        "duration": 48,
        "start_time": "2023-08-07T16:59:06.616Z"
      },
      {
        "duration": 16,
        "start_time": "2023-08-07T16:59:06.666Z"
      },
      {
        "duration": 27,
        "start_time": "2023-08-07T16:59:06.684Z"
      },
      {
        "duration": 22,
        "start_time": "2023-08-07T16:59:06.712Z"
      },
      {
        "duration": 53,
        "start_time": "2023-08-07T16:59:06.736Z"
      },
      {
        "duration": 30,
        "start_time": "2023-08-07T16:59:06.791Z"
      },
      {
        "duration": 177,
        "start_time": "2023-08-07T16:59:06.823Z"
      },
      {
        "duration": 59,
        "start_time": "2023-08-07T16:59:07.002Z"
      },
      {
        "duration": 110,
        "start_time": "2023-08-07T16:59:07.063Z"
      },
      {
        "duration": 28,
        "start_time": "2023-08-07T16:59:07.174Z"
      },
      {
        "duration": 16,
        "start_time": "2023-08-07T16:59:07.204Z"
      },
      {
        "duration": 16,
        "start_time": "2023-08-07T16:59:07.222Z"
      },
      {
        "duration": 20,
        "start_time": "2023-08-07T16:59:07.240Z"
      },
      {
        "duration": 26,
        "start_time": "2023-08-07T16:59:07.261Z"
      },
      {
        "duration": 13,
        "start_time": "2023-08-07T16:59:07.289Z"
      },
      {
        "duration": 378,
        "start_time": "2023-08-07T16:59:07.309Z"
      },
      {
        "duration": 4,
        "start_time": "2023-08-07T16:59:07.689Z"
      },
      {
        "duration": 32,
        "start_time": "2023-08-07T16:59:07.695Z"
      },
      {
        "duration": 20,
        "start_time": "2023-08-07T16:59:07.729Z"
      },
      {
        "duration": 10,
        "start_time": "2023-08-07T16:59:07.751Z"
      },
      {
        "duration": 17,
        "start_time": "2023-08-07T16:59:07.763Z"
      },
      {
        "duration": 459,
        "start_time": "2023-08-07T16:59:07.782Z"
      },
      {
        "duration": 66,
        "start_time": "2023-08-07T16:59:08.244Z"
      },
      {
        "duration": 6,
        "start_time": "2023-08-07T16:59:08.313Z"
      },
      {
        "duration": 167,
        "start_time": "2023-08-07T16:59:08.321Z"
      },
      {
        "duration": 32,
        "start_time": "2023-08-07T16:59:08.508Z"
      },
      {
        "duration": 11,
        "start_time": "2023-08-07T16:59:08.542Z"
      },
      {
        "duration": 70,
        "start_time": "2023-08-07T16:59:08.554Z"
      },
      {
        "duration": 5,
        "start_time": "2023-08-07T16:59:08.626Z"
      },
      {
        "duration": 43,
        "start_time": "2023-08-07T16:59:08.632Z"
      },
      {
        "duration": 27,
        "start_time": "2023-08-07T16:59:08.677Z"
      },
      {
        "duration": 41,
        "start_time": "2023-08-07T16:59:08.706Z"
      },
      {
        "duration": 38,
        "start_time": "2023-08-07T16:59:08.748Z"
      },
      {
        "duration": 428,
        "start_time": "2023-08-07T16:59:08.788Z"
      },
      {
        "duration": 371,
        "start_time": "2023-08-07T16:59:09.218Z"
      },
      {
        "duration": 308,
        "start_time": "2023-08-07T16:59:09.590Z"
      },
      {
        "duration": 10,
        "start_time": "2023-08-07T16:59:09.900Z"
      },
      {
        "duration": 23,
        "start_time": "2023-08-07T16:59:09.912Z"
      },
      {
        "duration": 477,
        "start_time": "2023-08-07T16:59:09.937Z"
      },
      {
        "duration": 13,
        "start_time": "2023-08-07T16:59:10.416Z"
      },
      {
        "duration": 20,
        "start_time": "2023-08-07T16:59:10.431Z"
      },
      {
        "duration": 34,
        "start_time": "2023-08-07T16:59:10.452Z"
      },
      {
        "duration": 7,
        "start_time": "2023-08-07T16:59:10.488Z"
      },
      {
        "duration": 8,
        "start_time": "2023-08-07T16:59:10.497Z"
      },
      {
        "duration": 12,
        "start_time": "2023-08-07T16:59:10.506Z"
      },
      {
        "duration": 2854,
        "start_time": "2023-08-07T16:59:10.520Z"
      },
      {
        "duration": 322,
        "start_time": "2023-08-07T16:59:13.376Z"
      },
      {
        "duration": 64,
        "start_time": "2023-08-07T17:39:22.781Z"
      },
      {
        "duration": 1345,
        "start_time": "2023-08-07T17:39:30.991Z"
      },
      {
        "duration": 87,
        "start_time": "2023-08-07T17:39:32.763Z"
      },
      {
        "duration": 12,
        "start_time": "2023-08-07T17:39:33.144Z"
      },
      {
        "duration": 12,
        "start_time": "2023-08-07T17:39:33.679Z"
      },
      {
        "duration": 80,
        "start_time": "2023-08-07T17:39:34.331Z"
      },
      {
        "duration": 9,
        "start_time": "2023-08-07T17:39:34.842Z"
      },
      {
        "duration": 11,
        "start_time": "2023-08-07T17:39:35.873Z"
      },
      {
        "duration": 65,
        "start_time": "2023-08-07T17:39:36.521Z"
      },
      {
        "duration": 8,
        "start_time": "2023-08-07T17:39:37.781Z"
      },
      {
        "duration": 11,
        "start_time": "2023-08-07T17:39:38.337Z"
      },
      {
        "duration": 8,
        "start_time": "2023-08-07T17:39:41.687Z"
      },
      {
        "duration": 5,
        "start_time": "2023-08-07T17:39:42.280Z"
      },
      {
        "duration": 7,
        "start_time": "2023-08-07T17:39:43.637Z"
      },
      {
        "duration": 15,
        "start_time": "2023-08-07T17:40:00.531Z"
      },
      {
        "duration": 13,
        "start_time": "2023-08-07T17:40:17.978Z"
      },
      {
        "duration": 13,
        "start_time": "2023-08-07T17:40:28.899Z"
      },
      {
        "duration": 10,
        "start_time": "2023-08-07T17:40:40.719Z"
      },
      {
        "duration": 9,
        "start_time": "2023-08-07T17:41:01.725Z"
      },
      {
        "duration": 7,
        "start_time": "2023-08-07T17:41:15.524Z"
      },
      {
        "duration": 5,
        "start_time": "2023-08-07T17:41:27.928Z"
      },
      {
        "duration": 9,
        "start_time": "2023-08-07T17:41:55.661Z"
      },
      {
        "duration": 63,
        "start_time": "2023-08-07T17:42:22.819Z"
      },
      {
        "duration": 1229,
        "start_time": "2023-08-07T17:42:32.480Z"
      },
      {
        "duration": 31,
        "start_time": "2023-08-07T17:42:33.710Z"
      },
      {
        "duration": 14,
        "start_time": "2023-08-07T17:42:33.743Z"
      },
      {
        "duration": 14,
        "start_time": "2023-08-07T17:42:33.758Z"
      },
      {
        "duration": 38,
        "start_time": "2023-08-07T17:42:33.774Z"
      },
      {
        "duration": 9,
        "start_time": "2023-08-07T17:42:33.814Z"
      },
      {
        "duration": 14,
        "start_time": "2023-08-07T17:42:33.824Z"
      },
      {
        "duration": 19,
        "start_time": "2023-08-07T17:42:33.840Z"
      },
      {
        "duration": 7,
        "start_time": "2023-08-07T17:42:33.861Z"
      },
      {
        "duration": 19,
        "start_time": "2023-08-07T17:42:33.870Z"
      },
      {
        "duration": 20,
        "start_time": "2023-08-07T17:42:33.890Z"
      },
      {
        "duration": 5,
        "start_time": "2023-08-07T17:42:33.912Z"
      },
      {
        "duration": 13,
        "start_time": "2023-08-07T17:42:33.918Z"
      },
      {
        "duration": 12,
        "start_time": "2023-08-07T17:42:33.935Z"
      },
      {
        "duration": 19,
        "start_time": "2023-08-07T17:42:33.949Z"
      },
      {
        "duration": 18,
        "start_time": "2023-08-07T17:42:33.970Z"
      },
      {
        "duration": 13,
        "start_time": "2023-08-07T17:42:34.008Z"
      },
      {
        "duration": 13,
        "start_time": "2023-08-07T17:42:34.023Z"
      },
      {
        "duration": 5,
        "start_time": "2023-08-07T17:42:34.038Z"
      },
      {
        "duration": 7,
        "start_time": "2023-08-07T17:42:34.045Z"
      },
      {
        "duration": 5,
        "start_time": "2023-08-07T17:42:34.055Z"
      },
      {
        "duration": 370,
        "start_time": "2023-08-07T17:42:34.061Z"
      },
      {
        "duration": 8,
        "start_time": "2023-08-07T17:42:34.433Z"
      },
      {
        "duration": 97,
        "start_time": "2023-08-07T17:42:34.442Z"
      },
      {
        "duration": 7,
        "start_time": "2023-08-07T17:42:34.540Z"
      },
      {
        "duration": 9,
        "start_time": "2023-08-07T17:42:34.548Z"
      },
      {
        "duration": 15,
        "start_time": "2023-08-07T17:42:34.558Z"
      },
      {
        "duration": 8,
        "start_time": "2023-08-07T17:42:34.574Z"
      },
      {
        "duration": 25,
        "start_time": "2023-08-07T17:42:34.584Z"
      },
      {
        "duration": 1015,
        "start_time": "2023-08-07T17:42:34.611Z"
      },
      {
        "duration": 8,
        "start_time": "2023-08-07T17:42:35.628Z"
      },
      {
        "duration": 10,
        "start_time": "2023-08-07T17:42:35.638Z"
      },
      {
        "duration": 9,
        "start_time": "2023-08-07T17:42:35.650Z"
      },
      {
        "duration": 5,
        "start_time": "2023-08-07T17:42:35.660Z"
      },
      {
        "duration": 44,
        "start_time": "2023-08-07T17:42:35.667Z"
      },
      {
        "duration": 5,
        "start_time": "2023-08-07T17:42:35.712Z"
      },
      {
        "duration": 8,
        "start_time": "2023-08-07T17:42:35.719Z"
      },
      {
        "duration": 8,
        "start_time": "2023-08-07T17:42:35.729Z"
      },
      {
        "duration": 21,
        "start_time": "2023-08-07T17:42:35.739Z"
      },
      {
        "duration": 34,
        "start_time": "2023-08-07T17:42:35.762Z"
      },
      {
        "duration": 20,
        "start_time": "2023-08-07T17:42:35.802Z"
      },
      {
        "duration": 52,
        "start_time": "2023-08-07T17:42:35.824Z"
      },
      {
        "duration": 39,
        "start_time": "2023-08-07T17:42:35.879Z"
      },
      {
        "duration": 66,
        "start_time": "2023-08-07T17:42:35.921Z"
      },
      {
        "duration": 62,
        "start_time": "2023-08-07T17:42:35.989Z"
      },
      {
        "duration": 44,
        "start_time": "2023-08-07T17:42:36.053Z"
      },
      {
        "duration": 22,
        "start_time": "2023-08-07T17:42:36.099Z"
      },
      {
        "duration": 366,
        "start_time": "2023-08-07T17:42:36.123Z"
      },
      {
        "duration": 4,
        "start_time": "2023-08-07T17:42:36.491Z"
      },
      {
        "duration": 24,
        "start_time": "2023-08-07T17:42:36.497Z"
      },
      {
        "duration": 14,
        "start_time": "2023-08-07T17:42:36.523Z"
      },
      {
        "duration": 17,
        "start_time": "2023-08-07T17:42:36.538Z"
      },
      {
        "duration": 18,
        "start_time": "2023-08-07T17:42:36.556Z"
      },
      {
        "duration": 347,
        "start_time": "2023-08-07T17:42:36.576Z"
      },
      {
        "duration": 8,
        "start_time": "2023-08-07T17:42:36.925Z"
      },
      {
        "duration": 44,
        "start_time": "2023-08-07T17:42:36.935Z"
      },
      {
        "duration": 22,
        "start_time": "2023-08-07T17:42:36.980Z"
      },
      {
        "duration": 30,
        "start_time": "2023-08-07T17:42:37.003Z"
      },
      {
        "duration": 34,
        "start_time": "2023-08-07T17:42:37.035Z"
      },
      {
        "duration": 106,
        "start_time": "2023-08-07T17:42:37.071Z"
      },
      {
        "duration": 110,
        "start_time": "2023-08-07T17:42:37.179Z"
      },
      {
        "duration": 71,
        "start_time": "2023-08-07T17:42:37.291Z"
      },
      {
        "duration": 33,
        "start_time": "2023-08-07T17:42:37.364Z"
      },
      {
        "duration": 42,
        "start_time": "2023-08-07T17:42:37.399Z"
      },
      {
        "duration": 20,
        "start_time": "2023-08-07T17:42:37.443Z"
      },
      {
        "duration": 355,
        "start_time": "2023-08-07T17:42:37.464Z"
      },
      {
        "duration": 382,
        "start_time": "2023-08-07T17:42:37.820Z"
      },
      {
        "duration": 314,
        "start_time": "2023-08-07T17:42:38.203Z"
      },
      {
        "duration": 6,
        "start_time": "2023-08-07T17:42:38.519Z"
      },
      {
        "duration": 42,
        "start_time": "2023-08-07T17:42:38.526Z"
      },
      {
        "duration": 510,
        "start_time": "2023-08-07T17:42:38.570Z"
      },
      {
        "duration": 14,
        "start_time": "2023-08-07T17:42:39.082Z"
      },
      {
        "duration": 21,
        "start_time": "2023-08-07T17:42:39.098Z"
      },
      {
        "duration": 13,
        "start_time": "2023-08-07T17:42:39.121Z"
      },
      {
        "duration": 19,
        "start_time": "2023-08-07T17:42:39.136Z"
      },
      {
        "duration": 36,
        "start_time": "2023-08-07T17:42:39.157Z"
      },
      {
        "duration": 24,
        "start_time": "2023-08-07T17:42:39.195Z"
      },
      {
        "duration": 3034,
        "start_time": "2023-08-07T17:42:39.221Z"
      },
      {
        "duration": 289,
        "start_time": "2023-08-07T17:42:42.257Z"
      },
      {
        "duration": 6,
        "start_time": "2023-08-07T17:43:08.918Z"
      },
      {
        "duration": 8,
        "start_time": "2023-08-07T17:44:17.036Z"
      },
      {
        "duration": 9,
        "start_time": "2023-08-07T17:44:22.299Z"
      },
      {
        "duration": 13,
        "start_time": "2023-08-07T17:45:20.385Z"
      },
      {
        "duration": 3,
        "start_time": "2023-08-07T17:59:11.426Z"
      },
      {
        "duration": 6,
        "start_time": "2023-08-07T18:00:21.323Z"
      },
      {
        "duration": 9,
        "start_time": "2023-08-07T18:00:57.380Z"
      },
      {
        "duration": 1114,
        "start_time": "2023-08-07T19:21:41.302Z"
      },
      {
        "duration": 79,
        "start_time": "2023-08-07T19:21:42.418Z"
      },
      {
        "duration": 13,
        "start_time": "2023-08-07T19:21:42.498Z"
      },
      {
        "duration": 11,
        "start_time": "2023-08-07T19:21:42.512Z"
      },
      {
        "duration": 72,
        "start_time": "2023-08-07T19:21:42.525Z"
      },
      {
        "duration": 10,
        "start_time": "2023-08-07T19:21:42.599Z"
      },
      {
        "duration": 15,
        "start_time": "2023-08-07T19:21:42.611Z"
      },
      {
        "duration": 55,
        "start_time": "2023-08-07T19:21:42.628Z"
      },
      {
        "duration": 8,
        "start_time": "2023-08-07T19:21:42.685Z"
      },
      {
        "duration": 15,
        "start_time": "2023-08-07T19:21:42.695Z"
      },
      {
        "duration": 13,
        "start_time": "2023-08-07T19:21:42.711Z"
      },
      {
        "duration": 21,
        "start_time": "2023-08-07T19:21:42.726Z"
      },
      {
        "duration": 11,
        "start_time": "2023-08-07T19:21:42.749Z"
      },
      {
        "duration": 11,
        "start_time": "2023-08-07T19:21:42.764Z"
      },
      {
        "duration": 18,
        "start_time": "2023-08-07T19:21:42.777Z"
      },
      {
        "duration": 200,
        "start_time": "2023-08-07T19:21:42.797Z"
      },
      {
        "duration": 11,
        "start_time": "2023-08-07T19:21:42.998Z"
      },
      {
        "duration": 36,
        "start_time": "2023-08-07T19:21:43.011Z"
      },
      {
        "duration": 5,
        "start_time": "2023-08-07T19:21:43.049Z"
      },
      {
        "duration": 8,
        "start_time": "2023-08-07T19:21:43.056Z"
      },
      {
        "duration": 8,
        "start_time": "2023-08-07T19:21:43.066Z"
      },
      {
        "duration": 333,
        "start_time": "2023-08-07T19:21:43.075Z"
      },
      {
        "duration": 9,
        "start_time": "2023-08-07T19:21:43.410Z"
      },
      {
        "duration": 90,
        "start_time": "2023-08-07T19:21:43.420Z"
      },
      {
        "duration": 5,
        "start_time": "2023-08-07T19:21:43.512Z"
      },
      {
        "duration": 13,
        "start_time": "2023-08-07T19:21:43.519Z"
      },
      {
        "duration": 18,
        "start_time": "2023-08-07T19:21:43.533Z"
      },
      {
        "duration": 6,
        "start_time": "2023-08-07T19:21:43.552Z"
      },
      {
        "duration": 15,
        "start_time": "2023-08-07T19:21:43.559Z"
      },
      {
        "duration": 1043,
        "start_time": "2023-08-07T19:21:43.575Z"
      },
      {
        "duration": 9,
        "start_time": "2023-08-07T19:21:44.619Z"
      },
      {
        "duration": 6,
        "start_time": "2023-08-07T19:21:44.630Z"
      },
      {
        "duration": 18,
        "start_time": "2023-08-07T19:21:44.638Z"
      },
      {
        "duration": 6,
        "start_time": "2023-08-07T19:21:44.658Z"
      },
      {
        "duration": 32,
        "start_time": "2023-08-07T19:21:44.665Z"
      },
      {
        "duration": 11,
        "start_time": "2023-08-07T19:21:44.698Z"
      },
      {
        "duration": 17,
        "start_time": "2023-08-07T19:21:44.711Z"
      },
      {
        "duration": 45,
        "start_time": "2023-08-07T19:21:44.729Z"
      },
      {
        "duration": 24,
        "start_time": "2023-08-07T19:21:44.776Z"
      },
      {
        "duration": 17,
        "start_time": "2023-08-07T19:21:44.801Z"
      },
      {
        "duration": 33,
        "start_time": "2023-08-07T19:21:44.822Z"
      },
      {
        "duration": 21,
        "start_time": "2023-08-07T19:21:44.857Z"
      },
      {
        "duration": 21,
        "start_time": "2023-08-07T19:21:44.880Z"
      },
      {
        "duration": 11,
        "start_time": "2023-08-07T19:21:44.903Z"
      },
      {
        "duration": 18,
        "start_time": "2023-08-07T19:21:44.915Z"
      },
      {
        "duration": 22,
        "start_time": "2023-08-07T19:21:44.935Z"
      },
      {
        "duration": 10,
        "start_time": "2023-08-07T19:21:44.959Z"
      },
      {
        "duration": 345,
        "start_time": "2023-08-07T19:21:44.971Z"
      },
      {
        "duration": 4,
        "start_time": "2023-08-07T19:21:45.318Z"
      },
      {
        "duration": 14,
        "start_time": "2023-08-07T19:21:45.323Z"
      },
      {
        "duration": 8,
        "start_time": "2023-08-07T19:21:45.338Z"
      },
      {
        "duration": 4,
        "start_time": "2023-08-07T19:21:45.347Z"
      },
      {
        "duration": 6,
        "start_time": "2023-08-07T19:21:45.352Z"
      },
      {
        "duration": 345,
        "start_time": "2023-08-07T19:21:45.359Z"
      },
      {
        "duration": 7,
        "start_time": "2023-08-07T19:21:45.709Z"
      },
      {
        "duration": 27,
        "start_time": "2023-08-07T19:21:45.717Z"
      },
      {
        "duration": 30,
        "start_time": "2023-08-07T19:21:45.745Z"
      },
      {
        "duration": 4,
        "start_time": "2023-08-07T19:21:45.776Z"
      },
      {
        "duration": 15,
        "start_time": "2023-08-07T19:21:45.782Z"
      },
      {
        "duration": 23,
        "start_time": "2023-08-07T19:21:45.798Z"
      },
      {
        "duration": 4,
        "start_time": "2023-08-07T19:21:45.822Z"
      },
      {
        "duration": 29,
        "start_time": "2023-08-07T19:21:45.827Z"
      },
      {
        "duration": 3,
        "start_time": "2023-08-07T19:21:45.858Z"
      },
      {
        "duration": 25,
        "start_time": "2023-08-07T19:21:45.865Z"
      },
      {
        "duration": 19,
        "start_time": "2023-08-07T19:21:45.892Z"
      },
      {
        "duration": 383,
        "start_time": "2023-08-07T19:21:45.912Z"
      },
      {
        "duration": 324,
        "start_time": "2023-08-07T19:21:46.297Z"
      },
      {
        "duration": 406,
        "start_time": "2023-08-07T19:21:46.622Z"
      },
      {
        "duration": 6,
        "start_time": "2023-08-07T19:21:47.030Z"
      },
      {
        "duration": 17,
        "start_time": "2023-08-07T19:21:47.037Z"
      },
      {
        "duration": 447,
        "start_time": "2023-08-07T19:21:47.056Z"
      },
      {
        "duration": 17,
        "start_time": "2023-08-07T19:21:47.505Z"
      },
      {
        "duration": 81,
        "start_time": "2023-08-07T19:21:47.524Z"
      },
      {
        "duration": 58,
        "start_time": "2023-08-07T19:21:47.607Z"
      },
      {
        "duration": 19,
        "start_time": "2023-08-07T19:21:47.667Z"
      },
      {
        "duration": 12,
        "start_time": "2023-08-07T19:21:47.688Z"
      },
      {
        "duration": 6,
        "start_time": "2023-08-07T19:21:47.702Z"
      },
      {
        "duration": 13,
        "start_time": "2023-08-07T19:21:47.709Z"
      },
      {
        "duration": 3027,
        "start_time": "2023-08-07T19:21:47.724Z"
      },
      {
        "duration": 271,
        "start_time": "2023-08-07T19:21:50.753Z"
      }
    ],
    "kernelspec": {
      "display_name": "Python 3 (ipykernel)",
      "language": "python",
      "name": "python3"
    },
    "language_info": {
      "codemirror_mode": {
        "name": "ipython",
        "version": 3
      },
      "file_extension": ".py",
      "mimetype": "text/x-python",
      "name": "python",
      "nbconvert_exporter": "python",
      "pygments_lexer": "ipython3",
      "version": "3.9.5"
    },
    "toc": {
      "base_numbering": 1,
      "nav_menu": {},
      "number_sections": true,
      "sideBar": true,
      "skip_h1_title": true,
      "title_cell": "Table of Contents",
      "title_sidebar": "Contents",
      "toc_cell": false,
      "toc_position": {
        "height": "625px",
        "left": "42px",
        "top": "165.141px",
        "width": "289.391px"
      },
      "toc_section_display": true,
      "toc_window_display": true
    },
    "colab": {
      "provenance": []
    }
  },
  "nbformat": 4,
  "nbformat_minor": 5
}
